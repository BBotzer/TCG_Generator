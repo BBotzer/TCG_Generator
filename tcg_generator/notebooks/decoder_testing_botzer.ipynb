{
 "cells": [
  {
   "cell_type": "markdown",
   "metadata": {},
   "source": [
    "Initial Testing of a Decoder-only (GPT style) architecture."
   ]
  },
  {
   "cell_type": "markdown",
   "metadata": {},
   "source": [
    "# NOTE:\n",
    "\n",
    "The training of the tokenizer and other items was done on the FULL dataset.  This causes a data leak and proper train/val/test splitting should be done in the final product."
   ]
  },
  {
   "cell_type": "markdown",
   "metadata": {},
   "source": [
    "# Imports"
   ]
  },
  {
   "cell_type": "code",
   "execution_count": null,
   "metadata": {},
   "outputs": [],
   "source": [
    "import os\n",
    "\n",
    "import tokenizers\n",
    "from tokenizers import Tokenizer, models, pre_tokenizers, trainers\n",
    "\n",
    "import transformers\n",
    "from transformers import GPT2Config, GPT2LMHeadModel, GPT2Tokenizer\n",
    "from transformers import AutoTokenizer, BertForSequenceClassification, Trainer, TrainingArguments, DataCollatorWithPadding\n",
    "from datasets import Dataset, load_dataset, load_metric\n",
    "\n",
    "\n",
    "import ast # Because the tokenized_text column data is stored as a string instead of a list...\n",
    "import pandas as pd\n"
   ]
  },
  {
   "cell_type": "markdown",
   "metadata": {},
   "source": [
    "# Grab the dataset"
   ]
  },
  {
   "cell_type": "markdown",
   "metadata": {},
   "source": [
    "1) Get the dataset\n",
    "2) Fix the tokenize_text column from a string to a list of strings\n",
    "3) Pull out all of the words into a mega-list"
   ]
  },
  {
   "cell_type": "code",
   "execution_count": null,
   "metadata": {},
   "outputs": [],
   "source": [
    "# Read the processed card data from wherever you have it.\n",
    "\n",
    "# df = pd.read_csv('../data/processed/mtg_carddata_processed.csv')\n",
    "df = pd.read_csv('../data_git/mtg_carddata_processed_2_23_25.csv')"
   ]
  },
  {
   "cell_type": "code",
   "execution_count": 37,
   "metadata": {},
   "outputs": [
    {
     "data": {
      "text/html": [
       "<div>\n",
       "<style scoped>\n",
       "    .dataframe tbody tr th:only-of-type {\n",
       "        vertical-align: middle;\n",
       "    }\n",
       "\n",
       "    .dataframe tbody tr th {\n",
       "        vertical-align: top;\n",
       "    }\n",
       "\n",
       "    .dataframe thead th {\n",
       "        text-align: right;\n",
       "    }\n",
       "</style>\n",
       "<table border=\"1\" class=\"dataframe\">\n",
       "  <thead>\n",
       "    <tr style=\"text-align: right;\">\n",
       "      <th></th>\n",
       "      <th>name</th>\n",
       "      <th>mana_cost</th>\n",
       "      <th>type_line</th>\n",
       "      <th>oracle_text</th>\n",
       "      <th>power</th>\n",
       "      <th>toughness</th>\n",
       "      <th>colors</th>\n",
       "      <th>keywords</th>\n",
       "      <th>mtgo_id</th>\n",
       "      <th>loyalty</th>\n",
       "      <th>defense</th>\n",
       "      <th>tokenized_text</th>\n",
       "      <th>tfidf_vector</th>\n",
       "      <th>processed_oracle_text</th>\n",
       "    </tr>\n",
       "  </thead>\n",
       "  <tbody>\n",
       "    <tr>\n",
       "      <th>0</th>\n",
       "      <td>Nissa, Worldsoul Speaker</td>\n",
       "      <td>{3}{G}</td>\n",
       "      <td>Legendary Creature — Elf Druid</td>\n",
       "      <td>Landfall — Whenever a land you control enters,...</td>\n",
       "      <td>3</td>\n",
       "      <td>3</td>\n",
       "      <td>['G']</td>\n",
       "      <td>['Landfall']</td>\n",
       "      <td>NaN</td>\n",
       "      <td>NaN</td>\n",
       "      <td>NaN</td>\n",
       "      <td>['Landfall', 'Whenever', 'a', 'land', 'you', '...</td>\n",
       "      <td>[0. 0. 0. ... 0. 0. 0.]</td>\n",
       "      <td>Landfall — Whenever a land you control enters ...</td>\n",
       "    </tr>\n",
       "    <tr>\n",
       "      <th>1</th>\n",
       "      <td>Static Orb</td>\n",
       "      <td>{3}</td>\n",
       "      <td>Artifact</td>\n",
       "      <td>As long as &lt;name&gt; is untapped, players can't u...</td>\n",
       "      <td>NaN</td>\n",
       "      <td>NaN</td>\n",
       "      <td>[]</td>\n",
       "      <td>[]</td>\n",
       "      <td>15870.0</td>\n",
       "      <td>NaN</td>\n",
       "      <td>NaN</td>\n",
       "      <td>['As', 'long', 'as', '&lt;name&gt;', 'is', 'untapped...</td>\n",
       "      <td>[0. 0. 0. ... 0. 0. 0.]</td>\n",
       "      <td>As long as &lt;name&gt; is untapped , players can't ...</td>\n",
       "    </tr>\n",
       "    <tr>\n",
       "      <th>2</th>\n",
       "      <td>Sensory Deprivation</td>\n",
       "      <td>{U}</td>\n",
       "      <td>Enchantment — Aura</td>\n",
       "      <td>Enchant creature\\r\\nEnchanted creature gets -3...</td>\n",
       "      <td>NaN</td>\n",
       "      <td>NaN</td>\n",
       "      <td>['U']</td>\n",
       "      <td>['Enchant']</td>\n",
       "      <td>49283.0</td>\n",
       "      <td>NaN</td>\n",
       "      <td>NaN</td>\n",
       "      <td>['Enchant', 'creature', '\\\\n', 'Enchanted', 'c...</td>\n",
       "      <td>[0. 0. 0. ... 0. 0. 0.]</td>\n",
       "      <td>Enchant creature \\n Enchanted creature gets -3...</td>\n",
       "    </tr>\n",
       "    <tr>\n",
       "      <th>3</th>\n",
       "      <td>Road of Return</td>\n",
       "      <td>{G}{G}</td>\n",
       "      <td>Sorcery</td>\n",
       "      <td>Choose one —\\r\\n• Return target permanent card...</td>\n",
       "      <td>NaN</td>\n",
       "      <td>NaN</td>\n",
       "      <td>['G']</td>\n",
       "      <td>['Entwine']</td>\n",
       "      <td>77122.0</td>\n",
       "      <td>NaN</td>\n",
       "      <td>NaN</td>\n",
       "      <td>['Choose', 'one', '\\\\n', 'Return', 'target', '...</td>\n",
       "      <td>[0. 0. 0. ... 0. 0. 0.]</td>\n",
       "      <td>Choose one — \\n • Return target permanent card...</td>\n",
       "    </tr>\n",
       "    <tr>\n",
       "      <th>4</th>\n",
       "      <td>Storm Crow</td>\n",
       "      <td>{1}{U}</td>\n",
       "      <td>Creature — Bird</td>\n",
       "      <td>Flying (This creature can't be blocked except ...</td>\n",
       "      <td>1</td>\n",
       "      <td>2</td>\n",
       "      <td>['U']</td>\n",
       "      <td>['Flying']</td>\n",
       "      <td>22609.0</td>\n",
       "      <td>NaN</td>\n",
       "      <td>NaN</td>\n",
       "      <td>['Flying', 'This', 'creature', \"can't\", 'be', ...</td>\n",
       "      <td>[0. 0. 0. ... 0. 0. 0.]</td>\n",
       "      <td>Flying (This creature can't be blocked except ...</td>\n",
       "    </tr>\n",
       "    <tr>\n",
       "      <th>...</th>\n",
       "      <td>...</td>\n",
       "      <td>...</td>\n",
       "      <td>...</td>\n",
       "      <td>...</td>\n",
       "      <td>...</td>\n",
       "      <td>...</td>\n",
       "      <td>...</td>\n",
       "      <td>...</td>\n",
       "      <td>...</td>\n",
       "      <td>...</td>\n",
       "      <td>...</td>\n",
       "      <td>...</td>\n",
       "      <td>...</td>\n",
       "      <td>...</td>\n",
       "    </tr>\n",
       "    <tr>\n",
       "      <th>31040</th>\n",
       "      <td>Devoted Hero</td>\n",
       "      <td>{W}</td>\n",
       "      <td>Creature — Elf Soldier</td>\n",
       "      <td>NaN</td>\n",
       "      <td>1</td>\n",
       "      <td>2</td>\n",
       "      <td>['W']</td>\n",
       "      <td>[]</td>\n",
       "      <td>NaN</td>\n",
       "      <td>NaN</td>\n",
       "      <td>NaN</td>\n",
       "      <td>[]</td>\n",
       "      <td>[0. 0. 0. ... 0. 0. 0.]</td>\n",
       "      <td>NaN</td>\n",
       "    </tr>\n",
       "    <tr>\n",
       "      <th>31041</th>\n",
       "      <td>Without Weakness</td>\n",
       "      <td>{1}{B}</td>\n",
       "      <td>Instant</td>\n",
       "      <td>Target creature you control gains indestructib...</td>\n",
       "      <td>NaN</td>\n",
       "      <td>NaN</td>\n",
       "      <td>['B']</td>\n",
       "      <td>['Cycling']</td>\n",
       "      <td>64646.0</td>\n",
       "      <td>NaN</td>\n",
       "      <td>NaN</td>\n",
       "      <td>['Target', 'creature', 'you', 'control', 'gain...</td>\n",
       "      <td>[0. 0. 0. ... 0. 0. 0.]</td>\n",
       "      <td>Target creature you control gains indestructib...</td>\n",
       "    </tr>\n",
       "    <tr>\n",
       "      <th>31042</th>\n",
       "      <td>Firesong and Sunspeaker</td>\n",
       "      <td>{4}{R}{W}</td>\n",
       "      <td>Legendary Creature — Minotaur Cleric</td>\n",
       "      <td>Red instant and sorcery spells you control hav...</td>\n",
       "      <td>4</td>\n",
       "      <td>6</td>\n",
       "      <td>['R', 'W']</td>\n",
       "      <td>[]</td>\n",
       "      <td>101914.0</td>\n",
       "      <td>NaN</td>\n",
       "      <td>NaN</td>\n",
       "      <td>['Red', 'instant', 'and', 'sorcery', 'spells',...</td>\n",
       "      <td>[0. 0. 0. ... 0. 0. 0.]</td>\n",
       "      <td>Red instant and sorcery spells you control hav...</td>\n",
       "    </tr>\n",
       "    <tr>\n",
       "      <th>31043</th>\n",
       "      <td>Samut, the Tested</td>\n",
       "      <td>{2}{R}{G}</td>\n",
       "      <td>Legendary Planeswalker — Samut</td>\n",
       "      <td>+1: Up to one target creature gains double str...</td>\n",
       "      <td>NaN</td>\n",
       "      <td>NaN</td>\n",
       "      <td>['G', 'R']</td>\n",
       "      <td>[]</td>\n",
       "      <td>64772.0</td>\n",
       "      <td>4</td>\n",
       "      <td>NaN</td>\n",
       "      <td>['1', ':', 'Up', 'to', 'one', 'target', 'creat...</td>\n",
       "      <td>[0. 0. 0. ... 0. 0. 0.]</td>\n",
       "      <td>+1 : Up to one target creature gains double st...</td>\n",
       "    </tr>\n",
       "    <tr>\n",
       "      <th>31044</th>\n",
       "      <td>Sinew Sliver</td>\n",
       "      <td>{1}{W}</td>\n",
       "      <td>Creature — Sliver</td>\n",
       "      <td>All Sliver creatures get +1/+1.</td>\n",
       "      <td>1</td>\n",
       "      <td>1</td>\n",
       "      <td>['W']</td>\n",
       "      <td>[]</td>\n",
       "      <td>114015.0</td>\n",
       "      <td>NaN</td>\n",
       "      <td>NaN</td>\n",
       "      <td>['All', 'Sliver', 'creatures', 'get', '1', '1'...</td>\n",
       "      <td>[0. 0. 0. ... 0. 0. 0.]</td>\n",
       "      <td>All Sliver creatures get +1/+1 .</td>\n",
       "    </tr>\n",
       "  </tbody>\n",
       "</table>\n",
       "<p>31045 rows × 14 columns</p>\n",
       "</div>"
      ],
      "text/plain": [
       "                           name  mana_cost  \\\n",
       "0      Nissa, Worldsoul Speaker     {3}{G}   \n",
       "1                    Static Orb        {3}   \n",
       "2           Sensory Deprivation        {U}   \n",
       "3                Road of Return     {G}{G}   \n",
       "4                    Storm Crow     {1}{U}   \n",
       "...                         ...        ...   \n",
       "31040              Devoted Hero        {W}   \n",
       "31041          Without Weakness     {1}{B}   \n",
       "31042   Firesong and Sunspeaker  {4}{R}{W}   \n",
       "31043         Samut, the Tested  {2}{R}{G}   \n",
       "31044              Sinew Sliver     {1}{W}   \n",
       "\n",
       "                                  type_line  \\\n",
       "0            Legendary Creature — Elf Druid   \n",
       "1                                  Artifact   \n",
       "2                        Enchantment — Aura   \n",
       "3                                   Sorcery   \n",
       "4                           Creature — Bird   \n",
       "...                                     ...   \n",
       "31040                Creature — Elf Soldier   \n",
       "31041                               Instant   \n",
       "31042  Legendary Creature — Minotaur Cleric   \n",
       "31043        Legendary Planeswalker — Samut   \n",
       "31044                     Creature — Sliver   \n",
       "\n",
       "                                             oracle_text power toughness  \\\n",
       "0      Landfall — Whenever a land you control enters,...     3         3   \n",
       "1      As long as <name> is untapped, players can't u...   NaN       NaN   \n",
       "2      Enchant creature\\r\\nEnchanted creature gets -3...   NaN       NaN   \n",
       "3      Choose one —\\r\\n• Return target permanent card...   NaN       NaN   \n",
       "4      Flying (This creature can't be blocked except ...     1         2   \n",
       "...                                                  ...   ...       ...   \n",
       "31040                                                NaN     1         2   \n",
       "31041  Target creature you control gains indestructib...   NaN       NaN   \n",
       "31042  Red instant and sorcery spells you control hav...     4         6   \n",
       "31043  +1: Up to one target creature gains double str...   NaN       NaN   \n",
       "31044                    All Sliver creatures get +1/+1.     1         1   \n",
       "\n",
       "           colors      keywords   mtgo_id loyalty  defense  \\\n",
       "0           ['G']  ['Landfall']       NaN     NaN      NaN   \n",
       "1              []            []   15870.0     NaN      NaN   \n",
       "2           ['U']   ['Enchant']   49283.0     NaN      NaN   \n",
       "3           ['G']   ['Entwine']   77122.0     NaN      NaN   \n",
       "4           ['U']    ['Flying']   22609.0     NaN      NaN   \n",
       "...           ...           ...       ...     ...      ...   \n",
       "31040       ['W']            []       NaN     NaN      NaN   \n",
       "31041       ['B']   ['Cycling']   64646.0     NaN      NaN   \n",
       "31042  ['R', 'W']            []  101914.0     NaN      NaN   \n",
       "31043  ['G', 'R']            []   64772.0       4      NaN   \n",
       "31044       ['W']            []  114015.0     NaN      NaN   \n",
       "\n",
       "                                          tokenized_text  \\\n",
       "0      ['Landfall', 'Whenever', 'a', 'land', 'you', '...   \n",
       "1      ['As', 'long', 'as', '<name>', 'is', 'untapped...   \n",
       "2      ['Enchant', 'creature', '\\\\n', 'Enchanted', 'c...   \n",
       "3      ['Choose', 'one', '\\\\n', 'Return', 'target', '...   \n",
       "4      ['Flying', 'This', 'creature', \"can't\", 'be', ...   \n",
       "...                                                  ...   \n",
       "31040                                                 []   \n",
       "31041  ['Target', 'creature', 'you', 'control', 'gain...   \n",
       "31042  ['Red', 'instant', 'and', 'sorcery', 'spells',...   \n",
       "31043  ['1', ':', 'Up', 'to', 'one', 'target', 'creat...   \n",
       "31044  ['All', 'Sliver', 'creatures', 'get', '1', '1'...   \n",
       "\n",
       "                  tfidf_vector  \\\n",
       "0      [0. 0. 0. ... 0. 0. 0.]   \n",
       "1      [0. 0. 0. ... 0. 0. 0.]   \n",
       "2      [0. 0. 0. ... 0. 0. 0.]   \n",
       "3      [0. 0. 0. ... 0. 0. 0.]   \n",
       "4      [0. 0. 0. ... 0. 0. 0.]   \n",
       "...                        ...   \n",
       "31040  [0. 0. 0. ... 0. 0. 0.]   \n",
       "31041  [0. 0. 0. ... 0. 0. 0.]   \n",
       "31042  [0. 0. 0. ... 0. 0. 0.]   \n",
       "31043  [0. 0. 0. ... 0. 0. 0.]   \n",
       "31044  [0. 0. 0. ... 0. 0. 0.]   \n",
       "\n",
       "                                   processed_oracle_text  \n",
       "0      Landfall — Whenever a land you control enters ...  \n",
       "1      As long as <name> is untapped , players can't ...  \n",
       "2      Enchant creature \\n Enchanted creature gets -3...  \n",
       "3      Choose one — \\n • Return target permanent card...  \n",
       "4      Flying (This creature can't be blocked except ...  \n",
       "...                                                  ...  \n",
       "31040                                                NaN  \n",
       "31041  Target creature you control gains indestructib...  \n",
       "31042  Red instant and sorcery spells you control hav...  \n",
       "31043  +1 : Up to one target creature gains double st...  \n",
       "31044                   All Sliver creatures get +1/+1 .  \n",
       "\n",
       "[31045 rows x 14 columns]"
      ]
     },
     "execution_count": 37,
     "metadata": {},
     "output_type": "execute_result"
    }
   ],
   "source": [
    "df"
   ]
  },
  {
   "cell_type": "code",
   "execution_count": 40,
   "metadata": {},
   "outputs": [
    {
     "data": {
      "text/plain": [
       "\"['Landfall', 'Whenever', 'a', 'land', 'you', 'control', 'enters', ',', 'you', 'get', '{E}', '{E}', 'two', 'energy', 'counters', '.', '\\\\\\\\n', 'You', 'may', 'pay', 'eight', '{E}', 'rather', 'than', 'pay', 'the', 'mana', 'cost', 'for', 'permanent', 'spells', 'you', 'cast', '.']\""
      ]
     },
     "execution_count": 40,
     "metadata": {},
     "output_type": "execute_result"
    }
   ],
   "source": [
    "df['tokenized_text'][0]"
   ]
  },
  {
   "cell_type": "code",
   "execution_count": 41,
   "metadata": {},
   "outputs": [
    {
     "data": {
      "text/plain": [
       "0    [Landfall, Whenever, a, land, you, control, en...\n",
       "1    [As, long, as, <name>, is, untapped, ,, player...\n",
       "2    [Enchant, creature, \\n, Enchanted, creature, g...\n",
       "3    [Choose, one, \\n, Return, target, permanent, c...\n",
       "4    [Flying, This, creature, can't, be, blocked, e...\n",
       "Name: tokenized_text, dtype: object"
      ]
     },
     "execution_count": 41,
     "metadata": {},
     "output_type": "execute_result"
    }
   ],
   "source": [
    "import ast\n",
    "\n",
    "# Apply ast.literal_eval to each row in the tokenized_text column\n",
    "df['tokenized_text'] = df['tokenized_text'].apply(ast.literal_eval)\n",
    "\n",
    "# Display first few rows to verify\n",
    "df['tokenized_text'].head()"
   ]
  },
  {
   "cell_type": "code",
   "execution_count": 42,
   "metadata": {},
   "outputs": [
    {
     "data": {
      "text/plain": [
       "'Landfall'"
      ]
     },
     "execution_count": 42,
     "metadata": {},
     "output_type": "execute_result"
    }
   ],
   "source": [
    "df['tokenized_text'][0][0]"
   ]
  },
  {
   "cell_type": "code",
   "execution_count": 43,
   "metadata": {},
   "outputs": [
    {
     "name": "stdout",
     "output_type": "stream",
     "text": [
      "Total tokens: 974220\n",
      "First 20 tokens: ['Landfall', 'Whenever', 'a', 'land', 'you', 'control', 'enters', ',', 'you', 'get', '{E}', '{E}', 'two', 'energy', 'counters', '.', '\\\\n', 'You', 'may', 'pay']\n"
     ]
    }
   ],
   "source": [
    "# Combine all tokens into one large list\n",
    "all_tokens = []\n",
    "for tokens in df['tokenized_text']:\n",
    "    all_tokens.extend(tokens)\n",
    "\n",
    "# Alternative one-liner using list comprehension\n",
    "# all_tokens = [token for tokens in df['tokenized_text'] for token in tokens]\n",
    "\n",
    "# Display the first 20 tokens to verify\n",
    "print(f\"Total tokens: {len(all_tokens)}\")\n",
    "print(\"First 20 tokens:\", all_tokens[:20])"
   ]
  },
  {
   "cell_type": "code",
   "execution_count": 47,
   "metadata": {},
   "outputs": [
    {
     "data": {
      "text/plain": [
       "0        Landfall — Whenever a land you control enters ...\n",
       "1        As long as <name> is untapped , players can't ...\n",
       "2        Enchant creature \\n Enchanted creature gets -3...\n",
       "3        Choose one — \\n • Return target permanent card...\n",
       "4        Flying (This creature can't be blocked except ...\n",
       "                               ...                        \n",
       "31040                                                  NaN\n",
       "31041    Target creature you control gains indestructib...\n",
       "31042    Red instant and sorcery spells you control hav...\n",
       "31043    +1 : Up to one target creature gains double st...\n",
       "31044                     All Sliver creatures get +1/+1 .\n",
       "Name: processed_oracle_text, Length: 31045, dtype: object"
      ]
     },
     "execution_count": 47,
     "metadata": {},
     "output_type": "execute_result"
    }
   ],
   "source": [
    "corpus = df['processed_oracle_text']\n",
    "corpus"
   ]
  },
  {
   "cell_type": "code",
   "execution_count": 55,
   "metadata": {},
   "outputs": [],
   "source": [
    "# Convert corpus to list of strings if it's not already\n",
    "corpus_list = corpus.tolist() if hasattr(corpus, 'tolist') else list(corpus)\n"
   ]
  },
  {
   "cell_type": "code",
   "execution_count": 60,
   "metadata": {},
   "outputs": [
    {
     "data": {
      "text/plain": [
       "pandas.core.series.Series"
      ]
     },
     "execution_count": 60,
     "metadata": {},
     "output_type": "execute_result"
    }
   ],
   "source": [
    "type(corpus)"
   ]
  },
  {
   "cell_type": "code",
   "execution_count": 59,
   "metadata": {},
   "outputs": [
    {
     "data": {
      "text/plain": [
       "str"
      ]
     },
     "execution_count": 59,
     "metadata": {},
     "output_type": "execute_result"
    }
   ],
   "source": [
    "type(corpus_list[0])"
   ]
  },
  {
   "cell_type": "code",
   "execution_count": 62,
   "metadata": {},
   "outputs": [
    {
     "name": "stdout",
     "output_type": "stream",
     "text": [
      "0    Landfall — Whenever a land you control enters ...\n",
      "1    As long as <name> is untapped , players can't ...\n",
      "2    Enchant creature \\n Enchanted creature gets -3...\n",
      "Name: processed_oracle_text, dtype: object\n"
     ]
    }
   ],
   "source": [
    "print(corpus[0:3])"
   ]
  },
  {
   "cell_type": "code",
   "execution_count": 63,
   "metadata": {},
   "outputs": [],
   "source": [
    "# Convert pandas Series to list of strings\n",
    "corpus_list = corpus.values.tolist()\n",
    "\n",
    "# Ensure all elements are strings\n",
    "corpus_list = [str(text) for text in corpus_list]\n",
    "\n"
   ]
  },
  {
   "cell_type": "code",
   "execution_count": 65,
   "metadata": {},
   "outputs": [
    {
     "data": {
      "text/plain": [
       "'Landfall — Whenever a land you control enters , you get {E} {E} (two energy counters) . \\\\n You may pay eight {E} rather than pay the mana cost for permanent spells you cast .'"
      ]
     },
     "execution_count": 65,
     "metadata": {},
     "output_type": "execute_result"
    }
   ],
   "source": [
    "corpus_list[0]"
   ]
  },
  {
   "cell_type": "code",
   "execution_count": 73,
   "metadata": {},
   "outputs": [
    {
     "name": "stdout",
     "output_type": "stream",
     "text": [
      "<class 'list'>\n",
      "<class 'str'>\n"
     ]
    }
   ],
   "source": [
    "print(type(corpus_list))  # Should show: <class 'list'>\n",
    "print(type(corpus_list[0]))  # Should show: <class 'str'>"
   ]
  },
  {
   "cell_type": "markdown",
   "metadata": {},
   "source": [
    "# Tokenize"
   ]
  },
  {
   "cell_type": "code",
   "execution_count": null,
   "metadata": {},
   "outputs": [],
   "source": [
    "# Create a directory for tokenizer files if it doesn't exist\n",
    "models_dir = \"../models\"\n",
    "os.makedirs(models_dir, exist_ok=True)\n",
    "\n",
    "# Initialize trainer with specific output directory\n",
    "tk_trainer = tokenizers.trainers.WordPieceTrainer(\n",
    "    vocab_size=8192,\n",
    "    special_tokens=[\"[PAD]\", \"[UNK]\", \"[CLS]\", \"[SEP]\", \"[MASK]\"],\n",
    ")\n",
    "\n",
    "# Initialize tokenizer with output directory\n",
    "tokenizer = tokenizers.Tokenizer(tokenizers.models.WordPiece())\n",
    "tokenizer.pre_tokenizer = tokenizers.pre_tokenizers.Whitespace()\n",
    "\n",
    "tokenizer.enable_padding(pad_id=0, pad_token=\"[PAD]\")\n",
    "tokenizer.enable_truncation(max_length=512) # Maybe we cut this down to 258?\n",
    "\n",
    "# Train the tokenizer\n",
    "tokenizer.train_from_iterator(corpus_list, trainer=tk_trainer)\n",
    "\n",
    "# Save the tokenizer\n",
    "tokenizer.save(os.path.join(models_dir, \"tokenizer_leak.json\")) # Your tokenizer may have been trained with the full dataset causing a data leak..."
   ]
  },
  {
   "cell_type": "code",
   "execution_count": 86,
   "metadata": {},
   "outputs": [
    {
     "name": "stdout",
     "output_type": "stream",
     "text": [
      "Encoded: ['Landfall', '—', 'Whenever', 'a', 'land', 'you', 'control', 'enters', ',', 'you', 'get', '{', 'E', '}', '{', 'E', '}', '(', 'two', 'energy', 'counters', ')', '.', '\\\\', 'n', 'You', 'may', 'pay', 'eight', '{', 'E', '}', 'rather', 'than', 'pay', 'the', 'mana', 'cost', 'for', 'permanent', 'spells', 'you', 'cast', '.']\n"
     ]
    }
   ],
   "source": [
    "# Verify the tokenizer works\n",
    "sample_text = corpus_list[0]\n",
    "encoded = tokenizer.encode(sample_text)\n",
    "print(f\"Encoded: {encoded.tokens}\")"
   ]
  },
  {
   "cell_type": "code",
   "execution_count": null,
   "metadata": {},
   "outputs": [
    {
     "name": "stdout",
     "output_type": "stream",
     "text": [
      "['This', 'is', 'a', 'te', '##st', 'of', '\\\\', 't', 'non', '##zen', '##sical', '##lic', '##al', '##ness']\n"
     ]
    }
   ],
   "source": [
    "# Test the tokenizer on a string with a tab character and non-sensical text\n",
    "test = tokenizer.encode(\"This is a test of \\\\t nonzensicallicalness\")\n",
    "print(test.tokens)"
   ]
  },
  {
   "cell_type": "markdown",
   "metadata": {},
   "source": [
    "## Load your Tokenizer"
   ]
  },
  {
   "cell_type": "code",
   "execution_count": null,
   "metadata": {},
   "outputs": [],
   "source": [
    "# Since you have a pre-trained tokenizer, you can now load it directly\n",
    "tokenizer = Tokenizer.from_file(os.path.join(models_dir, \"tokenizer_leak.json\"))"
   ]
  },
  {
   "cell_type": "markdown",
   "metadata": {},
   "source": [
    "# Build the Decoder"
   ]
  },
  {
   "cell_type": "code",
   "execution_count": null,
   "metadata": {},
   "outputs": [],
   "source": []
  },
  {
   "cell_type": "code",
   "execution_count": null,
   "metadata": {},
   "outputs": [],
   "source": []
  },
  {
   "cell_type": "code",
   "execution_count": null,
   "metadata": {},
   "outputs": [],
   "source": []
  },
  {
   "cell_type": "code",
   "execution_count": null,
   "metadata": {},
   "outputs": [],
   "source": [
    "EMBEDDING_DIM = 256\n",
    "FEED_FORWARD_DIM = 2048\n",
    "DROPOUT = 0.5\n",
    "NUM_HEADS = 8\n",
    "\n",
    "# Encoder branch\n",
    "encoder_inputs = tf.keras.Input(shape=(None,), dtype=tf.int64, name=\"encoder_inputs\")\n",
    "positional_embedding_fr = PositionalEmbedding(\n",
    "    fr_vocab_size, EMBEDDING_DIM, SEQUENCE_LENGTH)(encoder_inputs)\n",
    "encoder_self_attention = EncoderSelfAttention(NUM_HEADS, EMBEDDING_DIM)(positional_embedding_fr)\n",
    "add_and_norm_fr_1 = AddAndNormalization()([encoder_self_attention, positional_embedding_fr])\n",
    "# Feed Forward network\n",
    "ff_dense_fr_1 = tf.keras.layers.Dense(FEED_FORWARD_DIM, activation=\"relu\")(add_and_norm_fr_1)\n",
    "ff_dense_fr_2 = tf.keras.layers.Dense(EMBEDDING_DIM, activation=\"relu\")(ff_dense_fr_1)\n",
    "ff_dropout_fr_1 = tf.keras.layers.Dropout(DROPOUT)(ff_dense_fr_2)\n",
    "add_and_norm_fr_2 = AddAndNormalization()([ff_dropout_fr_1, add_and_norm_fr_1])\n",
    "encoder = tf.keras.models.Model(inputs=encoder_inputs, outputs=add_and_norm_fr_2)\n",
    "\n",
    "# Decoder branch\n",
    "decoder_inputs = tf.keras.Input(shape=(None,), dtype=tf.int64, name=\"decoder_inputs\")\n",
    "positional_embedding_en = PositionalEmbedding(\n",
    "    en_vocab_size, EMBEDDING_DIM, SEQUENCE_LENGTH)(decoder_inputs)\n",
    "decoder_self_attention = DecoderSelfAttention(NUM_HEADS, EMBEDDING_DIM)(positional_embedding_en)\n",
    "add_and_norm_en_1 = AddAndNormalization()([decoder_self_attention, positional_embedding_en])\n",
    "decoder = tf.keras.models.Model(inputs=decoder_inputs, outputs=add_and_norm_en_1)\n",
    "\n",
    "# Decoder-encoder branch\n",
    "de_attention = DecoderEncoderAttention(NUM_HEADS, EMBEDDING_DIM)([add_and_norm_fr_2, add_and_norm_en_1])\n",
    "de_add_and_norm_1 = AddAndNormalization()([de_attention, add_and_norm_en_1])\n",
    "# Feed Forward network\n",
    "ff_dense_de_1 = tf.keras.layers.Dense(FEED_FORWARD_DIM, activation=\"relu\")(de_add_and_norm_1)\n",
    "ff_dense_de_2 = tf.keras.layers.Dense(EMBEDDING_DIM, activation=\"relu\")(ff_dense_de_1)\n",
    "ff_dropout_de_1 = tf.keras.layers.Dropout(DROPOUT)(ff_dense_de_2)\n",
    "de_add_and_norm_2 = AddAndNormalization()([ff_dropout_de_1, de_add_and_norm_1])\n",
    "\n",
    "# Linear prediction layer\n",
    "prediction = tf.keras.layers.Dense(len(en_vec_layer.get_vocabulary()), activation=\"softmax\")(de_add_and_norm_2)\n",
    "\n",
    "transformer = tf.keras.models.Model(\n",
    "    inputs=[encoder.input, decoder.input], outputs=prediction, name=\"transformer\")"
   ]
  },
  {
   "cell_type": "code",
   "execution_count": null,
   "metadata": {},
   "outputs": [],
   "source": []
  },
  {
   "cell_type": "code",
   "execution_count": null,
   "metadata": {},
   "outputs": [],
   "source": []
  },
  {
   "cell_type": "markdown",
   "metadata": {},
   "source": [
    "# Tokenize your train/val/test"
   ]
  },
  {
   "cell_type": "code",
   "execution_count": null,
   "metadata": {},
   "outputs": [],
   "source": []
  },
  {
   "cell_type": "code",
   "execution_count": null,
   "metadata": {},
   "outputs": [],
   "source": []
  },
  {
   "cell_type": "code",
   "execution_count": null,
   "metadata": {},
   "outputs": [],
   "source": []
  },
  {
   "cell_type": "markdown",
   "metadata": {},
   "source": [
    "## Set up datasets for loading data"
   ]
  },
  {
   "cell_type": "markdown",
   "metadata": {},
   "source": [
    "# Training Loop"
   ]
  },
  {
   "cell_type": "code",
   "execution_count": null,
   "metadata": {},
   "outputs": [],
   "source": []
  },
  {
   "cell_type": "markdown",
   "metadata": {},
   "source": [
    "# Setup Training Arguments"
   ]
  },
  {
   "cell_type": "markdown",
   "metadata": {},
   "source": [
    "OLD CODING WORK:\n",
    "\n",
    "# Set up the Trainer\n",
    "\n",
    "data_collator = DataCollatorWithPadding(tokenizer=tokenizer, padding=True, return_tensors='pt')\n",
    "\n",
    "trainer = Trainer(\n",
    "    model=model,\n",
    "    args=training_args,\n",
    "    train_dataset=tokenized_dataset_reduced['train'],\n",
    "    eval_dataset=tokenized_dataset_reduced['validation'],0\n",
    "    tokenizer=tokenizer,\n",
    "    data_collator=data_collator\n",
    ")\n"
   ]
  },
  {
   "cell_type": "code",
   "execution_count": null,
   "metadata": {},
   "outputs": [],
   "source": []
  },
  {
   "cell_type": "code",
   "execution_count": null,
   "metadata": {},
   "outputs": [],
   "source": []
  },
  {
   "cell_type": "code",
   "execution_count": null,
   "metadata": {},
   "outputs": [],
   "source": []
  }
 ],
 "metadata": {
  "kernelspec": {
   "display_name": "tcg_generator",
   "language": "python",
   "name": "python3"
  },
  "language_info": {
   "codemirror_mode": {
    "name": "ipython",
    "version": 3
   },
   "file_extension": ".py",
   "mimetype": "text/x-python",
   "name": "python",
   "nbconvert_exporter": "python",
   "pygments_lexer": "ipython3",
   "version": "3.10.16"
  }
 },
 "nbformat": 4,
 "nbformat_minor": 2
}
