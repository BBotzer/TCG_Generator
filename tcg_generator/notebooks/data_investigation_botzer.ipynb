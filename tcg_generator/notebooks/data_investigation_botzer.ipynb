{
 "cells": [
  {
   "cell_type": "markdown",
   "metadata": {},
   "source": [
    "# MAKE SURE YOU PULL THE DATA FILES FROM TEAMS BEFORE YOU START PLAYING AROUND IN HERE.\n",
    "\n",
    "Our repo has the data folder in the .gitignore so we don't clutter up the GitHub repo."
   ]
  },
  {
   "cell_type": "code",
   "execution_count": 2,
   "metadata": {},
   "outputs": [],
   "source": [
    "import pandas as pd"
   ]
  },
  {
   "cell_type": "code",
   "execution_count": 3,
   "metadata": {},
   "outputs": [
    {
     "name": "stderr",
     "output_type": "stream",
     "text": [
      "C:\\Users\\btb51\\AppData\\Local\\Temp\\ipykernel_32736\\2028994973.py:1: DtypeWarning: Columns (3,7,12,16,20,23,25,26,31,32,33,35,37,39,40,41,47,52,53,61,62,66,68) have mixed types. Specify dtype option on import or set low_memory=False.\n",
      "  data = pd.read_csv('../data/external/AllPrintingsCSVFiles/cards.csv')\n"
     ]
    }
   ],
   "source": [
    "data = pd.read_csv('../data/external/AllPrintingsCSVFiles/cards.csv')"
   ]
  },
  {
   "cell_type": "code",
   "execution_count": 5,
   "metadata": {},
   "outputs": [
    {
     "data": {
      "text/plain": [
       "Index(['artist', 'artistIds', 'asciiName', 'attractionLights', 'availability',\n",
       "       'boosterTypes', 'borderColor', 'cardParts', 'colorIdentity',\n",
       "       'colorIndicator', 'colors', 'defense', 'duelDeck', 'edhrecRank',\n",
       "       'edhrecSaltiness', 'faceConvertedManaCost', 'faceFlavorName',\n",
       "       'faceManaValue', 'faceName', 'finishes', 'flavorName', 'flavorText',\n",
       "       'frameEffects', 'frameVersion', 'hand', 'hasAlternativeDeckLimit',\n",
       "       'hasContentWarning', 'hasFoil', 'hasNonFoil', 'isAlternative',\n",
       "       'isFullArt', 'isFunny', 'isOnlineOnly', 'isOversized', 'isPromo',\n",
       "       'isRebalanced', 'isReprint', 'isReserved', 'isStarter',\n",
       "       'isStorySpotlight', 'isTextless', 'isTimeshifted', 'keywords',\n",
       "       'language', 'layout', 'leadershipSkills', 'life', 'loyalty', 'manaCost',\n",
       "       'manaValue', 'name', 'number', 'originalPrintings',\n",
       "       'originalReleaseDate', 'originalText', 'originalType', 'otherFaceIds',\n",
       "       'power', 'printings', 'promoTypes', 'rarity', 'rebalancedPrintings',\n",
       "       'relatedCards', 'securityStamp', 'setCode', 'side', 'signature',\n",
       "       'sourceProducts', 'subsets', 'subtypes', 'supertypes', 'text',\n",
       "       'toughness', 'type', 'types', 'uuid', 'variations', 'watermark'],\n",
       "      dtype='object')"
      ]
     },
     "execution_count": 5,
     "metadata": {},
     "output_type": "execute_result"
    }
   ],
   "source": [
    "data.columns"
   ]
  },
  {
   "cell_type": "code",
   "execution_count": 7,
   "metadata": {},
   "outputs": [
    {
     "data": {
      "text/plain": [
       "array(['First strike', 'Flying', nan, ..., 'Enchant, Kicker',\n",
       "       'Flash, Flying, Mill', 'Defender, Flying, Kicker'], dtype=object)"
      ]
     },
     "execution_count": 7,
     "metadata": {},
     "output_type": "execute_result"
    }
   ],
   "source": [
    "data.keywords.unique()"
   ]
  },
  {
   "cell_type": "markdown",
   "metadata": {},
   "source": [
    "I think that this is a better dataset.  The 'oracle_text' is the card wording that we'll want to train on."
   ]
  },
  {
   "cell_type": "code",
   "execution_count": 10,
   "metadata": {},
   "outputs": [],
   "source": [
    "dt2 = pd.read_json('..\\data\\external\\default-cards-20250117100708.json')"
   ]
  },
  {
   "cell_type": "code",
   "execution_count": 12,
   "metadata": {},
   "outputs": [
    {
     "data": {
      "text/plain": [
       "Index(['object', 'id', 'oracle_id', 'multiverse_ids', 'mtgo_id', 'arena_id',\n",
       "       'tcgplayer_id', 'name', 'lang', 'released_at', 'uri', 'scryfall_uri',\n",
       "       'layout', 'highres_image', 'image_status', 'image_uris', 'mana_cost',\n",
       "       'cmc', 'type_line', 'oracle_text', 'colors', 'color_identity',\n",
       "       'keywords', 'produced_mana', 'legalities', 'games', 'reserved', 'foil',\n",
       "       'nonfoil', 'finishes', 'oversized', 'promo', 'reprint', 'variation',\n",
       "       'set_id', 'set', 'set_name', 'set_type', 'set_uri', 'set_search_uri',\n",
       "       'scryfall_set_uri', 'rulings_uri', 'prints_search_uri',\n",
       "       'collector_number', 'digital', 'rarity', 'card_back_id', 'artist',\n",
       "       'artist_ids', 'illustration_id', 'border_color', 'frame', 'full_art',\n",
       "       'textless', 'booster', 'story_spotlight', 'prices', 'related_uris',\n",
       "       'purchase_uris', 'mtgo_foil_id', 'cardmarket_id', 'power', 'toughness',\n",
       "       'flavor_text', 'edhrec_rank', 'penny_rank', 'all_parts', 'promo_types',\n",
       "       'security_stamp', 'card_faces', 'preview', 'watermark', 'frame_effects',\n",
       "       'loyalty', 'printed_name', 'tcgplayer_etched_id', 'flavor_name',\n",
       "       'attraction_lights', 'color_indicator', 'printed_type_line',\n",
       "       'printed_text', 'variation_of', 'life_modifier', 'hand_modifier',\n",
       "       'content_warning', 'defense'],\n",
       "      dtype='object')"
      ]
     },
     "execution_count": 12,
     "metadata": {},
     "output_type": "execute_result"
    }
   ],
   "source": [
    "dt2.columns"
   ]
  },
  {
   "cell_type": "code",
   "execution_count": 16,
   "metadata": {},
   "outputs": [
    {
     "data": {
      "text/plain": [
       "0                                   Forest\n",
       "1                              Fury Sliver\n",
       "2                            Kor Outfitter\n",
       "3                                   Spirit\n",
       "4                            Siren Lookout\n",
       "5                                      Web\n",
       "6                      Surge of Brilliance\n",
       "7    Obyra's Attendants // Desperate Parry\n",
       "8                         Venerable Knight\n",
       "9                                 Wildcall\n",
       "Name: name, dtype: object"
      ]
     },
     "execution_count": 16,
     "metadata": {},
     "output_type": "execute_result"
    }
   ],
   "source": [
    "dt2.name[0:10]"
   ]
  },
  {
   "cell_type": "code",
   "execution_count": 13,
   "metadata": {},
   "outputs": [
    {
     "data": {
      "text/plain": [
       "0                                      ({T}: Add {G}.)\n",
       "1             All Sliver creatures have double strike.\n",
       "2    When Kor Outfitter enters, you may attach targ...\n",
       "3                                               Flying\n",
       "4    Flying\\nWhen Siren Lookout enters, it explores...\n",
       "5    Enchant creature (Target a creature as you cas...\n",
       "6    Paradox — Draw a card for each spell you've ca...\n",
       "7                                                  NaN\n",
       "8    When Venerable Knight dies, put a +1/+1 counte...\n",
       "9    Manifest the top card of your library, then pu...\n",
       "Name: oracle_text, dtype: object"
      ]
     },
     "execution_count": 13,
     "metadata": {},
     "output_type": "execute_result"
    }
   ],
   "source": [
    "dt2[0:10].oracle_text"
   ]
  }
 ],
 "metadata": {
  "kernelspec": {
   "display_name": "ai574_NLP",
   "language": "python",
   "name": "python3"
  },
  "language_info": {
   "codemirror_mode": {
    "name": "ipython",
    "version": 3
   },
   "file_extension": ".py",
   "mimetype": "text/x-python",
   "name": "python",
   "nbconvert_exporter": "python",
   "pygments_lexer": "ipython3",
   "version": "3.10.14"
  }
 },
 "nbformat": 4,
 "nbformat_minor": 2
}
