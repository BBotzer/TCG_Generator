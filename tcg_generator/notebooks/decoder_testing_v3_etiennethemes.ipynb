{
 "cells": [
  {
   "cell_type": "markdown",
   "metadata": {},
   "source": [
    "Cleaned Version of a Decoder-only (GPT style) transformer architecture."
   ]
  },
  {
   "cell_type": "markdown",
   "metadata": {},
   "source": [
    "# Imports"
   ]
  },
  {
   "cell_type": "markdown",
   "metadata": {},
   "source": [
    "*YOU NEED TO RUN `decoder_thompson_botzercopy.ipynb` before this so you can create the dataset via: `training_data.to_csv(\"../data/processed/training_data.csv\", index=False)`*"
   ]
  },
  {
   "cell_type": "code",
   "execution_count": 1,
   "metadata": {},
   "outputs": [
    {
     "name": "stderr",
     "output_type": "stream",
     "text": [
      "/mnt/c/Users/et/Documents/Code/AI894/TCG_Generator/.venv/lib/python3.12/site-packages/tqdm/auto.py:21: TqdmWarning: IProgress not found. Please update jupyter and ipywidgets. See https://ipywidgets.readthedocs.io/en/stable/user_install.html\n",
      "  from .autonotebook import tqdm as notebook_tqdm\n",
      "2025-03-10 19:57:32.258583: E external/local_xla/xla/stream_executor/cuda/cuda_fft.cc:477] Unable to register cuFFT factory: Attempting to register factory for plugin cuFFT when one has already been registered\n",
      "WARNING: All log messages before absl::InitializeLog() is called are written to STDERR\n",
      "E0000 00:00:1741661854.031781   86040 cuda_dnn.cc:8310] Unable to register cuDNN factory: Attempting to register factory for plugin cuDNN when one has already been registered\n",
      "E0000 00:00:1741661854.506399   86040 cuda_blas.cc:1418] Unable to register cuBLAS factory: Attempting to register factory for plugin cuBLAS when one has already been registered\n",
      "2025-03-10 19:57:38.903316: I tensorflow/core/platform/cpu_feature_guard.cc:210] This TensorFlow binary is optimized to use available CPU instructions in performance-critical operations.\n",
      "To enable the following instructions: AVX2 FMA, in other operations, rebuild TensorFlow with the appropriate compiler flags.\n"
     ]
    }
   ],
   "source": [
    "from tokenizers import Tokenizer, models, pre_tokenizers, decoders, trainers, processors\n",
    "from tokenizers.normalizers import NFKC, Sequence\n",
    "import os\n",
    "from typing import List, Optional, Union\n",
    "from tqdm.notebook import tqdm\n",
    "from tqdm import tqdm\n",
    "import random\n",
    "\n",
    "import transformers\n",
    "from transformers import GPT2Config, GPT2LMHeadModel, GPT2Tokenizer, GPT2TokenizerFast\n",
    "from transformers import PreTrainedTokenizerFast\n",
    "from transformers import AutoTokenizer, BertForSequenceClassification, Trainer, TrainingArguments, DataCollatorWithPadding, DataCollatorForLanguageModeling\n",
    "from datasets import Dataset, DatasetDict,load_dataset #, load_metric\n",
    "from transformers.tokenization_utils_base import AddedToken\n",
    "\n",
    "# import tensorflow as tf\n",
    "\n",
    "from sklearn.model_selection import train_test_split\n",
    "\n",
    "import torch\n",
    "\n",
    "\n",
    "import ast # Because the tokenized_text column data is stored as a string instead of a list...\n",
    "import pandas as pd\n",
    "\n"
   ]
  },
  {
   "cell_type": "markdown",
   "metadata": {},
   "source": [
    "This makes use of the Hugging Face transformer.trainer API so it uses a PyTorch backend"
   ]
  },
  {
   "cell_type": "code",
   "execution_count": 2,
   "metadata": {},
   "outputs": [
    {
     "name": "stdout",
     "output_type": "stream",
     "text": [
      "You are usisng cuda on a NVIDIA GeForce RTX 2060 SUPER.\n"
     ]
    }
   ],
   "source": [
    "# Check pytorch GPU availability\n",
    "device = torch.device(\"cuda\" if torch.cuda.is_available() else \"cpu\")\n",
    "print(f'You are usisng {device} on a {torch.cuda.get_device_name()}.')"
   ]
  },
  {
   "cell_type": "markdown",
   "metadata": {},
   "source": [
    "# Grab the dataset\n",
    "\n",
    "1) Get the dataset\n",
    "2) Fix the tokenize_text column from a string to a list of strings\n",
    "3) Pull out all of the words into a mega-list\n",
    "\n",
    "**SOMTHING IS WRONG WITH THE DATASET.  Likely an issue with the preprocessing steps...**\n",
    "\n",
    "See:\n",
    "\n",
    "Item 19152 seems like it is too many cards put together... I need to figure out what is going on.\n",
    "\n",
    "'Crash Landing — Search your library for a basic land card , reveal it , put it into your hand , then shuffle . \\\\n Goblin Camp — Create a Treasure token . \\\\n Emerald Grove — Create a 2/2 white Knight creature token . \\\\n Auntie\\'s Teahouse — Scry 3 . \\\\n Defiled Temple — You may sacrifice a permanent . If you do , draw a card . \\\\n Mountain Pass — You may put a land card from your hand onto the battlefield . \\\\n Ebonlake Grotto — Create two 1/1 blue Faerie Dragon creature tokens with flying . \\\\n Grymforge — For each opponent , goad up to one target creature that player controls . \\\\n Githyanki Crèche — Distribute three +1/+1 counters among up to three target creatures you control . \\\\n Last Light Inn — Draw two cards . \\\\n Reithwin Tollhouse — Roll 2d4 and create that many Treasure tokens . \\\\n Moonrise Towers — Instant and sorcery spells you cast this turn cost 3 less to cast . \\\\n Gauntlet of Shar — Each opponent loses 5 life . \\\\n Balthazar\\'s Lab — Return up to two target creature cards from your graveyard to your hand . \\\\n Circus of the Last Days — Create a token that\\'s a copy of one of your commanders , except it\\'s not legendary . \\\\n Undercity Ruins — Create three 4/1 black Skeleton creature tokens with menace . \\\\n Steel Watch Foundry — You get an emblem with \"Creatures you control get +2/+2 and have trample . \" \\\\n Ansur\\'s Sanctum — Reveal the top four cards of your library and put them into your hand . Each opponent loses life equal to those cards\\' total mana value . \\\\n Temple of Bhaal — Creatures your opponents control get -5/-5 until end of turn .'\n"
   ]
  },
  {
   "cell_type": "code",
   "execution_count": 4,
   "metadata": {},
   "outputs": [],
   "source": [
    "# Read the processed card data from wherever you have it.\n",
    "\n",
    "# df = pd.read_csv('../data/processed/mtg_carddata_processed.csv')\n",
    "\n",
    "# df = pd.read_csv('../data/processed/mtg_carddata_processed_2_23_25.csv')  # Trainer and current process will work with this dataset\n",
    "\n",
    "df = pd.read_csv('../data/processed/training_data.tsv', sep=\"\\t\")"
   ]
  },
  {
   "cell_type": "code",
   "execution_count": 5,
   "metadata": {},
   "outputs": [
    {
     "data": {
      "text/html": [
       "<div>\n",
       "<style scoped>\n",
       "    .dataframe tbody tr th:only-of-type {\n",
       "        vertical-align: middle;\n",
       "    }\n",
       "\n",
       "    .dataframe tbody tr th {\n",
       "        vertical-align: top;\n",
       "    }\n",
       "\n",
       "    .dataframe thead th {\n",
       "        text-align: right;\n",
       "    }\n",
       "</style>\n",
       "<table border=\"1\" class=\"dataframe\">\n",
       "  <thead>\n",
       "    <tr style=\"text-align: right;\">\n",
       "      <th></th>\n",
       "      <th>sentence</th>\n",
       "    </tr>\n",
       "  </thead>\n",
       "  <tbody>\n",
       "    <tr>\n",
       "      <th>0</th>\n",
       "      <td>[start] &lt;THEMES&gt; N Identity , Artifact , N Col...</td>\n",
       "    </tr>\n",
       "    <tr>\n",
       "      <th>1</th>\n",
       "      <td>[start] &lt;THEMES&gt; N Identity , Artifact , N Col...</td>\n",
       "    </tr>\n",
       "    <tr>\n",
       "      <th>2</th>\n",
       "      <td>[start] &lt;THEMES&gt; N Identity , Artifact , N Col...</td>\n",
       "    </tr>\n",
       "    <tr>\n",
       "      <th>3</th>\n",
       "      <td>[start] &lt;THEMES&gt; N Identity , Artifact , N Col...</td>\n",
       "    </tr>\n",
       "    <tr>\n",
       "      <th>4</th>\n",
       "      <td>[start] &lt;THEMES&gt; N Identity , Artifact , N Col...</td>\n",
       "    </tr>\n",
       "    <tr>\n",
       "      <th>...</th>\n",
       "      <td>...</td>\n",
       "    </tr>\n",
       "    <tr>\n",
       "      <th>1295899</th>\n",
       "      <td>[start] &lt;THEMES&gt; Creature , W Color , Creature...</td>\n",
       "    </tr>\n",
       "    <tr>\n",
       "      <th>1295900</th>\n",
       "      <td>[start] &lt;THEMES&gt; Creature , W Color , Creature...</td>\n",
       "    </tr>\n",
       "    <tr>\n",
       "      <th>1295901</th>\n",
       "      <td>[start] &lt;THEMES&gt; Creature , W Color , Creature...</td>\n",
       "    </tr>\n",
       "    <tr>\n",
       "      <th>1295902</th>\n",
       "      <td>[start] &lt;THEMES&gt; Creature , W Color , Creature...</td>\n",
       "    </tr>\n",
       "    <tr>\n",
       "      <th>1295903</th>\n",
       "      <td>[start] &lt;THEMES&gt; Creature , W Color , Creature...</td>\n",
       "    </tr>\n",
       "  </tbody>\n",
       "</table>\n",
       "<p>1295904 rows × 1 columns</p>\n",
       "</div>"
      ],
      "text/plain": [
       "                                                  sentence\n",
       "0        [start] <THEMES> N Identity , Artifact , N Col...\n",
       "1        [start] <THEMES> N Identity , Artifact , N Col...\n",
       "2        [start] <THEMES> N Identity , Artifact , N Col...\n",
       "3        [start] <THEMES> N Identity , Artifact , N Col...\n",
       "4        [start] <THEMES> N Identity , Artifact , N Col...\n",
       "...                                                    ...\n",
       "1295899  [start] <THEMES> Creature , W Color , Creature...\n",
       "1295900  [start] <THEMES> Creature , W Color , Creature...\n",
       "1295901  [start] <THEMES> Creature , W Color , Creature...\n",
       "1295902  [start] <THEMES> Creature , W Color , Creature...\n",
       "1295903  [start] <THEMES> Creature , W Color , Creature...\n",
       "\n",
       "[1295904 rows x 1 columns]"
      ]
     },
     "execution_count": 5,
     "metadata": {},
     "output_type": "execute_result"
    }
   ],
   "source": [
    "df"
   ]
  },
  {
   "cell_type": "code",
   "execution_count": 6,
   "metadata": {},
   "outputs": [
    {
     "data": {
      "text/html": [
       "<div>\n",
       "<style scoped>\n",
       "    .dataframe tbody tr th:only-of-type {\n",
       "        vertical-align: middle;\n",
       "    }\n",
       "\n",
       "    .dataframe tbody tr th {\n",
       "        vertical-align: top;\n",
       "    }\n",
       "\n",
       "    .dataframe thead th {\n",
       "        text-align: right;\n",
       "    }\n",
       "</style>\n",
       "<table border=\"1\" class=\"dataframe\">\n",
       "  <thead>\n",
       "    <tr style=\"text-align: right;\">\n",
       "      <th></th>\n",
       "      <th>sentence</th>\n",
       "    </tr>\n",
       "  </thead>\n",
       "  <tbody>\n",
       "    <tr>\n",
       "      <th>0</th>\n",
       "      <td>[start] &lt;THEMES&gt; N Identity , Artifact , N Col...</td>\n",
       "    </tr>\n",
       "    <tr>\n",
       "      <th>1</th>\n",
       "      <td>[start] &lt;THEMES&gt; N Identity , Artifact , N Col...</td>\n",
       "    </tr>\n",
       "    <tr>\n",
       "      <th>2</th>\n",
       "      <td>[start] &lt;THEMES&gt; N Identity , Artifact , N Col...</td>\n",
       "    </tr>\n",
       "    <tr>\n",
       "      <th>3</th>\n",
       "      <td>[start] &lt;THEMES&gt; N Identity , Artifact , N Col...</td>\n",
       "    </tr>\n",
       "    <tr>\n",
       "      <th>4</th>\n",
       "      <td>[start] &lt;THEMES&gt; N Identity , Artifact , N Col...</td>\n",
       "    </tr>\n",
       "    <tr>\n",
       "      <th>5</th>\n",
       "      <td>[start] &lt;THEMES&gt; N Identity , Artifact , N Col...</td>\n",
       "    </tr>\n",
       "    <tr>\n",
       "      <th>6</th>\n",
       "      <td>[start] &lt;THEMES&gt; N Identity , Artifact , N Col...</td>\n",
       "    </tr>\n",
       "  </tbody>\n",
       "</table>\n",
       "</div>"
      ],
      "text/plain": [
       "                                            sentence\n",
       "0  [start] <THEMES> N Identity , Artifact , N Col...\n",
       "1  [start] <THEMES> N Identity , Artifact , N Col...\n",
       "2  [start] <THEMES> N Identity , Artifact , N Col...\n",
       "3  [start] <THEMES> N Identity , Artifact , N Col...\n",
       "4  [start] <THEMES> N Identity , Artifact , N Col...\n",
       "5  [start] <THEMES> N Identity , Artifact , N Col...\n",
       "6  [start] <THEMES> N Identity , Artifact , N Col..."
      ]
     },
     "execution_count": 6,
     "metadata": {},
     "output_type": "execute_result"
    }
   ],
   "source": [
    "df[:7]"
   ]
  },
  {
   "cell_type": "code",
   "execution_count": 8,
   "metadata": {},
   "outputs": [
    {
     "data": {
      "text/plain": [
       "'[start] <THEMES> N Identity , Artifact , N Color , {3} Cost'"
      ]
     },
     "execution_count": 8,
     "metadata": {},
     "output_type": "execute_result"
    }
   ],
   "source": [
    "df['sentence'][0]"
   ]
  },
  {
   "cell_type": "code",
   "execution_count": 9,
   "metadata": {},
   "outputs": [
    {
     "name": "stdout",
     "output_type": "stream",
     "text": [
      "0    [start] <THEMES> N Identity , Artifact , N Col...\n",
      "1    [start] <THEMES> N Identity , Artifact , N Col...\n",
      "2    [start] <THEMES> N Identity , Artifact , N Col...\n",
      "Name: sentence, dtype: object\n"
     ]
    }
   ],
   "source": [
    "corpus = df['sentence']\n",
    "print(corpus[0:3])"
   ]
  },
  {
   "cell_type": "code",
   "execution_count": 10,
   "metadata": {},
   "outputs": [],
   "source": [
    "# Convert corpus to list of strings if it's not already\n",
    "corpus_list = corpus.tolist() if hasattr(corpus, 'tolist') else list(corpus)"
   ]
  },
  {
   "cell_type": "code",
   "execution_count": 11,
   "metadata": {},
   "outputs": [
    {
     "data": {
      "text/plain": [
       "pandas.core.series.Series"
      ]
     },
     "execution_count": 11,
     "metadata": {},
     "output_type": "execute_result"
    }
   ],
   "source": [
    "type(corpus)"
   ]
  },
  {
   "cell_type": "code",
   "execution_count": 12,
   "metadata": {},
   "outputs": [
    {
     "data": {
      "text/plain": [
       "str"
      ]
     },
     "execution_count": 12,
     "metadata": {},
     "output_type": "execute_result"
    }
   ],
   "source": [
    "type(corpus_list[0])"
   ]
  },
  {
   "cell_type": "code",
   "execution_count": 13,
   "metadata": {},
   "outputs": [],
   "source": [
    "# Convert pandas Series to list of strings\n",
    "corpus_list = corpus.values.tolist()\n",
    "\n",
    "# Ensure all elements are strings\n",
    "corpus_list = [str(text) for text in corpus_list]"
   ]
  },
  {
   "cell_type": "code",
   "execution_count": 14,
   "metadata": {},
   "outputs": [
    {
     "data": {
      "text/plain": [
       "'[start] <THEMES> N Identity , Artifact , N Color , {3} Cost'"
      ]
     },
     "execution_count": 14,
     "metadata": {},
     "output_type": "execute_result"
    }
   ],
   "source": [
    "# Corrected the above code to ensure all elements are strings\n",
    "corpus_list[0]"
   ]
  },
  {
   "cell_type": "code",
   "execution_count": 15,
   "metadata": {},
   "outputs": [
    {
     "name": "stdout",
     "output_type": "stream",
     "text": [
      "<class 'list'>\n",
      "<class 'str'>\n"
     ]
    }
   ],
   "source": [
    "# Check the first few elements to verify\n",
    "print(type(corpus_list))  # Should show: <class 'list'>\n",
    "print(type(corpus_list[0]))  # Should show: <class 'str'>"
   ]
  },
  {
   "cell_type": "markdown",
   "metadata": {},
   "source": [
    "# Split into train/val/test datasets\n",
    "\n",
    "Do we need to keep other information with the corpus_list as we split it up?  Names, color, etc.?\n",
    "\n",
    "If we're just generating text, I think that answer is no.  If we want more, then the answer is likely yes."
   ]
  },
  {
   "cell_type": "code",
   "execution_count": 16,
   "metadata": {},
   "outputs": [],
   "source": [
    "# Split data into train/validation/test (80/10/10) sets\n",
    "train_list, temp = train_test_split(corpus_list, test_size=0.2, random_state=42) # Set 80% for training\n",
    "val, test = train_test_split(temp, test_size=0.5, random_state=42) # Set 10% for validation and 10% for testing"
   ]
  },
  {
   "cell_type": "code",
   "execution_count": 17,
   "metadata": {},
   "outputs": [
    {
     "data": {
      "text/plain": [
       "DatasetDict({\n",
       "    train: Dataset({\n",
       "        features: ['sentence'],\n",
       "        num_rows: 1036723\n",
       "    })\n",
       "    validation: Dataset({\n",
       "        features: ['sentence'],\n",
       "        num_rows: 129590\n",
       "    })\n",
       "    test: Dataset({\n",
       "        features: ['sentence'],\n",
       "        num_rows: 129591\n",
       "    })\n",
       "})"
      ]
     },
     "execution_count": 17,
     "metadata": {},
     "output_type": "execute_result"
    }
   ],
   "source": [
    "# Turn them into dicts so I can use them with the Hugging Face Dataset class\n",
    "train = [{\"sentence\": text} for text in train_list]  # Wrap each sentence in a dict\n",
    "val = [{\"sentence\": text} for text in val]\n",
    "test = [{\"sentence\": text} for text in test]\n",
    "\n",
    "# Create the Dataset Dictionary for future mapping\n",
    "data = DatasetDict({\n",
    "    'train': Dataset.from_list(train),\n",
    "    'validation': Dataset.from_list(val),\n",
    "    'test': Dataset.from_list(test)\n",
    "    })\n",
    "\n",
    "data"
   ]
  },
  {
   "cell_type": "code",
   "execution_count": 18,
   "metadata": {},
   "outputs": [
    {
     "ename": "SyntaxError",
     "evalue": "expected '(' (4257267261.py, line 1)",
     "output_type": "error",
     "traceback": [
      "  \u001b[36mCell\u001b[39m\u001b[36m \u001b[39m\u001b[32mIn[18]\u001b[39m\u001b[32m, line 1\u001b[39m\n\u001b[31m    \u001b[39m\u001b[31mdef df\u001b[39m\n          ^\n\u001b[31mSyntaxError\u001b[39m\u001b[31m:\u001b[39m expected '('\n"
     ]
    }
   ],
   "source": [
    "def df"
   ]
  },
  {
   "cell_type": "code",
   "execution_count": 19,
   "metadata": {},
   "outputs": [],
   "source": [
    "del corpus"
   ]
  },
  {
   "cell_type": "code",
   "execution_count": 20,
   "metadata": {},
   "outputs": [],
   "source": [
    "del train_list"
   ]
  },
  {
   "cell_type": "code",
   "execution_count": 21,
   "metadata": {},
   "outputs": [],
   "source": [
    "del temp"
   ]
  },
  {
   "cell_type": "code",
   "execution_count": 22,
   "metadata": {},
   "outputs": [],
   "source": [
    "del train"
   ]
  },
  {
   "cell_type": "code",
   "execution_count": 23,
   "metadata": {},
   "outputs": [],
   "source": [
    "del val"
   ]
  },
  {
   "cell_type": "code",
   "execution_count": 24,
   "metadata": {},
   "outputs": [],
   "source": [
    "del test"
   ]
  },
  {
   "cell_type": "code",
   "execution_count": 25,
   "metadata": {},
   "outputs": [
    {
     "data": {
      "text/plain": [
       "{'sentence': ['[start] <THEMES> B Identity , 1 1 Counters , Creature , Sacrifice , Creature Based , B Color , Zombie , {2} {B} Cost <CARD_NAME> <name> <MANA_COST> {2} {B} <TYPE_LINE> Creature — Zombie <ORACLE_TEXT> {1} {B} , Sacrifice another creature : Put two 1 1 counters on <name> . Activate only as a',\n",
       "  '[start] <THEMES> Damage , Flash , Enchantment , R Color , R Identity , {3} {R} {R} Cost <CARD_NAME> <name> <MANA_COST> {3} {R} {R} <TYPE_LINE> Enchantment <ORACLE_TEXT> Flash \\\\n If a source would deal damage to a permanent or player , it deals double that damage to that permanent or player instead',\n",
       "  '[start] <THEMES> {2} {W} Cost , Enchantment , W Color , Tokens , Treasure Tokens , W Identity , Card Draw <CARD_NAME> <name> <MANA_COST> {2} {W} <TYPE_LINE> Enchantment <ORACLE_TEXT> At the beginning',\n",
       "  '[start] <THEMES> {3} {W} Cost , W Color , Creature Based , Sorcery , Rebound , W Identity <CARD_NAME> <name> <MANA_COST> {3} {W} <TYPE_LINE> Sorcery <ORACLE_TEXT> Creatures you control get 2 1 until end of turn . \\\\n Rebound ( If you cast this spell from your hand , exile it as it resolves . At the beginning of your next upkeep , you may',\n",
       "  \"[start] <THEMES> Planeswalker , UW Identity , Narset , Rebound , UW Color , {2} {W} {U} Cost , Legendary <CARD_NAME> <name> <MANA_COST> {2} {W} {U} <TYPE_LINE> Legendary Planeswalker — Narset <ORACLE_TEXT> 1 : Look at the top card of your library . If it's a noncreature , nonland card , you may reveal it and put it into your hand . \\\\n −2\"]}"
      ]
     },
     "execution_count": 43,
     "metadata": {},
     "output_type": "execute_result"
    }
   ],
   "source": [
    "# Check the items\n",
    "data['train'][10:20]"
   ]
  },
  {
   "cell_type": "code",
   "execution_count": 26,
   "metadata": {},
   "outputs": [
    {
     "data": {
      "text/plain": [
       "'[start] <THEMES> Storage Counters , Land , Cost , U Identity , N Color <CARD_NAME> <name> <MANA_COST> <TYPE_LINE> Land <ORACLE_TEXT> <name> enters tapped . \\\\n {T} : Put a storage counter on <name> . \\\\n {T} ,'"
      ]
     },
     "execution_count": 26,
     "metadata": {},
     "output_type": "execute_result"
    }
   ],
   "source": [
    "data['validation']['sentence'][0]"
   ]
  },
  {
   "cell_type": "markdown",
   "metadata": {},
   "source": [
    "# Train the Tokenizer on Training Data\n",
    "\n",
    "Keep the validation and test sets out of the tokenizer to prevent data leakage."
   ]
  },
  {
   "cell_type": "code",
   "execution_count": 27,
   "metadata": {},
   "outputs": [],
   "source": [
    "# Create a directory for tokenizer files if it doesn't exist\n",
    "models_dir = \"../models/themed_data\"\n",
    "os.makedirs(models_dir, exist_ok=True)"
   ]
  },
  {
   "cell_type": "markdown",
   "metadata": {},
   "source": [
    "## Tokenizer Functions\n",
    "\n",
    "1) `create_gpt2_tokenizer`\n",
    "\n",
    "2) `train_tokenizer_from_texts`\n",
    "\n",
    "3) `convert_to_transformers_tokenizer` -> This is important to allow `trainer.train` to work\n",
    "\n",
    "4) `use_transformers_tokenizer`\n",
    "\n",
    "5) `load_transformers_tokenizer` -> Used if you have one to load, else just carry from `tokenizer=convert_to_transformers_tokenizer`\n",
    "\n",
    "6) `demonstrate_workflow2` -> make sure this whole thing even works..."
   ]
  },
  {
   "cell_type": "code",
   "execution_count": 28,
   "metadata": {},
   "outputs": [],
   "source": [
    "def create_gpt2_tokenizer(vocab_size=8192, min_frequency=2):\n",
    "    \"\"\"\n",
    "    Create a GPT2-style BPE tokenizer from scratch using Hugging Face tokenizers library.\n",
    "\n",
    "    Args:\n",
    "        vocab_size: The size of the vocabulary to learn\n",
    "        min_frequency: Minimum frequency for a token to be considered in the BPE algorithm\n",
    "\n",
    "    Returns:\n",
    "        A tokenizer object ready for training\n",
    "    \"\"\"\n",
    "    # Initialize a ByteLevelBPE model-based tokenizer\n",
    "    tokenizer = Tokenizer(models.BPE())\n",
    "\n",
    "    # Add byte-level pre-tokenizer\n",
    "    tokenizer.pre_tokenizer = pre_tokenizers.ByteLevel(add_prefix_space=False)\n",
    "\n",
    "    # Add decoder to properly decode byte-level tokens\n",
    "    tokenizer.decoder = decoders.ByteLevel()\n",
    "\n",
    "    # Set up normalizers - GPT-2 doesn't do much normalization\n",
    "    tokenizer.normalizer = Sequence([NFKC()])\n",
    "\n",
    "    # Return the tokenizer (to be trained later)\n",
    "    return tokenizer\n",
    "\n",
    "\n",
    "def train_tokenizer_from_texts(\n",
    "    tokenizer: Tokenizer,\n",
    "    texts: List[str],\n",
    "    vocab_size: int = 8192,\n",
    "    min_frequency: int = 2,\n",
    "    batch_size: int = 512,\n",
    "    output_dir: str = \"tokenizer\"\n",
    "):\n",
    "    \"\"\"\n",
    "    Train the tokenizer on a list of texts using batching\n",
    "\n",
    "    Args:\n",
    "        tokenizer: The tokenizer object to train\n",
    "        texts: List of strings to use for training\n",
    "        vocab_size: Maximum vocabulary size\n",
    "        min_frequency: Minimum frequency for a token\n",
    "        batch_size: Number of texts to process in each batch\n",
    "        output_dir: Directory to save the trained tokenizer\n",
    "\n",
    "    Returns:\n",
    "        The trained tokenizer\n",
    "    \"\"\"\n",
    "    if not texts:\n",
    "        raise ValueError(\"No texts provided for training\")\n",
    "\n",
    "    # Configure the BPE trainer\n",
    "    trainer = trainers.BpeTrainer(\n",
    "        vocab_size=vocab_size,\n",
    "        min_frequency=min_frequency,\n",
    "        special_tokens=[\"<|endoftext|>\", \"<|pad|>\"],\n",
    "        show_progress=True,\n",
    "    )\n",
    "\n",
    "    # Create temporary files for batched training\n",
    "    temp_dir = os.path.join(output_dir, \"temp\")\n",
    "    os.makedirs(temp_dir, exist_ok=True)\n",
    "\n",
    "    # Split texts into batches\n",
    "    batches = [texts[i:i+batch_size] for i in range(0, len(texts), batch_size)]\n",
    "    batch_files = []\n",
    "\n",
    "    print(f\"Preparing {len(batches)} batches for training...\")\n",
    "\n",
    "    # Write batches to temporary files\n",
    "    for i, batch in enumerate(tqdm(batches)):\n",
    "        batch_file = os.path.join(temp_dir, f\"batch_{i}.txt\")\n",
    "        with open(batch_file, \"w\", encoding=\"utf-8\") as f:\n",
    "            f.write(\"\\n<|endoftext|>\\n\".join(batch))\n",
    "            f.write(\"\\n<|endoftext|>\\n\")  # Add final separator\n",
    "        batch_files.append(batch_file)\n",
    "\n",
    "    # Train the tokenizer\n",
    "    print(\"Training tokenizer...\")\n",
    "    tokenizer.train(batch_files, trainer)\n",
    "\n",
    "    # Add post-processor to handle special tokens\n",
    "    tokenizer.post_processor = processors.ByteLevel(trim_offsets=False)\n",
    "\n",
    "    # Enable padding with the PAD token\n",
    "    pad_id = tokenizer.token_to_id(\"<|pad|>\")\n",
    "    if pad_id is not None:\n",
    "        tokenizer.enable_padding(pad_id=pad_id, pad_token=\"<|pad|>\")\n",
    "    else:\n",
    "        print(\"Warning: <|pad|> token not found in vocabulary. Padding won't work correctly.\")\n",
    "\n",
    "    # Save the trained tokenizer\n",
    "    if not os.path.exists(output_dir):\n",
    "        os.makedirs(output_dir)\n",
    "    tokenizer.save(f\"{output_dir}/gpt2_tokenizer.json\")\n",
    "\n",
    "    # Clean up temporary files\n",
    "    for file in batch_files:\n",
    "        os.remove(file)\n",
    "    os.rmdir(temp_dir)\n",
    "\n",
    "    print(f\"Tokenizer trained and saved to {output_dir}/gpt2_tokenizer.json\")\n",
    "    return tokenizer\n",
    "\n",
    "\n",
    "def convert_to_transformers_tokenizer(\n",
    "    tokenizer_path: str,\n",
    "    output_dir: str = None,\n",
    "    model_max_length: int = 1024\n",
    "):\n",
    "    \"\"\"\n",
    "    Convert a trained tokenizers.Tokenizer to a transformers compatible tokenizer\n",
    "\n",
    "    Args:\n",
    "        tokenizer_path: Path to the saved tokenizer JSON file\n",
    "        output_dir: Directory to save the transformers tokenizer\n",
    "        model_max_length: Maximum sequence length for the model\n",
    "\n",
    "    Returns:\n",
    "        A transformers-compatible tokenizer\n",
    "    \"\"\"\n",
    "    # Load the tokenizer\n",
    "    if isinstance(tokenizer_path, Tokenizer):\n",
    "        # If a tokenizer object is passed directly\n",
    "        raw_tokenizer = tokenizer_path\n",
    "    else:\n",
    "        # Load from file\n",
    "        raw_tokenizer = Tokenizer.from_file(tokenizer_path)\n",
    "\n",
    "    # Define special tokens\n",
    "    eos_token = \"<|endoftext|>\"  # GPT-2 uses EOS as both BOS and EOS\n",
    "    pad_token = \"<|pad|>\"\n",
    "\n",
    "    # Create the transformers wrapper\n",
    "    transformers_tokenizer = PreTrainedTokenizerFast(\n",
    "        tokenizer_object=raw_tokenizer,\n",
    "        bos_token=eos_token,  # GPT-2 uses EOS as BOS too\n",
    "        eos_token=eos_token,\n",
    "        pad_token=pad_token,\n",
    "        unk_token=eos_token,  # GPT-2 doesn't really have UNK, defaults to EOS\n",
    "        model_max_length=model_max_length\n",
    "    )\n",
    "\n",
    "    # Set additional GPT-2 specific attributes\n",
    "    transformers_tokenizer.add_special_tokens({\n",
    "        \"eos_token\": eos_token,\n",
    "        \"bos_token\": eos_token,\n",
    "        \"pad_token\": pad_token,\n",
    "    })\n",
    "\n",
    "    # Save the transformers tokenizer if an output directory is provided\n",
    "    if output_dir:\n",
    "        os.makedirs(output_dir, exist_ok=True)\n",
    "        transformers_tokenizer.save_pretrained(output_dir)\n",
    "        print(f\"Transformers tokenizer saved to {output_dir}\")\n",
    "\n",
    "    return transformers_tokenizer\n",
    "\n",
    "\n",
    "def use_transformers_tokenizer(tokenizer, text, padding=True, truncation=True, max_length=None, return_tensors=None):\n",
    "    \"\"\"\n",
    "    Demonstrate how to use the transformers tokenizer\n",
    "\n",
    "    Args:\n",
    "        tokenizer: The transformers tokenizer\n",
    "        text: Text to tokenize or list of texts\n",
    "        padding: Whether to pad the sequences (True, False, 'max_length', 'longest')\n",
    "        truncation: Whether to truncate sequences (True, False)\n",
    "        max_length: Maximum length for padding/truncation (defaults to model_max_length if None)\n",
    "        return_tensors: Return format for tensors ('pt' for PyTorch, 'tf' for TensorFlow, None for lists)\n",
    "\n",
    "    Returns:\n",
    "        Encoding object(s) with tokens, ids, etc.\n",
    "    \"\"\"\n",
    "    # Configure parameters\n",
    "    if max_length is None:\n",
    "        max_length = tokenizer.model_max_length\n",
    "\n",
    "    # Encode the text(s)\n",
    "    encoded = tokenizer(\n",
    "        text,\n",
    "        padding=padding,\n",
    "        truncation=truncation,\n",
    "        max_length=max_length,\n",
    "        return_tensors=return_tensors\n",
    "    )\n",
    "\n",
    "    # Display results for single text if it's a string\n",
    "    if isinstance(text, str):\n",
    "        print(f\"Input text: {text}\")\n",
    "        print(f\"Token IDs: {encoded['input_ids'].tolist()[0] if return_tensors else encoded['input_ids']}\")\n",
    "        tokens = tokenizer.convert_ids_to_tokens(\n",
    "            encoded['input_ids'].tolist()[0] if return_tensors else encoded['input_ids']\n",
    "        )\n",
    "        print(f\"Tokens: {tokens}\")\n",
    "\n",
    "        if padding:\n",
    "            print(f\"Attention mask: {encoded['attention_mask'].tolist()[0] if return_tensors else encoded['attention_mask']}\")\n",
    "\n",
    "        # Decoding demonstration\n",
    "        decoded = tokenizer.decode(\n",
    "            encoded['input_ids'].tolist()[0] if return_tensors else encoded['input_ids'],\n",
    "            skip_special_tokens=True\n",
    "        )\n",
    "        print(f\"Decoded text: {decoded}\")\n",
    "\n",
    "    return encoded\n",
    "\n",
    "\n",
    "def load_transformers_tokenizer(path):\n",
    "    \"\"\"\n",
    "    Load a previously saved transformers tokenizer\n",
    "\n",
    "    Args:\n",
    "        path: Path to the saved transformers tokenizer directory\n",
    "\n",
    "    Returns:\n",
    "        The loaded transformers tokenizer\n",
    "    \"\"\"\n",
    "    return GPT2TokenizerFast.from_pretrained(path)\n",
    "\n",
    "\n",
    "def demonstrate_workflow2():\n",
    "    \"\"\"\n",
    "    Full demonstration of creating, training, and using a GPT-2 style tokenizer\n",
    "    that's compatible with the transformers library\n",
    "    \"\"\"\n",
    "    # Create a new tokenizer\n",
    "    print(\"Creating tokenizer...\")\n",
    "    tokenizer = create_gpt2_tokenizer()\n",
    "\n",
    "    # Generate some sample texts for demonstration\n",
    "    print(\"Generating sample texts...\")\n",
    "    sample_texts = [\n",
    "        \"This is an example of text that could be used to train a tokenizer.\",\n",
    "        \"It should include diverse vocabulary, punctuation (like commas, periods, question marks?).\",\n",
    "        \"Multiple paragraphs are good to include.\",\n",
    "        \"Numbers like 42, 3.14159, and 2023 should be represented.\",\n",
    "        \"Code snippets might be important if your model will process code:\\ndef hello_world():\\n    print('Hello, world!')\",\n",
    "    ]\n",
    "\n",
    "    # Add some more generated texts for better training\n",
    "    for i in range(50):\n",
    "        words = [\"The\", \"quick\", \"brown\", \"fox\", \"jumps\", \"over\", \"lazy\", \"dog\",\n",
    "                \"Hello\", \"world\", \"Python\", \"programming\", \"is\", \"fun\", \"GPT\",\n",
    "                \"natural\", \"language\", \"processing\", \"models\", \"work\", \"well\"]\n",
    "        length = random.randint(5, 20)\n",
    "        text = \" \".join(random.choices(words, k=length)) + \".\"\n",
    "        sample_texts.append(text)\n",
    "\n",
    "    # Train the tokenizer on the sample texts\n",
    "    print(f\"Training tokenizer on {len(sample_texts)} texts...\")\n",
    "    raw_tokenizer = train_tokenizer_from_texts(\n",
    "        tokenizer,\n",
    "        sample_texts,\n",
    "        vocab_size=1000,  # Smaller vocab for demo\n",
    "        min_frequency=1,\n",
    "        batch_size=20,\n",
    "        output_dir=\"tokenizer_demo\"\n",
    "    )\n",
    "\n",
    "    # Convert to transformers tokenizer\n",
    "    print(\"\\nConverting to transformers tokenizer...\")\n",
    "    transformers_tokenizer = convert_to_transformers_tokenizer(\n",
    "        \"tokenizer_demo/gpt2_tokenizer.json\",\n",
    "        output_dir=\"transformers_tokenizer_demo\",\n",
    "        model_max_length=512\n",
    "    )\n",
    "\n",
    "    # Test the transformers tokenizer\n",
    "    print(\"\\nTesting transformers tokenizer...\")\n",
    "    test_texts = [\n",
    "        \"This is a short text.\",\n",
    "        \"This is a slightly longer text with more content.\",\n",
    "        \"Let's see how padding works on texts of different lengths.\"\n",
    "    ]\n",
    "\n",
    "    # Encode with transformers tokenizer (return PyTorch tensors)\n",
    "    print(\"\\nEncoding with PyTorch tensors:\")\n",
    "    encodings = use_transformers_tokenizer(\n",
    "        transformers_tokenizer,\n",
    "        test_texts,\n",
    "        padding=True,\n",
    "        return_tensors=\"pt\"\n",
    "    )\n",
    "\n",
    "    # Show that it can be saved and loaded\n",
    "    print(\"\\nLoading saved transformers tokenizer:\")\n",
    "    loaded_tokenizer = load_transformers_tokenizer(\"transformers_tokenizer_demo\")\n",
    "    test_encode = loaded_tokenizer(\n",
    "        \"Testing that loading works correctly.\",\n",
    "        return_tensors=\"pt\"\n",
    "    )\n",
    "    print(f\"Encoded IDs: {test_encode['input_ids'].tolist()[0]}\")\n",
    "    print(f\"Decoded: {loaded_tokenizer.decode(test_encode['input_ids'][0])}\")\n",
    "\n",
    "    return transformers_tokenizer"
   ]
  },
  {
   "cell_type": "code",
   "execution_count": 29,
   "metadata": {},
   "outputs": [
    {
     "name": "stdout",
     "output_type": "stream",
     "text": [
      "Creating tokenizer...\n",
      "Generating sample texts...\n",
      "Training tokenizer on 55 texts...\n",
      "Preparing 3 batches for training...\n"
     ]
    },
    {
     "name": "stderr",
     "output_type": "stream",
     "text": [
      "100%|████████████████████████████████████████████████████████████████████████████████████| 3/3 [00:00<00:00, 261.29it/s]"
     ]
    },
    {
     "name": "stdout",
     "output_type": "stream",
     "text": [
      "Training tokenizer...\n",
      "\n",
      "\n",
      "\n",
      "Tokenizer trained and saved to tokenizer_demo/gpt2_tokenizer.json\n",
      "\n",
      "Converting to transformers tokenizer...\n",
      "Transformers tokenizer saved to transformers_tokenizer_demo\n",
      "\n",
      "Testing transformers tokenizer...\n",
      "\n",
      "Encoding with PyTorch tensors:\n",
      "\n",
      "Loading saved transformers tokenizer:\n"
     ]
    },
    {
     "name": "stderr",
     "output_type": "stream",
     "text": [
      "\n",
      "The tokenizer class you load from this checkpoint is not the same type as the class this function is called from. It may result in unexpected tokenization. \n",
      "The tokenizer class you load from this checkpoint is 'PreTrainedTokenizer'. \n",
      "The class this function is called from is 'GPT2TokenizerFast'.\n"
     ]
    },
    {
     "name": "stdout",
     "output_type": "stream",
     "text": [
      "Encoded IDs: [26, 133, 47, 76, 286, 56, 39, 42, 28, 31, 76, 102, 46, 162, 62, 179, 215, 39, 52, 7]\n",
      "Decoded: Testing that loading works correctly.\n"
     ]
    },
    {
     "data": {
      "text/plain": [
       "PreTrainedTokenizerFast(name_or_path='', vocab_size=337, model_max_length=512, is_fast=True, padding_side='right', truncation_side='right', special_tokens={'bos_token': '<|endoftext|>', 'eos_token': '<|endoftext|>', 'unk_token': '<|endoftext|>', 'pad_token': '<|pad|>'}, clean_up_tokenization_spaces=False, added_tokens_decoder={\n",
       "\t0: AddedToken(\"<|endoftext|>\", rstrip=False, lstrip=False, single_word=False, normalized=False, special=True),\n",
       "\t1: AddedToken(\"<|pad|>\", rstrip=False, lstrip=False, single_word=False, normalized=False, special=True),\n",
       "}\n",
       ")"
      ]
     },
     "execution_count": 29,
     "metadata": {},
     "output_type": "execute_result"
    }
   ],
   "source": [
    "# Check if this even works...\n",
    "demonstrate_workflow2()"
   ]
  },
  {
   "cell_type": "markdown",
   "metadata": {},
   "source": [
    "## Create and train the tokenizer"
   ]
  },
  {
   "cell_type": "code",
   "execution_count": 30,
   "metadata": {},
   "outputs": [
    {
     "name": "stdout",
     "output_type": "stream",
     "text": [
      "Preparing 2025 batches for training...\n"
     ]
    },
    {
     "name": "stderr",
     "output_type": "stream",
     "text": [
      "100%|██████████████████████████████████████████████████████████████████████████████| 2025/2025 [00:11<00:00, 181.52it/s]\n"
     ]
    },
    {
     "name": "stdout",
     "output_type": "stream",
     "text": [
      "Training tokenizer...\n",
      "\n",
      "\n",
      "\n",
      "Tokenizer trained and saved to ../models/themed_data/gpt2_tokenizer.json\n"
     ]
    }
   ],
   "source": [
    "# Train a tokenizer if you don't have one yet\n",
    "trained_tokenizer = create_gpt2_tokenizer(vocab_size=8192, min_frequency=2)\n",
    "\n",
    "# This saves the tokenizer out to memory as well\n",
    "trained_tokenizer = train_tokenizer_from_texts(tokenizer=trained_tokenizer, texts=data['train']['sentence'], batch_size=512, output_dir=models_dir)\n"
   ]
  },
  {
   "cell_type": "code",
   "execution_count": 31,
   "metadata": {},
   "outputs": [
    {
     "name": "stdout",
     "output_type": "stream",
     "text": [
      "Transformers tokenizer saved to ../models/themed_data\n"
     ]
    },
    {
     "data": {
      "text/plain": [
       "PreTrainedTokenizerFast(name_or_path='', vocab_size=7490, model_max_length=256, is_fast=True, padding_side='right', truncation_side='right', special_tokens={'bos_token': '<|endoftext|>', 'eos_token': '<|endoftext|>', 'unk_token': '<|endoftext|>', 'pad_token': '<|pad|>'}, clean_up_tokenization_spaces=False, added_tokens_decoder={\n",
       "\t0: AddedToken(\"<|endoftext|>\", rstrip=False, lstrip=False, single_word=False, normalized=False, special=True),\n",
       "\t1: AddedToken(\"<|pad|>\", rstrip=False, lstrip=False, single_word=False, normalized=False, special=True),\n",
       "}\n",
       ")"
      ]
     },
     "execution_count": 31,
     "metadata": {},
     "output_type": "execute_result"
    }
   ],
   "source": [
    "# This pulls the trained_tokenizer and makes it compatable with the transformers library for training\n",
    "# Needs to be a PreTrainedTokenizerFast object\n",
    "tokenizer_fast = convert_to_transformers_tokenizer(tokenizer_path=f\"{models_dir}/gpt2_tokenizer.json\",\n",
    "                                                   output_dir=models_dir, model_max_length=256)\n",
    "\n",
    "# Check the tokenizer\n",
    "tokenizer_fast"
   ]
  },
  {
   "cell_type": "code",
   "execution_count": 32,
   "metadata": {},
   "outputs": [
    {
     "name": "stdout",
     "output_type": "stream",
     "text": [
      "Input text: [start] <THEMES> N Identity , Creature Based , Artifact , N Color , {3} Cost <CARD_NAME> <name> <MANA_COST>\n",
      "Token IDs: [48, 128, 50, 91, 140, 21, 253, 132, 90, 112, 183, 90, 238, 90, 253, 129, 90, 93, 12, 80, 127, 91, 145, 51, 146, 21, 91, 117, 21, 91, 149, 51, 151, 21]\n",
      "Tokens: ['[', 'start', ']', 'Ġ<', 'THEMES', '>', 'ĠN', 'ĠIdentity', 'Ġ,', 'ĠCreature', 'ĠBased', 'Ġ,', 'ĠArtifact', 'Ġ,', 'ĠN', 'ĠColor', 'Ġ,', 'Ġ{', '3', '}', 'ĠCost', 'Ġ<', 'CARD', '_', 'NAME', '>', 'Ġ<', 'name', '>', 'Ġ<', 'MANA', '_', 'COST', '>']\n",
      "Attention mask: [1, 1, 1, 1, 1, 1, 1, 1, 1, 1, 1, 1, 1, 1, 1, 1, 1, 1, 1, 1, 1, 1, 1, 1, 1, 1, 1, 1, 1, 1, 1, 1, 1, 1]\n",
      "Decoded text: [start] <THEMES> N Identity , Creature Based , Artifact , N Color , {3} Cost <CARD_NAME> <name> <MANA_COST>\n"
     ]
    },
    {
     "data": {
      "text/plain": [
       "{'input_ids': tensor([[ 48, 128,  50,  91, 140,  21, 253, 132,  90, 112, 183,  90, 238,  90,\n",
       "         253, 129,  90,  93,  12,  80, 127,  91, 145,  51, 146,  21,  91, 117,\n",
       "          21,  91, 149,  51, 151,  21]]), 'token_type_ids': tensor([[0, 0, 0, 0, 0, 0, 0, 0, 0, 0, 0, 0, 0, 0, 0, 0, 0, 0, 0, 0, 0, 0, 0, 0,\n",
       "         0, 0, 0, 0, 0, 0, 0, 0, 0, 0]]), 'attention_mask': tensor([[1, 1, 1, 1, 1, 1, 1, 1, 1, 1, 1, 1, 1, 1, 1, 1, 1, 1, 1, 1, 1, 1, 1, 1,\n",
       "         1, 1, 1, 1, 1, 1, 1, 1, 1, 1]])}"
      ]
     },
     "execution_count": 32,
     "metadata": {},
     "output_type": "execute_result"
    }
   ],
   "source": [
    "# Check to make sure the fast tokenizer is working\n",
    "encodings = use_transformers_tokenizer(tokenizer_fast, data['validation']['sentence'][1], padding=True, max_length=1024, return_tensors='pt')\n",
    "encodings"
   ]
  },
  {
   "cell_type": "markdown",
   "metadata": {},
   "source": [
    "# Tokenize all of the data"
   ]
  },
  {
   "cell_type": "markdown",
   "metadata": {},
   "source": [
    "## Functions"
   ]
  },
  {
   "cell_type": "code",
   "execution_count": 33,
   "metadata": {},
   "outputs": [],
   "source": [
    "def tokenize_dataset_dict(dataset_dict, tokenizer, max_length=None, batch_size=1000):\n",
    "    \"\"\"\n",
    "    Tokenize all sentence entries in a Hugging Face DatasetDict.\n",
    "\n",
    "    Args:\n",
    "        dataset_dict: A Hugging Face DatasetDict containing data with 'sentence' column\n",
    "        tokenizer: A transformers tokenizer\n",
    "        max_length: Maximum sequence length for tokenization (None = no limit)\n",
    "        batch_size: Batch size for processing\n",
    "\n",
    "    Returns:\n",
    "        A new DatasetDict with tokenized data\n",
    "    \"\"\"\n",
    "    from datasets import DatasetDict\n",
    "\n",
    "    # Function to tokenize a batch of examples\n",
    "    def tokenize_function(examples):\n",
    "        # For transformers tokenizers use the __call__ method\n",
    "        return tokenizer(\n",
    "            examples[\"sentence\"],\n",
    "            padding=\"max_length\" if max_length else False,\n",
    "            truncation=True if max_length else False,\n",
    "            max_length=max_length,\n",
    "            return_special_tokens_mask=True,\n",
    "        )\n",
    "\n",
    "    # Create a new DatasetDict to store the tokenized datasets\n",
    "    tokenized_datasets = DatasetDict()\n",
    "\n",
    "    # Process each split in the dataset\n",
    "    for split_name, dataset in dataset_dict.items():\n",
    "        # Map the tokenize function over the dataset in batches\n",
    "        tokenized_datasets[split_name] = dataset.map(\n",
    "            tokenize_function,\n",
    "            batched=True,\n",
    "            batch_size=batch_size,\n",
    "            # remove_columns=[\"sentence\"] if \"sentence\" in dataset.column_names else None, # Keep the sentences\n",
    "            desc=f\"Tokenizing {split_name} split\",\n",
    "        )\n",
    "\n",
    "        # Print the first example to verify\n",
    "        if len(tokenized_datasets[split_name]) > 0:\n",
    "            print(f\"\\nExample from {split_name} split:\")\n",
    "            example = tokenized_datasets[split_name][0]\n",
    "            print(f\"Input IDs (first 10): {example['input_ids'][:10]}...\")\n",
    "            print(f\"Attention Mask (first 10): {example['attention_mask'][:10]}...\")\n",
    "\n",
    "            # Decode a sample for verification\n",
    "            decoded = tokenizer.decode(example['input_ids'])\n",
    "            print(f\"Decoded sample preview: {decoded[:50]}...\")\n",
    "\n",
    "    return tokenized_datasets"
   ]
  },
  {
   "cell_type": "markdown",
   "metadata": {},
   "source": [
    "## Tokenize the Datasets\n",
    "\n",
    "Do we need to do this?  I think so... I can train when I do this so... yes?"
   ]
  },
  {
   "cell_type": "code",
   "execution_count": 34,
   "metadata": {},
   "outputs": [
    {
     "name": "stderr",
     "output_type": "stream",
     "text": [
      "Tokenizing train split: 100%|████████████████████████████████████████| 1036723/1036723 [03:19<00:00, 5200.82 examples/s]\n"
     ]
    },
    {
     "name": "stdout",
     "output_type": "stream",
     "text": [
      "\n",
      "Example from train split:\n",
      "Input IDs (first 10): [48, 128, 50, 91, 140, 21, 317, 90, 188, 129]...\n",
      "Attention Mask (first 10): [1, 1, 1, 1, 1, 1, 1, 1, 1, 1]...\n",
      "Decoded sample preview: [start] <THEMES> Damage , R Color , {1} {R} Cost ,...\n"
     ]
    },
    {
     "name": "stderr",
     "output_type": "stream",
     "text": [
      "Tokenizing validation split: 100%|█████████████████████████████████████| 129590/129590 [00:24<00:00, 5331.51 examples/s]\n"
     ]
    },
    {
     "name": "stdout",
     "output_type": "stream",
     "text": [
      "\n",
      "Example from validation split:\n",
      "Input IDs (first 10): [48, 128, 50, 91, 140, 21, 2608, 312, 90, 418]...\n",
      "Attention Mask (first 10): [1, 1, 1, 1, 1, 1, 1, 1, 1, 1]...\n",
      "Decoded sample preview: [start] <THEMES> Storage Counters , Land , Cost , ...\n"
     ]
    },
    {
     "name": "stderr",
     "output_type": "stream",
     "text": [
      "Tokenizing test split: 100%|███████████████████████████████████████████| 129591/129591 [00:24<00:00, 5332.76 examples/s]"
     ]
    },
    {
     "name": "stdout",
     "output_type": "stream",
     "text": [
      "\n",
      "Example from test split:\n",
      "Input IDs (first 10): [48, 128, 50, 91, 140, 21, 547, 129, 90, 112]...\n",
      "Attention Mask (first 10): [1, 1, 1, 1, 1, 1, 1, 1, 1, 1]...\n",
      "Decoded sample preview: [start] <THEMES> BR Color , Creature , {4} {B} {R}...\n"
     ]
    },
    {
     "name": "stderr",
     "output_type": "stream",
     "text": [
      "\n"
     ]
    },
    {
     "data": {
      "text/plain": [
       "DatasetDict({\n",
       "    train: Dataset({\n",
       "        features: ['sentence', 'input_ids', 'token_type_ids', 'attention_mask', 'special_tokens_mask'],\n",
       "        num_rows: 1036723\n",
       "    })\n",
       "    validation: Dataset({\n",
       "        features: ['sentence', 'input_ids', 'token_type_ids', 'attention_mask', 'special_tokens_mask'],\n",
       "        num_rows: 129590\n",
       "    })\n",
       "    test: Dataset({\n",
       "        features: ['sentence', 'input_ids', 'token_type_ids', 'attention_mask', 'special_tokens_mask'],\n",
       "        num_rows: 129591\n",
       "    })\n",
       "})"
      ]
     },
     "execution_count": 34,
     "metadata": {},
     "output_type": "execute_result"
    }
   ],
   "source": [
    "# Tokenize the DatasetDict\n",
    "# TODO: We can probably decrease the max_length here to 128 or 64 to save memory; We'll have to test it out\n",
    "# Or maybe we don't use a max length...?? TODO: Figure out how to handle this\n",
    "tokenize_dataset_dict = tokenize_dataset_dict(data, tokenizer_fast, max_length=256, batch_size=1000)\n",
    "tokenize_dataset_dict"
   ]
  },
  {
   "cell_type": "code",
   "execution_count": 35,
   "metadata": {},
   "outputs": [
    {
     "data": {
      "text/plain": [
       "'[start] <THEMES> Storage Counters , Land , Cost , U Identity , N Color <CARD_NAME> <name> <MANA_COST> <TYPE_LINE> Land <ORACLE_TEXT> <name> enters tapped . \\\\n {T} : Put a storage counter on <name> . \\\\n {T} ,'"
      ]
     },
     "execution_count": 35,
     "metadata": {},
     "output_type": "execute_result"
    }
   ],
   "source": [
    "# Make sure 'sentnece' is still there\n",
    "tokenize_dataset_dict['validation']['sentence'][0]"
   ]
  },
  {
   "cell_type": "code",
   "execution_count": 36,
   "metadata": {},
   "outputs": [
    {
     "data": {
      "text/plain": [
       "[48,\n",
       " 128,\n",
       " 50,\n",
       " 91,\n",
       " 140,\n",
       " 21,\n",
       " 2608,\n",
       " 312,\n",
       " 90,\n",
       " 418,\n",
       " 90,\n",
       " 127,\n",
       " 90,\n",
       " 200,\n",
       " 132,\n",
       " 90,\n",
       " 253,\n",
       " 129,\n",
       " 91,\n",
       " 145,\n",
       " 51,\n",
       " 146,\n",
       " 21,\n",
       " 91,\n",
       " 117,\n",
       " 21,\n",
       " 91,\n",
       " 149,\n",
       " 51,\n",
       " 151,\n",
       " 21,\n",
       " 91,\n",
       " 159,\n",
       " 51,\n",
       " 157,\n",
       " 21,\n",
       " 418,\n",
       " 91,\n",
       " 172,\n",
       " 51,\n",
       " 173,\n",
       " 21,\n",
       " 91,\n",
       " 117,\n",
       " 21,\n",
       " 302,\n",
       " 660,\n",
       " 164,\n",
       " 191,\n",
       " 65,\n",
       " 93,\n",
       " 41,\n",
       " 80,\n",
       " 270,\n",
       " 575,\n",
       " 186,\n",
       " 2647,\n",
       " 408,\n",
       " 257,\n",
       " 91,\n",
       " 117,\n",
       " 21,\n",
       " 164,\n",
       " 191,\n",
       " 65,\n",
       " 93,\n",
       " 41,\n",
       " 80,\n",
       " 90,\n",
       " 1,\n",
       " 1,\n",
       " 1,\n",
       " 1,\n",
       " 1,\n",
       " 1,\n",
       " 1,\n",
       " 1,\n",
       " 1,\n",
       " 1,\n",
       " 1,\n",
       " 1,\n",
       " 1,\n",
       " 1,\n",
       " 1,\n",
       " 1,\n",
       " 1,\n",
       " 1,\n",
       " 1,\n",
       " 1,\n",
       " 1,\n",
       " 1,\n",
       " 1,\n",
       " 1,\n",
       " 1,\n",
       " 1,\n",
       " 1,\n",
       " 1,\n",
       " 1,\n",
       " 1,\n",
       " 1,\n",
       " 1,\n",
       " 1,\n",
       " 1,\n",
       " 1,\n",
       " 1,\n",
       " 1,\n",
       " 1,\n",
       " 1,\n",
       " 1,\n",
       " 1,\n",
       " 1,\n",
       " 1,\n",
       " 1,\n",
       " 1,\n",
       " 1,\n",
       " 1,\n",
       " 1,\n",
       " 1,\n",
       " 1,\n",
       " 1,\n",
       " 1,\n",
       " 1,\n",
       " 1,\n",
       " 1,\n",
       " 1,\n",
       " 1,\n",
       " 1,\n",
       " 1,\n",
       " 1,\n",
       " 1,\n",
       " 1,\n",
       " 1,\n",
       " 1,\n",
       " 1,\n",
       " 1,\n",
       " 1,\n",
       " 1,\n",
       " 1,\n",
       " 1,\n",
       " 1,\n",
       " 1,\n",
       " 1,\n",
       " 1,\n",
       " 1,\n",
       " 1,\n",
       " 1,\n",
       " 1,\n",
       " 1,\n",
       " 1,\n",
       " 1,\n",
       " 1,\n",
       " 1,\n",
       " 1,\n",
       " 1,\n",
       " 1,\n",
       " 1,\n",
       " 1,\n",
       " 1,\n",
       " 1,\n",
       " 1,\n",
       " 1,\n",
       " 1,\n",
       " 1,\n",
       " 1,\n",
       " 1,\n",
       " 1,\n",
       " 1,\n",
       " 1,\n",
       " 1,\n",
       " 1,\n",
       " 1,\n",
       " 1,\n",
       " 1,\n",
       " 1,\n",
       " 1,\n",
       " 1,\n",
       " 1,\n",
       " 1,\n",
       " 1,\n",
       " 1,\n",
       " 1,\n",
       " 1,\n",
       " 1,\n",
       " 1,\n",
       " 1,\n",
       " 1,\n",
       " 1,\n",
       " 1,\n",
       " 1,\n",
       " 1,\n",
       " 1,\n",
       " 1,\n",
       " 1,\n",
       " 1,\n",
       " 1,\n",
       " 1,\n",
       " 1,\n",
       " 1,\n",
       " 1,\n",
       " 1,\n",
       " 1,\n",
       " 1,\n",
       " 1,\n",
       " 1,\n",
       " 1,\n",
       " 1,\n",
       " 1,\n",
       " 1,\n",
       " 1,\n",
       " 1,\n",
       " 1,\n",
       " 1,\n",
       " 1,\n",
       " 1,\n",
       " 1,\n",
       " 1,\n",
       " 1,\n",
       " 1,\n",
       " 1,\n",
       " 1,\n",
       " 1,\n",
       " 1,\n",
       " 1,\n",
       " 1,\n",
       " 1,\n",
       " 1,\n",
       " 1,\n",
       " 1,\n",
       " 1,\n",
       " 1,\n",
       " 1,\n",
       " 1,\n",
       " 1,\n",
       " 1,\n",
       " 1,\n",
       " 1,\n",
       " 1,\n",
       " 1,\n",
       " 1,\n",
       " 1,\n",
       " 1,\n",
       " 1,\n",
       " 1,\n",
       " 1,\n",
       " 1,\n",
       " 1,\n",
       " 1,\n",
       " 1,\n",
       " 1,\n",
       " 1,\n",
       " 1,\n",
       " 1,\n",
       " 1,\n",
       " 1,\n",
       " 1,\n",
       " 1]"
      ]
     },
     "execution_count": 36,
     "metadata": {},
     "output_type": "execute_result"
    }
   ],
   "source": [
    "tokenize_dataset_dict['validation']['input_ids'][0]"
   ]
  },
  {
   "cell_type": "code",
   "execution_count": 37,
   "metadata": {},
   "outputs": [],
   "source": [
    "# A short function to easily convert from ids_to_tokens\n",
    "# It effectivly just wraps the decode function\n",
    "def ids_to_tokens(tokenizer, ids):\n",
    "    '''\n",
    "    Convert token IDs back to tokens using the tokenizer\n",
    "    Really just a mapping function for tokenizer.decode()\n",
    "    '''\n",
    "    tokens = tokenizer.decode(ids)\n",
    "\n",
    "    return tokens"
   ]
  },
  {
   "cell_type": "code",
   "execution_count": 38,
   "metadata": {},
   "outputs": [
    {
     "data": {
      "text/plain": [
       "'[start] <THEMES> Storage Counters , Land , Cost , U Identity , N Color <CARD_NAME> <name> <MANA_COST> <TYPE_LINE> Land <ORACLE_TEXT> <name> enters tapped . \\\\n {T} : Put a storage counter on <name> . \\\\n {T} ,'"
      ]
     },
     "execution_count": 38,
     "metadata": {},
     "output_type": "execute_result"
    }
   ],
   "source": [
    "trained_tokenizer.decode(tokenize_dataset_dict['validation']['input_ids'][0])"
   ]
  },
  {
   "cell_type": "code",
   "execution_count": 39,
   "metadata": {},
   "outputs": [
    {
     "data": {
      "text/plain": [
       "'[start] <THEMES> Storage Counters , Land , Cost , U Identity , N Color <CARD_NAME> <name> <MANA_COST> <TYPE_LINE> Land <ORACLE_TEXT> <name> enters tapped . \\\\n {T} : Put a storage counter on <name> . \\\\n {T} ,'"
      ]
     },
     "execution_count": 39,
     "metadata": {},
     "output_type": "execute_result"
    }
   ],
   "source": [
    "ids_to_tokens(trained_tokenizer, tokenize_dataset_dict['validation']['input_ids'][0])"
   ]
  },
  {
   "cell_type": "code",
   "execution_count": null,
   "metadata": {},
   "outputs": [],
   "source": [
    "tokenize_dataset_dict['validation']['attention_mask'][0]"
   ]
  },
  {
   "cell_type": "code",
   "execution_count": 40,
   "metadata": {},
   "outputs": [],
   "source": [
    "del data"
   ]
  },
  {
   "cell_type": "markdown",
   "metadata": {},
   "source": [
    "## Set formating to torch of the DatasetDict"
   ]
  },
  {
   "cell_type": "code",
   "execution_count": 41,
   "metadata": {},
   "outputs": [],
   "source": [
    "# Make sure the tokenized dataset is in the correct format for PyTorch\n",
    "\n",
    "# old\n",
    "# tokenize_dataset_dict.set_format(type='torch', columns=['sentence', 'input_ids', 'token_type_ids', 'attention_mask', 'special_tokens_mask'])\n",
    "\n",
    "# New\n",
    "tokenize_dataset_dict.set_format(type='torch', columns=['sentence', 'input_ids', 'token_type_ids', 'attention_mask', 'special_tokens_mask'])"
   ]
  },
  {
   "cell_type": "markdown",
   "metadata": {},
   "source": [
    "### Check shapes"
   ]
  },
  {
   "cell_type": "code",
   "execution_count": 42,
   "metadata": {},
   "outputs": [
    {
     "name": "stdout",
     "output_type": "stream",
     "text": [
      "torch.Size([256])\n",
      "torch.Size([256])\n",
      "torch.Size([256])\n",
      "torch.Size([256])\n",
      "torch.Size([256])\n",
      "torch.Size([256])\n",
      "torch.Size([256])\n",
      "torch.Size([256])\n",
      "torch.Size([256])\n",
      "torch.Size([256])\n",
      "torch.Size([256])\n"
     ]
    }
   ],
   "source": [
    "# Note that these have been padded out to the max_length\n",
    "\n",
    "for i in range(0, 11):\n",
    "    print(tokenize_dataset_dict['train'][i]['input_ids'].shape)"
   ]
  },
  {
   "cell_type": "code",
   "execution_count": 43,
   "metadata": {},
   "outputs": [
    {
     "name": "stdout",
     "output_type": "stream",
     "text": [
      "torch.Size([256])\n",
      "torch.Size([256])\n",
      "torch.Size([256])\n",
      "torch.Size([256])\n",
      "torch.Size([256])\n",
      "torch.Size([256])\n",
      "torch.Size([256])\n",
      "torch.Size([256])\n",
      "torch.Size([256])\n",
      "torch.Size([256])\n",
      "torch.Size([256])\n"
     ]
    }
   ],
   "source": [
    "for i in range(0, 11):\n",
    "    print(tokenize_dataset_dict['train'][i]['attention_mask'].shape)"
   ]
  },
  {
   "cell_type": "code",
   "execution_count": 44,
   "metadata": {},
   "outputs": [
    {
     "name": "stdout",
     "output_type": "stream",
     "text": [
      "[start] <THEMES> B Identity , 1 1 Counters , Creature , Sacrifice , Creature Based , B Color , Zombie , {2} {B} Cost <CARD_NAME> <name> <MANA_COST> {2} {B} <TYPE_LINE> Creature — Zombie <ORACLE_TEXT> {1} {B} , Sacrifice another creature : Put two 1 1 counters on <name> . Activate only as a\n",
      "[start] <THEMES> Damage , Flash , Enchantment , R Color , R Identity , {3} {R} {R} Cost <CARD_NAME> <name> <MANA_COST> {3} {R} {R} <TYPE_LINE> Enchantment <ORACLE_TEXT> Flash \\n If a source would deal damage to a permanent or player , it deals double that damage to that permanent or player instead\n",
      "[start] <THEMES> {2} {W} Cost , Enchantment , W Color , Tokens , Treasure Tokens , W Identity , Card Draw <CARD_NAME> <name> <MANA_COST> {2} {W} <TYPE_LINE> Enchantment <ORACLE_TEXT> At the beginning\n",
      "[start] <THEMES> {3} {W} Cost , W Color , Creature Based , Sorcery , Rebound , W Identity <CARD_NAME> <name> <MANA_COST> {3} {W} <TYPE_LINE> Sorcery <ORACLE_TEXT> Creatures you control get 2 1 until end of turn . \\n Rebound ( If you cast this spell from your hand , exile it as it resolves . At the beginning of your next upkeep , you may\n",
      "[start] <THEMES> Planeswalker , UW Identity , Narset , Rebound , UW Color , {2} {W} {U} Cost , Legendary <CARD_NAME> <name> <MANA_COST> {2} {W} {U} <TYPE_LINE> Legendary Planeswalker — Narset <ORACLE_TEXT> 1 : Look at the top card of your library . If it's a noncreature , nonland card , you may reveal it and put it into your hand . \\n −2\n",
      "[start] <THEMES> Aura , Damage , Enchantment , R Color , Sacrifice , Creature Based , R Identity , {2} {R} Cost <CARD_NAME> <name> <MANA_COST> {2} {R} <TYPE_LINE> Enchantment — Aura <ORACLE_TEXT> Enchant creature you control \\n {R} , Sacrifice enchanted creature\n",
      "[start] <THEMES> {3} {G} {G} Cost , Creature , Kicker , G Identity , Elemental , G Color , Creature Based <CARD_NAME> <name> <MANA_COST> {3}\n",
      "[start] <THEMES> Creature , Attacking , U Identity , Human , Wizard , U Color , Unblockable , {1} {U} Cost , Legendary , Rogue <CARD_NAME> <name> <MANA_COST> {1} {U} <TYPE_LINE> Legendary Creature — Human Rogue Wizard <ORACLE_TEXT> Specialize {5} . This ability costs {3} less to activate if there are two or more instant and or\n",
      "[start] <THEMES> BR Color , Damage , {5} {B} {R} Cost , Reanimation , BR Identity , Creature Based , Sorcery <CARD_NAME> <name> <MANA_COST> {5} {B} {R} <TYPE_LINE> Sorcery <ORACLE_TEXT> Put target creature card from a graveyard onto the battlefield under your\n",
      "[start] <THEMES> Snake Tokens , Attacking , Deathtouch , Creature , Assassin , Gorgon , Creature Based , BG Identity , B Color , {1} {B} Cost , Combat Damage , Legendary , Tokens <CARD_NAME> <name> <MANA_COST> {1} {B} <TYPE_LINE> Legendary Creature — Gorgon Assassin <ORACLE_TEXT> Deathtouch \\n Whenever <name> attacks , you may pay {1} {B/G} . If you do , create a 1 1 black Snake creature token with deathtouch . \\n {4} {B} : Until end of turn\n",
      "[start] <THEMES> Aura , Creature , Enchantment , U Identity , Merfolk , Creature Based , {2} {U} Cost , U Color , Bestow <CARD_NAME> <name> <MANA_COST> {2} {U} <TYPE_LINE> Enchantment Creature — Merfolk <ORACLE_TEXT> Bestow {4} {U} ( If you cast this card\n"
     ]
    }
   ],
   "source": [
    "for i in range(0, 11):\n",
    "    print(tokenize_dataset_dict['train'][i]['sentence'])"
   ]
  },
  {
   "cell_type": "markdown",
   "metadata": {},
   "source": [
    "# Build the Decoder"
   ]
  },
  {
   "cell_type": "markdown",
   "metadata": {},
   "source": [
    "## A Short Rebuild of the above but with Hugging Face API\n",
    "\n",
    "We might be able to leverage accelerated training by using HF so this could be worth to have.  It also uses a PyTorch backend which I know works on Brandon's system... TensorFlow has been giving me problems in my environment lately."
   ]
  },
  {
   "cell_type": "code",
   "execution_count": 45,
   "metadata": {},
   "outputs": [],
   "source": [
    "# Grab the decoder-only setup\n",
    "from transformers import GPT2Config, GPT2LMHeadModel"
   ]
  },
  {
   "cell_type": "code",
   "execution_count": 46,
   "metadata": {},
   "outputs": [
    {
     "data": {
      "text/plain": [
       "GPT2LMHeadModel(\n",
       "  (transformer): GPT2Model(\n",
       "    (wte): Embedding(8912, 512)\n",
       "    (wpe): Embedding(500, 512)\n",
       "    (drop): Dropout(p=0.5, inplace=False)\n",
       "    (h): ModuleList(\n",
       "      (0-3): 4 x GPT2Block(\n",
       "        (ln_1): LayerNorm((512,), eps=1e-05, elementwise_affine=True)\n",
       "        (attn): GPT2Attention(\n",
       "          (c_attn): Conv1D(nf=1536, nx=512)\n",
       "          (c_proj): Conv1D(nf=512, nx=512)\n",
       "          (attn_dropout): Dropout(p=0.5, inplace=False)\n",
       "          (resid_dropout): Dropout(p=0.5, inplace=False)\n",
       "        )\n",
       "        (ln_2): LayerNorm((512,), eps=1e-05, elementwise_affine=True)\n",
       "        (mlp): GPT2MLP(\n",
       "          (c_fc): Conv1D(nf=2048, nx=512)\n",
       "          (c_proj): Conv1D(nf=512, nx=2048)\n",
       "          (act): NewGELUActivation()\n",
       "          (dropout): Dropout(p=0.5, inplace=False)\n",
       "        )\n",
       "      )\n",
       "    )\n",
       "    (ln_f): LayerNorm((512,), eps=1e-05, elementwise_affine=True)\n",
       "  )\n",
       "  (lm_head): Linear(in_features=512, out_features=8912, bias=False)\n",
       ")"
      ]
     },
     "execution_count": 46,
     "metadata": {},
     "output_type": "execute_result"
    }
   ],
   "source": [
    "# Make the model\n",
    "\n",
    "VOCAB_SIZE = 8912 # Define this based on training data vocab size / tokenize size.\n",
    "# TODO: Or does it need to relate to the tokenizer?\n",
    "SEQUENCE_LENGTH = 500 # Define this based on training data sequence length. aka. context window\n",
    "EMBEDDING_DIM = 512 # Configure\n",
    "FEED_FORWARD_DIM = 4 * EMBEDDING_DIM # Standard for decoder-only items.\n",
    "DROPOUT = 0.5 # Configure\n",
    "NUM_HEADS = 16 # Configure attention heads\n",
    "NUM_DECODER_LAYERS = 4 # Configure\n",
    "\n",
    "# Define the model configuration\n",
    "model_config = GPT2Config(\n",
    "    vocab_size=VOCAB_SIZE,\n",
    "    n_positions=SEQUENCE_LENGTH,\n",
    "    n_ctx=SEQUENCE_LENGTH,\n",
    "    n_embd=EMBEDDING_DIM,\n",
    "    n_layer=NUM_DECODER_LAYERS,\n",
    "    n_head=NUM_HEADS,\n",
    "    resid_pdrop=DROPOUT,\n",
    "    embd_pdrop=DROPOUT,\n",
    "    attn_pdrop=DROPOUT,\n",
    "    # layer_norm_epsilon=1e-5,\n",
    "    # initializer_range=0.02,\n",
    ")\n",
    "\n",
    "# Initialize the model\n",
    "gptmodel = GPT2LMHeadModel(model_config)\n",
    "# Output the model layers for inspection\n",
    "gptmodel"
   ]
  },
  {
   "cell_type": "code",
   "execution_count": 47,
   "metadata": {},
   "outputs": [
    {
     "name": "stdout",
     "output_type": "stream",
     "text": [
      "Number of trainable parameters: 17429504\n"
     ]
    }
   ],
   "source": [
    "# Check the number of trainable parameters.\n",
    "# How many trainable parameters exist in the gptmodel? (setting p.requires_grad to True for this)\n",
    "trainable_params = sum(p.numel() for p in gptmodel.parameters() if p.requires_grad)\n",
    "print(\"Number of trainable parameters:\", trainable_params)"
   ]
  },
  {
   "cell_type": "code",
   "execution_count": 48,
   "metadata": {},
   "outputs": [
    {
     "name": "stdout",
     "output_type": "stream",
     "text": [
      "transformer.wte.weight: 4562944 trainable parameters\n",
      "transformer.wpe.weight: 256000 trainable parameters\n",
      "transformer.h.0.ln_1.weight: 512 trainable parameters\n",
      "transformer.h.0.ln_1.bias: 512 trainable parameters\n",
      "transformer.h.0.attn.c_attn.weight: 786432 trainable parameters\n",
      "transformer.h.0.attn.c_attn.bias: 1536 trainable parameters\n",
      "transformer.h.0.attn.c_proj.weight: 262144 trainable parameters\n",
      "transformer.h.0.attn.c_proj.bias: 512 trainable parameters\n",
      "transformer.h.0.ln_2.weight: 512 trainable parameters\n",
      "transformer.h.0.ln_2.bias: 512 trainable parameters\n",
      "transformer.h.0.mlp.c_fc.weight: 1048576 trainable parameters\n",
      "transformer.h.0.mlp.c_fc.bias: 2048 trainable parameters\n",
      "transformer.h.0.mlp.c_proj.weight: 1048576 trainable parameters\n",
      "transformer.h.0.mlp.c_proj.bias: 512 trainable parameters\n",
      "transformer.h.1.ln_1.weight: 512 trainable parameters\n",
      "transformer.h.1.ln_1.bias: 512 trainable parameters\n",
      "transformer.h.1.attn.c_attn.weight: 786432 trainable parameters\n",
      "transformer.h.1.attn.c_attn.bias: 1536 trainable parameters\n",
      "transformer.h.1.attn.c_proj.weight: 262144 trainable parameters\n",
      "transformer.h.1.attn.c_proj.bias: 512 trainable parameters\n",
      "transformer.h.1.ln_2.weight: 512 trainable parameters\n",
      "transformer.h.1.ln_2.bias: 512 trainable parameters\n",
      "transformer.h.1.mlp.c_fc.weight: 1048576 trainable parameters\n",
      "transformer.h.1.mlp.c_fc.bias: 2048 trainable parameters\n",
      "transformer.h.1.mlp.c_proj.weight: 1048576 trainable parameters\n",
      "transformer.h.1.mlp.c_proj.bias: 512 trainable parameters\n",
      "transformer.h.2.ln_1.weight: 512 trainable parameters\n",
      "transformer.h.2.ln_1.bias: 512 trainable parameters\n",
      "transformer.h.2.attn.c_attn.weight: 786432 trainable parameters\n",
      "transformer.h.2.attn.c_attn.bias: 1536 trainable parameters\n",
      "transformer.h.2.attn.c_proj.weight: 262144 trainable parameters\n",
      "transformer.h.2.attn.c_proj.bias: 512 trainable parameters\n",
      "transformer.h.2.ln_2.weight: 512 trainable parameters\n",
      "transformer.h.2.ln_2.bias: 512 trainable parameters\n",
      "transformer.h.2.mlp.c_fc.weight: 1048576 trainable parameters\n",
      "transformer.h.2.mlp.c_fc.bias: 2048 trainable parameters\n",
      "transformer.h.2.mlp.c_proj.weight: 1048576 trainable parameters\n",
      "transformer.h.2.mlp.c_proj.bias: 512 trainable parameters\n",
      "transformer.h.3.ln_1.weight: 512 trainable parameters\n",
      "transformer.h.3.ln_1.bias: 512 trainable parameters\n",
      "transformer.h.3.attn.c_attn.weight: 786432 trainable parameters\n",
      "transformer.h.3.attn.c_attn.bias: 1536 trainable parameters\n",
      "transformer.h.3.attn.c_proj.weight: 262144 trainable parameters\n",
      "transformer.h.3.attn.c_proj.bias: 512 trainable parameters\n",
      "transformer.h.3.ln_2.weight: 512 trainable parameters\n",
      "transformer.h.3.ln_2.bias: 512 trainable parameters\n",
      "transformer.h.3.mlp.c_fc.weight: 1048576 trainable parameters\n",
      "transformer.h.3.mlp.c_fc.bias: 2048 trainable parameters\n",
      "transformer.h.3.mlp.c_proj.weight: 1048576 trainable parameters\n",
      "transformer.h.3.mlp.c_proj.bias: 512 trainable parameters\n",
      "transformer.ln_f.weight: 512 trainable parameters\n",
      "transformer.ln_f.bias: 512 trainable parameters\n"
     ]
    }
   ],
   "source": [
    "# Print each parameter's name and trainable count individually\n",
    "for name, param in gptmodel.named_parameters():\n",
    "    if param.requires_grad:\n",
    "        print(f\"{name}: {param.numel()} trainable parameters\")"
   ]
  },
  {
   "cell_type": "markdown",
   "metadata": {},
   "source": [
    "There is a difference in the reported number of trained parameters between Etienne's custom build and the Hugging Face model.\n",
    "\n",
    "I'm 90% certain it has to do with the positional eoncodings being done slightly different.  48M of his model parameters are from the PosEnc which doesn't show up the same way in the GPT-model.\n",
    "\n",
    "Both models are likely to generate similar results."
   ]
  },
  {
   "cell_type": "markdown",
   "metadata": {},
   "source": [
    "# Training the Model"
   ]
  },
  {
   "cell_type": "markdown",
   "metadata": {},
   "source": [
    "## Setup Training Arguments"
   ]
  },
  {
   "cell_type": "code",
   "execution_count": 49,
   "metadata": {},
   "outputs": [],
   "source": [
    "# Set up the Training Args\n",
    "training_args = TrainingArguments(\n",
    "    output_dir=\"./results\",\n",
    "    eval_strategy=\"epoch\",\n",
    "    per_device_train_batch_size=16,\n",
    "    per_device_eval_batch_size=16,\n",
    "    num_train_epochs=5, # Prior runs show that I am easily over fitting the data at 25 epochs...\n",
    "    weight_decay=0.01,\n",
    "    logging_dir='./logs',\n",
    "    # logging_steps=10, # This made my loss vs epoch plot too noisy...\n",
    "    logging_strategy='epoch',\n",
    "    save_strategy='epoch',\n",
    ")"
   ]
  },
  {
   "cell_type": "code",
   "execution_count": 50,
   "metadata": {},
   "outputs": [],
   "source": [
    "# Set up the Trainer\n",
    "\n",
    "#mlm is the masked language modeling\n",
    "\n",
    "data_collator = DataCollatorForLanguageModeling(tokenizer=tokenizer_fast, mlm=False, return_tensors='pt')\n",
    "\n",
    "trainer = Trainer(\n",
    "    model=gptmodel,\n",
    "    args=training_args,\n",
    "    train_dataset=tokenize_dataset_dict['train'],\n",
    "    eval_dataset=tokenize_dataset_dict['validation'],\n",
    "    processing_class=tokenizer_fast,\n",
    "    data_collator=data_collator\n",
    ")"
   ]
  },
  {
   "cell_type": "markdown",
   "metadata": {},
   "source": [
    "## CHOO CHOO!"
   ]
  },
  {
   "cell_type": "code",
   "execution_count": 51,
   "metadata": {},
   "outputs": [
    {
     "name": "stderr",
     "output_type": "stream",
     "text": [
      "`loss_type=None` was set in the config but it is unrecognised.Using the default loss: `ForCausalLMLoss`.\n"
     ]
    },
    {
     "data": {
      "text/html": [
       "\n",
       "    <div>\n",
       "      \n",
       "      <progress value='316960' max='316960' style='width:300px; height:20px; vertical-align: middle;'></progress>\n",
       "      [316960/316960 11:31:00, Epoch 5/5]\n",
       "    </div>\n",
       "    <table border=\"1\" class=\"dataframe\">\n",
       "  <thead>\n",
       " <tr style=\"text-align: left;\">\n",
       "      <th>Epoch</th>\n",
       "      <th>Training Loss</th>\n",
       "      <th>Validation Loss</th>\n",
       "    </tr>\n",
       "  </thead>\n",
       "  <tbody>\n",
       "    <tr>\n",
       "      <td>1</td>\n",
       "      <td>0.653500</td>\n",
       "      <td>0.469579</td>\n",
       "    </tr>\n",
       "    <tr>\n",
       "      <td>2</td>\n",
       "      <td>0.435700</td>\n",
       "      <td>0.364047</td>\n",
       "    </tr>\n",
       "    <tr>\n",
       "      <td>3</td>\n",
       "      <td>0.387900</td>\n",
       "      <td>0.318844</td>\n",
       "    </tr>\n",
       "    <tr>\n",
       "      <td>4</td>\n",
       "      <td>0.360900</td>\n",
       "      <td>0.297867</td>\n",
       "    </tr>\n",
       "    <tr>\n",
       "      <td>5</td>\n",
       "      <td>0.345100</td>\n",
       "      <td>0.288918</td>\n",
       "    </tr>\n",
       "  </tbody>\n",
       "</table><p>"
      ],
      "text/plain": [
       "<IPython.core.display.HTML object>"
      ]
     },
     "metadata": {},
     "output_type": "display_data"
    },
    {
     "data": {
      "text/plain": [
       "TrainOutput(global_step=316960, training_loss=0.43663271538601084, metrics={'train_runtime': 41466.7697, 'train_samples_per_second': 122.298, 'train_steps_per_second': 7.644, 'total_flos': 9.8230168977408e+16, 'train_loss': 0.43663271538601084, 'epoch': 5.0})"
      ]
     },
     "execution_count": 51,
     "metadata": {},
     "output_type": "execute_result"
    }
   ],
   "source": [
    "# Run the Trainer\n",
    "trainer.train()"
   ]
  },
  {
   "cell_type": "code",
   "execution_count": 53,
   "metadata": {},
   "outputs": [],
   "source": [
    "# Save out the model\n",
    "trainer.save_model(\"../models/hf_gpt2_style_theme_model\")"
   ]
  },
  {
   "cell_type": "code",
   "execution_count": null,
   "metadata": {},
   "outputs": [
    {
     "name": "stdout",
     "output_type": "stream",
     "text": [
      "Validation Loss Summary:\n"
     ]
    },
    {
     "data": {
      "text/html": [
       "<div>\n",
       "<style scoped>\n",
       "    .dataframe tbody tr th:only-of-type {\n",
       "        vertical-align: middle;\n",
       "    }\n",
       "\n",
       "    .dataframe tbody tr th {\n",
       "        vertical-align: top;\n",
       "    }\n",
       "\n",
       "    .dataframe thead th {\n",
       "        text-align: right;\n",
       "    }\n",
       "</style>\n",
       "<table border=\"1\" class=\"dataframe\">\n",
       "  <thead>\n",
       "    <tr style=\"text-align: right;\">\n",
       "      <th></th>\n",
       "      <th>Step</th>\n",
       "      <th>Epoch</th>\n",
       "      <th>Validation Loss</th>\n",
       "    </tr>\n",
       "  </thead>\n",
       "  <tbody>\n",
       "    <tr>\n",
       "      <th>0</th>\n",
       "      <td>63392</td>\n",
       "      <td>1.00</td>\n",
       "      <td>0.4470</td>\n",
       "    </tr>\n",
       "    <tr>\n",
       "      <th>1</th>\n",
       "      <td>126784</td>\n",
       "      <td>2.00</td>\n",
       "      <td>0.3626</td>\n",
       "    </tr>\n",
       "    <tr>\n",
       "      <th>2</th>\n",
       "      <td>190176</td>\n",
       "      <td>3.00</td>\n",
       "      <td>0.3223</td>\n",
       "    </tr>\n",
       "    <tr>\n",
       "      <th>3</th>\n",
       "      <td>253568</td>\n",
       "      <td>4.00</td>\n",
       "      <td>0.2975</td>\n",
       "    </tr>\n",
       "    <tr>\n",
       "      <th>4</th>\n",
       "      <td>316960</td>\n",
       "      <td>5.00</td>\n",
       "      <td>0.2876</td>\n",
       "    </tr>\n",
       "    <tr>\n",
       "      <th>5</th>\n",
       "      <td>316960</td>\n",
       "      <td>5.00</td>\n",
       "      <td>0.2876</td>\n",
       "    </tr>\n",
       "  </tbody>\n",
       "</table>\n",
       "</div>"
      ],
      "text/plain": [
       "     Step Epoch Validation Loss\n",
       "0   63392  1.00          0.4470\n",
       "1  126784  2.00          0.3626\n",
       "2  190176  3.00          0.3223\n",
       "3  253568  4.00          0.2975\n",
       "4  316960  5.00          0.2876\n",
       "5  316960  5.00          0.2876"
      ]
     },
     "metadata": {},
     "output_type": "display_data"
    },
    {
     "data": {
      "image/png": "[encoded data removed]",
      "text/plain": [
       "<Figure size 1200x600 with 2 Axes>"
      ]
     },
     "metadata": {},
     "output_type": "display_data"
    }
   ],
   "source": [
    "import matplotlib.pyplot as plt\n",
    "import numpy as np\n",
    "from IPython.display import display\n",
    "\n",
    "def plot_training_loss(trainer):\n",
    "    \"\"\"\n",
    "    Plot training and validation loss with both epochs and steps on the x-axis.\n",
    "\n",
    "    Parameters:\n",
    "    -----------\n",
    "    trainer : transformers.Trainer\n",
    "        The Hugging Face trainer object after training is complete\n",
    "\n",
    "    Returns:\n",
    "    --------\n",
    "    None\n",
    "        Displays the plot in a Jupyter notebook\n",
    "    \"\"\"\n",
    "    # Extract training logs\n",
    "    log_history = trainer.state.log_history\n",
    "\n",
    "    # Separate training and evaluation logs\n",
    "    train_logs = [log for log in log_history if 'loss' in log and 'eval_loss' not in log]\n",
    "    eval_logs = [log for log in log_history if 'eval_loss' in log]\n",
    "\n",
    "    # Extract loss values and steps\n",
    "    train_loss = [log['loss'] for log in train_logs]\n",
    "    train_steps = [log['step'] for log in train_logs]\n",
    "\n",
    "    # Extract eval loss values and corresponding training steps\n",
    "    eval_loss = [log['eval_loss'] for log in eval_logs]\n",
    "    eval_steps = [log['step'] for log in eval_logs]\n",
    "\n",
    "    # Calculate epochs from steps\n",
    "    # We need to know the number of steps per epoch\n",
    "    steps_per_epoch = trainer.args.steps_per_epoch if hasattr(trainer.args, 'steps_per_epoch') else None\n",
    "\n",
    "    if steps_per_epoch is None:\n",
    "        # Try to calculate it from training arguments\n",
    "        if hasattr(trainer.args, 'num_train_epochs') and hasattr(trainer.args, 'max_steps'):\n",
    "            if trainer.args.max_steps > 0 and trainer.args.num_train_epochs > 0:\n",
    "                steps_per_epoch = trainer.args.max_steps / trainer.args.num_train_epochs\n",
    "\n",
    "    if steps_per_epoch is None:\n",
    "        # Fall back to estimating from the data\n",
    "        # Identify epoch boundaries in the logs\n",
    "        epoch_changes = [i for i, log in enumerate(log_history) if 'epoch' in log and (i == 0 or log['epoch'] > log_history[i-1].get('epoch', 0))]\n",
    "        if len(epoch_changes) > 1:\n",
    "            steps_per_epoch = (log_history[epoch_changes[1]]['step'] - log_history[epoch_changes[0]]['step'])\n",
    "\n",
    "    # Create figure with two x-axes\n",
    "    fig, ax1 = plt.subplots(figsize=(12, 6))\n",
    "\n",
    "    # Plot training loss vs steps\n",
    "    ax1.plot(train_steps, train_loss, label='Training Loss', color='blue', alpha=0.5)\n",
    "    ax1.plot(eval_steps, eval_loss, label='Validation Loss', color='red',\n",
    "             marker='o', linestyle='-', linewidth=2, markersize=8)\n",
    "\n",
    "    ax1.set_xlabel('Training Steps')\n",
    "    ax1.set_ylabel('Loss')\n",
    "    ax1.tick_params(axis='x', labelcolor='black')\n",
    "\n",
    "    # Create a second x-axis for epochs\n",
    "    if steps_per_epoch:\n",
    "        ax2 = ax1.twiny()\n",
    "\n",
    "        # Get the current x-limits\n",
    "        xlim = ax1.get_xlim()\n",
    "\n",
    "        # Set the second x-axis limits using epochs\n",
    "        ax2.set_xlim([xlim[0]/steps_per_epoch, xlim[1]/steps_per_epoch])\n",
    "        ax2.set_xlabel('Epochs')\n",
    "        ax2.tick_params(axis='x', labelcolor='green')\n",
    "\n",
    "        # Add epoch markers\n",
    "        for epoch in range(1, int(train_steps[-1] / steps_per_epoch) + 1):\n",
    "            ax1.axvline(x=epoch * steps_per_epoch, color='green', linestyle='--', alpha=0.5)\n",
    "\n",
    "    ax1.set_title('Training and Validation Loss')\n",
    "    ax1.legend()\n",
    "    ax1.grid(True, linestyle='--', alpha=0.7)\n",
    "\n",
    "    # Add a summary table with epochs\n",
    "    if steps_per_epoch:\n",
    "        summary_df = pd.DataFrame({\n",
    "            'Step': eval_steps,\n",
    "            'Epoch': [f\"{step/steps_per_epoch:.2f}\" for step in eval_steps],\n",
    "            'Validation Loss': [f\"{loss:.4f}\" for loss in eval_loss]\n",
    "        })\n",
    "    else:\n",
    "        summary_df = pd.DataFrame({\n",
    "            'Step': eval_steps,\n",
    "            'Validation Loss': [f\"{loss:.4f}\" for loss in eval_loss]\n",
    "        })\n",
    "\n",
    "    print(\"Validation Loss Summary:\")\n",
    "    display(summary_df)\n",
    "\n",
    "    # Show plot\n",
    "    plt.tight_layout()\n",
    "    plt.show()\n",
    "\n",
    "# Plot the training and validation losses\n",
    "plot_training_loss(trainer)"
   ]
  },
  {
   "cell_type": "markdown",
   "metadata": {},
   "source": [
    "# Metrics"
   ]
  },
  {
   "cell_type": "code",
   "execution_count": 54,
   "metadata": {},
   "outputs": [
    {
     "data": {
      "text/html": [
       "\n",
       "    <div>\n",
       "      \n",
       "      <progress value='7924' max='7924' style='width:300px; height:20px; vertical-align: middle;'></progress>\n",
       "      [7924/7924 05:09]\n",
       "    </div>\n",
       "    "
      ],
      "text/plain": [
       "<IPython.core.display.HTML object>"
      ]
     },
     "metadata": {},
     "output_type": "display_data"
    },
    {
     "name": "stdout",
     "output_type": "stream",
     "text": [
      "Perplexity: 1.33\n"
     ]
    }
   ],
   "source": [
    "import math\n",
    "eval_results = trainer.evaluate()\n",
    "print(f\"Perplexity: {math.exp(eval_results['eval_loss']):.2f}\")"
   ]
  },
  {
   "cell_type": "markdown",
   "metadata": {},
   "source": [
    "We'll likely need to create our prompt input type thing down here..."
   ]
  },
  {
   "cell_type": "markdown",
   "metadata": {},
   "source": [
    "### Simple Prompting"
   ]
  },
  {
   "cell_type": "code",
   "execution_count": 55,
   "metadata": {},
   "outputs": [],
   "source": [
    "def generate_text(model, tokenizer, prompt, max_length=100, num_return_sequences=1, temperature=1.0):\n",
    "    \"\"\"\n",
    "    Generate text using the trained GPT2 model.\n",
    "\n",
    "    Args:\n",
    "        model: The trained GPT2 model\n",
    "        tokenizer: The tokenizer used for encoding/decoding text\n",
    "        prompt: The input prompt text to generate from\n",
    "        max_length: Maximum length of generated sequence\n",
    "        num_return_sequences: Number of sequences to generate\n",
    "        temperature: Controls randomness (higher = more random)\n",
    "\n",
    "    Returns:\n",
    "        List of generated text sequences\n",
    "    \"\"\"\n",
    "    # Move model to GPU if available\n",
    "    device = torch.device(\"cuda\" if torch.cuda.is_available() else \"cpu\")\n",
    "    model = model.to(device)\n",
    "    model.eval()\n",
    "\n",
    "    # Encode the input prompt\n",
    "    encoded_prompt = tokenizer(prompt, return_tensors='pt').to(device)\n",
    "\n",
    "    # Generate text\n",
    "    with torch.no_grad():\n",
    "        output_sequences = model.generate(\n",
    "            input_ids=encoded_prompt['input_ids'],\n",
    "            attention_mask=encoded_prompt['attention_mask'],\n",
    "            max_length=max_length,\n",
    "            temperature=temperature,\n",
    "            num_return_sequences=num_return_sequences,\n",
    "            pad_token_id=tokenizer.pad_token_id,\n",
    "            eos_token_id=tokenizer.eos_token_id,\n",
    "            do_sample=True,\n",
    "        )\n",
    "\n",
    "    # Decode and return the generated sequences\n",
    "    generated_sequences = []\n",
    "    for generated_sequence in output_sequences:\n",
    "        generated_text = tokenizer.decode(generated_sequence, skip_special_tokens=True)\n",
    "        generated_sequences.append(generated_text)\n",
    "\n",
    "    return generated_sequences"
   ]
  },
  {
   "cell_type": "code",
   "execution_count": 56,
   "metadata": {},
   "outputs": [
    {
     "data": {
      "text/plain": [
       "['llanowar elves> G Identity , Tutor , G Color , Sorcery , {3} {G} Cost <CARD_NAME> <name> <MANA_COST> {3} {G} <TYPE_LINE> Sorcery <ORACLE_TEXT> Search your library for up to two basic land cards . Reveal them , put one onto the battlefield tapped and the rest on the bottom of your library in a random order . If you search your library this way , shuffle . If you search']"
      ]
     },
     "execution_count": 56,
     "metadata": {},
     "output_type": "execute_result"
    }
   ],
   "source": [
    "generate_text(gptmodel, tokenizer_fast, \"llanowar elves\", max_length=100, num_return_sequences=1, temperature=1.0)"
   ]
  },
  {
   "cell_type": "code",
   "execution_count": 57,
   "metadata": {},
   "outputs": [
    {
     "data": {
      "text/plain": [
       "['<THEMES> Extra Turn, Creature, R Color, {R} {R} Cost <CARD_NAME> Bridgemaw <MANA_COST> {R} {R} <TYPE_LINE> Creature — <name> <ORACLE_TEXT> Metalcraft — Metalcraft — <name> gets gets 1 0 as long as you have 13 or less life . <POWER> 4 <TOUGHNESS> 3 <TOUGHNESS> 4 <TOUGHNESS> 2 <TOUGHNESS> 3 <TOUGHNESS> 2 <TOUGHNESS']"
      ]
     },
     "execution_count": 57,
     "metadata": {},
     "output_type": "execute_result"
    }
   ],
   "source": [
    "generate_text(gptmodel, tokenizer_fast,\n",
    "              \"<THEMES> Extra Turn, Creature, R Color, {R} {R} Cost <CARD_NAME> Bridgemaw <MANA_COST>\",\n",
    "              max_length=100, num_return_sequences=1, temperature=1.0)"
   ]
  },
  {
   "cell_type": "code",
   "execution_count": 58,
   "metadata": {},
   "outputs": [
    {
     "data": {
      "text/plain": [
       "['[start] <THEMES> B Identity , Transmute , Creature , {1} {B} {B} {B} Cost , Creature Based , B Color , Horror <CARD_NAME> <name> <MANA_COST> {1} {B} {B} {B} {B} <TYPE_LINE> Creature — Horror <ORACLE_TEXT> {1} {B} {B} , {T} : Target creature gets -1 -1 until end of turn']"
      ]
     },
     "execution_count": 58,
     "metadata": {},
     "output_type": "execute_result"
    }
   ],
   "source": [
    "generate_text(gptmodel, tokenizer_fast,\n",
    "              '[start] <THEMES> B Identity',\n",
    "              max_length=100, num_return_sequences=1, temperature=1.0)\n",
    "\n"
   ]
  },
  {
   "cell_type": "markdown",
   "metadata": {},
   "source": [
    "### More Advanced Prompting"
   ]
  },
  {
   "cell_type": "code",
   "execution_count": 59,
   "metadata": {},
   "outputs": [
    {
     "name": "stdout",
     "output_type": "stream",
     "text": [
      "<THEMES> Extra Turn, Creature, R Color, {R} {R} Cost <CARD_NAME> Bridgemaw <MANA_COST> {0}} — Dreadnought <name> <ORACLE_TEXT> Metalcraft — {T} : Add {C} for each basic land type among permanents you control and a basic Forest type with another basic Mountain you don't control . Activate only as a sorcery . \\n Metalcraft of basic Swamp , Leech , Rogue , and Wizard , instant\n"
     ]
    }
   ],
   "source": [
    "# This has some nucleus sampling and top-k sampling\n",
    "# This is likely for us a better way to generate text\n",
    "\n",
    "from transformers import GPT2LMHeadModel, GPT2TokenizerFast\n",
    "\n",
    "# Load  trained model and tokenizer\n",
    "# model = GPT2LMHeadModel.from_pretrained(\"./model/path\")\n",
    "# tokenizer = GPT2TokenizerFast.from_pretrained(\"./tokenizer/path\")\n",
    "\n",
    "# Prepare your prompt\n",
    "prompt = \"<THEMES> Extra Turn, Creature, R Color, {R} {R} Cost <CARD_NAME> Bridgemaw <MANA_COST>\"\n",
    "# inputs = tokenizer(prompt, return_tensors=\"pt\").to(device)\n",
    "inputs = tokenizer_fast(prompt, return_tensors=\"pt\").to(device)\n",
    "\n",
    "\n",
    "# TODO: change `gptmodel` to `model` and `tokenizer_fast` to `tokenizer`\n",
    "# Generate text\n",
    "outputs = gptmodel.generate(\n",
    "    inputs.input_ids.to(device),\n",
    "    max_length=100,\n",
    "    do_sample=True,\n",
    "    temperature=0.8,\n",
    "    top_k=50,\n",
    "    top_p=0.95,\n",
    "    no_repeat_ngram_size=2,\n",
    "    pad_token_id=tokenizer_fast.pad_token_id,\n",
    "    eos_token_id=tokenizer_fast.eos_token_id,\n",
    ")\n",
    "\n",
    "# Decode the generated text\n",
    "generated_text = tokenizer_fast.decode(outputs[0], skip_special_tokens=True)\n",
    "print(generated_text)"
   ]
  },
  {
   "cell_type": "code",
   "execution_count": null,
   "metadata": {},
   "outputs": [],
   "source": [
    "def generate_on_test_set(model, tokenizer, test_dataset, device='cuda', max_length=100, sample_size=None, random_seed=42):\n",
    "    \"\"\"\n",
    "    Generate outputs on a random subset of a test dataset.\n",
    "\n",
    "    Args:\n",
    "        model: The language model to use for generation\n",
    "        tokenizer: The tokenizer for the model\n",
    "        test_dataset: A HuggingFace dataset (typically dataset_dict['test'])\n",
    "        device: Device to run inference on ('cuda' or 'cpu')\n",
    "        max_length: Maximum length of generated text\n",
    "        sample_size: Number of random samples to select (None = use entire dataset)\n",
    "        random_seed: Seed for random sampling\n",
    "\n",
    "    Returns:\n",
    "        List of generated texts\n",
    "    \"\"\"\n",
    "    import torch\n",
    "    import random\n",
    "    from tqdm.notebook import tqdm\n",
    "\n",
    "    # Set random seed for reproducibility\n",
    "    random.seed(random_seed)\n",
    "\n",
    "    # Get indices for the entire dataset\n",
    "    all_indices = list(range(len(test_dataset)))\n",
    "\n",
    "    # Select random subset if sample_size is specified\n",
    "    if sample_size is not None and sample_size < len(test_dataset):\n",
    "        selected_indices = random.sample(all_indices, sample_size)\n",
    "    else:\n",
    "        selected_indices = all_indices\n",
    "\n",
    "    results = []\n",
    "\n",
    "    for idx in tqdm(selected_indices, desc=\"Generating\"):\n",
    "        # Get prompt from dataset\n",
    "        prompt = test_dataset[idx]['sentence']\n",
    "\n",
    "        # Tokenize prompt\n",
    "        inputs = tokenizer(prompt, return_tensors=\"pt\").to(device)\n",
    "\n",
    "        # Generate text\n",
    "        outputs = model.generate(\n",
    "            inputs.input_ids.to(device),\n",
    "            max_length=max_length,\n",
    "            do_sample=True,\n",
    "            temperature=0.8,\n",
    "            top_k=50,\n",
    "            top_p=0.95,\n",
    "            no_repeat_ngram_size=2,\n",
    "            pad_token_id=tokenizer.pad_token_id,\n",
    "            eos_token_id=tokenizer.eos_token_id,\n",
    "        )\n",
    "\n",
    "        # Decode the generated text\n",
    "        generated_text = tokenizer.decode(outputs[0], skip_special_tokens=True)\n",
    "        results.append({\"index\": idx, \"prompt\": prompt, \"generated_text\": generated_text})\n",
    "\n",
    "    return results\n",
    "\n",
    "# Example usage:\n",
    "# # Generate texts on a random subset of 10 examples from your test set\n",
    "# generated_results = generate_on_test_set(\n",
    "#     model=gptmodel,\n",
    "#     tokenizer=tokenizer_fast,\n",
    "#     test_dataset=dataset_dict['test'],\n",
    "#     device=device,\n",
    "#     sample_size=10\n",
    "# )"
   ]
  },
  {
   "cell_type": "code",
   "execution_count": 131,
   "metadata": {},
   "outputs": [
    {
     "data": {
      "application/vnd.jupyter.widget-view+json": {
       "model_id": "07bccbb6e6c740c0867ac048e35254e7",
       "version_major": 2,
       "version_minor": 0
      },
      "text/plain": [
       "Generating:   0%|          | 0/200 [00:00<?, ?it/s]"
      ]
     },
     "metadata": {},
     "output_type": "display_data"
    }
   ],
   "source": [
    "test_set_generations = generate_on_test_set(\n",
    "    model=gptmodel,\n",
    "    tokenizer=tokenizer_fast,\n",
    "    test_dataset=tokenize_dataset_dict['test'],\n",
    "    sample_size=200,\n",
    "    device=device\n",
    ")"
   ]
  },
  {
   "cell_type": "code",
   "execution_count": 132,
   "metadata": {},
   "outputs": [
    {
     "data": {
      "text/plain": [
       "[{'index': 83810,\n",
       "  'prompt': '[start] <THEMES> Vampire , BRU Identity , Damage , Creature , Scry , BRU Color , {3} {U} {B} {R} Cost , Rogue <CARD_NAME> <name> <MANA_COST> {3} {U} {B} {R} <TYPE_LINE> Creature — Vampire Rogue <ORACLE_TEXT> When <name> enters , it deals 2 damage to each opponent and you scry 2 . \\\\n {2} , Exile <name> from your hand : Target land gains {T} : Add {U} , {B} , or {R} until <name> is cast from exile . You may cast',\n",
       "  'generated_text': \"[start] <THEMES> Vampire , BRU Identity , Damage , Creature , Scry , BRU Color , {3} {U} {B} {R} Cost , Rogue <CARD_NAME> <name> <MANA_COST> {3} {U} {B} {R} <TYPE_LINE> Creature — Vampire Rogue <ORACLE_TEXT> When <name> enters , it deals 2 damage to each opponent and you scry 2 . \\\\n {2} , Exile <name> from your hand : Target land gains {T} : Add {U} , {B} , or {R} until <name> is cast from exile . You may cast that card . If you do , <POWER> 4 <TOUGHNESS> 3 < 3 ( You skip your life total mana value 3 or less from the difference . ) <LOYALTY> 5 < 9 < 5 as long as you've committed a crime this spell from among them were cast it , and each spell cast a spell with < 7 < 4 or greater from a graveyard without paying its mana cost . < way can't be put into your graveyard . Damage wears off , except it on it only as a later turn . ( Targeting opponents can be destroyed , they can attack this turn and only\"},\n",
       " {'index': 14592,\n",
       "  'prompt': \"[start] <THEMES> {2} {U} {U} Cost , Creature , U Identity , Creature Based , Illusion , U Color <CARD_NAME> <name> <MANA_COST> {2} {U} {U} <TYPE_LINE> Creature — Illusion <ORACLE_TEXT> Whenever <name> blocks a creature , you may return <name> to its owner's hand . If you do , you may put a creature card from your hand onto the battlefield blocking\",\n",
       "  'generated_text': \"[start] <THEMES> {2} {U} {U} Cost , Creature , U Identity , Creature Based , Illusion , U Color <CARD_NAME> <name> <MANA_COST> {2} {U} {U} <TYPE_LINE> Creature — Illusion <ORACLE_TEXT> Whenever <name> blocks a creature , you may return <name> to its owner's hand . If you do , you may put a creature card from your hand onto the battlefield blocking or blocked by it . <POWER> 1 <TOUGHNESS> 3 < < 2 < 3 up to one other target creature <LOYALTY> 2TOUGHNESS>'s power 4 < 1TOUGHNESS them 5 < 9 < 7 < 5 \\\\n {4} : < -4 : Creatures your opponents control get -0 until end of turn . Activate only as a sorcery . ( Exile all spells and abilities from the stack , including < puts the creature cards exiled with it into its controller's library , then puts it on the bottom . ) < Create a card exiled card returns to their owners' hands . That player returns it to your choice of the same player's control at the beginning of putting it again . Only the next turn it was kicked , remove all damage that player may activate only\"},\n",
       " {'index': 3278,\n",
       "  'prompt': '[start] <THEMES> N Identity , Creature , Construct , Card Draw , Artifact , Exchange , {3} Cost , N Color , Discard <CARD_NAME> <name> <MANA_COST> {3} <TYPE_LINE> Artifact Creature — Construct <ORACLE_TEXT> Draft <name> face up . \\\\n Immediately after the draft',\n",
       "  'generated_text': \"[start] <THEMES> N Identity , Creature , Construct , Card Draw , Artifact , Exchange , {3} Cost , N Color , Discard <CARD_NAME> <name> <MANA_COST> {3} <TYPE_LINE> Artifact Creature — Construct <ORACLE_TEXT> Draft <name> face up . \\\\n Immediately after the draft , you may reveal an opponent to untap <POWER> 2 <TOUGHNESS> 4 < 9 < 6 < 7 < 4 for theTOUGHNESS>'s power . ( Your commander's color with the last card you draft in your card pool . ) \\\\ \\\\> 1 ( You can't be the total mana in the untap during your untap step . A deck whose turn , that player may play that card this card's blessing for spells or activate an ability of a spell of the player who drew this turn . Each artifact card in their card they guessed Counters , instant , sorcery , and mana of any type can be spent to cast that spell's activation cost {2} . <LOYALTY> 3 < extra turn it has no longer a nonartifact , or ability . If you win the game , it's exiled card . Activate only once . Then if you can have nine or more times each turn < puts the rest of those cards they\"},\n",
       " {'index': 97196,\n",
       "  'prompt': '[start] <THEMES> 1 1 Counters , Giant , Creature , Attacking , Soldier , W Color , Creature Based , {4} {W} Cost , W Identity <CARD_NAME> <name> <MANA_COST> {4} {W} <TYPE_LINE> Creature — Giant Soldier <ORACLE_TEXT> Whenever <name> enters or attacks',\n",
       "  'generated_text': \"[start] <THEMES> 1 1 Counters , Giant , Creature , Attacking , Soldier , W Color , Creature Based , {4} {W} Cost , W Identity <CARD_NAME> <name> <MANA_COST> {4} {W} <TYPE_LINE> Creature — Giant Soldier <ORACLE_TEXT> Whenever <name> enters or attacks , put a 1 counter on target attacking creature . <POWER> 4 <TOUGHNESS> 5 < 2 < 5 ( You expend 4 as you spend your fourth total mana to cast spells during your turn . ) \\\\n Whenever you cast a creature spell during an opponent's turn , it gains double the power and toughness of the number of 1 or less than the amount of life total power of creatures you control with power . ( Choose a party consists of up to two targets . Each of Cleric , Rogue , Warrior , Cleric creature , and or players , then give each another counter of those creatures that had a counter put on each of each kind already there is the chosen creature that dealt damage alreadystart is a permanent or planeswalker it this way . A copy of a planeswalker . Saddle , remove a second time counter from the second . Activate only as a sorcery . \\\\> has toxic 1 0 : This ability triggers only once\"},\n",
       " {'index': 36048,\n",
       "  'prompt': '[start] <THEMES> B Identity , Damage , Creature , Warrior , Creature Based , B Color , Zombie , Tokens , {3} {B} {B} Cost , Phyrexian <CARD_NAME>',\n",
       "  'generated_text': \"[start] <THEMES> B Identity , Damage , Creature , Warrior , Creature Based , B Color , Zombie , Tokens , {3} {B} {B} Cost , Phyrexian <CARD_NAME> <name> , black Phyrexian Zombie Warrior <MANA_TEXT> Whenever <> deals damage to an opponent , you may pay {1} . If you do , create a 2 2 black and black Zombie creature token . \\\\n {T} : Target creature you control gets 2 0 until end of turn . <POWER> 3 <TOUGHNESS> 5 < 2 < 4 < 3 black Alien Warrior creature 1 < 1 green Phyrexian Warrior with flying as long as you've drawn two or more creatures on the battlefield under your control . Activate only during your turn and only if you have partner . ( Tap any number of untapped Zombies you had a creature dealt damage by the other than <LOYALTY> 4 or planeswalker also causes loss of damage . ) < foretold , <ORACLE_COST> 6 < Create two tapped 2 1 1 0 black Inkling Tokens < 9 < 0 < emblem with no maximum hand . When this creature tokens with undying , it deals 2 Counters , put into a 1 counters on it into its owner's hand at end step . Those permanents you don't control with Escape\"},\n",
       " {'index': 32098,\n",
       "  'prompt': \"[start] <THEMES> Planeswalker , Flying , U Identity , {4} {U} {U} Cost , Creature Based , U Color , Yanling , Legendary <CARD_NAME> <name> <MANA_COST> {4} {U} {U} <TYPE_LINE> Legendary Planeswalker — Yanling <ORACLE_TEXT> 1 : Until your next turn , up to one target creature gets -5 -0 . \\\\n −3 : Return up to two target creatures to their owners' hands . \\\\n −7 : Creatures you control with flying get 5 5 until end\",\n",
       "  'generated_text': \"[start] <THEMES> Planeswalker , Flying , U Identity , {4} {U} {U} Cost , Creature Based , U Color , Yanling , Legendary <CARD_NAME> <name> <MANA_COST> {4} {U} {U} <TYPE_LINE> Legendary Planeswalker — Yanling <ORACLE_TEXT> 1 : Until your next turn , up to one target creature gets -5 -0 . \\\\n −3 : Return up to two target creatures to their owners' hands . \\\\n −7 : Creatures you control with flying get 5 5 until end of turn . Take an extra turn after this one . <LOYALTY> 4 <TOUGHNESS> 6 < 5 < 9 < 4 and lose flying until your commander's next upkeep . ( Destroy all creatures without first strike until the ward {6} in the total power among creatures your opponents control , then give each creature your choice of those creatures . ) <POWER> 5 \\\\ −10} : You get an emblem with Creatures controlled by an 8 < 6 6 \\\\11} , 5 , where X is the number of creatures you don't untap during your life total total number 8 or more than two targets . Creatures with total amount of planeswalkers you own in your graveyard . If this turn instead\"},\n",
       " {'index': 29256,\n",
       "  'prompt': '[start] <THEMES> 1 1 Counters , Giant , {4} {G} {G} Cost , Creature , G Identity , Sacrifice , Trample , Defender , Creature Based , G Color <CARD_NAME> <name> <MANA_COST> {4} {G} {G} <TYPE_LINE> Creature — Giant <ORACLE_TEXT> <name> enters with X 1 1 counters on it , where X is the total toughness of other creatures you control . \\\\n Sacrifice a creature with defender :',\n",
       "  'generated_text': \"[start] <THEMES> 1 1 Counters , Giant , {4} {G} {G} Cost , Creature , G Identity , Sacrifice , Trample , Defender , Creature Based , G Color <CARD_NAME> <name> <MANA_COST> {4} {G} {G} <TYPE_LINE> Creature — Giant <ORACLE_TEXT> <name> enters with X 1 1 counters on it , where X is the total toughness of other creatures you control . \\\\n Sacrifice a creature with defender : Put X X counter on <POWER> 5 <TOUGHNESS> 4 < 0 < 6 < 9 <LOYALTY> 7 < 7 Dragon creature tokens with flying , trample until end of turn . Activate only as a sorcery . < 2 < foretold , rounded up tails , Slug , whichever comes up to one target creature . ( Those creatures can attack each combat if able and only if defending player controls more creatures with shadow counters are declared . ) < had decayed , sacrifice them at least one other than two creatures named < didn't untap during their controllers' hands . Each of those creatures that had counters loses defender . They can't attack this turn if their controller , then sacrifices a Brushwagg , and remove them . If they sacrifice < return them to its owner's control\"},\n",
       " {'index': 18289,\n",
       "  'prompt': '[start] <THEMES> {2} {W} {W} Cost , Enchantment , Sacrifice , W Color , Depletion Counters , W Identity <CARD_NAME> <name> <MANA_COST> {2} {W} {W} <TYPE_LINE> Enchantment <ORACLE_TEXT> If damage would be dealt to you , put that many depletion counters on <name> instead . \\\\n When there are four or more depletion counters',\n",
       "  'generated_text': \"[start] <THEMES> {2} {W} {W} Cost , Enchantment , Sacrifice , W Color , Depletion Counters , W Identity <CARD_NAME> <name> <MANA_COST> {2} {W} {W} <TYPE_LINE> Enchantment <ORACLE_TEXT> If damage would be dealt to you , put that many depletion counters on <name> instead . \\\\n When there are four or more depletion counters are removed from <> , sacrifice <LOYALTY> and sacrifice it to the number of depletion counter from it . If there is removed , remove all depletion Counters <TOUGHNESS> 5 <POWER> 3 < 7 < 9 < 4 < 0 < 3 \\\\ Suspend 3 ( Rather than you can't destroy each suspended , rounded up to three depletion-Demon permanents and or less with ten or greater and each delay Counters and the last counters removed with seven has suspend , where X is the same name as you have suspend Counters . ) \\\\ \\\\> 0 can be put on each permanent with a depletion Travel , Remove a suspended card from each of their choice of each player controls with mana value 2 or remove a credit Counters from target permanent that would deal . < puts a delay counter on it and remove that player sacrifices a permanent of them .\"},\n",
       " {'index': 96530,\n",
       "  'prompt': '[start] <THEMES> Creature , Artifact Based , UW Identity , {1} {W} {U} Cost , Human , Meld , Artificer , UW Color , Legendary <CARD_NAME> <name> <MANA_COST> {1} {W} {U} <TYPE_LINE> Legendary Creature — Human Artificer <ORACLE_TEXT> Artifact , instant , and sorcery spells you cast cost {1} less to cast . \\\\n',\n",
       "  'generated_text': \"[start] <THEMES> Creature , Artifact Based , UW Identity , {1} {W} {U} Cost , Human , Meld , Artificer , UW Color , Legendary <CARD_NAME> <name> <MANA_COST> {1} {W} {U} <TYPE_LINE> Legendary Creature — Human Artificer <ORACLE_TEXT> Artifact , instant , and sorcery spells you cast cost {1} less to cast . \\\\n {2} more to activate . This effect reduces only once each turn . ( Exile an artifact you control and abilities from the stack , creature , creatures , legendaries , or Sagas are historic . ) \\\\ ) <POWER> 3 <TOUGHNESS> 2 < 2 (TOUGHNESS>'s power 2 orTOUGHNESSn Doctor'sTOUGHNESS them 2 \\\\> 1 < 9 <LOYALTY> 4 < 6 < 4 \\\\ total number of artifacts youTOUGHNESS cost < 7 < 5 < 3 \\\\ < 1 \\\\ : Target artifact card in your graveyard 5 \\\\ \\\\ Lord of the next turn , sorcery spell you may cast that card from among cards in exile with mana value 3 or less from your hand . < becomes a graveyard . If you do , exile it . Activate only as a sorcery . You may spend mana from exile this turn it this way , can\"},\n",
       " {'index': 13434,\n",
       "  'prompt': '[start] <THEMES> Bird , Creature , {3} {U} Cost , Flying , U Identity , Soldier , Flicker , Creature Based , U Color , Combat Damage , Legendary <CARD_NAME> <name> <MANA_COST> {3} {U} <TYPE_LINE> Legendary Creature — Bird Soldier <ORACLE_TEXT> Flying \\\\n Whenever <name> deals combat damage to a player , exile',\n",
       "  'generated_text': \"[start] <THEMES> Bird , Creature , {3} {U} Cost , Flying , U Identity , Soldier , Flicker , Creature Based , U Color , Combat Damage , Legendary <CARD_NAME> <name> <MANA_COST> {3} {U} <TYPE_LINE> Legendary Creature — Bird Soldier <ORACLE_TEXT> Flying \\\\n Whenever <name> deals combat damage to a player , exile target creature you control , then return it to the battlefield under its owner's control . \\\\> to its owners' control at the beginning of the next end step . When <POWER> 1 <TOUGHNESS> 3 < 1 (TOUGHNESS>'s power to oneTOUGHNESSn Partner with flying < 3 or more than two commanders if both have partner . ) <LOYALTY> 4 < 7 < 9 < 6 <10} : This Mount < 4 as though it weren't have flying and can't be blocked by creatures with total power 8 or greater . < extra turn . ( You can have ward {4} as a sorcery . Saddle only by only as long as you've completed a creature with ten or fewer than a higher mana value 7 or less life . While attached , can help cast it's still apply to cast that creature spell . Exile < creates a\"},\n",
       " {'index': 88696,\n",
       "  'prompt': \"[start] <THEMES> Creature , {3} {U} Cost , U Identity , Human , Creature Based , Wizard , Goad , U Color , Unblockable <CARD_NAME> <name> <MANA_COST> {3} {U} <TYPE_LINE> Creature — Human Wizard <ORACLE_TEXT> {U} , {T} : Until your next turn , target creature an opponent controls can't be blocked . Goad that creature . ( Until your next turn , that creature attacks each combat if able and attacks a player other than\",\n",
       "  'generated_text': \"[start] <THEMES> Creature , {3} {U} Cost , U Identity , Human , Creature Based , Wizard , Goad , U Color , Unblockable <CARD_NAME> <name> <MANA_COST> {3} {U} <TYPE_LINE> Creature — Human Wizard <ORACLE_TEXT> {U} , {T} : Until your next turn , target creature an opponent controls can't be blocked . Goad that creature . ( Until your next turn , that creature attacks each combat if able and attacks a player other than you if it attacks that player , they attack a creature they control that opponent other this turn if they don't have a higher mana value . ) \\\\n {1}} — {B} or less to cast that's hand , goad each player loses all abilities and you control of all creatures they own in their opponents control . <POWER> 2 <TOUGHNESS> 3 < 2 it 4 < 1 < 3 blue and can be the total power 2 creatures your opponents own . Those creatures can attack each turn . \\\\> 1 1 as long as you've completed a crime this creature with two or more creatures that had no longer suspected creatures with a stun counters on them . This ability triggers only once each opponent owns in the other\"},\n",
       " {'index': 97080,\n",
       "  'prompt': '[start] <THEMES> Counterspell , GU Color , {G} {G} {U} {U} Cost , GU Identity , Instant <CARD_NAME> <name> <MANA_COST> {G} {G} {U} {U} <TYPE_LINE> Instant <ORACLE_TEXT> Counter target spell . At the',\n",
       "  'generated_text': \"[start] <THEMES> Counterspell , GU Color , {G} {G} {U} {U} Cost , GU Identity , Instant <CARD_NAME> <name> <MANA_COST> {G} {G} {U} {U} <TYPE_LINE> Instant <ORACLE_TEXT> Counter target spell . At the beginning of the next main phase , add {C} , then reveal the top X cards of your library , where X is the number of colors of mana spent to cast this spell's mana value . Put a card with the same name sticker on it into your hand and the rest on the bottom of that spell into in a random order . If it's an instant or sorcery card , you may put that card onto the battlefield . ( If you don't put into a graveyard , remove a 1 1 counter from this card instead . ) \\\\n Counter that's companion , return target permanent an opponent controls to its owner's hand . Then if the gift was promised , put a stun counter on each permanent that player discards a permanent or planeswalker that had a different names from a gift counter of their choice of those piles equal to the spell twice that permanent they control . You may choose new targets for the encoded on that weren't control\"},\n",
       " {'index': 116939,\n",
       "  'prompt': '[start] <THEMES> Enchantment , R Color , Creature Based , R Identity , Upkeep , Cumulative Upkeep , {2} {R} Cost <CARD_NAME> <name> <MANA_COST> {2} {R} <TYPE_LINE> Enchantment <ORACLE_TEXT> Cumulative upkeep {R} ( At the beginning of your upkeep , put an age counter on this permanent , then sacrifice it unless you pay its upkeep cost for each age counter',\n",
       "  'generated_text': \"[start] <THEMES> Enchantment , R Color , Creature Based , R Identity , Upkeep , Cumulative Upkeep , {2} {R} Cost <CARD_NAME> <name> <MANA_COST> {2} {R} <TYPE_LINE> Enchantment <ORACLE_TEXT> Cumulative upkeep {R} ( At the beginning of your upkeep , put an age counter on this permanent , then sacrifice it unless you pay its upkeep cost for each age counter this cost if you paid its echo cost . ) \\\\n Whenever a player puts an echo counter from a land they control unless they pay {1} or pay <POWER> 2 <TOUGHNESS> 3 < 4 < 1 < 3 red Kavu creature < 7 < 5 < 6 < 8 < 11 < 2 red Mountain as long as you have at least threeR/P} can't have shroud as <LOYALTY> 0 < 9 < Gargoyle creature tokens with shroud . ( They can be the target of spells or abilities from white creatures without paying their controllers' untap during your untap step . A player's untap steps and only if able . Each of those creatures can attack a Swamp . Damage that player controls an Island , that's phased out , it can block all other than one without flying can activate an untapped , and\"},\n",
       " {'index': 71482,\n",
       "  'prompt': '[start] <THEMES> Aura , Vigilance , Creature , {1} {G} Cost , G Identity , Trample , G Color , Knight , Artifact <CARD_NAME> <name> <MANA_COST> {1} {G} <TYPE_LINE> Artifact Creature — Knight <ORACLE_TEXT> As long',\n",
       "  'generated_text': \"[start] <THEMES> Aura , Vigilance , Creature , {1} {G} Cost , G Identity , Trample , G Color , Knight , Artifact <CARD_NAME> <name> <MANA_COST> {1} {G} <TYPE_LINE> Artifact Creature — Knight <ORACLE_TEXT> As long as <> is enchanted by exactly one Aura spells , it gets 1 1 and has vigilance and trample . \\\\n {2} : Return <POWER> 2 <TOUGHNESS> 3 < 1 < 2 as long long though it has defender as you control a Bird Knight with vigilance . <LOYALTY> 1 2 or less 1 Human Knight you've committed a Mount < Saddle 2 Human Warrior as though they had vigilance as this ability . ( Tap any number of other creatures you had toxic 1 counters from the form of creatures named < Pilot , rounded up to one other target Knight or more : This Mount , unattach attached to that creature gets 2 1 0 0 and gains trample until end of turn . Saddle , lifelink until your next turn and lifelink . ) < becomes a Vehicle , and vigilance until < \\\\ Crew 1 4 4 \\\\ < Vehicle spells you activate abilities you cast turn instead . Activate only once each turn , < create four 1 3 1 Counters ,TOUGHNESS>'\"},\n",
       " {'index': 11395,\n",
       "  'prompt': '[start] <THEMES> Creature , {5} {U} {U} Cost , U Identity , Mutate , Creature Based , U Color , Leviathan <CARD_NAME> <name> <MANA_COST> {5} {U} {U} <TYPE_LINE> Creature — Leviathan <ORACLE_TEXT> Mutate {5} {U} ( If you cast this spell for its mutate cost , put it over or under target non-Human creature you own . They mutate into the creature on',\n",
       "  'generated_text': \"[start] <THEMES> Creature , {5} {U} {U} Cost , U Identity , Mutate , Creature Based , U Color , Leviathan <CARD_NAME> <name> <MANA_COST> {5} {U} {U} <TYPE_LINE> Creature — Leviathan <ORACLE_TEXT> Mutate {5} {U} ( If you cast this spell for its mutate cost , put it over or under target non-Human creature you own . They mutate into the creature on top plus all abilities from under it . Each creature card in your hand from your control counts toward your devotion to one . ) \\\\n Whenever this creature mutates , up to two target creatures can't attack or planeswalkers you or block this turn . \\\\ \\\\> becomes blocked by creatures with power 4 or greater . <POWER> 6 <TOUGHNESS> 5 < 5 \\\\7} : < 9 < 7 < 2 < 6 \\\\ be blocked blue and blue creatures your opponents control get -1 -2 until end of turn as long as you control three or more creatures . ( Each of those creatures and or blue or black creatures you don't untap during their controllers' untap step . Damage , those players may activate an additional costs {1} in the game for as steps and\"},\n",
       " {'index': 77397,\n",
       "  'prompt': '[start] <THEMES> 1 1 Counters , Creature , GR Color , Trample , {3} {R} {R} {G} {G} Cost , Creature Based , Cyclops , Combat Damage , GR Identity , Legendary <CARD_NAME> <name> <MANA_COST> {3} {R} {R} {G} {G} <TYPE_LINE> Legendary Creature — Cyclops <ORACLE_TEXT> Trample \\\\n Whenever <name> deals combat damage to a player , put a 1 1 counter on each creature you control . <POWER> 6 <TOUGHNESS> 7',\n",
       "  'generated_text': \"[start] <THEMES> 1 1 Counters , Creature , GR Color , Trample , {3} {R} {R} {G} {G} Cost , Creature Based , Cyclops , Combat Damage , GR Identity , Legendary <CARD_NAME> <name> <MANA_COST> {3} {R} {R} {G} {G} <TYPE_LINE> Legendary Creature — Cyclops <ORACLE_TEXT> Trample \\\\n Whenever <name> deals combat damage to a player , put a 1 1 counter on each creature you control . <POWER> 6 <TOUGHNESS> 7 < 9 < 7 7TOUGHNESS>'s power and each other creature named <LOYALTY> 4 < 8 < 5 < 4 \\\\ \\\\ Whenever a 4 ( Tap any number of untapped creatures you controls with total power 6 or more creatures that player controls attack , rounded up to one other target creature can deal excess combat . ) \\\\> 3 damage that would be dealt to that creature's attacking you or planeswalker's controller's blocking it deals double that damage instead . \\\\ Foretell {2} , prevent that dealt by an opponent chooses a creature and put two 1 damage , remove a number . ( During your opponents , if <> is dealt damage . If you pay {1} was dealt\"},\n",
       " {'index': 55302,\n",
       "  'prompt': '[start] <THEMES> Scry , Haste , Gain Control , R Color , Creature Based , Sorcery , R Identity , {2} {R} Cost <CARD_NAME> <name> <MANA_COST> {2} {R} <TYPE_LINE> Sorcery <ORACLE_TEXT> Gain control of target creature until end of turn . Untap that creature . It gains haste until end of turn . If you control a Wolf or Werewolf , scry 2 . ( Look at the top',\n",
       "  'generated_text': \"[start] <THEMES> Scry , Haste , Gain Control , R Color , Creature Based , Sorcery , R Identity , {2} {R} Cost <CARD_NAME> <name> <MANA_COST> {2} {R} <TYPE_LINE> Sorcery <ORACLE_TEXT> Gain control of target creature until end of turn . Untap that creature . It gains haste until end of turn . If you control a Wolf or Werewolf , scry 2 . ( Look at the top two cards of your library , then put any number of them on the bottom and the rest on top in any order . ) \\\\n Scry 1 , you may put one of those cards on a random order and or a graveyard on their library in a later turn a land card you own in exile with mana value 3 or less from your hand . You may cast that card without paying its mana cost . When you do , <POWER> 3 <TOUGHNESS> 1 <LOYALTY> 4 < extra turn to its power 1 red , haste , and haste . <15} : Gain cast all non-Human creature and scry 3 . Scry 3 , 19 Gain Gain phased out , gain haste that token . \\\\> 2 , all opponents can't block it this turn without flying until your next turn\"},\n",
       " {'index': 4165,\n",
       "  'prompt': '[start] <THEMES> {5} {U} {B} {B} Cost , Creature , Free Spells , Trample , BU Identity , Combat Damage , BU Color , Horror <CARD_NAME> <name> <MANA_COST> {5} {U} {B} {B} <TYPE_LINE> Creature — Horror <ORACLE_TEXT> Trample \\\\n Whenever <name> deals combat damage to a player',\n",
       "  'generated_text': \"[start] <THEMES> {5} {U} {B} {B} Cost , Creature , Free Spells , Trample , BU Identity , Combat Damage , BU Color , Horror <CARD_NAME> <name> <MANA_COST> {5} {U} {B} {B} <TYPE_LINE> Creature — Horror <ORACLE_TEXT> Trample \\\\n Whenever <name> deals combat damage to a player , that player exiles cards from the top of their library until they exile a card . You may cast a nonland card from that card without paying its mana cost if it has a spell you exiled with it without mana value less than or equal to the card's mana costs . If you cast it , you may pay its name cost rather than pay {1} more than the exiled cards without its power . \\\\ \\\\> assigns no cards in your graveyard , exile the cards exiled , then exile cards with <POWER> 6 <TOUGHNESS> 8 < 9 <LOYALTY> 5 < 6 \\\\7} : You get 2 < 7 < 3 < 8 black Horror creature with trample until end of turn . < 11 Counters , or less . Activate only as a sorcery . ( You can be paid with haste until your next turn and only if there are five\"},\n",
       " {'index': 3905,\n",
       "  'prompt': '[start] <THEMES> {3} {U} {U} {U} Cost , Scry , U Identity , Artifact , U Color , Upkeep , Legendary <CARD_NAME> <name> <MANA_COST> {3} {U} {U} {U} <TYPE_LINE> Legendary Artifact <ORACLE_TEXT> At the beginning of your',\n",
       "  'generated_text': \"[start] <THEMES> {3} {U} {U} {U} Cost , Scry , U Identity , Artifact , U Color , Upkeep , Legendary <CARD_NAME> <name> <MANA_COST> {3} {U} {U} {U} <TYPE_LINE> Legendary Artifact <ORACLE_TEXT> At the beginning of your upkeep , scry X , where X is the number of cards in your hand minus the amount of colors of mana spent to cast this spell . \\\\n Whenever you scry , you may pay {2} . When you do , target opponent reveals cards from the top of their library until they reveal a nonland card . If you reveal an instant or sorcery card is revealed this way , put that card onto the battlefield and the rest on the bottom of that player's library in a random order . You may put it into their graveyard . Then if you don't , that opponent mills four cards revealed , then put a card from among them on top card not exiled with <POWER> 3 <TOUGHNESS> 6 <LOYALTY> 4 < 4 \\\\LINE>'s Pridemate of the exiled card's hand . < creates five Treasure tokens instead of those cards exiled , 19 You get 2 < loses all but not chosen card types .\"},\n",
       " {'index': 12280,\n",
       "  'prompt': '[start] <THEMES> Damage , RU Identity , RU Color , {3} {U} {U} {R} {R} Cost , Tokens , Instant , Treasure Tokens , Discard <CARD_NAME> <name> <MANA_COST> {3} {U} {U} {R} {R} <TYPE_LINE> Instant <ORACLE_TEXT> <name> deals 5 damage to any target . Look at the top five cards of your library . Put one of them into your hand and the rest on the bottom of your library in a random order . \\\\n {U/R} {U/R} , Discard <name> : Create a Treasure',\n",
       "  'generated_text': \"[start] <THEMES> Damage , RU Identity , RU Color , {3} {U} {U} {R} {R} Cost , Tokens , Instant , Treasure Tokens , Discard <CARD_NAME> <name> <MANA_COST> {3} {U} {U} {R} {R} <TYPE_LINE> Instant <ORACLE_TEXT> <name> deals 5 damage to any target . Look at the top five cards of your library . Put one of them into your hand and the rest on the bottom of your library in a random order . \\\\n {U/R} {U/R} , Discard <name> : Create a Treasure token . ( It's an artifact with {T} can't be paid with any number of colors . The token is spent to cast that spell . A Treasure tokens equal to its mana value . ) \\\\ Flashback {2} : Target instant or sorcery card in your graveyard gains flashback until end of turn . When you next turn , copy that card . You may cast the copy it for as long as it remains exiled , <POWER> 5 <TOUGHNESS> 2 <LOYALTY> 4 < 4 blue and you may choose new targets for the copies of that exiled card exiled cards from your\"},\n",
       " {'index': 28657,\n",
       "  'prompt': '[start] <THEMES> {1} {U} {R} Cost , RU Identity , Creature , Multicolored , Human , RU Color , Prowess , Plot , Legendary , Rogue <CARD_NAME> <name> <MANA_COST> {1} {U} {R} <TYPE_LINE> Legendary Creature — Human Rogue <ORACLE_TEXT> Prowess ( Whenever you cast a noncreature spell , this creature gets 1 1 until end of turn . ) \\\\n Whenever you cast a multicolored instant or sorcery spell from your hand , exile that spell instead of putting it into your graveyard as it resolves . If you do , it becomes plotted . ( You may cast it as a sorcery on a later turn without paying its mana cost . )',\n",
       "  'generated_text': \"[start] <THEMES> {1} {U} {R} Cost , RU Identity , Creature , Multicolored , Human , RU Color , Prowess , Plot , Legendary , Rogue <CARD_NAME> <name> <MANA_COST> {1} {U} {R} <TYPE_LINE> Legendary Creature — Human Rogue <ORACLE_TEXT> Prowess ( Whenever you cast a noncreature spell , this creature gets 1 1 until end of turn . ) \\\\n Whenever you cast a multicolored instant or sorcery spell from your hand , exile that spell instead of putting it into your graveyard as it resolves . If you do , it becomes plotted . ( You may cast it as a sorcery on a later turn without paying its mana cost . ) <POWER> 1 <TOUGHNESS> 2 < 2 (TOUGHNESS>'s power 1 \\\\ \\\\ ) ,TOUGHNESSn Plot {T} : Target instant , sorcery , exalted . It gets 2 2 as long as you control two or more times as this spell's intensity is on the battlefield . <LOYALTY> 3 < as < do it entered this turn and only as though it's a Spirit . \\\\ < LEVEL 2 1 0 \\\\ Plot only if it was kicked . Then shuffle it had flash . Activate only during your turn , < gets an\"},\n",
       " {'index': 30495,\n",
       "  'prompt': '[start] <THEMES> Cycling , Land , G Identity , Cost , N Color <CARD_NAME> <name> <MANA_COST> <TYPE_LINE> Land <ORACLE_TEXT> <name> enters tapped . \\\\n {T} : Add {G} . \\\\n Cycling {G} ( {G} , Discard this',\n",
       "  'generated_text': \"[start] <THEMES> Cycling , Land , G Identity , Cost , N Color <CARD_NAME> <name> <MANA_COST> <TYPE_LINE> Land <ORACLE_TEXT> <name> enters tapped . \\\\n {T} : Add {G} . \\\\n Cycling {G} ( {G} , Discard this card : Draw a card . ) \\\\> : Search your library for a basic land card , reveal it , put it into your hand , then shuffle . <POWER> 1 <TOUGHNESS> 2 < 2 \\\\ Basic landcycling {1} {B} \\\\ Shaman < 1 ( Tap an untapped Dryad you control to its power 1 you cycle <LOYALTY> 3 < 7 < 9 <11} Cost < 11 ,TOUGHNESS>'s power 2 as you mayTOUGHNESS them 3 \\\\ 20 < 4 < 3 (TOUGHNESSn 8 < 6 < Saddle 2 you spend your devotion to visit your commander's hand . If you do , it's sacrificed creature's still put into its owner's graveyard , return this way to your graveyard to paying its controller's hands . It's control with total power and you can't put there from your opponents who didn't have total mana value 4 or greater . This Mount , where X is 2 or less .\"},\n",
       " {'index': 66237,\n",
       "  'prompt': '[start] <THEMES> N Identity , Creature Based , Artifact , Equipment , {0} Cost , N Color <CARD_NAME> <name> <MANA_COST> {0}',\n",
       "  'generated_text': \"[start] <THEMES> N Identity , Creature Based , Artifact , Equipment , {0} Cost , N Color <CARD_NAME> <name> <MANA_COST> {0} <TYPE_LINE> Artifact — Equipment <ORACLE_TEXT> Equipped creature gets 4 3 . \\\\n Equip {2} ( {3} : Attach to target creature you control . Equip only as a sorcery . This card enters unattached and stays on the battlefield if you pay its echo cost . ) \\\\ Equip Equip cost {1} less to activate an additional time a creature spell . ( Pay only if the creature is on a permanent . While attached , this card's an artifact .POWER> 2 <TOUGHNESS> 4 <POWER>'s power 4 ( Tap any number of creatures you don't untap during the untap step . Reconfigure only once each other creature that player's untap steps and only the other than <LOYALTY> 3 < unattached of the first . Saddle ,TOUGHNESS>' cumulative upkeep . < though it has haste . Activate only during your untap symbol . Those tokens you've completed a player in a turn . only only any player and this isn't change attached . Embalm , and regular combat . Tap only by only creatures that creature . For attached to < lose the entwine cost is a\"},\n",
       " {'index': 78907,\n",
       "  'prompt': '[start] <THEMES> R Color , Trample , {1} {R} Cost , Creature Based , R Identity , Instant <CARD_NAME> <name> <MANA_COST> {1} {R} <TYPE_LINE> Instant <ORACLE_TEXT> Target',\n",
       "  'generated_text': \"[start] <THEMES> R Color , Trample , {1} {R} Cost , Creature Based , R Identity , Instant <CARD_NAME> <name> <MANA_COST> {1} {R} <TYPE_LINE> Instant <ORACLE_TEXT> Target creature gets 2 1 and gains trample until end of turn . ( It can deal excess combat damage to the player or planeswalker it's attacking . ) \\\\n Learn . You may reveal a Lesson card you own from outside the game and put it into your hand , or discard a card to draw a duplicate of it . If you discarded a nonland card , put that card into their hand . Otherwise , you may put this card on a creature card onto the battlefield . Then shuffle . \\\\ Overload , target creature you control gain trample and get 1 1 until your next turn and trample . Tap that creature . It's power 2 , it and deals damage equal to its power to that player . A copy of the other . That creature's mana value 2 damage , its controller may activate this spell's untap during its owner's next untap step . Activate only as though it has trample , and you can be regenerated . Saddle , whenever a sorcery . <POWER> 2 <TOUGHNESS> 1 <LOYALTY> 3 <\"},\n",
       " {'index': 3478,\n",
       "  'prompt': '[start] <THEMES> Damage , Creature , R Color , Human , {3} {R} Cost , Wizard , R Identity <CARD_NAME> <name> <MANA_COST> {3} {R} <TYPE_LINE> Creature — Human Wizard <ORACLE_TEXT> {1} {R} : <name> deals 1',\n",
       "  'generated_text': \"[start] <THEMES> Damage , Creature , R Color , Human , {3} {R} Cost , Wizard , R Identity <CARD_NAME> <name> <MANA_COST> {3} {R} <TYPE_LINE> Creature — Human Wizard <ORACLE_TEXT> {1} {R} : <name> deals 1 damage to any target . <POWER> 2 <TOUGHNESS> 1 < 2TOUGHNESS>'s power 1TOUGHNESSn {2} ( You may tap any number of untapped Wizards you control with total power 3 < 4 < 9 <LOYALTY> 4 or greater from theTOUGHNESS them 4 (TOUGHNESS deck onto the other than twoTOUGHNESS graveyard 2 you would enter with aTOUGHNESS Demilich and regular combat damage < 5 < 6 < 7 < higher ,TOUGHNESS a 6 as you spend your commander's life total . ) < 8 <15} , 13 < 3 , 5 , rounded up to one target player or more than seven targets . This ability triggers only as a sorcery spell unless a source deals 7 damage equal to the damage prevented this way can't change the total mana value of any amount of mana from a permanent or less . \\\\n 2 damage that would be prevented . ( During your turn , you can be dealt to pay {T\"},\n",
       " {'index': 73563,\n",
       "  'prompt': '[start] <THEMES> {3} {U} {U} Cost , Creature , Flying , U Identity , Dragon , U Color , Combat Damage , Ward , Desert , Legendary , Card Draw <CARD_NAME> <name> <MANA_COST> {3} {U} {U} <TYPE_LINE> Legendary Creature — Dragon <ORACLE_TEXT>',\n",
       "  'generated_text': \"[start] <THEMES> {3} {U} {U} Cost , Creature , Flying , U Identity , Dragon , U Color , Combat Damage , Ward , Desert , Legendary , Card Draw <CARD_NAME> <name> <MANA_COST> {3} {U} {U} <TYPE_LINE> Legendary Creature — Dragon <ORACLE_TEXT> Flying \\\\n Ward {2} \\\\> Whenever <> deals combat damage to a player , draw a card . \\\\ Whenever you draw your third card each turn , then discard a land they draw an additional card , , and you may exile a random from your hand . If you do , each player draws a nonland card for each card with the same name as they exiled card's graveyard that card types among cards in it . <POWER> 3 <TOUGHNESS> 6 < 4 < 5 < 9 < 11 < 7 < 6 \\\\_TOUGHNESS>'ss power 8 <LOYALTY> 4 \\\\ 20 < 8 — 19 < 3 \\\\ < 0 < 2 < Annihilator 2 ( Tap any number of creatures you control with flying . This creature can't cause your opponents control to paying their hands . ) < can have ward {1} : This effect lasts indefinitely . Activate only during your next turn . ( Whenever\"},\n",
       " {'index': 26062,\n",
       "  'prompt': '[start] <THEMES> Flash , W Color , Creature Based , Artifact , Equipment , {1} {W} Cost , W Identity <CARD_NAME> <name> <MANA_COST> {1} {W}',\n",
       "  'generated_text': \"[start] <THEMES> Flash , W Color , Creature Based , Artifact , Equipment , {1} {W} Cost , W Identity <CARD_NAME> <name> <MANA_COST> {1} {W} <TYPE_LINE> Artifact — Equipment <ORACLE_TEXT> You may cast this spell any time you could cast an instant . \\\\n When this Equipment enters , you may exile a creature you control . When you do , attach <POWER> to it to that creature to the creature on the battlefield . (TOUGHNESS> 2 <TOUGHNESS>'s power 2 creatures with another Auras you own attached to them as you both own . ) \\\\ Equip {2} ( {T} : Attach to target creature , then attach this card from a graveyard to another target player's hand . Equip only as a sorcery . This card enters unattached , this artifact is a copy of the card remains on it . While attached , and gains haste . Reconfigure only if it's not its controller , unattached and stays on that player discards a permanent . That player may activate an artifact card . Activate only during their upkeep cost . this isn't apply to a land . <LOYALTY> becomes a later turn . Sacrifice it at the beginning of combat , or unattach from the next untap\"},\n",
       " {'index': 93850,\n",
       "  'prompt': '[start] <THEMES> B Identity , Creature Based , B Color , Sorcery , {X} {B} {B} Cost <CARD_NAME> <name> <MANA_COST> {X} {B}',\n",
       "  'generated_text': \"[start] <THEMES> B Identity , Creature Based , B Color , Sorcery , {X} {B} {B} Cost <CARD_NAME> <name> <MANA_COST> {X} {B}} <TYPE_LINE> Sorcery <ORACLE_TEXT> Return X target creature cards with mana value X or less from your graveyard to your hand . If X is 5 or more , instead return <POWER> X <TOUGHNESS> 5 <LOYALTY> 6 < 5 (TOUGHNESS>'s power and up to theTOUGHNESSn 15 Return all creature tokens with total power of the total mana values of those cards named < 9 < 6 or greater from all graveyards to half the battlefield , rounded down , Krakens , then give each player returns all commanders if able . ) < weren't , return those creatures to their owners' hands . < destroyed this way to one target player controls . That player loses half their hands revealed this process for all creatures they control that pile and only as though they don't untap during their controllers' graveyards . Those creatures your opponents control can't exist until your next turn . \\\\n < can be blocked by only if < be prevented this turn , there are declared . ( Your opponents can help cast < puts the rest . Each clashing player\"},\n",
       " {'index': 85181,\n",
       "  'prompt': '[start] <THEMES> 1 1 Counters , {G/U} Cost , GU Color , Creature Based , GU Identity , Instant <CARD_NAME> <name> <MANA_COST> {G/U} <TYPE_LINE> Instant <ORACLE_TEXT> Move any number of 1 1 counters from target creature onto another target creature with the same',\n",
       "  'generated_text': \"[start] <THEMES> 1 1 Counters , {G/U} Cost , GU Color , Creature Based , GU Identity , Instant <CARD_NAME> <name> <MANA_COST> {G/U} <TYPE_LINE> Instant <ORACLE_TEXT> Move any number of 1 1 counters from target creature onto another target creature with the same name as that creature on the battlefield . Creatures you control of that type get 1 0 until end of turn for each kind of those creatures . The Ring tempts you . ( If a creature has a 1 counter on it , put a counter of the chosen kind into a graveyard and put two 1 -1 counters on each of each color of a -0 -2 -X counter removed this way , remove one from it . ) \\\\n Target creature you don't control with a number greater than 1 2 1 additional 1 each other than the number and or greater is the noted for as a copy of counters removed , or more 1 damage that spell or planeswalkers you may choose new targets for the copied , and copy that weren't copy . <POWER> 0 1 <TOUGHNESS> 3 <LOYALTY> twice the copies of one of any amount of them . \\\\ Entwine , copy it was dealt damage , until < unpaired creature that\"},\n",
       " {'index': 91924,\n",
       "  'prompt': '[start] <THEMES> B Identity , Vampire , Lifelink , Creature , Haste , {4} {B} Cost , Knight , B Color <CARD_NAME> <name> <MANA_COST> {4} {B} <TYPE_LINE> Creature',\n",
       "  'generated_text': \"[start] <THEMES> B Identity , Vampire , Lifelink , Creature , Haste , {4} {B} Cost , Knight , B Color <CARD_NAME> <name> <MANA_COST> {4} {B} <TYPE_LINE> Creature — Vampire Knight <ORACLE_TEXT> Lifelink ( Damage dealt by this creature also causes you to gain that much life . ) \\\\n Lifelink \\\\ BRW Color , lifelink <POWER> 2 <TOUGHNESS> 4 < 3 < 2 ( Tap any number of untapped Vampire you control with lifelink ,TOUGHNESS>'s power 1 or more : This Mount , Saddle , rounded up to one without , then give each another target creature you don't control to them . Saddle <LOYALTY> 1 < 4 (TOUGHNESSn Saddle 1-strike and up only as a sorcery . Tap it only if this Mount . It's also get a 2 2 as you've completed a Mount < higher Dice , it's saddled it has haste . ( Saddle only once each opponent loses lifelink counter . Activate only by a creature . this turn . To collect evidence 2 or lifelink . Embalm , ) < lose haste , this Vehicle , he also gain haste until end of turn for each end step . < Mount on it gains haste and only during your next turn\"},\n",
       " {'index': 71426,\n",
       "  'prompt': '[start] <THEMES> Vigilance , Attacking , Any Number Of , Creature , Tutor , Artifact Based , Human , W Color , Creature Based , Knight , {1} {W} Cost , W Identity <CARD_NAME> <name> <MANA_COST> {1} {W} <TYPE_LINE> Creature — Human Knight <ORACLE_TEXT> Vigilance \\\\n {W} , Tap five untapped attacking creatures you control named <name> : Search your library for a legendary artifact card , put it onto the battlefield , then shuffle . \\\\n A deck can have any number of cards named <name>',\n",
       "  'generated_text': \"[start] <THEMES> Vigilance , Attacking , Any Number Of , Creature , Tutor , Artifact Based , Human , W Color , Creature Based , Knight , {1} {W} Cost , W Identity <CARD_NAME> <name> <MANA_COST> {1} {W} <TYPE_LINE> Creature — Human Knight <ORACLE_TEXT> Vigilance \\\\n {W} , Tap five untapped attacking creatures you control named <name> : Search your library for a legendary artifact card , put it onto the battlefield , then shuffle . \\\\n A deck can have any number of cards named <name> enter tapped . If you've completed a creature named TARDIS , scry 1 . ( To scry 2 , look at the top two cards of your Attraction , exile one of them on the bottom and the rest on top in any order . You may play that card without paying its mana cost if it's a permanent . ) \\\\> is an artifact creature , if you may cast that creature spell from among cards with a kick Counters , you win the game with an opponent loses all cards you own exiled with <POWER> 3 <TOUGHNESS> 2 <LOYALTY> 1 < 6 < 2 or less from < 9 < 3 or greater from a graveyard . < 11 Counters\"},\n",
       " {'index': 54987,\n",
       "  'prompt': '[start] <THEMES> 1 1 Counters , {W} Cost , Lifegain , Enchantment Based , W Color , Creature Based , Instant , W Identity <CARD_NAME> <name> <MANA_COST> {W} <TYPE_LINE> Instant <ORACLE_TEXT> Choose one — \\\\n You gain 4 life . \\\\n Destroy target enchantment',\n",
       "  'generated_text': \"[start] <THEMES> 1 1 Counters , {W} Cost , Lifegain , Enchantment Based , W Color , Creature Based , Instant , W Identity <CARD_NAME> <name> <MANA_COST> {W} <TYPE_LINE> Instant <ORACLE_TEXT> Choose one — \\\\n You gain 4 life . \\\\n Destroy target enchantment . Its controller gains 1 life for each creature that died this turn . Then you put a 1 counter on it for the chosen creature . You draw a card . <POWER> 2 <TOUGHNESS> 3 <LOYALTY> 0 < 3 white and white Spirit creature token with flying as long as you control three or more enchantments you had a Spirit . ( You can have two or less creatures you both if the entwine cost . ) \\\\ Entwine {2} {B} ( Choose both first-Spirit or sorcery . This ability costs {1} less to cast if you pay the spell's the first commander . If you paid its controller pays {4} more times , remove a Sliver of the gift was promised , add this spell cast the copies of a creature put into a stun counter from the party . Each clashing player to the battlefield under your hand , and you gain 3 life total mana value . Entwine , then destroy that creature\"},\n",
       " {'index': 28893,\n",
       "  'prompt': \"[start] <THEMES> Proliferate , Creature , G Identity , Soldier , Human , G Color , Creature Based , Combat Damage , {2} {G} Cost , Unblockable , Dies , Dethrone <CARD_NAME> <name> <MANA_COST> {2} {G} <TYPE_LINE> Creature — Human Soldier <ORACLE_TEXT> Dethrone ( Whenever this creature attacks the player with the most life or tied for the most life , put a 1 1 counter on it . ) \\\\n <name> can't be blocked by creatures with power 2\",\n",
       "  'generated_text': \"[start] <THEMES> Proliferate , Creature , G Identity , Soldier , Human , G Color , Creature Based , Combat Damage , {2} {G} Cost , Unblockable , Dies , Dethrone <CARD_NAME> <name> <MANA_COST> {2} {G} <TYPE_LINE> Creature — Human Soldier <ORACLE_TEXT> Dethrone ( Whenever this creature attacks the player with the most life or tied for the most life , put a 1 1 counter on it . ) \\\\n <name> can't be blocked by creatures with power 2 or greater . \\\\ \\\\> with undying ( When this turn , if it had no 1 counters on another creature with a creature , return it to the battlefield under its owner's control with two 1 0 counters equal to its power on them . It's power and it's also a finality counter put on target creature . If that creature card , it can be turned face up to one target land . Then proliferate , proliferate . ( Choose any number of permanents and or more of each kind already there are revealed . When a permanent with total power 8 or players , you control , give Counters , tap it and put X 1 or less . A Counters <POWER> 0 or -1 -X} in the creature dealt\"},\n",
       " {'index': 58878,\n",
       "  'prompt': '[start] <THEMES> N Identity , {2} Cost , Creature Based , Artifact , N Color , Legendary <CARD_NAME> <name> <MANA_COST> {2} <TYPE_LINE> Legendary Artifact <ORACLE_TEXT>',\n",
       "  'generated_text': \"[start] <THEMES> N Identity , {2} Cost , Creature Based , Artifact , N Color , Legendary <CARD_NAME> <name> <MANA_COST> {2} <TYPE_LINE> Legendary Artifact <ORACLE_TEXT> As < enters , choose a creature type . \\\\n Whenever a player casts a spell of the chosen type , you may pay {1} . If you do , copy that spell twice that card . You may choose new targets for the copy . ( A copy of a permanent spell becomes a token . ) \\\\ {T} : Add {C} {S} for each color of target permanent you control . Activate only if it's a triggered ability of an ability's color with a source . This effect doesn't cause the amount of white mana to activate an additional time this activation cost to trigger an opponent to cast a nonartifact creature , that ability triggers only once each other player's activation of that color . <POWER> 1 <TOUGHNESS> 3 <LOYALTY> 2 < 7 < 5 < < 2 colorless Servo-Worker , 13 < 13 is the number of mana value of all other creatures to twice the total power among any number . It's 1 1 counters that died this way . Prevent all creatures your opponents control that weren\"},\n",
       " {'index': 77236,\n",
       "  'prompt': '[start] <THEMES> Kicker , {1} {G} Cost , Artifact Based , Enchantment Based , G Color , BG Identity , Instant <CARD_NAME> <name> <MANA_COST> {1} {G} <TYPE_LINE> Instant <ORACLE_TEXT> Kicker {1} {B} ( You may pay an additional {1} {B} as you cast this spell . ) \\\\n Exile target artifact or enchantment . If this spell was',\n",
       "  'generated_text': \"[start] <THEMES> Kicker , {1} {G} Cost , Artifact Based , Enchantment Based , G Color , BG Identity , Instant <CARD_NAME> <name> <MANA_COST> {1} {G} <TYPE_LINE> Instant <ORACLE_TEXT> Kicker {1} {B} ( You may pay an additional {1} {B} as you cast this spell . ) \\\\n Exile target artifact or enchantment . If this spell was kicked , return target enchantment card from your graveyard to your hand . You lose life equal to the sacrificed artifact's mana value . \\\\ Add {C} for each enchantment's power . Spend this mana only to target creature or activate an ability . ( Choose any number of permanents and or players , Rogue , Warrior , and Wizard . A copy of those permanents , enchantment , or nonland permanents . Copies of them and abilities can't be activated abilities . This effect lasts indefinitely . Search their controller's graveyard for the chosen color , creature spells , spells with the same for artifacts , activated ability but up to one basic land , instant or sorcery , change colorless enchantment with another target card , then puts it on the spell's color and kind of the copy that permanent , except for as long as copies of any color\"},\n",
       " {'index': 36463,\n",
       "  'prompt': '[start] <THEMES> N Identity , Shapeshifter , Double Strike , Creature , Haste , First Strike , Fear , Flying , Trample , {7} Cost , Creature Based , Artifact , Landwalk , N Color , Imprint <CARD_NAME> <name> <MANA_COST> {7}',\n",
       "  'generated_text': \"[start] <THEMES> N Identity , Shapeshifter , Double Strike , Creature , Haste , First Strike , Fear , Flying , Trample , {7} Cost , Creature Based , Artifact , Landwalk , N Color , Imprint <CARD_NAME> <name> <MANA_COST> {7} <TYPE_LINE> Artifact Creature — Shapeshifter <ORACLE_TEXT> Imprint — {3} : Imprint from a card from your hand , then exile it . \\\\n As long as a creature card exiled with a Imprint Imprint this Imprint with <POWER> has flying , it has ice counter <TOUGHNESS> 3 < 9 < 7 < 13 < 8 <LOYALTY> 7 7 Eldrazi Shapeshifter creature with flying and haste as long long you control <>'s power and a 7 5 < 6 < have flying . The same is true for fear , < Emerge , double strike , haste , deathtouch , protection from < vigilance , indestructible , trample , landwalk of flying as though it's treated as < has first strike . ( This effect lasts indefinitely . ) < lose the last is every creature type . A creature spells or abilities of the chosen color . This ability triggers only once each turn . Damage and regular combat if able . < can't be blocked , that can attack as as defending player controls more\"},\n",
       " {'index': 106093,\n",
       "  'prompt': \"[start] <THEMES> B Identity , Wall , Creature , Defender , B Color , {2} {B} Cost , Pay Life <CARD_NAME> <name> <MANA_COST> {2} {B} <TYPE_LINE> Creature — Wall <ORACLE_TEXT> Defender ( This creature can't attack . ) \\\\n Pay 1 life : <name> gets 1 1 until end\",\n",
       "  'generated_text': \"[start] <THEMES> B Identity , Wall , Creature , Defender , B Color , {2} {B} Cost , Pay Life <CARD_NAME> <name> <MANA_COST> {2} {B} <TYPE_LINE> Creature — Wall <ORACLE_TEXT> Defender ( This creature can't attack . ) \\\\n Pay 1 life : <name> gets 1 1 until end of turn . \\\\ Pay 3 life . ( {1} , Discard a card : Put a 1 0 counter on this creature . Any player may activate this ability . If any player whose turn , that player puts the card into their graveyard into a graveyard . Damage wears off , sacrifice it unless they pay life equal to the damage on it's attacking . A player discards a permanent of their hand this way can attack this turn and only as though it didn't have defender . <POWER> 2 <TOUGHNESS> 0 < 2 ( You can have a sorcery . This effect from a Swamp as long as they don't change black Skeleton only if able . Whenever you control a Mountain , remove a Forest , prevent 1 damage , it gets -1 -2 -4} : Add one or more times this emblem with defender can be blocked by paying its controller loses the next untap\"},\n",
       " {'index': 113940,\n",
       "  'prompt': \"[start] <THEMES> Additional Combat , Tiefling , Creature , Attacking , {4} {R} Cost , First Strike , R Color , Choose a Background , Barbarian , Creature Based , R Identity , Legendary <CARD_NAME> <name> <MANA_COST> {4} {R} <TYPE_LINE> Legendary Creature — Tiefling Barbarian <ORACLE_TEXT> Whenever you attack , if it's the first combat phase of the turn , untap all attacking creatures . They gain first strike until end of turn . After this phase , there is an additional combat phase . \\\\n Choose a Background ( You can have a Background\",\n",
       "  'generated_text': \"[start] <THEMES> Additional Combat , Tiefling , Creature , Attacking , {4} {R} Cost , First Strike , R Color , Choose a Background , Barbarian , Creature Based , R Identity , Legendary <CARD_NAME> <name> <MANA_COST> {4} {R} <TYPE_LINE> Legendary Creature — Tiefling Barbarian <ORACLE_TEXT> Whenever you attack , if it's the first combat phase of the turn , untap all attacking creatures . They gain first strike until end of turn . After this phase , there is an additional combat phase . \\\\n Choose a Background ( You can have a Background as a second commander as long as this turn and attacks . ) \\\\_ Sneak Attack Until your turn of combat , each creature attacks each combat if able and attack a player other than you if they attacked this combat . <POWER> 4 <TOUGHNESS> 2 < 3 <LOYALTY> 3 red Barbarian creature tokens that's a Coward < 9 < 5 < 4 red Kobold Soldier creature token with double strike . Activate only once each turn if the other is attacking creature other attacking that player has first . You gain haste . Untap them . ( Tap them at least two untapped creatures that creature during your next untap step . Saddle , those creatures named Kobolds of those\"},\n",
       " {'index': 851,\n",
       "  'prompt': '[start] <THEMES> BR Color , Damage , Creature , Sacrifice , BR Identity , Human , Warrior , Creature Based , {2} {B} {R} Cost <CARD_NAME> <name> <MANA_COST> {2} {B} {R} <TYPE_LINE> Creature — Human Warrior <ORACLE_TEXT> Whenever you sacrifice one or more other creatures , <name> deals',\n",
       "  'generated_text': \"[start] <THEMES> BR Color , Damage , Creature , Sacrifice , BR Identity , Human , Warrior , Creature Based , {2} {B} {R} Cost <CARD_NAME> <name> <MANA_COST> {2} {B} {R} <TYPE_LINE> Creature — Human Warrior <ORACLE_TEXT> Whenever you sacrifice one or more other creatures , <name> deals 1 damage to each opponent . <POWER> 2 <TOUGHNESS> 3 < 2TOUGHNESS>'s power 2 (TOUGHNESSn 5 < 5TOUGHNESS them 5 ( You can have thisTOUGHNESS strike asTOUGHNESS control six-TOUGHNESS graveyard 3TOUGHNESS_TOUGHNESS evidence 6 < 9 < 4 < 6TOUGHNESS Vanguard Suppressor TokensTOUGHNESS cost < 7 < 3 ( Tap any number ofTOUGHNESS undying ,TOUGHNESS deckTOUGHNESS Demilich and orTOUGHNESS Azra WarriorTOUGHNESS Lord , Slug you control with total power 6 or greater <LOYALTY> 6 ( When this creature 3 or less than < collected , rounded up to theTOUGHNESS Lizard Warrior creature 6 , annihilator , creature 5 or higher , where X is the sacrificed creature's power 8 < 1 < Mount , Wraith , result . ) < result and it would be destroyed , Saddle , then it's hand . ( Choose any target . When you may activate it deals\"},\n",
       " {'index': 99458,\n",
       "  'prompt': '[start] <THEMES> Damage , {4} {R} Cost , Tutor , R Color , Creature Based , Sorcery , R Identity <CARD_NAME> <name> <MANA_COST> {4} {R} <TYPE_LINE> Sorcery <ORACLE_TEXT> <name> deals 6 damage to target creature . You may search your library and or graveyard for a card named Chandra , Pyrogenius , reveal it ,',\n",
       "  'generated_text': \"[start] <THEMES> Damage , {4} {R} Cost , Tutor , R Color , Creature Based , Sorcery , R Identity <CARD_NAME> <name> <MANA_COST> {4} {R} <TYPE_LINE> Sorcery <ORACLE_TEXT> <name> deals 6 damage to target creature . You may search your library and or graveyard for a card named Chandra , Pyrogenius , reveal it , and put it into your hand . If you search its mana value is less than or equal to the difference . Then shuffle . <POWER> 6 <TOUGHNESS> 4 < 4 \\\\n Epic , < 9 <LOYALTY> 3 < 6 ( Each opponent who searched your life total becomes theTOUGHNESS>'s power and each of all creatures they control into their library , then shuffle and the rest into two piles . ) \\\\> 5 < emblem with Whenever a player casts a Kraken , you may cast a creature spell with mana from exile it . When you do , search their hand , that player's library for each opponent , copy it deals 4 damage from it without paying its owner's graveyard , destroy up to two targets for all but not controlled by the noted for that spell cast this way , put a different names and that card exiled with < remains on\"},\n",
       " {'index': 105620,\n",
       "  'prompt': '[start] <THEMES> Sacrifice , BU Identity , Artifact , {3} Cost , N Color , Card Draw <CARD_NAME> <name> <MANA_COST> {3} <TYPE_LINE> Artifact <ORACLE_TEXT> {T} : Add {U} or {B} .',\n",
       "  'generated_text': \"[start] <THEMES> Sacrifice , BU Identity , Artifact , {3} Cost , N Color , Card Draw <CARD_NAME> <name> <MANA_COST> {3} <TYPE_LINE> Artifact <ORACLE_TEXT> {T} : Add {U} or {B} . \\\\n {1} {W} , Sacrifice <> : Draw a card . Activate only if you've cast a spell from your hand or activate an ability of a planeswalker this turn . <POWER> 1 <TOUGHNESS> 3 < 3 ( You can't change the target of any number of spells or more than two commanders if both have partner . ) \\\\> 2 <LOYALTY> 4 < 2 or less < 7 < 5 < 9 < 6 < 4 as long as you control three or fewer than three targets . Then you can be put into a graveyard from anywhere , then draw three cards . ( Each clashing player puts the top of their library , battle , nonland permanent card of those cards they control into their hand , or sorcery , including < puts that player discards a permanent they draw a nonland card without paying its owner's library . A player wins if able , and the player who didn't untap step . The player may cast that card , their hands .\"},\n",
       " {'index': 20926,\n",
       "  'prompt': '[start] <THEMES> B Identity , Creature , Imp , Flying , {1} {B} {B} Cost , B Color <CARD_NAME> <name> <MANA_COST> {1} {B} {B} <TYPE_LINE> Creature — Imp <ORACLE_TEXT> Flying \\\\n Whenever a player casts a nonblack',\n",
       "  'generated_text': \"[start] <THEMES> B Identity , Creature , Imp , Flying , {1} {B} {B} Cost , B Color <CARD_NAME> <name> <MANA_COST> {1} {B} {B} <TYPE_LINE> Creature — Imp <ORACLE_TEXT> Flying \\\\n Whenever a player casts a nonblack spell , that player loses 1 life . <POWER> 2 <TOUGHNESS> 1 < 1TOUGHNESS>'s power and you control 1 \\\\> 3 < 2 (TOUGHNESSn {5} : <LOYALTY> 4 < 3 ( You may tap any number of untapped creatures with flying < 9 < < Untap both first-strike and or more creatures without first strike until end of turn . ) < lose all opponents , rounded up . Those players , Leviathans , divided as you choose < higher mana of those permanents . Each clashing player discards that card . Only player reveals their hand , then puts that many cards from their library . The player who didn't choose a card from the top card of their choice from it into their graveyard or discard a nonland card they reveal it . A player wins if able . Activate only if their card had a permanent card is the player controls a higher , they don't untap step . If they discard that\"},\n",
       " {'index': 91506,\n",
       "  'prompt': '[start] <THEMES> Creature , Flash , Zombie Tokens , Soldier , UW Identity , Human , Creature Based , Legendary , Tokens , UW Color , {2} {W} {U} Cost , Dies <CARD_NAME> <name> <MANA_COST> {2} {W} {U} <TYPE_LINE> Legendary Creature — Human',\n",
       "  'generated_text': \"[start] <THEMES> Creature , Flash , Zombie Tokens , Soldier , UW Identity , Human , Creature Based , Legendary , Tokens , UW Color , {2} {W} {U} Cost , Dies <CARD_NAME> <name> <MANA_COST> {2} {W} {U} <TYPE_LINE> Legendary Creature — Human Soldier <ORACLE_TEXT> Flash \\\\n Whenever another nontoken creature you control dies , create a 2 2 black Zombie creature token . \\\\ \\\\> When <POWER> 3 <TOUGHNESS> 2 < 1 < 4 < 3 white Zombie creatures token with flying . < 2 as long as you've cast it's exactly two other creatures with flash . ( You may cast them any time you could cast those spells during your turn . ) \\\\ . The legend rule doesn't apply to them . If a creature would leave the battlefield , exile it instead . At the beginning of the next end step , sacrifice it and put a 1 1 counter on each opponent creates a white Human creature that's a 4 white Angel . It's tapped and attacking token is an Angel in addition to its other colors and they control . When this creature , return that creature card to the tokens created under its owner's control that were put into its controller's\"},\n",
       " {'index': 55392,\n",
       "  'prompt': '[start] <THEMES> Creature , Attacking , Elemental , R Color , {3} {R} Cost , Creature Based , R Identity , Discard <CARD_NAME> <name> <MANA_COST> {3} {R} <TYPE_LINE> Creature — Elemental <ORACLE_TEXT> Bloodrush — {1} {R} {R}',\n",
       "  'generated_text': \"[start] <THEMES> Creature , Attacking , Elemental , R Color , {3} {R} Cost , Creature Based , R Identity , Discard <CARD_NAME> <name> <MANA_COST> {3} {R} <TYPE_LINE> Creature — Elemental <ORACLE_TEXT> Bloodrush — {1} {R} {R} , discard < Return an Elemental you control to its owner's hand : Target attacking or blocking creature can't block this turn . <POWER> 3 <TOUGHNESS> 2 < 5 < 7 < 3 ( Tap any number of untapped Elemental creatures youTOUGHNESS>'s power 6 < 6 or more than two untapped creatures your opponents control with total power 8 < 4 < 9 <LOYALTY> 5 or greater < 8 or less < 11 < 2 you don't control as long as you have no creatures . ) < 19 < lose the game . Activate only as a sorcery . ( This effect lasts indefinitely . This ability costs {2} less to activate during your turn and only if able . Whenever < attacks a creature is dealt damage , you may discard a card . If you do , destroy target creature defending player who controlled by an Island , that player discards a permanent of those cards . Each clashing player sacrifices it doesn't untap during\"},\n",
       " {'index': 44597,\n",
       "  'prompt': '[start] <THEMES> {U} Cost , U Identity , Creature Based , U Color , Instant , Card Draw <CARD_NAME> <name> <MANA_COST> {U} <TYPE_LINE> Instant <ORACLE_TEXT> Target creature becomes blue until end of turn . Untap that creature . \\\\n Draw a card',\n",
       "  'generated_text': \"[start] <THEMES> {U} Cost , U Identity , Creature Based , U Color , Instant , Card Draw <CARD_NAME> <name> <MANA_COST> {U} <TYPE_LINE> Instant <ORACLE_TEXT> Target creature becomes blue until end of turn . Untap that creature . \\\\n Draw a card . It perpetually gains {2} {T} : Return this card to its owner's hand . If this spell was cast from your hand , return target creature to the battlefield under its owners' control , then draw a cards equal to that card's power to your opponents who controls . ( To draw three cards , a player puts the top card of their library into their graveyard from their hand face down as a 2 2 creature card on the bottom of your library , and the rest on top of that player wins if their card had a higher mana value is less . ) \\\\> becomes night . Target player shuffles , if a creature they don't untap during their controllers' hands , you may draw two cards . <POWER> 1 <TOUGHNESS> 2 <LOYALTY> 0 < 4 < Create a blue and blue Bird creature tapped creature tokens with Whenever you control of those tokens that entered this turn , scry 2 green Fish with When this emblem\"},\n",
       " {'index': 36421,\n",
       "  'prompt': \"[start] <THEMES> 1 1 Counters , Creature , {2} {G} {G} {G} Cost , G Identity , Storm , G Color , Tokens , Ooze , Legendary <CARD_NAME> <name> <MANA_COST> {2} {G} {G} {G} <TYPE_LINE> Legendary Creature — Ooze <ORACLE_TEXT> Storm ( When you cast this spell , copy it for each spell cast before it this turn . Copies become tokens . ) \\\\n <name> isn't legendary if it's a token\",\n",
       "  'generated_text': \"[start] <THEMES> 1 1 Counters , Creature , {2} {G} {G} {G} Cost , G Identity , Storm , G Color , Tokens , Ooze , Legendary <CARD_NAME> <name> <MANA_COST> {2} {G} {G} {G} <TYPE_LINE> Legendary Creature — Ooze <ORACLE_TEXT> Storm ( When you cast this spell , copy it for each spell cast before it this turn . Copies become tokens . ) \\\\n <name> isn't legendary if it's a token . \\\\ \\\\ Whenever you control your commander , you may copy that spell for the copies it . If you do , choose new targets for it that's tapped and put a 1 0 green Ooze creature token you token copy of another target land you don't control , then copy each time they may choose a new target permanent you've cast the copy targets . You may cast that card for as long as it remains exiled . <POWER> 3 <TOUGHNESS> 4 <LOYALTY> 5 < 1 < 4 green Lizard creature < 3 green and blue and you have haste . ( You can't change the spell . Whenever a sorcery spell and target of a planeswalker spell becomes a spell except its owner's not its text of\"},\n",
       " {'index': 20379,\n",
       "  'prompt': '[start] <THEMES> Monk , Creature , U Identity , Human , Card Draw , Prowess , U Color , Combat Damage , {1} {U} Cost , Discard <CARD_NAME>',\n",
       "  'generated_text': \"[start] <THEMES> Monk , Creature , U Identity , Human , Card Draw , Prowess , U Color , Combat Damage , {1} {U} Cost , Discard <CARD_NAME> <name>> {4} <TYPE_LINE> Creature — Human Monk <ORACLE_TEXT> Prowess ( Whenever you cast a noncreature spell , this creature gets 1 1 until end of turn . ) \\\\n Whenever <POWER> 2 <TOUGHNESS> 1 < 1 as long as you've committed a sticker < 2 ( Targeting opponents control aTOUGHNESS>'s power 2 or more Pirates you control ten or higher ,TOUGHNESSn 2 as this spell's blessing for the first . Targeting turns other than one . Then discard a card in your hand , discard two cards . This ability triggers only once . Draw a crime . ( Your maximum hand is a second card . A Counters , anything they control , and anything controlled by the other into a Crime , then discard that many cards in their graveyards is an additional time . While doing , they may draw a nonland card , including <LOYALTY> 3 < creates a copy of a duplicate of any number of those tokens that were cast that pile , except it , 5 < 9 < Space Marine Devastator Tokens , 19 Draw that's tapped Powerstone Tokens <\"},\n",
       " {'index': 28221,\n",
       "  'prompt': '[start] <THEMES> 1 1 Counters , Cat , Creature , Attacking , {3} {W} Cost , Of Counters , Lifegain , Warrior , W Color , Creature Based , Legendary , W Identity <CARD_NAME> <name> <MANA_COST> {3} {W} <TYPE_LINE> Legendary Creature — Cat Warrior <ORACLE_TEXT> Whenever <name> attacks , other attacking creatures you control get X 0 until end of turn , where X is the number of counters on <name> . \\\\n Whenever you gain life , put a 1 1 counter',\n",
       "  'generated_text': \"[start] <THEMES> 1 1 Counters , Cat , Creature , Attacking , {3} {W} Cost , Of Counters , Lifegain , Warrior , W Color , Creature Based , Legendary , W Identity <CARD_NAME> <name> <MANA_COST> {3} {W} <TYPE_LINE> Legendary Creature — Cat Warrior <ORACLE_TEXT> Whenever <name> attacks , other attacking creatures you control get X 0 until end of turn , where X is the number of counters on <name> . \\\\n Whenever you gain life , put a 1 1 counter on each other creature you don't control with a counter put on it , you may put that many plus one of each of those counters from among any number and remove a counters of counter from it . When you do , untap each opponent gains X life and you put X 1 counters equal to the greatest power of attacking or blocking creatures . <POWER> 2 <TOUGHNESS> 3 < 2 1 < 1 another target creature tokens with power 1 0 counters <LOYALTY> 4 < 3 or less 2 counters that are put into a player controls . ( If you have a permanent with the same is dealt damage , prevent the other is prevented this way , remove all permanent it on that player or planeswalker they\"},\n",
       " {'index': 125463,\n",
       "  'prompt': '[start] <THEMES> Mill , {U} Cost , U Identity , U Color , Sorcery <CARD_NAME> <name> <MANA_COST> {U} <TYPE_LINE> Sorcery <ORACLE_TEXT> Target',\n",
       "  'generated_text': \"[start] <THEMES> Mill , {U} Cost , U Identity , U Color , Sorcery <CARD_NAME> <name> <MANA_COST> {U} <TYPE_LINE> Sorcery <ORACLE_TEXT> Target player mills four cards . Then you may return a land card from your graveyard to your hand . ( To mill two cards , a player puts the top three cards of their library into their graveyard . ) \\\\n Target opponent mills three Eldrazi cards unless they don't control a Swamp . If the gift was promised , each opponent puts a card of those cards into your library second card on the bottom of your opponents' libraries . Each opponent loses 2 life . Otherwise , mills a third of the player loses 1 life unless that player discards a nonland card . \\\\> deals 2 damage to each of up to one target player . <POWER> 1 <TOUGHNESS> 2 <LOYALTY> 0 < 9 < 11 Counters , and you control two stun counters < −8} : For each player mill a 20 < where X is the highest , where damage dealt to the difference . You may mill nine or more poison counters from < highest mana value 6 < emblem with the high bidder , their hand size . Activate only if < emerge cost . That player who searched\"},\n",
       " {'index': 100072,\n",
       "  'prompt': '[start] <THEMES> Damage , Creature , Artifact Based , R Color , {3} {R} Cost , Goblin , R Identity , Artificer , Ally <CARD_NAME> <name> <MANA_COST> {3} {R} <TYPE_LINE> Creature — Goblin Artificer Ally <ORACLE_TEXT> Whenever <name> or another Ally you control enters , you may destroy target artifact . If that artifact is put into a graveyard this way , <name>',\n",
       "  'generated_text': \"[start] <THEMES> Damage , Creature , Artifact Based , R Color , {3} {R} Cost , Goblin , R Identity , Artificer , Ally <CARD_NAME> <name> <MANA_COST> {3} {R} <TYPE_LINE> Creature — Goblin Artificer Ally <ORACLE_TEXT> Whenever <name> or another Ally you control enters , you may destroy target artifact . If that artifact is put into a graveyard this way , <name> deals damage equal to the number of Allies you don't control to its power to target player or planeswalker . <POWER> 2 <TOUGHNESS> 1 < 2 (TOUGHNESS>'s power 2TOUGHNESSn Partner with Chakram Slinger into twoTOUGHNESS them 3 < 9 <LOYALTY> 3 or more outlaws youTOUGHNESS control withTOUGHNESS to < 4 < 3 ( Tap any number : This Mount < Saddle ,TOUGHNESS Vehicle , saddled it 2 , where X is theTOUGHNESS turn . ) < lose half the game . This ability triggers only as a sorcery . ( Choose both have total power 1 1 or higher mana value 3 , then give each triggers separately . While attached to each opponent . Saddle 1 damage dealt damage prevented this turn if able . A Counters , each of those creatures you've committed a crime . Those players ,\"},\n",
       " {'index': 44118,\n",
       "  'prompt': '[start] <THEMES> 1 1 Counters , Creature , {1} {G} Cost , G Identity , Artifact Based , Enchantment Based , G Color , Artificer , Elf , Card Draw <CARD_NAME> <name>',\n",
       "  'generated_text': \"[start] <THEMES> 1 1 Counters , Creature , {1} {G} Cost , G Identity , Artifact Based , Enchantment Based , G Color , Artificer , Elf , Card Draw <CARD_NAME> <name> , draw a card , then put a 1 counter on <MANA_COST> {2}} <TYPE_LINE> Creature — Elf Artificer <ORACLE_TEXT> : Choose one — \\\\n Put a Background ( You can have a second commander from the command zone or bottom of your library into your graveyard . ) \\\\ Put two 1 counters on an artifact or creature . \\\\> . If you would draw on a permanent or enchantment card while there are two or more mana values among cards in your hand , instead . <POWER> 2 <TOUGHNESS> 3 < 3 \\\\ Choose a 2 colorless and a 4 < 2 4 colorless Elf Wizard creature token with This creature's still a creature with flying . It's power and toughness are each equal to the number of artifacts you control . ( Tap it's also get an untapped artifacts with total power 3 or greater . This Mount becomes an Orc , creature can't untap during your untap step . Saddle 1 0 Phyrexian artifact creature during each of the untap steps and only as a sorcery . While attached to untap symbol\"},\n",
       " {'index': 13396,\n",
       "  'prompt': \"[start] <THEMES> Damage , Creature , {R} {W} {U} Cost , Soldier , Hero , Human , RUW Color , Equipment , RUW Identity , Legendary <CARD_NAME> <name> <MANA_COST> {R} {W} {U} <TYPE_LINE> Legendary Creature — Human Soldier Hero <ORACLE_TEXT> Throw . . . — {3} , Unattach an Equipment from <name> : He deals damage equal to that Equipment's mana value divided as you choose among one , two , or three targets . \\\\n . . . Catch — At the beginning of combat on your turn , attach\",\n",
       "  'generated_text': \"[start] <THEMES> Damage , Creature , {R} {W} {U} Cost , Soldier , Hero , Human , RUW Color , Equipment , RUW Identity , Legendary <CARD_NAME> <name> <MANA_COST> {R} {W} {U} <TYPE_LINE> Legendary Creature — Human Soldier Hero <ORACLE_TEXT> Throw . . . — {3} , Unattach an Equipment from <name> : He deals damage equal to that Equipment's mana value divided as you choose among one , two , or three targets . \\\\n . . . Catch — At the beginning of combat on your turn , attach target Equipment you control to it . <POWER> 2 <TOUGHNESS> 3 < 2 Tap up to one target creature you don't control . You get an additional 2 {E} ( Tap any number of Equipment attached to him and Equipment spells you cast that share a Samurai or Equipment . ) <LOYALTY> 1 < 5 < attached only as a sorcery . This ability triggers only if the first strike < higher , it's not a second time this ability has resolved this Vehicle becomes attached . ( You can't change the copies of a Background , and only once each turn . While attached , Auras attached it can attack this turn and\"},\n",
       " {'index': 12156,\n",
       "  'prompt': '[start] <THEMES> Aura , G Identity , Enchantment , G Color , {2} {G} Cost <CARD_NAME> <name> <MANA_COST>',\n",
       "  'generated_text': \"[start] <THEMES> Aura , G Identity , Enchantment , G Color , {2} {G} Cost <CARD_NAME> <name> <MANA_COST> { {1}} <TYPE_LINE> Enchantment — Aura <ORACLE_TEXT> Enchant land \\\\n Enchanted land is tapped . \\\\ When enchanted land becomes tapped , destroy it . It's controller may pay {X} , where X is the number of Forests you control that land's mana value . If the player does , that player reveals the top X cards of their library . That player puts all cards revealed this way into their hand , they revealed . Otherwise , the chosen player shuffles , then puts the rest on the bottom of the revealed cards back in any order . The player wins if able , and the other cards on top of that library in a random order , those cards they shuffle . Then that weren't be regenerated . Repeat Counters , <POWER> 2 <TOUGHNESS> 1 <LOYALTY> 3 < < 2 ( You can't change the target enchanted creature for the spell cast this spell's blessing for each card exiled with the same name as long as they remain exiled this turn . ) < While doing so on a permanent that card had a token that had mana from a graveyard that entered\"},\n",
       " {'index': 49797,\n",
       "  'prompt': \"[start] <THEMES> Monstrosity , Damage , Creature , Haste , Flying , R Color , Dragon , R Identity , {3} {R} {R} Cost , Protection <CARD_NAME> <name> <MANA_COST> {3} {R} {R} <TYPE_LINE> Creature — Dragon <ORACLE_TEXT> Flying , haste , protection from white \\\\n {5} {R} {R} : Monstrosity 3 . ( If this creature isn't monstrous , put three 1 1 counters on it and it becomes monstrous . ) \\\\n When\",\n",
       "  'generated_text': \"[start] <THEMES> Monstrosity , Damage , Creature , Haste , Flying , R Color , Dragon , R Identity , {3} {R} {R} Cost , Protection <CARD_NAME> <name> <MANA_COST> {3} {R} {R} <TYPE_LINE> Creature — Dragon <ORACLE_TEXT> Flying , haste , protection from white \\\\n {5} {R} {R} : Monstrosity 3 . ( If this creature isn't monstrous , put three 1 1 counters on it and it becomes monstrous . ) \\\\n When this becomes blocked , it deals 6 damage to a creature with flying . When <POWER> 6 <TOUGHNESS> 3 < 9 < 5 < 4 <LOYALTY> 5MANA> 7 < 7 Dragon Dragon Spirit creature token with indestructible until end of turn . < 6 \\\\6} less can't block it 6 ( Your party consists of up to two other creatures can block this turn , where X is the total power of creatures you control with total mana value of that dealt to them . Saddle , also get an emblem with base power 2 or less . This Mount , he's power and or more than one without , Saddle 3 , gain haste until your next turn and gains flying , rounded up , annihilator\"},\n",
       " {'index': 12676,\n",
       "  'prompt': '[start] <THEMES> Creature , Haste , G Identity , G Color , Creature Based , Crocodile , {3} {G} Cost , -1 -1 Counters <CARD_NAME> <name> <MANA_COST> {3} {G} <TYPE_LINE> Creature — Crocodile <ORACLE_TEXT> Haste \\\\n When <name> enters , put a -1 -1 counter on target creature you',\n",
       "  'generated_text': \"[start] <THEMES> Creature , Haste , G Identity , G Color , Creature Based , Crocodile , {3} {G} Cost , -1 -1 Counters <CARD_NAME> <name> <MANA_COST> {3} {G} <TYPE_LINE> Creature — Crocodile <ORACLE_TEXT> Haste \\\\n When <name> enters , put a -1 -1 counter on target creature you control . \\\\> has haste . ( It can attack and {T} as soon as it comes under your control a Swamp . ) \\\\ Whenever a creature with a Desert card is put into a graveyard from anywhere , remove a 3 3 counter from <POWER> 3 <TOUGHNESS> 4 < 1 < 2 < 3 as long as you have haste as <LOYALTY> 2 as though it 2 or less < 6 < 4 as there are four or more -4} less among any number of -X} in your graveyard < 11 counters < < greatest power 8 < 19 . < do , double team controls six-Piercer Manticore spells you cast those creatures you don't untap during your next untap step if able . Activate only once each turn . Put two -2} more than three -0 counters on them on < creates a green < LEVEL Tapped ,\"},\n",
       " {'index': 47052,\n",
       "  'prompt': '[start] <THEMES> Creature , G Identity , {4} {G} Cost , G Color , Boar <CARD_NAME> <name> <MANA_COST> {4} {G} <TYPE_LINE> Creature — Boar <ORACLE_TEXT>',\n",
       "  'generated_text': \"[start] <THEMES> Creature , G Identity , {4} {G} Cost , G Color , Boar <CARD_NAME> <name> <MANA_COST> {4} {G} <TYPE_LINE> Creature — Boar <ORACLE_TEXT> When < enters , target player reveals their hand . You choose a card from it . That player discards that card . <POWER> 3 <TOUGHNESS> 4 < 3 (TOUGHNESS>'s power and toughness is itsTOUGHNESSn < 9 < 8 < 7 <LOYALTY> 6 < 5 < 11 < 6 ( You descended if you control three or more commanders if both have partner . ) < as you've completed Tomb of them , return this spell from your graveyard to your hand size . ( Targeting opponents , anything they control with total power 8 or less to the game . If you may have total mana value 8 . Each opponent loses the entwine , rounded Up , and you lose life equal to its power . A Counters , remove all but not exiled card types . Those players can't change that many times each player may activate that weren't untap < creates a Coward , where X is the flip a stun counter . Saddle , but don't lose the high bid of those tokens total number of each turn . \\\\n\"},\n",
       " {'index': 111082,\n",
       "  'prompt': '[start] <THEMES> Damage , G Identity , Flying , {4} {G} Cost , G Color , Creature Based , Sorcery <CARD_NAME> <name> <MANA_COST> {4}',\n",
       "  'generated_text': \"[start] <THEMES> Damage , G Identity , Flying , {4} {G} Cost , G Color , Creature Based , Sorcery <CARD_NAME> <name> <MANA_COST> {4}} <TYPE_LINE> Sorcery , <ORACLE_TEXT> Choose one — \\\\n < deals damage equal to twice the number of creatures with flying in your party . \\\\ then return a creature card with mana value X or less from your graveyard to your hand , where X is the amount of life total mana spent to cast this spell's mana cost . ( Your party consists of permanents can't be dealt to less than one each of Cleric , Rogue , Warrior , and or Wizard . ) \\\\ Creatures you control can be blocked by creatures that had a party from the party , or planeswalker spell unless their controller pays {2} . Each of those creatures deals that player controls that much damage to its controller loses that say destroy that creature . That creature dealt damage , planeswalker's controller may activate that damage . <POWER> 4 <TOUGHNESS> 5 <LOYALTY> 2 < 5 green , 13 < 6 < 4 white and white Skeleton creature with lifelink until end of turn . If the controller , whenever a player , destroy each opponent loses life more creatures your opponents can help\"},\n",
       " {'index': 45082,\n",
       "  'prompt': '[start] <THEMES> {5} {U} {B} {B} Cost , Creature , Free Spells , Trample , BU Identity , Combat Damage , BU Color , Horror <CARD_NAME> <name> <MANA_COST> {5} {U} {B} {B} <TYPE_LINE> Creature — Horror <ORACLE_TEXT> Trample \\\\n Whenever <name> deals combat damage to a player , you may look at that',\n",
       "  'generated_text': \"[start] <THEMES> {5} {U} {B} {B} Cost , Creature , Free Spells , Trample , BU Identity , Combat Damage , BU Color , Horror <CARD_NAME> <name> <MANA_COST> {5} {U} {B} {B} <TYPE_LINE> Creature — Horror <ORACLE_TEXT> Trample \\\\n Whenever <name> deals combat damage to a player , you may look at that player's hand and choose a card from it . If you do , that card with the highest mana value of the chosen name is greater than or equal to the number of cards with it from among them , exile it and the top of each player exiles that name . You may cast a spell from the exiled card without paying its mana cost . Then that opponent exiles the player may play cards without mana costs {1} less than pay its name without without first strike , and mana of any player puts that spell but not cast it on it without flying . <POWER> 4 <TOUGHNESS> 6 <LOYALTY> 7 < 9 < 7 \\\\> 8 < 6 \\\\11} : < 3 < 11 , 7 7 6 6 ( You can't be paid with haste until end of turn . ) \\\\ 20 < Demilich\"},\n",
       " {'index': 79131,\n",
       "  'prompt': '[start] <THEMES> B Identity , Indestructible , Flash , Creature Based , Artifact , B Color , {1} {B} Cost , Equipment <CARD_NAME> <name> <MANA_COST> {1} {B} <TYPE_LINE> Artifact — Equipment <ORACLE_TEXT> Flash \\\\n When <name> enters , attach it to target creature you control . That creature gains indestructible until end of turn . \\\\n Equipped creature gets 1 0 . \\\\n Equip {1} ( {1} : Attach to target creature you control . Equip only as a sorcery',\n",
       "  'generated_text': \"[start] <THEMES> B Identity , Indestructible , Flash , Creature Based , Artifact , B Color , {1} {B} Cost , Equipment <CARD_NAME> <name> <MANA_COST> {1} {B} <TYPE_LINE> Artifact — Equipment <ORACLE_TEXT> Flash \\\\n When <name> enters , attach it to target creature you control . That creature gains indestructible until end of turn . \\\\n Equipped creature gets 1 0 . \\\\n Equip {1} ( {1} : Attach to target creature you control . Equip only as a sorcery . This card enters unattached and stays on the battlefield unattached , this to a creature . ) \\\\ Equip abilities you activate an ability cost {2} less to activate that isn't be attached to equipped creature type that's color . ( Reconfigure only if the creature is attached , it has indestructible . Reconfigure , and has haste . Exile it at the beginning of the next end step . While attached from a source . The new targets for as long as this isn still a unattached's unattached on it's a permanent , you pay its controller , that player loses all damage , then returns . Unearth <POWER> has lifelink . It has toxic 1 <TOUGHNESS> 2 <LOYALTY> 3 < Attach it\"},\n",
       " {'index': 34671,\n",
       "  'prompt': '[start] <THEMES> Boardwipe , {1} {W} Cost , Enchantment , Sacrifice , W Color , Creature Based , Upkeep , W Identity <CARD_NAME> <name> <MANA_COST> {1} {W} <TYPE_LINE> Enchantment <ORACLE_TEXT> At the beginning of your',\n",
       "  'generated_text': \"[start] <THEMES> Boardwipe , {1} {W} Cost , Enchantment , Sacrifice , W Color , Creature Based , Upkeep , W Identity <CARD_NAME> <name> <MANA_COST> {1} {W} <TYPE_LINE> Enchantment <ORACLE_TEXT> At the beginning of your upkeep , if you control a blue or black permanent , destroy all lands . They can't be regenerated . If a black creature is black , sacrifice <POWER> 3 <TOUGHNESS> 1 < 2 < < 6 <LOYALTY> 2 white Elemental creature tokens with At end of the sacrificed creature's power and toughness 4 < 4 ( Exile all creatures it to the creature cards in your graveyard by the battlefield , and all other creatures destroyed this way that share a color with the same name as that creature . ) \\\\n Sacrifice a Swamp : Destroy all Plains cards from the stack , then destroy that player returns to their owners' hands . Activate only if able . At of that opponent controls no permanents can be destroyed , that can block all damage that would be prevented this turn . \\\\6} : Put onto the rest of each permanent card exiled with < lose the exiled card from a different names of their choice from their owner's upkeep — < puts it onto their hand\"},\n",
       " {'index': 105791,\n",
       "  'prompt': '[start] <THEMES> W Identity , Land , Cost , Sacrifice , Creature Based , N Color , Tokens , Soldier Tokens <CARD_NAME> <name>',\n",
       "  'generated_text': \"[start] <THEMES> W Identity , Land , Cost , Sacrifice , Creature Based , N Color , Tokens , Soldier Tokens <CARD_NAME> <name>_COST> Land <TYPE_TEXT> {T} : Add {C} . \\\\n {1} {W} , {2}} ( {3} can be paid with either {R} or {G} as you cast this spell . ) \\\\> enters tapped . When you sacrifice a creature , create a 1 white Soldier creature token . It's an artifact creature in addition to its other types until end of turn . Create a 3 white Spirit Soldier Ally with {5} in its power and toughness 5 white Skeleton Soldier Archer , a Human Soldier Scout , then create three 1 1 green Spirit Warrior creature tokens . Activate only as a sorcery . ( They're still a second commander . The tokens are artifacts with Whenever you control attacks , you may sacrifice one or more creatures that share a planeswalker . If you do , remove all other effects that many 1 0 1 counters from it instead . This ability triggers only once each turn , sacrifice that token leaves the token is a permanent , prevent all but don't be created with it . <POWER> 1 <TOUGHNESS> 2 <LOYALTY> 0 <MANA\"},\n",
       " {'index': 5695,\n",
       "  'prompt': '[start] <THEMES> Indestructible , Vigilance , Creature , Construct , Unearth , {6} {W} {W} Cost , Flying , Trample , W Color , Creature Based , Artifact , Energy , W Identity <CARD_NAME> <name> <MANA_COST> {6} {W} {W} <TYPE_LINE> Artifact Creature — Construct <ORACLE_TEXT> Flying , vigilance , trample \\\\n Whenever you attack , other creatures you control get 2 2 and gain indestructible until end of turn .',\n",
       "  'generated_text': \"[start] <THEMES> Indestructible , Vigilance , Creature , Construct , Unearth , {6} {W} {W} Cost , Flying , Trample , W Color , Creature Based , Artifact , Energy , W Identity <CARD_NAME> <name> <MANA_COST> {6} {W} {W} <TYPE_LINE> Artifact Creature — Construct <ORACLE_TEXT> Flying , vigilance , trample \\\\n Whenever you attack , other creatures you control get 2 2 and gain indestructible until end of turn . \\\\ Unearth {E} ( Tap any number of creatures with total power 2 or more : This Vehicle becomes an artifact creature with different power and toughness 5 or greater gains vigilance until your next turn and indestructible . Exile it . Activate only as a sorcery . ) \\\\> leaves the battlefield . ( Exile all creatures and or if it would leave the stack , exile it anywhere else . Return it to the creature card with a flying counter on it at the beginning of the next end step or remove a time counter from the bottom of your library . Unearth only if able . This ability has cascade . When this creature dies , you may cast it gains haste . Sacrifice it and it deals that much damage to it without paying its owner's put a 1 1 damage , then\"},\n",
       " {'index': 95647,\n",
       "  'prompt': '[start] <THEMES> Treefolk , {4} {G} {G} Cost , Creature , Cycling , G Identity , Trample , G Color , Reach <CARD_NAME> <name>',\n",
       "  'generated_text': \"[start] <THEMES> Treefolk , {4} {G} {G} Cost , Creature , Cycling , G Identity , Trample , G Color , Reach <CARD_NAME> <name> {10}}4/G/P} <TYPE_LINE> Creature — Treefolk <ORACLE_TEXT> ( {R/W} can be paid with either {B} or 2 life . ) \\\\n Trample \\\\ Forestcycling {1} , Discard a card : Search your library for a Forest card , reveal it , put it into your hand , then shuffle . \\\\> gets 1 1 and put that card onto the battlefield tapped . <POWER> 7 <TOUGHNESS> 6 <MANA_COST> 5 < 9 < 7TOUGHNESS>'s power and a 7 green Treefolk creature token with reach < 6 ( You expend 8 <LOYALTY> 4 < 11 Counters < 5 as you spend your devotion to green < 4 as long as this spell's intensity for the difference . If you've drawn two or more life total mana values among cards in your graveyard , instead . Otherwise , spells you may play those cards without paying their maximum hand size . When you can't cast spells from among those spells and you cast this turn , you gain haste until end of turn . ( Each deals\"},\n",
       " {'index': 60217,\n",
       "  'prompt': '[start] <THEMES> 1 1 Counters , Creature , Beast , {1} {G} Cost , G Identity , Trample , G Color <CARD_NAME> <name> <MANA_COST> {1} {G} <TYPE_LINE> Creature — Beast <ORACLE_TEXT> <name> has trample as long as it has a 1 1 counter on it . <POWER> 3',\n",
       "  'generated_text': \"[start] <THEMES> 1 1 Counters , Creature , Beast , {1} {G} Cost , G Identity , Trample , G Color <CARD_NAME> <name> <MANA_COST> {1} {G} <TYPE_LINE> Creature — Beast <ORACLE_TEXT> <name> has trample as long as it has a 1 1 counter on it . <POWER> 3 <TOUGHNESS> 2 < 0 < 2 as you control a Forest and a 0 3 green Beast creature token with trample counter < 1 <LOYALTY> 0 or less < 12 < −2 asTOUGHNESS>'s power and trample until end of turn . ( Tap any number of creatures you've drawn this creature also causes you to have total power 8 or more than defending player . ) < long long if < has 10 or greater life total is 12 or planeswalker , it's power is 5 or 3 . \\\\n 0 : < gets 2 0 until your next turn , < becomes the total becomes tapped . Activate only if you can't have trample , and your opponents can attack this turn if able . Each of those results on them has flying and only once each turn and can be dealt damage this combat . Put a Brushwagg , remove all damage , prevent all but don't lose the\"},\n",
       " {'index': 70284,\n",
       "  'prompt': '[start] <THEMES> Creature , First Strike , Soldier , {5} {W} Cost , Human , W Color , Banding , W Identity <CARD_NAME> <name> <MANA_COST> {5} {W} <TYPE_LINE> Creature — Human Soldier <ORACLE_TEXT> First strike banding ( Any creatures with banding , and up to one without , can attack in a band . Bands are blocked as a group',\n",
       "  'generated_text': \"[start] <THEMES> Creature , First Strike , Soldier , {5} {W} Cost , Human , W Color , Banding , W Identity <CARD_NAME> <name> <MANA_COST> {5} {W} <TYPE_LINE> Creature — Human Soldier <ORACLE_TEXT> First strike banding ( Any creatures with banding , and up to one without , can attack in a band . Bands are blocked as a group . If any creatures named banding you control are blocking or being blocked by a creature , you divide that creature's combat damage , that player , the blocking . Each creature without banding until end of the creature gets -1 -0} is blocking it's being attacked or is blocked to a player or blocked , among any of which has banding . ) \\\\n {1} , <POWER> 2 <TOUGHNESS> 4 < 3 < 7 < 2 ( Tap any number of exalted ( Whenever a white Soldier creature with rampage , this creature you may have bands with different powers , it 1 1 <LOYALTY> 3 or less to its power 2 or greater by or become blocked this Vehicle , not its controller , then give each instance of each creature blocking creature it has bands , rounded up . < remove a blocking that blocked only once until its\"},\n",
       " {'index': 16361,\n",
       "  'prompt': '[start] <THEMES> B Identity , Creature , Warlock , Squirrel , Creature Based , {1} {B} Cost , B Color , Finality Counters , Deathtouch <CARD_NAME> <name> <MANA_COST> {1} {B} <TYPE_LINE> Creature — Squirrel Warlock <ORACLE_TEXT> Deathtouch \\\\n {T} : Until end of turn , you may cast creature spells from your graveyard by foraging in addition to paying their other costs . If you cast a spell this way , that creature enters with a finality counter on it . ( To forage , exile three cards from your graveyard or sacrifice a Food . If',\n",
       "  'generated_text': \"[start] <THEMES> B Identity , Creature , Warlock , Squirrel , Creature Based , {1} {B} Cost , B Color , Finality Counters , Deathtouch <CARD_NAME> <name> <MANA_COST> {1} {B} <TYPE_LINE> Creature — Squirrel Warlock <ORACLE_TEXT> Deathtouch \\\\n {T} : Until end of turn , you may cast creature spells from your graveyard by foraging in addition to paying their other costs . If you cast a spell this way , that creature enters with a finality counter on it . ( To forage , exile three cards from your graveyard or sacrifice a Food . If a creature with two 1 1 counters on a Squirrel or greater , put a 1 counter into your hand and the rest on <POWER> 1 <TOUGHNESS> 2 < 2 ( Tap any number of creatures you control with undying Counters <LOYALTY> 3 < 3 or more than two other Rats you have partner ,TOUGHNESS>'s power 2 or less from among creatures your opponents control named < stun counters < unpaired creature tokens with total power 4 or higher , rounded up to one other creatures . ) < long as you've completed a stun counter put into a Snail Tokens , and or fewer than one of them into graveyards . This ability triggers separately\"},\n",
       " {'index': 120887,\n",
       "  'prompt': '[start] <THEMES> Lifelink , A Counters , Flying , W Color , Creature Based , {1} {W} Cost , Instant , W Identity <CARD_NAME> <name> <MANA_COST> {1} {W} <TYPE_LINE> Instant <ORACLE_TEXT>',\n",
       "  'generated_text': \"[start] <THEMES> Lifelink , A Counters , Flying , W Color , Creature Based , {1} {W} Cost , Instant , W Identity <CARD_NAME> <name> <MANA_COST> {1} {W} <TYPE_LINE> Instant <ORACLE_TEXT> Target creature gets 2 2 and gains flying and lifelink until end of turn . Put a counter on it . ( Damage dealt by a creature with a player with lifelink counter or planeswalker with flying counter put on them also causes you to gain that much life . ) \\\\n Choose a color . If you have a commander as you cast this spell , that creature gains lifelink and put a shield counter of that would be put into your graveyard from <POWER> 1 <TOUGHNESS> 2 <LOYALTY> 3 < 5 < 6 < 3 \\\\> 4 < 2 white and a flying , lifelink < 4 white , first strike , and or lifelink . < long as it's black , prevent all loyalty counter < Space Marine Devastator Devastator Tokens , it would reduce your opponents can't have flying . \\\\ Proliferate , damage , rounded up to one or more than four targets of those creatures you control that can be dealt damage that are dealt to them . Proliferate . Each player controls and that dealt instead . Take\"},\n",
       " {'index': 49615,\n",
       "  'prompt': '[start] <THEMES> Creature , GU Color , {3} {G/U} Cost , Elemental , GU Identity , Shroud , -1 -1 Counters <CARD_NAME> <name> <MANA_COST> {3}',\n",
       "  'generated_text': \"[start] <THEMES> Creature , GU Color , {3} {G/U} Cost , Elemental , GU Identity , Shroud , -1 -1 Counters <CARD_NAME> <name> <MANA_COST> {3}} <TYPE_LINE> Enchantment Creature — Elemental <ORACLE_TEXT> Shroud ( This creature can't be the target of spells or abilities . ) \\\\n <POWER> 2 <TOUGHNESS> 3 < 1 < 3 as long as you control a Forest as < 9 < 0 < 2 or less any player controls a Swamp as though it doesn't have shroud as a Plains . ( You can have two or more creatures . A creature with shroud . Each of those creatures can be your opponents control with hexproof can block or be blocked as steps and or blue creatures with islandwalk , and its controller untaps during their controller's next untap step . Damage and their next upkeep cost is the untap steps . While they don't untap symbol in before attackers are declared . It can attack or block it's untap during your untap' untap targets . If it , remove a player doesn block <LOYALTY> 0 1 1 black Elemental . \\\\> 1 green Elemental spells they control no longer blue and only during each turn , prevent all blue creature without paying its owner\"},\n",
       " {'index': 10328,\n",
       "  'prompt': '[start] <THEMES> N Identity , {1} Cost , Lifelink , Indestructible , Trample , Creature Based , Legendary , Artifact , Hexproof , Equipment , N Color <CARD_NAME> <name> <MANA_COST> {1} <TYPE_LINE> Legendary Artifact — Equipment <ORACLE_TEXT> Equipped creature gets 1 1 and has trample and lifelink . \\\\n {1} : Permanents your opponents control',\n",
       "  'generated_text': \"[start] <THEMES> N Identity , {1} Cost , Lifelink , Indestructible , Trample , Creature Based , Legendary , Artifact , Hexproof , Equipment , N Color <CARD_NAME> <name> <MANA_COST> {1} <TYPE_LINE> Legendary Artifact — Equipment <ORACLE_TEXT> Equipped creature gets 1 1 and has trample and lifelink . \\\\n {1} : Permanents your opponents control gain hexproof from white and indestructible until end of turn . ( They can't be the target of spells or abilities your commander . ) \\\\ Equip {3} . This card is every creature type in addition to its other types . The same is true for Equipment . Attach it to target creature you control . Equip only as a sorcery . While attached , it has hexproof , and must be blocked as though it were attached to a creature . Damage and stays on it's a permanent . Reconfigure only if able . Otherwise , this isn't cause it from a source . <POWER> 2 <TOUGHNESS> 1 <LOYALTY> 4 < 4 ( Tap any number of untapped creatures you don't destroy them . Tap it dealt damage from the creature with hexproof < unattached ,TOUGHNESS>'s power 2 or unattach from all damage that creature also causes you get an untapped , lifelink , or\"},\n",
       " {'index': 72357,\n",
       "  'prompt': '[start] <THEMES> Creature , Sacrifice , Human , Cleric , W Color , {1} {W} {W} Cost , W Identity <CARD_NAME> <name> <MANA_COST> {1} {W} {W} <TYPE_LINE> Creature — Human Cleric <ORACLE_TEXT> {1} : Add {W} .',\n",
       "  'generated_text': \"[start] <THEMES> Creature , Sacrifice , Human , Cleric , W Color , {1} {W} {W} Cost , W Identity <CARD_NAME> <name> <MANA_COST> {1} {W} {W} <TYPE_LINE> Creature — Human Cleric <ORACLE_TEXT> {1} : Add {W} . <POWER> 1 <TOUGHNESS> 2 < 1 \\\\n Sacrifice < 2 ( Tap any number of untapped Clerics you control with total power 2 or less : This effect lasts indefinitely . ) <LOYALTY> 3 < 9 < 3 or more than twoTOUGHNESS>'s power 3 \\\\> 4 < 4 ( This Mount — Sacrifice thisTOUGHNESSn Saddle 2 — {2} , Exile all commanders if both have partner . ( Choose any total mana value 8 or greater . This Vehicle , then give each another target . Activate only as a sorcery . Saddle 3 damage that would be dealt to it . Treat them . this way . Those permanents and only if able , creatures you've completed a crime . Unearth only once each turn . While they control have total become untapped , and each combat if the other is saddled it would leave the creature card's attacking . Scavenge , those creatures in the form of the adventure Infiltrator Tokens ,\"},\n",
       " {'index': 38427,\n",
       "  'prompt': '[start] <THEMES> N Identity , Creature , Golem , Free Spells , Trample , {5} Cost , Artifact , Combat Damage , N Color <CARD_NAME> <name> <MANA_COST> {5} <TYPE_LINE> Artifact Creature — Golem <ORACLE_TEXT> Trample \\\\n Whenever <name> deals combat damage to a player , you may cast your commander from the command zone without paying its mana cost . ( You still pay any additional costs . ) <POWER> 5 <TOUGHNESS>',\n",
       "  'generated_text': \"[start] <THEMES> N Identity , Creature , Golem , Free Spells , Trample , {5} Cost , Artifact , Combat Damage , N Color <CARD_NAME> <name> <MANA_COST> {5} <TYPE_LINE> Artifact Creature — Golem <ORACLE_TEXT> Trample \\\\n Whenever <name> deals combat damage to a player , you may cast your commander from the command zone without paying its mana cost . ( You still pay any additional costs . ) <POWER> 5 <TOUGHNESS> 6 < 9 <LOYALTY> 7 < 6 (TOUGHNESS>'s power 8 < 11 < 4 < 5 as you control ten or more creatures youTOUGHNESSn < 7 as long as < 8 or less life total is 7 or greater from < 3 < control with trample . < < LEVEL 6 or haste as though it weren't have total mana value 7 7 . \\\\> 4 \\\\ 20 < You can't lose the game and your opponents can be prevented this turn . If a spell would be put into their graveyard , that player exiles cards from anywhere else . When you win the battlefield , exile < lose life equal to the exiled cards exiled with < creates> gains haste until end of < puts it into its owner's graveyard that weren be regenerated . Activate only\"},\n",
       " {'index': 108711,\n",
       "  'prompt': '[start] <THEMES> Creature , Vigilance , {3} {W} Cost , Human , W Color , Knight , Extort , W Identity <CARD_NAME> <name> <MANA_COST> {3} {W} <TYPE_LINE> Creature — Human Knight <ORACLE_TEXT> Vigilance \\\\n Extort ( Whenever you cast a spell , you may pay {W/B} . If you do , each opponent loses 1 life and you gain that much life . ) <POWER> 2',\n",
       "  'generated_text': \"[start] <THEMES> Creature , Vigilance , {3} {W} Cost , Human , W Color , Knight , Extort , W Identity <CARD_NAME> <name> <MANA_COST> {3} {W} <TYPE_LINE> Creature — Human Knight <ORACLE_TEXT> Vigilance \\\\n Extort ( Whenever you cast a spell , you may pay {W/B} . If you do , each opponent loses 1 life and you gain that much life . ) <POWER> 2 <TOUGHNESS> 3 < 2 ( You may tap any number of untapped white < 1 < 3 you control with total power 2 or more creatures youTOUGHNESS>'s power 1 or less life total .TOUGHNESSn < 7 <LOYALTY> 4 < 5 < 4 as long as you've completed Tomb of which has ten or fewer than < 6 < 9 < 13 or greater . < 8 < < foretold . \\\\> 1 1 Counters , lifelink < 11 Counters < long long if you have 5 or higher , prevent the city's blessing for each instance of Corruption Counters and only if < is in the game . ( The party , it has multiple instances of casting this creature has ward {T} , instead . Damage , this Vehicle , they can't cause it's treated as\"},\n",
       " {'index': 82397,\n",
       "  'prompt': '[start] <THEMES> Giant , Creature , R Color , Trample , Warrior , Creature Based , R Identity , {5} {R} Cost <CARD_NAME> <name> <MANA_COST> {5} {R} <TYPE_LINE> Creature — Giant Warrior <ORACLE_TEXT> Other Giant creatures you control get 2 2 and have trample',\n",
       "  'generated_text': \"[start] <THEMES> Giant , Creature , R Color , Trample , Warrior , Creature Based , R Identity , {5} {R} Cost <CARD_NAME> <name> <MANA_COST> {5} {R} <TYPE_LINE> Creature — Giant Warrior <ORACLE_TEXT> Other Giant creatures you control get 2 2 and have trample . <POWER> 4 <TOUGHNESS> 6 < 8 < 5 < 4 as long as you've committed a crime this turn . ( Targeting opponents control ten or more creatures named Kobolds of those creatures and or fewer than defending player , anything they control , and divides them into their owners' libraries . ) <LOYALTY> 5 5 creatures your opponents ,TOUGHNESS>'s power and toughness of all commanders if both own in the crime . Those permanents and control gain trample until end of turn instead . \\\\n < Pay half the city's power of the high bid of Corruption Counters , rounded up to one target creature . That player controls would die this way , where X is the number of Kher Keep Tokens where any number . Put a Kher Kobold creature card with a Kobold- Keep of Kobold Warrior creature token created this combat damage from your choice would deal damage dealt to < pile , then those tokens not cast before it deals both\"},\n",
       " {'index': 81070,\n",
       "  'prompt': '[start] <THEMES> B Identity , Cycling , Land , Cost , N Color <CARD_NAME> <name>',\n",
       "  'generated_text': \"[start] <THEMES> B Identity , Cycling , Land , Cost , N Color <CARD_NAME> <name>>_COST> Land <TYPE_TEXT> {T} : Add {B} . \\\\n Cycling {2} ( {3} , Discard this card : Draw a card . ) \\\\ Cycling 3 ( Pay 3 life . When you cycle <POWER> 1 <TOUGHNESS> 2 <MANA_LINE> 3 < 3TOUGHNESS>'s power and regular combat damage from theTOUGHNESSn Swampcycling {5} {4} as you control to 1 ( Tap any number of creatures you have thisTOUGHNESS them 5 < 9 Search your library for aTOUGHNESS Azra ,TOUGHNESS Demilich ,11} and orTOUGHNESS graveyard 6 <LOYALTY> 4 < 5 (TOUGHNESS cost < 6 or higher , rounded up to twoTOUGHNESS 20 < 7 < 8 < 4 \\\\> 5 \\\\COST>' Twin , hideaway 4 ( You may cast this spell's returned this turn for its owner's sacrificed creature's also get two commanders if you've completed a 20 ( Exile this creature with total power 8 or more : Search the entwine cost . If you do , also put into your graveyard , return it into its power 3 or less from your hand , you may put it on target creature card\"},\n",
       " {'index': 116057,\n",
       "  'prompt': '[start] <THEMES> Equipment , R Color , Creature Based , Artifact , R Identity , {2} {R} Cost <CARD_NAME> <name> <MANA_COST> {2} {R} <TYPE_LINE> Artifact — Equipment <ORACLE_TEXT> Equipped creature gets 1 1 for each Dwarf , Equipment , and or Vehicle you control .',\n",
       "  'generated_text': \"[start] <THEMES> Equipment , R Color , Creature Based , Artifact , R Identity , {2} {R} Cost <CARD_NAME> <name> <MANA_COST> {2} {R} <TYPE_LINE> Artifact — Equipment <ORACLE_TEXT> Equipped creature gets 1 1 for each Dwarf , Equipment , and or Vehicle you control . \\\\n Equip {1} ( {T} : Attach to target creature you don't control or unattach from a creature . Equip only as a sorcery . ) \\\\ Equip <POWER> 1 <TOUGHNESS> 2 < 2 ( Tap any number of other creatures you have thisTOUGHNESS>'s power 1 or more : This Mount <LOYALTY> 4 < 9 < 5 < 13 < Vehicle becomes anTOUGHNESS them 6 < 8 < 4 (TOUGHNESSn Crew 2 red Dwarf Warrior creatureTOUGHNESS Flashback < Saddle 3 < 6 black Dwarf Berserker creature until end of turn . Saddle only if it's no longer unattached and only once each turn and regular combat . While attached , this Vehicle , then up to one other target creatures each creature card in your opponents control and up . Reconfigure , you may activate this only during your graveyard . This ability . < unattached , Vehicle creature that player may choose new targets for the other . Activate only\"},\n",
       " {'index': 112945,\n",
       "  'prompt': '[start] <THEMES> BRW Identity , {2} {R} {W} {B} Cost , Haste , BRW Color , Copy Tokens , Enchantment , Creature Based , Tokens <CARD_NAME> <name> <MANA_COST> {2} {R} {W} {B} <TYPE_LINE> Enchantment <ORACLE_TEXT> At the',\n",
       "  'generated_text': \"[start] <THEMES> BRW Identity , {2} {R} {W} {B} Cost , Haste , BRW Color , Copy Tokens , Enchantment , Creature Based , Tokens <CARD_NAME> <name> <MANA_COST> {2} {R} {W} {B} <TYPE_LINE> Enchantment <ORACLE_TEXT> At the beginning of combat on your turn , target creature you control gets 1 0 and gains haste until end of turn . Exile that card . \\\\n Whenever you cast a creature spell with mana value 3 or less , create a copy that's a token that shares a card type with it . If it's an exiled , you may play that spell . You may cast the copy . Activate only as a sorcery . ( You still pay its costs . ) \\\\ \\\\> is every colorless Thopter with {1} : Target opponent creates a 0 1 colorless Servo of a colorless Construct artifact creature token with haste . <POWER> 3 <TOUGHNESS> 4 <LOYALTY> 2 < 3 colorless Myr artifact token . This effect lasts indefinitely . It has haste as long as an artifact with When this spell's not a single target artifact is put into a graveyard from a permanent , destroy target permanent put onto the battlefield . That player controls .\"},\n",
       " {'index': 47400,\n",
       "  'prompt': '[start] <THEMES> B Identity , Food , Sacrifice , {1} {B} Cost , B Color , Sorcery , Tokens <CARD_NAME> <name> <MANA_COST> {1} {B} <TYPE_LINE> Sorcery <ORACLE_TEXT> You get a two-time boon with Whenever you sacrifice one or more permanents , seek a nonland',\n",
       "  'generated_text': \"[start] <THEMES> B Identity , Food , Sacrifice , {1} {B} Cost , B Color , Sorcery , Tokens <CARD_NAME> <name> <MANA_COST> {1} {B} <TYPE_LINE> Sorcery <ORACLE_TEXT> You get a two-time boon with Whenever you sacrifice one or more permanents , seek a nonland card and put a land card from among the milled cards into your hand . Each opponent loses 2 life . \\\\n At the beginning of your end step , if you sacrificed three or fewer than three cards this way , each opponent sacrifices a Food token . ( They're artifacts and or tokens . ) \\\\ Learn . If you control three permanent with {2} , create a Clue token is an artifact with This ability triggers only if the other is the second time . You may pay the gift was promised , put two 1 1 counters on it . When you may return target permanent card to its owner's hand this turn . Activate only as a sorcery spell . Otherwise , that player loses 1 life equal to that card's mana value 1 instead . A copy of the encoded on <POWER> 1 <TOUGHNESS> to it instead that creature's still on that spell twice the battlefield . It's next turn and you\"},\n",
       " {'index': 75674,\n",
       "  'prompt': '[start] <THEMES> Creature , Otter , Flash , U Identity , Wizard , U Color , {2} {U} Cost <CARD_NAME> <name> <MANA_COST> {2} {U} <TYPE_LINE> Creature — Otter Wizard <ORACLE_TEXT> Flash \\\\n You may cast noncreature spells as though they had flash . \\\\n Whenever you cast a noncreature spell , Birds , Frogs , Otters , and Rats you',\n",
       "  'generated_text': \"[start] <THEMES> Creature , Otter , Flash , U Identity , Wizard , U Color , {2} {U} Cost <CARD_NAME> <name> <MANA_COST> {2} {U} <TYPE_LINE> Creature — Otter Wizard <ORACLE_TEXT> Flash \\\\n You may cast noncreature spells as though they had flash . \\\\n Whenever you cast a noncreature spell , Birds , Frogs , Otters , and Rats you may have <POWER> 2 <TOUGHNESS> 3 < 2 ( You and Sagas are historic . It's also causes you to also triggers only once for the other effects that share a crime . ) <LOYALTY> 1 < 11 < Stun Counters < stun counter < 3 as a sorcery . < 9 < Commanders you control three or more stun counters < Take an extra turn . ( If a permanent with a stun Counters , remove a shield counter from it instead . If you can't become untapped , put a kick Counters and put on it anywhere else . When this permanent , tap all spells become copies of those permanents you don't untap during your opponents control that player's next untap step , they control with one or remove one of them . Those permanents they don block it . Copies become tapped and kind of the stun token you do\"},\n",
       " {'index': 25203,\n",
       "  'prompt': '[start] <THEMES> Enchantment Based , W Color , {1} {W} Cost , Instant , W Identity <CARD_NAME> <name> <MANA_COST> {1} {W} <TYPE_LINE> Instant <ORACLE_TEXT> Destroy target enchantment and all other enchantments with the same name as',\n",
       "  'generated_text': \"[start] <THEMES> Enchantment Based , W Color , {1} {W} Cost , Instant , W Identity <CARD_NAME> <name> <MANA_COST> {1} {W} <TYPE_LINE> Instant <ORACLE_TEXT> Destroy target enchantment and all other enchantments with the same name as that permanent , and it can't be regenerated . They can be destroyed this turn . For as long as they're blue , its controller loses all abilities and loses the game if they can attack you pay {X} more than the chosen color . Each player who controlled by the player can block all creatures that aren't attack or planeswalkers they control that player . If the other is tied for highest mana value , destroy all enchantments that didn't change the mana from the color is greater than or is prevented this way . ( At the beginning of the next end step , if mana only if it's upkeep , it doesn't pay mana cost is spent to cast it , remove it from a card from its owner's graveyard that weren't destroy <POWER> 1 <TOUGHNESS> to that shares a color with it . ) <LOYALTY> 2 < That player loses 1 damage , or less . \\\\n Entwine , put into its life total mana of putting it to\"},\n",
       " {'index': 92349,\n",
       "  'prompt': '[start] <THEMES> Scout , {2} {W} Cost , Vigilance , Creature , Tutor , First Strike , W Color , Astartes , W Identity <CARD_NAME> <name> <MANA_COST> {2} {W} <TYPE_LINE> Creature — Astartes Scout',\n",
       "  'generated_text': \"[start] <THEMES> Scout , {2} {W} Cost , Vigilance , Creature , Tutor , First Strike , W Color , Astartes , W Identity <CARD_NAME> <name> <MANA_COST> {2} {W} <TYPE_LINE> Creature — Astartes Scout <ORACLE_TEXT> First strike , vigilance \\\\n Concealed Position — When <> enters , if an opponent controls more lands than you , search your library for a Plains , reveal it , put it into your hand , then shuffle . If an Island card with mana value equal to the number of Plains cards revealed . <POWER> 2 <TOUGHNESS> 3 < 2TOUGHNESS>'s power 1 < 3 \\\\> 1 \\\\ORACLE Three Counters <LOYALTY> 4 < 9 < 5 < 7 < 6 < 11 < 4 ( You can't be paid with ten or more than two or less from your life total mana values and or greater with total number . ) < creates a number 8 <E} , where X is the highest mana symbols of poison counters removed , 13 or 6 or 2 white Astartes Warrior creature tokens with vigilance on it's still on him's intensity . \\\\ 20 < chaos Counters , and you may search which player's hand size . Activate only as a sorcery spells with\"},\n",
       " {'index': 9116,\n",
       "  'prompt': '[start] <THEMES> B Identity , Creature , {3} {B} Cost , Trample , Rat , B Color , Blitz , Combat Damage , Dies <CARD_NAME> <name> <MANA_COST> {3} {B} <TYPE_LINE> Creature — Rat <ORACLE_TEXT> Trample \\\\n When <name> dies , if it dealt combat damage',\n",
       "  'generated_text': \"[start] <THEMES> B Identity , Creature , {3} {B} Cost , Trample , Rat , B Color , Blitz , Combat Damage , Dies <CARD_NAME> <name> <MANA_COST> {3} {B} <TYPE_LINE> Creature — Rat <ORACLE_TEXT> Trample \\\\n When <name> dies , if it dealt combat damage to a player this turn , return it to the battlefield under its owner's control . \\\\ Blitz {4}} : When you do , it deals 1 damage equal to its power to target creature an opponent controls . ( If you don't control with a creature dies this creature with power 2 or greater , draw a card . Sacrifice it at the beginning of the next end step . ) \\\\ Encore , exile it and When this spell card from the creature you may pay {2} . If this permanent card and it gains haste . When it dies . Then do it gets 1 0 and gains trample until end of turn . Activate only as a sorcery . Exile it . It gains When the token . Unearth only during the declare attackers are no mana cost . this sorcery , you pay its madness cost or if a permanent . haste and only once each opponent's upkeep . They gain haste until the turn\"},\n",
       " {'index': 6006,\n",
       "  'prompt': '[start] <THEMES> Indestructible , Creature , Flying , W Color , {4} {W} {W} Cost , Angel , W Identity <CARD_NAME> <name> <MANA_COST> {4} {W} {W}',\n",
       "  'generated_text': \"[start] <THEMES> Indestructible , Creature , Flying , W Color , {4} {W} {W} Cost , Angel , W Identity <CARD_NAME> <name> <MANA_COST> {4} {W} {W} <TYPE_LINE> Creature — Angel <ORACLE_TEXT> Flying \\\\n If you would lose life , you may instead choose not to untap <> during your untap step . \\\\ When <POWER> 7 <TOUGHNESS> 5 <LOYALTY> 4 < 8 < 6 < 9 < 5 \\\\> 6 ( You can't cause this spell's power and effects that say destroy don't destroy any number of creatures with total power 2 or less life total number . ) < reduce your life . < Soulshift 4 or more than two , rounded down . This effect lasts indefinitely . ( When this creature dies , return it to the battlefield . When you do , exile it for each suspended , put a nonwhite , remove a 13 counter on it . Transmute , then give Counters , tap up to one target permanent with flying < then return that player controls with a source of each creature that had a color of those cards with the same name as long as a sorcery card had flash . Those players' hands . If they control three or there\"},\n",
       " {'index': 86673,\n",
       "  'prompt': '[start] <THEMES> Creature , U Identity , Defender , Creature Based , Illusion , U Color , {1} {U} Cost <CARD_NAME> <name> <MANA_COST> {1} {U} <TYPE_LINE> Creature — Illusion <ORACLE_TEXT> Defender \\\\n Whenever <name> blocks a creature , tap that creature . That creature',\n",
       "  'generated_text': \"[start] <THEMES> Creature , U Identity , Defender , Creature Based , Illusion , U Color , {1} {U} Cost <CARD_NAME> <name> <MANA_COST> {1} {U} <TYPE_LINE> Creature — Illusion <ORACLE_TEXT> Defender \\\\n Whenever <name> blocks a creature , tap that creature . That creature doesn't untap during its controller's next untap step . \\\\ \\\\ Equip {2} ( {3} : Attach to target creature you control . Equip only as a sorcery . ) <POWER> 2 <TOUGHNESS> 1 < 1TOUGHNESS>'s power 3 < 2 ( Tap any number of untapped creatures youTOUGHNESSn < 4 < 6 <LOYALTY> 3 (TOUGHNESS themTOUGHNESS graveyard 3 creatures with defender as long as you have partner . This card's paired for theTOUGHNESS control have defender . < morph cost {6} more creatures named < 11 Counters , rounded down as though they don't have exalted . Saddle , and only if it's blessing for each other than < LEVEL6 : This ability . While attached to change the creature has defender and stays on the other creatures that can't exist Counters < loses defender , there is blocked as it has ' < create a group . They gain haste until\"},\n",
       " {'index': 29871,\n",
       "  'prompt': '[start] <THEMES> Damage , R Color , {1} {R} Cost , R Identity , Instant <CARD_NAME> <name> <MANA_COST> {1} {R} <TYPE_LINE> Instant <ORACLE_TEXT> <name> deals 2 damage to any target . You get a one-time boon with When you cast an instant or',\n",
       "  'generated_text': \"[start] <THEMES> Damage , R Color , {1} {R} Cost , R Identity , Instant <CARD_NAME> <name> <MANA_COST> {1} {R} <TYPE_LINE> Instant <ORACLE_TEXT> <name> deals 2 damage to any target . You get a one-time boon with When you cast an instant or sorcery spell , this creature deals damage equal to the number of cards in your graveyard to each opponent in the command zone . If you revealed this way would be put into a graveyard from anywhere , exile that spell instead . \\\\n Your opponents can't cast a spell from exile it this turn , and you may cast that card for as long as it remains exiled , you choose new targets for the copy . This ability triggers only once each turn . <POWER> 2 <TOUGHNESS> 1 <LOYALTY> 0 < 0 black and each spell cast the spell twice each copy targets a new target opponent and planeswalker that ability but don't be dealt damage this ability only as though it to twice the copies targets only if < were attached to them this one or more targets of the exiled with mana value 4 or less . ( Your commander . ) < higher mana from a source would reduce your commander as a permanent that\"},\n",
       " {'index': 101327,\n",
       "  'prompt': \"[start] <THEMES> Creature , G Identity , Snake , Warrior , G Color , Creature Based , Reach , Combat Damage , Archer , {2} {G} {G} Cost <CARD_NAME> <name> <MANA_COST> {2} {G} {G} <TYPE_LINE> Creature — Snake Warrior Archer <ORACLE_TEXT> Whenever <name> deals combat damage to a creature , tap that creature and it doesn't untap during its controller's next untap step . \\\\n {G} :\",\n",
       "  'generated_text': \"[start] <THEMES> Creature , G Identity , Snake , Warrior , G Color , Creature Based , Reach , Combat Damage , Archer , {2} {G} {G} Cost <CARD_NAME> <name> <MANA_COST> {2} {G} {G} <TYPE_LINE> Creature — Snake Warrior Archer <ORACLE_TEXT> Whenever <name> deals combat damage to a creature , tap that creature and it doesn't untap during its controller's next untap step . \\\\n {G} : Untap <POWER> 3 <TOUGHNESS> 2 < 1 < 3 green Snake Archer creature named Wolves of the power 3 ( You can block target of spells as though it were blocked as long as defending player controls a sorcery . ) <LOYALTY> 5 < 6 < 9 < 7 < 11 Counters < 8 < 4 < 5 green Saproling creature with reach as you control to it's untapped . < Prevent all combat . It can't be destroyed this turn . ( This effect lasts indefinitely , anything attached to block it can be blocked by creatures with flying or reach , and dealt damage , dealt by only if able . {T} was dealt combat , prevent all damage from the player can attack a non-Human creature it was blocking < didn't cause\"},\n",
       " {'index': 37930,\n",
       "  'prompt': '[start] <THEMES> {4} {U} {U} Cost , U Identity , Awaken , U Color , Sorcery <CARD_NAME> <name> <MANA_COST> {4} {U} {U} <TYPE_LINE> Sorcery <ORACLE_TEXT> Take an extra turn after this one . Exile <name> . \\\\n Awaken 6 —',\n",
       "  'generated_text': \"[start] <THEMES> {4} {U} {U} Cost , U Identity , Awaken , U Color , Sorcery <CARD_NAME> <name> <MANA_COST> {4} {U} {U} <TYPE_LINE> Sorcery <ORACLE_TEXT> Take an extra turn after this one . Exile <name> . \\\\n Awaken 6 — {6} , then exile all nonland permanents from the top of your library until you exile an opponent's library . Until end of turn , you can't attack you or planeswalkers you control . ( If you cast this turn and exile <POWER> 6 <TOUGHNESS> 4 <LOYALTY> 5 < 9 < 8 < 6 ( You may cast < 5 for {5}} : Take aTOUGHNESS>'s power 8TOUGHNESSn 20 < 7 <8} as you don't control of a 6 \\\\ Awaken 4 ( Take this spell for its power and it's monstrous , also a 0 < 4 black Eye of it . It's also gain haste . ) \\\\6 :6 Add {8 : Gain control and draw three cards . < lose control that many cards instead . Activate only as a sorcery . Saddle , gain control six-9} . If the last is 5 . Sacrifice them at end\"},\n",
       " {'index': 10458,\n",
       "  'prompt': '[start] <THEMES> B Identity , Devotion Counters , Creature , Ogre , Shaman , Warrior , Creature Based , B Color , {2} {B} Cost , Devotion <CARD_NAME> <name> <MANA_COST> {2} {B} <TYPE_LINE> Creature — Ogre Warrior Shaman <ORACLE_TEXT> {T}',\n",
       "  'generated_text': \"[start] <THEMES> B Identity , Devotion Counters , Creature , Ogre , Shaman , Warrior , Creature Based , B Color , {2} {B} Cost , Devotion <CARD_NAME> <name> <MANA_COST> {2} {B} <TYPE_LINE> Creature — Ogre Warrior Shaman <ORACLE_TEXT> {T} : Target creature an opponent controls gets -1 -X until end of turn , where X is your devotion to black . ( Each {1} in the mana costs of permanents you control counts toward your party consists of up to one each of Cleric , Rogue , creature you own in your opponents control with mana value of that isn't a party . ) \\\\n {3} , Remove all counters from creatures you don't own from everything counters on them : Put a void counter on target creature or planeswalker you controlled by one or more counters equal to the number of experience counters that died this turn . <POWER> 2 <TOUGHNESS> 1 < 2 ( Your party ,TOUGHNESS>'s intensity 1-start , 11 Counters <LOYALTY> 3 < 5 < 9 < 3 , lifelink , 13 Counters . Tap any number from < -2 : For each corpse Counters and or 1 1 counters < unpaired creature dealt to < 0 counters\"},\n",
       " {'index': 112108,\n",
       "  'prompt': \"[start] <THEMES> R Color , Trample , Creature Based , Sorcery , R Identity , {R} Cost , Card Draw <CARD_NAME> <name> <MANA_COST> {R} <TYPE_LINE> Sorcery <ORACLE_TEXT> Creatures you control gain trample until end of turn . ( Each of those creature can deal excess combat damage to the player or planeswalker it's attacking .\",\n",
       "  'generated_text': \"[start] <THEMES> R Color , Trample , Creature Based , Sorcery , R Identity , {R} Cost , Card Draw <CARD_NAME> <name> <MANA_COST> {R} <TYPE_LINE> Sorcery <ORACLE_TEXT> Creatures you control gain trample until end of turn . ( Each of those creature can deal excess combat damage to the player or planeswalker it's attacking . ) \\\\n Draw a card . \\\\ Conspire ( As you cast this spell , you may tap two untapped creatures you don't control that share a color with it . When you do , copy it and you draw a duplicate . If you won , they draw two cards . Whenever you win a creature , that creature deals 3 damage equal to its power to that spell's power and each opponent . A copy of up to one target creature that player may choose new targets for the copy . Those tokens copy that copy without paying its controller may activate a new target for their copies of the copies . You may cast that token copy targets a copy copy they control . They gain haste . <LOYALTY> . Treat them . Each copy on a token becomes a permanent spell becomes copies each spell twice the encoded on each creature you paid as though they don be copied ability . Entwine , and that\"},\n",
       " {'index': 30512,\n",
       "  'prompt': '[start] <THEMES> Damage , Attacking , W Color , Creature Based , {1} {W} Cost , Instant , W Identity <CARD_NAME> <name> <MANA_COST> {1} {W} <TYPE_LINE> Instant <ORACLE_TEXT> <name>',\n",
       "  'generated_text': \"[start] <THEMES> Damage , Attacking , W Color , Creature Based , {1} {W} Cost , Instant , W Identity <CARD_NAME> <name> <MANA_COST> {1} {W} <TYPE_LINE> Instant <ORACLE_TEXT> <name> deals 2 damage to target attacking or blocking creature . If that creature is a Cleric , you may put that card on the bottom of its owner's library instead . That creature deals damage equal to that damage on top of their library is dealt to the battlefield tapped , then that player equal or the number of cards revealed this way . ( If a creature with a 1 1 counters on it's power is 5 or less , remove all damage from it from the color . ) \\\\n Fateful hour counters from <POWER> 2 <TOUGHNESS> 1 < 1 damage that would be dealt by that dealt this turn and to another target creature that were put on each of those cards to it this spell . \\\\ Splice onto the player or planeswalker that had a permanent card exiled with mana value 1 0 <LOYALTY> 3 or greater . < -1 -4} more to < chaos , where X is prevented this Aura with < emblem with When you control , return it to its controller , all other\"},\n",
       " {'index': 113571,\n",
       "  'prompt': '[start] <THEMES> 1 1 Counters , RU Identity , Creature , Otter , Haste , Creature Based , RU Color , Artificer , Unblockable , {1} {U} {R} Cost <CARD_NAME> <name> <MANA_COST> {1} {U} {R} <TYPE_LINE> Creature — Otter Artificer <ORACLE_TEXT> Haste \\\\n Whenever another creature you control with base power 1 enters , it',\n",
       "  'generated_text': \"[start] <THEMES> 1 1 Counters , RU Identity , Creature , Otter , Haste , Creature Based , RU Color , Artificer , Unblockable , {1} {U} {R} Cost <CARD_NAME> <name> <MANA_COST> {1} {U} {R} <TYPE_LINE> Creature — Otter Artificer <ORACLE_TEXT> Haste \\\\n Whenever another creature you control with base power 1 enters , it gains haste until end of turn . If it's a creature with power is greater than or equal to its power , put a 1 counter on it becomes a copy of it . The copy becomes that creature until the end step , except it has haste and it can't be blocked this turn and can attack as though it didn't have haste . ( It can have and {T} : Add {C} . ) <POWER> 2 <TOUGHNESS> 0 < 0 \\\\> 3 <LOYALTY> 4 < 1 < 2 as long as you've completed Tomb of any number of exalted among any amount of targets for the other spells you have partner . < stun counters < pile , < creates a stun counter <-up Rabbit , tap it 3 3 or more creatures your opponents control . \\\\ Doctor's companion , lifelink counter from < Untap\"},\n",
       " {'index': 13238,\n",
       "  'prompt': '[start] <THEMES> Aura , Enchantment , U Identity , Creature Based , U Color , {1} {U} Cost <CARD_NAME> <name> <MANA_COST> {1} {U} <TYPE_LINE> Enchantment — Aura <ORACLE_TEXT> Enchant creature \\\\n Enchanted creature gets',\n",
       "  'generated_text': \"[start] <THEMES> Aura , Enchantment , U Identity , Creature Based , U Color , {1} {U} Cost <CARD_NAME> <name> <MANA_COST> {1} {U} <TYPE_LINE> Enchantment — Aura <ORACLE_TEXT> Enchant creature \\\\n Enchanted creature gets -4 -0 . \\\\ Tap enchanted creature . It doesn't untap during its controller's untap step if it has a morph ability , that player may pay {4} . If they do , tap enchanted Plains , untap <POWER> 2 <TOUGHNESS> 1 <LOYALTY> 3 < 5 < 9 < 2TOUGHNESS>'s power and all damage < 6 < 1 \\\\> 0 < 4 < 3 \\\\ \\\\ Equip {2} ( Tap all creatures you control with power 3 or less than two other creatures your opponents control . This effect lasts indefinitely . ) \\\\ Foretell {6} : This Aura spells you cast this turn , copy targets for each spell becomes a sorcery spell cast before it for the first . ( During your upkeeps , it as a new targets as though it's phased out . You may choose new target creature on a creature that creature spell . While attached to it had a permanent for its owner's color and only as long as copies of the\"},\n",
       " {'index': 49823,\n",
       "  'prompt': '[start] <THEMES> Damage , Creature , Attacking , Land Mine Tokens , Artifact Based , Flip a Coin , Flying , Sacrifice , R Color , Warrior , {1} {R} Cost , Creature Based , Goblin , R Identity , Upkeep , Tokens <CARD_NAME> <name> <MANA_COST> {1} {R} <TYPE_LINE> Creature — Goblin Warrior <ORACLE_TEXT> At the beginning of your upkeep , create a colorless artifact token named Land Mine with {R} , Sacrifice this artifact : This artifact deals 2 damage',\n",
       "  'generated_text': \"[start] <THEMES> Damage , Creature , Attacking , Land Mine Tokens , Artifact Based , Flip a Coin , Flying , Sacrifice , R Color , Warrior , {1} {R} Cost , Creature Based , Goblin , R Identity , Upkeep , Tokens <CARD_NAME> <name> <MANA_COST> {1} {R} <TYPE_LINE> Creature — Goblin Warrior <ORACLE_TEXT> At the beginning of your upkeep , create a colorless artifact token named Land Mine with {R} , Sacrifice this artifact : This artifact deals 2 damage to target creature with three wish counters on it . \\\\n Whenever you cast a creature spell , flip a coin counters are flip , you may flip an artifact in addition to its other types and sacrifice <POWER> 2 <TOUGHNESS> 1 < 3 < 0 < 2 red Monkey , 3 colorless Monkey artifact creature token with flying named Crown of Kher Keep ofTOUGHNESS>'s Coil Tokens and a 4 < 4 4 red Devil Warrior artifact with decayed , haste . If you lose the flip or greater , sacrifice it at least one of the next end of combat . Activate only as a sorcery . <LOYALTY> 3 or more artifacts and only during your next turn , < creates a 5 5 < 1 1 red Dragon artifact tokens with\"},\n",
       " {'index': 36434,\n",
       "  'prompt': '[start] <THEMES> Scout , Creature , GW Color , GW Identity , Human , {G} {W} Cost , Protection <CARD_NAME> <name> <MANA_COST> {G} {W} <TYPE_LINE> Creature — Human Scout <ORACLE_TEXT> Protection from black',\n",
       "  'generated_text': \"[start] <THEMES> Scout , Creature , GW Color , GW Identity , Human , {G} {W} Cost , Protection <CARD_NAME> <name> <MANA_COST> {G} {W} <TYPE_LINE> Creature — Human Scout <ORACLE_TEXT> Protection from black \\\\n {3} : Look at the top four cards of your library . You may reveal a permanent card from among them and put it into your hand . Put the rest on the bottom of the next end step . \\\\> has protection from the draft a card type in a booster pack , <POWER> 2 <TOUGHNESS> 1 < 2 ( You can't have protection , protection named <LOYALTY> 3 < 9 < 11 < 13 < 5 <15} as long as you control three or more creatures with total power 8 < higher , annihilator , indestructible , wither , rounded down , and you can attack you and your opponents can be blocked , among any number of those players can block or planeswalkers you may activate spells with the same name as though they had protection . ) < reduce your next turn and only once each turn . < targeted , or permanents that player can activate those creatures without paying their opponents control unless their next untap during that aren't be prevented this\"},\n",
       " {'index': 59429,\n",
       "  'prompt': '[start] <THEMES> Creature , {W} Cost , Soldier , W Color , Creature Based , Nomad , Kor , W Identity <CARD_NAME> <name> <MANA_COST>',\n",
       "  'generated_text': \"[start] <THEMES> Creature , {W} Cost , Soldier , W Color , Creature Based , Nomad , Kor , W Identity <CARD_NAME> <name> <MANA_COST> {G} <TYPE_LINE> Snow Creature — Kor Soldier <ORACLE_TEXT> When <> enters , choose one — \\\\n Target creature gets 1 1 until end of turn . \\\\> becomes the chosen color . <POWER> 1 <TOUGHNESS> 2 < 1 (TOUGHNESS>'s power 1TOUGHNESSnTOUGHNESS them 2 ( Tap any number of untapped creatures you control with total power 2 or more creatures with power 3 <LOYALTY> 0 < 3 or less < 9 < 2 creatures your opponents control to the other creatures named < Szat ,TOUGHNESS Azra , rounded down as a sorcery , and up to one without , 13 < stun counter <-out Counters , then put two stun counters on each of those creatures . ) < pile . ( If a creature with a stun Counters < does , remove a permanent with one or being attacked this turn would become untapped , they control can't untap during its owner's untap step , put on it instead . If it doesn't have a shield counter on them . They become blocked by a Sliver of them and it can be put into a\"},\n",
       " {'index': 83320,\n",
       "  'prompt': '[start] <THEMES> Indestructible , Food , {W} Cost , Food Tokens , W Color , Creature Based , Gift , Instant , W Identity <CARD_NAME> <name> <MANA_COST> {W} <TYPE_LINE> Instant <ORACLE_TEXT> Gift a Food ( You may promise an opponent a gift as you cast this spell . If you',\n",
       "  'generated_text': \"[start] <THEMES> Indestructible , Food , {W} Cost , Food Tokens , W Color , Creature Based , Gift , Instant , W Identity <CARD_NAME> <name> <MANA_COST> {W} <TYPE_LINE> Instant <ORACLE_TEXT> Gift a Food ( You may promise an opponent a gift as you cast this spell . If you do , they draw a card before its other effects . It's an artifact with {2} , Sacrifice this artifact : Draw a third of their choice . ) \\\\n Target creature gets 1 1 until end of turn . \\\\ Target player reveals their hand . You choose a nonland card from it . That player draws a cards equal to the number of cards revealed this way . Then that card's mana value is greater than the revealed . Create a number and its toughness is equal or equal . Otherwise , its power is its mana cost . ( To investigate , create a Clue token . A Counters , a Treasure token's a second card , then put a 1 2 white Citizen creature token and a copy of the gift . Players may cast that spell's tapped and you may activate an additional time for each spell from the copy without paying its owner's exiled card they control that shares a permanent that died this turn for\"},\n",
       " {'index': 109328,\n",
       "  'prompt': \"[start] <THEMES> Bushido , W Identity , Creature , Samurai , {1} {W} {W} Cost , W Color , Defender , Fox , Legendary <CARD_NAME> <name> <MANA_COST> {1} {W} {W} <TYPE_LINE> Legendary Creature — Fox Samurai <ORACLE_TEXT> Defender ( This creature can't attack . ) \\\\n Bushido 1 ( Whenever this creature blocks or becomes blocked , it gets 1 1 until end of turn . ) \\\\n {T} : The next time a source of your choice would deal damage this turn , that damage is dealt to <name> instead . \\\\n {1} {W} : Prevent the next 1 damage that would be dealt to <name> this\",\n",
       "  'generated_text': \"[start] <THEMES> Bushido , W Identity , Creature , Samurai , {1} {W} {W} Cost , W Color , Defender , Fox , Legendary <CARD_NAME> <name> <MANA_COST> {1} {W} {W} <TYPE_LINE> Legendary Creature — Fox Samurai <ORACLE_TEXT> Defender ( This creature can't attack . ) \\\\n Bushido 1 ( Whenever this creature blocks or becomes blocked , it gets 1 1 until end of turn . ) \\\\n {T} : The next time a source of your choice would deal damage this turn , that damage is dealt to <name> instead . \\\\n {1} {W} : Prevent the next 1 damage that would be dealt to <name> this way , prevent that source's controller . <POWER> 2 <TOUGHNESS> 1 < 2 \\\\ \\\\> 3 < 1 \\\\ Doctor's companion ( You can have two commanders if both have partner . The party . Other Knights and only if <LOYALTY> 4 < dungeon , creatures with defender . It's blessing for the other Knights , and or more tokens you control also have defender can attack as a group . This ability can be blocked as though they don't have exalted . Each creature with total power 2\"},\n",
       " {'index': 47819,\n",
       "  'prompt': '[start] <THEMES> Creature , {4} {B} Cost , Lifegain , BG Identity , B Color , Zombie , Plant <CARD_NAME>',\n",
       "  'generated_text': \"[start] <THEMES> Creature , {4} {B} Cost , Lifegain , BG Identity , B Color , Zombie , Plant <CARD_NAME> <name> , Guest <MANA_COST> {3} <TYPE_LINE>> this creature enters tapped . \\\\n When this enters , you may put a sticker on it . When you do , each opponent loses X life and you gain X damage , where X is the number of unique vowels are revealed this way . ( To forage , exile X plus the top X cards of your library , then put X 1 1 counters on an opponent may play one with X time counters equal to the greatest mana value among those cards on them on that player's hand . ) <POWER> 3 <TOUGHNESS> 4 <ORACLE_TEXT> 5 < 2 <LOYALTY> 2 (TOUGHNESS>'s power 4 or more than three untapped Zombie spells you cast this spell from among artifacts and only if < partner . < higher , < lost the other than a permanent spells would leave the battlefield . If a source would die , remove a 1 < would be put into a graveyard from anywhere , put on the game . Each opponent sacrifices a stun counter on < lose the command zone or suspended , prevent that many 1 0 1 Counters ,\"},\n",
       " {'index': 21319,\n",
       "  'prompt': '[start] <THEMES> {4} {G} {G} Cost , Vigilance , G Identity , Trample , G Color , Creature Based , Sorcery , Combat Damage , Melee , Card Draw <CARD_NAME> <name> <MANA_COST> {4} {G} {G} <TYPE_LINE> Sorcery <ORACLE_TEXT> Each creature you control gains vigilance , trample , and melee until end of turn . ( Whenever',\n",
       "  'generated_text': \"[start] <THEMES> {4} {G} {G} Cost , Vigilance , G Identity , Trample , G Color , Creature Based , Sorcery , Combat Damage , Melee , Card Draw <CARD_NAME> <name> <MANA_COST> {4} {G} {G} <TYPE_LINE> Sorcery <ORACLE_TEXT> Each creature you control gains vigilance , trample , and melee until end of turn . ( Whenever a creature with melee attacks , it gets 1 1 until your next turn for each opponent you attacked this combat . Then you may have it gains the same power . When you do , add its power to target creature that player controls . ) \\\\n Rebound ( If you cast this spell from exile from your hand , exile it as it resolves . At the beginning of your upkeep , you lose life equal to its mana value rather than its toughness . Whenever that creature deals combat damage to a player , its controller may cast that card from the top of their library for its owner's library , then they draw a card . If they don't put it's a 1 life this way , <POWER> 4 <TOUGHNESS> 3 <LOYALTY> 2 < 9 < does , prevent all other into their hand . \\\\ Entwine , all creatures you don\"},\n",
       " {'index': 48520,\n",
       "  'prompt': '[start] <THEMES> Counterspell , {U} {U} Cost , U Identity , Creature Based , U Color , Instant <CARD_NAME> <name> <MANA_COST> {U} {U} <TYPE_LINE> Instant <ORACLE_TEXT> Counter target creature spell',\n",
       "  'generated_text': \"[start] <THEMES> Counterspell , {U} {U} Cost , U Identity , Creature Based , U Color , Instant <CARD_NAME> <name> <MANA_COST> {U} {U} <TYPE_LINE> Instant <ORACLE_TEXT> Counter target creature spell unless its controller pays {2} . If that spell is countered this way , exile it instead of putting it into its owner's graveyard as though it resolves . ( That player plays it phases out before its activated abilities pays for {1} more to pay its upkeep cost if it's phased out , it doesn't exist . ) \\\\n Tap target permanent an opponent controls and all other creatures that player controls . Those permanents they control that phased-out Counters , then reveals the top or bottom of their library . The player returns each creature they own exiled this turn that card they reveal it to the battlefield under their owners' untap step . That creature is a creature that pile , its owners shuffle that doesn block that creature's treated as long as it had a group . \\\\ Splice , all spells they don't untap symbol . Then if their controller may activate an Island and only if there are declared . <POWER> 1 <TOUGHNESS> 0 <LOYALTY> 2 < upkeeps , there is\"},\n",
       " {'index': 46566,\n",
       "  'prompt': \"[start] <THEMES> Explore , Scout , Creature , {X} {G} Cost , G Identity , Merfolk , G Color <CARD_NAME> <name> <MANA_COST> {X} {G} <TYPE_LINE> Creature — Merfolk Scout <ORACLE_TEXT> When <name> enters , it explores X times . ( To have it explore , reveal the top card of your library . Put that card into your hand if it's a land\",\n",
       "  'generated_text': \"[start] <THEMES> Explore , Scout , Creature , {X} {G} Cost , G Identity , Merfolk , G Color <CARD_NAME> <name> <MANA_COST> {X} {G} <TYPE_LINE> Creature — Merfolk Scout <ORACLE_TEXT> When <name> enters , it explores X times . ( To have it explore , reveal the top card of your library . Put that card into your hand if it's a land . Otherwise , put a 1 1 counter on this creature , then put the card back or put it into the battlefield face down as a 2 2 creature card . Turn it face up any time counter of a creature on that creature . ) \\\\n {3} , <POWER> 0 <TOUGHNESS> 1 < 2 < 1 ( You may have thisTOUGHNESS>'s power 3 <LOYALTY> 2 other Merfolk creature 1 another Merfolk and it 0 \\\\> 3 ( Tap any number of untapped Merfolk you control with total power 1 0 or more Merfolk Wizard < unpaired creature you have partner . < another Role on it : This Mount , where X is the creature can't untap during its power 2 or less . Saddle , rounded up to another Ally Tokens , and put three other into a Merfolk . If you may\"},\n",
       " {'index': 27460,\n",
       "  'prompt': '[start] <THEMES> B Identity , 1 1 Counters , Creature , Kicker , Skeleton , {B} Cost , B Color , Regenerate <CARD_NAME> <name> <MANA_COST> {B} <TYPE_LINE> Creature — Skeleton <ORACLE_TEXT> Kicker {3} ( You may pay an additional {3} as you cast this spell . ) \\\\n {B} : Regenerate <name> . \\\\n If <name> was kicked , it enters with a 1 1 counter on it',\n",
       "  'generated_text': \"[start] <THEMES> B Identity , 1 1 Counters , Creature , Kicker , Skeleton , {B} Cost , B Color , Regenerate <CARD_NAME> <name> <MANA_COST> {B} <TYPE_LINE> Creature — Skeleton <ORACLE_TEXT> Kicker {3} ( You may pay an additional {3} as you cast this spell . ) \\\\n {B} : Regenerate <name> . \\\\n If <name> was kicked , it enters with a 1 1 counter on it for each creature with shadow counter put on them . ( A creature without flanking counter can block it can't be blocked by only creatures with flanking . Whenever a creature , remove a shadow counters from it . If a permanent with blocking creature has no longer renowned , put a -1 -X} , that creature into its owner's graveyard from <POWER> 1 <TOUGHNESS> 2 < 1 black Skeleton creature < 2 \\\\> 0 < 0 \\\\ \\\\ ) <LOYALTY> 3 < 5 < 3 ( Tap up to two untapped Skeleton you control with flying . < long as < Finality Counters <-Demon creature named < 11 Counters from a Swamp . It has flying and or more Swampwalk , and with fear , Remove a stun counter from this creature : Monstrosity 1\"},\n",
       " {'index': 87841,\n",
       "  'prompt': '[start] <THEMES> {3} {G} {G} Cost , Creature , Attacking , G Identity , Trample , Elk , G Color , Creature Based , Formidable <CARD_NAME> <name> <MANA_COST> {3} {G} {G} <TYPE_LINE> Creature — Elk <ORACLE_TEXT>',\n",
       "  'generated_text': \"[start] <THEMES> {3} {G} {G} Cost , Creature , Attacking , G Identity , Trample , Elk , G Color , Creature Based , Formidable <CARD_NAME> <name> <MANA_COST> {3} {G} {G} <TYPE_LINE> Creature — Elk <ORACLE_TEXT> Formidable — Whenever < attacks , if creatures you control have total power 8 or greater , target creature you don't control gets 5 5 and gains trample until end of turn . \\\\n Formidable , {2} : Target attacking creature gets 3 3 and gets trample and can't block this turn as long as there are four or more than one creature is your graveyard . <POWER> 4 <TOUGHNESS> 3 < 6 < 5 < 4TOUGHNESS>'s power 6 ( Tap any number of creatures your opponents control with total number 8 <LOYALTY> 8 as you've rolled doubles ,TOUGHNESS them 5 or total mana value 8 — 19 < 9 < 8 (TOUGHNESSn < 11 Counters < unpaired creature also get more 8 8 \\\\> 6 \\\\ Saddle , rounded up to three other creatures can be blocked by creatures with different powers . This Mount , where X is 5 ( You can attack your commander as though they control also cause you activate loyalty counters\"},\n",
       " {'index': 34993,\n",
       "  'prompt': '[start] <THEMES> N Identity , 1 1 Counters , Creature , Kicker , Flying , Gargoyle , Defender , Artifact , N Color , {3} Cost <CARD_NAME> <name> <MANA_COST> {3} <TYPE_LINE> Artifact Creature — Gargoyle <ORACLE_TEXT> Kicker {4} ( You may pay an additional {4} as you cast this spell . ) \\\\n Flying , defender \\\\n If <name> was kicked , it enters with two 1 1 counters on it . \\\\n As long as <name> has a 1 1 counter on it , it can attack as though it',\n",
       "  'generated_text': \"[start] <THEMES> N Identity , 1 1 Counters , Creature , Kicker , Flying , Gargoyle , Defender , Artifact , N Color , {3} Cost <CARD_NAME> <name> <MANA_COST> {3} <TYPE_LINE> Artifact Creature — Gargoyle <ORACLE_TEXT> Kicker {4} ( You may pay an additional {4} as you cast this spell . ) \\\\n Flying , defender \\\\n If <name> was kicked , it enters with two 1 1 counters on it . \\\\n As long as <name> has a 1 1 counter on it , it can attack as though it had flash . <POWER> 2 <TOUGHNESS> 1 < 3 < 2 ( Tap any number of creatures with flying < 6 <LOYALTY> 3TOUGHNESS>'s power 3 or more than two untapped creatures you control with defender < < 0 < 7 < 9 < stun counters < highest total number . Damage dealt by a player or less < 5 < LEVEL a creature with shadow Counters < 11 , rounded up . ( If a permanent with flanking blocks a stun counter would become untapped , remove all creatures without , prevent all instances of them . Each of those creatures it's phased out , and or destroyed , they control , that player divides that can't\"},\n",
       " {'index': 91988,\n",
       "  'prompt': '[start] <THEMES> Creature , Flying , {5} {W} Cost , W Color , Angel , Advisor , W Identity <CARD_NAME> <name> <MANA_COST> {5} {W} <TYPE_LINE> Creature — Angel Advisor <ORACLE_TEXT> This spell costs {1} less to cast for each Citizen you control . \\\\n',\n",
       "  'generated_text': \"[start] <THEMES> Creature , Flying , {5} {W} Cost , W Color , Angel , Advisor , W Identity <CARD_NAME> <name> <MANA_COST> {5} {W} <TYPE_LINE> Creature — Angel Advisor <ORACLE_TEXT> This spell costs {1} less to cast for each Citizen you control . \\\\n Flying <POWER> 3 <TOUGHNESS> 2 < 4 < 5 < 2 as long as you have no untapped lands . < 0 < 3 as < <LOYALTY> 4 as though it's untapped . ( You can't cause it to tap . ) <15} : < extra turn . Damage dealt to your opponents and permanents your choice can attack this turn and planeswalkers you or planeswalkers your team . Only your commander's phased out . While voting , it can help cast that player untaps during your next untap step . Each permanent they control gains flying and your upkeeps , and though they can activate abilities can be activated abilities . Activate only once each turn , or ability . You choose new targets for the copies of those permanents it . A Counters < higher mana of permanents can block that can choose already there is < stun counter . This ability unless their next turn for their controller's next attackers are declared . {\"},\n",
       " {'index': 122769,\n",
       "  'prompt': '[start] <THEMES> Creature , Flying , U Identity , {4} {U} {U} Cost , U Color , Spirit <CARD_NAME> <name> <MANA_COST> {4} {U} {U} <TYPE_LINE> Creature — Spirit <ORACLE_TEXT> Flying \\\\n Whenever <name> becomes',\n",
       "  'generated_text': \"[start] <THEMES> Creature , Flying , U Identity , {4} {U} {U} Cost , U Color , Spirit <CARD_NAME> <name> <MANA_COST> {4} {U} {U} <TYPE_LINE> Creature — Spirit <ORACLE_TEXT> Flying \\\\n Whenever <name> becomes the target of a spell or ability an opponent controls , counter that spell unless that player pays {2} . <POWER> 3 <TOUGHNESS> 4 < 4 \\\\> 5 < 3 ( You can't lose theTOUGHNESS>'s power of any number of spells and or more than the total mana value of Dragons you control with flying . ) <LOYALTY> 6 < 9 < 5 \\\\6} : < 6 \\\\ \\\\ total power 7 < 8 < 7 \\\\ Saddle 2 ( Tap any target permanents your opponents control . This Mount — < loses flying and dealt combat damage to their opponents , rounded down . It can be blocked as though they don't exist until end of turn . Saddle 1 1 < Soulshift 6 ( Choose any time for the entwine cost . When this spell . Each instance of permanents and only once each turn and each spell cast those permanents you've completed a sorcery card in the other than yours , commander . While voting\"},\n",
       " {'index': 89593,\n",
       "  'prompt': '[start] <THEMES> Damage , R Color , {3} {R} Cost , Sorcery , R Identity , Arcane <CARD_NAME> <name> <MANA_COST> {3} {R} <TYPE_LINE> Sorcery — Arcane <ORACLE_TEXT> <name> deals damage to any target equal to the',\n",
       "  'generated_text': \"[start] <THEMES> Damage , R Color , {3} {R} Cost , Sorcery , R Identity , Arcane <CARD_NAME> <name> <MANA_COST> {3} {R} <TYPE_LINE> Sorcery — Arcane <ORACLE_TEXT> <name> deals damage to any target equal to the number of Mountains you control to target player or that player controls . If you weren't the starting player , the first player reveals cards in the top of their library until they reveal a nonland card , <POWER> 4 <TOUGHNESS> 2 <LOYALTY> 3 < 4 ,TOUGHNESS>'s intensity 1 < 3 — 19 < 11 < 7 < 9 < 6 < 20 < 12 < 5 < 13 < with 20 . ( When you next cast an extra turn , copy it and you may choose a new targets for the copy without paying its mana cost . ) < Prevent the spell cast that spell twice each spell becomes plotted , except it deals 5 damage equal or the total mana value of those spells you choose among any number . Those players can't change that weren kicked that card's colors . < removed , or planeswalkers they may cast this way that would be spent to cast spells and < be regenerated . That player and each additional time this turn .\"},\n",
       " {'index': 84939,\n",
       "  'prompt': '[start] <THEMES> 1 1 Counters , Creature , Enchantment , Soldier , Lifegain , Human , W Color , Creature Based , {4} {W} {W} Cost , W Identity <CARD_NAME> <name> <MANA_COST>',\n",
       "  'generated_text': \"[start] <THEMES> 1 1 Counters , Creature , Enchantment , Soldier , Lifegain , Human , W Color , Creature Based , {4} {W} {W} Cost , W Identity <CARD_NAME> <name> <MANA_COST> {7}} When <TYPE_LINE> enters , choose one — \\\\n Put a 1 counter on target creature . \\\\ \\\\ Target creature you control gets 2 2 until end of turn . You gain life for each 1 life you gained this turn if it has a creature with a number of 1 counters on it this way . Otherwise , put a counter of each creature that died this combat damage on the chosen this game . <POWER> 4 <TOUGHNESS> 5 <ORACLE_TEXT> 3 <LOYALTY> 6 < < 1 < 3 \\\\> 2 < 5 \\\\6} : < 4 4 white Human Soldier creature < 6 ( You can't be dealt to gain that much life . ) < Create two 1 white Soldier creatures . This ability lasts indefinitely , and can block creatures can help cast < gain flying . If < lost life , prevent the targets of those creatures without , remove all other than < already there are blocking or more than one of the same is the city's Pridemate of them . ( Your opponents ,\"},\n",
       " {'index': 9358,\n",
       "  'prompt': '[start] <THEMES> Scout , Creature , Rebel , {2} {W} {W} Cost , Flying , Human , W Color , Protection , W Identity <CARD_NAME> <name>',\n",
       "  'generated_text': \"[start] <THEMES> Scout , Creature , Rebel , {2} {W} {W} Cost , Flying , Human , W Color , Protection , W Identity <CARD_NAME> <name>> {3}} <TYPE_LINE> Creature — Human Rebel Scout <ORACLE_TEXT> Protection from black <POWER> 2 <TOUGHNESS> 1 < 2 first strike , protection from red < 3 < 1 as long as you control a Swamp , from white and from blue <LOYALTY> 3 your opponents control < 4 < 5 < 7 < extra turn . < 0 < 9 < though it had protection on it has protection < 11 Counters , first . \\\\n {1} : < lose protection protection exiled card without flying until end of turn and protection until < turn , then prevent all damage that would be dealt to < as though they didn't have protection , or remove all spells that were prevented this turn can't be cast from spells this way . ( This effect lasts indefinitely . ) < targeted , targeted a spell's costs {X} more than one mana from a sorcery spell or abilities from colorless source . Activate only if there are declared . This ability triggers only once each turn is prevented . You can be prevented , the spell can activate that target a source\"},\n",
       " {'index': 79840,\n",
       "  'prompt': '[start] <THEMES> {2} {U} {U} Cost , Powerstone Tokens , Scry , Artifact Based , Construct Tokens , U Identity , Creature Based , U Color , Tokens , Instant , Card Draw <CARD_NAME> <name> <MANA_COST> {2} {U} {U} <TYPE_LINE> Instant <ORACLE_TEXT>',\n",
       "  'generated_text': \"[start] <THEMES> {2} {U} {U} Cost , Powerstone Tokens , Scry , Artifact Based , Construct Tokens , U Identity , Creature Based , U Color , Tokens , Instant , Card Draw <CARD_NAME> <name> <MANA_COST> {2} {U} {U} <TYPE_LINE> Instant <ORACLE_TEXT> Scry 2 , then draw two cards , where X is the number of cards in your hand . \\\\n Draw a card . Then if an opponent has eight or more cards were milled this way , scry 2 . ( To scry 1 , create a tapped Powerstone token . It's an artifact with {T} : Add {C} . This mana can't be spent to cast a nonartifact , Sacrifice this artifact : Draw two card , or {1} , {Q} ( It transforms into a permanent . A copy of any number . ) \\\\> : Scry 1 . If the sacrificed artifact entered this turn , draw a nonland card's a number is an Incubator Phyrexian artifact creature , except they're artifacts and or creature's power and its toughness is equal to the greatest power . Scry 3 . Each player loses all but don't untap during their untap step . <POWER> 2 <TOUGHNESS> 3 <\"},\n",
       " {'index': 83227,\n",
       "  'prompt': '[start] <THEMES> Scry , G Identity , Tutor , G Color , Sorcery , {2} {G} Cost , Flashback <CARD_NAME> <name> <MANA_COST> {2} {G} <TYPE_LINE> Sorcery <ORACLE_TEXT>',\n",
       "  'generated_text': \"[start] <THEMES> Scry , G Identity , Tutor , G Color , Sorcery , {2} {G} Cost , Flashback <CARD_NAME> <name> <MANA_COST> {2} {G} <TYPE_LINE> Sorcery <ORACLE_TEXT> Search your library for up to three basic land cards , reveal them , put them into your hand , then shuffle . \\\\n Flashback {1} ( You may cast this card from your graveyard for its flashback cost . Then exile it . ) \\\\ Flashback — {4} less to two other cards from among cards named <POWER> 2 <TOUGHNESS> 1 <LOYALTY> 3 < 9 < 6 < 13 < 3 \\\\ Lizard Druid < 5 < 2 as long as there are five or more card types among any number of card's power among them onto the battlefield . ( Choose both if there is your commander . You can have cast them . If you do , change target in your opponents can't have total mana from exile this turn . Cast it this spell from a later turn for their graveyard . A copy of a sorcery . Put that card into a 1 1 counter on a random order . It gains haste . Exile it at the beginning of the next end step . Transmute , you may play the\"},\n",
       " {'index': 22431,\n",
       "  'prompt': \"[start] <THEMES> B Identity , {1} {B} Cost , B Color , Sorcery <CARD_NAME> <name> <MANA_COST> {1} {B} <TYPE_LINE> Sorcery <ORACLE_TEXT> If you weren't\",\n",
       "  'generated_text': \"[start] <THEMES> B Identity , {1} {B} Cost , B Color , Sorcery <CARD_NAME> <name> <MANA_COST> {1} {B} <TYPE_LINE> Sorcery <ORACLE_TEXT> If you weren't the starting player , you may pay any amount of mana . If a player does , choose a nonland card name other than pay that player . That player reveals their hand and exile a card with the chosen name . Otherwise , then that name can't chosen card . You may play that card for as long as it remains exiled , and you choose one of those cards . Then that opponent discards that weren tempts you put it into their graveyard . \\\\n Each opponent loses 1 life for each card exiled with <POWER> 1 <TOUGHNESS> 2 <LOYALTY> 3 < 2 as though it 3 black Demon with When < long long you have no mana from < higher mana value 2 or less life , put on it . < emblem with haste that creature shuffles , return it to its owner's hand . ( You can be regenerated . ) < Create a copy of the encoded on a Cursed Tokens < extra turn after there are copies of a corruption Counters , except by a Wicked Cursed Cursed Role on < does < pile ,\"},\n",
       " {'index': 70010,\n",
       "  'prompt': '[start] <THEMES> Creature , Backup , G Identity , Warrior , G Color , Deathtouch , {2} {G} Cost , Elf <CARD_NAME> <name> <MANA_COST> {2} {G} <TYPE_LINE> Creature — Elf Warrior <ORACLE_TEXT> Backup 1 (',\n",
       "  'generated_text': \"[start] <THEMES> Creature , Backup , G Identity , Warrior , G Color , Deathtouch , {2} {G} Cost , Elf <CARD_NAME> <name> <MANA_COST> {2} {G} <TYPE_LINE> Creature — Elf Warrior <ORACLE_TEXT> Backup 1 ( When this creature enters , put a 1 1 counter on target creature . If that's another creature , it gains the following ability until end of turn . It gains greater , until the next turn for each backup ability . Each backup 1 damage equal to its power . ) \\\\n Backup 2 or greater gains your second . ( Whenever this ability triggers separately . When the creature becomes the target of a creature spell or ability an opponent controls , counter it gets 1 0 until your next time this turn , that creature gets a poison counter . A Counters , they lose the game for the first time counter of it . Otherwise , remove a counter from it at the beginning of the end step . <POWER> 2 <TOUGHNESS> 3 < 1 < 2 as long as <LOYALTY> 1 white Elf Knight creature tokens that entered this way . \\\\> 4 < 6 < < Double Strike , prevent all damage that would be dealt to it has deathtouch until < Untap it and a\"},\n",
       " {'index': 95568,\n",
       "  'prompt': \"[start] <THEMES> BG Color , Indestructible , Snake Tokens , Creature , God , Enchantment , {1} {B} {G} Cost , Enchantment Based , Creature Based , BG Identity , Deathtouch , Tokens , Legendary , Devotion <CARD_NAME> <name> <MANA_COST> {1} {B} {G} <TYPE_LINE> Legendary Enchantment Creature — God <ORACLE_TEXT> Indestructible \\\\n As long as your devotion to black and green is less than seven , <name> isn't a creature . \\\\n {B} {G} : Exile target creature card from a graveyard .\",\n",
       "  'generated_text': \"[start] <THEMES> BG Color , Indestructible , Snake Tokens , Creature , God , Enchantment , {1} {B} {G} Cost , Enchantment Based , Creature Based , BG Identity , Deathtouch , Tokens , Legendary , Devotion <CARD_NAME> <name> <MANA_COST> {1} {B} {G} <TYPE_LINE> Legendary Enchantment Creature — God <ORACLE_TEXT> Indestructible \\\\n As long as your devotion to black and green is less than seven , <name> isn't a creature . \\\\n {B} {G} : Exile target creature card from a graveyard . If it's a land card , you may cast it this card and you lose 1 life . ( If you cast this mana from your graveyard for its mana cost , it costs {3} less to cast if it has no loyalty counters on it . ) \\\\ \\\\ {2} , Exile a God creature you control : Create a 3 3 black Snake creature token with deathtouch counter on <POWER> 2 <TOUGHNESS> 4 black Skeleton creature tokens with indestructible counter from among all enchantment cards in addition to their other types and or Saprolings . It has deathtouch . Tap them . <LOYALTY> 3 < creates a green Snake Pirate creature named < 5 5 < long\"},\n",
       " {'index': 32087,\n",
       "  'prompt': '[start] <THEMES> Indestructible , Lifegain , W Color , Creature Based , Hexproof , {1} {W} Cost , Instant , W Identity <CARD_NAME> <name> <MANA_COST> {1} {W} <TYPE_LINE> Instant <ORACLE_TEXT> All creatures gain hexproof and indestructible until end of turn . Players gain hexproof until end of turn .',\n",
       "  'generated_text': \"[start] <THEMES> Indestructible , Lifegain , W Color , Creature Based , Hexproof , {1} {W} Cost , Instant , W Identity <CARD_NAME> <name> <MANA_COST> {1} {W} <TYPE_LINE> Instant <ORACLE_TEXT> All creatures gain hexproof and indestructible until end of turn . Players gain hexproof until end of turn . You gain life equal to that creature's toughness . ( A creature with hexproof can't be the targets of spells or abilities your opponents control . Damage and effects that say destroy don't destroy that player . A permanent with the chosen creature . ) \\\\n Learn . If you cast a spell from your hand , you gain 2 life . Then you may reveal the top two cards of your library . Put one of them into your graveyard on the bottom of their library in a random order . Otherwise , then shuffle . This ability triggers only if you gained life this way , there are a sorcery . <POWER> 1 <TOUGHNESS> 2 <LOYALTY> 3 <15} less . \\\\> 4 < chaos Counters , lifelink , < can be your life total becomes a source of a white , and your devotion to < 9 < emblem with flying , protection from white Bird with Hexproof from among creatures you\"},\n",
       " {'index': 21417,\n",
       "  'prompt': '[start] <THEMES> {6} {G} Cost , Creature , G Identity , Artifact Based , Trample , Human , G Color , Creature Based , Phyrexian Golem Tokens , Artificer , Tokens , Phyrexian <CARD_NAME> <name> <MANA_COST>',\n",
       "  'generated_text': \"[start] <THEMES> {6} {G} Cost , Creature , G Identity , Artifact Based , Trample , Human , G Color , Creature Based , Phyrexian Golem Tokens , Artificer , Tokens , Phyrexian <CARD_NAME> <name> <MANA_COST>2}}2/G/P} <TYPE_LINE> Creature — Phyrexian Human Artificer <ORACLE_TEXT> ( {R/W/U/B/ paid with either {B} or 2 life . ) \\\\n When <POWER> 7 <TOUGHNESS> 5 < 9 < 4 < 7 \\\\> 6 < 5 ( You get two poison counters and or more poison counter <LOYALTY> 3 < 11 for artifacts with different names and up to oneTOUGHNESS>'s power of toxic 1 < 13 < 6 ( Tap any number of creatures you control with total power 10 or greater with flying . Each of poison Counters ,TOUGHNESSn 10 — 19 , two or players , then give each another target artifact , creature . Those permanents they control into the form of them gets -1 -2 -0} can't be blocked this turn . Exile up tails , be regenerated . When you can attack this way can be put into a creature with power 2 or less than or planeswalker . A Counters < creates a\"},\n",
       " {'index': 60589,\n",
       "  'prompt': '[start] <THEMES> {W} Cost , Flying , W Color , Creature Based , Instant , W Identity <CARD_NAME> <name> <MANA_COST> {W} <TYPE_LINE> Instant <ORACLE_TEXT> Target creature gets 1 3 and gains flying until end of',\n",
       "  'generated_text': \"[start] <THEMES> {W} Cost , Flying , W Color , Creature Based , Instant , W Identity <CARD_NAME> <name> <MANA_COST> {W} <TYPE_LINE> Instant <ORACLE_TEXT> Target creature gets 1 3 and gains flying until end of turn . ( It can't be blocked except by creatures with flying or reach . ) \\\\n Fateful hour — If you control a creature with mana value 3 or less , you may pay {1} {B} rather than pay this spell's mana cost . If the player does , return <POWER> 1 <TOUGHNESS> 2 <LOYALTY> 3 < 4 < 3 \\\\> 4 ( You may tap two untapped white and or more than two target creatures you don't control with total power 4 or greater . Each clashing player who does the gift was promised , and each creature that player discards a card . A Counters , then give each player returns that card from their hand . < creates a second card without paying its owner's hand without flying can activate that pile . Embalm , 13 < Create a 0 < emblem with those creatures that convoked < higher mana only as though they don sickness . \\\\ Foretell , commander . It's blessing for each instance of those tokens created this turn for\"},\n",
       " {'index': 49735,\n",
       "  'prompt': '[start] <THEMES> Creature , Warlock , G Identity , Lifegain , Human , G Color , {3} {G} Cost <CARD_NAME> <name> <MANA_COST> {3} {G} <TYPE_LINE> Creature — Human Warlock <ORACLE_TEXT> When <name> enters , you gain 3 life . \\\\n {T} : Add',\n",
       "  'generated_text': \"[start] <THEMES> Creature , Warlock , G Identity , Lifegain , Human , G Color , {3} {G} Cost <CARD_NAME> <name> <MANA_COST> {3} {G} <TYPE_LINE> Creature — Human Warlock <ORACLE_TEXT> When <name> enters , you gain 3 life . \\\\n {T} : Add {C} for each color among permanents you control . <POWER> 2 <TOUGHNESS> 3 < 1 < 3 ( You gain life total mana value 1 you gained this way and effects that say destroy don't destroy it . ) <LOYALTY> 4 < 2 you also causes you to gain that much life instead . Damage dealt to < prevented this turn . ( Each of up to two untapped tokens you both if {B} was spent to cast it from a kicked , put into its owner's graveyard from anywhere else . This ability costs {1} less to pay {R} to activate during your next turn for the entwine , then shuffle . Each instance of those permanents your opponents can't cause the rest on the battlefield . If you pay the city's next draw step , it was paid its controller loses 2 life equal to the game . Transmute , each opponent loses the other effects to its\"},\n",
       " {'index': 35382,\n",
       "  'prompt': '[start] <THEMES> B Identity , Creature , Creature Based , {1} {B} Cost , B Color , Combat Damage , Insect <CARD_NAME> <name>',\n",
       "  'generated_text': \"[start] <THEMES> B Identity , Creature , Creature Based , {1} {B} Cost , B Color , Combat Damage , Insect <CARD_NAME> <name> , creatures your opponents control can't be blocked by creatures with power 2 or less . <MANA_COST> {4} <TYPE_LINE> Creature — Insect creature can block <ORACLE_TEXT> Whenever <POWER> 2 <TOUGHNESS> 1 < 3 < 1TOUGHNESS>'s power 3 (TOUGHNESSn < 6 < 9 <LOYALTY> 4 < 5 < 11 < 8 < 7 < 2TOUGHNESS them 3 \\\\n 6 ( Tap any number ofTOUGHNESS control with total power 8 or more creatures you control named < 4 or greater named defending player controls as you cast this spell . ) < can be put into a graveyard from anywhere other than you , except by two or fewer than two other creatures . Those creatures can attack this turn . \\\\> 6 \\\\ only if <> is 7 or black creatures that have total number is odd , tap all creatures defending opponent controls that can have partner . ( This spell's untap during your next untap step . Each of those creatures would be dealt combat damage . A player , those players , remove them . If a Sliver creatures it's controller , rounded up\"},\n",
       " {'index': 121292,\n",
       "  'prompt': '[start] <THEMES> B Identity , Creature , Tutor , Flying , {4} {B} {B} Cost , Demon , B Color , Berserker <CARD_NAME> <name> <MANA_COST> {4} {B} {B} <TYPE_LINE> Creature — Demon Berserker <ORACLE_TEXT> Flying \\\\n When <name> enters , you may search your library for exactly two cards not named <name> that have',\n",
       "  'generated_text': \"[start] <THEMES> B Identity , Creature , Tutor , Flying , {4} {B} {B} Cost , Demon , B Color , Berserker <CARD_NAME> <name> <MANA_COST> {4} {B} {B} <TYPE_LINE> Creature — Demon Berserker <ORACLE_TEXT> Flying \\\\n When <name> enters , you may search your library for exactly two cards not named <name> that have different names , reveal them , put them into your hand , then shuffle and put the rest on top of your graveyard . \\\\> gets 1 1 for each card in your turns . You may cast a spell named Chandra , and exile an artifact card from among cards exiled with <POWER> 3 <TOUGHNESS> 5 <LOYALTY> 4 < 7 < 5 \\\\ < 6 < 2 < 9 < 3 as long as you control three or more artifacts . < reduce your commander as < 8 < group . If you cast the spell this way , instead search their next turn , remove all cards in exile < instead . ( You can't lose the game . ) < lose life equal to the exiled card's mana value 8 life total mana as though they don't change the total number of any number to cast this spell's exiled\"},\n",
       " {'index': 83886,\n",
       "  'prompt': '[start] <THEMES> {5} {G} Cost , Creature , G Identity , G Color , Creature Based , Wolf , Melee <CARD_NAME> <name> <MANA_COST> {5} {G}',\n",
       "  'generated_text': \"[start] <THEMES> {5} {G} Cost , Creature , G Identity , G Color , Creature Based , Wolf , Melee <CARD_NAME> <name> <MANA_COST> {5} {G} <TYPE_LINE> Creature — Wolf <ORACLE_TEXT> Melee ( Whenever this creature attacks , it gets 1 1 until end of turn for each opponent you attacked this combat . ) \\\\n Whenever <POWER> 2 <TOUGHNESS> 4 < 5 < 2TOUGHNESS>'s power 2 green Wolf creature tokens with melee for theTOUGHNESS them 5 ( Tap any number of other creatures you control with total power 4 or more creatures with banding , then put two 1 or greater power 1 counters on it . Saddle , return it to the battlefield under their owner's control . It's also put a 1 0 or untap during its owner' control and it can't have melee . <LOYALTY> 3 < Saddle only as a sorcery . ( Choose which has multiple instances of them at least one of which's next untap step . A creature with rampage , and only if able . If a creature has melee counter would be blocked by a player is blocking or being blocked this turn , remove a permanent . To bolster , you may have it's blessing for its controller ,\"},\n",
       " {'index': 90198,\n",
       "  'prompt': '[start] <THEMES> Giant , Creature , G Identity , Food , Food Tokens , G Color , {3} {G} Cost , Reach , Tokens , Archer <CARD_NAME> <name> <MANA_COST> {3} {G} <TYPE_LINE> Creature — Giant Archer <ORACLE_TEXT> Reach',\n",
       "  'generated_text': \"[start] <THEMES> Giant , Creature , G Identity , Food , Food Tokens , G Color , {3} {G} Cost , Reach , Tokens , Archer <CARD_NAME> <name> <MANA_COST> {3} {G} <TYPE_LINE> Creature — Giant Archer <ORACLE_TEXT> Reach \\\\n When < enters , create a Food token . ( It's an artifact with {2} , Sacrifice this artifact : You gain 3 life . ) \\\\> gets 1 1 . \\\\ ) <POWER> 3 <TOUGHNESS> 4 < 2 < 3 ( You can block creatures with reach as long as you control three or more creatures . <LOYALTY> 5 < 9 Each Food tokens with flying as they control ten or fewer than two commanders if the other is the difference . Exile them at least two legendary cards you've completed Tomb of the next end step . Activate only as a sorcery . This ability triggers only once each turn . Damage wears off , it can't cause they can attack its controller loses life total amount of each combat . Each creature you tap it this turn if able . A Counters , and only if it's attacking a permanent dealt damage was dealt to the player controls would die this way can be destroyed this combat damage . Then\"},\n",
       " {'index': 73000,\n",
       "  'prompt': '[start] <THEMES> Creature , {2} {W} {W} Cost , Radiance , Human , Cleric , W Color , Creature Based , W Identity <CARD_NAME> <name> <MANA_COST> {2} {W} {W} <TYPE_LINE> Creature — Human Cleric <ORACLE_TEXT> Radiance — {T} : Prevent the next 1',\n",
       "  'generated_text': \"[start] <THEMES> Creature , {2} {W} {W} Cost , Radiance , Human , Cleric , W Color , Creature Based , W Identity <CARD_NAME> <name> <MANA_COST> {2} {W} {W} <TYPE_LINE> Creature — Human Cleric <ORACLE_TEXT> Radiance — {T} : Prevent the next 1 damage that would be dealt to target creature and each other creature that shares a color with it color word with another color of the most common color in your choice that color . Each of that creature with a creature gains all other creatures of all creatures with the chosen type with <POWER> 1 <TOUGHNESS> 2 < 0 < 1TOUGHNESS>'s power 2 ( You can haveTOUGHNESSn {5} as long as you control <LOYALTY> 3 < 9 < 4 < 3 Tap an untapped white < highest mana value 3 \\\\n < 5 < 2 — < Tap all untapped Kithkin Soldier creature named < You may choose not to untap during your untap step . < though it during the untap steps and only if < pays {1} was spent to have a sorcery . \\\\> 5 or less than seven or more creatures named Wolves of which has {3} , and can't untap < LEVEL\"},\n",
       " {'index': 28785,\n",
       "  'prompt': '[start] <THEMES> B Identity , {1} {B} Cost , Enchantment , B Color <CARD_NAME> <name> <MANA_COST> {1} {B} <TYPE_LINE> Enchantment <ORACLE_TEXT> Whenever an opponent discards a card , that player loses',\n",
       "  'generated_text': \"[start] <THEMES> B Identity , {1} {B} Cost , Enchantment , B Color <CARD_NAME> <name> <MANA_COST> {1} {B} <TYPE_LINE> Enchantment <ORACLE_TEXT> Whenever an opponent discards a card , that player loses 1 life . \\\\n {2} : Destroy target land or planeswalker with the same name as the highest mana value among cards in their graveyard . Activate only as a land card is revealed . ( That player controls a Swamp or a Forest or red . ) \\\\ Players can't change the target of spells or activate an ability of white mana ability . Any player may activate that color in addition to activate if they don't pay the spell's mana cost . If you do , remove that land from combat damage from the player discards it instead . Damage may choose a nonland card from a permanent or player to pay {3} . Each player who does , or that card . That land they may spend mana as though they can be prevented this turn . <POWER> 2 <TOUGHNESS> 1 <LOYALTY> 3 < 8 < 4 < 11 Counters < Tail Counters , and you don does < extra turn for each opponent to that spell . When < later turn instead of those tokens not a\"},\n",
       " {'index': 89733,\n",
       "  'prompt': '[start] <THEMES> 1 1 Counters , Creature , {1} {U} {U} Cost , Gain Control , U Identity , Evolve , Creature Based , Wizard , U Color , Mutant <CARD_NAME> <name> <MANA_COST> {1} {U} {U} <TYPE_LINE> Creature — Mutant Wizard <ORACLE_TEXT>',\n",
       "  'generated_text': '[start] <THEMES> 1 1 Counters , Creature , {1} {U} {U} Cost , Gain Control , U Identity , Evolve , Creature Based , Wizard , U Color , Mutant <CARD_NAME> <name> <MANA_COST> {1} {U} {U} <TYPE_LINE> Creature — Mutant Wizard <ORACLE_TEXT> Evolve ( Whenever a creature you control enters , if that creature has greater power or toughness than this creature , put a 1 counter on this permanent , then you may move a counter from this card . ) \\\\n {2} , Remove a shield counter and remove a stun counter of each creature with a give each kind of counter counter removed from <POWER> 0 <TOUGHNESS> 3 < 0 ( If a permanent with another Role on it would become untapped , remove one from a new targets for each instance of those creatures . The vowels are blocking or more times that had a Sliver they control , you gain control with two stun counters put on them . Saddle , each of them , tap it . A Counters <LOYALTY> . Those permanents and those kinds of the chosen creature that many stun Counters . If you lose loyalty counters on that would be dealt to it instead . When this way , exile it , choose'},\n",
       " {'index': 42504,\n",
       "  'prompt': '[start] <THEMES> B Identity , Creature , Flying , Sacrifice , {1} {B} {B} Cost , B Color , Upkeep , Efreet <CARD_NAME> <name> <MANA_COST> {1} {B} {B} <TYPE_LINE> Creature — Efreet <ORACLE_TEXT> Flying \\\\n At the beginning of your upkeep , sacrifice <name> unless you pay {B} {B} . <POWER> 3',\n",
       "  'generated_text': \"[start] <THEMES> B Identity , Creature , Flying , Sacrifice , {1} {B} {B} Cost , B Color , Upkeep , Efreet <CARD_NAME> <name> <MANA_COST> {1} {B} {B} <TYPE_LINE> Creature — Efreet <ORACLE_TEXT> Flying \\\\n At the beginning of your upkeep , sacrifice <name> unless you pay {B} {B} . <POWER> 3 <TOUGHNESS> 2 < 3TOUGHNESS>'s power 4 < 9 < 4 \\\\> 4 ( Tap any number of 1 <LOYALTY> 1 or more than two untapped Horror you control with flying . ) \\\\ < 7 < 2 or less than one creature tokens with lifelink as long as you've cast a Bolas , < lose the game . Exile the tokens at the declare attackers are declared . \\\\ \\\\_TOUGHNESSn < 1 1 3 ( This creature can't be blocked except by only during your untap step . Damage dealt to you and only if it's upkeep . When this creature would die this turn , remove a corruption Counters , exile it from combat , and sacrifice it . If you can have suspend , put three defense Counters < has no effect lasts indefinitely . At end of putting it deals 3 damage on it\"},\n",
       " {'index': 110474,\n",
       "  'prompt': '[start] <THEMES> BW Identity , Indestructible , Creature , BW Color , Soldier , Human , Creature Based , Human Soldier Tokens , Tokens , {W} {B} Cost <CARD_NAME> <name> <MANA_COST> {W} {B} <TYPE_LINE> Creature — Human Soldier <ORACLE_TEXT> Legendary Humans you control have indestructible . \\\\n {2} {W} {B} : Exile target card from a graveyard . If it was a creature card , create a 1',\n",
       "  'generated_text': \"[start] <THEMES> BW Identity , Indestructible , Creature , BW Color , Soldier , Human , Creature Based , Human Soldier Tokens , Tokens , {W} {B} Cost <CARD_NAME> <name> <MANA_COST> {W} {B} <TYPE_LINE> Creature — Human Soldier <ORACLE_TEXT> Legendary Humans you control have indestructible . \\\\n {2} {W} {B} : Exile target card from a graveyard . If it was a creature card , create a 1 1 white Human creature token . Activate only as a sorcery . ( Damage and effects that say destroy don't destroy them . ) \\\\ When <POWER> 2 <TOUGHNESS> 1 < 2TOUGHNESS>'s power 2 white Soldier creature tokens with indestructible <LOYALTY> 3 < 3 ( Tap any number of untapped Soldier creatures youTOUGHNESSn < 4 < 9 < Tap all untapped creatures your opponents control with total power 4 or more : This Mount , where X is the total number and or less can't be dealt damage . < 11 Tokens < creates X , rounded Up to one other tokens that many tokens created this turn . Saddle 2 1 0 < Create that are copies of those tokens equal to that dealt instead . This effect lasts indefinitely . Those tokens total mana value 6\"},\n",
       " {'index': 100704,\n",
       "  'prompt': '[start] <THEMES> {5} {U} Cost , Creature , Construct , Artifact Based , Flying , U Identity , Creature Based , Artifact , U Color <CARD_NAME> <name> <MANA_COST> {5} {U} <TYPE_LINE> Artifact',\n",
       "  'generated_text': \"[start] <THEMES> {5} {U} Cost , Creature , Construct , Artifact Based , Flying , U Identity , Creature Based , Artifact , U Color <CARD_NAME> <name> <MANA_COST> {5} {U} <TYPE_LINE> Artifact Creature — Construct <ORACLE_TEXT> Flying \\\\n {T} : You may tap or untap target artifact , creature , or land . <POWER> 2 <TOUGHNESS> 5 < 4 < 2 another target permanent an artifact creature with flying for as long as < 1 <LOYALTY> 1 you control < 3 < 0 < 6 < < 9 < 5 as you both own attached to it . \\\\> 3 ( Tap any number of untapped artifacts you don't untap during the untap step . ) < long long except by artifact creatures are artifacts and or creatures with total power 8 or greater power and regular combat , Juggernaut , all other creatures that are as though they're still untap them . This ability can't be activated abilities can be targeted , and only once each turn . ( This effect lasts indefinitely . A copy of spells as he's still apply to activate abilities of those players' untap symbol in a permanent except they don block a sorcery . Copies become untapped artifact with defender can help cast spells\"},\n",
       " {'index': 101711,\n",
       "  'prompt': '[start] <THEMES> B Identity , Creature , Camel , {1} {B} Cost , B Color , Zombie , Desert , Dies <CARD_NAME> <name> <MANA_COST> {1} {B} <TYPE_LINE> Creature — Zombie Camel <ORACLE_TEXT> When <name> dies',\n",
       "  'generated_text': \"[start] <THEMES> B Identity , Creature , Camel , {1} {B} Cost , B Color , Zombie , Desert , Dies <CARD_NAME> <name> <MANA_COST> {1} {B} <TYPE_LINE> Creature — Zombie Camel <ORACLE_TEXT> When <name> dies , conjure a card named <POWER> 1 <TOUGHNESS> 2 < 1TOUGHNESS>'s power 1 green < 2 black < 3 < 0 < 4 < 13 < 9 < number of Desert <LOYALTY> 0 you control 1THEMES>' Survival Guide with modular < 11 < 7 < 6 < Mount < 5 < Krakens ,TOUGHNESSn Saddle 2 ( Tap any number and more other creatures you have total power 4 or moreTOUGHNESS them 3 or less 4 \\\\n Soulshift 3 ( When this creature dies or dies : Target player loses the game . ) < creates a 0 0 black Zombie creature token with no maximum hand . Activate only as a sorcery . < sorcery and only if able . ( Activate after this isn't monstrous , it's on it had no longer suspected , you may activate an Army Tokens < gets 1 1 0 1 Counters , then put three 1 counters on them . Saddle , return it to it . It's hand size . If you don\"},\n",
       " {'index': 7331,\n",
       "  'prompt': '[start] <THEMES> Mill , B Identity , Creature , {1} {B} Cost , B Color , Zombie <CARD_NAME> <name> <MANA_COST> {1} {B} <TYPE_LINE> Creature — Zombie <ORACLE_TEXT> When <name> enters , mill two cards . ( Put the top two cards of your library into your graveyard',\n",
       "  'generated_text': \"[start] <THEMES> Mill , B Identity , Creature , {1} {B} Cost , B Color , Zombie <CARD_NAME> <name> <MANA_COST> {1} {B} <TYPE_LINE> Creature — Zombie <ORACLE_TEXT> When <name> enters , mill two cards . ( Put the top two cards of your library into your graveyard . ) \\\\n {T} : Add {C} . \\\\> gets -1 -X -4 , then you may mill four cards unless you mill a card . If you control a creature with mana value X or more creature cards , put a number of cards milled this way into its owner's graveyard from among the milled cards into their hand . <POWER> 1 <TOUGHNESS> 2 < 2 ( You can have two commanders if both have partner . To mill three or fewer than two or less life , return this card from your hand at least two of the next end of those cards from their graveyard to the battlefield . A player's hand size . While voting . It's a player discards a permanent card , remove a second card in your choice of their choice or players' hands . Saddle , they mill this ability . Activate only as a crime . When you can't have\"},\n",
       " {'index': 30021,\n",
       "  'prompt': '[start] <THEMES> {3} {U} Cost , Gain Control , U Identity , Creature Based , U Color , Sorcery <CARD_NAME> <name> <MANA_COST> {3} {U} <TYPE_LINE> Sorcery <ORACLE_TEXT> Choose left or right . Starting with you and proceeding in the chosen direction , each player chooses',\n",
       "  'generated_text': \"[start] <THEMES> {3} {U} Cost , Gain Control , U Identity , Creature Based , U Color , Sorcery <CARD_NAME> <name> <MANA_COST> {3} {U} <TYPE_LINE> Sorcery <ORACLE_TEXT> Choose left or right . Starting with you and proceeding in the chosen direction , each player chooses a creature they control . All creatures of the Council's party . You start the high bid of each creature spell into one or more votes for denial or chosen this way , then the Ring tempts you . If a party consists of one of a player votes are tied for most votes , gain control of those creatures for each of them . The Ring-bearer , its owner may gain gain life equal to the number of creatures . Each creature chosen players control with a sector , and that player loses all creatures in their opponents control , their owners' graveyards . A Counters , that had one . ( Your party , they don't untap each Ring Tempts , in each votes each sector gets -1 -0} for their votes or advance to one each clashing player . ) <LOYALTY> 1 1 and each opponent gets the vote . Then each pile , where X is the most common color can be dealt to two additional time\"},\n",
       " {'index': 107715,\n",
       "  'prompt': \"[start] <THEMES> BR Color , Damage , Planeswalker , Drain , Copy Tokens , Devil Tokens , Lifegain , BR Identity , Casualty , Nixilis , Creature Based , Legendary , {1} {B} {R} Cost , Tokens , Discard , Dies , Card Draw <CARD_NAME> <name> <MANA_COST> {1} {B} {R} <TYPE_LINE> Legendary Planeswalker — Nixilis <ORACLE_TEXT> Casualty X . The copy isn't legendary and has starting loyalty X . ( As you cast this spell , you may sacrifice a creature with power X . When you do , copy this spell . The copy becomes a token . ) \\\\n 1 : Each opponent loses 2 life unless they discard a card . If you control a Demon or Devil , you gain 2 life . \\\\n −2 : Create a 1 1 red Devil creature token with When this creature dies , it deals 1 damage to any target . \\\\n −7 : Target player draws seven cards and loses 7 life . <LOYALTY> 3\",\n",
       "  'generated_text': \"[start] <THEMES> BR Color , Damage , Planeswalker , Drain , Copy Tokens , Devil Tokens , Lifegain , BR Identity , Casualty , Nixilis , Creature Based , Legendary , {1} {B} {R} Cost , Tokens , Discard , Dies , Card Draw <CARD_NAME> <name> <MANA_COST> {1} {B} {R} <TYPE_LINE> Legendary Planeswalker — Nixilis <ORACLE_TEXT> Casualty X . The copy isn't legendary and has starting loyalty X . ( As you cast this spell , you may sacrifice a creature with power X . When you do , copy this spell . The copy becomes a token . ) \\\\n 1 : Each opponent loses 2 life unless they discard a card . If you control a Demon or Devil , you gain 2 life . \\\\n −2 : Create a 1 1 red Devil creature token with When this creature dies , it deals 1 damage to any target . \\\\n −7 : Target player draws seven cards and loses 7 life . <LOYALTY> 3 <TOUGHNESS> 4 <POWER> 1 < 9 < 4 black Devil tokens with Whenever a commander's power 8 < 5 < 6 < 7 < 12 Counters , each opponent who didn't control and you lose 3 life total as you discard\"},\n",
       " {'index': 4207,\n",
       "  'prompt': '[start] <THEMES> Aura , Indestructible , Enchantment , Flying , GW Color , GW Identity , Creature Based , {2} {G/W} Cost <CARD_NAME> <name> <MANA_COST> {2} {G/W} <TYPE_LINE> Enchantment — Aura <ORACLE_TEXT> Enchant creature',\n",
       "  'generated_text': \"[start] <THEMES> Aura , Indestructible , Enchantment , Flying , GW Color , GW Identity , Creature Based , {2} {G/W} Cost <CARD_NAME> <name> <MANA_COST> {2} {G/W} <TYPE_LINE> Enchantment — Aura <ORACLE_TEXT> Enchant creature ( {R/G} can be paid with either {W/U} or {UWWTYPELINE>'s power . ) \\\\n As long as enchanted creature is a creature , it gets 1 1 and has flying . \\\\ As <POWER> 3 <TOUGHNESS> 2 < 2 ( You can't cause it to tap . Damage and effects that say destroy don't destroy this Aura . The same is dealt by the creature also causes you to gain that much life . If the source would deal to a permanent you control a source you don be dealt to you and or planeswalker with flying is prevented this way , prevent that damage , and dealt damage can enchant creature's controller may spend mana of that creature this turn . Only Counters , <LOYALTY> becomes black , remove all damage from black creatures that player controls that are enchanted by it . < targeted , or damage . That player can block it from among any number of targets for as\"},\n",
       " {'index': 105518,\n",
       "  'prompt': '[start] <THEMES> Treefolk , {4} {G} {G} Cost , Creature , Cycling , G Identity , Trample , G Color , Reach <CARD_NAME> <name> <MANA_COST> {4} {G} {G} <TYPE_LINE> Creature — Treefolk <ORACLE_TEXT> Reach , trample \\\\n Forestcycling {2} ( {2} , Discard this card : Search your library for a Forest card',\n",
       "  'generated_text': \"[start] <THEMES> Treefolk , {4} {G} {G} Cost , Creature , Cycling , G Identity , Trample , G Color , Reach <CARD_NAME> <name> <MANA_COST> {4} {G} {G} <TYPE_LINE> Creature — Treefolk <ORACLE_TEXT> Reach , trample \\\\n Forestcycling {2} ( {2} , Discard this card : Search your library for a Forest card , reveal it , put it into your hand , then shuffle . ) <POWER> 5 <TOUGHNESS> 6 < 6 ( You may reveal theTOUGHNESS>'s power and toughness of this spell's sacrificed creature's power . If you do ,TOUGHNESSn Mountaincycling {3} as you may add thisTOUGHNESS them into itsTOUGHNESS control of any number of times this creature tokens with total power 8 < 9 <LOYALTY> 7 < 8 or greater < 5 \\\\> 8 8 ( Tap any total mana value 8 as this Mount , rounded up to 1 or less and or more : Add {T} : This Mount becomes a 4 4 < emblem with reach until end of turn . Saddle , also gains trample until your next turn , wither , annihilator 1 1 , where X is its power until < Saddle 1 counters on it's still\"},\n",
       " {'index': 41347,\n",
       "  'prompt': '[start] <THEMES> Creature , Bird Tokens , Flying , {3} {W} {W} Cost , W Color , Creature Based , Archon , Tokens , W Identity <CARD_NAME> <name> <MANA_COST> {3} {W} {W} <TYPE_LINE> Creature',\n",
       "  'generated_text': \"[start] <THEMES> Creature , Bird Tokens , Flying , {3} {W} {W} Cost , W Color , Creature Based , Archon , Tokens , W Identity <CARD_NAME> <name> <MANA_COST> {3} {W} {W} <TYPE_LINE> Creature — Archon <ORACLE_TEXT> Flying \\\\n Creatures can't attack you unless their controller pays {2} for each of their choice . \\\\ When <POWER> 3 <TOUGHNESS> 4 < 3 (TOUGHNESS>'s power and up to theTOUGHNESSn When you control of <LOYALTY> 5 < 9 < 8 < 5 ( You get more than two commanders if both have partner . ) < as you've completed a dungeon . < 11 , each opponent chooses a new targets for the rest . While they lose the game for most life total . Tap an untapped creature you have the same is dealt damage as though they control at least one of the next untap step . ( Your party consists of those creatures without , anything they don't cause loss of them . Saddle only once each instance of casting a creature as a sorcery spell's blessing for its controller , you can attack that player to tap them as long as copies of which has flying . If the entwine cost .\"},\n",
       " {'index': 52581,\n",
       "  'prompt': '[start] <THEMES> N Identity , Damage , Creature , {2} {C} Cost , Sacrifice , Drone , Creature Based , Tokens , Eldrazi Spawn Tokens , Eldrazi , N Color <CARD_NAME> <name> <MANA_COST> {2} {C} <TYPE_LINE> Creature — Eldrazi Drone <ORACLE_TEXT> Whenever you cast a colorless spell , create a 0 1 colorless Eldrazi Spawn creature token',\n",
       "  'generated_text': \"[start] <THEMES> N Identity , Damage , Creature , {2} {C} Cost , Sacrifice , Drone , Creature Based , Tokens , Eldrazi Spawn Tokens , Eldrazi , N Color <CARD_NAME> <name> <MANA_COST> {2} {C} <TYPE_LINE> Creature — Eldrazi Drone <ORACLE_TEXT> Whenever you cast a colorless spell , create a 0 1 colorless Eldrazi Spawn creature token with Sacrifice this creature : Add {1} . \\\\n Whenever a Eldrazi creature deals damage to a player , that player sacrifices a permanent of their choice . <POWER> 1 <TOUGHNESS> 2 < 4 < 1 ( Tap any number of Eldrazi Scion of creatures you control with either {T} represents colorless creatures that share a color with the sacrificed creature's power to the total power of poison counters <LOYALTY> 4 or greater to < 9 < 6 < 3 < 12 . ) \\\\> 3 ( The sacrificed by two or more creatures and or players , including < stun counters from them can't be created instead . Each opponent sacrifices them . If a creature dealt damage this way , remove all permanents they control , sacrifice those permanents of them at least one of those creatures of the beginning of that had a stun counter from their owners' hands . A\"},\n",
       " {'index': 35093,\n",
       "  'prompt': '[start] <THEMES> BW Identity , Creature , BW Color , Lifegain , Cleric , Creature Based , Legendary , {W} {B} Cost , Kor , Deathtouch , Dies , Phyrexian <CARD_NAME> <name> <MANA_COST> {W} {B} <TYPE_LINE> Legendary Creature — Phyrexian Kor Cleric <ORACLE_TEXT> Deathtouch \\\\n Whenever another creature you control enters , you gain 1 life',\n",
       "  'generated_text': \"[start] <THEMES> BW Identity , Creature , BW Color , Lifegain , Cleric , Creature Based , Legendary , {W} {B} Cost , Kor , Deathtouch , Dies , Phyrexian <CARD_NAME> <name> <MANA_COST> {W} {B} <TYPE_LINE> Legendary Creature — Phyrexian Kor Cleric <ORACLE_TEXT> Deathtouch \\\\n Whenever another creature you control enters , you gain 1 life and get a one-time boon with At the beginning of your end step , if you gained 3 or more creatures this turn , target creature gets 1 0 and gains deathtouch until end of turn . \\\\ Whenever a creature an opponent controls dies or battle an additional combat , that player loses 1 1 until your next turn if that creature is a planeswalker , return that card from your graveyard to the battlefield under your control . ( A Counters , battle , Mercenaries , anything they control , and or cards in addition to their owners' graveyards is an Angel in exile it . ) <POWER> 2 <TOUGHNESS> 1 <LOYALTY> 3 < 1 white Angel creature token with deathtouch counter < 3 \\\\> 4 < 2 as long as you cast it had a Vampire with lifelink . < Create a 4 or less life . This ability triggers only if < create two or\"},\n",
       " {'index': 8675,\n",
       "  'prompt': '[start] <THEMES> B Identity , 1 1 Counters , Creature , Creature Based , Crocodile , B Color , {2} {B} Cost , Dies <CARD_NAME> <name> <MANA_COST> {2} {B} <TYPE_LINE> Creature — Crocodile <ORACLE_TEXT> When <name> dies , put a 1 1 counter on target creature you control',\n",
       "  'generated_text': \"[start] <THEMES> B Identity , 1 1 Counters , Creature , Creature Based , Crocodile , B Color , {2} {B} Cost , Dies <CARD_NAME> <name> <MANA_COST> {2} {B} <TYPE_LINE> Creature — Crocodile <ORACLE_TEXT> When <name> dies , put a 1 1 counter on target creature you control . <POWER> 2 <TOUGHNESS> 1 < 3 < 0 < 1TOUGHNESS>'s power 2 Counters < 6 < 2 \\\\n Whenever a creature dealt damage by <LOYALTY> 3 (TOUGHNESSn Undying ( When this creature also causes you to another creature named < unpaired creature when either enters , target player loses that much life . ) < creates a 4 < Gargoyle creature token with eight 1 0 black Wraith , then put three 1 counters on it . ( If you don't control with decayed , return it to the battlefield with a stun counters equal to its power on them to it's control that creature . It's power and it at the beginning of the next end step , remove a counter from it from the encoded on top or if it had no 1 2 1 -1 -3} . A Counters . Damage dealt to target Zombie creature with ten or more creatures . Scavenge only\"},\n",
       " {'index': 27653,\n",
       "  'prompt': '[start] <THEMES> Shapeshifter , Changeling , {W} Cost , W Color , Creature Based , Instant , Kindred , W Identity <CARD_NAME> <name> <MANA_COST> {W} <TYPE_LINE> Kindred Instant — Shapeshifter <ORACLE_TEXT> Changeling ( This card is every creature type . ) \\\\n Creatures target player controls get 0 1 and gain all creature types until end',\n",
       "  'generated_text': \"[start] <THEMES> Shapeshifter , Changeling , {W} Cost , W Color , Creature Based , Instant , Kindred , W Identity <CARD_NAME> <name> <MANA_COST> {W} <TYPE_LINE> Kindred Instant — Shapeshifter <ORACLE_TEXT> Changeling ( This card is every creature type . ) \\\\n Creatures target player controls get 0 1 and gain all creature types until end of turn . ( They can't be the targets of spells or abilities . This effect lasts indefinitely . A creature with the chosen color is even . The same is true for even for fear , players can be paid with another color in the same name as though they control can have defender , and or activate that player to ignore all creatures with it . Each of the basic land that aren't untap during that had a band . Opponents must be blocked by only if able . While they're phased out , that creature has a Flagbearer , remove all instances of those creatures that can block this turn <POWER> 1 <TOUGHNESS> 2 <LOYALTY> 0 < 2 \\\\> 3 < 11 Counters < 1 blue Shapeshifter creature < 13 < 9 < 0 \\\\ 20 < long as you control that would be destroyed this spell's untap step . < 4 < Tap all damage < 3 or\"},\n",
       " {'index': 119686,\n",
       "  'prompt': '[start] <THEMES> Druid , Creature , {1} {G} Cost , G Identity , G Color , Elf <CARD_NAME> <name> <MANA_COST> {1} {G} <TYPE_LINE> Creature — Elf Druid <ORACLE_TEXT> {T} : Add one mana of any color . \\\\n {T} : Add two mana of any one color . Spend this mana only to turn permanents face',\n",
       "  'generated_text': \"[start] <THEMES> Druid , Creature , {1} {G} Cost , G Identity , G Color , Elf <CARD_NAME> <name> <MANA_COST> {1} {G} <TYPE_LINE> Creature — Elf Druid <ORACLE_TEXT> {T} : Add one mana of any color . \\\\n {T} : Add two mana of any one color . Spend this mana only to turn permanents face down . <POWER> 1 <TOUGHNESS> 2 < 1TOUGHNESS>'s power 3 < 2 \\\\> 3 \\\\ \\\\ Proliferate . ( Choose any number of permanents and or players , then give each another counter of each kind already there are declared . ) <LOYALTY> 0 < 9 < < 4 < extra turn for each suspended , two commanders if you control three or more permanents you've completed Tomb of those players' hands . This ability triggers only once each turn . Each opponent who searched their opponents can't cause loss of the Doctor's next turn only during their next untap step . Activate only as though they're done activating mana from a sorcery . Timing Swordmaster Tokens < Embalm , or to < creates a permanent in the pile , and only if < create a token that player can be dealt damage . Those players who didn't change\"},\n",
       " {'index': 123589,\n",
       "  'prompt': '[start] <THEMES> Creature , Morph , U Identity , Human , Wizard , U Color , Turned Face Up , {1} {U} Cost <CARD_NAME> <name> <MANA_COST> {1} {U}',\n",
       "  'generated_text': \"[start] <THEMES> Creature , Morph , U Identity , Human , Wizard , U Color , Turned Face Up , {1} {U} Cost <CARD_NAME> <name> <MANA_COST> {1} {U} <TYPE_LINE> Morph {0} ( You may cast this card face down as a 2 2 creature for {3} . Turn it face up any time for its morph cost . ) \\\\n When <POWER> 2 <TOUGHNESS> 1 < 1TOUGHNESS>'s power 2TOUGHNESSn Morph — 2 (TOUGHNESS them 1-TOUGHNESS turn and up only as long as you control three 1 1 2 \\\\> 3 < 5 <ORACLE_TEXT> 0 < 9 < 2 blue and only creatures with islandwalk , flying . <LOYALTY> 4 < 4 \\\\ \\\\ Eternalize {2} : < 3 \\\\ < 6 < 8 < \\\\ Miracle {4}} , all blue , where X is the number of Islands you have no maximum hand . \\\\ Morph < Untap them . ( Activate only during your upkeep {5} more times as steps , then exile this creature on each of those cards in a sorcery card in your graveyard . While attached to your hand face-start . It's hand and the battlefield . They can't have\"},\n",
       " {'index': 74341,\n",
       "  'prompt': \"[start] <THEMES> B Identity , Aura , Creature , Enchantment , {3} {B} Cost , Snake , Creature Based , B Color , Bestow , Discard <CARD_NAME> <name> <MANA_COST> {3} {B} <TYPE_LINE> Enchantment Creature — Snake <ORACLE_TEXT> Bestow {5} {B} ( If you cast this card for its bestow cost , it's an Aura spell with enchant creature . It becomes a creature again if it's not attached to a creature . ) \\\\n Discard a creature card : <name> gets 2 2 until end of turn . If <name> is an Aura , enchanted creature gets 2 2 until end of turn instead . \\\\n Enchanted creature gets 3 3 . <POWER> 3 <TOUGHNESS>\",\n",
       "  'generated_text': \"[start] <THEMES> B Identity , Aura , Creature , Enchantment , {3} {B} Cost , Snake , Creature Based , B Color , Bestow , Discard <CARD_NAME> <name> <MANA_COST> {3} {B} <TYPE_LINE> Enchantment Creature — Snake <ORACLE_TEXT> Bestow {5} {B} ( If you cast this card for its bestow cost , it's an Aura spell with enchant creature . It becomes a creature again if it's not attached to a creature . ) \\\\n Discard a creature card : <name> gets 2 2 until end of turn . If <name> is an Aura , enchanted creature gets 2 2 until end of turn instead . \\\\n Enchanted creature gets 3 3 . <POWER> 3 <TOUGHNESS> 6 < 4 < 2 < 3 \\\\> 4 black Snake creature <LOYALTY> 2 ( You can't lose the game for the first-strike and regular combat damage that would die . Damage , including < creates a black Skeleton in addition to its other Rats you don't destroy it . The player whose turn it can have haste . Sacrifice it at the beginning of the next end step . When this turn , they discard a card . Exile < do , tap it , remove a\"},\n",
       " {'index': 114867,\n",
       "  'prompt': \"[start] <THEMES> Creature , {3} {W} Cost , Flying , Gargoyle , W Color , Defender , Creature Based , W Identity <CARD_NAME> <name> <MANA_COST> {3} {W} <TYPE_LINE> Creature — Gargoyle <ORACLE_TEXT> Defender , flying \\\\n {1} {W} : Creatures you control with defender can attack this turn as though they didn't have defender .\",\n",
       "  'generated_text': \"[start] <THEMES> Creature , {3} {W} Cost , Flying , Gargoyle , W Color , Defender , Creature Based , W Identity <CARD_NAME> <name> <MANA_COST> {3} {W} <TYPE_LINE> Creature — Gargoyle <ORACLE_TEXT> Defender , flying \\\\n {1} {W} : Creatures you control with defender can attack this turn as though they didn't have defender . <POWER> 0 <TOUGHNESS> 2 < 0TOUGHNESS>'s power 0 \\\\> 1 < 1 ( Tap any number of creatures with flying <LOYALTY> 3 < 6 < 9 < 8 < 7 < 11 < 2 creatures named <5} was dealt by creatures without flying as long as you've drawn this spell . ) < reduce your life total is 6 or more than three , all creatures your opponents control get -1 -0 . ( < puts ten or less than two -4 -7 : This effect lasts indefinitely , where X is < base power and or the number . Transmute , rounded up to three minus the total number 8 or with <> can't attack in the form of cards in your graveyard . If X can have total power among creatures can block or block a creature with total toughness are blocking or players\"},\n",
       " {'index': 94098,\n",
       "  'prompt': '[start] <THEMES> Noble , Creature , Flying , UW Identity , Combat Damage , UW Color , {2} {W} {U} Cost , Spirit , Legendary <CARD_NAME> <name> <MANA_COST> {2} {W} {U} <TYPE_LINE> Legendary Creature —',\n",
       "  'generated_text': \"[start] <THEMES> Noble , Creature , Flying , UW Identity , Combat Damage , UW Color , {2} {W} {U} Cost , Spirit , Legendary <CARD_NAME> <name> <MANA_COST> {2} {W} {U} <TYPE_LINE> Legendary Creature — Spirit Noble <ORACLE_TEXT> Flying \\\\n Whenever a Spirit or Orc you control deals combat damage to a player , you may pay {1} . If you do , choose a card name , then exile it . Until end of turn , it becomes a copy of that card , except it's a Vehicle , and it has flying . You may play that player skips its activated abilities and you can't be activated . \\\\ \\\\ Whenever this creature deals noncombat damage , untap all damage that would be dealt to you and dealt by the chosen player with it deals that much damage this turn . <POWER> 2 <TOUGHNESS> 1 <LOYALTY> 3 < 9 < 3 damage from < 2 white Spirit to its owner's hand . Those tokens with flying that weren't cause the total number of the same is < 1 1 or less than two targets . Activate only as you choose among any number . Tap them . ( Your opponents , including < higher mana from a\"},\n",
       " {'index': 41245,\n",
       "  'prompt': '[start] <THEMES> {U} Cost , Aura , Flash , Enchantment , U Identity , Creature Based , U Color <CARD_NAME> <name> <MANA_COST> {U} <TYPE_LINE> Enchantment — Aura <ORACLE_TEXT> Flash',\n",
       "  'generated_text': \"[start] <THEMES> {U} Cost , Aura , Flash , Enchantment , U Identity , Creature Based , U Color <CARD_NAME> <name> <MANA_COST> {U} <TYPE_LINE> Enchantment — Aura <ORACLE_TEXT> Flash ( You may cast this spell any time you could cast an instant . ) \\\\n Enchant creature \\\\ Enchant non-Wall creature or Vehicle \\\\ \\\\ Enchanted permanent loses all abilities and is a creature with it . \\\\ When <POWER> 1 <TOUGHNESS> 2 < 1 blue < 2TOUGHNESS>'s power 1TOUGHNESSn 1 (TOUGHNESS them 2 ( Tap any number of untapped creatures you control withTOUGHNESS graveyard 2 or more creatures with another untapped Wizards you don't control named Wolves of those tokens with other creatures .TOUGHNESS by the other legendary creatures named <LOYALTY> 3 < 6 < 4 < control of which color with islandwalk ,TOUGHNESS evidence 4 ( Those instances of theTOUGHNESS Demilich into a Swamp , Leviathans , and regular combat damage , 11 Counters , rounded down , then give each opponent can't change enchanted creature they control that player may likewise Twin Tokens take a stun counter < stun counters < though they're treated as though it's treated though its owner's blessing for their commander . Each clashing player to their choice of\"},\n",
       " {'index': 27869,\n",
       "  'prompt': '[start] <THEMES> {4} {G} {G} {G} Cost , Creature , G Identity , Lifegain , Trample , G Color , Wurm , Dies , Card Draw <CARD_NAME> <name> <MANA_COST> {4} {G} {G} {G} <TYPE_LINE> Creature',\n",
       "  'generated_text': \"[start] <THEMES> {4} {G} {G} {G} Cost , Creature , G Identity , Lifegain , Trample , G Color , Wurm , Dies , Card Draw <CARD_NAME> <name> <MANA_COST> {4} {G} {G} {G} <TYPE_LINE> Creature — Wurm <ORACLE_TEXT> Trample \\\\n When < dies , you gain 5 life . \\\\ \\\\ When this creature dies or dies while you have no 1 1 counters on it , draw a card . <POWER> 7 <TOUGHNESS> 6 < 6 ( You gain trample as you control ten or more creatures with different power and regular combat damage named <LOYALTY> 5 < 7 as long as an 8 < 2 < 9 < 8 or less . ) < 4 < 11 < 5 and has trample until end of turn . Activate only as a sorcery . ( This creature can deal excess combat . Damage dealt by only if able . Each creature dealt damage to you gained this turn and only once each turn , before attackers are dealt to destroy it's attacking creature in the form of those creatures . Timing Vinelasher Tokens , and its controller loses that player can't draw that much life total power . A copy of their maximum hand size . Exile <\"},\n",
       " {'index': 85909,\n",
       "  'prompt': \"[start] <THEMES> Uncounterable , Creature , G Identity , Shaman , G Color , Regenerate , Hexproof , Troll , {2} {G} {G} Cost , Legendary <CARD_NAME> <name> <MANA_COST> {2} {G} {G} <TYPE_LINE> Legendary Creature — Troll Shaman <ORACLE_TEXT> This spell can't be countered . \\\\n Hexproof ( This creature can't be the target of spells or abilities your opponents control . ) \\\\n {1} {G} : Regenerate <name> . <POWER>\",\n",
       "  'generated_text': \"[start] <THEMES> Uncounterable , Creature , G Identity , Shaman , G Color , Regenerate , Hexproof , Troll , {2} {G} {G} Cost , Legendary <CARD_NAME> <name> <MANA_COST> {2} {G} {G} <TYPE_LINE> Legendary Creature — Troll Shaman <ORACLE_TEXT> This spell can't be countered . \\\\n Hexproof ( This creature can't be the target of spells or abilities your opponents control . ) \\\\n {1} {G} : Regenerate <name> . <POWER> 2 <TOUGHNESS> 3 < 2 as long as you control three < 1 < 5 <LOYALTY> 4 < 7 < 3 as < 11 < 6 < 9 < 4 asTOUGHNESS>'s power 8 < < 12 < 10 < 8 ( Tap any number of creatures you don't control with total power 6 or more than < highest total number . This effect lasts indefinitely . Each of those creatures can be blocked by creatures with shroud can attack each combat if able . Damage and only once each turn . Those spells they control can block it's attacking a higher , and that player may activate this turn and planeswalkers you can have hexproof can help cast those spells your commander as though they don block that can activate\"},\n",
       " {'index': 65435,\n",
       "  'prompt': '[start] <THEMES> Aura , Enchantment , R Color , Creature Based , Curse , R Identity , {2} {R} Cost <CARD_NAME> <name> <MANA_COST> {2} {R} <TYPE_LINE> Enchantment —',\n",
       "  'generated_text': \"[start] <THEMES> Aura , Enchantment , R Color , Creature Based , Curse , R Identity , {2} {R} Cost <CARD_NAME> <name> <MANA_COST> {2} {R} <TYPE_LINE> Enchantment — Aura Curse <ORACLE_TEXT> Enchant player \\\\n Whenever a player casts a spell , that player reveals cards from the top of their library until they reveal a creature card is revealed . <POWER> 2 <TOUGHNESS> 1 < 2 red Demon creature token with {X} : This spell's power and toughness is equal to the revealed card's mana value of that card to that spell into your hand . That player puts it onto the battlefield tapped . ( Do this way only if able and only once each turn . ) \\\\> is every nonbasic land type among cards in the chosen type have gone on the stack , all non-up party . This effect lasts indefinitely . \\\\ cost {1} less to cast each creature spells you control that shares a Sliver creature you own in exile that had flash . Activate only as a sorcery spell would be put into a graveyard . At the beginning of the next turn , remove a single text of those tokens that would die this turn after this emblem with a permanent an additional combat\"},\n",
       " {'index': 51856,\n",
       "  'prompt': '[start] <THEMES> Noble , 1 1 Counters , Creature , First Strike , Lifegain , GW Color , GW Identity , Human , Hero , Creature Based , {G} {W} Cost , Legendary , Card Draw <CARD_NAME> <name> <MANA_COST> {G} {W} <TYPE_LINE> Legendary Creature — Human Noble Hero <ORACLE_TEXT> First strike \\\\n Survey the Realm — Whenever <name> or another creature you control enters , put a 1 1 counter on target land you control . \\\\n Mine Vibranium — {3} : Move all 1 1 counters from target land',\n",
       "  'generated_text': '[start] <THEMES> Noble , 1 1 Counters , Creature , First Strike , Lifegain , GW Color , GW Identity , Human , Hero , Creature Based , {G} {W} Cost , Legendary , Card Draw <CARD_NAME> <name> <MANA_COST> {G} {W} <TYPE_LINE> Legendary Creature — Human Noble Hero <ORACLE_TEXT> First strike \\\\n Survey the Realm — Whenever <name> or another creature you control enters , put a 1 1 counter on target land you control . \\\\n Mine Vibranium — {3} : Move all 1 1 counters from target land cards in an Saga you own named Mine Counters <POWER> 1 <TOUGHNESS> 2 < 2 another Ally < 3 < 1MANA> 3 \\\\> 4 <LOYALTY> 0 < −7} less to another target Saga , then draw a card named Mask attached to one target creature token you gain first strike , and draw three cards . Activate only as a sorcery . < creates a group . This ability triggers only if < has resolved this turn . ( You can have a triggered ability if able . ) < have been activated ability . Damage and only once each turn and counters on permanents you cast a Saga spell cast an outlaw spell this way . Each creature'},\n",
       " {'index': 115957,\n",
       "  'prompt': '[start] <THEMES> Damage , R Color , Creature Based , Sorcery , R Identity , {2} {R} Cost <CARD_NAME> <name> <MANA_COST> {2} {R} <TYPE_LINE> Sorcery',\n",
       "  'generated_text': \"[start] <THEMES> Damage , R Color , Creature Based , Sorcery , R Identity , {2} {R} Cost <CARD_NAME> <name> <MANA_COST> {2} {R} <TYPE_LINE> Sorcery <ORACLE_TEXT> Return target creature you control and each other creature that isn't a mana ability from your graveyard to your hand . If a creature card is put into your library this way , it deals damage equal to its power to that creature's toughness to target player or planeswalker an opponent controls , then you may have <LOYALTY> deal damage to the same for highest mana value of any number of cards from the exiled this spell and or ability . Then that player equal X is 1 plus the number and amount of creatures they control that that were put on the battlefield this turn . At the beginning of the next end step , if <POWER> 5 <TOUGHNESS> 4 < extra turn , < pile , not cast < 9 < 5 \\\\n < emblem with total mana from < 12 counters from target opponent owns in your opponents can't be put onto the pile to you don't attack this emblem deals 8 or planeswalkers you and that weren't lose the city's hand unless their hand , or remove all but don block this one\"},\n",
       " {'index': 119871,\n",
       "  'prompt': '[start] <THEMES> B Identity , Creature Based , {1} {B} Cost , B Color , Sorcery , Flashback <CARD_NAME> <name> <MANA_COST> {1} {B} <TYPE_LINE> Sorcery <ORACLE_TEXT> Return target creature card from your graveyard to your',\n",
       "  'generated_text': \"[start] <THEMES> B Identity , Creature Based , {1} {B} Cost , B Color , Sorcery , Flashback <CARD_NAME> <name> <MANA_COST> {1} {B} <TYPE_LINE> Sorcery <ORACLE_TEXT> Return target creature card from your graveyard to your hand . \\\\n Flashback {5} ( You may cast this card for its flashback cost . Then exile it . When you do , exile the top card of your library for each opponent may play that card exiled this way without paying its mana cost or put it into your opponents' graveyards . ) \\\\ Flashback — {4}} less to cast a creature exiled with <POWER> 4 <TOUGHNESS> 2 < 3 <LOYALTY> 3 \\\\ Lizard creature tokens with power 4 \\\\ 15 ( Tap any number of target creatures you control with total power 2 or more creatures your team . Those tokens you own in your commander you don't control . Exile them . The same mode must survive to the other . ( Exile the creature cards from the battlefield , including < unpaired> from graveyards and or if it would leave the encoded on the command zone or advance to their owners' hands . If you may pay only as a sorcery . This card's returned from exile this turn\"},\n",
       " {'index': 84259,\n",
       "  'prompt': \"[start] <THEMES> 1 1 Counters , {X} {G} {G} Cost , G Identity , G Color , Sorcery , Manifest <CARD_NAME> <name> <MANA_COST> {X} {G} {G} <TYPE_LINE> Sorcery <ORACLE_TEXT> Manifest the top card of your library , then put X 1 1 counters on it . ( To manifest a card , put it onto the battlefield face down as a 2 2 creature . Turn it face up any time for its mana cost if it's\",\n",
       "  'generated_text': \"[start] <THEMES> 1 1 Counters , {X} {G} {G} Cost , G Identity , G Color , Sorcery , Manifest <CARD_NAME> <name> <MANA_COST> {X} {G} {G} <TYPE_LINE> Sorcery <ORACLE_TEXT> Manifest the top card of your library , then put X 1 1 counters on it . ( To manifest a card , put it onto the battlefield face down as a 2 2 creature . Turn it face up any time for its mana cost if it's a creature card . ) \\\\n Manifest dread . It's an Elf . \\\\ manifest dread , manifest the beginning of the next end step if that creature face-down pile , it had a permanent you control face Up . Otherwise , you may turn a 1 2 counter on that card face those creatures . Then if its power is 3 or greater . You may put a land card from your graveyard this way . If you do , they put the card onto that pile into your hand this turn it into their graveyard . Put that player's graveyard a 0 1 counter put that's control . <POWER> 0 <TOUGHNESS> twice the other into a stun counter . Those tokens that had flash . To cloak a shield counter from it\"},\n",
       " {'index': 60142,\n",
       "  'prompt': \"[start] <THEMES> G Identity , Enchantment , Investigate , G Color , Creature Based , Detective Tokens , Clue Tokens , {3} {G} Cost , Tokens <CARD_NAME> <name> <MANA_COST> {3} {G} <TYPE_LINE> Enchantment <ORACLE_TEXT> Whenever one or more creature cards leave your graveyard , create a 2 2 white and blue Detective creature token , then investigate . ( Create a Clue token . It's an artifact\",\n",
       "  'generated_text': \"[start] <THEMES> G Identity , Enchantment , Investigate , G Color , Creature Based , Detective Tokens , Clue Tokens , {3} {G} Cost , Tokens <CARD_NAME> <name> <MANA_COST> {3} {G} <TYPE_LINE> Enchantment <ORACLE_TEXT> Whenever one or more creature cards leave your graveyard , create a 2 2 white and blue Detective creature token , then investigate . ( Create a Clue token . It's an artifact with {2} , Sacrifice this artifact : Draw a card . ) \\\\n Whenever you sacrifice a token or sacrifice an Clue , target creature you control gets 1 1 until end of turn . \\\\ Clues you may pay {1} . If you do , investigate that creature gets 2 0 until your next turn , it is an additional time for each turn instead . <POWER> 2 <TOUGHNESS> 4 < 2TOUGHNESS>'ss power 4 \\\\ \\\\> 3 <LOYALTY> 5 < 5 \\\\LINE>' Wind Counters < Create two 4 4 green Detective < Tap all creatures your opponents control with flying your choice of a stun counters from among creatures you don't control . Activate only if the other than two or less than three or greater . This ability but don be put into a graveyard this turn\"},\n",
       " {'index': 18726,\n",
       "  'prompt': '[start] <THEMES> Faerie , {1} {U} {B} Cost , Creature , Disguise , Flying , BU Identity , Detective , BU Color , Turned Face Up <CARD_NAME> <name> <MANA_COST> {1} {U} {B} <TYPE_LINE> Creature — Faerie Detective <ORACLE_TEXT> Flying \\\\n Disguise {1} {U/B} {U/B} ( You may cast this card face down for {3} as a 2 2 creature with ward',\n",
       "  'generated_text': \"[start] <THEMES> Faerie , {1} {U} {B} Cost , Creature , Disguise , Flying , BU Identity , Detective , BU Color , Turned Face Up <CARD_NAME> <name> <MANA_COST> {1} {U} {B} <TYPE_LINE> Creature — Faerie Detective <ORACLE_TEXT> Flying \\\\n Disguise {1} {U/B} {U/B} ( You may cast this card face down for {3} as a 2 2 creature with ward {2} . Turn it face up any time for its disguise cost . ) \\\\ Disguise cost is turned face-down Tokens or face Up , put a 1 1 counter on it and the first face this ability face pack , except it's a 4 4 Sphinx Detective you may turn face it disguise ability . \\\\ \\\\ORACLEORACLE Flying <POWER> 1 <TOUGHNESS> 2 < 3 < 2 \\\\> 3 (TOUGHNESS>'s power and up to oneTOUGHNESSn When this creature token with flying until end of turn ,TOUGHNESS cost {X} less than two times . <LOYALTY> 4 < 6 < 4 \\\\ < 9 < 5 < 7 < extra turn . It's power 2 or more : Take an extra hand size . ( Tap up\"},\n",
       " {'index': 34718,\n",
       "  'prompt': '[start] <THEMES> {2} {U} {U} Cost , U Identity , U Color , Instant , Bargain <CARD_NAME> <name> <MANA_COST> {2} {U} {U} <TYPE_LINE> Instant <ORACLE_TEXT> Bargain ( You may sacrifice an artifact , enchantment , or token as you cast this spell . ) \\\\n Look at the top four cards of your library',\n",
       "  'generated_text': \"[start] <THEMES> {2} {U} {U} Cost , U Identity , U Color , Instant , Bargain <CARD_NAME> <name> <MANA_COST> {2} {U} {U} <TYPE_LINE> Instant <ORACLE_TEXT> Bargain ( You may sacrifice an artifact , enchantment , or token as you cast this spell . ) \\\\n Look at the top four cards of your library . If this card is bargained , you may reveal any number of cards from among them and put them into your hand . Put the rest into their graveyard . \\\\ Look to your graveyard and the revealed cards into its owner's graveyard , then shuffle . You choose a card from it . Target opponent reveals their hand and you choose another card with the same name as that card . Exile that permanent . That player discards that spell , and pay its controller may spend mana of any color to cast that player's mana cost . ( A Counters , targeted , {T} , Sacrifice this emblem with one mana value equal to that creature , mana from their mana costs as a Cursed Tokens , creature or 2 1 1 counter on it's color , haste , 13 is spent to the emerge cost : Add {1} : Target player loses the exiled card's\"},\n",
       " {'index': 18301,\n",
       "  'prompt': '[start] <THEMES> B Identity , Enchantment , Creature Based , Zombie Horror Tokens , B Color , {2} {B} Cost , Tokens <CARD_NAME>',\n",
       "  'generated_text': \"[start] <THEMES> B Identity , Enchantment , Creature Based , Zombie Horror Tokens , B Color , {2} {B} Cost , Tokens <CARD_NAME> <name> , create a 2 2 black Horror <MANA_COST> { {5} <ORACLE_TEXT> This spell costs {1} less to cast for each creature card in your graveyard . \\\\n Whenever a nontoken creature you control enters , you may pay {X} . If you do , tap up to X target creatures you don't control , where X is the number of Zombies you amassed Army's power of opponents control that died this turn . ( To forage , exile the top X plus the token created with X 1 1 counters on it and the rest on them at the beginning of the next end step . ) \\\\> Create a 1 2 blue Zombie Rogue creature token with decayed , then return <TOUGHNESS> 1 <LOYALTY> 2 <POWER> 3 < 2 green Zombie Army Tokens from your hand . < 0 < 7 < −5 : Each opponent loses 3 black Zombie creature spell's life . Activate only as a sorcery . Those tokens with undying Counters ,TOUGHNESS>'s power 2 , except by up any number to one target Zombie tokens total power 3 or more poison counters < higher\"},\n",
       " {'index': 32325,\n",
       "  'prompt': '[start] <THEMES> B Identity , Creature , Imp , {4} {B} Cost , Flying , B Color , Phyrexian , Discard <CARD_NAME> <name> <MANA_COST> {4} {B} <TYPE_LINE>',\n",
       "  'generated_text': \"[start] <THEMES> B Identity , Creature , Imp , {4} {B} Cost , Flying , B Color , Phyrexian , Discard <CARD_NAME> <name> <MANA_COST> {4} {B} <TYPE_LINE> Creature — Phyrexian Imp <ORACLE_TEXT> Flying \\\\n Discard a card : <POWER> 2 <TOUGHNESS> 4 < 3 < 4 ( You may cast this spell any number of creatures you control with total mana value 3 or more creatures with flying thisTOUGHNESS>'s power 3 youTOUGHNESSn 1 < 2 (TOUGHNESS them 4 or less 3 ( Tap any total power 2 or greater by creatures . ) <LOYALTY> 3 \\\\ < 7 < 9 < LEVEL 3 as long as you've committed a Mount < 6 < 12 < 8 <11} : This Mount , rounded up to four target player sacrifices two permanents of their choice . < conjures a poison counters from it . This ability triggers only if able . \\\\> isn't cause the city's attacking , discard a permanent can't lose the game and you may activate loyalty abilities of all but don't discard that many cards in their hands . ( Targeting opponents can help cast spells . Each artifact spells or activate abilities can be put into their graveyard . If you can\"},\n",
       " {'index': 97647,\n",
       "  'prompt': '[start] <THEMES> Druid , Squirrel Tokens , Creature , G Identity , Sacrifice , Human , G Color , Creature Based , Tokens , {2} {G} {G} Cost <CARD_NAME> <name> <MANA_COST> {2} {G} {G} <TYPE_LINE> Creature — Human Druid <ORACLE_TEXT>',\n",
       "  'generated_text': \"[start] <THEMES> Druid , Squirrel Tokens , Creature , G Identity , Sacrifice , Human , G Color , Creature Based , Tokens , {2} {G} {G} Cost <CARD_NAME> <name> <MANA_COST> {2} {G} {G} <TYPE_LINE> Creature — Human Druid <ORACLE_TEXT> When < enters , create a 1 green Squirrel creature token . ( It's an artifact with {T} , Discard a token : Add one mana of any color . ) \\\\n {1} : <POWER> 1 <TOUGHNESS> 2 < 3 < 1 Druid creature tokens that are copies of it 2 the sacrificed creature's power and toughness 4 <LOYALTY> 3 (TOUGHNESS>'s power 8 < 9 < Saddle ,TOUGHNESSn Saddle 3 \\\\> 4 ( Tap any number of creatures you control with total power 3 or more : This Mount , where X is its power to the total number . Saddle only as a sorcery . It has total mana value 8 or less : this creature has Saddle 1 1 Counters , then give each creature card's also get an additional 2 2 1 counter . Activate only if you've completed Tomb of them is saddled it's still on it . This ability . Embalm , it has toxic\"},\n",
       " {'index': 73579,\n",
       "  'prompt': '[start] <THEMES> {4} {G} {G} {G} Cost , Creature , G Identity , Artifact Based , Elemental , Lifegain , Trample , Enchantment Based , G Color , Creature Based , Shield Counters , Reach , Tokens , Rhino Warrior Tokens <CARD_NAME> <name> <MANA_COST> {4} {G} {G} {G} <TYPE_LINE> Creature — Elemental <ORACLE_TEXT> Reach , trample \\\\n When <name> enters , choose two — \\\\n Destroy target artifact or enchantment . \\\\n Target player gains 5 life . \\\\n Create a',\n",
       "  'generated_text': \"[start] <THEMES> {4} {G} {G} {G} Cost , Creature , G Identity , Artifact Based , Elemental , Lifegain , Trample , Enchantment Based , G Color , Creature Based , Shield Counters , Reach , Tokens , Rhino Warrior Tokens <CARD_NAME> <name> <MANA_COST> {4} {G} {G} {G} <TYPE_LINE> Creature — Elemental <ORACLE_TEXT> Reach , trample \\\\n When <name> enters , choose two — \\\\n Destroy target artifact or enchantment . \\\\n Target player gains 5 life . \\\\n Create a 2 green Rhino creature token . Put a shield counter on each creature you control . ( If it would be dealt damage or destroyed , remove a stun counter from it instead . ) \\\\ Put two stun counters on target creature or planeswalker and remove one from target enchantment you don't control with a Addendum — That permanent you gain control of it . Otherwise , create a 3 3 green Elemental Warrior creature tokens with trample . <POWER> 4 <TOUGHNESS> 5 <LOYALTY> 6 < 4 green Elephant Warrior enchantment creature < 2 < 7 < 5 green < 3 < 9 < Saddle 3 Elemental creature with reach until end of turn . It's still a 4 white Elemental creatures\"},\n",
       " {'index': 70644,\n",
       "  'prompt': '[start] <THEMES> Creature , Landfall , Beast , {1} {G} Cost , G Identity , G Color <CARD_NAME> <name> <MANA_COST> {1} {G} <TYPE_LINE> Creature — Beast <ORACLE_TEXT> Landfall — Whenever a land you',\n",
       "  'generated_text': \"[start] <THEMES> Creature , Landfall , Beast , {1} {G} Cost , G Identity , G Color <CARD_NAME> <name> <MANA_COST> {1} {G} <TYPE_LINE> Creature — Beast <ORACLE_TEXT> Landfall — Whenever a land you control enters , < gets 1 1 until end of turn . <POWER> 2 <TOUGHNESS> 1 < 1MANA> 3 < 2 long as you've cast it 1 green Beast card named < 0 < Saddle 3 ( Tap any number of other creatures you have total power 2 or more : This Mount , put two 1 0 1 counters on it . Saddle 1 Counters , then put a 1 counter on target creature . ) <LOYALTY> 0 (TOUGHNESS>'s power 3 \\\\n Saddle 2 ( Activate only as a sorcery . Tap them has Saddle , this creature has total mana value 3 or less 3 as long long if it's on < has no other is saddled . Reconfigure only once each turn and only if the creature attacked this Mount . While attached , it has saddled it gains haste . Unearth only during your turn , and it and stays on the battlefield . \\\\> gets 3 1 2 1 -1 -4} : Transform this Vehicle , return it to it\"},\n",
       " {'index': 34438,\n",
       "  'prompt': '[start] <THEMES> Creature , G Identity , Food , Trample , Food Tokens , G Color , Wolf , Tokens , {2} {G} {G} Cost <CARD_NAME> <name> <MANA_COST> {2} {G} {G} <TYPE_LINE> Creature — Wolf <ORACLE_TEXT> Trample ( This creature can deal excess combat damage to the player',\n",
       "  'generated_text': \"[start] <THEMES> Creature , G Identity , Food , Trample , Food Tokens , G Color , Wolf , Tokens , {2} {G} {G} Cost <CARD_NAME> <name> <MANA_COST> {2} {G} {G} <TYPE_LINE> Creature — Wolf <ORACLE_TEXT> Trample ( This creature can deal excess combat damage to the player or planeswalker it's attacking . ) \\\\n When this creature attacks , create a Food token . ( It's an artifact with {T} , Sacrifice this artifact : You gain 3 life . It're artifacts with Sacrifice it attacks . A Food . Players dealt combat . Activate only as a sorcery . When the second time this turn , they gain 5 life and When it deals combat phase , each opponent loses the game . You investigate . Sacrifice those tokens . They're still put a Clue token if their toughness is 3 or more poison counter on the battlefield . Otherwise , you create two Food tokens that's a token are blocking that many Food Treasure tokens instead . <POWER> 5 <TOUGHNESS> 3 <LOYALTY> 2 < 11 < 9 green Wolf creature tokens with trample until end of turn . \\\\> 4 < 7 < Collect Evidence only once each turn instead of up to one\"},\n",
       " {'index': 97912,\n",
       "  'prompt': \"[start] <THEMES> Mill , 1 1 Counters , B Identity , Creature , {3} {B} Cost , Mole , Creature Based , B Color , Horror <CARD_NAME> <name> <MANA_COST> {3} {B} <TYPE_LINE> Creature — Mole Horror <ORACLE_TEXT> When <name> enters , mill three cards . You may put a creature card from among the cards milled this way into your hand . If you don't ,\",\n",
       "  'generated_text': \"[start] <THEMES> Mill , 1 1 Counters , B Identity , Creature , {3} {B} Cost , Mole , Creature Based , B Color , Horror <CARD_NAME> <name> <MANA_COST> {3} {B} <TYPE_LINE> Creature — Mole Horror <ORACLE_TEXT> When <name> enters , mill three cards . You may put a creature card from among the cards milled this way into your hand . If you don't , put two cards into a land card into its owner's graveyard . ( To mill a card , a player puts the top four cards of their library into their graveyard from their hand , then put the rest on the bottom of your library in any order . ) \\\\n {1} , Remove a 1 counter from <POWER> 2 <TOUGHNESS> 3 < < 9 < 3 \\\\> 4 < 2 \\\\ 20 Mill three 0 <LOYALTY> 6 < 7 < 1 < 6 ( You can't be blocked except by three or more creatures and or less than < emerge cost : < city's power and has eight or greater . < puts into exile it from your graveyard during your turn . When this turn , return it to the battlefield , remove all non-time boon with < That player\"},\n",
       " {'index': 76622,\n",
       "  'prompt': '[start] <THEMES> {3} {U} {U} Cost , Aura , Enchantment , U Identity , Infect , Creature Based , U Color <CARD_NAME> <name> <MANA_COST> {3} {U} {U} <TYPE_LINE> Enchantment — Aura <ORACLE_TEXT> Enchant creature \\\\n You control enchanted creature',\n",
       "  'generated_text': \"[start] <THEMES> {3} {U} {U} Cost , Aura , Enchantment , U Identity , Infect , Creature Based , U Color <CARD_NAME> <name> <MANA_COST> {3} {U} {U} <TYPE_LINE> Enchantment — Aura <ORACLE_TEXT> Enchant creature \\\\n You control enchanted creature . \\\\ Enchanted creature has infect . ( It deals damage to creatures in the form of -1 -0 counters and to players in their form-Wall creatures it . ) \\\\ \\\\ Prevent all damage that would be dealt to enchanted by enchanted creatures get -2 -6 -13} , where X is the number of poison counters on <POWER> 1 <TOUGHNESS> 3 < 2 < 9 < 5 <LOYALTY> 6 < 3 \\\\11} : This spell's power and toughness 1 1 black creatures your opponents control with infect until end of turn . < lose half the game , rounded up to half that player's life total is 0 < unpaired> 2 or less than one creature's rounded down . Only the other creatures the color among creatures with shadow counters . Damage , but don't untap step , or -4 -X} can be regenerated . Take an opponent controls . If a source of the least one\"},\n",
       " {'index': 56155,\n",
       "  'prompt': '[start] <THEMES> Mount , Lifelink , Creature , Attacking , First Strike , Flying , Angel Tokens , GW Color , Mounts , GW Identity , Creature Based , Unicorn , {G} {W} Cost , Tokens <CARD_NAME> <name> <MANA_COST> {G} {W} <TYPE_LINE> Creature — Unicorn Mount <ORACLE_TEXT> First strike , lifelink \\\\n Whenever <name> attacks while',\n",
       "  'generated_text': \"[start] <THEMES> Mount , Lifelink , Creature , Attacking , First Strike , Flying , Angel Tokens , GW Color , Mounts , GW Identity , Creature Based , Unicorn , {G} {W} Cost , Tokens <CARD_NAME> <name> <MANA_COST> {G} {W} <TYPE_LINE> Creature — Unicorn Mount <ORACLE_TEXT> First strike , lifelink \\\\n Whenever <name> attacks while saddled , create a 1 1 white Angel creature token with flying . \\\\ Saddle 2 ( Tap any number of other creatures you control with total power 2 or more : This Mount becomes saddled . ) \\\\> gains first strike until end of turn . Activate only if <POWER> 2 <TOUGHNESS> 1 < 1 \\\\ only as a sorcery . (TOUGHNESS>'s power 4 <LOYALTY> 3 < Saddle 1 as long as you've completed Tomb of them 2 you have partner . Saddle , < six-sided die . It's saddled and only once each turn and saddled it has flying , ) < creates a 4 4 white Dog creature tokens with lifelink . < Create three 4 3 white Knight creature 1 red Angel Warrior creature that's also get 1 and lifelink and vigilance . Its shadow . This ability triggers only during combat . Other Dragons — < becomes\"},\n",
       " {'index': 117679,\n",
       "  'prompt': '[start] <THEMES> {3} {G} {G} Cost , Creature , G Identity , Disguise , G Color , Creature Based , Wurm , Turned Face Up , Horror <CARD_NAME> <name> <MANA_COST> {3} {G} {G} <TYPE_LINE> Creature — Wurm Horror <ORACLE_TEXT> When <name> enters or is turned',\n",
       "  'generated_text': \"[start] <THEMES> {3} {G} {G} Cost , Creature , G Identity , Disguise , G Color , Creature Based , Wurm , Turned Face Up , Horror <CARD_NAME> <name> <MANA_COST> {3} {G} {G} <TYPE_LINE> Creature — Wurm Horror <ORACLE_TEXT> When <name> enters or is turned face up , target creature gets 2 2 until end of turn . \\\\n Disguise {2} ( You may cast this card face down for {5} as a 2 creature with ward {T} . Turn it face-down creature face Up . Cast it Turn this face it if it's a creature for its disguise cost or a sorcery . face a later turn face Tokens or ability face only as it has ward ability . ) \\\\ \\\\ Disguise — When this creature is face its foretell cost is reduced by a facestart , copy of another target non-Human creature you control face turn for each creature card in your graveyard . You skip your next turn , it gains haste until your turn and phases end . The token is a copy that's face Evidence only if able . ( Create a token that opponent other than you drew this turn it would leave the first room or discard a\"},\n",
       " {'index': 76484,\n",
       "  'prompt': \"[start] <THEMES> Creature , Beast , Flying , U Identity , {4} {U} Cost , U Color , Combat Damage <CARD_NAME> <name> <MANA_COST> {4} {U} <TYPE_LINE> Creature — Beast <ORACLE_TEXT> Flying ( This creature can't be blocked except by creatures with flying or reach . ) \\\\n Whenever <name> deals combat damage to a player , that player exiles the top four cards of their library . If\",\n",
       "  'generated_text': \"[start] <THEMES> Creature , Beast , Flying , U Identity , {4} {U} Cost , U Color , Combat Damage <CARD_NAME> <name> <MANA_COST> {4} {U} <TYPE_LINE> Creature — Beast <ORACLE_TEXT> Flying ( This creature can't be blocked except by creatures with flying or reach . ) \\\\n Whenever <name> deals combat damage to a player , that player exiles the top four cards of their library . If a card is revealed this way , they put it into their graveyard . <POWER> 5 <TOUGHNESS> 4 < 5 \\\\> 3 < 9 < 6 < 7 <LOYALTY> 6 ( You can attack as though they don't exist until your next turn . Tap them from your opponents control can block . Exile < stun counter < 1 < Gargoyle , including < LEVEL 4 , remove all combat , protection , and or remove it . Damage , already there are copies of the game . A Counters , there is dealt by that creature , or destroyed this turn it can be destroyed , he phases in a permanent . ( If the spell would be dealt damage , it's treated as it doesn't untap during your graveyard , prevent all damage on it would leave the player's next untap\"},\n",
       " {'index': 52350,\n",
       "  'prompt': '[start] <THEMES> {G} Cost , G Identity , G Color , Creature Based , Instant , Fights <CARD_NAME> <name> <MANA_COST> {G}',\n",
       "  'generated_text': \"[start] <THEMES> {G} Cost , G Identity , G Color , Creature Based , Instant , Fights <CARD_NAME> <name> <MANA_COST> {G} <TYPE_LINE> Instant <ORACLE_TEXT> Target creature you control fights target creature an opponent controls . ( Each deals damage equal to its power to the other . ) \\\\n Target land you don't control gets 1 1 until end of turn if its toughness is 4 or greater . \\\\ Learn , then it fights up to one target land card in your hand . If you may reveal a land cards from your graveyard , put it into your library , or put that card into their hand , the card on the battlefield tapped . Otherwise , and put the rest on top of your choice of a random order . Then shuffle . You may put a third card back or bottom of the revealed card to your opponents , you put this way , search your right into its owner's library for each opponent who controlled by a creature card already there is a stun counter on a permanent they control . A copy of those creatures you own and this turn . Saddle , prevent all other creatures target player may return the encoded on each creature that had a Brushwagg , except by the gift as though they don block additional\"},\n",
       " {'index': 47447,\n",
       "  'prompt': '[start] <THEMES> B Identity , 1 1 Counters , Vampire , Creature , Attacking , Drain , Warlock , {4} {B} Cost , Lifegain , Creature Based , B Color <CARD_NAME> <name>',\n",
       "  'generated_text': \"[start] <THEMES> B Identity , 1 1 Counters , Vampire , Creature , Attacking , Drain , Warlock , {4} {B} Cost , Lifegain , Creature Based , B Color <CARD_NAME> <name> , Dies <MANA_COST> {1}} <TYPE_LINE> Creature — Vampire Warlock <ORACLE_TEXT> Whenever < attacks , put a 1 counter on each opponent loses 1 life and you gain 1 damage equal to the number of creature cards in your party . ( Your party consists of up to one each of Cleric , Rogue , Warrior , and Wizard . ) \\\\n Whenever a creature you control with a party attacks with greater than <POWER> 3 <TOUGHNESS> 4 < 2 < 1 < 5 < 0 < 3 black Vampire creature token with lifelink until end of turn . <LOYALTY> 2 as long as you have no poison counters < 4 or less life . This ability triggers only once each turn and only if you gained 3 or more life total number . \\\\> 6 < Put a Vampire you lost life lost this turn , return <> from your graveyard to your hand . Activate only as a sorcery . When you pay {X} less than a card was paid , each Vampire with mana value X can't have lost when either\"},\n",
       " {'index': 28746,\n",
       "  'prompt': '[start] <THEMES> Planeswalker , Dragon Tokens , {1} {R} {R} Cost , Flying , R Color , Sarkhan , Creature Based , Card Draw , R Identity , Tokens , Legendary , Discard <CARD_NAME> <name> <MANA_COST> {1} {R} {R} <TYPE_LINE> Legendary Planeswalker — <name> <ORACLE_TEXT> 1 : You may discard a card . If',\n",
       "  'generated_text': \"[start] <THEMES> Planeswalker , Dragon Tokens , {1} {R} {R} Cost , Flying , R Color , Sarkhan , Creature Based , Card Draw , R Identity , Tokens , Legendary , Discard <CARD_NAME> <name> <MANA_COST> {1} {R} {R} <TYPE_LINE> Legendary Planeswalker — <name> <ORACLE_TEXT> 1 : You may discard a card . If you do , draw a nonland card at the beginning of the next end step . \\\\n −2 : Draw two cards , then discard two card if the discarded a creature card was discarded this way , create two 4 4 red Dragon creature tokens with flying . They gain flying until end of turn . ( They're artifacts with {T} , Sacrifice this artifact : Add {C} . ) \\\\ −1 : Exile the top two mana of any color of your library , where X is the number of instant and sorcery cards in any number . Until end . You can't lose this turn , you may play those cards this emblem with At the end end you cast an instant or sorcery spell from exile , this spell . <LOYALTY> deals 4 damage equal to the exiled card's mana value . Activate only as a sorcery . This ability\"},\n",
       " {'index': 18131,\n",
       "  'prompt': '[start] <THEMES> N Identity , Creature , Construct , Haste , Artifact , N Color , Legendary , {3} Cost <CARD_NAME> <name> <MANA_COST> {3}',\n",
       "  'generated_text': \"[start] <THEMES> N Identity , Creature , Construct , Haste , Artifact , N Color , Legendary , {3} Cost <CARD_NAME> <name> <MANA_COST> {3} <TYPE_LINE> Legendary Artifact Creature — Construct <ORACLE_TEXT> Haste \\\\n Whenever you cast a historic spell , copy it . This ability triggers only once each turn . ( Artifacts , legendaries , and Sagas are historic . To investigate , create a Clue token . It's an artifact with {T} , Sacrifice this artifact : Draw a card . ) \\\\ . \\\\ {2} : Add one mana of any color . <POWER> 3 <TOUGHNESS> 2 < 4 < 2 \\\\> 1 < 9 < 7 < 5 <LOYALTY> 5 ( Tap any number of other artifacts you control with total power 1 or more : This Vehicle ,TOUGHNESS>'s power and toughness 4 4 \\\\ 20 < 1 1 counters from among artifacts and effects that were colorless Thopter Tokens and types among permanents you don't untap during your opponents control . Activate only if you've completed Tomb of the other than the command zone this turn and only as a sorcery . Those artifacts with < higher , this creature has haste . Otherwise , they didn't cause the city's still apply to activate loyalty\"},\n",
       " {'index': 66784,\n",
       "  'prompt': '[start] <THEMES> {2} {W} Cost , Creature , Soldier , Human , W Color , Creature Based , W Identity <CARD_NAME> <name> <MANA_COST> {2} {W} <TYPE_LINE> Creature — Human Soldier',\n",
       "  'generated_text': \"[start] <THEMES> {2} {W} Cost , Creature , Soldier , Human , W Color , Creature Based , W Identity <CARD_NAME> <name> <MANA_COST> {2} {W} <TYPE_LINE> Creature — Human Soldier <ORACLE_TEXT> Other Soldier creatures get 1 1 . <POWER> 1 <TOUGHNESS> 2 < 2 as long as you control a white creature named < 1 you've drawn this turn . \\\\n {4} : <LOYALTY> 3 < 6 < Tap any number of other creatures you don't control with power 4 < 4 or greater . Those creatures don block < pile and have base power and toughness 4 4 3 3 as though they didn't have total power 2 greater if <> is 4 . ( If a creature with no longer suspected , remove a 1 counter from it from combat , and it can't lose the game for each permanent that convoked it's untap during your next untap step . ) < Treat them . This ability . It can be destroyed , that player can block creatures in the controller may activate that can activate abilities only during their next turn and only if able . At the declare attackers are declared . If it were put into a weren't attack this combat . A Counters ,\"},\n",
       " {'index': 64686,\n",
       "  'prompt': '[start] <THEMES> B Identity , {4} {B} Cost , B Color , Sorcery <CARD_NAME> <name> <MANA_COST> {4}',\n",
       "  'generated_text': \"[start] <THEMES> B Identity , {4} {B} Cost , B Color , Sorcery <CARD_NAME> <name> <MANA_COST> {4}} <TYPE_LINE> Sorcery , target player reveals their hand . You choose a nonland card from it . That player discards that card . If a card had mana value 2 or less , that player puts the card onto the battlefield under your control with the same name as that name . Otherwise , the player shuffles . Then that creature shuffles , then that opponent puts it into their graveyard on their library in that library . Repeat this process for each card exiled this way . The player who searched their upkeeps , search their life total becomes the last noted for all cards with <ORACLE_TEXT> and library for cards in their total mana values . Each player may pay the highest mana they own exiled with it , rounded down . <POWER> 5 <TOUGHNESS> 4 <LOYALTY> 6 < 9 < 7 < < emblem with 13 can't change the total power 8 < 8 or greater < 6 or more 8 \\\\n 20 < 19 < \\\\> 7 \\\\ 20 Each opponent discards half the vote . \\\\6} : You get an emblem creatures your opponents control of a 7 7 life this turn after this\"},\n",
       " {'index': 11915,\n",
       "  'prompt': '[start] <THEMES> B Identity , Creature , Praetor , {2} {B} {B} Cost , Lifegain , B Color , Deathtouch , Phyrexian , Legendary , Card Draw <CARD_NAME> <name> <MANA_COST> {2} {B} {B} <TYPE_LINE> Legendary Creature — Phyrexian Praetor <ORACLE_TEXT> Deathtouch \\\\n Whenever you draw a card , you gain 2 life . \\\\n Whenever an opponent draws a card , they',\n",
       "  'generated_text': \"[start] <THEMES> B Identity , Creature , Praetor , {2} {B} {B} Cost , Lifegain , B Color , Deathtouch , Phyrexian , Legendary , Card Draw <CARD_NAME> <name> <MANA_COST> {2} {B} {B} <TYPE_LINE> Legendary Creature — Phyrexian Praetor <ORACLE_TEXT> Deathtouch \\\\n Whenever you draw a card , you gain 2 life . \\\\n Whenever an opponent draws a card , they lose 1 life and you may pay {1} . If you do , each opponent loses 1 damage equal to the life lost this way . <POWER> 3 <TOUGHNESS> 2 < 2 \\\\> 4 < 7 < 6 <LOYALTY> 6 ( You can't be destroyed thisTOUGHNESS>'s power and effects that say destroy don't destroy it with ten or more than two untapped permanents with total power 3 or greater . ) < 9 < 5 < long as you have deathtouch . Each opponent has deathtouch as they lost the city's blessing for the rest of the game . ( Any player has ten commanders if able and or fewer poison counters on it's attacking . Damage dealt combat damage . Any Number Of , Rogue , that player can have partner . When this creature also gains deathtouch deals combat phase\"},\n",
       " {'index': 99061,\n",
       "  'prompt': '[start] <THEMES> Creature , Scry , {1} {W} {W} Cost , W Color , Creature Based , Wizard , Alliance , Elf , W Identity , Card Draw <CARD_NAME> <name> <MANA_COST> {1} {W} {W} <TYPE_LINE> Creature — Elf Wizard <ORACLE_TEXT> Alliance — Whenever another creature you',\n",
       "  'generated_text': \"[start] <THEMES> Creature , Scry , {1} {W} {W} Cost , W Color , Creature Based , Wizard , Alliance , Elf , W Identity , Card Draw <CARD_NAME> <name> <MANA_COST> {1} {W} {W} <TYPE_LINE> Creature — Elf Wizard <ORACLE_TEXT> Alliance — Whenever another creature you control enters , scry 1 . ( Look at the top card of your library . You may put that card on the bottom . ) \\\\n Alliance of that's library , then you may reveal a land card from your hand if it's a creature card , nonland card with a 1 1 counter on it . If it was milled this way , draw a card . Otherwise , you lose 1 life . \\\\> has support 2 . <POWER> 1 <TOUGHNESS> 2 < 1 ( You can have thisTOUGHNESS>'ss power 2 as long as you've completed a triggered ability . Each clashing player controls a permanent you don't control a token . A copy of a sorcery spell you drew this turn . It's treated as a second commander . Then each opponent who had a planeswalker they control with an Army Tokens , remove a stun counter from the gift as though they don be dealt damage\"},\n",
       " {'index': 6175,\n",
       "  'prompt': '[start] <THEMES> RW Identity , Boardwipe , Giant , Creature , Kicker , R Color , Creature Based , {2} {R} {R} Cost <CARD_NAME> <name> <MANA_COST> {2} {R} {R} <TYPE_LINE> Creature — Giant <ORACLE_TEXT> Kicker {W} {W} ( You may pay an additional {W} {W} as you cast this spell . )',\n",
       "  'generated_text': \"[start] <THEMES> RW Identity , Boardwipe , Giant , Creature , Kicker , R Color , Creature Based , {2} {R} {R} Cost <CARD_NAME> <name> <MANA_COST> {2} {R} {R} <TYPE_LINE> Creature — Giant <ORACLE_TEXT> Kicker {W} {W} ( You may pay an additional {W} {W} as you cast this spell . ) \\\\n When <POWER> 5 <TOUGHNESS> 4 < 4 (TOUGHNESS>'s power and regular combat damageTOUGHNESSn < 7 < 13 < 6 < 9 < 5 as long as this creature's power . <LOYALTY> 6 \\\\> 2 < 3 < 8 < 2 \\\\ \\\\TEXT>' descent — 19 < −6 : Destroy all creatures . \\\\11} : < lose the next 5 damage that would be dealt to each creature your opponents control that player controls . You get an emblem with < emblem deals 6 life total power to the number of Corruption Counters , where X is < is the highest mana value of exalted ( Whenever a creature attacks , you may return this card with the battlefield , remove all commanders if it to target creature that convoked <> from your graveyard to that's hand . If they don\"},\n",
       " {'index': 112866,\n",
       "  'prompt': '[start] <THEMES> Creature , Flash , Artifact Based , Soldier , Sacrifice , Enchantment Based , Human , W Color , {1} {W} Cost , W Identity <CARD_NAME> <name> <MANA_COST> {1} {W} <TYPE_LINE> Creature — Human Soldier <ORACLE_TEXT> Flash ( You may cast this spell',\n",
       "  'generated_text': \"[start] <THEMES> Creature , Flash , Artifact Based , Soldier , Sacrifice , Enchantment Based , Human , W Color , {1} {W} Cost , W Identity <CARD_NAME> <name> <MANA_COST> {1} {W} <TYPE_LINE> Creature — Human Soldier <ORACLE_TEXT> Flash ( You may cast this spell any time you could cast an instant . ) \\\\n When this creature enters , sacrifice it . If an enchantment , exile target enchantment or enchantment an opponent controls . \\\\ \\\\> becomes the target of the exiled card with <POWER> 1 <TOUGHNESS> 2 < 2 \\\\ {2} : < 1 1 colorless Soldier artifact creature's tapped . < 3 < 0 < <LOYALTY> 3 as long as < 11 Counters < 9 < 4 < Create three Aura with This creature can't have flying . Activate only during your turn . ( This effect lasts indefinitely . This ability triggers only creatures with Metalcraft — < While attached to tap . Those permanents and only if able and or more artifacts with ice counters on the battlefield . While they control have been activated abilities can be activated ability . A Counters , and abilities of artifacts can attack or block or activate an artifact creatures without paying their controller , targeted , their controllers' untap\"},\n",
       " {'index': 14371,\n",
       "  'prompt': '[start] <THEMES> N Identity , {2} Cost , Creature Based , Artifact , Lore Counters , N Color <CARD_NAME> <name> <MANA_COST> {2} <TYPE_LINE> Artifact <ORACLE_TEXT> Whenever you cast a noncreature spell , put a lore',\n",
       "  'generated_text': \"[start] <THEMES> N Identity , {2} Cost , Creature Based , Artifact , Lore Counters , N Color <CARD_NAME> <name> <MANA_COST> {2} <TYPE_LINE> Artifact <ORACLE_TEXT> Whenever you cast a noncreature spell , put a lore counter on <POWER> 1 <TOUGHNESS> 2 < 1COST>'s intensity 1 counters from < 2 with two lore counters on it . \\\\n {T} : Add {C} , Remove a training counter from a Saga you control to target creature card in a band . Activate only as a sorcery . ( If a group . If it would be dealt damage or destroyed , remove a shield counter and put two shield counters and it becomes untapped creatures with a sector , instead . ) \\\\ : Move all damage that would deal that damage to <LOYALTY> 0 < extra turn . That creature's still a creature would die , prevent that dealt to that permanent and remove all creatures you don't untap during your next untap step . < LEVEL Tapped , and kind of the next turn can't attack this turn if able . When it was blocking or becomes blocked this creature this way , that creature doesn't become untapped , it gains Whenever this combat damage , return it to it at end\"},\n",
       " {'index': 20033,\n",
       "  'prompt': '[start] <THEMES> RU Identity , Damage , Land , Cost , N Color <CARD_NAME> <name> <MANA_COST> <TYPE_LINE> Land <ORACLE_TEXT> <name> enters tapped',\n",
       "  'generated_text': \"[start] <THEMES> RU Identity , Damage , Land , Cost , N Color <CARD_NAME> <name> <MANA_COST> <TYPE_LINE> Land <ORACLE_TEXT> <name> enters tapped . \\\\n When < enters , it deals 1 damage to you . If you don't , you may return a land you control to its owner's hand . <POWER> 2 <TOUGHNESS> 1 < 1TOUGHNESS>'s power 1 ( You expend 4 <LOYALTY> 3 < −7} as you spend your life total mana to the total power 8 < 4 as this spell's intensity is 3 as there are three or more than two or greater from your graveyard this way . ) \\\\> 0 : It's also deals 8 damage divided as < emblem with Whenever you cast an instant or sorcery spell , copy it . You may choose new targets for the copy . ( Each copy of a new target spell you paid as though it this turn . Copies from a sorcery . A copy targets a permanent spell becomes a Treasure token . Saddle , him , he has Whenever this emblem deals 2 damage equal to that spell twice that much damage , < becomes an artifact creature deals that convoked < ) < targeted , destroy that say destroy target creature or planeswalker . This ability\"},\n",
       " {'index': 82240,\n",
       "  'prompt': '[start] <THEMES> Damage , Creature , R Color , Devil , Menace , R Identity , Upkeep , {2} {R} Cost <CARD_NAME> <name> <MANA_COST> {2} {R} <TYPE_LINE> Creature — Devil <ORACLE_TEXT> Menace \\\\n At the beginning of your upkeep',\n",
       "  'generated_text': \"[start] <THEMES> Damage , Creature , R Color , Devil , Menace , R Identity , Upkeep , {2} {R} Cost <CARD_NAME> <name> <MANA_COST> {2} {R} <TYPE_LINE> Creature — Devil <ORACLE_TEXT> Menace \\\\n At the beginning of your upkeep , exile the top card of each player's library . Until end of turn , you may play that card . \\\\ Whenever an opponent plays a land or cast a spell from exile or activate a planeswalker spell , <POWER> 2 <TOUGHNESS> 1 < 2 red Devil creature token with menace for each opponent who sacrificed this way that spell would die this turn . <LOYALTY> 5 < 4 < 9 < 6 <15} less to the total number of Demons , rounded up to that player or planeswalker's life total becomes 15-Dragon , where X is the number . ( Your opponents can't be prevented this process Counters , including < lose the game . ) < can be dealt damage by two or more than the last chosen number and or fewer than one creature spells your opponents , that planeswalker it deals that damage this ability . Damage causes loss of Kher Keep Tokens can help cast < targeted , and until end . This ability but don't\"},\n",
       " {'index': 20969,\n",
       "  'prompt': '[start] <THEMES> N Identity , Damage , {6} Cost , Sacrifice , Artifact , N Color , Card Draw <CARD_NAME> <name> <MANA_COST> {6} <TYPE_LINE> Artifact <ORACLE_TEXT> As <name> enters , choose an opponent and a card name other than a basic land card name . \\\\n',\n",
       "  'generated_text': \"[start] <THEMES> N Identity , Damage , {6} Cost , Sacrifice , Artifact , N Color , Card Draw <CARD_NAME> <name> <MANA_COST> {6} <TYPE_LINE> Artifact <ORACLE_TEXT> As <name> enters , choose an opponent and a card name other than a basic land card name . \\\\n When <> is put into a graveyard from the battlefield , <POWER> 3 <TOUGHNESS> 4 < 7 < 6 < 9 < 5 <LOYALTY> 5 green and 3 \\\\> 6 ( You can't destroy a Mountain as you cast this spell . If you do , it's sacrificed when it enters . ) \\\\ \\\\ Whenever you sacrifice a Forest , draw a land and you lose the game . < do and this ability costs {1} less to cast < becomes untapped . Activate only during your turn , before its controller's upkeep . ( Each deals damage equal to the player can activate an Island as though they don't change target in the target of spells or more than the spell's untap step . Damage dealt damage this turn . A copy of a Swamp , or activate that player may choose new targets of those cards in addition to its owner's color . This ability . Each player loses that spell unless\"},\n",
       " {'index': 103819,\n",
       "  'prompt': '[start] <THEMES> Cycling , Enchantment , W Color , {1} {W} Cost , W Identity <CARD_NAME> <name> <MANA_COST> {1} {W} <TYPE_LINE> Enchantment <ORACLE_TEXT> {W} : The next time a black source of your choice would deal damage to you',\n",
       "  'generated_text': \"[start] <THEMES> Cycling , Enchantment , W Color , {1} {W} Cost , W Identity <CARD_NAME> <name> <MANA_COST> {1} {W} <TYPE_LINE> Enchantment <ORACLE_TEXT> {W} : The next time a black source of your choice would deal damage to you this turn , prevent that damage . \\\\n Cycling {2} ( {5} , Discard this card : Draw a card . ) \\\\ Cycling ability for each card in your hand . ( Pay the card you cycle <POWER> 1 <TOUGHNESS> 2 < 3 < 6 < 4 < 5 < 11 < 2 youTOUGHNESS>'sTOUGHNESSn Basic landcycling {6} and would reduce your life total number of Plains you control to 1 you have thisTOUGHNESS them 2 or less as you choose among any number as this spell'sTOUGHNESS cost . <LOYALTY> 3 \\\\> 5 \\\\ 20 Return < 7 < -1 -2 : Search your graveyard to your library for a Plains card from your commander you've completed a Mountain card with mana value 3 or greater . If you do , put into your devotion to the gift wasn't put it into a Swamp , search your opponents' hands , then shuffle . Otherwise , return < duplicate\"},\n",
       " {'index': 89192,\n",
       "  'prompt': '[start] <THEMES> Aura , Cycling , G Identity , Enchantment , Trample , G Color , Creature Based , {2} {G} Cost <CARD_NAME> <name>',\n",
       "  'generated_text': \"[start] <THEMES> Aura , Cycling , G Identity , Enchantment , Trample , G Color , Creature Based , {2} {G} Cost <CARD_NAME> <name> {6} <TYPE_LINE> Enchantment — Aura <ORACLE_TEXT> Enchant creature \\\\n Enchanted creature gets 3 3 and has trample , and can't attack its power to block this turn . \\\\ Cycling {1} ( {4} , Discard this card : Draw a card . ) \\\\> : Search your library for a basic land card , reveal it , put it into your hand , then shuffle . If you may put that card on top . Otherwise , shuffle and put the card named Umbra Armor , you gain control of that creature's library third from the revealed cards on the bottom of your graveyard . The madness cost is equal to its toughness . It gains enchant creature gains haste . ( If a creature would leave the creature with a Forest , instead search your devotion counter , return this Aura card from your opponents can be destroyed , remove it from their library , use that player's hand instead . Each player discards a land you don't untap it to the battlefield instead that land they discard a Mountain card's graveyard to draw a Desert card instead of their hand . Activate only as a\"},\n",
       " {'index': 55333,\n",
       "  'prompt': '[start] <THEMES> Attacking , R Color , {2} {R} Cost , Creature Based , R Identity , Instant , Card Draw <CARD_NAME> <name> <MANA_COST> {2} {R} <TYPE_LINE> Instant <ORACLE_TEXT> Attacking creatures get X 0 until end of turn , where X is the number',\n",
       "  'generated_text': \"[start] <THEMES> Attacking , R Color , {2} {R} Cost , Creature Based , R Identity , Instant , Card Draw <CARD_NAME> <name> <MANA_COST> {2} {R} <TYPE_LINE> Instant <ORACLE_TEXT> Attacking creatures get X 0 until end of turn , where X is the number of attacking creatures . \\\\n Draw a card . If you control a modified creature with mana value 6 or greater , draw a cards equal to the damage dealt to that creature's power to target player . ( Equipment , Auras you don't control , and counters are modifications . ) \\\\ Draw two cards , then discard a nonland card for each permanent they control that were put into their graveyard from the battlefield attached to it . This ability triggers only as a sorcery . You may choose new targets for the copy of those cards this spell cast that card this turn . <POWER> 2 <TOUGHNESS> 1 <LOYALTY> 3 < though it to its owner's still on each creature that player who didn't untap step . Activate only if able . Those tokens total number to cast it had a single chosen creature and only once each other than the spell . Whenever that died this way , you draw step , whenever a third color can\"},\n",
       " {'index': 78172,\n",
       "  'prompt': '[start] <THEMES> N Identity , Scarecrow , Creature , Creature Based , Artifact , N Color , {3} Cost <CARD_NAME> <name> <MANA_COST> {3} <TYPE_LINE> Artifact Creature — Scarecrow',\n",
       "  'generated_text': \"[start] <THEMES> N Identity , Scarecrow , Creature , Creature Based , Artifact , N Color , {3} Cost <CARD_NAME> <name> <MANA_COST> {3} <TYPE_LINE> Artifact Creature — Scarecrow <ORACLE_TEXT> As <> enters , choose a creature type . \\\\n Creatures you control of the chosen type are the the top of your chosen color in addition to their other types . The same is true for creature spells you own in a color and creature cards you drafted a drafted , land type in your deck is a card type with that aren't on the battlefield . ( A deck can have a crime . ) \\\\ Whenever a permanent of a spell of an opponent controls , if it's a land card , that player may pay {1} . If you do , put it into their graveyard on each other card exiled with <POWER> 3 <TOUGHNESS> 1 < 1 you don't untap during your opponents' hands from <LOYALTY> 0 < < 9 < 2 < 3 \\\\> 4 < 7 < Collect evidence 3 colorless Scarecrow creature with haste . <-bearer , 13 : Put five or more than five-up pile , then put into a 1 1 counters on it from all other colors of that card not\"},\n",
       " {'index': 8326,\n",
       "  'prompt': '[start] <THEMES> Partner , {1} {R} {G} Cost , Creature , Haste , GR Color , Soldier , Scientist , Trample , Human , Menace , Haste Counters , Reach , GR Identity , Legendary <CARD_NAME> <name> <MANA_COST> {1} {R} {G} <TYPE_LINE> Legendary Creature — Human Soldier Scientist <ORACLE_TEXT> Partner with Blue , Loyal Raptor \\\\n {T} : Put your choice of a',\n",
       "  'generated_text': \"[start] <THEMES> Partner , {1} {R} {G} Cost , Creature , Haste , GR Color , Soldier , Scientist , Trample , Human , Menace , Haste Counters , Reach , GR Identity , Legendary <CARD_NAME> <name> <MANA_COST> {1} {R} {G} <TYPE_LINE> Legendary Creature — Human Soldier Scientist <ORACLE_TEXT> Partner with Blue , Loyal Raptor \\\\n {T} : Put your choice of a menace counter on another target legendary permanent an opponent controls . When you do , if that permanent gains the same name is less than or equal to its power . The Ring Tempts , put a hexproof counter of that card's toughness . \\\\> . Until your next turn , double strike , hexproof , indestructible , lifelink , and lifelink can't be the number of cards in all graveyards that were cast spells you own in exile those cards from the command zone or cast this turn . <POWER> 2 <TOUGHNESS> 4 < 2 as long as you've committed a crime this spell from among the other permanents you control three or more Dragons you don't control , <LOYALTY> 3 < 9 < 4 4 Dragon with menace , haste , rounded up to one of those tokens with flying , where X\"},\n",
       " {'index': 50432,\n",
       "  'prompt': '[start] <THEMES> Planeswalker , R Color , Card Draw , R Identity , {2} {R} {R} {R} Cost , Jaya , Legendary , Discard <CARD_NAME> <name> <MANA_COST> {2} {R} {R} {R} <TYPE_LINE> Legendary Planeswalker — Jaya <ORACLE_TEXT> 1 : Add {R} {R} {R} . Spend this mana only to',\n",
       "  'generated_text': \"[start] <THEMES> Planeswalker , R Color , Card Draw , R Identity , {2} {R} {R} {R} Cost , Jaya , Legendary , Discard <CARD_NAME> <name> <MANA_COST> {2} {R} {R} {R} <TYPE_LINE> Legendary Planeswalker — Jaya <ORACLE_TEXT> 1 : Add {R} {R} {R} . Spend this mana only to cast instant or sorcery spells . \\\\n 1 Trapped — 1 , then draw that many cards . You may discard a card . If a red card or red instant and or more loyalty counters are discarded this way , <LOYALTY> 4 <TOUGHNESS> 3 < 4 ( You can't lose loyalty counter , including <POWER> 5 < 6 < 9 < 7 < 11 <11} as though it'sTOUGHNESS>'s power and regular combat damage < 5 Tap any number of planeswalkers you control with < 3 or less < Tap an untapped Dwarves and have partner ,TOUGHNESS them 9 Add 20 < 8 <15} : Take an extra turn . ) \\\\ −6 : Each player who didn't untap all permanents not named Kobolds of Kher Keep Tokens < Yanling , rounded down . < −8} , 19 is the total power\"},\n",
       " {'index': 50019,\n",
       "  'prompt': \"[start] <THEMES> Indestructible , Creature , God , {3} {U} Cost , Enchantment , U Identity , Creature Based , U Color , Legendary , Devotion <CARD_NAME> <name> <MANA_COST> {3} {U} <TYPE_LINE> Legendary Enchantment Creature — God <ORACLE_TEXT> Indestructible \\\\n As long as your devotion to blue is less than five , <name> isn't a creature . \\\\n At the beginning of your end step , exile up to one other target creature you control ,\",\n",
       "  'generated_text': \"[start] <THEMES> Indestructible , Creature , God , {3} {U} Cost , Enchantment , U Identity , Creature Based , U Color , Legendary , Devotion <CARD_NAME> <name> <MANA_COST> {3} {U} <TYPE_LINE> Legendary Enchantment Creature — God <ORACLE_TEXT> Indestructible \\\\n As long as your devotion to blue is less than five , <name> isn't a creature . \\\\n At the beginning of your end step , exile up to one other target creature you control , then return that card to the battlefield with an everything counter on it to its owner's hand . ( Each {S} in the top card of their library . ) \\\\__CARDNAME>'s power is equal to twice the number of creatures you own in any combination of permanents you don't untap symbol in exile . This effect lasts indefinitely . The Ring tempts you noted for artifacts can't cause their total mana only once each turn . <POWER> 2 <TOUGHNESS> 4 <LOYALTY> 3 < 2 blue and have indestructible as though they don help cast spells your commander as long long though it were mana from < have partner . Activate only if < 11 Counters , and other is even is < creates a 4 4 5 <\"},\n",
       " {'index': 78104,\n",
       "  'prompt': \"[start] <THEMES> Creature , Attacking , R Color , Human , Domain , Warrior , Creature Based , {1} {R} Cost , R Identity <CARD_NAME> <name> <MANA_COST> {1} {R} <TYPE_LINE> Creature — Human Warrior <ORACLE_TEXT> Whenever Radha's Firebrand attacks , target creature defending player controls with power less than or equal to Radha's Firebrand's power can't block this turn . \\\\n Domain\",\n",
       "  'generated_text': \"[start] <THEMES> Creature , Attacking , R Color , Human , Domain , Warrior , Creature Based , {1} {R} Cost , R Identity <CARD_NAME> <name> <MANA_COST> {1} {R} <TYPE_LINE> Creature — Human Warrior <ORACLE_TEXT> Whenever Radha's Firebrand attacks , target creature defending player controls with power less than or equal to Radha's Firebrand's power can't block this turn . \\\\n Domain — {3} : Radha , Radha into the number of Radha Tokens Firebrand gets 1 1 until end of turn for each Radha Shadow . X is equal X , where X plus the Firebrand is the power of Jackal Warrior creature with Jackal ,} in the Radha Counters , Mine's Radha gets X or less . Until end step , for as long as <POWER> 2 <TOUGHNESS> 1 < 4 < 3 < 1MANA> 0 < 0 green Jackal Army you control can block it 1 \\\\ Dash ,] {2} ( Tap any number can have this creature can attack each other Jackal Wizard creature won't be blocked by only if able . ) <LOYALTY> 3 or more Jackal Shaman creature has skulk , and only as a sorcery spells as though it can be attacked this combat damage this step .\"},\n",
       " {'index': 61348,\n",
       "  'prompt': '[start] <THEMES> N Identity , Creature , Cycling , Artifact Based , {7} Cost , Artifact , Salamander , Affinity , N Color <CARD_NAME> <name> <MANA_COST> {7} <TYPE_LINE> Artifact Creature — Salamander <ORACLE_TEXT> Affinity for artifacts',\n",
       "  'generated_text': '[start] <THEMES> N Identity , Creature , Cycling , Artifact Based , {7} Cost , Artifact , Salamander , Affinity , N Color <CARD_NAME> <name> <MANA_COST> {7} <TYPE_LINE> Artifact Creature — Salamander <ORACLE_TEXT> Affinity for artifacts ( This spell costs {1} less to cast for each artifact you control . ) \\\\n Artifact landcycling {2} ( {T} , Discard this card : Search your library for a basic land card , reveal it , put it into your hand , then shuffle . The player discards down as a 2 2 creature token . If this way , instead search your graveyard , hand and library this process for any number of nonbasic lands they control , rounded up . Transmute , exile them , and put that card into their hand . They shuffle and the rest on top of their library in any order . Activate only as steps , before attackers are copies of any type . \\\\> remains exiled with <POWER> 3 <TOUGHNESS> 4 <LOYALTY> 5 < 9 < 6 < 7 < 4 \\\\ < 2 < 3 \\\\ 19 Its activated ability . < LEVEL 0 < 1 < emerge cost {X} {TK} : Target artifact creature an Island creature gets 3 ( Tap up to'},\n",
       " {'index': 69352,\n",
       "  'prompt': '[start] <THEMES> N Identity , Aura , Of Counters , Creature Based , Artifact , {4} Cost , N Color <CARD_NAME> <name> <MANA_COST> {4} <TYPE_LINE> Artifact <ORACLE_TEXT> You may choose not to untap <name> during',\n",
       "  'generated_text': \"[start] <THEMES> N Identity , Aura , Of Counters , Creature Based , Artifact , {4} Cost , N Color <CARD_NAME> <name> <MANA_COST> {4} <TYPE_LINE> Artifact <ORACLE_TEXT> You may choose not to untap <name> during your untap step . \\\\n {2} , Remove all creatures you control : Until end of turn , if it has a counter on it and remove all counters from <POWER> 2 <TOUGHNESS> 1 < 2 \\\\ : For as long as <LOYALTY> 3 < 1 1 there is a creature tapped and a copy of the number of counters < 0 < control that were removed , and untap all Auras attached to it . You control < lose all abilities of all creature that would be activated abilities , except for as though they're still apply . < creates> 0 0 1 0 green and white Ox creature tokens that are tapped with all colors of those creatures . They're attached , where to < weren't untap during that had still on < do , not a pupa Counters < is < Move Honour Guard of which has < creature , remove one of each other creature . When < remove Auras on each of them . Activate only as a shield counter removed from it doesn't\"},\n",
       " {'index': 32953,\n",
       "  'prompt': '[start] <THEMES> N Identity , Land , Cost , Creature Based , Banding , N Color <CARD_NAME> <name> <MANA_COST> <TYPE_LINE> Land <ORACLE_TEXT> Black legendary creatures you control',\n",
       "  'generated_text': \"[start] <THEMES> N Identity , Land , Cost , Creature Based , Banding , N Color <CARD_NAME> <name> <MANA_COST> <TYPE_LINE> Land <ORACLE_TEXT> Black legendary creatures you control have bands with other legendary legendary creature . ( Any legendary bands and can attack in a band as long as at least one has bands without , can be blocked as a group . If at the same is a legendary white creatures with another legendary , you divide that creature's combat damage , that player divides that opponent a player is blocking or being blocked by the blocking that blocked into a creature , among any of the creatures it's being declared . Each of which player can't attack or is blocked this turn . ) \\\\n {T} : Up , target creature gains banding until end of turn and all bands , and up to one other creatures that attacked this combat phase out . Activate only if able . \\\\ only during your turn , <POWER> 1 <TOUGHNESS> 0 <LOYALTY> 2 < 2 \\\\6} {4} , all creatures your opponents control get 2 ( This effect lasts indefinitely . This Mount , exalted ( If a white and only creatures without first strike < lose the city's phased out , each player controls can block or\"},\n",
       " {'index': 72512,\n",
       "  'prompt': '[start] <THEMES> Attacking , W Color , Creature Based , {4} {W} Cost , Instant , W Identity , Card Draw <CARD_NAME> <name> <MANA_COST> {4} {W} <TYPE_LINE>',\n",
       "  'generated_text': \"[start] <THEMES> Attacking , W Color , Creature Based , {4} {W} Cost , Instant , W Identity , Card Draw <CARD_NAME> <name> <MANA_COST> {4} {W} <TYPE_LINE> Instant <ORACLE_TEXT> Cast this spell only during the declare attackers step and only if you've been attacked this step . \\\\n Target unblocked attacking creature gets 1 1 until end of turn . You draw a card for each attacking or blocking creature that player . ( This effect lasts indefinitely . ) \\\\ Draw a cards equal to the number of cards in the chosen player's hand on the battlefield tapped creature attacking creatures that were blocked by creatures . If two or more creatures are blocking , you may pay {1} for as long as you pay the entwine cost . <POWER> 2 <TOUGHNESS> 3 <LOYALTY> 5 < 5 white Soldier creature 2 white Kithkin Soldier theTOUGHNESS>'s power 3 \\\\ Entwine {3} ( Choose both if < weren't change the total power among creatures with total number 8 or less than two targets , or three targets and or greater . This spell's power and each creature the other attacking alone , among any number and regular combat damage , and all other is tied for the rest of\"},\n",
       " {'index': 112824,\n",
       "  'prompt': '[start] <THEMES> N Identity , {1} Cost , Creature , Dreadnought , Sacrifice , Trample , Creature Based , Artifact , N Color , Phyrexian <CARD_NAME> <name> <MANA_COST> {1} <TYPE_LINE> Artifact Creature — <name> <ORACLE_TEXT> Trample \\\\n When <name> enters , sacrifice it unless you',\n",
       "  'generated_text': \"[start] <THEMES> N Identity , {1} Cost , Creature , Dreadnought , Sacrifice , Trample , Creature Based , Artifact , N Color , Phyrexian <CARD_NAME> <name> <MANA_COST> {1} <TYPE_LINE> Artifact Creature — <name> <ORACLE_TEXT> Trample \\\\n When <name> enters , sacrifice it unless you sacrifice a creature . \\\\ \\\\ When you control no creatures , each player sacrifices a nontoken creature of their choice . <POWER> 1 <TOUGHNESS> 0 < 6 < 5 < 7 < 3 < 4 < < 9 < 0MANA> 3 colorless Phyrexian Dreadnought Tokens creature tokens with trample until end of turn . ( The next time this creature would be destroyed this turn , remove it from combat , and it's not been activated abilities from a permanent by a color with the same is even , rounded up . ) <LOYALTY> 2 < 8 < 11 , haste as long as you've rolled Leader , is < 1 3 ( This effect lasts indefinitely , targeted , Kobold-Demon creature can attack as though they sacrifice them at least two or more creatures with total power 8 or less . When this way . This ability lasts able , it can't be dealt damage , defending player controls can be prevented this ability .\"},\n",
       " {'index': 123526,\n",
       "  'prompt': \"[start] <THEMES> W Identity , {1} {W} {W} Cost , W Color , Creature Based , Artifact , Equipment , Legendary <CARD_NAME> <name> <MANA_COST> {1} {W} {W} <TYPE_LINE> Legendary Artifact — Equipment <ORACLE_TEXT> Equipped creature gets 3 3 . \\\\n Whenever equipped creature blocks or becomes blocked by one or more creatures , you may exile one of those creatures . \\\\n Your opponents can't cast spells with the same name as\",\n",
       "  'generated_text': \"[start] <THEMES> W Identity , {1} {W} {W} Cost , W Color , Creature Based , Artifact , Equipment , Legendary <CARD_NAME> <name> <MANA_COST> {1} {W} {W} <TYPE_LINE> Legendary Artifact — Equipment <ORACLE_TEXT> Equipped creature gets 3 3 . \\\\n Whenever equipped creature blocks or becomes blocked by one or more creatures , you may exile one of those creatures . \\\\n Your opponents can't cast spells with the same name as a spell from the exiled with <POWER> 2 <TOUGHNESS> 3 < 4 < 3 ( You can have any number of creatures with it 3 or less than two or greater <LOYALTY> 4 or cards withTOUGHNESS>'s power 3 you control with no untapped creatures that share aTOUGHNESS them 4 4 \\\\ Equip {2} : Attach to target creature until end of turn . Equip only as an additional turn and only if the other is attached to a sorcery . ) < create a 4 white Soldier creature that's not attached , then attach <> to it . ( Tap that creature . This ability costs {T} less to that Sliver creatures you don't untap during its controller , and untap all other creatures it has ward {Q}\"},\n",
       " {'index': 1504,\n",
       "  'prompt': '[start] <THEMES> 1 1 Counters , {3} {U} {U} Cost , U Identity , Creature Based , U Color , Instant <CARD_NAME> <name> <MANA_COST> {3} {U} {U} <TYPE_LINE> Instant <ORACLE_TEXT> You may put a 1 1 counter on a creature . Then choose odd or even . Return each creature with power',\n",
       "  'generated_text': \"[start] <THEMES> 1 1 Counters , {3} {U} {U} Cost , U Identity , Creature Based , U Color , Instant <CARD_NAME> <name> <MANA_COST> {3} {U} {U} <TYPE_LINE> Instant <ORACLE_TEXT> You may put a 1 1 counter on a creature . Then choose odd or even . Return each creature with power of that quality to its owner's hand . ( Zero is even , then double the number of each even mana value of mana spent to cast this spell's mana cost includes color . ) \\\\n Return up to X target creatures to their owners' hands , where X is the total power . Put X 1 plus the chosen number and or less from all graveyards onto the battlefield . If X can't , return <LOYALTY> from your graveyard to the other creatures your hand this way to your opponents control . \\\\ Foretell {4} : Put a number you control with a finality counter of 1 0 1 counters on it . <POWER> 3 <TOUGHNESS> 4 < 2 < 3 green and each of those creatures the emerge cost was collected , vigilance < 9 < control and a 20 < −6} less can be blocked this turn . Those players in your\"},\n",
       " {'index': 89166,\n",
       "  'prompt': '[start] <THEMES> Attacking , Splice , R Color , Creature Based , R Identity , {R} Cost , Instant , Arcane <CARD_NAME> <name> <MANA_COST> {R} <TYPE_LINE> Instant — Arcane <ORACLE_TEXT> Target creature attacks this turn if able . \\\\n Splice onto Arcane {R} ( As you cast an Arcane',\n",
       "  'generated_text': \"[start] <THEMES> Attacking , Splice , R Color , Creature Based , R Identity , {R} Cost , Instant , Arcane <CARD_NAME> <name> <MANA_COST> {R} <TYPE_LINE> Instant — Arcane <ORACLE_TEXT> Target creature attacks this turn if able . \\\\n Splice onto Arcane {R} ( As you cast an Arcane spell , you may reveal this card from your hand and pay its splice cost . If you do , add this spell's effects to that spell . When you next cast this way , copy this splice ability and you choose an instant or sorcery card in its text cost this effect . ) \\\\ \\\\ Overload {2} {W} . ( If there are its overload cost , change target in the text of target creature you control that targets for each spell cast before it this Overload , remove it . A copy of that creature on target . You may choose new targets that enchantment and remove a new target for the copies of the copy . This spell once each that ability . The copy that permanent spell could target a permanent is enough to target to it to a creature in a Sliver of a color with it instead . Only the spell becomes a different one . It may change the entwine cost {1} to\"},\n",
       " {'index': 94466,\n",
       "  'prompt': \"[start] <THEMES> {3} {U} Cost , U Identity , Creature Based , U Color , Sorcery <CARD_NAME> <name> <MANA_COST> {3} {U} <TYPE_LINE> Sorcery <ORACLE_TEXT> Destroy target creature . It can't be regenerated . Its controller reveals cards from the top\",\n",
       "  'generated_text': \"[start] <THEMES> {3} {U} Cost , U Identity , Creature Based , U Color , Sorcery <CARD_NAME> <name> <MANA_COST> {3} {U} <TYPE_LINE> Sorcery <ORACLE_TEXT> Destroy target creature . It can't be regenerated . Its controller reveals cards from the top of their library until they reveal a creature card with the same name is revealed . That player puts that card onto the battlefield and puts it into their graveyard . The player shuffles . Repeat this process counter on it . Each player returns a card from their hand all creature cards revealed this way into a graveyard this turn order , then puts the rest into its owner's graveyard with <LOYALTY> 3 <TOUGHNESS> 1 <POWER> 5 < 6 < 4 < 8 < < 9 < 7 < half the highest for each creature destroyed this spell your opponents control that weren't control . ( Your party . ) < extra turn , creatures your choice of the gift as long as though they control can be the city's blessing for artifacts and only during that player controls that didn't change black creatures that share a boon with Whenever you control , that had no longer a poison counter is tied for the entwine cost . If a permanent puts into your upkeeps\"},\n",
       " {'index': 15014,\n",
       "  'prompt': \"[start] <THEMES> Creature , U Identity , Human , U Color , Hexproof , Unblockable , {1} {U} Cost , Rogue <CARD_NAME> <name> <MANA_COST> {1} {U} <TYPE_LINE> Creature — Human Rogue <ORACLE_TEXT> Hexproof ( This creature can't be the target\",\n",
       "  'generated_text': \"[start] <THEMES> Creature , U Identity , Human , U Color , Hexproof , Unblockable , {1} {U} Cost , Rogue <CARD_NAME> <name> <MANA_COST> {1} {U} <TYPE_LINE> Creature — Human Rogue <ORACLE_TEXT> Hexproof ( This creature can't be the target of spells or abilities your opponents control . ) \\\\n Whenever you cast a noncreature spell , you may pay {2} . If you do , <POWER> 2 <TOUGHNESS> 1 < 2 \\\\ < 1 ( You can have two commanders if both have partner . ( The vowels are two or more commanders you control with partner , partner and or fewer than two 1 1 counters from among any number of permanents you own in the form of other is the command zone . Saddle , exile them , then give each other into the encoded on permanents and only as a sorcery . A Counters , and each instance of those creatures you've completed Tomb of them gains hexproof . Damage , among permanents they control , block that had friends forever , he phases in a permanent spell's treated as though they don't cause it didn't untap during your next turn . While voting , those players may choose new targets for the Doctor , or advance to them .\"},\n",
       " {'index': 89353,\n",
       "  'prompt': '[start] <THEMES> Populate , Artifact Based , {G/W} {G/W} Cost , GW Color , Enchantment Based , GW Identity , Instant <CARD_NAME> <name> <MANA_COST> {G/W} {G/W} <TYPE_LINE> Instant <ORACLE_TEXT> Destroy',\n",
       "  'generated_text': \"[start] <THEMES> Populate , Artifact Based , {G/W} {G/W} Cost , GW Color , Enchantment Based , GW Identity , Instant <CARD_NAME> <name> <MANA_COST> {G/W} {G/W} <TYPE_LINE> Instant <ORACLE_TEXT> Destroy target artifact , enchantment , or enchantment . If {2/G} was spent to cast this spell , populate . ( Create a token that's a copy of a creature token you control . It's an artifact with {3} , then populate , create a 1 1 counter on it . ) \\\\n Populate . Creatures you don't control have vigilance . Then populate twice . \\\\ Proliferate , and populate and enchantments you may populate again . The token created with another Role token copy each permanent you own in a shield counter put on them . Activate only as a sorcery . Those tokens that are copies of it only once each creature you've completed a permanent spell only if able . They gain suspend , choose new targets for its owner's white Soldier . A copy that creature a counter of up to one target creature that permanent they control and each kind already there is a Sliver of each spell a planeswalker you you dealt damage to it this turn . Saddle ,\"},\n",
       " {'index': 115970,\n",
       "  'prompt': '[start] <THEMES> 1 1 Counters , Creature , Pirate , R Color , Raid , Goblin , R Identity , {2} {R} Cost <CARD_NAME> <name> <MANA_COST> {2} {R} <TYPE_LINE>',\n",
       "  'generated_text': \"[start] <THEMES> 1 1 Counters , Creature , Pirate , R Color , Raid , Goblin , R Identity , {2} {R} Cost <CARD_NAME> <name> <MANA_COST> {2} {R} <TYPE_LINE> Creature — Goblin Pirate <ORACLE_TEXT> Raid — When this creature enters , if you attacked this turn , put a 1 counter on it . \\\\n Raid of turn ( You may pay {1} and sacrifice a Goblin . When you do , return a permanent you control to its owner's hand . If you don't control with a creature with the greatest power among the 1 or greater . ) \\\\> enters with an art sticker on them , <POWER> 2 <TOUGHNESS> 3 < 4 < 1 < 3 (TOUGHNESS>'s power 2 red Goblin creatures can't cause it to block . <LOYALTY> 0 < long as you have partner . It's sacrificed an Army Tokens <'ve completed a Lizard . Activate only as a sorcery . ( Tap them has no-start as it has partner , it's also a stun counter from a Coin , and When the city's control also put two stun counters on each Army you may have a Young Hero- Young < create a Royal Young Dragon creature token\"},\n",
       " {'index': 70381,\n",
       "  'prompt': '[start] <THEMES> Creature , R Color , Sacrifice , {2} {R} Cost , Human , Warrior , Creature Based , Menace , R Identity , Combat Damage , Treasure Tokens , Tokens <CARD_NAME> <name> <MANA_COST> {2} {R}',\n",
       "  'generated_text': \"[start] <THEMES> Creature , R Color , Sacrifice , {2} {R} Cost , Human , Warrior , Creature Based , Menace , R Identity , Combat Damage , Treasure Tokens , Tokens <CARD_NAME> <name> <MANA_COST> {2} {R} <TYPE_LINE> Snow Creature — Human Warrior <ORACLE_TEXT> Menace ( This creature can't be blocked except by two or more creatures . ) \\\\n Whenever this creature deals combat damage to a player , that player sacrifices a creature of their choice . When they do , you create a Treasure token . ( It's an artifact with {T} , Discard a card , then sacrifice this artifact : Add one mana of any color . A Treasure is spent to cast a nonartifact spell . Sacrifice it . The token is sacrificed artifact . If you don't , sacrifice a land . Otherwise , <POWER> 3 <TOUGHNESS> 2 < 2 ( You can have two commanders if both have partner . Damage and or less than two untapped creatures you control six-Circuit Protege Counters , they control with menace and This effect lasts indefinitely . Creatures that share a stun counters can be destroyed , and planeswalkers you may activate abilities from artifacts with total power 2 or tokens that say destroy them this turn . Those\"}]"
      ]
     },
     "execution_count": 132,
     "metadata": {},
     "output_type": "execute_result"
    }
   ],
   "source": [
    "test_set_generations"
   ]
  },
  {
   "cell_type": "code",
   "execution_count": null,
   "metadata": {},
   "outputs": [],
   "source": [
    "with open('./generated_test_set.txt', 'w') as f:\n",
    "    for item in test_set_generations:\n",
    "        f.write(\"%s\\n\" % item)"
   ]
  },
  {
   "cell_type": "code",
   "execution_count": null,
   "metadata": {},
   "outputs": [],
   "source": []
  },
  {
   "cell_type": "code",
   "execution_count": null,
   "metadata": {},
   "outputs": [],
   "source": []
  },
  {
   "cell_type": "code",
   "execution_count": null,
   "metadata": {},
   "outputs": [],
   "source": []
  },
  {
   "cell_type": "code",
   "execution_count": null,
   "metadata": {},
   "outputs": [],
   "source": []
  },
  {
   "cell_type": "code",
   "execution_count": 110,
   "metadata": {},
   "outputs": [
    {
     "data": {
      "text/plain": [
       "'[start] <THEMES> Druid , Creature , Vigilance , GW Color , GW Identity , Human , Knight , {G} {W} Cost <CARD_NAME> <name> <MANA_COST> {G} {W} <TYPE_LINE> Creature — Human Druid Knight <ORACLE_TEXT>'"
      ]
     },
     "execution_count": 110,
     "metadata": {},
     "output_type": "execute_result"
    }
   ],
   "source": [
    "tokenize_dataset_dict['test']['sentence'][0]"
   ]
  },
  {
   "cell_type": "code",
   "execution_count": 111,
   "metadata": {},
   "outputs": [],
   "source": [
    "def generate_cards(model, tokenizer, dataset, prompt_template, device='cuda', \n",
    "                  max_length=100, temperature=0.8, top_k=50, top_p=0.95, \n",
    "                  no_repeat_ngram_size=2, batch_size=8, num_samples=None):\n",
    "    \"\"\"\n",
    "    Generate Magic card text from prompts in a dataset.\n",
    "    \n",
    "    Args:\n",
    "        model: The language model to use for generation\n",
    "        tokenizer: The tokenizer for the model\n",
    "        dataset: A HuggingFace dataset (or subset) containing prompts\n",
    "        prompt_template: Template string with placeholders for dataset fields\n",
    "        device: Device to run inference on ('cuda' or 'cpu')\n",
    "        max_length: Maximum length of generated text\n",
    "        temperature: Controls randomness (higher = more random)\n",
    "        top_k: Number of highest probability tokens to consider\n",
    "        top_p: Cumulative probability threshold for nucleus sampling\n",
    "        no_repeat_ngram_size: Size of n-grams to avoid repeating\n",
    "        batch_size: Number of examples to process at once\n",
    "        num_samples: Optional limit on number of samples to process\n",
    "        \n",
    "    Returns:\n",
    "        List of dictionaries containing original inputs and generated outputs\n",
    "    \"\"\"\n",
    "    import torch\n",
    "    from tqdm.notebook import tqdm\n",
    "    \n",
    "    results = []\n",
    "    \n",
    "    # Limit samples if specified\n",
    "    if num_samples is not None:\n",
    "        dataset = dataset.select(range(min(num_samples, len(dataset))))\n",
    "    \n",
    "    # Process in batches for efficiency\n",
    "    for i in range(0, len(dataset), batch_size):\n",
    "        batch = dataset[i:i+batch_size]\n",
    "        batch_prompts = []\n",
    "        \n",
    "        # Create prompts for each example in batch\n",
    "        for example in batch:\n",
    "            # Format the prompt using the template and fields from the dataset\n",
    "            # This assumes the prompt template has placeholders matching dataset fields\n",
    "            # Example: \"<THEMES> {themes} <CARD_NAME> {name} <MANA_COST>\"\n",
    "            formatted_prompt = prompt_template\n",
    "            \n",
    "            # Replace each placeholder with corresponding dataset value\n",
    "            for key, value in example.items():\n",
    "                placeholder = \"{\" + key + \"}\"\n",
    "                if placeholder in formatted_prompt:\n",
    "                    formatted_prompt = formatted_prompt.replace(placeholder, str(value))\n",
    "            \n",
    "            batch_prompts.append(formatted_prompt)\n",
    "        \n",
    "        # Tokenize all prompts in batch\n",
    "        inputs = tokenizer(batch_prompts, return_tensors=\"pt\", padding=True).to(device)\n",
    "        \n",
    "        # Generate text for all prompts in batch\n",
    "        with torch.no_grad():\n",
    "            outputs = model.generate(\n",
    "                inputs.input_ids,\n",
    "                max_length=max_length,\n",
    "                do_sample=True,\n",
    "                temperature=temperature,\n",
    "                top_k=top_k,\n",
    "                top_p=top_p,\n",
    "                no_repeat_ngram_size=no_repeat_ngram_size,\n",
    "                pad_token_id=tokenizer.pad_token_id,\n",
    "                eos_token_id=tokenizer.eos_token_id,\n",
    "            )\n",
    "        \n",
    "        # Decode all generated outputs\n",
    "        generated_texts = [tokenizer.decode(output, skip_special_tokens=True) \n",
    "                          for output in outputs]\n",
    "        \n",
    "        # Store results\n",
    "        for j, text in enumerate(generated_texts):\n",
    "            result = {**batch[j], 'generated_text': text, 'prompt': batch_prompts[j]}\n",
    "            results.append(result)\n",
    "            \n",
    "    return results"
   ]
  },
  {
   "cell_type": "code",
   "execution_count": 112,
   "metadata": {},
   "outputs": [],
   "source": [
    "prompt_template = \"<THEMES> {themes} <CARD_NAME> {name} <MANA_COST>\""
   ]
  },
  {
   "cell_type": "code",
   "execution_count": 113,
   "metadata": {},
   "outputs": [
    {
     "ename": "AttributeError",
     "evalue": "'str' object has no attribute 'items'",
     "output_type": "error",
     "traceback": [
      "\u001b[1;31m---------------------------------------------------------------------------\u001b[0m",
      "\u001b[1;31mAttributeError\u001b[0m                            Traceback (most recent call last)",
      "Cell \u001b[1;32mIn[113], line 1\u001b[0m\n\u001b[1;32m----> 1\u001b[0m test_outputs \u001b[38;5;241m=\u001b[39m \u001b[43mgenerate_cards\u001b[49m\u001b[43m(\u001b[49m\u001b[43mgptmodel\u001b[49m\u001b[43m,\u001b[49m\u001b[43m \u001b[49m\u001b[43mtokenizer_fast\u001b[49m\u001b[43m,\u001b[49m\u001b[43m \u001b[49m\u001b[43mtokenize_dataset_dict\u001b[49m\u001b[43m[\u001b[49m\u001b[38;5;124;43m'\u001b[39;49m\u001b[38;5;124;43mtest\u001b[39;49m\u001b[38;5;124;43m'\u001b[39;49m\u001b[43m]\u001b[49m\u001b[43m,\u001b[49m\u001b[43m \u001b[49m\u001b[43mprompt_template\u001b[49m\u001b[43m,\u001b[49m\u001b[43m \u001b[49m\u001b[43mdevice\u001b[49m\u001b[38;5;241;43m=\u001b[39;49m\u001b[43mdevice\u001b[49m\u001b[43m,\u001b[49m\u001b[43m \u001b[49m\u001b[43mnum_samples\u001b[49m\u001b[38;5;241;43m=\u001b[39;49m\u001b[38;5;241;43m10\u001b[39;49m\u001b[43m)\u001b[49m\n",
      "Cell \u001b[1;32mIn[111], line 46\u001b[0m, in \u001b[0;36mgenerate_cards\u001b[1;34m(model, tokenizer, dataset, prompt_template, device, max_length, temperature, top_k, top_p, no_repeat_ngram_size, batch_size, num_samples)\u001b[0m\n\u001b[0;32m     43\u001b[0m formatted_prompt \u001b[38;5;241m=\u001b[39m prompt_template\n\u001b[0;32m     45\u001b[0m \u001b[38;5;66;03m# Replace each placeholder with corresponding dataset value\u001b[39;00m\n\u001b[1;32m---> 46\u001b[0m \u001b[38;5;28;01mfor\u001b[39;00m key, value \u001b[38;5;129;01min\u001b[39;00m \u001b[43mexample\u001b[49m\u001b[38;5;241;43m.\u001b[39;49m\u001b[43mitems\u001b[49m():\n\u001b[0;32m     47\u001b[0m     placeholder \u001b[38;5;241m=\u001b[39m \u001b[38;5;124m\"\u001b[39m\u001b[38;5;124m{\u001b[39m\u001b[38;5;124m\"\u001b[39m \u001b[38;5;241m+\u001b[39m key \u001b[38;5;241m+\u001b[39m \u001b[38;5;124m\"\u001b[39m\u001b[38;5;124m}\u001b[39m\u001b[38;5;124m\"\u001b[39m\n\u001b[0;32m     48\u001b[0m     \u001b[38;5;28;01mif\u001b[39;00m placeholder \u001b[38;5;129;01min\u001b[39;00m formatted_prompt:\n",
      "\u001b[1;31mAttributeError\u001b[0m: 'str' object has no attribute 'items'"
     ]
    }
   ],
   "source": [
    "test_outputs = generate_cards(gptmodel, tokenizer_fast, tokenize_dataset_dict['test'], prompt_template, device=device, num_samples=10)"
   ]
  },
  {
   "cell_type": "code",
   "execution_count": null,
   "metadata": {},
   "outputs": [],
   "source": []
  },
  {
   "cell_type": "code",
   "execution_count": null,
   "metadata": {},
   "outputs": [],
   "source": []
  },
  {
   "cell_type": "code",
   "execution_count": null,
   "metadata": {},
   "outputs": [],
   "source": []
  }
 ],
 "metadata": {
  "kernelspec": {
   "display_name": "Python (tensorflow)",
   "language": "python",
   "name": "tensorflow"
  },
  "language_info": {
   "codemirror_mode": {
    "name": "ipython",
    "version": 3
   },
   "file_extension": ".py",
   "mimetype": "text/x-python",
   "name": "python",
   "nbconvert_exporter": "python",
   "pygments_lexer": "ipython3",
   "version": "3.12.3"
  }
 },
 "nbformat": 4,
 "nbformat_minor": 4
}
