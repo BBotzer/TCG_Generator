{
 "cells": [
  {
   "cell_type": "markdown",
   "metadata": {},
   "source": [
    "Cleaned Version of a Decoder-only (GPT style) transformer architecture."
   ]
  },
  {
   "cell_type": "markdown",
   "metadata": {},
   "source": [
    "# Imports"
   ]
  },
  {
   "cell_type": "markdown",
   "metadata": {},
   "source": [
    "*YOU NEED TO RUN `decoder_thompson_botzercopy.ipynb` before this so you can create the dataset via: `training_data.to_csv(\"../data/processed/training_data.csv\", index=False)`*"
   ]
  },
  {
   "cell_type": "code",
   "execution_count": 1,
   "metadata": {},
   "outputs": [],
   "source": [
    "from tokenizers import Tokenizer, models, pre_tokenizers, decoders, trainers, processors\n",
    "from tokenizers.normalizers import NFKC, Sequence\n",
    "import os\n",
    "from typing import List, Optional, Union\n",
    "from tqdm.notebook import tqdm\n",
    "from tqdm import tqdm\n",
    "import random\n",
    "\n",
    "import transformers\n",
    "from transformers import GPT2Config, GPT2LMHeadModel, GPT2Tokenizer, GPT2TokenizerFast\n",
    "from transformers import PreTrainedTokenizerFast\n",
    "from transformers import AutoTokenizer, BertForSequenceClassification, Trainer, TrainingArguments, DataCollatorWithPadding, DataCollatorForLanguageModeling\n",
    "from datasets import Dataset, DatasetDict,load_dataset #, load_metric\n",
    "from transformers.tokenization_utils_base import AddedToken\n",
    "\n",
    "# import tensorflow as tf\n",
    "\n",
    "from sklearn.model_selection import train_test_split\n",
    "\n",
    "import torch\n",
    "\n",
    "\n",
    "import ast # Because the tokenized_text column data is stored as a string instead of a list...\n",
    "import pandas as pd\n",
    "\n"
   ]
  },
  {
   "cell_type": "markdown",
   "metadata": {},
   "source": [
    "This makes use of the Hugging Face transformer.trainer API so it uses a PyTorch backend"
   ]
  },
  {
   "cell_type": "code",
   "execution_count": 2,
   "metadata": {},
   "outputs": [
    {
     "name": "stdout",
     "output_type": "stream",
     "text": [
      "You are usisng cuda on a NVIDIA GeForce GTX 1070.\n"
     ]
    }
   ],
   "source": [
    "# Check pytorch GPU availability\n",
    "device = torch.device(\"cuda\" if torch.cuda.is_available() else \"cpu\")\n",
    "print(f'You are usisng {device} on a {torch.cuda.get_device_name()}.')"
   ]
  },
  {
   "cell_type": "markdown",
   "metadata": {},
   "source": [
    "# Grab the dataset\n",
    "\n",
    "1) Get the dataset\n",
    "2) Fix the tokenize_text column from a string to a list of strings\n",
    "3) Pull out all of the words into a mega-list\n",
    "\n",
    "**SOMTHING IS WRONG WITH THE DATASET.  Likely an issue with the preprocessing steps...**\n",
    "\n",
    "See:\n",
    "\n",
    "Item 19152 seems like it is too many cards put together... I need to figure out what is going on.\n",
    "\n",
    "'Crash Landing — Search your library for a basic land card , reveal it , put it into your hand , then shuffle . \\\\n Goblin Camp — Create a Treasure token . \\\\n Emerald Grove — Create a 2/2 white Knight creature token . \\\\n Auntie\\'s Teahouse — Scry 3 . \\\\n Defiled Temple — You may sacrifice a permanent . If you do , draw a card . \\\\n Mountain Pass — You may put a land card from your hand onto the battlefield . \\\\n Ebonlake Grotto — Create two 1/1 blue Faerie Dragon creature tokens with flying . \\\\n Grymforge — For each opponent , goad up to one target creature that player controls . \\\\n Githyanki Crèche — Distribute three +1/+1 counters among up to three target creatures you control . \\\\n Last Light Inn — Draw two cards . \\\\n Reithwin Tollhouse — Roll 2d4 and create that many Treasure tokens . \\\\n Moonrise Towers — Instant and sorcery spells you cast this turn cost 3 less to cast . \\\\n Gauntlet of Shar — Each opponent loses 5 life . \\\\n Balthazar\\'s Lab — Return up to two target creature cards from your graveyard to your hand . \\\\n Circus of the Last Days — Create a token that\\'s a copy of one of your commanders , except it\\'s not legendary . \\\\n Undercity Ruins — Create three 4/1 black Skeleton creature tokens with menace . \\\\n Steel Watch Foundry — You get an emblem with \"Creatures you control get +2/+2 and have trample . \" \\\\n Ansur\\'s Sanctum — Reveal the top four cards of your library and put them into your hand . Each opponent loses life equal to those cards\\' total mana value . \\\\n Temple of Bhaal — Creatures your opponents control get -5/-5 until end of turn .'\n"
   ]
  },
  {
   "cell_type": "code",
   "execution_count": 25,
   "metadata": {},
   "outputs": [],
   "source": [
    "# Read the processed card data from wherever you have it.\n",
    "\n",
    "# df = pd.read_csv('../data/processed/mtg_carddata_processed.csv')\n",
    "\n",
    "# df = pd.read_csv('../data/processed/mtg_carddata_processed_2_23_25.csv')  # Trainer and current process will work with this dataset\n",
    "\n",
    "df = pd.read_csv('../data/processed/training_data.csv')"
   ]
  },
  {
   "cell_type": "code",
   "execution_count": 26,
   "metadata": {},
   "outputs": [
    {
     "data": {
      "text/html": [
       "<div>\n",
       "<style scoped>\n",
       "    .dataframe tbody tr th:only-of-type {\n",
       "        vertical-align: middle;\n",
       "    }\n",
       "\n",
       "    .dataframe tbody tr th {\n",
       "        vertical-align: top;\n",
       "    }\n",
       "\n",
       "    .dataframe thead th {\n",
       "        text-align: right;\n",
       "    }\n",
       "</style>\n",
       "<table border=\"1\" class=\"dataframe\">\n",
       "  <thead>\n",
       "    <tr style=\"text-align: right;\">\n",
       "      <th></th>\n",
       "      <th>sentence</th>\n",
       "      <th>prediction</th>\n",
       "    </tr>\n",
       "  </thead>\n",
       "  <tbody>\n",
       "    <tr>\n",
       "      <th>0</th>\n",
       "      <td>[start] &lt;THEMES&gt; N Identity , Artifact , N Col...</td>\n",
       "      <td>&lt;CARD_NAME&gt;</td>\n",
       "    </tr>\n",
       "    <tr>\n",
       "      <th>1</th>\n",
       "      <td>[start] &lt;THEMES&gt; N Identity , Artifact , N Col...</td>\n",
       "      <td>&lt;name&gt;</td>\n",
       "    </tr>\n",
       "    <tr>\n",
       "      <th>2</th>\n",
       "      <td>[start] &lt;THEMES&gt; N Identity , Artifact , N Col...</td>\n",
       "      <td>&lt;MANA_COST&gt;</td>\n",
       "    </tr>\n",
       "    <tr>\n",
       "      <th>3</th>\n",
       "      <td>[start] &lt;THEMES&gt; N Identity , Artifact , N Col...</td>\n",
       "      <td>{3}</td>\n",
       "    </tr>\n",
       "    <tr>\n",
       "      <th>4</th>\n",
       "      <td>[start] &lt;THEMES&gt; N Identity , Artifact , N Col...</td>\n",
       "      <td>&lt;TYPE_LINE&gt;</td>\n",
       "    </tr>\n",
       "    <tr>\n",
       "      <th>...</th>\n",
       "      <td>...</td>\n",
       "      <td>...</td>\n",
       "    </tr>\n",
       "    <tr>\n",
       "      <th>1267820</th>\n",
       "      <td>[start] &lt;THEMES&gt; Creature , W Color , Creature...</td>\n",
       "      <td>&lt;POWER&gt;</td>\n",
       "    </tr>\n",
       "    <tr>\n",
       "      <th>1267821</th>\n",
       "      <td>[start] &lt;THEMES&gt; Creature , W Color , Creature...</td>\n",
       "      <td>1</td>\n",
       "    </tr>\n",
       "    <tr>\n",
       "      <th>1267822</th>\n",
       "      <td>[start] &lt;THEMES&gt; Creature , W Color , Creature...</td>\n",
       "      <td>&lt;TOUGHNESS&gt;</td>\n",
       "    </tr>\n",
       "    <tr>\n",
       "      <th>1267823</th>\n",
       "      <td>[start] &lt;THEMES&gt; Creature , W Color , Creature...</td>\n",
       "      <td>1</td>\n",
       "    </tr>\n",
       "    <tr>\n",
       "      <th>1267824</th>\n",
       "      <td>[start] &lt;THEMES&gt; Creature , W Color , Creature...</td>\n",
       "      <td>[end]</td>\n",
       "    </tr>\n",
       "  </tbody>\n",
       "</table>\n",
       "<p>1267825 rows × 2 columns</p>\n",
       "</div>"
      ],
      "text/plain": [
       "                                                  sentence   prediction\n",
       "0        [start] <THEMES> N Identity , Artifact , N Col...  <CARD_NAME>\n",
       "1        [start] <THEMES> N Identity , Artifact , N Col...       <name>\n",
       "2        [start] <THEMES> N Identity , Artifact , N Col...  <MANA_COST>\n",
       "3        [start] <THEMES> N Identity , Artifact , N Col...          {3}\n",
       "4        [start] <THEMES> N Identity , Artifact , N Col...  <TYPE_LINE>\n",
       "...                                                    ...          ...\n",
       "1267820  [start] <THEMES> Creature , W Color , Creature...      <POWER>\n",
       "1267821  [start] <THEMES> Creature , W Color , Creature...            1\n",
       "1267822  [start] <THEMES> Creature , W Color , Creature...  <TOUGHNESS>\n",
       "1267823  [start] <THEMES> Creature , W Color , Creature...            1\n",
       "1267824  [start] <THEMES> Creature , W Color , Creature...        [end]\n",
       "\n",
       "[1267825 rows x 2 columns]"
      ]
     },
     "execution_count": 26,
     "metadata": {},
     "output_type": "execute_result"
    }
   ],
   "source": [
    "df"
   ]
  },
  {
   "cell_type": "code",
   "execution_count": 27,
   "metadata": {},
   "outputs": [
    {
     "data": {
      "text/html": [
       "<div>\n",
       "<style scoped>\n",
       "    .dataframe tbody tr th:only-of-type {\n",
       "        vertical-align: middle;\n",
       "    }\n",
       "\n",
       "    .dataframe tbody tr th {\n",
       "        vertical-align: top;\n",
       "    }\n",
       "\n",
       "    .dataframe thead th {\n",
       "        text-align: right;\n",
       "    }\n",
       "</style>\n",
       "<table border=\"1\" class=\"dataframe\">\n",
       "  <thead>\n",
       "    <tr style=\"text-align: right;\">\n",
       "      <th></th>\n",
       "      <th>sentence</th>\n",
       "      <th>prediction</th>\n",
       "    </tr>\n",
       "  </thead>\n",
       "  <tbody>\n",
       "    <tr>\n",
       "      <th>0</th>\n",
       "      <td>[start] &lt;THEMES&gt; N Identity , Artifact , N Col...</td>\n",
       "      <td>&lt;CARD_NAME&gt;</td>\n",
       "    </tr>\n",
       "    <tr>\n",
       "      <th>1</th>\n",
       "      <td>[start] &lt;THEMES&gt; N Identity , Artifact , N Col...</td>\n",
       "      <td>&lt;name&gt;</td>\n",
       "    </tr>\n",
       "    <tr>\n",
       "      <th>2</th>\n",
       "      <td>[start] &lt;THEMES&gt; N Identity , Artifact , N Col...</td>\n",
       "      <td>&lt;MANA_COST&gt;</td>\n",
       "    </tr>\n",
       "    <tr>\n",
       "      <th>3</th>\n",
       "      <td>[start] &lt;THEMES&gt; N Identity , Artifact , N Col...</td>\n",
       "      <td>{3}</td>\n",
       "    </tr>\n",
       "    <tr>\n",
       "      <th>4</th>\n",
       "      <td>[start] &lt;THEMES&gt; N Identity , Artifact , N Col...</td>\n",
       "      <td>&lt;TYPE_LINE&gt;</td>\n",
       "    </tr>\n",
       "    <tr>\n",
       "      <th>5</th>\n",
       "      <td>[start] &lt;THEMES&gt; N Identity , Artifact , N Col...</td>\n",
       "      <td>Artifact</td>\n",
       "    </tr>\n",
       "    <tr>\n",
       "      <th>6</th>\n",
       "      <td>[start] &lt;THEMES&gt; N Identity , Artifact , N Col...</td>\n",
       "      <td>&lt;ORACLE_TEXT&gt;</td>\n",
       "    </tr>\n",
       "  </tbody>\n",
       "</table>\n",
       "</div>"
      ],
      "text/plain": [
       "                                            sentence     prediction\n",
       "0  [start] <THEMES> N Identity , Artifact , N Col...    <CARD_NAME>\n",
       "1  [start] <THEMES> N Identity , Artifact , N Col...         <name>\n",
       "2  [start] <THEMES> N Identity , Artifact , N Col...    <MANA_COST>\n",
       "3  [start] <THEMES> N Identity , Artifact , N Col...            {3}\n",
       "4  [start] <THEMES> N Identity , Artifact , N Col...    <TYPE_LINE>\n",
       "5  [start] <THEMES> N Identity , Artifact , N Col...       Artifact\n",
       "6  [start] <THEMES> N Identity , Artifact , N Col...  <ORACLE_TEXT>"
      ]
     },
     "execution_count": 27,
     "metadata": {},
     "output_type": "execute_result"
    }
   ],
   "source": [
    "df[:7]"
   ]
  },
  {
   "cell_type": "code",
   "execution_count": 28,
   "metadata": {},
   "outputs": [
    {
     "name": "stdout",
     "output_type": "stream",
     "text": [
      "0    [start] <THEMES> N Identity , Artifact , N Col...\n",
      "1    [start] <THEMES> N Identity , Artifact , N Col...\n",
      "2    [start] <THEMES> N Identity , Artifact , N Col...\n",
      "3    [start] <THEMES> N Identity , Artifact , N Col...\n",
      "4    [start] <THEMES> N Identity , Artifact , N Col...\n",
      "5    [start] <THEMES> N Identity , Artifact , N Col...\n",
      "6    [start] <THEMES> N Identity , Artifact , N Col...\n",
      "Name: sentence, dtype: object\n"
     ]
    }
   ],
   "source": [
    "\n",
    "print(df['sentence'][:7])"
   ]
  },
  {
   "cell_type": "code",
   "execution_count": 29,
   "metadata": {},
   "outputs": [
    {
     "data": {
      "text/plain": [
       "'[start] <THEMES> N Identity , Artifact , N Color , {3} Cost'"
      ]
     },
     "execution_count": 29,
     "metadata": {},
     "output_type": "execute_result"
    }
   ],
   "source": [
    "df['sentence'][0]"
   ]
  },
  {
   "cell_type": "code",
   "execution_count": 30,
   "metadata": {},
   "outputs": [
    {
     "data": {
      "text/plain": [
       "0    [[start], <THEMES>, N, Identity, ,, Artifact, ...\n",
       "1    [[start], <THEMES>, N, Identity, ,, Artifact, ...\n",
       "2    [[start], <THEMES>, N, Identity, ,, Artifact, ...\n",
       "3    [[start], <THEMES>, N, Identity, ,, Artifact, ...\n",
       "4    [[start], <THEMES>, N, Identity, ,, Artifact, ...\n",
       "5    [[start], <THEMES>, N, Identity, ,, Artifact, ...\n",
       "6    [[start], <THEMES>, N, Identity, ,, Artifact, ...\n",
       "Name: sentence_split, dtype: object"
      ]
     },
     "execution_count": 30,
     "metadata": {},
     "output_type": "execute_result"
    }
   ],
   "source": [
    "# Basic split on whitespace\n",
    "df['sentence_split'] = df['sentence'].str.split()\n",
    "df['sentence_split'][:7]"
   ]
  },
  {
   "cell_type": "code",
   "execution_count": 34,
   "metadata": {},
   "outputs": [
    {
     "data": {
      "text/plain": [
       "'[start]'"
      ]
     },
     "execution_count": 34,
     "metadata": {},
     "output_type": "execute_result"
    }
   ],
   "source": [
    "df['sentence_split'][0][0]"
   ]
  },
  {
   "cell_type": "code",
   "execution_count": 32,
   "metadata": {},
   "outputs": [
    {
     "name": "stdout",
     "output_type": "stream",
     "text": [
      "Total tokens: 343568844\n",
      "First 20 tokens: ['[', 's', 't', 'a', 'r', 't', ']', ' ', '<', 'T', 'H', 'E', 'M', 'E', 'S', '>', ' ', 'N', ' ', 'I']\n"
     ]
    }
   ],
   "source": [
    "# Combine all tokens into one large list\n",
    "all_tokens = []\n",
    "for tokens in df['sentence']:\n",
    "    all_tokens.extend(tokens)\n",
    "\n",
    "# Alternative one-liner using list comprehension\n",
    "# all_tokens = [token for tokens in df['sentence'] for token in tokens]\n",
    "\n",
    "# Display the first 20 tokens to verify\n",
    "print(f\"Total tokens: {len(all_tokens)}\")\n",
    "print(\"First 20 tokens:\", all_tokens[:20])"
   ]
  },
  {
   "cell_type": "code",
   "execution_count": 33,
   "metadata": {},
   "outputs": [
    {
     "name": "stdout",
     "output_type": "stream",
     "text": [
      "0    [start] <THEMES> N Identity , Artifact , N Col...\n",
      "1    [start] <THEMES> N Identity , Artifact , N Col...\n",
      "2    [start] <THEMES> N Identity , Artifact , N Col...\n",
      "Name: sentence, dtype: object\n"
     ]
    }
   ],
   "source": [
    "corpus = df['sentence']\n",
    "print(corpus[0:3])"
   ]
  },
  {
   "cell_type": "code",
   "execution_count": 35,
   "metadata": {},
   "outputs": [],
   "source": [
    "# Convert corpus to list of strings if it's not already\n",
    "corpus_list = corpus.tolist() if hasattr(corpus, 'tolist') else list(corpus)"
   ]
  },
  {
   "cell_type": "code",
   "execution_count": 36,
   "metadata": {},
   "outputs": [
    {
     "data": {
      "text/plain": [
       "pandas.core.series.Series"
      ]
     },
     "execution_count": 36,
     "metadata": {},
     "output_type": "execute_result"
    }
   ],
   "source": [
    "type(corpus)"
   ]
  },
  {
   "cell_type": "code",
   "execution_count": 37,
   "metadata": {},
   "outputs": [
    {
     "data": {
      "text/plain": [
       "str"
      ]
     },
     "execution_count": 37,
     "metadata": {},
     "output_type": "execute_result"
    }
   ],
   "source": [
    "type(corpus_list[0])"
   ]
  },
  {
   "cell_type": "code",
   "execution_count": 38,
   "metadata": {},
   "outputs": [],
   "source": [
    "# Convert pandas Series to list of strings\n",
    "corpus_list = corpus.values.tolist()\n",
    "\n",
    "# Ensure all elements are strings\n",
    "corpus_list = [str(text) for text in corpus_list]"
   ]
  },
  {
   "cell_type": "code",
   "execution_count": 39,
   "metadata": {},
   "outputs": [
    {
     "data": {
      "text/plain": [
       "'[start] <THEMES> N Identity , Artifact , N Color , {3} Cost'"
      ]
     },
     "execution_count": 39,
     "metadata": {},
     "output_type": "execute_result"
    }
   ],
   "source": [
    "# Corrected the above code to ensure all elements are strings\n",
    "corpus_list[0]"
   ]
  },
  {
   "cell_type": "code",
   "execution_count": 40,
   "metadata": {},
   "outputs": [
    {
     "name": "stdout",
     "output_type": "stream",
     "text": [
      "<class 'list'>\n",
      "<class 'str'>\n"
     ]
    }
   ],
   "source": [
    "# Check the first few elements to verify\n",
    "print(type(corpus_list))  # Should show: <class 'list'>\n",
    "print(type(corpus_list[0]))  # Should show: <class 'str'>"
   ]
  },
  {
   "cell_type": "markdown",
   "metadata": {},
   "source": [
    "# Split into train/val/test datasets\n",
    "\n",
    "Do we need to keep other information with the corpus_list as we split it up?  Names, color, etc.?\n",
    "\n",
    "If we're just generating text, I think that answer is no.  If we want more, then the answer is likely yes."
   ]
  },
  {
   "cell_type": "code",
   "execution_count": 41,
   "metadata": {},
   "outputs": [],
   "source": [
    "# Split data into train/validation/test (80/10/10) sets\n",
    "train_list, temp = train_test_split(corpus_list, test_size=0.2, random_state=42) # Set 80% for training\n",
    "val, test = train_test_split(temp, test_size=0.5, random_state=42) # Set 10% for validation and 10% for testing"
   ]
  },
  {
   "cell_type": "code",
   "execution_count": 42,
   "metadata": {},
   "outputs": [
    {
     "data": {
      "text/plain": [
       "DatasetDict({\n",
       "    train: Dataset({\n",
       "        features: ['sentence'],\n",
       "        num_rows: 1014260\n",
       "    })\n",
       "    validation: Dataset({\n",
       "        features: ['sentence'],\n",
       "        num_rows: 126782\n",
       "    })\n",
       "    test: Dataset({\n",
       "        features: ['sentence'],\n",
       "        num_rows: 126783\n",
       "    })\n",
       "})"
      ]
     },
     "execution_count": 42,
     "metadata": {},
     "output_type": "execute_result"
    }
   ],
   "source": [
    "# Turn them into dicts so I can use them with the Hugging Face Dataset class\n",
    "train = [{\"sentence\": text} for text in train_list]  # Wrap each sentence in a dict\n",
    "val = [{\"sentence\": text} for text in val]\n",
    "test = [{\"sentence\": text} for text in test]\n",
    "\n",
    "# Create the Dataset Dictionary for future mapping\n",
    "data = DatasetDict({\n",
    "    'train': Dataset.from_list(train),\n",
    "    'validation': Dataset.from_list(val),\n",
    "    'test': Dataset.from_list(test)\n",
    "    })\n",
    "\n",
    "data"
   ]
  },
  {
   "cell_type": "code",
   "execution_count": 43,
   "metadata": {},
   "outputs": [
    {
     "data": {
      "text/plain": [
       "{'sentence': ['[start] <THEMES> B Identity , 1 1 Counters , Creature , Sacrifice , Creature Based , B Color , Zombie , {2} {B} Cost <CARD_NAME> <name> <MANA_COST> {2} {B} <TYPE_LINE> Creature — Zombie <ORACLE_TEXT> {1} {B} , Sacrifice another creature : Put two 1 1 counters on <name> . Activate only as a',\n",
       "  '[start] <THEMES> Damage , Flash , Enchantment , R Color , R Identity , {3} {R} {R} Cost <CARD_NAME> <name> <MANA_COST> {3} {R} {R} <TYPE_LINE> Enchantment <ORACLE_TEXT> Flash \\\\n If a source would deal damage to a permanent or player , it deals double that damage to that permanent or player instead',\n",
       "  '[start] <THEMES> {2} {W} Cost , Enchantment , W Color , Tokens , Treasure Tokens , W Identity , Card Draw <CARD_NAME> <name> <MANA_COST> {2} {W} <TYPE_LINE> Enchantment <ORACLE_TEXT> At the beginning',\n",
       "  '[start] <THEMES> {3} {W} Cost , W Color , Creature Based , Sorcery , Rebound , W Identity <CARD_NAME> <name> <MANA_COST> {3} {W} <TYPE_LINE> Sorcery <ORACLE_TEXT> Creatures you control get 2 1 until end of turn . \\\\n Rebound ( If you cast this spell from your hand , exile it as it resolves . At the beginning of your next upkeep , you may',\n",
       "  \"[start] <THEMES> Planeswalker , UW Identity , Narset , Rebound , UW Color , {2} {W} {U} Cost , Legendary <CARD_NAME> <name> <MANA_COST> {2} {W} {U} <TYPE_LINE> Legendary Planeswalker — Narset <ORACLE_TEXT> 1 : Look at the top card of your library . If it's a noncreature , nonland card , you may reveal it and put it into your hand . \\\\n −2\"]}"
      ]
     },
     "execution_count": 43,
     "metadata": {},
     "output_type": "execute_result"
    }
   ],
   "source": [
    "# Check the items\n",
    "data['train'][:5]"
   ]
  },
  {
   "cell_type": "code",
   "execution_count": 44,
   "metadata": {},
   "outputs": [
    {
     "data": {
      "text/plain": [
       "'[start] <THEMES> UW Identity , Creature Based , {W} {U} Cost , Combat Damage , UW Color , Instant , Fog <CARD_NAME> <name> <MANA_COST> {W} {U} <TYPE_LINE> Instant'"
      ]
     },
     "execution_count": 44,
     "metadata": {},
     "output_type": "execute_result"
    }
   ],
   "source": [
    "data['validation']['sentence'][0]"
   ]
  },
  {
   "cell_type": "markdown",
   "metadata": {},
   "source": [
    "# Train the Tokenizer on Training Data\n",
    "\n",
    "Keep the validation and test sets out of the tokenizer to prevent data leakage."
   ]
  },
  {
   "cell_type": "code",
   "execution_count": 45,
   "metadata": {},
   "outputs": [],
   "source": [
    "# Create a directory for tokenizer files if it doesn't exist\n",
    "models_dir = \"../models/themed_data\"\n",
    "os.makedirs(models_dir, exist_ok=True)"
   ]
  },
  {
   "cell_type": "markdown",
   "metadata": {},
   "source": [
    "## Tokenizer Functions\n",
    "\n",
    "1) `create_gpt2_tokenizer`\n",
    "\n",
    "2) `train_tokenizer_from_texts`\n",
    "\n",
    "3) `convert_to_transformers_tokenizer` -> This is important to allow `trainer.train` to work\n",
    "\n",
    "4) `use_transformers_tokenizer`\n",
    "\n",
    "5) `load_transformers_tokenizer` -> Used if you have one to load, else just carry from `tokenizer=convert_to_transformers_tokenizer`\n",
    "\n",
    "6) `demonstrate_workflow2` -> make sure this whole thing even works..."
   ]
  },
  {
   "cell_type": "code",
   "execution_count": 46,
   "metadata": {},
   "outputs": [],
   "source": [
    "def create_gpt2_tokenizer(vocab_size=8192, min_frequency=2):\n",
    "    \"\"\"\n",
    "    Create a GPT2-style BPE tokenizer from scratch using Hugging Face tokenizers library.\n",
    "\n",
    "    Args:\n",
    "        vocab_size: The size of the vocabulary to learn\n",
    "        min_frequency: Minimum frequency for a token to be considered in the BPE algorithm\n",
    "\n",
    "    Returns:\n",
    "        A tokenizer object ready for training\n",
    "    \"\"\"\n",
    "    # Initialize a ByteLevelBPE model-based tokenizer\n",
    "    tokenizer = Tokenizer(models.BPE())\n",
    "\n",
    "    # Add byte-level pre-tokenizer\n",
    "    tokenizer.pre_tokenizer = pre_tokenizers.ByteLevel(add_prefix_space=False)\n",
    "\n",
    "    # Add decoder to properly decode byte-level tokens\n",
    "    tokenizer.decoder = decoders.ByteLevel()\n",
    "\n",
    "    # Set up normalizers - GPT-2 doesn't do much normalization\n",
    "    tokenizer.normalizer = Sequence([NFKC()])\n",
    "\n",
    "    # Return the tokenizer (to be trained later)\n",
    "    return tokenizer\n",
    "\n",
    "\n",
    "def train_tokenizer_from_texts(\n",
    "    tokenizer: Tokenizer,\n",
    "    texts: List[str],\n",
    "    vocab_size: int = 8192,\n",
    "    min_frequency: int = 2,\n",
    "    batch_size: int = 512,\n",
    "    output_dir: str = \"tokenizer\"\n",
    "):\n",
    "    \"\"\"\n",
    "    Train the tokenizer on a list of texts using batching\n",
    "\n",
    "    Args:\n",
    "        tokenizer: The tokenizer object to train\n",
    "        texts: List of strings to use for training\n",
    "        vocab_size: Maximum vocabulary size\n",
    "        min_frequency: Minimum frequency for a token\n",
    "        batch_size: Number of texts to process in each batch\n",
    "        output_dir: Directory to save the trained tokenizer\n",
    "\n",
    "    Returns:\n",
    "        The trained tokenizer\n",
    "    \"\"\"\n",
    "    if not texts:\n",
    "        raise ValueError(\"No texts provided for training\")\n",
    "\n",
    "    # Configure the BPE trainer\n",
    "    trainer = trainers.BpeTrainer(\n",
    "        vocab_size=vocab_size,\n",
    "        min_frequency=min_frequency,\n",
    "        special_tokens=[\"<|endoftext|>\", \"<|pad|>\"],\n",
    "        show_progress=True,\n",
    "    )\n",
    "\n",
    "    # Create temporary files for batched training\n",
    "    temp_dir = os.path.join(output_dir, \"temp\")\n",
    "    os.makedirs(temp_dir, exist_ok=True)\n",
    "\n",
    "    # Split texts into batches\n",
    "    batches = [texts[i:i+batch_size] for i in range(0, len(texts), batch_size)]\n",
    "    batch_files = []\n",
    "\n",
    "    print(f\"Preparing {len(batches)} batches for training...\")\n",
    "\n",
    "    # Write batches to temporary files\n",
    "    for i, batch in enumerate(tqdm(batches)):\n",
    "        batch_file = os.path.join(temp_dir, f\"batch_{i}.txt\")\n",
    "        with open(batch_file, \"w\", encoding=\"utf-8\") as f:\n",
    "            f.write(\"\\n<|endoftext|>\\n\".join(batch))\n",
    "            f.write(\"\\n<|endoftext|>\\n\")  # Add final separator\n",
    "        batch_files.append(batch_file)\n",
    "\n",
    "    # Train the tokenizer\n",
    "    print(\"Training tokenizer...\")\n",
    "    tokenizer.train(batch_files, trainer)\n",
    "\n",
    "    # Add post-processor to handle special tokens\n",
    "    tokenizer.post_processor = processors.ByteLevel(trim_offsets=False)\n",
    "\n",
    "    # Enable padding with the PAD token\n",
    "    pad_id = tokenizer.token_to_id(\"<|pad|>\")\n",
    "    if pad_id is not None:\n",
    "        tokenizer.enable_padding(pad_id=pad_id, pad_token=\"<|pad|>\")\n",
    "    else:\n",
    "        print(\"Warning: <|pad|> token not found in vocabulary. Padding won't work correctly.\")\n",
    "\n",
    "    # Save the trained tokenizer\n",
    "    if not os.path.exists(output_dir):\n",
    "        os.makedirs(output_dir)\n",
    "    tokenizer.save(f\"{output_dir}/gpt2_tokenizer.json\")\n",
    "\n",
    "    # Clean up temporary files\n",
    "    for file in batch_files:\n",
    "        os.remove(file)\n",
    "    os.rmdir(temp_dir)\n",
    "\n",
    "    print(f\"Tokenizer trained and saved to {output_dir}/gpt2_tokenizer.json\")\n",
    "    return tokenizer\n",
    "\n",
    "\n",
    "def convert_to_transformers_tokenizer(\n",
    "    tokenizer_path: str,\n",
    "    output_dir: str = None,\n",
    "    model_max_length: int = 1024\n",
    "):\n",
    "    \"\"\"\n",
    "    Convert a trained tokenizers.Tokenizer to a transformers compatible tokenizer\n",
    "\n",
    "    Args:\n",
    "        tokenizer_path: Path to the saved tokenizer JSON file\n",
    "        output_dir: Directory to save the transformers tokenizer\n",
    "        model_max_length: Maximum sequence length for the model\n",
    "\n",
    "    Returns:\n",
    "        A transformers-compatible tokenizer\n",
    "    \"\"\"\n",
    "    # Load the tokenizer\n",
    "    if isinstance(tokenizer_path, Tokenizer):\n",
    "        # If a tokenizer object is passed directly\n",
    "        raw_tokenizer = tokenizer_path\n",
    "    else:\n",
    "        # Load from file\n",
    "        raw_tokenizer = Tokenizer.from_file(tokenizer_path)\n",
    "\n",
    "    # Define special tokens\n",
    "    eos_token = \"<|endoftext|>\"  # GPT-2 uses EOS as both BOS and EOS\n",
    "    pad_token = \"<|pad|>\"\n",
    "\n",
    "    # Create the transformers wrapper\n",
    "    transformers_tokenizer = PreTrainedTokenizerFast(\n",
    "        tokenizer_object=raw_tokenizer,\n",
    "        bos_token=eos_token,  # GPT-2 uses EOS as BOS too\n",
    "        eos_token=eos_token,\n",
    "        pad_token=pad_token,\n",
    "        unk_token=eos_token,  # GPT-2 doesn't really have UNK, defaults to EOS\n",
    "        model_max_length=model_max_length\n",
    "    )\n",
    "\n",
    "    # Set additional GPT-2 specific attributes\n",
    "    transformers_tokenizer.add_special_tokens({\n",
    "        \"eos_token\": eos_token,\n",
    "        \"bos_token\": eos_token,\n",
    "        \"pad_token\": pad_token,\n",
    "    })\n",
    "\n",
    "    # Save the transformers tokenizer if an output directory is provided\n",
    "    if output_dir:\n",
    "        os.makedirs(output_dir, exist_ok=True)\n",
    "        transformers_tokenizer.save_pretrained(output_dir)\n",
    "        print(f\"Transformers tokenizer saved to {output_dir}\")\n",
    "\n",
    "    return transformers_tokenizer\n",
    "\n",
    "\n",
    "def use_transformers_tokenizer(tokenizer, text, padding=True, truncation=True, max_length=None, return_tensors=None):\n",
    "    \"\"\"\n",
    "    Demonstrate how to use the transformers tokenizer\n",
    "\n",
    "    Args:\n",
    "        tokenizer: The transformers tokenizer\n",
    "        text: Text to tokenize or list of texts\n",
    "        padding: Whether to pad the sequences (True, False, 'max_length', 'longest')\n",
    "        truncation: Whether to truncate sequences (True, False)\n",
    "        max_length: Maximum length for padding/truncation (defaults to model_max_length if None)\n",
    "        return_tensors: Return format for tensors ('pt' for PyTorch, 'tf' for TensorFlow, None for lists)\n",
    "\n",
    "    Returns:\n",
    "        Encoding object(s) with tokens, ids, etc.\n",
    "    \"\"\"\n",
    "    # Configure parameters\n",
    "    if max_length is None:\n",
    "        max_length = tokenizer.model_max_length\n",
    "\n",
    "    # Encode the text(s)\n",
    "    encoded = tokenizer(\n",
    "        text,\n",
    "        padding=padding,\n",
    "        truncation=truncation,\n",
    "        max_length=max_length,\n",
    "        return_tensors=return_tensors\n",
    "    )\n",
    "\n",
    "    # Display results for single text if it's a string\n",
    "    if isinstance(text, str):\n",
    "        print(f\"Input text: {text}\")\n",
    "        print(f\"Token IDs: {encoded['input_ids'].tolist()[0] if return_tensors else encoded['input_ids']}\")\n",
    "        tokens = tokenizer.convert_ids_to_tokens(\n",
    "            encoded['input_ids'].tolist()[0] if return_tensors else encoded['input_ids']\n",
    "        )\n",
    "        print(f\"Tokens: {tokens}\")\n",
    "\n",
    "        if padding:\n",
    "            print(f\"Attention mask: {encoded['attention_mask'].tolist()[0] if return_tensors else encoded['attention_mask']}\")\n",
    "\n",
    "        # Decoding demonstration\n",
    "        decoded = tokenizer.decode(\n",
    "            encoded['input_ids'].tolist()[0] if return_tensors else encoded['input_ids'],\n",
    "            skip_special_tokens=True\n",
    "        )\n",
    "        print(f\"Decoded text: {decoded}\")\n",
    "\n",
    "    return encoded\n",
    "\n",
    "\n",
    "def load_transformers_tokenizer(path):\n",
    "    \"\"\"\n",
    "    Load a previously saved transformers tokenizer\n",
    "\n",
    "    Args:\n",
    "        path: Path to the saved transformers tokenizer directory\n",
    "\n",
    "    Returns:\n",
    "        The loaded transformers tokenizer\n",
    "    \"\"\"\n",
    "    return GPT2TokenizerFast.from_pretrained(path)\n",
    "\n",
    "\n",
    "def demonstrate_workflow2():\n",
    "    \"\"\"\n",
    "    Full demonstration of creating, training, and using a GPT-2 style tokenizer\n",
    "    that's compatible with the transformers library\n",
    "    \"\"\"\n",
    "    # Create a new tokenizer\n",
    "    print(\"Creating tokenizer...\")\n",
    "    tokenizer = create_gpt2_tokenizer()\n",
    "\n",
    "    # Generate some sample texts for demonstration\n",
    "    print(\"Generating sample texts...\")\n",
    "    sample_texts = [\n",
    "        \"This is an example of text that could be used to train a tokenizer.\",\n",
    "        \"It should include diverse vocabulary, punctuation (like commas, periods, question marks?).\",\n",
    "        \"Multiple paragraphs are good to include.\",\n",
    "        \"Numbers like 42, 3.14159, and 2023 should be represented.\",\n",
    "        \"Code snippets might be important if your model will process code:\\ndef hello_world():\\n    print('Hello, world!')\",\n",
    "    ]\n",
    "\n",
    "    # Add some more generated texts for better training\n",
    "    for i in range(50):\n",
    "        words = [\"The\", \"quick\", \"brown\", \"fox\", \"jumps\", \"over\", \"lazy\", \"dog\",\n",
    "                \"Hello\", \"world\", \"Python\", \"programming\", \"is\", \"fun\", \"GPT\",\n",
    "                \"natural\", \"language\", \"processing\", \"models\", \"work\", \"well\"]\n",
    "        length = random.randint(5, 20)\n",
    "        text = \" \".join(random.choices(words, k=length)) + \".\"\n",
    "        sample_texts.append(text)\n",
    "\n",
    "    # Train the tokenizer on the sample texts\n",
    "    print(f\"Training tokenizer on {len(sample_texts)} texts...\")\n",
    "    raw_tokenizer = train_tokenizer_from_texts(\n",
    "        tokenizer,\n",
    "        sample_texts,\n",
    "        vocab_size=1000,  # Smaller vocab for demo\n",
    "        min_frequency=1,\n",
    "        batch_size=20,\n",
    "        output_dir=\"tokenizer_demo\"\n",
    "    )\n",
    "\n",
    "    # Convert to transformers tokenizer\n",
    "    print(\"\\nConverting to transformers tokenizer...\")\n",
    "    transformers_tokenizer = convert_to_transformers_tokenizer(\n",
    "        \"tokenizer_demo/gpt2_tokenizer.json\",\n",
    "        output_dir=\"transformers_tokenizer_demo\",\n",
    "        model_max_length=512\n",
    "    )\n",
    "\n",
    "    # Test the transformers tokenizer\n",
    "    print(\"\\nTesting transformers tokenizer...\")\n",
    "    test_texts = [\n",
    "        \"This is a short text.\",\n",
    "        \"This is a slightly longer text with more content.\",\n",
    "        \"Let's see how padding works on texts of different lengths.\"\n",
    "    ]\n",
    "\n",
    "    # Encode with transformers tokenizer (return PyTorch tensors)\n",
    "    print(\"\\nEncoding with PyTorch tensors:\")\n",
    "    encodings = use_transformers_tokenizer(\n",
    "        transformers_tokenizer,\n",
    "        test_texts,\n",
    "        padding=True,\n",
    "        return_tensors=\"pt\"\n",
    "    )\n",
    "\n",
    "    # Show that it can be saved and loaded\n",
    "    print(\"\\nLoading saved transformers tokenizer:\")\n",
    "    loaded_tokenizer = load_transformers_tokenizer(\"transformers_tokenizer_demo\")\n",
    "    test_encode = loaded_tokenizer(\n",
    "        \"Testing that loading works correctly.\",\n",
    "        return_tensors=\"pt\"\n",
    "    )\n",
    "    print(f\"Encoded IDs: {test_encode['input_ids'].tolist()[0]}\")\n",
    "    print(f\"Decoded: {loaded_tokenizer.decode(test_encode['input_ids'][0])}\")\n",
    "\n",
    "    return transformers_tokenizer"
   ]
  },
  {
   "cell_type": "code",
   "execution_count": 47,
   "metadata": {},
   "outputs": [
    {
     "name": "stdout",
     "output_type": "stream",
     "text": [
      "Creating tokenizer...\n",
      "Generating sample texts...\n",
      "Training tokenizer on 55 texts...\n",
      "Preparing 3 batches for training...\n"
     ]
    },
    {
     "name": "stderr",
     "output_type": "stream",
     "text": [
      "100%|██████████| 3/3 [00:00<00:00, 1502.08it/s]\n",
      "The tokenizer class you load from this checkpoint is not the same type as the class this function is called from. It may result in unexpected tokenization. \n",
      "The tokenizer class you load from this checkpoint is 'PreTrainedTokenizer'. \n",
      "The class this function is called from is 'GPT2TokenizerFast'.\n"
     ]
    },
    {
     "name": "stdout",
     "output_type": "stream",
     "text": [
      "Training tokenizer...\n",
      "Tokenizer trained and saved to tokenizer_demo/gpt2_tokenizer.json\n",
      "\n",
      "Converting to transformers tokenizer...\n",
      "Transformers tokenizer saved to transformers_tokenizer_demo\n",
      "\n",
      "Testing transformers tokenizer...\n",
      "\n",
      "Encoding with PyTorch tensors:\n",
      "\n",
      "Loading saved transformers tokenizer:\n",
      "Encoded IDs: [26, 96, 47, 70, 287, 57, 39, 42, 28, 31, 70, 125, 46, 166, 66, 182, 220, 39, 52, 7]\n",
      "Decoded: Testing that loading works correctly.\n"
     ]
    },
    {
     "data": {
      "text/plain": [
       "PreTrainedTokenizerFast(name_or_path='', vocab_size=339, model_max_length=512, is_fast=True, padding_side='right', truncation_side='right', special_tokens={'bos_token': '<|endoftext|>', 'eos_token': '<|endoftext|>', 'unk_token': '<|endoftext|>', 'pad_token': '<|pad|>'}, clean_up_tokenization_spaces=False, added_tokens_decoder={\n",
       "\t0: AddedToken(\"<|endoftext|>\", rstrip=False, lstrip=False, single_word=False, normalized=False, special=True),\n",
       "\t1: AddedToken(\"<|pad|>\", rstrip=False, lstrip=False, single_word=False, normalized=False, special=True),\n",
       "}\n",
       ")"
      ]
     },
     "execution_count": 47,
     "metadata": {},
     "output_type": "execute_result"
    }
   ],
   "source": [
    "# Check if this even works...\n",
    "demonstrate_workflow2()"
   ]
  },
  {
   "cell_type": "markdown",
   "metadata": {},
   "source": [
    "## Create and train the tokenizer"
   ]
  },
  {
   "cell_type": "code",
   "execution_count": 48,
   "metadata": {},
   "outputs": [
    {
     "name": "stdout",
     "output_type": "stream",
     "text": [
      "Preparing 1981 batches for training...\n"
     ]
    },
    {
     "name": "stderr",
     "output_type": "stream",
     "text": [
      "100%|██████████| 1981/1981 [00:03<00:00, 497.26it/s]\n"
     ]
    },
    {
     "name": "stdout",
     "output_type": "stream",
     "text": [
      "Training tokenizer...\n",
      "Tokenizer trained and saved to ../models/themed_data/gpt2_tokenizer.json\n"
     ]
    }
   ],
   "source": [
    "# Train a tokenizer if you don't have one yet\n",
    "trained_tokenizer = create_gpt2_tokenizer(vocab_size=8192, min_frequency=2)\n",
    "\n",
    "# This saves the tokenizer out to memory as well\n",
    "trained_tokenizer = train_tokenizer_from_texts(tokenizer=trained_tokenizer, texts=data['train']['sentence'], batch_size=512, output_dir=models_dir)\n"
   ]
  },
  {
   "cell_type": "code",
   "execution_count": 49,
   "metadata": {},
   "outputs": [
    {
     "name": "stdout",
     "output_type": "stream",
     "text": [
      "Transformers tokenizer saved to ../models/themed_data\n"
     ]
    },
    {
     "data": {
      "text/plain": [
       "PreTrainedTokenizerFast(name_or_path='', vocab_size=7490, model_max_length=256, is_fast=True, padding_side='right', truncation_side='right', special_tokens={'bos_token': '<|endoftext|>', 'eos_token': '<|endoftext|>', 'unk_token': '<|endoftext|>', 'pad_token': '<|pad|>'}, clean_up_tokenization_spaces=False, added_tokens_decoder={\n",
       "\t0: AddedToken(\"<|endoftext|>\", rstrip=False, lstrip=False, single_word=False, normalized=False, special=True),\n",
       "\t1: AddedToken(\"<|pad|>\", rstrip=False, lstrip=False, single_word=False, normalized=False, special=True),\n",
       "}\n",
       ")"
      ]
     },
     "execution_count": 49,
     "metadata": {},
     "output_type": "execute_result"
    }
   ],
   "source": [
    "# This pulls the trained_tokenizer and makes it compatable with the transformers library for training\n",
    "# Needs to be a PreTrainedTokenizerFast object\n",
    "tokenizer_fast = convert_to_transformers_tokenizer(tokenizer_path=f\"{models_dir}/gpt2_tokenizer.json\",\n",
    "                                                   output_dir=models_dir, model_max_length=256)\n",
    "\n",
    "# Check the tokenizer\n",
    "tokenizer_fast"
   ]
  },
  {
   "cell_type": "code",
   "execution_count": 50,
   "metadata": {},
   "outputs": [
    {
     "name": "stdout",
     "output_type": "stream",
     "text": [
      "Input text: [start] <THEMES> B Identity , Creature , Imp , Flying , Threshold , {B} Cost , B Color , Zombie , Discard <CARD_NAME> <name> <MANA_COST> {B} <TYPE_LINE> Creature — Zombie Imp <ORACLE_TEXT> Discard a card : <name> gains flying until end of turn . \\n Threshold — As long as seven or more cards are in your graveyard , <name> gets 1 1\n",
      "Token IDs: [48, 130, 50, 92, 142, 21, 121, 134, 91, 114, 91, 1258, 91, 272, 91, 1179, 91, 94, 23, 80, 129, 91, 121, 131, 91, 507, 91, 501, 92, 146, 51, 147, 21, 92, 119, 21, 92, 151, 51, 153, 21, 94, 23, 80, 92, 160, 51, 158, 21, 114, 183, 507, 1258, 92, 173, 51, 174, 21, 501, 188, 229, 274, 92, 119, 21, 586, 741, 407, 367, 226, 329, 175, 193, 65, 1179, 183, 585, 673, 384, 1274, 292, 571, 366, 747, 325, 252, 455, 91, 92, 119, 21, 449, 198, 198]\n",
      "Tokens: ['[', 'start', ']', 'Ġ<', 'THEMES', '>', 'ĠB', 'ĠIdentity', 'Ġ,', 'ĠCreature', 'Ġ,', 'ĠImp', 'Ġ,', 'ĠFlying', 'Ġ,', 'ĠThreshold', 'Ġ,', 'Ġ{', 'B', '}', 'ĠCost', 'Ġ,', 'ĠB', 'ĠColor', 'Ġ,', 'ĠZombie', 'Ġ,', 'ĠDiscard', 'Ġ<', 'CARD', '_', 'NAME', '>', 'Ġ<', 'name', '>', 'Ġ<', 'MANA', '_', 'COST', '>', 'Ġ{', 'B', '}', 'Ġ<', 'TYPE', '_', 'LINE', '>', 'ĠCreature', 'ĠâĢĶ', 'ĠZombie', 'ĠImp', 'Ġ<', 'ORACLE', '_', 'TEXT', '>', 'ĠDiscard', 'Ġa', 'Ġcard', 'Ġ:', 'Ġ<', 'name', '>', 'Ġgains', 'Ġflying', 'Ġuntil', 'Ġend', 'Ġof', 'Ġturn', 'Ġ.', 'Ġ\\\\', 'n', 'ĠThreshold', 'ĠâĢĶ', 'ĠAs', 'Ġlong', 'Ġas', 'Ġseven', 'Ġor', 'Ġmore', 'Ġcards', 'Ġare', 'Ġin', 'Ġyour', 'Ġgraveyard', 'Ġ,', 'Ġ<', 'name', '>', 'Ġgets', 'Ġ1', 'Ġ1']\n",
      "Attention mask: [1, 1, 1, 1, 1, 1, 1, 1, 1, 1, 1, 1, 1, 1, 1, 1, 1, 1, 1, 1, 1, 1, 1, 1, 1, 1, 1, 1, 1, 1, 1, 1, 1, 1, 1, 1, 1, 1, 1, 1, 1, 1, 1, 1, 1, 1, 1, 1, 1, 1, 1, 1, 1, 1, 1, 1, 1, 1, 1, 1, 1, 1, 1, 1, 1, 1, 1, 1, 1, 1, 1, 1, 1, 1, 1, 1, 1, 1, 1, 1, 1, 1, 1, 1, 1, 1, 1, 1, 1, 1, 1, 1, 1, 1]\n",
      "Decoded text: [start] <THEMES> B Identity , Creature , Imp , Flying , Threshold , {B} Cost , B Color , Zombie , Discard <CARD_NAME> <name> <MANA_COST> {B} <TYPE_LINE> Creature — Zombie Imp <ORACLE_TEXT> Discard a card : <name> gains flying until end of turn . \\n Threshold — As long as seven or more cards are in your graveyard , <name> gets 1 1\n"
     ]
    },
    {
     "data": {
      "text/plain": [
       "{'input_ids': tensor([[  48,  130,   50,   92,  142,   21,  121,  134,   91,  114,   91, 1258,\n",
       "           91,  272,   91, 1179,   91,   94,   23,   80,  129,   91,  121,  131,\n",
       "           91,  507,   91,  501,   92,  146,   51,  147,   21,   92,  119,   21,\n",
       "           92,  151,   51,  153,   21,   94,   23,   80,   92,  160,   51,  158,\n",
       "           21,  114,  183,  507, 1258,   92,  173,   51,  174,   21,  501,  188,\n",
       "          229,  274,   92,  119,   21,  586,  741,  407,  367,  226,  329,  175,\n",
       "          193,   65, 1179,  183,  585,  673,  384, 1274,  292,  571,  366,  747,\n",
       "          325,  252,  455,   91,   92,  119,   21,  449,  198,  198]]), 'token_type_ids': tensor([[0, 0, 0, 0, 0, 0, 0, 0, 0, 0, 0, 0, 0, 0, 0, 0, 0, 0, 0, 0, 0, 0, 0, 0,\n",
       "         0, 0, 0, 0, 0, 0, 0, 0, 0, 0, 0, 0, 0, 0, 0, 0, 0, 0, 0, 0, 0, 0, 0, 0,\n",
       "         0, 0, 0, 0, 0, 0, 0, 0, 0, 0, 0, 0, 0, 0, 0, 0, 0, 0, 0, 0, 0, 0, 0, 0,\n",
       "         0, 0, 0, 0, 0, 0, 0, 0, 0, 0, 0, 0, 0, 0, 0, 0, 0, 0, 0, 0, 0, 0]]), 'attention_mask': tensor([[1, 1, 1, 1, 1, 1, 1, 1, 1, 1, 1, 1, 1, 1, 1, 1, 1, 1, 1, 1, 1, 1, 1, 1,\n",
       "         1, 1, 1, 1, 1, 1, 1, 1, 1, 1, 1, 1, 1, 1, 1, 1, 1, 1, 1, 1, 1, 1, 1, 1,\n",
       "         1, 1, 1, 1, 1, 1, 1, 1, 1, 1, 1, 1, 1, 1, 1, 1, 1, 1, 1, 1, 1, 1, 1, 1,\n",
       "         1, 1, 1, 1, 1, 1, 1, 1, 1, 1, 1, 1, 1, 1, 1, 1, 1, 1, 1, 1, 1, 1]])}"
      ]
     },
     "execution_count": 50,
     "metadata": {},
     "output_type": "execute_result"
    }
   ],
   "source": [
    "# Check to make sure the fast tokenizer is working\n",
    "encodings = use_transformers_tokenizer(tokenizer_fast, data['validation']['sentence'][1], padding=True, max_length=1024, return_tensors='pt')\n",
    "encodings"
   ]
  },
  {
   "cell_type": "markdown",
   "metadata": {},
   "source": [
    "# Tokenize all of the data"
   ]
  },
  {
   "cell_type": "markdown",
   "metadata": {},
   "source": [
    "## Functions"
   ]
  },
  {
   "cell_type": "code",
   "execution_count": 51,
   "metadata": {},
   "outputs": [],
   "source": [
    "def tokenize_dataset_dict(dataset_dict, tokenizer, max_length=None, batch_size=1000):\n",
    "    \"\"\"\n",
    "    Tokenize all sentence entries in a Hugging Face DatasetDict.\n",
    "\n",
    "    Args:\n",
    "        dataset_dict: A Hugging Face DatasetDict containing data with 'sentence' column\n",
    "        tokenizer: A transformers tokenizer\n",
    "        max_length: Maximum sequence length for tokenization (None = no limit)\n",
    "        batch_size: Batch size for processing\n",
    "\n",
    "    Returns:\n",
    "        A new DatasetDict with tokenized data\n",
    "    \"\"\"\n",
    "    from datasets import DatasetDict\n",
    "\n",
    "    # Function to tokenize a batch of examples\n",
    "    def tokenize_function(examples):\n",
    "        # For transformers tokenizers use the __call__ method\n",
    "        return tokenizer(\n",
    "            examples[\"sentence\"],\n",
    "            padding=\"max_length\" if max_length else False,\n",
    "            truncation=True if max_length else False,\n",
    "            max_length=max_length,\n",
    "            return_special_tokens_mask=True,\n",
    "        )\n",
    "\n",
    "    # Create a new DatasetDict to store the tokenized datasets\n",
    "    tokenized_datasets = DatasetDict()\n",
    "\n",
    "    # Process each split in the dataset\n",
    "    for split_name, dataset in dataset_dict.items():\n",
    "        # Map the tokenize function over the dataset in batches\n",
    "        tokenized_datasets[split_name] = dataset.map(\n",
    "            tokenize_function,\n",
    "            batched=True,\n",
    "            batch_size=batch_size,\n",
    "            # remove_columns=[\"sentence\"] if \"sentence\" in dataset.column_names else None, # Keep the sentences\n",
    "            desc=f\"Tokenizing {split_name} split\",\n",
    "        )\n",
    "\n",
    "        # Print the first example to verify\n",
    "        if len(tokenized_datasets[split_name]) > 0:\n",
    "            print(f\"\\nExample from {split_name} split:\")\n",
    "            example = tokenized_datasets[split_name][0]\n",
    "            print(f\"Input IDs (first 10): {example['input_ids'][:10]}...\")\n",
    "            print(f\"Attention Mask (first 10): {example['attention_mask'][:10]}...\")\n",
    "\n",
    "            # Decode a sample for verification\n",
    "            decoded = tokenizer.decode(example['input_ids'])\n",
    "            print(f\"Decoded sample preview: {decoded[:50]}...\")\n",
    "\n",
    "    return tokenized_datasets"
   ]
  },
  {
   "cell_type": "markdown",
   "metadata": {},
   "source": [
    "## Tokenize the Datasets\n",
    "\n",
    "Do we need to do this?  I think so... I can train when I do this so... yes?"
   ]
  },
  {
   "cell_type": "code",
   "execution_count": 52,
   "metadata": {},
   "outputs": [
    {
     "data": {
      "application/vnd.jupyter.widget-view+json": {
       "model_id": "8dc632ebe86a4be6aaab2d5e7d7570e6",
       "version_major": 2,
       "version_minor": 0
      },
      "text/plain": [
       "Tokenizing train split:   0%|          | 0/1014260 [00:00<?, ? examples/s]"
      ]
     },
     "metadata": {},
     "output_type": "display_data"
    },
    {
     "name": "stdout",
     "output_type": "stream",
     "text": [
      "\n",
      "Example from train split:\n",
      "Input IDs (first 10): [48, 130, 50, 92, 142, 21, 121, 134, 91, 198]...\n",
      "Attention Mask (first 10): [1, 1, 1, 1, 1, 1, 1, 1, 1, 1]...\n",
      "Decoded sample preview: [start] <THEMES> B Identity , 1 1 Counters , Creat...\n"
     ]
    },
    {
     "data": {
      "application/vnd.jupyter.widget-view+json": {
       "model_id": "b45c976b0150478db2bf40997f8ee653",
       "version_major": 2,
       "version_minor": 0
      },
      "text/plain": [
       "Tokenizing validation split:   0%|          | 0/126782 [00:00<?, ? examples/s]"
      ]
     },
     "metadata": {},
     "output_type": "display_data"
    },
    {
     "name": "stdout",
     "output_type": "stream",
     "text": [
      "\n",
      "Example from validation split:\n",
      "Input IDs (first 10): [48, 130, 50, 92, 142, 21, 660, 134, 91, 114]...\n",
      "Attention Mask (first 10): [1, 1, 1, 1, 1, 1, 1, 1, 1, 1]...\n",
      "Decoded sample preview: [start] <THEMES> UW Identity , Creature Based , {W...\n"
     ]
    },
    {
     "data": {
      "application/vnd.jupyter.widget-view+json": {
       "model_id": "911eeee95cae4dbaaa2a298396eafa54",
       "version_major": 2,
       "version_minor": 0
      },
      "text/plain": [
       "Tokenizing test split:   0%|          | 0/126783 [00:00<?, ? examples/s]"
      ]
     },
     "metadata": {},
     "output_type": "display_data"
    },
    {
     "name": "stdout",
     "output_type": "stream",
     "text": [
      "\n",
      "Example from test split:\n",
      "Input IDs (first 10): [48, 130, 50, 92, 142, 21, 733, 91, 114, 91]...\n",
      "Attention Mask (first 10): [1, 1, 1, 1, 1, 1, 1, 1, 1, 1]...\n",
      "Decoded sample preview: [start] <THEMES> Druid , Creature , Vigilance , GW...\n"
     ]
    },
    {
     "data": {
      "text/plain": [
       "DatasetDict({\n",
       "    train: Dataset({\n",
       "        features: ['sentence', 'input_ids', 'token_type_ids', 'attention_mask', 'special_tokens_mask'],\n",
       "        num_rows: 1014260\n",
       "    })\n",
       "    validation: Dataset({\n",
       "        features: ['sentence', 'input_ids', 'token_type_ids', 'attention_mask', 'special_tokens_mask'],\n",
       "        num_rows: 126782\n",
       "    })\n",
       "    test: Dataset({\n",
       "        features: ['sentence', 'input_ids', 'token_type_ids', 'attention_mask', 'special_tokens_mask'],\n",
       "        num_rows: 126783\n",
       "    })\n",
       "})"
      ]
     },
     "execution_count": 52,
     "metadata": {},
     "output_type": "execute_result"
    }
   ],
   "source": [
    "# Tokenize the DatasetDict\n",
    "# TODO: We can probably decrease the max_length here to 128 or 64 to save memory; We'll have to test it out\n",
    "# Or maybe we don't use a max length...?? TODO: Figure out how to handle this\n",
    "tokenize_dataset_dict = tokenize_dataset_dict(data, tokenizer_fast, max_length=256, batch_size=1000)\n",
    "tokenize_dataset_dict"
   ]
  },
  {
   "cell_type": "code",
   "execution_count": 53,
   "metadata": {},
   "outputs": [
    {
     "data": {
      "text/plain": [
       "'[start] <THEMES> UW Identity , Creature Based , {W} {U} Cost , Combat Damage , UW Color , Instant , Fog <CARD_NAME> <name> <MANA_COST> {W} {U} <TYPE_LINE> Instant'"
      ]
     },
     "execution_count": 53,
     "metadata": {},
     "output_type": "execute_result"
    }
   ],
   "source": [
    "# Make sure 'sentnece' is still there\n",
    "tokenize_dataset_dict['validation']['sentence'][0]"
   ]
  },
  {
   "cell_type": "code",
   "execution_count": 54,
   "metadata": {},
   "outputs": [
    {
     "data": {
      "text/plain": [
       "[48,\n",
       " 130,\n",
       " 50,\n",
       " 92,\n",
       " 142,\n",
       " 21,\n",
       " 660,\n",
       " 134,\n",
       " 91,\n",
       " 114,\n",
       " 185,\n",
       " 91,\n",
       " 94,\n",
       " 44,\n",
       " 80,\n",
       " 94,\n",
       " 42,\n",
       " 80,\n",
       " 129,\n",
       " 91,\n",
       " 531,\n",
       " 319,\n",
       " 91,\n",
       " 660,\n",
       " 131,\n",
       " 91,\n",
       " 293,\n",
       " 91,\n",
       " 1073,\n",
       " 92,\n",
       " 146,\n",
       " 51,\n",
       " 147,\n",
       " 21,\n",
       " 92,\n",
       " 119,\n",
       " 21,\n",
       " 92,\n",
       " 151,\n",
       " 51,\n",
       " 153,\n",
       " 21,\n",
       " 94,\n",
       " 44,\n",
       " 80,\n",
       " 94,\n",
       " 42,\n",
       " 80,\n",
       " 92,\n",
       " 160,\n",
       " 51,\n",
       " 158,\n",
       " 21,\n",
       " 293,\n",
       " 1,\n",
       " 1,\n",
       " 1,\n",
       " 1,\n",
       " 1,\n",
       " 1,\n",
       " 1,\n",
       " 1,\n",
       " 1,\n",
       " 1,\n",
       " 1,\n",
       " 1,\n",
       " 1,\n",
       " 1,\n",
       " 1,\n",
       " 1,\n",
       " 1,\n",
       " 1,\n",
       " 1,\n",
       " 1,\n",
       " 1,\n",
       " 1,\n",
       " 1,\n",
       " 1,\n",
       " 1,\n",
       " 1,\n",
       " 1,\n",
       " 1,\n",
       " 1,\n",
       " 1,\n",
       " 1,\n",
       " 1,\n",
       " 1,\n",
       " 1,\n",
       " 1,\n",
       " 1,\n",
       " 1,\n",
       " 1,\n",
       " 1,\n",
       " 1,\n",
       " 1,\n",
       " 1,\n",
       " 1,\n",
       " 1,\n",
       " 1,\n",
       " 1,\n",
       " 1,\n",
       " 1,\n",
       " 1,\n",
       " 1,\n",
       " 1,\n",
       " 1,\n",
       " 1,\n",
       " 1,\n",
       " 1,\n",
       " 1,\n",
       " 1,\n",
       " 1,\n",
       " 1,\n",
       " 1,\n",
       " 1,\n",
       " 1,\n",
       " 1,\n",
       " 1,\n",
       " 1,\n",
       " 1,\n",
       " 1,\n",
       " 1,\n",
       " 1,\n",
       " 1,\n",
       " 1,\n",
       " 1,\n",
       " 1,\n",
       " 1,\n",
       " 1,\n",
       " 1,\n",
       " 1,\n",
       " 1,\n",
       " 1,\n",
       " 1,\n",
       " 1,\n",
       " 1,\n",
       " 1,\n",
       " 1,\n",
       " 1,\n",
       " 1,\n",
       " 1,\n",
       " 1,\n",
       " 1,\n",
       " 1,\n",
       " 1,\n",
       " 1,\n",
       " 1,\n",
       " 1,\n",
       " 1,\n",
       " 1,\n",
       " 1,\n",
       " 1,\n",
       " 1,\n",
       " 1,\n",
       " 1,\n",
       " 1,\n",
       " 1,\n",
       " 1,\n",
       " 1,\n",
       " 1,\n",
       " 1,\n",
       " 1,\n",
       " 1,\n",
       " 1,\n",
       " 1,\n",
       " 1,\n",
       " 1,\n",
       " 1,\n",
       " 1,\n",
       " 1,\n",
       " 1,\n",
       " 1,\n",
       " 1,\n",
       " 1,\n",
       " 1,\n",
       " 1,\n",
       " 1,\n",
       " 1,\n",
       " 1,\n",
       " 1,\n",
       " 1,\n",
       " 1,\n",
       " 1,\n",
       " 1,\n",
       " 1,\n",
       " 1,\n",
       " 1,\n",
       " 1,\n",
       " 1,\n",
       " 1,\n",
       " 1,\n",
       " 1,\n",
       " 1,\n",
       " 1,\n",
       " 1,\n",
       " 1,\n",
       " 1,\n",
       " 1,\n",
       " 1,\n",
       " 1,\n",
       " 1,\n",
       " 1,\n",
       " 1,\n",
       " 1,\n",
       " 1,\n",
       " 1,\n",
       " 1,\n",
       " 1,\n",
       " 1,\n",
       " 1,\n",
       " 1,\n",
       " 1,\n",
       " 1,\n",
       " 1,\n",
       " 1,\n",
       " 1,\n",
       " 1,\n",
       " 1,\n",
       " 1,\n",
       " 1,\n",
       " 1,\n",
       " 1,\n",
       " 1,\n",
       " 1,\n",
       " 1,\n",
       " 1,\n",
       " 1,\n",
       " 1,\n",
       " 1,\n",
       " 1,\n",
       " 1,\n",
       " 1,\n",
       " 1,\n",
       " 1,\n",
       " 1,\n",
       " 1,\n",
       " 1,\n",
       " 1,\n",
       " 1,\n",
       " 1,\n",
       " 1,\n",
       " 1,\n",
       " 1,\n",
       " 1,\n",
       " 1,\n",
       " 1,\n",
       " 1,\n",
       " 1,\n",
       " 1,\n",
       " 1,\n",
       " 1,\n",
       " 1,\n",
       " 1,\n",
       " 1,\n",
       " 1,\n",
       " 1]"
      ]
     },
     "execution_count": 54,
     "metadata": {},
     "output_type": "execute_result"
    }
   ],
   "source": [
    "tokenize_dataset_dict['validation']['input_ids'][0]"
   ]
  },
  {
   "cell_type": "code",
   "execution_count": 55,
   "metadata": {},
   "outputs": [],
   "source": [
    "# A short function to easily convert from ids_to_tokens\n",
    "# It effectivly just wraps the decode function\n",
    "def ids_to_tokens(tokenizer, ids):\n",
    "    '''\n",
    "    Convert token IDs back to tokens using the tokenizer\n",
    "    Really just a mapping function for tokenizer.decode()\n",
    "    '''\n",
    "    tokens = tokenizer.decode(ids)\n",
    "\n",
    "    return tokens"
   ]
  },
  {
   "cell_type": "code",
   "execution_count": 56,
   "metadata": {},
   "outputs": [
    {
     "data": {
      "text/plain": [
       "'[start] <THEMES> UW Identity , Creature Based , {W} {U} Cost , Combat Damage , UW Color , Instant , Fog <CARD_NAME> <name> <MANA_COST> {W} {U} <TYPE_LINE> Instant'"
      ]
     },
     "execution_count": 56,
     "metadata": {},
     "output_type": "execute_result"
    }
   ],
   "source": [
    "trained_tokenizer.decode(tokenize_dataset_dict['validation']['input_ids'][0])"
   ]
  },
  {
   "cell_type": "code",
   "execution_count": 57,
   "metadata": {},
   "outputs": [
    {
     "data": {
      "text/plain": [
       "'[start] <THEMES> UW Identity , Creature Based , {W} {U} Cost , Combat Damage , UW Color , Instant , Fog <CARD_NAME> <name> <MANA_COST> {W} {U} <TYPE_LINE> Instant'"
      ]
     },
     "execution_count": 57,
     "metadata": {},
     "output_type": "execute_result"
    }
   ],
   "source": [
    "ids_to_tokens(trained_tokenizer, tokenize_dataset_dict['validation']['input_ids'][0])"
   ]
  },
  {
   "cell_type": "code",
   "execution_count": 58,
   "metadata": {},
   "outputs": [
    {
     "data": {
      "text/plain": [
       "[1,\n",
       " 1,\n",
       " 1,\n",
       " 1,\n",
       " 1,\n",
       " 1,\n",
       " 1,\n",
       " 1,\n",
       " 1,\n",
       " 1,\n",
       " 1,\n",
       " 1,\n",
       " 1,\n",
       " 1,\n",
       " 1,\n",
       " 1,\n",
       " 1,\n",
       " 1,\n",
       " 1,\n",
       " 1,\n",
       " 1,\n",
       " 1,\n",
       " 1,\n",
       " 1,\n",
       " 1,\n",
       " 1,\n",
       " 1,\n",
       " 1,\n",
       " 1,\n",
       " 1,\n",
       " 1,\n",
       " 1,\n",
       " 1,\n",
       " 1,\n",
       " 1,\n",
       " 1,\n",
       " 1,\n",
       " 1,\n",
       " 1,\n",
       " 1,\n",
       " 1,\n",
       " 1,\n",
       " 1,\n",
       " 1,\n",
       " 1,\n",
       " 1,\n",
       " 1,\n",
       " 1,\n",
       " 1,\n",
       " 1,\n",
       " 1,\n",
       " 1,\n",
       " 1,\n",
       " 1,\n",
       " 0,\n",
       " 0,\n",
       " 0,\n",
       " 0,\n",
       " 0,\n",
       " 0,\n",
       " 0,\n",
       " 0,\n",
       " 0,\n",
       " 0,\n",
       " 0,\n",
       " 0,\n",
       " 0,\n",
       " 0,\n",
       " 0,\n",
       " 0,\n",
       " 0,\n",
       " 0,\n",
       " 0,\n",
       " 0,\n",
       " 0,\n",
       " 0,\n",
       " 0,\n",
       " 0,\n",
       " 0,\n",
       " 0,\n",
       " 0,\n",
       " 0,\n",
       " 0,\n",
       " 0,\n",
       " 0,\n",
       " 0,\n",
       " 0,\n",
       " 0,\n",
       " 0,\n",
       " 0,\n",
       " 0,\n",
       " 0,\n",
       " 0,\n",
       " 0,\n",
       " 0,\n",
       " 0,\n",
       " 0,\n",
       " 0,\n",
       " 0,\n",
       " 0,\n",
       " 0,\n",
       " 0,\n",
       " 0,\n",
       " 0,\n",
       " 0,\n",
       " 0,\n",
       " 0,\n",
       " 0,\n",
       " 0,\n",
       " 0,\n",
       " 0,\n",
       " 0,\n",
       " 0,\n",
       " 0,\n",
       " 0,\n",
       " 0,\n",
       " 0,\n",
       " 0,\n",
       " 0,\n",
       " 0,\n",
       " 0,\n",
       " 0,\n",
       " 0,\n",
       " 0,\n",
       " 0,\n",
       " 0,\n",
       " 0,\n",
       " 0,\n",
       " 0,\n",
       " 0,\n",
       " 0,\n",
       " 0,\n",
       " 0,\n",
       " 0,\n",
       " 0,\n",
       " 0,\n",
       " 0,\n",
       " 0,\n",
       " 0,\n",
       " 0,\n",
       " 0,\n",
       " 0,\n",
       " 0,\n",
       " 0,\n",
       " 0,\n",
       " 0,\n",
       " 0,\n",
       " 0,\n",
       " 0,\n",
       " 0,\n",
       " 0,\n",
       " 0,\n",
       " 0,\n",
       " 0,\n",
       " 0,\n",
       " 0,\n",
       " 0,\n",
       " 0,\n",
       " 0,\n",
       " 0,\n",
       " 0,\n",
       " 0,\n",
       " 0,\n",
       " 0,\n",
       " 0,\n",
       " 0,\n",
       " 0,\n",
       " 0,\n",
       " 0,\n",
       " 0,\n",
       " 0,\n",
       " 0,\n",
       " 0,\n",
       " 0,\n",
       " 0,\n",
       " 0,\n",
       " 0,\n",
       " 0,\n",
       " 0,\n",
       " 0,\n",
       " 0,\n",
       " 0,\n",
       " 0,\n",
       " 0,\n",
       " 0,\n",
       " 0,\n",
       " 0,\n",
       " 0,\n",
       " 0,\n",
       " 0,\n",
       " 0,\n",
       " 0,\n",
       " 0,\n",
       " 0,\n",
       " 0,\n",
       " 0,\n",
       " 0,\n",
       " 0,\n",
       " 0,\n",
       " 0,\n",
       " 0,\n",
       " 0,\n",
       " 0,\n",
       " 0,\n",
       " 0,\n",
       " 0,\n",
       " 0,\n",
       " 0,\n",
       " 0,\n",
       " 0,\n",
       " 0,\n",
       " 0,\n",
       " 0,\n",
       " 0,\n",
       " 0,\n",
       " 0,\n",
       " 0,\n",
       " 0,\n",
       " 0,\n",
       " 0,\n",
       " 0,\n",
       " 0,\n",
       " 0,\n",
       " 0,\n",
       " 0,\n",
       " 0,\n",
       " 0,\n",
       " 0,\n",
       " 0,\n",
       " 0,\n",
       " 0,\n",
       " 0,\n",
       " 0,\n",
       " 0,\n",
       " 0,\n",
       " 0,\n",
       " 0,\n",
       " 0,\n",
       " 0,\n",
       " 0,\n",
       " 0,\n",
       " 0,\n",
       " 0,\n",
       " 0,\n",
       " 0,\n",
       " 0,\n",
       " 0,\n",
       " 0,\n",
       " 0,\n",
       " 0,\n",
       " 0,\n",
       " 0,\n",
       " 0,\n",
       " 0,\n",
       " 0,\n",
       " 0]"
      ]
     },
     "execution_count": 58,
     "metadata": {},
     "output_type": "execute_result"
    }
   ],
   "source": [
    "tokenize_dataset_dict['validation']['attention_mask'][0]"
   ]
  },
  {
   "cell_type": "markdown",
   "metadata": {},
   "source": [
    "## Set formating to torch of the DatasetDict"
   ]
  },
  {
   "cell_type": "code",
   "execution_count": 59,
   "metadata": {},
   "outputs": [],
   "source": [
    "# Make sure the tokenized dataset is in the correct format for PyTorch\n",
    "\n",
    "# old\n",
    "# tokenize_dataset_dict.set_format(type='torch', columns=['sentence', 'input_ids', 'token_type_ids', 'attention_mask', 'special_tokens_mask'])\n",
    "\n",
    "# New\n",
    "tokenize_dataset_dict.set_format(type='torch', columns=['sentence', 'input_ids', 'token_type_ids', 'attention_mask', 'special_tokens_mask'])"
   ]
  },
  {
   "cell_type": "markdown",
   "metadata": {},
   "source": [
    "### Check shapes"
   ]
  },
  {
   "cell_type": "code",
   "execution_count": 60,
   "metadata": {},
   "outputs": [
    {
     "name": "stdout",
     "output_type": "stream",
     "text": [
      "torch.Size([256])\n",
      "torch.Size([256])\n",
      "torch.Size([256])\n",
      "torch.Size([256])\n",
      "torch.Size([256])\n",
      "torch.Size([256])\n",
      "torch.Size([256])\n",
      "torch.Size([256])\n",
      "torch.Size([256])\n",
      "torch.Size([256])\n",
      "torch.Size([256])\n"
     ]
    }
   ],
   "source": [
    "# Note that these have been padded out to the max_length\n",
    "\n",
    "for i in range(0, 11):\n",
    "    print(tokenize_dataset_dict['train'][i]['input_ids'].shape)"
   ]
  },
  {
   "cell_type": "code",
   "execution_count": 61,
   "metadata": {},
   "outputs": [
    {
     "name": "stdout",
     "output_type": "stream",
     "text": [
      "torch.Size([256])\n",
      "torch.Size([256])\n",
      "torch.Size([256])\n",
      "torch.Size([256])\n",
      "torch.Size([256])\n",
      "torch.Size([256])\n",
      "torch.Size([256])\n",
      "torch.Size([256])\n",
      "torch.Size([256])\n",
      "torch.Size([256])\n",
      "torch.Size([256])\n"
     ]
    }
   ],
   "source": [
    "for i in range(0, 11):\n",
    "    print(tokenize_dataset_dict['train'][i]['attention_mask'].shape)"
   ]
  },
  {
   "cell_type": "code",
   "execution_count": 62,
   "metadata": {},
   "outputs": [
    {
     "name": "stdout",
     "output_type": "stream",
     "text": [
      "[start] <THEMES> B Identity , 1 1 Counters , Creature , Sacrifice , Creature Based , B Color , Zombie , {2} {B} Cost <CARD_NAME> <name> <MANA_COST> {2} {B} <TYPE_LINE> Creature — Zombie <ORACLE_TEXT> {1} {B} , Sacrifice another creature : Put two 1 1 counters on <name> . Activate only as a\n",
      "[start] <THEMES> Damage , Flash , Enchantment , R Color , R Identity , {3} {R} {R} Cost <CARD_NAME> <name> <MANA_COST> {3} {R} {R} <TYPE_LINE> Enchantment <ORACLE_TEXT> Flash \\n If a source would deal damage to a permanent or player , it deals double that damage to that permanent or player instead\n",
      "[start] <THEMES> {2} {W} Cost , Enchantment , W Color , Tokens , Treasure Tokens , W Identity , Card Draw <CARD_NAME> <name> <MANA_COST> {2} {W} <TYPE_LINE> Enchantment <ORACLE_TEXT> At the beginning\n",
      "[start] <THEMES> {3} {W} Cost , W Color , Creature Based , Sorcery , Rebound , W Identity <CARD_NAME> <name> <MANA_COST> {3} {W} <TYPE_LINE> Sorcery <ORACLE_TEXT> Creatures you control get 2 1 until end of turn . \\n Rebound ( If you cast this spell from your hand , exile it as it resolves . At the beginning of your next upkeep , you may\n",
      "[start] <THEMES> Planeswalker , UW Identity , Narset , Rebound , UW Color , {2} {W} {U} Cost , Legendary <CARD_NAME> <name> <MANA_COST> {2} {W} {U} <TYPE_LINE> Legendary Planeswalker — Narset <ORACLE_TEXT> 1 : Look at the top card of your library . If it's a noncreature , nonland card , you may reveal it and put it into your hand . \\n −2\n",
      "[start] <THEMES> Aura , Damage , Enchantment , R Color , Sacrifice , Creature Based , R Identity , {2} {R} Cost <CARD_NAME> <name> <MANA_COST> {2} {R} <TYPE_LINE> Enchantment — Aura <ORACLE_TEXT> Enchant creature you control \\n {R} , Sacrifice enchanted creature\n",
      "[start] <THEMES> {3} {G} {G} Cost , Creature , Kicker , G Identity , Elemental , G Color , Creature Based <CARD_NAME> <name> <MANA_COST> {3}\n",
      "[start] <THEMES> Creature , Attacking , U Identity , Human , Wizard , U Color , Unblockable , {1} {U} Cost , Legendary , Rogue <CARD_NAME> <name> <MANA_COST> {1} {U} <TYPE_LINE> Legendary Creature — Human Rogue Wizard <ORACLE_TEXT> Specialize {5} . This ability costs {3} less to activate if there are two or more instant and or\n",
      "[start] <THEMES> BR Color , Damage , {5} {B} {R} Cost , Reanimation , BR Identity , Creature Based , Sorcery <CARD_NAME> <name> <MANA_COST> {5} {B} {R} <TYPE_LINE> Sorcery <ORACLE_TEXT> Put target creature card from a graveyard onto the battlefield under your\n",
      "[start] <THEMES> Snake Tokens , Attacking , Deathtouch , Creature , Assassin , Gorgon , Creature Based , BG Identity , B Color , {1} {B} Cost , Combat Damage , Legendary , Tokens <CARD_NAME> <name> <MANA_COST> {1} {B} <TYPE_LINE> Legendary Creature — Gorgon Assassin <ORACLE_TEXT> Deathtouch \\n Whenever <name> attacks , you may pay {1} {B/G} . If you do , create a 1 1 black Snake creature token with deathtouch . \\n {4} {B} : Until end of turn\n",
      "[start] <THEMES> Aura , Creature , Enchantment , U Identity , Merfolk , Creature Based , {2} {U} Cost , U Color , Bestow <CARD_NAME> <name> <MANA_COST> {2} {U} <TYPE_LINE> Enchantment Creature — Merfolk <ORACLE_TEXT> Bestow {4} {U} ( If you cast this card\n"
     ]
    }
   ],
   "source": [
    "for i in range(0, 11):\n",
    "    print(tokenize_dataset_dict['train'][i]['sentence'])"
   ]
  },
  {
   "cell_type": "markdown",
   "metadata": {},
   "source": [
    "# Build the Decoder"
   ]
  },
  {
   "cell_type": "markdown",
   "metadata": {},
   "source": [
    "## A Short Rebuild of the above but with Hugging Face API\n",
    "\n",
    "We might be able to leverage accelerated training by using HF so this could be worth to have.  It also uses a PyTorch backend which I know works on Brandon's system... TensorFlow has been giving me problems in my environment lately."
   ]
  },
  {
   "cell_type": "code",
   "execution_count": 63,
   "metadata": {},
   "outputs": [],
   "source": [
    "# Grab the decoder-only setup\n",
    "from transformers import GPT2Config, GPT2LMHeadModel"
   ]
  },
  {
   "cell_type": "code",
   "execution_count": 64,
   "metadata": {},
   "outputs": [
    {
     "data": {
      "text/plain": [
       "GPT2LMHeadModel(\n",
       "  (transformer): GPT2Model(\n",
       "    (wte): Embedding(8912, 512)\n",
       "    (wpe): Embedding(500, 512)\n",
       "    (drop): Dropout(p=0.5, inplace=False)\n",
       "    (h): ModuleList(\n",
       "      (0-3): 4 x GPT2Block(\n",
       "        (ln_1): LayerNorm((512,), eps=1e-05, elementwise_affine=True)\n",
       "        (attn): GPT2Attention(\n",
       "          (c_attn): Conv1D(nf=1536, nx=512)\n",
       "          (c_proj): Conv1D(nf=512, nx=512)\n",
       "          (attn_dropout): Dropout(p=0.5, inplace=False)\n",
       "          (resid_dropout): Dropout(p=0.5, inplace=False)\n",
       "        )\n",
       "        (ln_2): LayerNorm((512,), eps=1e-05, elementwise_affine=True)\n",
       "        (mlp): GPT2MLP(\n",
       "          (c_fc): Conv1D(nf=2048, nx=512)\n",
       "          (c_proj): Conv1D(nf=512, nx=2048)\n",
       "          (act): NewGELUActivation()\n",
       "          (dropout): Dropout(p=0.5, inplace=False)\n",
       "        )\n",
       "      )\n",
       "    )\n",
       "    (ln_f): LayerNorm((512,), eps=1e-05, elementwise_affine=True)\n",
       "  )\n",
       "  (lm_head): Linear(in_features=512, out_features=8912, bias=False)\n",
       ")"
      ]
     },
     "execution_count": 64,
     "metadata": {},
     "output_type": "execute_result"
    }
   ],
   "source": [
    "# Make the model\n",
    "\n",
    "VOCAB_SIZE = 8912 # Define this based on training data vocab size / tokenize size.\n",
    "# TODO: Or does it need to relate to the tokenizer?\n",
    "SEQUENCE_LENGTH = 500 # Define this based on training data sequence length. aka. context window\n",
    "EMBEDDING_DIM = 512 # Configure\n",
    "FEED_FORWARD_DIM = 4 * EMBEDDING_DIM # Standard for decoder-only items.\n",
    "DROPOUT = 0.5 # Configure\n",
    "NUM_HEADS = 16 # Configure attention heads\n",
    "NUM_DECODER_LAYERS = 4 # Configure\n",
    "\n",
    "# Define the model configuration\n",
    "model_config = GPT2Config(\n",
    "    vocab_size=VOCAB_SIZE,\n",
    "    n_positions=SEQUENCE_LENGTH,\n",
    "    n_ctx=SEQUENCE_LENGTH,\n",
    "    n_embd=EMBEDDING_DIM,\n",
    "    n_layer=NUM_DECODER_LAYERS,\n",
    "    n_head=NUM_HEADS,\n",
    "    resid_pdrop=DROPOUT,\n",
    "    embd_pdrop=DROPOUT,\n",
    "    attn_pdrop=DROPOUT,\n",
    "    # layer_norm_epsilon=1e-5,\n",
    "    # initializer_range=0.02,\n",
    ")\n",
    "\n",
    "# Initialize the model\n",
    "gptmodel = GPT2LMHeadModel(model_config)\n",
    "# Output the model layers for inspection\n",
    "gptmodel"
   ]
  },
  {
   "cell_type": "code",
   "execution_count": 65,
   "metadata": {},
   "outputs": [
    {
     "name": "stdout",
     "output_type": "stream",
     "text": [
      "Number of trainable parameters: 17429504\n"
     ]
    }
   ],
   "source": [
    "# Check the number of trainable parameters.\n",
    "# How many trainable parameters exist in the gptmodel? (setting p.requires_grad to True for this)\n",
    "trainable_params = sum(p.numel() for p in gptmodel.parameters() if p.requires_grad)\n",
    "print(\"Number of trainable parameters:\", trainable_params)"
   ]
  },
  {
   "cell_type": "code",
   "execution_count": 67,
   "metadata": {},
   "outputs": [
    {
     "name": "stdout",
     "output_type": "stream",
     "text": [
      "transformer.wte.weight: 4562944 trainable parameters\n",
      "transformer.wpe.weight: 256000 trainable parameters\n",
      "transformer.h.0.ln_1.weight: 512 trainable parameters\n",
      "transformer.h.0.ln_1.bias: 512 trainable parameters\n",
      "transformer.h.0.attn.c_attn.weight: 786432 trainable parameters\n",
      "transformer.h.0.attn.c_attn.bias: 1536 trainable parameters\n",
      "transformer.h.0.attn.c_proj.weight: 262144 trainable parameters\n",
      "transformer.h.0.attn.c_proj.bias: 512 trainable parameters\n",
      "transformer.h.0.ln_2.weight: 512 trainable parameters\n",
      "transformer.h.0.ln_2.bias: 512 trainable parameters\n",
      "transformer.h.0.mlp.c_fc.weight: 1048576 trainable parameters\n",
      "transformer.h.0.mlp.c_fc.bias: 2048 trainable parameters\n",
      "transformer.h.0.mlp.c_proj.weight: 1048576 trainable parameters\n",
      "transformer.h.0.mlp.c_proj.bias: 512 trainable parameters\n",
      "transformer.h.1.ln_1.weight: 512 trainable parameters\n",
      "transformer.h.1.ln_1.bias: 512 trainable parameters\n",
      "transformer.h.1.attn.c_attn.weight: 786432 trainable parameters\n",
      "transformer.h.1.attn.c_attn.bias: 1536 trainable parameters\n",
      "transformer.h.1.attn.c_proj.weight: 262144 trainable parameters\n",
      "transformer.h.1.attn.c_proj.bias: 512 trainable parameters\n",
      "transformer.h.1.ln_2.weight: 512 trainable parameters\n",
      "transformer.h.1.ln_2.bias: 512 trainable parameters\n",
      "transformer.h.1.mlp.c_fc.weight: 1048576 trainable parameters\n",
      "transformer.h.1.mlp.c_fc.bias: 2048 trainable parameters\n",
      "transformer.h.1.mlp.c_proj.weight: 1048576 trainable parameters\n",
      "transformer.h.1.mlp.c_proj.bias: 512 trainable parameters\n",
      "transformer.h.2.ln_1.weight: 512 trainable parameters\n",
      "transformer.h.2.ln_1.bias: 512 trainable parameters\n",
      "transformer.h.2.attn.c_attn.weight: 786432 trainable parameters\n",
      "transformer.h.2.attn.c_attn.bias: 1536 trainable parameters\n",
      "transformer.h.2.attn.c_proj.weight: 262144 trainable parameters\n",
      "transformer.h.2.attn.c_proj.bias: 512 trainable parameters\n",
      "transformer.h.2.ln_2.weight: 512 trainable parameters\n",
      "transformer.h.2.ln_2.bias: 512 trainable parameters\n",
      "transformer.h.2.mlp.c_fc.weight: 1048576 trainable parameters\n",
      "transformer.h.2.mlp.c_fc.bias: 2048 trainable parameters\n",
      "transformer.h.2.mlp.c_proj.weight: 1048576 trainable parameters\n",
      "transformer.h.2.mlp.c_proj.bias: 512 trainable parameters\n",
      "transformer.h.3.ln_1.weight: 512 trainable parameters\n",
      "transformer.h.3.ln_1.bias: 512 trainable parameters\n",
      "transformer.h.3.attn.c_attn.weight: 786432 trainable parameters\n",
      "transformer.h.3.attn.c_attn.bias: 1536 trainable parameters\n",
      "transformer.h.3.attn.c_proj.weight: 262144 trainable parameters\n",
      "transformer.h.3.attn.c_proj.bias: 512 trainable parameters\n",
      "transformer.h.3.ln_2.weight: 512 trainable parameters\n",
      "transformer.h.3.ln_2.bias: 512 trainable parameters\n",
      "transformer.h.3.mlp.c_fc.weight: 1048576 trainable parameters\n",
      "transformer.h.3.mlp.c_fc.bias: 2048 trainable parameters\n",
      "transformer.h.3.mlp.c_proj.weight: 1048576 trainable parameters\n",
      "transformer.h.3.mlp.c_proj.bias: 512 trainable parameters\n",
      "transformer.ln_f.weight: 512 trainable parameters\n",
      "transformer.ln_f.bias: 512 trainable parameters\n"
     ]
    }
   ],
   "source": [
    "# Print each parameter's name and trainable count individually\n",
    "for name, param in gptmodel.named_parameters():\n",
    "    if param.requires_grad:\n",
    "        print(f\"{name}: {param.numel()} trainable parameters\")"
   ]
  },
  {
   "cell_type": "markdown",
   "metadata": {},
   "source": [
    "There is a difference in the reported number of trained parameters between Etienne's custom build and the Hugging Face model.\n",
    "\n",
    "I'm 90% certain it has to do with the positional eoncodings being done slightly different.  48M of his model parameters are from the PosEnc which doesn't show up the same way in the GPT-model.\n",
    "\n",
    "Both models are likely to generate similar results."
   ]
  },
  {
   "cell_type": "markdown",
   "metadata": {},
   "source": [
    "# Training the Model"
   ]
  },
  {
   "cell_type": "markdown",
   "metadata": {},
   "source": [
    "## Setup Training Arguments"
   ]
  },
  {
   "cell_type": "code",
   "execution_count": 74,
   "metadata": {},
   "outputs": [],
   "source": [
    "# Set up the Training Args\n",
    "training_args = TrainingArguments(\n",
    "    output_dir=\"./results\",\n",
    "    eval_strategy=\"epoch\",\n",
    "    per_device_train_batch_size=16,\n",
    "    per_device_eval_batch_size=16,\n",
    "    num_train_epochs=5, # Prior runs show that I am easily over fitting the data at 25 epochs...\n",
    "    weight_decay=0.01,\n",
    "    logging_dir='./logs',\n",
    "    # logging_steps=10, # This made my loss vs epoch plot too noisy...\n",
    "    logging_strategy='epoch',\n",
    "    save_strategy='epoch',\n",
    ")"
   ]
  },
  {
   "cell_type": "code",
   "execution_count": 75,
   "metadata": {},
   "outputs": [],
   "source": [
    "# Set up the Trainer\n",
    "\n",
    "#mlm is the masked language modeling\n",
    "\n",
    "data_collator = DataCollatorForLanguageModeling(tokenizer=tokenizer_fast, mlm=False, return_tensors='pt')\n",
    "\n",
    "trainer = Trainer(\n",
    "    model=gptmodel,\n",
    "    args=training_args,\n",
    "    train_dataset=tokenize_dataset_dict['train'],\n",
    "    eval_dataset=tokenize_dataset_dict['validation'],\n",
    "    processing_class=tokenizer_fast,\n",
    "    data_collator=data_collator\n",
    ")"
   ]
  },
  {
   "cell_type": "markdown",
   "metadata": {},
   "source": [
    "## CHOO CHOO!"
   ]
  },
  {
   "cell_type": "code",
   "execution_count": null,
   "metadata": {},
   "outputs": [],
   "source": [
    "# Run the Trainer\n",
    "trainer.train()"
   ]
  },
  {
   "cell_type": "code",
   "execution_count": null,
   "metadata": {},
   "outputs": [],
   "source": [
    "# Save out the model\n",
    "trainer.save_model(\"../models/hf_gpt2_style_theme_model\")"
   ]
  },
  {
   "cell_type": "markdown",
   "metadata": {},
   "source": [
    "# Metrics"
   ]
  },
  {
   "cell_type": "code",
   "execution_count": null,
   "metadata": {},
   "outputs": [
    {
     "data": {
      "text/html": [
       "\n",
       "    <div>\n",
       "      \n",
       "      <progress value='192' max='192' style='width:300px; height:20px; vertical-align: middle;'></progress>\n",
       "      [192/192 00:12]\n",
       "    </div>\n",
       "    "
      ],
      "text/plain": [
       "<IPython.core.display.HTML object>"
      ]
     },
     "metadata": {},
     "output_type": "display_data"
    },
    {
     "name": "stdout",
     "output_type": "stream",
     "text": [
      "Perplexity: 11.90\n"
     ]
    }
   ],
   "source": [
    "import math\n",
    "eval_results = trainer.evaluate()\n",
    "print(f\"Perplexity: {math.exp(eval_results['eval_loss']):.2f}\")"
   ]
  },
  {
   "cell_type": "markdown",
   "metadata": {},
   "source": [
    "We'll likely need to create our prompt input type thing down here..."
   ]
  },
  {
   "cell_type": "markdown",
   "metadata": {},
   "source": [
    "### Simple Prompting"
   ]
  },
  {
   "cell_type": "code",
   "execution_count": null,
   "metadata": {},
   "outputs": [],
   "source": [
    "def generate_text(model, tokenizer, prompt, max_length=100, num_return_sequences=1, temperature=1.0):\n",
    "    \"\"\"\n",
    "    Generate text using the trained GPT2 model.\n",
    "\n",
    "    Args:\n",
    "        model: The trained GPT2 model\n",
    "        tokenizer: The tokenizer used for encoding/decoding text\n",
    "        prompt: The input prompt text to generate from\n",
    "        max_length: Maximum length of generated sequence\n",
    "        num_return_sequences: Number of sequences to generate\n",
    "        temperature: Controls randomness (higher = more random)\n",
    "\n",
    "    Returns:\n",
    "        List of generated text sequences\n",
    "    \"\"\"\n",
    "    # Move model to GPU if available\n",
    "    device = torch.device(\"cuda\" if torch.cuda.is_available() else \"cpu\")\n",
    "    model = model.to(device)\n",
    "    model.eval()\n",
    "\n",
    "    # Encode the input prompt\n",
    "    encoded_prompt = tokenizer(prompt, return_tensors='pt').to(device)\n",
    "\n",
    "    # Generate text\n",
    "    with torch.no_grad():\n",
    "        output_sequences = model.generate(\n",
    "            input_ids=encoded_prompt['input_ids'],\n",
    "            attention_mask=encoded_prompt['attention_mask'],\n",
    "            max_length=max_length,\n",
    "            temperature=temperature,\n",
    "            num_return_sequences=num_return_sequences,\n",
    "            pad_token_id=tokenizer.pad_token_id,\n",
    "            eos_token_id=tokenizer.eos_token_id,\n",
    "            do_sample=True,\n",
    "        )\n",
    "\n",
    "    # Decode and return the generated sequences\n",
    "    generated_sequences = []\n",
    "    for generated_sequence in output_sequences:\n",
    "        generated_text = tokenizer.decode(generated_sequence, skip_special_tokens=True)\n",
    "        generated_sequences.append(generated_text)\n",
    "\n",
    "    return generated_sequences"
   ]
  },
  {
   "cell_type": "code",
   "execution_count": 51,
   "metadata": {},
   "outputs": [
    {
     "data": {
      "text/plain": [
       "['llanowar elves-or blocks a creature an opponent controls enters with three +1/+1 counter on it were {T} : Exile a creature of your hand : Create a 2/1 white colorless1 white Spirit creature token . \\\\n Whenever an artifact creature you control attacks , draw a card , then put into the top card of each1/+1 counter on it counter on it and you may put another Treasure token that many +1 counter on it . (To create a +1']"
      ]
     },
     "execution_count": 51,
     "metadata": {},
     "output_type": "execute_result"
    }
   ],
   "source": [
    "generate_text(gptmodel, tokenizer_fast, \"llanowar elves\", max_length=100, num_return_sequences=1, temperature=1.0)"
   ]
  },
  {
   "cell_type": "code",
   "execution_count": null,
   "metadata": {},
   "outputs": [],
   "source": []
  },
  {
   "cell_type": "markdown",
   "metadata": {},
   "source": [
    "### More Advanced Prompting"
   ]
  },
  {
   "cell_type": "code",
   "execution_count": null,
   "metadata": {},
   "outputs": [
    {
     "name": "stdout",
     "output_type": "stream",
     "text": [
      "llanowar elves enters tapped . \\n {T} : Add {U} . It gets +1/+1 until end of turn , Sacrifice an opponent sacrifices a creature : Return target creature card from your graveyard to its owner's hand . If you do , draw a card . You may put a +2/+0 counter on it . Activate only as a land . (If you control an instant or more +X/+X counter from a sorcery card in a random order . ) \\\n"
     ]
    }
   ],
   "source": [
    "# This has some nucleus sampling and top-k sampling\n",
    "# This is likely for us a better way to generate text\n",
    "\n",
    "from transformers import GPT2LMHeadModel, GPT2TokenizerFast\n",
    "\n",
    "# Load  trained model and tokenizer\n",
    "# model = GPT2LMHeadModel.from_pretrained(\"./model/path\")\n",
    "# tokenizer = GPT2TokenizerFast.from_pretrained(\"./tokenizer/path\")\n",
    "\n",
    "# Prepare your prompt\n",
    "prompt = \"llanowar elves\"\n",
    "# inputs = tokenizer(prompt, return_tensors=\"pt\").to(device)\n",
    "inputs = tokenizer_fast(prompt, return_tensors=\"pt\").to(device)\n",
    "\n",
    "\n",
    "# TODO: change `gptmodel` to `model` and `tokenizer_fast` to `tokenizer`\n",
    "# Generate text\n",
    "outputs = gptmodel.generate(\n",
    "    inputs.input_ids.to(device),\n",
    "    max_length=100,\n",
    "    do_sample=True,\n",
    "    temperature=0.8,\n",
    "    top_k=50,\n",
    "    top_p=0.95,\n",
    "    no_repeat_ngram_size=2,\n",
    "    pad_token_id=tokenizer_fast.pad_token_id,\n",
    "    eos_token_id=tokenizer_fast.eos_token_id,\n",
    ")\n",
    "\n",
    "# Decode the generated text\n",
    "generated_text = tokenizer_fast.decode(outputs[0], skip_special_tokens=True)\n",
    "print(generated_text)"
   ]
  },
  {
   "cell_type": "code",
   "execution_count": null,
   "metadata": {},
   "outputs": [],
   "source": []
  },
  {
   "cell_type": "code",
   "execution_count": null,
   "metadata": {},
   "outputs": [],
   "source": []
  }
 ],
 "metadata": {
  "kernelspec": {
   "display_name": "tcg_generator",
   "language": "python",
   "name": "python3"
  },
  "language_info": {
   "codemirror_mode": {
    "name": "ipython",
    "version": 3
   },
   "file_extension": ".py",
   "mimetype": "text/x-python",
   "name": "python",
   "nbconvert_exporter": "python",
   "pygments_lexer": "ipython3",
   "version": "3.12.9"
  }
 },
 "nbformat": 4,
 "nbformat_minor": 2
}
