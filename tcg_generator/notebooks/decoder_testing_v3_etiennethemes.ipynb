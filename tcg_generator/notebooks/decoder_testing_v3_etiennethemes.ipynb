{
 "cells": [
  {
   "cell_type": "markdown",
   "metadata": {},
   "source": [
    "Cleaned Version of a Decoder-only (GPT style) transformer architecture."
   ]
  },
  {
   "cell_type": "markdown",
   "metadata": {},
   "source": [
    "# Imports"
   ]
  },
  {
   "cell_type": "markdown",
   "metadata": {},
   "source": [
    "*YOU NEED TO RUN `decoder_thompson_botzercopy.ipynb` before this so you can create the dataset via: `training_data.to_csv(\"../data/processed/training_data.csv\", index=False)`*"
   ]
  },
  {
   "cell_type": "code",
   "execution_count": 2,
   "metadata": {},
   "outputs": [],
   "source": [
    "from tokenizers import Tokenizer, models, pre_tokenizers, decoders, trainers, processors\n",
    "from tokenizers.normalizers import NFKC, Sequence\n",
    "import os\n",
    "from typing import List, Optional, Union\n",
    "from tqdm.notebook import tqdm\n",
    "from tqdm import tqdm\n",
    "import random\n",
    "\n",
    "import transformers\n",
    "from transformers import GPT2Config, GPT2LMHeadModel, GPT2Tokenizer, GPT2TokenizerFast\n",
    "from transformers import PreTrainedTokenizerFast\n",
    "from transformers import AutoTokenizer, BertForSequenceClassification, Trainer, TrainingArguments, DataCollatorWithPadding, DataCollatorForLanguageModeling\n",
    "from datasets import Dataset, DatasetDict,load_dataset #, load_metric\n",
    "from transformers.tokenization_utils_base import AddedToken\n",
    "\n",
    "# import tensorflow as tf\n",
    "\n",
    "from sklearn.model_selection import train_test_split\n",
    "\n",
    "import torch\n",
    "\n",
    "\n",
    "import ast # Because the tokenized_text column data is stored as a string instead of a list...\n",
    "import pandas as pd\n",
    "\n"
   ]
  },
  {
   "cell_type": "markdown",
   "metadata": {},
   "source": [
    "This makes use of the Hugging Face transformer.trainer API so it uses a PyTorch backend"
   ]
  },
  {
   "cell_type": "code",
   "execution_count": 3,
   "metadata": {},
   "outputs": [
    {
     "name": "stdout",
     "output_type": "stream",
     "text": [
      "You are usisng cuda on a NVIDIA GeForce GTX 1070.\n"
     ]
    }
   ],
   "source": [
    "# Check pytorch GPU availability\n",
    "device = torch.device(\"cuda\" if torch.cuda.is_available() else \"cpu\")\n",
    "print(f'You are usisng {device} on a {torch.cuda.get_device_name()}.')"
   ]
  },
  {
   "cell_type": "markdown",
   "metadata": {},
   "source": [
    "# Grab the dataset\n",
    "\n",
    "1) Get the dataset\n",
    "2) Fix the tokenize_text column from a string to a list of strings\n",
    "3) Pull out all of the words into a mega-list\n",
    "\n",
    "**SOMTHING IS WRONG WITH THE DATASET.  Likely an issue with the preprocessing steps...**\n",
    "\n",
    "See:\n",
    "\n",
    "Item 19152 seems like it is too many cards put together... I need to figure out what is going on.\n",
    "\n",
    "'Crash Landing — Search your library for a basic land card , reveal it , put it into your hand , then shuffle . \\\\n Goblin Camp — Create a Treasure token . \\\\n Emerald Grove — Create a 2/2 white Knight creature token . \\\\n Auntie\\'s Teahouse — Scry 3 . \\\\n Defiled Temple — You may sacrifice a permanent . If you do , draw a card . \\\\n Mountain Pass — You may put a land card from your hand onto the battlefield . \\\\n Ebonlake Grotto — Create two 1/1 blue Faerie Dragon creature tokens with flying . \\\\n Grymforge — For each opponent , goad up to one target creature that player controls . \\\\n Githyanki Crèche — Distribute three +1/+1 counters among up to three target creatures you control . \\\\n Last Light Inn — Draw two cards . \\\\n Reithwin Tollhouse — Roll 2d4 and create that many Treasure tokens . \\\\n Moonrise Towers — Instant and sorcery spells you cast this turn cost 3 less to cast . \\\\n Gauntlet of Shar — Each opponent loses 5 life . \\\\n Balthazar\\'s Lab — Return up to two target creature cards from your graveyard to your hand . \\\\n Circus of the Last Days — Create a token that\\'s a copy of one of your commanders , except it\\'s not legendary . \\\\n Undercity Ruins — Create three 4/1 black Skeleton creature tokens with menace . \\\\n Steel Watch Foundry — You get an emblem with \"Creatures you control get +2/+2 and have trample . \" \\\\n Ansur\\'s Sanctum — Reveal the top four cards of your library and put them into your hand . Each opponent loses life equal to those cards\\' total mana value . \\\\n Temple of Bhaal — Creatures your opponents control get -5/-5 until end of turn .'\n"
   ]
  },
  {
   "cell_type": "code",
   "execution_count": 4,
   "metadata": {},
   "outputs": [],
   "source": [
    "# Read the processed card data from wherever you have it.\n",
    "\n",
    "# df = pd.read_csv('../data/processed/mtg_carddata_processed.csv')\n",
    "\n",
    "# df = pd.read_csv('../data/processed/mtg_carddata_processed_2_23_25.csv')  # Trainer and current process will work with this dataset\n",
    "\n",
    "\n",
    "#Normal data to use\n",
    "# df = pd.read_csv('../data/processed/training_data.tsv', sep=\"\\t\")\n",
    "\n",
    "# Testing the <|endoftext|> token\n",
    "df = pd.read_csv('../data/processed/training_data_endoftext.tsv', sep=\"\\t\")\n"
   ]
  },
  {
   "cell_type": "code",
   "execution_count": 6,
   "metadata": {},
   "outputs": [
    {
     "data": {
      "text/html": [
       "<div>\n",
       "<style scoped>\n",
       "    .dataframe tbody tr th:only-of-type {\n",
       "        vertical-align: middle;\n",
       "    }\n",
       "\n",
       "    .dataframe tbody tr th {\n",
       "        vertical-align: top;\n",
       "    }\n",
       "\n",
       "    .dataframe thead th {\n",
       "        text-align: right;\n",
       "    }\n",
       "</style>\n",
       "<table border=\"1\" class=\"dataframe\">\n",
       "  <thead>\n",
       "    <tr style=\"text-align: right;\">\n",
       "      <th></th>\n",
       "      <th>sentence</th>\n",
       "    </tr>\n",
       "  </thead>\n",
       "  <tbody>\n",
       "    <tr>\n",
       "      <th>0</th>\n",
       "      <td>&lt;|endoftext|&gt; &lt;THEMES&gt; N Identity , Artifact ,...</td>\n",
       "    </tr>\n",
       "    <tr>\n",
       "      <th>1</th>\n",
       "      <td>&lt;|endoftext|&gt; &lt;THEMES&gt; N Identity , Artifact ,...</td>\n",
       "    </tr>\n",
       "    <tr>\n",
       "      <th>2</th>\n",
       "      <td>&lt;|endoftext|&gt; &lt;THEMES&gt; N Identity , Artifact ,...</td>\n",
       "    </tr>\n",
       "    <tr>\n",
       "      <th>3</th>\n",
       "      <td>&lt;|endoftext|&gt; &lt;THEMES&gt; N Identity , Artifact ,...</td>\n",
       "    </tr>\n",
       "    <tr>\n",
       "      <th>4</th>\n",
       "      <td>&lt;|endoftext|&gt; &lt;THEMES&gt; N Identity , Artifact ,...</td>\n",
       "    </tr>\n",
       "    <tr>\n",
       "      <th>...</th>\n",
       "      <td>...</td>\n",
       "    </tr>\n",
       "    <tr>\n",
       "      <th>1295899</th>\n",
       "      <td>&lt;|endoftext|&gt; &lt;THEMES&gt; Creature , W Color , Cr...</td>\n",
       "    </tr>\n",
       "    <tr>\n",
       "      <th>1295900</th>\n",
       "      <td>&lt;|endoftext|&gt; &lt;THEMES&gt; Creature , W Color , Cr...</td>\n",
       "    </tr>\n",
       "    <tr>\n",
       "      <th>1295901</th>\n",
       "      <td>&lt;|endoftext|&gt; &lt;THEMES&gt; Creature , W Color , Cr...</td>\n",
       "    </tr>\n",
       "    <tr>\n",
       "      <th>1295902</th>\n",
       "      <td>&lt;|endoftext|&gt; &lt;THEMES&gt; Creature , W Color , Cr...</td>\n",
       "    </tr>\n",
       "    <tr>\n",
       "      <th>1295903</th>\n",
       "      <td>&lt;|endoftext|&gt; &lt;THEMES&gt; Creature , W Color , Cr...</td>\n",
       "    </tr>\n",
       "  </tbody>\n",
       "</table>\n",
       "<p>1295904 rows × 1 columns</p>\n",
       "</div>"
      ],
      "text/plain": [
       "                                                  sentence\n",
       "0        <|endoftext|> <THEMES> N Identity , Artifact ,...\n",
       "1        <|endoftext|> <THEMES> N Identity , Artifact ,...\n",
       "2        <|endoftext|> <THEMES> N Identity , Artifact ,...\n",
       "3        <|endoftext|> <THEMES> N Identity , Artifact ,...\n",
       "4        <|endoftext|> <THEMES> N Identity , Artifact ,...\n",
       "...                                                    ...\n",
       "1295899  <|endoftext|> <THEMES> Creature , W Color , Cr...\n",
       "1295900  <|endoftext|> <THEMES> Creature , W Color , Cr...\n",
       "1295901  <|endoftext|> <THEMES> Creature , W Color , Cr...\n",
       "1295902  <|endoftext|> <THEMES> Creature , W Color , Cr...\n",
       "1295903  <|endoftext|> <THEMES> Creature , W Color , Cr...\n",
       "\n",
       "[1295904 rows x 1 columns]"
      ]
     },
     "execution_count": 6,
     "metadata": {},
     "output_type": "execute_result"
    }
   ],
   "source": [
    "df"
   ]
  },
  {
   "cell_type": "code",
   "execution_count": 7,
   "metadata": {},
   "outputs": [
    {
     "data": {
      "text/html": [
       "<div>\n",
       "<style scoped>\n",
       "    .dataframe tbody tr th:only-of-type {\n",
       "        vertical-align: middle;\n",
       "    }\n",
       "\n",
       "    .dataframe tbody tr th {\n",
       "        vertical-align: top;\n",
       "    }\n",
       "\n",
       "    .dataframe thead th {\n",
       "        text-align: right;\n",
       "    }\n",
       "</style>\n",
       "<table border=\"1\" class=\"dataframe\">\n",
       "  <thead>\n",
       "    <tr style=\"text-align: right;\">\n",
       "      <th></th>\n",
       "      <th>sentence</th>\n",
       "    </tr>\n",
       "  </thead>\n",
       "  <tbody>\n",
       "    <tr>\n",
       "      <th>0</th>\n",
       "      <td>&lt;|endoftext|&gt; &lt;THEMES&gt; N Identity , Artifact ,...</td>\n",
       "    </tr>\n",
       "    <tr>\n",
       "      <th>1</th>\n",
       "      <td>&lt;|endoftext|&gt; &lt;THEMES&gt; N Identity , Artifact ,...</td>\n",
       "    </tr>\n",
       "    <tr>\n",
       "      <th>2</th>\n",
       "      <td>&lt;|endoftext|&gt; &lt;THEMES&gt; N Identity , Artifact ,...</td>\n",
       "    </tr>\n",
       "    <tr>\n",
       "      <th>3</th>\n",
       "      <td>&lt;|endoftext|&gt; &lt;THEMES&gt; N Identity , Artifact ,...</td>\n",
       "    </tr>\n",
       "    <tr>\n",
       "      <th>4</th>\n",
       "      <td>&lt;|endoftext|&gt; &lt;THEMES&gt; N Identity , Artifact ,...</td>\n",
       "    </tr>\n",
       "    <tr>\n",
       "      <th>5</th>\n",
       "      <td>&lt;|endoftext|&gt; &lt;THEMES&gt; N Identity , Artifact ,...</td>\n",
       "    </tr>\n",
       "    <tr>\n",
       "      <th>6</th>\n",
       "      <td>&lt;|endoftext|&gt; &lt;THEMES&gt; N Identity , Artifact ,...</td>\n",
       "    </tr>\n",
       "  </tbody>\n",
       "</table>\n",
       "</div>"
      ],
      "text/plain": [
       "                                            sentence\n",
       "0  <|endoftext|> <THEMES> N Identity , Artifact ,...\n",
       "1  <|endoftext|> <THEMES> N Identity , Artifact ,...\n",
       "2  <|endoftext|> <THEMES> N Identity , Artifact ,...\n",
       "3  <|endoftext|> <THEMES> N Identity , Artifact ,...\n",
       "4  <|endoftext|> <THEMES> N Identity , Artifact ,...\n",
       "5  <|endoftext|> <THEMES> N Identity , Artifact ,...\n",
       "6  <|endoftext|> <THEMES> N Identity , Artifact ,..."
      ]
     },
     "execution_count": 7,
     "metadata": {},
     "output_type": "execute_result"
    }
   ],
   "source": [
    "df[:7]"
   ]
  },
  {
   "cell_type": "code",
   "execution_count": 8,
   "metadata": {},
   "outputs": [
    {
     "data": {
      "text/plain": [
       "'<|endoftext|> <THEMES> N Identity , Artifact , N Color , {3} Cost'"
      ]
     },
     "execution_count": 8,
     "metadata": {},
     "output_type": "execute_result"
    }
   ],
   "source": [
    "df['sentence'][0]"
   ]
  },
  {
   "cell_type": "code",
   "execution_count": 9,
   "metadata": {},
   "outputs": [
    {
     "name": "stdout",
     "output_type": "stream",
     "text": [
      "0    <|endoftext|> <THEMES> N Identity , Artifact ,...\n",
      "1    <|endoftext|> <THEMES> N Identity , Artifact ,...\n",
      "2    <|endoftext|> <THEMES> N Identity , Artifact ,...\n",
      "Name: sentence, dtype: object\n"
     ]
    }
   ],
   "source": [
    "corpus = df['sentence']\n",
    "print(corpus[0:3])"
   ]
  },
  {
   "cell_type": "code",
   "execution_count": 10,
   "metadata": {},
   "outputs": [],
   "source": [
    "# Convert corpus to list of strings if it's not already\n",
    "corpus_list = corpus.tolist() if hasattr(corpus, 'tolist') else list(corpus)"
   ]
  },
  {
   "cell_type": "code",
   "execution_count": 11,
   "metadata": {},
   "outputs": [
    {
     "data": {
      "text/plain": [
       "pandas.core.series.Series"
      ]
     },
     "execution_count": 11,
     "metadata": {},
     "output_type": "execute_result"
    }
   ],
   "source": [
    "type(corpus)"
   ]
  },
  {
   "cell_type": "code",
   "execution_count": 12,
   "metadata": {},
   "outputs": [
    {
     "data": {
      "text/plain": [
       "str"
      ]
     },
     "execution_count": 12,
     "metadata": {},
     "output_type": "execute_result"
    }
   ],
   "source": [
    "type(corpus_list[0])"
   ]
  },
  {
   "cell_type": "code",
   "execution_count": 13,
   "metadata": {},
   "outputs": [],
   "source": [
    "# Convert pandas Series to list of strings\n",
    "corpus_list = corpus.values.tolist()\n",
    "\n",
    "# Ensure all elements are strings\n",
    "corpus_list = [str(text) for text in corpus_list]"
   ]
  },
  {
   "cell_type": "code",
   "execution_count": 14,
   "metadata": {},
   "outputs": [
    {
     "data": {
      "text/plain": [
       "'<|endoftext|> <THEMES> N Identity , Artifact , N Color , {3} Cost'"
      ]
     },
     "execution_count": 14,
     "metadata": {},
     "output_type": "execute_result"
    }
   ],
   "source": [
    "# Corrected the above code to ensure all elements are strings\n",
    "corpus_list[0]"
   ]
  },
  {
   "cell_type": "code",
   "execution_count": 15,
   "metadata": {},
   "outputs": [
    {
     "name": "stdout",
     "output_type": "stream",
     "text": [
      "<class 'list'>\n",
      "<class 'str'>\n"
     ]
    }
   ],
   "source": [
    "# Check the first few elements to verify\n",
    "print(type(corpus_list))  # Should show: <class 'list'>\n",
    "print(type(corpus_list[0]))  # Should show: <class 'str'>"
   ]
  },
  {
   "cell_type": "markdown",
   "metadata": {},
   "source": [
    "# Split into train/val/test datasets\n",
    "\n",
    "Do we need to keep other information with the corpus_list as we split it up?  Names, color, etc.?\n",
    "\n",
    "If we're just generating text, I think that answer is no.  If we want more, then the answer is likely yes."
   ]
  },
  {
   "cell_type": "code",
   "execution_count": 16,
   "metadata": {},
   "outputs": [],
   "source": [
    "# Split data into train/validation/test (80/10/10) sets\n",
    "train_list, temp = train_test_split(corpus_list, test_size=0.2, random_state=42) # Set 80% for training\n",
    "val, test = train_test_split(temp, test_size=0.5, random_state=42) # Set 10% for validation and 10% for testing"
   ]
  },
  {
   "cell_type": "code",
   "execution_count": 17,
   "metadata": {},
   "outputs": [
    {
     "data": {
      "text/plain": [
       "DatasetDict({\n",
       "    train: Dataset({\n",
       "        features: ['sentence'],\n",
       "        num_rows: 1036723\n",
       "    })\n",
       "    validation: Dataset({\n",
       "        features: ['sentence'],\n",
       "        num_rows: 129590\n",
       "    })\n",
       "    test: Dataset({\n",
       "        features: ['sentence'],\n",
       "        num_rows: 129591\n",
       "    })\n",
       "})"
      ]
     },
     "execution_count": 17,
     "metadata": {},
     "output_type": "execute_result"
    }
   ],
   "source": [
    "# Turn them into dicts so I can use them with the Hugging Face Dataset class\n",
    "train = [{\"sentence\": text} for text in train_list]  # Wrap each sentence in a dict\n",
    "val = [{\"sentence\": text} for text in val]\n",
    "test = [{\"sentence\": text} for text in test]\n",
    "\n",
    "# Create the Dataset Dictionary for future mapping\n",
    "data = DatasetDict({\n",
    "    'train': Dataset.from_list(train),\n",
    "    'validation': Dataset.from_list(val),\n",
    "    'test': Dataset.from_list(test)\n",
    "    })\n",
    "\n",
    "data"
   ]
  },
  {
   "cell_type": "code",
   "execution_count": 18,
   "metadata": {},
   "outputs": [
    {
     "ename": "SyntaxError",
     "evalue": "expected '(' (4257267261.py, line 1)",
     "output_type": "error",
     "traceback": [
      "  \u001b[36mCell\u001b[39m\u001b[36m \u001b[39m\u001b[32mIn[18]\u001b[39m\u001b[32m, line 1\u001b[39m\n\u001b[31m    \u001b[39m\u001b[31mdef df\u001b[39m\n          ^\n\u001b[31mSyntaxError\u001b[39m\u001b[31m:\u001b[39m expected '('\n"
     ]
    }
   ],
   "source": [
    "def df"
   ]
  },
  {
   "cell_type": "code",
   "execution_count": 19,
   "metadata": {},
   "outputs": [],
   "source": [
    "del corpus"
   ]
  },
  {
   "cell_type": "code",
   "execution_count": 20,
   "metadata": {},
   "outputs": [],
   "source": [
    "del train_list"
   ]
  },
  {
   "cell_type": "code",
   "execution_count": 21,
   "metadata": {},
   "outputs": [],
   "source": [
    "del temp"
   ]
  },
  {
   "cell_type": "code",
   "execution_count": 22,
   "metadata": {},
   "outputs": [],
   "source": [
    "del train"
   ]
  },
  {
   "cell_type": "code",
   "execution_count": 23,
   "metadata": {},
   "outputs": [],
   "source": [
    "del val"
   ]
  },
  {
   "cell_type": "code",
   "execution_count": 24,
   "metadata": {},
   "outputs": [],
   "source": [
    "del test"
   ]
  },
  {
   "cell_type": "code",
   "execution_count": 18,
   "metadata": {},
   "outputs": [
    {
     "data": {
      "text/plain": [
       "{'sentence': ['<|endoftext|> <THEMES> 1 1 Counters , Creature , Haste , Elemental , Flying , U Identity , {4} {U} Cost , Creature Based , U Color , Dies <CARD_NAME> <name> <MANA_COST> {4} {U} <TYPE_LINE> Creature — Elemental <ORACLE_TEXT> Flying \\\\n When <name>',\n",
       "  '<|endoftext|> <THEMES> Scout , 1 1 Counters , Creature , {1} {G} Cost , G Identity , G Color , Creature Based , Mole <CARD_NAME> <name> <MANA_COST> {1} {G} <TYPE_LINE> Creature — Mole Scout <ORACLE_TEXT> At the beginning of your end step , if',\n",
       "  \"<|endoftext|> <THEMES> Creature , Haste , GR Color , {2} {R} {G} Cost , Warrior , Creature Based , GR Identity , Elf , Legendary <CARD_NAME> <name> <MANA_COST> {2} {R} {G} <TYPE_LINE> Legendary Creature — Elf Warrior <ORACLE_TEXT> Haste \\\\n Whenever one or more creatures you control attack , add that much mana in any combination of {R} and or {G} . Until end of turn , you don't lose this mana as steps and\",\n",
       "  '<|endoftext|> <THEMES> Damage , R Color , {1} {R} Cost , R Identity , Instant <CARD_NAME> <name> <MANA_COST> {1} {R} <TYPE_LINE> Instant <ORACLE_TEXT> <name> deals 2 damage divided as you choose among',\n",
       "  '<|endoftext|> <THEMES> Creature , W Color , Creature Based , Unicorn , {1} {W} Cost , W Identity <CARD_NAME> <name> <MANA_COST> {1} {W} <TYPE_LINE> Creature — Unicorn <ORACLE_TEXT> When <name> enters , target creature gets',\n",
       "  '<|endoftext|> <THEMES> Enchantment , R Color , Sacrifice , {3} {R} Cost , R Identity , Card Draw <CARD_NAME> <name> <MANA_COST> {3} {R} <TYPE_LINE> Enchantment <ORACLE_TEXT>',\n",
       "  '<|endoftext|> <THEMES> Creature , R Color , Sacrifice , Soldier , Human , R Identity , {2} {R} Cost <CARD_NAME> <name> <MANA_COST> {2} {R} <TYPE_LINE> Creature — Human Soldier <ORACLE_TEXT> {1} , Sacrifice two lands : Destroy',\n",
       "  '<|endoftext|> <THEMES> {U} Cost , Suspend , A Counters , U Identity , Buyback , U Color , Instant <CARD_NAME> <name> <MANA_COST> {U} <TYPE_LINE> Instant <ORACLE_TEXT> Buyback {3} ( You may pay an additional {3} as you cast this spell . If you do , put this card',\n",
       "  \"<|endoftext|> <THEMES> Citizen , Creature , Attacking , R Color , Human , {3} {R} Cost , Creature Based , R Identity , Alliance <CARD_NAME> <name> <MANA_COST> {3} {R} <TYPE_LINE> Creature — Human Citizen <ORACLE_TEXT> Alliance — Whenever another creature you control enters , target creature an opponent controls can't block this turn . If this is the second time this ability has resolved this turn , that creature attacks during its controller's next combat phase if able . <POWER> 3 <TOUGHNESS> 2 <|endoftext|>\",\n",
       "  '<|endoftext|> <THEMES> G Identity , Beast Tokens , G Color , Creature Based , {3} {G} Cost , Tokens , Instant <CARD_NAME> <name> <MANA_COST> {3} {G} <TYPE_LINE> Instant <ORACLE_TEXT> Create a 3 3 green Beast creature token for each creature put into your graveyard from']}"
      ]
     },
     "execution_count": 18,
     "metadata": {},
     "output_type": "execute_result"
    }
   ],
   "source": [
    "# Check the items\n",
    "data['train'][10:20]"
   ]
  },
  {
   "cell_type": "code",
   "execution_count": 19,
   "metadata": {},
   "outputs": [
    {
     "data": {
      "text/plain": [
       "'<|endoftext|> <THEMES> Storage Counters , Land , Cost , U Identity , N Color <CARD_NAME> <name> <MANA_COST> <TYPE_LINE> Land <ORACLE_TEXT> <name> enters tapped . \\\\n {T} : Put a storage counter on <name> . \\\\n {T} ,'"
      ]
     },
     "execution_count": 19,
     "metadata": {},
     "output_type": "execute_result"
    }
   ],
   "source": [
    "data['validation']['sentence'][0]"
   ]
  },
  {
   "cell_type": "markdown",
   "metadata": {},
   "source": [
    "# Train the Tokenizer on Training Data\n",
    "\n",
    "Keep the validation and test sets out of the tokenizer to prevent data leakage."
   ]
  },
  {
   "cell_type": "code",
   "execution_count": 20,
   "metadata": {},
   "outputs": [],
   "source": [
    "# Create a directory for tokenizer files if it doesn't exist\n",
    "models_dir = \"../models/themed_data\"\n",
    "os.makedirs(models_dir, exist_ok=True)"
   ]
  },
  {
   "cell_type": "markdown",
   "metadata": {},
   "source": [
    "## Tokenizer Functions\n",
    "\n",
    "1) `create_gpt2_tokenizer`\n",
    "\n",
    "2) `train_tokenizer_from_texts`\n",
    "\n",
    "3) `convert_to_transformers_tokenizer` -> This is important to allow `trainer.train` to work\n",
    "\n",
    "4) `use_transformers_tokenizer`\n",
    "\n",
    "5) `load_transformers_tokenizer` -> Used if you have one to load, else just carry from `tokenizer=convert_to_transformers_tokenizer`\n",
    "\n",
    "6) `demonstrate_workflow2` -> make sure this whole thing even works..."
   ]
  },
  {
   "cell_type": "code",
   "execution_count": null,
   "metadata": {},
   "outputs": [],
   "source": [
    "def create_gpt2_tokenizer(vocab_size=8192, min_frequency=2):\n",
    "    \"\"\"\n",
    "    Create a GPT2-style BPE tokenizer from scratch using Hugging Face tokenizers library.\n",
    "\n",
    "    Args:\n",
    "        vocab_size: The size of the vocabulary to learn\n",
    "        min_frequency: Minimum frequency for a token to be considered in the BPE algorithm\n",
    "\n",
    "    Returns:\n",
    "        A tokenizer object ready for training\n",
    "    \"\"\"\n",
    "    # Initialize a ByteLevelBPE model-based tokenizer\n",
    "    tokenizer = Tokenizer(models.BPE())\n",
    "\n",
    "    # Add byte-level pre-tokenizer\n",
    "    tokenizer.pre_tokenizer = pre_tokenizers.ByteLevel(add_prefix_space=False)\n",
    "\n",
    "    # Add decoder to properly decode byte-level tokens\n",
    "    tokenizer.decoder = decoders.ByteLevel()\n",
    "\n",
    "    # Set up normalizers - GPT-2 doesn't do much normalization\n",
    "    tokenizer.normalizer = Sequence([NFKC()])\n",
    "\n",
    "    # Return the tokenizer (to be trained later)\n",
    "    return tokenizer\n",
    "\n",
    "\n",
    "def train_tokenizer_from_texts(\n",
    "    tokenizer: Tokenizer,\n",
    "    texts: List[str],\n",
    "    vocab_size: int = 8192,\n",
    "    min_frequency: int = 2,\n",
    "    batch_size: int = 512,\n",
    "    output_dir: str = \"tokenizer\"\n",
    "):\n",
    "    \"\"\"\n",
    "    Train the tokenizer on a list of texts using batching\n",
    "\n",
    "    Args:\n",
    "        tokenizer: The tokenizer object to train\n",
    "        texts: List of strings to use for training\n",
    "        vocab_size: Maximum vocabulary size\n",
    "        min_frequency: Minimum frequency for a token\n",
    "        batch_size: Number of texts to process in each batch\n",
    "        output_dir: Directory to save the trained tokenizer\n",
    "\n",
    "    Returns:\n",
    "        The trained tokenizer\n",
    "    \"\"\"\n",
    "    if not texts:\n",
    "        raise ValueError(\"No texts provided for training\")\n",
    "\n",
    "    # Configure the BPE trainer\n",
    "    trainer = trainers.BpeTrainer(\n",
    "        vocab_size=vocab_size,\n",
    "        min_frequency=min_frequency,\n",
    "        special_tokens=[\"<|endoftext|>\", \"<|pad|>\"],\n",
    "        show_progress=True,\n",
    "    )\n",
    "\n",
    "    # Create temporary files for batched training\n",
    "    temp_dir = os.path.join(output_dir, \"temp\")\n",
    "    os.makedirs(temp_dir, exist_ok=True)\n",
    "\n",
    "    # Split texts into batches\n",
    "    batches = [texts[i:i+batch_size] for i in range(0, len(texts), batch_size)]\n",
    "    batch_files = []\n",
    "\n",
    "    print(f\"Preparing {len(batches)} batches for training...\")\n",
    "\n",
    "    # Write batches to temporary files\n",
    "    for i, batch in enumerate(tqdm(batches)):\n",
    "        batch_file = os.path.join(temp_dir, f\"batch_{i}.txt\")\n",
    "        with open(batch_file, \"w\", encoding=\"utf-8\") as f:\n",
    "            f.write(\"\\n<|endoftext|>\\n\".join(batch))\n",
    "            f.write(\"\\n<|endoftext|>\\n\")  # Add final separator\n",
    "        batch_files.append(batch_file)\n",
    "\n",
    "    # Train the tokenizer\n",
    "    print(\"Training tokenizer...\")\n",
    "    tokenizer.train(batch_files, trainer)\n",
    "\n",
    "    # Add post-processor to handle special tokens\n",
    "    tokenizer.post_processor = processors.ByteLevel(trim_offsets=False)\n",
    "\n",
    "    # Enable padding with the PAD token\n",
    "    pad_id = tokenizer.token_to_id(\"<|pad|>\")\n",
    "    if pad_id is not None:\n",
    "        tokenizer.enable_padding(pad_id=pad_id, pad_token=\"<|pad|>\")\n",
    "    else:\n",
    "        print(\"Warning: <|pad|> token not found in vocabulary. Padding won't work correctly.\")\n",
    "\n",
    "    # Save the trained tokenizer\n",
    "    if not os.path.exists(output_dir):\n",
    "        os.makedirs(output_dir)\n",
    "    tokenizer.save(f\"{output_dir}/gpt2_tokenizer.json\")\n",
    "\n",
    "    # Clean up temporary files\n",
    "    for file in batch_files:\n",
    "        os.remove(file)\n",
    "    os.rmdir(temp_dir)\n",
    "\n",
    "    print(f\"Tokenizer trained and saved to {output_dir}/gpt2_tokenizer.json\")\n",
    "    return tokenizer\n",
    "\n",
    "\n",
    "def convert_to_transformers_tokenizer(\n",
    "    tokenizer_path: str,\n",
    "    output_dir: str = None,\n",
    "    model_max_length: int = 1024\n",
    "):\n",
    "    \"\"\"\n",
    "    Convert a trained tokenizers.Tokenizer to a transformers compatible tokenizer\n",
    "\n",
    "    Args:\n",
    "        tokenizer_path: Path to the saved tokenizer JSON file\n",
    "        output_dir: Directory to save the transformers tokenizer\n",
    "        model_max_length: Maximum sequence length for the model\n",
    "\n",
    "    Returns:\n",
    "        A transformers-compatible tokenizer\n",
    "    \"\"\"\n",
    "    # Load the tokenizer\n",
    "    if isinstance(tokenizer_path, Tokenizer):\n",
    "        # If a tokenizer object is passed directly\n",
    "        raw_tokenizer = tokenizer_path\n",
    "    else:\n",
    "        # Load from file\n",
    "        raw_tokenizer = Tokenizer.from_file(tokenizer_path)\n",
    "\n",
    "    # Define special tokens\n",
    "    eos_token = \"<|endoftext|>\"\n",
    "    bos_token = \"<|endoftext|>\"  # GPT-2 uses EOS as both BOS and EOS\n",
    "    pad_token = \"<|pad|>\"\n",
    "\n",
    "    # Create the transformers wrapper\n",
    "    transformers_tokenizer = PreTrainedTokenizerFast(\n",
    "        tokenizer_object=raw_tokenizer,\n",
    "        bos_token=eos_token,  # GPT-2 uses EOS as BOS too\n",
    "        eos_token=eos_token,\n",
    "        pad_token=pad_token,\n",
    "        unk_token=eos_token,  # GPT-2 doesn't really have UNK, defaults to EOS\n",
    "        model_max_length=model_max_length\n",
    "    )\n",
    "\n",
    "    # Set additional GPT-2 specific attributes\n",
    "    transformers_tokenizer.add_special_tokens({\n",
    "        \"eos_token\": eos_token,\n",
    "        \"bos_token\": eos_token,\n",
    "        \"pad_token\": pad_token,\n",
    "    })\n",
    "\n",
    "    # Save the transformers tokenizer if an output directory is provided\n",
    "    if output_dir:\n",
    "        os.makedirs(output_dir, exist_ok=True)\n",
    "        transformers_tokenizer.save_pretrained(output_dir)\n",
    "        print(f\"Transformers tokenizer saved to {output_dir}\")\n",
    "\n",
    "    return transformers_tokenizer\n",
    "\n",
    "\n",
    "def use_transformers_tokenizer(tokenizer, text, padding=True, truncation=True, max_length=None, return_tensors=None):\n",
    "    \"\"\"\n",
    "    Demonstrate how to use the transformers tokenizer\n",
    "\n",
    "    Args:\n",
    "        tokenizer: The transformers tokenizer\n",
    "        text: Text to tokenize or list of texts\n",
    "        padding: Whether to pad the sequences (True, False, 'max_length', 'longest')\n",
    "        truncation: Whether to truncate sequences (True, False)\n",
    "        max_length: Maximum length for padding/truncation (defaults to model_max_length if None)\n",
    "        return_tensors: Return format for tensors ('pt' for PyTorch, 'tf' for TensorFlow, None for lists)\n",
    "\n",
    "    Returns:\n",
    "        Encoding object(s) with tokens, ids, etc.\n",
    "    \"\"\"\n",
    "    # Configure parameters\n",
    "    if max_length is None:\n",
    "        max_length = tokenizer.model_max_length\n",
    "\n",
    "    # Encode the text(s)\n",
    "    encoded = tokenizer(\n",
    "        text,\n",
    "        padding=padding,\n",
    "        truncation=truncation,\n",
    "        max_length=max_length,\n",
    "        return_tensors=return_tensors\n",
    "    )\n",
    "\n",
    "    # Display results for single text if it's a string\n",
    "    if isinstance(text, str):\n",
    "        print(f\"Input text: {text}\")\n",
    "        print(f\"Token IDs: {encoded['input_ids'].tolist()[0] if return_tensors else encoded['input_ids']}\")\n",
    "        tokens = tokenizer.convert_ids_to_tokens(\n",
    "            encoded['input_ids'].tolist()[0] if return_tensors else encoded['input_ids']\n",
    "        )\n",
    "        print(f\"Tokens: {tokens}\")\n",
    "\n",
    "        if padding:\n",
    "            print(f\"Attention mask: {encoded['attention_mask'].tolist()[0] if return_tensors else encoded['attention_mask']}\")\n",
    "\n",
    "        # Decoding demonstration\n",
    "        decoded = tokenizer.decode(\n",
    "            encoded['input_ids'].tolist()[0] if return_tensors else encoded['input_ids'],\n",
    "            skip_special_tokens=True\n",
    "        )\n",
    "        print(f\"Decoded text: {decoded}\")\n",
    "\n",
    "    return encoded\n",
    "\n",
    "\n",
    "def load_transformers_tokenizer(path):\n",
    "    \"\"\"\n",
    "    Load a previously saved transformers tokenizer\n",
    "\n",
    "    Args:\n",
    "        path: Path to the saved transformers tokenizer directory\n",
    "\n",
    "    Returns:\n",
    "        The loaded transformers tokenizer\n",
    "    \"\"\"\n",
    "    return GPT2TokenizerFast.from_pretrained(path)\n",
    "\n",
    "\n",
    "def demonstrate_workflow2():\n",
    "    \"\"\"\n",
    "    Full demonstration of creating, training, and using a GPT-2 style tokenizer\n",
    "    that's compatible with the transformers library\n",
    "    \"\"\"\n",
    "    # Create a new tokenizer\n",
    "    print(\"Creating tokenizer...\")\n",
    "    tokenizer = create_gpt2_tokenizer()\n",
    "\n",
    "    # Generate some sample texts for demonstration\n",
    "    print(\"Generating sample texts...\")\n",
    "    sample_texts = [\n",
    "        \"This is an example of text that could be used to train a tokenizer.\",\n",
    "        \"It should include diverse vocabulary, punctuation (like commas, periods, question marks?).\",\n",
    "        \"Multiple paragraphs are good to include.\",\n",
    "        \"Numbers like 42, 3.14159, and 2023 should be represented.\",\n",
    "        \"Code snippets might be important if your model will process code:\\ndef hello_world():\\n    print('Hello, world!')\",\n",
    "    ]\n",
    "\n",
    "    # Add some more generated texts for better training\n",
    "    for i in range(50):\n",
    "        words = [\"The\", \"quick\", \"brown\", \"fox\", \"jumps\", \"over\", \"lazy\", \"dog\",\n",
    "                \"Hello\", \"world\", \"Python\", \"programming\", \"is\", \"fun\", \"GPT\",\n",
    "                \"natural\", \"language\", \"processing\", \"models\", \"work\", \"well\"]\n",
    "        length = random.randint(5, 20)\n",
    "        text = \" \".join(random.choices(words, k=length)) + \".\"\n",
    "        sample_texts.append(text)\n",
    "\n",
    "    # Train the tokenizer on the sample texts\n",
    "    print(f\"Training tokenizer on {len(sample_texts)} texts...\")\n",
    "    raw_tokenizer = train_tokenizer_from_texts(\n",
    "        tokenizer,\n",
    "        sample_texts,\n",
    "        vocab_size=1000,  # Smaller vocab for demo\n",
    "        min_frequency=1,\n",
    "        batch_size=20,\n",
    "        output_dir=\"tokenizer_demo\"\n",
    "    )\n",
    "\n",
    "    # Convert to transformers tokenizer\n",
    "    print(\"\\nConverting to transformers tokenizer...\")\n",
    "    transformers_tokenizer = convert_to_transformers_tokenizer(\n",
    "        \"tokenizer_demo/gpt2_tokenizer.json\",\n",
    "        output_dir=\"transformers_tokenizer_demo\",\n",
    "        model_max_length=512\n",
    "    )\n",
    "\n",
    "    # Test the transformers tokenizer\n",
    "    print(\"\\nTesting transformers tokenizer...\")\n",
    "    test_texts = [\n",
    "        \"This is a short text.\",\n",
    "        \"This is a slightly longer text with more content.\",\n",
    "        \"Let's see how padding works on texts of different lengths.\"\n",
    "    ]\n",
    "\n",
    "    # Encode with transformers tokenizer (return PyTorch tensors)\n",
    "    print(\"\\nEncoding with PyTorch tensors:\")\n",
    "    encodings = use_transformers_tokenizer(\n",
    "        transformers_tokenizer,\n",
    "        test_texts,\n",
    "        padding=True,\n",
    "        return_tensors=\"pt\"\n",
    "    )\n",
    "\n",
    "    # Show that it can be saved and loaded\n",
    "    print(\"\\nLoading saved transformers tokenizer:\")\n",
    "    loaded_tokenizer = load_transformers_tokenizer(\"transformers_tokenizer_demo\")\n",
    "    test_encode = loaded_tokenizer(\n",
    "        \"Testing that loading works correctly.\",\n",
    "        return_tensors=\"pt\"\n",
    "    )\n",
    "    print(f\"Encoded IDs: {test_encode['input_ids'].tolist()[0]}\")\n",
    "    print(f\"Decoded: {loaded_tokenizer.decode(test_encode['input_ids'][0])}\")\n",
    "\n",
    "    return transformers_tokenizer"
   ]
  },
  {
   "cell_type": "code",
   "execution_count": 29,
   "metadata": {},
   "outputs": [
    {
     "name": "stdout",
     "output_type": "stream",
     "text": [
      "Creating tokenizer...\n",
      "Generating sample texts...\n",
      "Training tokenizer on 55 texts...\n",
      "Preparing 3 batches for training...\n"
     ]
    },
    {
     "name": "stderr",
     "output_type": "stream",
     "text": [
      "100%|████████████████████████████████████████████████████████████████████████████████████| 3/3 [00:00<00:00, 261.29it/s]"
     ]
    },
    {
     "name": "stdout",
     "output_type": "stream",
     "text": [
      "Training tokenizer...\n",
      "\n",
      "\n",
      "\n",
      "Tokenizer trained and saved to tokenizer_demo/gpt2_tokenizer.json\n",
      "\n",
      "Converting to transformers tokenizer...\n",
      "Transformers tokenizer saved to transformers_tokenizer_demo\n",
      "\n",
      "Testing transformers tokenizer...\n",
      "\n",
      "Encoding with PyTorch tensors:\n",
      "\n",
      "Loading saved transformers tokenizer:\n"
     ]
    },
    {
     "name": "stderr",
     "output_type": "stream",
     "text": [
      "\n",
      "The tokenizer class you load from this checkpoint is not the same type as the class this function is called from. It may result in unexpected tokenization. \n",
      "The tokenizer class you load from this checkpoint is 'PreTrainedTokenizer'. \n",
      "The class this function is called from is 'GPT2TokenizerFast'.\n"
     ]
    },
    {
     "name": "stdout",
     "output_type": "stream",
     "text": [
      "Encoded IDs: [26, 133, 47, 76, 286, 56, 39, 42, 28, 31, 76, 102, 46, 162, 62, 179, 215, 39, 52, 7]\n",
      "Decoded: Testing that loading works correctly.\n"
     ]
    },
    {
     "data": {
      "text/plain": [
       "PreTrainedTokenizerFast(name_or_path='', vocab_size=337, model_max_length=512, is_fast=True, padding_side='right', truncation_side='right', special_tokens={'bos_token': '<|endoftext|>', 'eos_token': '<|endoftext|>', 'unk_token': '<|endoftext|>', 'pad_token': '<|pad|>'}, clean_up_tokenization_spaces=False, added_tokens_decoder={\n",
       "\t0: AddedToken(\"<|endoftext|>\", rstrip=False, lstrip=False, single_word=False, normalized=False, special=True),\n",
       "\t1: AddedToken(\"<|pad|>\", rstrip=False, lstrip=False, single_word=False, normalized=False, special=True),\n",
       "}\n",
       ")"
      ]
     },
     "execution_count": 29,
     "metadata": {},
     "output_type": "execute_result"
    }
   ],
   "source": [
    "# Check if this even works...\n",
    "demonstrate_workflow2()"
   ]
  },
  {
   "cell_type": "markdown",
   "metadata": {},
   "source": [
    "## Create and train the tokenizer"
   ]
  },
  {
   "cell_type": "code",
   "execution_count": 22,
   "metadata": {},
   "outputs": [
    {
     "name": "stdout",
     "output_type": "stream",
     "text": [
      "Preparing 2025 batches for training...\n"
     ]
    },
    {
     "name": "stderr",
     "output_type": "stream",
     "text": [
      "100%|██████████| 2025/2025 [00:03<00:00, 551.34it/s]\n"
     ]
    },
    {
     "name": "stdout",
     "output_type": "stream",
     "text": [
      "Training tokenizer...\n",
      "Tokenizer trained and saved to ../models/themed_data/gpt2_tokenizer.json\n"
     ]
    }
   ],
   "source": [
    "# Train a tokenizer if you don't have one yet\n",
    "trained_tokenizer = create_gpt2_tokenizer(vocab_size=8192, min_frequency=2)\n",
    "\n",
    "# This saves the tokenizer out to memory as well\n",
    "trained_tokenizer = train_tokenizer_from_texts(tokenizer=trained_tokenizer, texts=data['train']['sentence'], batch_size=512, output_dir=models_dir)\n"
   ]
  },
  {
   "cell_type": "code",
   "execution_count": 68,
   "metadata": {},
   "outputs": [
    {
     "data": {
      "text/plain": [
       "'../models/themed_data'"
      ]
     },
     "execution_count": 68,
     "metadata": {},
     "output_type": "execute_result"
    }
   ],
   "source": [
    "models_dir"
   ]
  },
  {
   "cell_type": "code",
   "execution_count": null,
   "metadata": {},
   "outputs": [
    {
     "ename": "Exception",
     "evalue": "The system cannot find the path specified. (os error 3)",
     "output_type": "error",
     "traceback": [
      "\u001b[1;31m---------------------------------------------------------------------------\u001b[0m",
      "\u001b[1;31mException\u001b[0m                                 Traceback (most recent call last)",
      "Cell \u001b[1;32mIn[67], line 3\u001b[0m\n\u001b[0;32m      1\u001b[0m \u001b[38;5;66;03m# This pulls the trained_tokenizer and makes it compatable with the transformers library for training\u001b[39;00m\n\u001b[0;32m      2\u001b[0m \u001b[38;5;66;03m# Needs to be a PreTrainedTokenizerFast object\u001b[39;00m\n\u001b[1;32m----> 3\u001b[0m tokenizer_fast \u001b[38;5;241m=\u001b[39m \u001b[43mconvert_to_transformers_tokenizer\u001b[49m\u001b[43m(\u001b[49m\u001b[43mtokenizer_path\u001b[49m\u001b[38;5;241;43m=\u001b[39;49m\u001b[38;5;124;43mf\u001b[39;49m\u001b[38;5;124;43m\"\u001b[39;49m\u001b[38;5;132;43;01m{\u001b[39;49;00m\u001b[43mmodels_dir\u001b[49m\u001b[38;5;132;43;01m}\u001b[39;49;00m\u001b[38;5;124;43m/tokenizer_endoftext_testing/gpt2_tokenizer.json\u001b[39;49m\u001b[38;5;124;43m\"\u001b[39;49m\u001b[43m,\u001b[49m\n\u001b[0;32m      4\u001b[0m \u001b[43m                                                   \u001b[49m\u001b[43moutput_dir\u001b[49m\u001b[38;5;241;43m=\u001b[39;49m\u001b[43mmodels_dir\u001b[49m\u001b[43m,\u001b[49m\u001b[43m \u001b[49m\u001b[43mmodel_max_length\u001b[49m\u001b[38;5;241;43m=\u001b[39;49m\u001b[38;5;241;43m256\u001b[39;49m\u001b[43m)\u001b[49m\n\u001b[0;32m      6\u001b[0m \u001b[38;5;66;03m# Check the tokenizer\u001b[39;00m\n\u001b[0;32m      7\u001b[0m tokenizer_fast\n",
      "Cell \u001b[1;32mIn[21], line 129\u001b[0m, in \u001b[0;36mconvert_to_transformers_tokenizer\u001b[1;34m(tokenizer_path, output_dir, model_max_length)\u001b[0m\n\u001b[0;32m    126\u001b[0m     raw_tokenizer \u001b[38;5;241m=\u001b[39m tokenizer_path\n\u001b[0;32m    127\u001b[0m \u001b[38;5;28;01melse\u001b[39;00m:\n\u001b[0;32m    128\u001b[0m     \u001b[38;5;66;03m# Load from file\u001b[39;00m\n\u001b[1;32m--> 129\u001b[0m     raw_tokenizer \u001b[38;5;241m=\u001b[39m \u001b[43mTokenizer\u001b[49m\u001b[38;5;241;43m.\u001b[39;49m\u001b[43mfrom_file\u001b[49m\u001b[43m(\u001b[49m\u001b[43mtokenizer_path\u001b[49m\u001b[43m)\u001b[49m\n\u001b[0;32m    131\u001b[0m \u001b[38;5;66;03m# Define special tokens\u001b[39;00m\n\u001b[0;32m    132\u001b[0m eos_token \u001b[38;5;241m=\u001b[39m \u001b[38;5;124m\"\u001b[39m\u001b[38;5;124m<|endoftext|>\u001b[39m\u001b[38;5;124m\"\u001b[39m  \u001b[38;5;66;03m# GPT-2 uses EOS as both BOS and EOS\u001b[39;00m\n",
      "\u001b[1;31mException\u001b[0m: The system cannot find the path specified. (os error 3)"
     ]
    }
   ],
   "source": [
    "# This pulls the trained_tokenizer and makes it compatable with the transformers library for training\n",
    "# Needs to be a PreTrainedTokenizerFast object\n",
    "tokenizer_fast = convert_to_transformers_tokenizer(tokenizer_path=f\"{models_dir}/gpt2_tokenizer.json\",\n",
    "                                                   output_dir=models_dir, model_max_length=256)\n",
    "\n",
    "# Check the tokenizer\n",
    "tokenizer_fast"
   ]
  },
  {
   "cell_type": "code",
   "execution_count": 24,
   "metadata": {},
   "outputs": [
    {
     "name": "stdout",
     "output_type": "stream",
     "text": [
      "Input text: <|endoftext|> <THEMES> N Identity , Creature Based , Artifact , N Color , {3} Cost <CARD_NAME> <name> <MANA_COST>\n",
      "Token IDs: [0, 90, 139, 21, 251, 135, 89, 118, 180, 89, 237, 89, 251, 132, 89, 93, 12, 78, 130, 90, 144, 49, 145, 21, 90, 123, 21, 90, 148, 49, 150, 21]\n",
      "Tokens: ['<|endoftext|>', 'Ġ<', 'THEMES', '>', 'ĠN', 'ĠIdentity', 'Ġ,', 'ĠCreature', 'ĠBased', 'Ġ,', 'ĠArtifact', 'Ġ,', 'ĠN', 'ĠColor', 'Ġ,', 'Ġ{', '3', '}', 'ĠCost', 'Ġ<', 'CARD', '_', 'NAME', '>', 'Ġ<', 'name', '>', 'Ġ<', 'MANA', '_', 'COST', '>']\n",
      "Attention mask: [1, 1, 1, 1, 1, 1, 1, 1, 1, 1, 1, 1, 1, 1, 1, 1, 1, 1, 1, 1, 1, 1, 1, 1, 1, 1, 1, 1, 1, 1, 1, 1]\n",
      "Decoded text:  <THEMES> N Identity , Creature Based , Artifact , N Color , {3} Cost <CARD_NAME> <name> <MANA_COST>\n"
     ]
    },
    {
     "data": {
      "text/plain": [
       "{'input_ids': tensor([[  0,  90, 139,  21, 251, 135,  89, 118, 180,  89, 237,  89, 251, 132,\n",
       "          89,  93,  12,  78, 130,  90, 144,  49, 145,  21,  90, 123,  21,  90,\n",
       "         148,  49, 150,  21]]), 'token_type_ids': tensor([[0, 0, 0, 0, 0, 0, 0, 0, 0, 0, 0, 0, 0, 0, 0, 0, 0, 0, 0, 0, 0, 0, 0, 0,\n",
       "         0, 0, 0, 0, 0, 0, 0, 0]]), 'attention_mask': tensor([[1, 1, 1, 1, 1, 1, 1, 1, 1, 1, 1, 1, 1, 1, 1, 1, 1, 1, 1, 1, 1, 1, 1, 1,\n",
       "         1, 1, 1, 1, 1, 1, 1, 1]])}"
      ]
     },
     "execution_count": 24,
     "metadata": {},
     "output_type": "execute_result"
    }
   ],
   "source": [
    "# Check to make sure the fast tokenizer is working\n",
    "encodings = use_transformers_tokenizer(tokenizer_fast, data['validation']['sentence'][1], padding=True, max_length=1024, return_tensors='pt')\n",
    "encodings"
   ]
  },
  {
   "cell_type": "markdown",
   "metadata": {},
   "source": [
    "# Tokenize all of the data"
   ]
  },
  {
   "cell_type": "markdown",
   "metadata": {},
   "source": [
    "## Functions"
   ]
  },
  {
   "cell_type": "code",
   "execution_count": 25,
   "metadata": {},
   "outputs": [],
   "source": [
    "def tokenize_dataset_dict(dataset_dict, tokenizer, max_length=None, batch_size=1000):\n",
    "    \"\"\"\n",
    "    Tokenize all sentence entries in a Hugging Face DatasetDict.\n",
    "\n",
    "    Args:\n",
    "        dataset_dict: A Hugging Face DatasetDict containing data with 'sentence' column\n",
    "        tokenizer: A transformers tokenizer\n",
    "        max_length: Maximum sequence length for tokenization (None = no limit)\n",
    "        batch_size: Batch size for processing\n",
    "\n",
    "    Returns:\n",
    "        A new DatasetDict with tokenized data\n",
    "    \"\"\"\n",
    "    from datasets import DatasetDict\n",
    "\n",
    "    # Function to tokenize a batch of examples\n",
    "    def tokenize_function(examples):\n",
    "        # For transformers tokenizers use the __call__ method\n",
    "        return tokenizer(\n",
    "            examples[\"sentence\"],\n",
    "            padding=\"max_length\" if max_length else False,\n",
    "            truncation=True if max_length else False,\n",
    "            max_length=max_length,\n",
    "            return_special_tokens_mask=True,\n",
    "        )\n",
    "\n",
    "    # Create a new DatasetDict to store the tokenized datasets\n",
    "    tokenized_datasets = DatasetDict()\n",
    "\n",
    "    # Process each split in the dataset\n",
    "    for split_name, dataset in dataset_dict.items():\n",
    "        # Map the tokenize function over the dataset in batches\n",
    "        tokenized_datasets[split_name] = dataset.map(\n",
    "            tokenize_function,\n",
    "            batched=True,\n",
    "            batch_size=batch_size,\n",
    "            # remove_columns=[\"sentence\"] if \"sentence\" in dataset.column_names else None, # Keep the sentences\n",
    "            desc=f\"Tokenizing {split_name} split\",\n",
    "        )\n",
    "\n",
    "        # Print the first example to verify\n",
    "        if len(tokenized_datasets[split_name]) > 0:\n",
    "            print(f\"\\nExample from {split_name} split:\")\n",
    "            example = tokenized_datasets[split_name][0]\n",
    "            print(f\"Input IDs (first 10): {example['input_ids'][:10]}...\")\n",
    "            print(f\"Attention Mask (first 10): {example['attention_mask'][:10]}...\")\n",
    "\n",
    "            # Decode a sample for verification\n",
    "            decoded = tokenizer.decode(example['input_ids'])\n",
    "            print(f\"Decoded sample preview: {decoded[:50]}...\")\n",
    "\n",
    "    return tokenized_datasets"
   ]
  },
  {
   "cell_type": "markdown",
   "metadata": {},
   "source": [
    "## Tokenize the Datasets\n",
    "\n",
    "Do we need to do this?  I think so... I can train when I do this so... yes?"
   ]
  },
  {
   "cell_type": "code",
   "execution_count": 26,
   "metadata": {},
   "outputs": [
    {
     "data": {
      "application/vnd.jupyter.widget-view+json": {
       "model_id": "d74285c9c49c4ceca2a7c1cea14c9666",
       "version_major": 2,
       "version_minor": 0
      },
      "text/plain": [
       "Tokenizing train split:   0%|          | 0/1036723 [00:00<?, ? examples/s]"
      ]
     },
     "metadata": {},
     "output_type": "display_data"
    },
    {
     "name": "stdout",
     "output_type": "stream",
     "text": [
      "\n",
      "Example from train split:\n",
      "Input IDs (first 10): [0, 90, 139, 21, 319, 89, 185, 132, 89, 93]...\n",
      "Attention Mask (first 10): [1, 1, 1, 1, 1, 1, 1, 1, 1, 1]...\n",
      "Decoded sample preview: <|endoftext|> <THEMES> Damage , R Color , {1} {R} ...\n"
     ]
    },
    {
     "data": {
      "application/vnd.jupyter.widget-view+json": {
       "model_id": "0bcb0d8a5fae474c9721af0f9ffb7adf",
       "version_major": 2,
       "version_minor": 0
      },
      "text/plain": [
       "Tokenizing validation split:   0%|          | 0/129590 [00:00<?, ? examples/s]"
      ]
     },
     "metadata": {},
     "output_type": "display_data"
    },
    {
     "name": "stdout",
     "output_type": "stream",
     "text": [
      "\n",
      "Example from validation split:\n",
      "Input IDs (first 10): [0, 90, 139, 21, 2613, 315, 89, 418, 89, 130]...\n",
      "Attention Mask (first 10): [1, 1, 1, 1, 1, 1, 1, 1, 1, 1]...\n",
      "Decoded sample preview: <|endoftext|> <THEMES> Storage Counters , Land , C...\n"
     ]
    },
    {
     "data": {
      "application/vnd.jupyter.widget-view+json": {
       "model_id": "32694b47670842c3936a79c1bdc51b72",
       "version_major": 2,
       "version_minor": 0
      },
      "text/plain": [
       "Tokenizing test split:   0%|          | 0/129591 [00:00<?, ? examples/s]"
      ]
     },
     "metadata": {},
     "output_type": "display_data"
    },
    {
     "name": "stdout",
     "output_type": "stream",
     "text": [
      "\n",
      "Example from test split:\n",
      "Input IDs (first 10): [0, 90, 139, 21, 548, 132, 89, 118, 89, 93]...\n",
      "Attention Mask (first 10): [1, 1, 1, 1, 1, 1, 1, 1, 1, 1]...\n",
      "Decoded sample preview: <|endoftext|> <THEMES> BR Color , Creature , {4} {...\n"
     ]
    },
    {
     "data": {
      "text/plain": [
       "DatasetDict({\n",
       "    train: Dataset({\n",
       "        features: ['sentence', 'input_ids', 'token_type_ids', 'attention_mask', 'special_tokens_mask'],\n",
       "        num_rows: 1036723\n",
       "    })\n",
       "    validation: Dataset({\n",
       "        features: ['sentence', 'input_ids', 'token_type_ids', 'attention_mask', 'special_tokens_mask'],\n",
       "        num_rows: 129590\n",
       "    })\n",
       "    test: Dataset({\n",
       "        features: ['sentence', 'input_ids', 'token_type_ids', 'attention_mask', 'special_tokens_mask'],\n",
       "        num_rows: 129591\n",
       "    })\n",
       "})"
      ]
     },
     "execution_count": 26,
     "metadata": {},
     "output_type": "execute_result"
    }
   ],
   "source": [
    "# Tokenize the DatasetDict\n",
    "# TODO: We can probably decrease the max_length here to 128 or 64 to save memory; We'll have to test it out\n",
    "# Or maybe we don't use a max length...?? TODO: Figure out how to handle this\n",
    "tokenize_dataset_dict = tokenize_dataset_dict(data, tokenizer_fast, max_length=256, batch_size=1000)\n",
    "tokenize_dataset_dict"
   ]
  },
  {
   "cell_type": "code",
   "execution_count": 27,
   "metadata": {},
   "outputs": [
    {
     "data": {
      "text/plain": [
       "'<|endoftext|> <THEMES> Storage Counters , Land , Cost , U Identity , N Color <CARD_NAME> <name> <MANA_COST> <TYPE_LINE> Land <ORACLE_TEXT> <name> enters tapped . \\\\n {T} : Put a storage counter on <name> . \\\\n {T} ,'"
      ]
     },
     "execution_count": 27,
     "metadata": {},
     "output_type": "execute_result"
    }
   ],
   "source": [
    "# Make sure 'sentnece' is still there\n",
    "tokenize_dataset_dict['validation']['sentence'][0]"
   ]
  },
  {
   "cell_type": "code",
   "execution_count": 28,
   "metadata": {},
   "outputs": [
    {
     "data": {
      "text/plain": [
       "[0,\n",
       " 90,\n",
       " 139,\n",
       " 21,\n",
       " 2613,\n",
       " 315,\n",
       " 89,\n",
       " 418,\n",
       " 89,\n",
       " 130,\n",
       " 89,\n",
       " 199,\n",
       " 135,\n",
       " 89,\n",
       " 251,\n",
       " 132,\n",
       " 90,\n",
       " 144,\n",
       " 49,\n",
       " 145,\n",
       " 21,\n",
       " 90,\n",
       " 123,\n",
       " 21,\n",
       " 90,\n",
       " 148,\n",
       " 49,\n",
       " 150,\n",
       " 21,\n",
       " 90,\n",
       " 157,\n",
       " 49,\n",
       " 155,\n",
       " 21,\n",
       " 418,\n",
       " 90,\n",
       " 169,\n",
       " 49,\n",
       " 170,\n",
       " 21,\n",
       " 90,\n",
       " 123,\n",
       " 21,\n",
       " 303,\n",
       " 656,\n",
       " 161,\n",
       " 187,\n",
       " 63,\n",
       " 93,\n",
       " 41,\n",
       " 78,\n",
       " 268,\n",
       " 572,\n",
       " 183,\n",
       " 2654,\n",
       " 409,\n",
       " 254,\n",
       " 90,\n",
       " 123,\n",
       " 21,\n",
       " 161,\n",
       " 187,\n",
       " 63,\n",
       " 93,\n",
       " 41,\n",
       " 78,\n",
       " 89,\n",
       " 1,\n",
       " 1,\n",
       " 1,\n",
       " 1,\n",
       " 1,\n",
       " 1,\n",
       " 1,\n",
       " 1,\n",
       " 1,\n",
       " 1,\n",
       " 1,\n",
       " 1,\n",
       " 1,\n",
       " 1,\n",
       " 1,\n",
       " 1,\n",
       " 1,\n",
       " 1,\n",
       " 1,\n",
       " 1,\n",
       " 1,\n",
       " 1,\n",
       " 1,\n",
       " 1,\n",
       " 1,\n",
       " 1,\n",
       " 1,\n",
       " 1,\n",
       " 1,\n",
       " 1,\n",
       " 1,\n",
       " 1,\n",
       " 1,\n",
       " 1,\n",
       " 1,\n",
       " 1,\n",
       " 1,\n",
       " 1,\n",
       " 1,\n",
       " 1,\n",
       " 1,\n",
       " 1,\n",
       " 1,\n",
       " 1,\n",
       " 1,\n",
       " 1,\n",
       " 1,\n",
       " 1,\n",
       " 1,\n",
       " 1,\n",
       " 1,\n",
       " 1,\n",
       " 1,\n",
       " 1,\n",
       " 1,\n",
       " 1,\n",
       " 1,\n",
       " 1,\n",
       " 1,\n",
       " 1,\n",
       " 1,\n",
       " 1,\n",
       " 1,\n",
       " 1,\n",
       " 1,\n",
       " 1,\n",
       " 1,\n",
       " 1,\n",
       " 1,\n",
       " 1,\n",
       " 1,\n",
       " 1,\n",
       " 1,\n",
       " 1,\n",
       " 1,\n",
       " 1,\n",
       " 1,\n",
       " 1,\n",
       " 1,\n",
       " 1,\n",
       " 1,\n",
       " 1,\n",
       " 1,\n",
       " 1,\n",
       " 1,\n",
       " 1,\n",
       " 1,\n",
       " 1,\n",
       " 1,\n",
       " 1,\n",
       " 1,\n",
       " 1,\n",
       " 1,\n",
       " 1,\n",
       " 1,\n",
       " 1,\n",
       " 1,\n",
       " 1,\n",
       " 1,\n",
       " 1,\n",
       " 1,\n",
       " 1,\n",
       " 1,\n",
       " 1,\n",
       " 1,\n",
       " 1,\n",
       " 1,\n",
       " 1,\n",
       " 1,\n",
       " 1,\n",
       " 1,\n",
       " 1,\n",
       " 1,\n",
       " 1,\n",
       " 1,\n",
       " 1,\n",
       " 1,\n",
       " 1,\n",
       " 1,\n",
       " 1,\n",
       " 1,\n",
       " 1,\n",
       " 1,\n",
       " 1,\n",
       " 1,\n",
       " 1,\n",
       " 1,\n",
       " 1,\n",
       " 1,\n",
       " 1,\n",
       " 1,\n",
       " 1,\n",
       " 1,\n",
       " 1,\n",
       " 1,\n",
       " 1,\n",
       " 1,\n",
       " 1,\n",
       " 1,\n",
       " 1,\n",
       " 1,\n",
       " 1,\n",
       " 1,\n",
       " 1,\n",
       " 1,\n",
       " 1,\n",
       " 1,\n",
       " 1,\n",
       " 1,\n",
       " 1,\n",
       " 1,\n",
       " 1,\n",
       " 1,\n",
       " 1,\n",
       " 1,\n",
       " 1,\n",
       " 1,\n",
       " 1,\n",
       " 1,\n",
       " 1,\n",
       " 1,\n",
       " 1,\n",
       " 1,\n",
       " 1,\n",
       " 1,\n",
       " 1,\n",
       " 1,\n",
       " 1,\n",
       " 1,\n",
       " 1,\n",
       " 1,\n",
       " 1,\n",
       " 1,\n",
       " 1,\n",
       " 1,\n",
       " 1,\n",
       " 1,\n",
       " 1,\n",
       " 1,\n",
       " 1,\n",
       " 1,\n",
       " 1,\n",
       " 1,\n",
       " 1,\n",
       " 1,\n",
       " 1,\n",
       " 1,\n",
       " 1,\n",
       " 1]"
      ]
     },
     "execution_count": 28,
     "metadata": {},
     "output_type": "execute_result"
    }
   ],
   "source": [
    "tokenize_dataset_dict['validation']['input_ids'][0]"
   ]
  },
  {
   "cell_type": "code",
   "execution_count": 29,
   "metadata": {},
   "outputs": [],
   "source": [
    "# A short function to easily convert from ids_to_tokens\n",
    "# It effectivly just wraps the decode function\n",
    "def ids_to_tokens(tokenizer, ids):\n",
    "    '''\n",
    "    Convert token IDs back to tokens using the tokenizer\n",
    "    Really just a mapping function for tokenizer.decode()\n",
    "    '''\n",
    "    tokens = tokenizer.decode(ids)\n",
    "\n",
    "    return tokens"
   ]
  },
  {
   "cell_type": "code",
   "execution_count": 30,
   "metadata": {},
   "outputs": [
    {
     "data": {
      "text/plain": [
       "' <THEMES> Storage Counters , Land , Cost , U Identity , N Color <CARD_NAME> <name> <MANA_COST> <TYPE_LINE> Land <ORACLE_TEXT> <name> enters tapped . \\\\n {T} : Put a storage counter on <name> . \\\\n {T} ,'"
      ]
     },
     "execution_count": 30,
     "metadata": {},
     "output_type": "execute_result"
    }
   ],
   "source": [
    "trained_tokenizer.decode(tokenize_dataset_dict['validation']['input_ids'][0])"
   ]
  },
  {
   "cell_type": "code",
   "execution_count": 31,
   "metadata": {},
   "outputs": [
    {
     "data": {
      "text/plain": [
       "' <THEMES> Storage Counters , Land , Cost , U Identity , N Color <CARD_NAME> <name> <MANA_COST> <TYPE_LINE> Land <ORACLE_TEXT> <name> enters tapped . \\\\n {T} : Put a storage counter on <name> . \\\\n {T} ,'"
      ]
     },
     "execution_count": 31,
     "metadata": {},
     "output_type": "execute_result"
    }
   ],
   "source": [
    "ids_to_tokens(trained_tokenizer, tokenize_dataset_dict['validation']['input_ids'][0])"
   ]
  },
  {
   "cell_type": "code",
   "execution_count": 32,
   "metadata": {},
   "outputs": [
    {
     "data": {
      "text/plain": [
       "[1,\n",
       " 1,\n",
       " 1,\n",
       " 1,\n",
       " 1,\n",
       " 1,\n",
       " 1,\n",
       " 1,\n",
       " 1,\n",
       " 1,\n",
       " 1,\n",
       " 1,\n",
       " 1,\n",
       " 1,\n",
       " 1,\n",
       " 1,\n",
       " 1,\n",
       " 1,\n",
       " 1,\n",
       " 1,\n",
       " 1,\n",
       " 1,\n",
       " 1,\n",
       " 1,\n",
       " 1,\n",
       " 1,\n",
       " 1,\n",
       " 1,\n",
       " 1,\n",
       " 1,\n",
       " 1,\n",
       " 1,\n",
       " 1,\n",
       " 1,\n",
       " 1,\n",
       " 1,\n",
       " 1,\n",
       " 1,\n",
       " 1,\n",
       " 1,\n",
       " 1,\n",
       " 1,\n",
       " 1,\n",
       " 1,\n",
       " 1,\n",
       " 1,\n",
       " 1,\n",
       " 1,\n",
       " 1,\n",
       " 1,\n",
       " 1,\n",
       " 1,\n",
       " 1,\n",
       " 1,\n",
       " 1,\n",
       " 1,\n",
       " 1,\n",
       " 1,\n",
       " 1,\n",
       " 1,\n",
       " 1,\n",
       " 1,\n",
       " 1,\n",
       " 1,\n",
       " 1,\n",
       " 1,\n",
       " 1,\n",
       " 0,\n",
       " 0,\n",
       " 0,\n",
       " 0,\n",
       " 0,\n",
       " 0,\n",
       " 0,\n",
       " 0,\n",
       " 0,\n",
       " 0,\n",
       " 0,\n",
       " 0,\n",
       " 0,\n",
       " 0,\n",
       " 0,\n",
       " 0,\n",
       " 0,\n",
       " 0,\n",
       " 0,\n",
       " 0,\n",
       " 0,\n",
       " 0,\n",
       " 0,\n",
       " 0,\n",
       " 0,\n",
       " 0,\n",
       " 0,\n",
       " 0,\n",
       " 0,\n",
       " 0,\n",
       " 0,\n",
       " 0,\n",
       " 0,\n",
       " 0,\n",
       " 0,\n",
       " 0,\n",
       " 0,\n",
       " 0,\n",
       " 0,\n",
       " 0,\n",
       " 0,\n",
       " 0,\n",
       " 0,\n",
       " 0,\n",
       " 0,\n",
       " 0,\n",
       " 0,\n",
       " 0,\n",
       " 0,\n",
       " 0,\n",
       " 0,\n",
       " 0,\n",
       " 0,\n",
       " 0,\n",
       " 0,\n",
       " 0,\n",
       " 0,\n",
       " 0,\n",
       " 0,\n",
       " 0,\n",
       " 0,\n",
       " 0,\n",
       " 0,\n",
       " 0,\n",
       " 0,\n",
       " 0,\n",
       " 0,\n",
       " 0,\n",
       " 0,\n",
       " 0,\n",
       " 0,\n",
       " 0,\n",
       " 0,\n",
       " 0,\n",
       " 0,\n",
       " 0,\n",
       " 0,\n",
       " 0,\n",
       " 0,\n",
       " 0,\n",
       " 0,\n",
       " 0,\n",
       " 0,\n",
       " 0,\n",
       " 0,\n",
       " 0,\n",
       " 0,\n",
       " 0,\n",
       " 0,\n",
       " 0,\n",
       " 0,\n",
       " 0,\n",
       " 0,\n",
       " 0,\n",
       " 0,\n",
       " 0,\n",
       " 0,\n",
       " 0,\n",
       " 0,\n",
       " 0,\n",
       " 0,\n",
       " 0,\n",
       " 0,\n",
       " 0,\n",
       " 0,\n",
       " 0,\n",
       " 0,\n",
       " 0,\n",
       " 0,\n",
       " 0,\n",
       " 0,\n",
       " 0,\n",
       " 0,\n",
       " 0,\n",
       " 0,\n",
       " 0,\n",
       " 0,\n",
       " 0,\n",
       " 0,\n",
       " 0,\n",
       " 0,\n",
       " 0,\n",
       " 0,\n",
       " 0,\n",
       " 0,\n",
       " 0,\n",
       " 0,\n",
       " 0,\n",
       " 0,\n",
       " 0,\n",
       " 0,\n",
       " 0,\n",
       " 0,\n",
       " 0,\n",
       " 0,\n",
       " 0,\n",
       " 0,\n",
       " 0,\n",
       " 0,\n",
       " 0,\n",
       " 0,\n",
       " 0,\n",
       " 0,\n",
       " 0,\n",
       " 0,\n",
       " 0,\n",
       " 0,\n",
       " 0,\n",
       " 0,\n",
       " 0,\n",
       " 0,\n",
       " 0,\n",
       " 0,\n",
       " 0,\n",
       " 0,\n",
       " 0,\n",
       " 0,\n",
       " 0,\n",
       " 0,\n",
       " 0,\n",
       " 0,\n",
       " 0,\n",
       " 0,\n",
       " 0,\n",
       " 0,\n",
       " 0,\n",
       " 0,\n",
       " 0,\n",
       " 0,\n",
       " 0,\n",
       " 0,\n",
       " 0,\n",
       " 0,\n",
       " 0,\n",
       " 0,\n",
       " 0,\n",
       " 0,\n",
       " 0,\n",
       " 0,\n",
       " 0,\n",
       " 0,\n",
       " 0,\n",
       " 0,\n",
       " 0,\n",
       " 0,\n",
       " 0,\n",
       " 0,\n",
       " 0,\n",
       " 0]"
      ]
     },
     "execution_count": 32,
     "metadata": {},
     "output_type": "execute_result"
    }
   ],
   "source": [
    "tokenize_dataset_dict['validation']['attention_mask'][0]"
   ]
  },
  {
   "cell_type": "code",
   "execution_count": 40,
   "metadata": {},
   "outputs": [],
   "source": [
    "del data"
   ]
  },
  {
   "cell_type": "markdown",
   "metadata": {},
   "source": [
    "## Set formating to torch of the DatasetDict"
   ]
  },
  {
   "cell_type": "code",
   "execution_count": 33,
   "metadata": {},
   "outputs": [],
   "source": [
    "# Make sure the tokenized dataset is in the correct format for PyTorch\n",
    "\n",
    "# old\n",
    "# tokenize_dataset_dict.set_format(type='torch', columns=['sentence', 'input_ids', 'token_type_ids', 'attention_mask', 'special_tokens_mask'])\n",
    "\n",
    "# New\n",
    "tokenize_dataset_dict.set_format(type='torch', columns=['sentence', 'input_ids', 'token_type_ids', 'attention_mask', 'special_tokens_mask'])"
   ]
  },
  {
   "cell_type": "markdown",
   "metadata": {},
   "source": [
    "### Check shapes"
   ]
  },
  {
   "cell_type": "code",
   "execution_count": 34,
   "metadata": {},
   "outputs": [
    {
     "name": "stdout",
     "output_type": "stream",
     "text": [
      "torch.Size([256])\n",
      "torch.Size([256])\n",
      "torch.Size([256])\n",
      "torch.Size([256])\n",
      "torch.Size([256])\n",
      "torch.Size([256])\n",
      "torch.Size([256])\n",
      "torch.Size([256])\n",
      "torch.Size([256])\n",
      "torch.Size([256])\n",
      "torch.Size([256])\n"
     ]
    }
   ],
   "source": [
    "# Note that these have been padded out to the max_length\n",
    "\n",
    "for i in range(0, 11):\n",
    "    print(tokenize_dataset_dict['train'][i]['input_ids'].shape)"
   ]
  },
  {
   "cell_type": "code",
   "execution_count": 35,
   "metadata": {},
   "outputs": [
    {
     "name": "stdout",
     "output_type": "stream",
     "text": [
      "torch.Size([256])\n",
      "torch.Size([256])\n",
      "torch.Size([256])\n",
      "torch.Size([256])\n",
      "torch.Size([256])\n",
      "torch.Size([256])\n",
      "torch.Size([256])\n",
      "torch.Size([256])\n",
      "torch.Size([256])\n",
      "torch.Size([256])\n",
      "torch.Size([256])\n"
     ]
    }
   ],
   "source": [
    "for i in range(0, 11):\n",
    "    print(tokenize_dataset_dict['train'][i]['attention_mask'].shape)"
   ]
  },
  {
   "cell_type": "code",
   "execution_count": 36,
   "metadata": {},
   "outputs": [
    {
     "name": "stdout",
     "output_type": "stream",
     "text": [
      "<|endoftext|> <THEMES> Damage , R Color , {1} {R} Cost , Creature Based , Sorcery , R Identity <CARD_NAME> <name> <MANA_COST> {1} {R} <TYPE_LINE> Sorcery <ORACLE_TEXT> <name> deals 1 damage\n",
      "<|endoftext|> <THEMES> BR Color , Time , Creature , Copy Tokens , Lord , Artifact Based , BR Identity , Creature Based , Legendary , {2} {B} {R} Cost , Tokens , Dies , Rogue <CARD_NAME> <name> <MANA_COST> {2} {B} {R} <TYPE_LINE> Legendary Creature —\n",
      "<|endoftext|> <THEMES> Uncounterable , {4} {G} {G} {G} Cost , Creature , Haste , G Identity , Trample , Toxic , G Color , Dinosaur , Ward , Phyrexian <CARD_NAME> <name> <MANA_COST> {4} {G} {G} {G} <TYPE_LINE> Creature — Phyrexian Dinosaur <ORACLE_TEXT> This spell can't be countered . \\n Trample , ward {4} ,\n",
      "<|endoftext|> <THEMES> BR Color , Enchantment , Sacrifice , BR Identity , {1} {B} {R} Cost , Creature Based <CARD_NAME> <name> <MANA_COST> {1} {B} {R} <TYPE_LINE> Enchantment\n",
      "<|endoftext|> <THEMES> Lifelink , Creature , Human , W Color , Creature Based , Wizard , {1} {W} Cost , W Identity <CARD_NAME> <name> <MANA_COST> {1} {W} <TYPE_LINE> Creature — Human Wizard <ORACLE_TEXT> {1} {W} : Target creature you control gains lifelink until end of turn . ( Damage dealt by the creature also causes its controller to gain that much life . )\n",
      "<|endoftext|> <THEMES> Creature , {1} {G} Cost , G Identity , G Color , Regenerate , Echo , Troll <CARD_NAME> <name> <MANA_COST> {1} {G} <TYPE_LINE> Creature — Troll <ORACLE_TEXT> Echo {1} {G} ( At the beginning of\n",
      "<|endoftext|> <THEMES> W Identity , Artifact Based , Flying , {2} Cost , Creature Based , Artifact , N Color <CARD_NAME> <name> <MANA_COST> {2} <TYPE_LINE> Artifact <ORACLE_TEXT> Whenever another artifact you control enters , you may have <name> become a 2 2 Bird artifact creature with flying until end of turn . \\n {W} : <name> becomes\n",
      "<|endoftext|> <THEMES> Noble , Creature , R Color , Dragon , R Identity , Tokens , Treasure Tokens , Dies , {2} {R} Cost <CARD_NAME> <name> <MANA_COST> {2} {R} <TYPE_LINE> Creature — Dragon Noble <ORACLE_TEXT> When <name> enters or dies , create a Treasure token . ( It's an artifact with {T} , Sacrifice this artifact : Add one mana\n",
      "<|endoftext|> <THEMES> N Identity , Phyrexian Germ Tokens , Flying , Creature Based , Artifact , {4} Cost , Equipment , Living Weapon , N Color <CARD_NAME> <name> <MANA_COST> {4} <TYPE_LINE> Artifact — Equipment <ORACLE_TEXT> Living weapon ( When this Equipment enters , create a 0 0 black Phyrexian Germ creature token , then attach this to it . ) \\n Equipped creature gets\n",
      "<|endoftext|> <THEMES> B Identity , Creature , Cycling , Nightmare , {6} {B} {B} Cost , Creature Based , B Color , Deathtouch , Horror , Deathtouch Counters <CARD_NAME> <name> <MANA_COST> {6} {B} {B} <TYPE_LINE> Creature — Nightmare Horror <ORACLE_TEXT> Deathtouch \\n Cycling {2} {B} ( {2} {B} , Discard this card : Draw a card . ) \\n When you cycle <name> , put a deathtouch counter on target creature you control . <POWER> 8 <TOUGHNESS> 8 <|endoftext|>\n",
      "<|endoftext|> <THEMES> 1 1 Counters , Creature , Haste , Elemental , Flying , U Identity , {4} {U} Cost , Creature Based , U Color , Dies <CARD_NAME> <name> <MANA_COST> {4} {U} <TYPE_LINE> Creature — Elemental <ORACLE_TEXT> Flying \\n When <name>\n"
     ]
    }
   ],
   "source": [
    "for i in range(0, 11):\n",
    "    print(tokenize_dataset_dict['train'][i]['sentence'])"
   ]
  },
  {
   "cell_type": "markdown",
   "metadata": {},
   "source": [
    "# Build the Decoder"
   ]
  },
  {
   "cell_type": "markdown",
   "metadata": {},
   "source": [
    "## A Short Rebuild of the above but with Hugging Face API\n",
    "\n",
    "We might be able to leverage accelerated training by using HF so this could be worth to have.  It also uses a PyTorch backend which I know works on Brandon's system... TensorFlow has been giving me problems in my environment lately."
   ]
  },
  {
   "cell_type": "code",
   "execution_count": 37,
   "metadata": {},
   "outputs": [],
   "source": [
    "# Grab the decoder-only setup\n",
    "from transformers import GPT2Config, GPT2LMHeadModel"
   ]
  },
  {
   "cell_type": "code",
   "execution_count": 38,
   "metadata": {},
   "outputs": [
    {
     "data": {
      "text/plain": [
       "GPT2LMHeadModel(\n",
       "  (transformer): GPT2Model(\n",
       "    (wte): Embedding(8912, 512)\n",
       "    (wpe): Embedding(500, 512)\n",
       "    (drop): Dropout(p=0.5, inplace=False)\n",
       "    (h): ModuleList(\n",
       "      (0-3): 4 x GPT2Block(\n",
       "        (ln_1): LayerNorm((512,), eps=1e-05, elementwise_affine=True)\n",
       "        (attn): GPT2Attention(\n",
       "          (c_attn): Conv1D(nf=1536, nx=512)\n",
       "          (c_proj): Conv1D(nf=512, nx=512)\n",
       "          (attn_dropout): Dropout(p=0.5, inplace=False)\n",
       "          (resid_dropout): Dropout(p=0.5, inplace=False)\n",
       "        )\n",
       "        (ln_2): LayerNorm((512,), eps=1e-05, elementwise_affine=True)\n",
       "        (mlp): GPT2MLP(\n",
       "          (c_fc): Conv1D(nf=2048, nx=512)\n",
       "          (c_proj): Conv1D(nf=512, nx=2048)\n",
       "          (act): NewGELUActivation()\n",
       "          (dropout): Dropout(p=0.5, inplace=False)\n",
       "        )\n",
       "      )\n",
       "    )\n",
       "    (ln_f): LayerNorm((512,), eps=1e-05, elementwise_affine=True)\n",
       "  )\n",
       "  (lm_head): Linear(in_features=512, out_features=8912, bias=False)\n",
       ")"
      ]
     },
     "execution_count": 38,
     "metadata": {},
     "output_type": "execute_result"
    }
   ],
   "source": [
    "# Make the model\n",
    "\n",
    "VOCAB_SIZE = 8912 # Define this based on training data vocab size / tokenize size.\n",
    "# TODO: Or does it need to relate to the tokenizer?\n",
    "SEQUENCE_LENGTH = 500 # Define this based on training data sequence length. aka. context window\n",
    "EMBEDDING_DIM = 512 # Configure\n",
    "FEED_FORWARD_DIM = 4 * EMBEDDING_DIM # Standard for decoder-only items.\n",
    "DROPOUT = 0.5 # Configure\n",
    "NUM_HEADS = 16 # Configure attention heads\n",
    "NUM_DECODER_LAYERS = 4 # Configure\n",
    "\n",
    "# Define the model configuration\n",
    "model_config = GPT2Config(\n",
    "    vocab_size=VOCAB_SIZE,\n",
    "    n_positions=SEQUENCE_LENGTH,\n",
    "    n_ctx=SEQUENCE_LENGTH,\n",
    "    n_embd=EMBEDDING_DIM,\n",
    "    n_layer=NUM_DECODER_LAYERS,\n",
    "    n_head=NUM_HEADS,\n",
    "    resid_pdrop=DROPOUT,\n",
    "    embd_pdrop=DROPOUT,\n",
    "    attn_pdrop=DROPOUT,\n",
    "    # layer_norm_epsilon=1e-5,\n",
    "    # initializer_range=0.02,\n",
    ")\n",
    "\n",
    "# Initialize the model\n",
    "gptmodel = GPT2LMHeadModel(model_config)\n",
    "# Output the model layers for inspection\n",
    "gptmodel"
   ]
  },
  {
   "cell_type": "code",
   "execution_count": 39,
   "metadata": {},
   "outputs": [
    {
     "name": "stdout",
     "output_type": "stream",
     "text": [
      "Number of trainable parameters: 17429504\n"
     ]
    }
   ],
   "source": [
    "# Check the number of trainable parameters.\n",
    "# How many trainable parameters exist in the gptmodel? (setting p.requires_grad to True for this)\n",
    "trainable_params = sum(p.numel() for p in gptmodel.parameters() if p.requires_grad)\n",
    "print(\"Number of trainable parameters:\", trainable_params)"
   ]
  },
  {
   "cell_type": "code",
   "execution_count": 40,
   "metadata": {},
   "outputs": [
    {
     "name": "stdout",
     "output_type": "stream",
     "text": [
      "transformer.wte.weight: 4562944 trainable parameters\n",
      "transformer.wpe.weight: 256000 trainable parameters\n",
      "transformer.h.0.ln_1.weight: 512 trainable parameters\n",
      "transformer.h.0.ln_1.bias: 512 trainable parameters\n",
      "transformer.h.0.attn.c_attn.weight: 786432 trainable parameters\n",
      "transformer.h.0.attn.c_attn.bias: 1536 trainable parameters\n",
      "transformer.h.0.attn.c_proj.weight: 262144 trainable parameters\n",
      "transformer.h.0.attn.c_proj.bias: 512 trainable parameters\n",
      "transformer.h.0.ln_2.weight: 512 trainable parameters\n",
      "transformer.h.0.ln_2.bias: 512 trainable parameters\n",
      "transformer.h.0.mlp.c_fc.weight: 1048576 trainable parameters\n",
      "transformer.h.0.mlp.c_fc.bias: 2048 trainable parameters\n",
      "transformer.h.0.mlp.c_proj.weight: 1048576 trainable parameters\n",
      "transformer.h.0.mlp.c_proj.bias: 512 trainable parameters\n",
      "transformer.h.1.ln_1.weight: 512 trainable parameters\n",
      "transformer.h.1.ln_1.bias: 512 trainable parameters\n",
      "transformer.h.1.attn.c_attn.weight: 786432 trainable parameters\n",
      "transformer.h.1.attn.c_attn.bias: 1536 trainable parameters\n",
      "transformer.h.1.attn.c_proj.weight: 262144 trainable parameters\n",
      "transformer.h.1.attn.c_proj.bias: 512 trainable parameters\n",
      "transformer.h.1.ln_2.weight: 512 trainable parameters\n",
      "transformer.h.1.ln_2.bias: 512 trainable parameters\n",
      "transformer.h.1.mlp.c_fc.weight: 1048576 trainable parameters\n",
      "transformer.h.1.mlp.c_fc.bias: 2048 trainable parameters\n",
      "transformer.h.1.mlp.c_proj.weight: 1048576 trainable parameters\n",
      "transformer.h.1.mlp.c_proj.bias: 512 trainable parameters\n",
      "transformer.h.2.ln_1.weight: 512 trainable parameters\n",
      "transformer.h.2.ln_1.bias: 512 trainable parameters\n",
      "transformer.h.2.attn.c_attn.weight: 786432 trainable parameters\n",
      "transformer.h.2.attn.c_attn.bias: 1536 trainable parameters\n",
      "transformer.h.2.attn.c_proj.weight: 262144 trainable parameters\n",
      "transformer.h.2.attn.c_proj.bias: 512 trainable parameters\n",
      "transformer.h.2.ln_2.weight: 512 trainable parameters\n",
      "transformer.h.2.ln_2.bias: 512 trainable parameters\n",
      "transformer.h.2.mlp.c_fc.weight: 1048576 trainable parameters\n",
      "transformer.h.2.mlp.c_fc.bias: 2048 trainable parameters\n",
      "transformer.h.2.mlp.c_proj.weight: 1048576 trainable parameters\n",
      "transformer.h.2.mlp.c_proj.bias: 512 trainable parameters\n",
      "transformer.h.3.ln_1.weight: 512 trainable parameters\n",
      "transformer.h.3.ln_1.bias: 512 trainable parameters\n",
      "transformer.h.3.attn.c_attn.weight: 786432 trainable parameters\n",
      "transformer.h.3.attn.c_attn.bias: 1536 trainable parameters\n",
      "transformer.h.3.attn.c_proj.weight: 262144 trainable parameters\n",
      "transformer.h.3.attn.c_proj.bias: 512 trainable parameters\n",
      "transformer.h.3.ln_2.weight: 512 trainable parameters\n",
      "transformer.h.3.ln_2.bias: 512 trainable parameters\n",
      "transformer.h.3.mlp.c_fc.weight: 1048576 trainable parameters\n",
      "transformer.h.3.mlp.c_fc.bias: 2048 trainable parameters\n",
      "transformer.h.3.mlp.c_proj.weight: 1048576 trainable parameters\n",
      "transformer.h.3.mlp.c_proj.bias: 512 trainable parameters\n",
      "transformer.ln_f.weight: 512 trainable parameters\n",
      "transformer.ln_f.bias: 512 trainable parameters\n"
     ]
    }
   ],
   "source": [
    "# Print each parameter's name and trainable count individually\n",
    "for name, param in gptmodel.named_parameters():\n",
    "    if param.requires_grad:\n",
    "        print(f\"{name}: {param.numel()} trainable parameters\")"
   ]
  },
  {
   "cell_type": "markdown",
   "metadata": {},
   "source": [
    "There is a difference in the reported number of trained parameters between Etienne's custom build and the Hugging Face model.\n",
    "\n",
    "I'm 90% certain it has to do with the positional eoncodings being done slightly different.  48M of his model parameters are from the PosEnc which doesn't show up the same way in the GPT-model.\n",
    "\n",
    "Both models are likely to generate similar results."
   ]
  },
  {
   "cell_type": "markdown",
   "metadata": {},
   "source": [
    "# Training the Model"
   ]
  },
  {
   "cell_type": "markdown",
   "metadata": {},
   "source": [
    "## Setup Training Arguments"
   ]
  },
  {
   "cell_type": "code",
   "execution_count": 42,
   "metadata": {},
   "outputs": [],
   "source": [
    "# Set up the Training Args\n",
    "training_args = TrainingArguments(\n",
    "    output_dir=\"./results\",\n",
    "    eval_strategy=\"epoch\",\n",
    "    per_device_train_batch_size=16,\n",
    "    per_device_eval_batch_size=16,\n",
    "    num_train_epochs=5,\n",
    "    weight_decay=0.01,\n",
    "    logging_dir='./logs',\n",
    "    # logging_steps=10, # This made my loss vs epoch plot too noisy...\n",
    "    logging_strategy='epoch',\n",
    "    save_strategy='epoch',\n",
    ")"
   ]
  },
  {
   "cell_type": "code",
   "execution_count": 43,
   "metadata": {},
   "outputs": [],
   "source": [
    "# Set up the Trainer\n",
    "\n",
    "#mlm is the masked language modeling\n",
    "\n",
    "data_collator = DataCollatorForLanguageModeling(tokenizer=tokenizer_fast, mlm=False, return_tensors='pt')\n",
    "\n",
    "trainer = Trainer(\n",
    "    model=gptmodel,\n",
    "    args=training_args,\n",
    "    train_dataset=tokenize_dataset_dict['train'],\n",
    "    eval_dataset=tokenize_dataset_dict['validation'],\n",
    "    processing_class=tokenizer_fast,\n",
    "    data_collator=data_collator\n",
    ")"
   ]
  },
  {
   "cell_type": "markdown",
   "metadata": {},
   "source": [
    "## CHOO CHOO!"
   ]
  },
  {
   "cell_type": "code",
   "execution_count": 44,
   "metadata": {},
   "outputs": [
    {
     "name": "stderr",
     "output_type": "stream",
     "text": [
      "`loss_type=None` was set in the config but it is unrecognised.Using the default loss: `ForCausalLMLoss`.\n"
     ]
    },
    {
     "data": {
      "text/html": [
       "\n",
       "    <div>\n",
       "      \n",
       "      <progress value='323980' max='323980' style='width:300px; height:20px; vertical-align: middle;'></progress>\n",
       "      [323980/323980 19:19:16, Epoch 5/5]\n",
       "    </div>\n",
       "    <table border=\"1\" class=\"dataframe\">\n",
       "  <thead>\n",
       " <tr style=\"text-align: left;\">\n",
       "      <th>Epoch</th>\n",
       "      <th>Training Loss</th>\n",
       "      <th>Validation Loss</th>\n",
       "    </tr>\n",
       "  </thead>\n",
       "  <tbody>\n",
       "    <tr>\n",
       "      <td>1</td>\n",
       "      <td>0.667900</td>\n",
       "      <td>0.443720</td>\n",
       "    </tr>\n",
       "    <tr>\n",
       "      <td>2</td>\n",
       "      <td>0.445600</td>\n",
       "      <td>0.370690</td>\n",
       "    </tr>\n",
       "    <tr>\n",
       "      <td>3</td>\n",
       "      <td>0.397000</td>\n",
       "      <td>0.327853</td>\n",
       "    </tr>\n",
       "    <tr>\n",
       "      <td>4</td>\n",
       "      <td>0.369400</td>\n",
       "      <td>0.305002</td>\n",
       "    </tr>\n",
       "    <tr>\n",
       "      <td>5</td>\n",
       "      <td>0.353300</td>\n",
       "      <td>0.296326</td>\n",
       "    </tr>\n",
       "  </tbody>\n",
       "</table><p>"
      ],
      "text/plain": [
       "<IPython.core.display.HTML object>"
      ]
     },
     "metadata": {},
     "output_type": "display_data"
    },
    {
     "data": {
      "text/plain": [
       "TrainOutput(global_step=323980, training_loss=0.4466450535623341, metrics={'train_runtime': 69557.9195, 'train_samples_per_second': 74.522, 'train_steps_per_second': 4.658, 'total_flos': 1.004056903286784e+17, 'train_loss': 0.4466450535623341, 'epoch': 5.0})"
      ]
     },
     "execution_count": 44,
     "metadata": {},
     "output_type": "execute_result"
    }
   ],
   "source": [
    "# Run the Trainer\n",
    "trainer.train()"
   ]
  },
  {
   "cell_type": "code",
   "execution_count": 45,
   "metadata": {},
   "outputs": [],
   "source": [
    "# Save out the model\n",
    "trainer.save_model(\"../models/hf_gpt2_style_theme_model_endoftext_testing\")"
   ]
  },
  {
   "cell_type": "code",
   "execution_count": 46,
   "metadata": {},
   "outputs": [
    {
     "name": "stdout",
     "output_type": "stream",
     "text": [
      "Validation Loss Summary:\n"
     ]
    },
    {
     "data": {
      "text/html": [
       "<div>\n",
       "<style scoped>\n",
       "    .dataframe tbody tr th:only-of-type {\n",
       "        vertical-align: middle;\n",
       "    }\n",
       "\n",
       "    .dataframe tbody tr th {\n",
       "        vertical-align: top;\n",
       "    }\n",
       "\n",
       "    .dataframe thead th {\n",
       "        text-align: right;\n",
       "    }\n",
       "</style>\n",
       "<table border=\"1\" class=\"dataframe\">\n",
       "  <thead>\n",
       "    <tr style=\"text-align: right;\">\n",
       "      <th></th>\n",
       "      <th>Step</th>\n",
       "      <th>Epoch</th>\n",
       "      <th>Validation Loss</th>\n",
       "    </tr>\n",
       "  </thead>\n",
       "  <tbody>\n",
       "    <tr>\n",
       "      <th>0</th>\n",
       "      <td>64796</td>\n",
       "      <td>1.00</td>\n",
       "      <td>0.4437</td>\n",
       "    </tr>\n",
       "    <tr>\n",
       "      <th>1</th>\n",
       "      <td>129592</td>\n",
       "      <td>2.00</td>\n",
       "      <td>0.3707</td>\n",
       "    </tr>\n",
       "    <tr>\n",
       "      <th>2</th>\n",
       "      <td>194388</td>\n",
       "      <td>3.00</td>\n",
       "      <td>0.3279</td>\n",
       "    </tr>\n",
       "    <tr>\n",
       "      <th>3</th>\n",
       "      <td>259184</td>\n",
       "      <td>4.00</td>\n",
       "      <td>0.3050</td>\n",
       "    </tr>\n",
       "    <tr>\n",
       "      <th>4</th>\n",
       "      <td>323980</td>\n",
       "      <td>5.00</td>\n",
       "      <td>0.2963</td>\n",
       "    </tr>\n",
       "  </tbody>\n",
       "</table>\n",
       "</div>"
      ],
      "text/plain": [
       "     Step Epoch Validation Loss\n",
       "0   64796  1.00          0.4437\n",
       "1  129592  2.00          0.3707\n",
       "2  194388  3.00          0.3279\n",
       "3  259184  4.00          0.3050\n",
       "4  323980  5.00          0.2963"
      ]
     },
     "metadata": {},
     "output_type": "display_data"
    },
    {
     "data": {
      "image/png": "[encoded data removed]",
      "text/plain": [
       "<Figure size 1200x600 with 2 Axes>"
      ]
     },
     "metadata": {},
     "output_type": "display_data"
    }
   ],
   "source": [
    "import matplotlib.pyplot as plt\n",
    "import numpy as np\n",
    "from IPython.display import display\n",
    "\n",
    "def plot_training_loss(trainer):\n",
    "    \"\"\"\n",
    "    Plot training and validation loss with both epochs and steps on the x-axis.\n",
    "\n",
    "    Parameters:\n",
    "    -----------\n",
    "    trainer : transformers.Trainer\n",
    "        The Hugging Face trainer object after training is complete\n",
    "\n",
    "    Returns:\n",
    "    --------\n",
    "    None\n",
    "        Displays the plot in a Jupyter notebook\n",
    "    \"\"\"\n",
    "    # Extract training logs\n",
    "    log_history = trainer.state.log_history\n",
    "\n",
    "    # Separate training and evaluation logs\n",
    "    train_logs = [log for log in log_history if 'loss' in log and 'eval_loss' not in log]\n",
    "    eval_logs = [log for log in log_history if 'eval_loss' in log]\n",
    "\n",
    "    # Extract loss values and steps\n",
    "    train_loss = [log['loss'] for log in train_logs]\n",
    "    train_steps = [log['step'] for log in train_logs]\n",
    "\n",
    "    # Extract eval loss values and corresponding training steps\n",
    "    eval_loss = [log['eval_loss'] for log in eval_logs]\n",
    "    eval_steps = [log['step'] for log in eval_logs]\n",
    "\n",
    "    # Calculate epochs from steps\n",
    "    # We need to know the number of steps per epoch\n",
    "    steps_per_epoch = trainer.args.steps_per_epoch if hasattr(trainer.args, 'steps_per_epoch') else None\n",
    "\n",
    "    if steps_per_epoch is None:\n",
    "        # Try to calculate it from training arguments\n",
    "        if hasattr(trainer.args, 'num_train_epochs') and hasattr(trainer.args, 'max_steps'):\n",
    "            if trainer.args.max_steps > 0 and trainer.args.num_train_epochs > 0:\n",
    "                steps_per_epoch = trainer.args.max_steps / trainer.args.num_train_epochs\n",
    "\n",
    "    if steps_per_epoch is None:\n",
    "        # Fall back to estimating from the data\n",
    "        # Identify epoch boundaries in the logs\n",
    "        epoch_changes = [i for i, log in enumerate(log_history) if 'epoch' in log and (i == 0 or log['epoch'] > log_history[i-1].get('epoch', 0))]\n",
    "        if len(epoch_changes) > 1:\n",
    "            steps_per_epoch = (log_history[epoch_changes[1]]['step'] - log_history[epoch_changes[0]]['step'])\n",
    "\n",
    "    # Create figure with two x-axes\n",
    "    fig, ax1 = plt.subplots(figsize=(12, 6))\n",
    "\n",
    "    # Plot training loss vs steps\n",
    "    ax1.plot(train_steps, train_loss, label='Training Loss', color='blue', alpha=0.5)\n",
    "    ax1.plot(eval_steps, eval_loss, label='Validation Loss', color='red',\n",
    "             marker='o', linestyle='-', linewidth=2, markersize=8)\n",
    "\n",
    "    ax1.set_xlabel('Training Steps')\n",
    "    ax1.set_ylabel('Loss')\n",
    "    ax1.tick_params(axis='x', labelcolor='black')\n",
    "\n",
    "    # Create a second x-axis for epochs\n",
    "    if steps_per_epoch:\n",
    "        ax2 = ax1.twiny()\n",
    "\n",
    "        # Get the current x-limits\n",
    "        xlim = ax1.get_xlim()\n",
    "\n",
    "        # Set the second x-axis limits using epochs\n",
    "        ax2.set_xlim([xlim[0]/steps_per_epoch, xlim[1]/steps_per_epoch])\n",
    "        ax2.set_xlabel('Epochs')\n",
    "        ax2.tick_params(axis='x', labelcolor='green')\n",
    "\n",
    "        # Add epoch markers\n",
    "        for epoch in range(1, int(train_steps[-1] / steps_per_epoch) + 1):\n",
    "            ax1.axvline(x=epoch * steps_per_epoch, color='green', linestyle='--', alpha=0.5)\n",
    "\n",
    "    ax1.set_title('Training and Validation Loss')\n",
    "    ax1.legend()\n",
    "    ax1.grid(True, linestyle='--', alpha=0.7)\n",
    "\n",
    "    # Add a summary table with epochs\n",
    "    if steps_per_epoch:\n",
    "        summary_df = pd.DataFrame({\n",
    "            'Step': eval_steps,\n",
    "            'Epoch': [f\"{step/steps_per_epoch:.2f}\" for step in eval_steps],\n",
    "            'Validation Loss': [f\"{loss:.4f}\" for loss in eval_loss]\n",
    "        })\n",
    "    else:\n",
    "        summary_df = pd.DataFrame({\n",
    "            'Step': eval_steps,\n",
    "            'Validation Loss': [f\"{loss:.4f}\" for loss in eval_loss]\n",
    "        })\n",
    "\n",
    "    print(\"Validation Loss Summary:\")\n",
    "    display(summary_df)\n",
    "\n",
    "    # Show plot\n",
    "    plt.tight_layout()\n",
    "    plt.show()\n",
    "\n",
    "# Plot the training and validation losses\n",
    "plot_training_loss(trainer)"
   ]
  },
  {
   "cell_type": "markdown",
   "metadata": {},
   "source": [
    "# Metrics"
   ]
  },
  {
   "cell_type": "code",
   "execution_count": 47,
   "metadata": {},
   "outputs": [
    {
     "data": {
      "text/html": [
       "\n",
       "    <div>\n",
       "      \n",
       "      <progress value='8100' max='8100' style='width:300px; height:20px; vertical-align: middle;'></progress>\n",
       "      [8100/8100 07:51]\n",
       "    </div>\n",
       "    "
      ],
      "text/plain": [
       "<IPython.core.display.HTML object>"
      ]
     },
     "metadata": {},
     "output_type": "display_data"
    },
    {
     "name": "stdout",
     "output_type": "stream",
     "text": [
      "Perplexity: 1.34\n"
     ]
    }
   ],
   "source": [
    "import math\n",
    "eval_results = trainer.evaluate()\n",
    "print(f\"Perplexity: {math.exp(eval_results['eval_loss']):.2f}\")"
   ]
  },
  {
   "cell_type": "markdown",
   "metadata": {},
   "source": [
    "We'll likely need to create our prompt input type thing down here..."
   ]
  },
  {
   "cell_type": "markdown",
   "metadata": {},
   "source": [
    "### Simple Prompting"
   ]
  },
  {
   "cell_type": "code",
   "execution_count": 48,
   "metadata": {},
   "outputs": [],
   "source": [
    "def generate_text(model, tokenizer, prompt, max_length=100, num_return_sequences=1, temperature=1.0):\n",
    "    \"\"\"\n",
    "    Generate text using the trained GPT2 model.\n",
    "\n",
    "    Args:\n",
    "        model: The trained GPT2 model\n",
    "        tokenizer: The tokenizer used for encoding/decoding text\n",
    "        prompt: The input prompt text to generate from\n",
    "        max_length: Maximum length of generated sequence\n",
    "        num_return_sequences: Number of sequences to generate\n",
    "        temperature: Controls randomness (higher = more random)\n",
    "\n",
    "    Returns:\n",
    "        List of generated text sequences\n",
    "    \"\"\"\n",
    "    # Move model to GPU if available\n",
    "    device = torch.device(\"cuda\" if torch.cuda.is_available() else \"cpu\")\n",
    "    model = model.to(device)\n",
    "    model.eval()\n",
    "\n",
    "    # Encode the input prompt\n",
    "    encoded_prompt = tokenizer(prompt, return_tensors='pt').to(device)\n",
    "\n",
    "    # Generate text\n",
    "    with torch.no_grad():\n",
    "        output_sequences = model.generate(\n",
    "            input_ids=encoded_prompt['input_ids'],\n",
    "            attention_mask=encoded_prompt['attention_mask'],\n",
    "            max_length=max_length,\n",
    "            temperature=temperature,\n",
    "            num_return_sequences=num_return_sequences,\n",
    "            pad_token_id=tokenizer.pad_token_id,\n",
    "            eos_token_id=tokenizer.eos_token_id,\n",
    "            do_sample=True,\n",
    "        )\n",
    "\n",
    "    # Decode and return the generated sequences\n",
    "    generated_sequences = []\n",
    "    for generated_sequence in output_sequences:\n",
    "        generated_text = tokenizer.decode(generated_sequence, skip_special_tokens=True)\n",
    "        generated_sequences.append(generated_text)\n",
    "\n",
    "    return generated_sequences"
   ]
  },
  {
   "cell_type": "code",
   "execution_count": 49,
   "metadata": {},
   "outputs": [
    {
     "data": {
      "text/plain": [
       "['llanowar elves , Damage , Creature , {5} {R} {R} Cost , Flying , Sacrifice , R Color , Dragon , Creature Based , R Identity <CARD_NAME> <name> <MANA_COST> {5} {R} {R} <TYPE_LINE> Creature — Dragon <ORACLE_TEXT> Flying \\\\n Whenever <name> deals damage to an opponent , sacrifice it . \\\\n {R} {R} , Sacrifice <name> :']"
      ]
     },
     "execution_count": 49,
     "metadata": {},
     "output_type": "execute_result"
    }
   ],
   "source": [
    "generate_text(gptmodel, tokenizer_fast, \"llanowar elves\", max_length=100, num_return_sequences=1, temperature=1.0)"
   ]
  },
  {
   "cell_type": "code",
   "execution_count": 50,
   "metadata": {},
   "outputs": [
    {
     "data": {
      "text/plain": [
       "['<THEMES> Extra Turn, Creature, R Color, {R} {R} Cost <CARD_NAME> Bridgemaw <MANA_COST> {R} {R} <TYPE_LINE> Creature — <name> <ORACLE_TEXT> Champion of Chaos ( When this creature enters , target player may put Chakram Slinger into their hand from their library , then shuffle . ) \\\\n Champion a duplicate of Chaos Them Vanguard Suppressor Tokens — {3} : open an Attraction . (']"
      ]
     },
     "execution_count": 50,
     "metadata": {},
     "output_type": "execute_result"
    }
   ],
   "source": [
    "generate_text(gptmodel, tokenizer_fast,\n",
    "              \"<THEMES> Extra Turn, Creature, R Color, {R} {R} Cost <CARD_NAME> Bridgemaw <MANA_COST>\",\n",
    "              max_length=100, num_return_sequences=1, temperature=1.0)"
   ]
  },
  {
   "cell_type": "code",
   "execution_count": 51,
   "metadata": {},
   "outputs": [
    {
     "data": {
      "text/plain": [
       "['start <THEMES> B Identity , 1 1 Counters , {2} {B} {B} Cost , B Color , Sorcery <CARD_NAME> <name> <MANA_COST> {2} {B} {B} <TYPE_LINE> Sorcery <ORACLE_TEXT> Target player discards two cards . \\\\n Look at the top three cards of your library . Put all cards from among them into your hand and the rest on the bottom of your library in any order . You']"
      ]
     },
     "execution_count": 51,
     "metadata": {},
     "output_type": "execute_result"
    }
   ],
   "source": [
    "generate_text(gptmodel, tokenizer_fast,\n",
    "              '[start] <THEMES> B Identity',\n",
    "              max_length=100, num_return_sequences=1, temperature=1.0)\n",
    "\n"
   ]
  },
  {
   "cell_type": "markdown",
   "metadata": {},
   "source": [
    "### More Advanced Prompting"
   ]
  },
  {
   "cell_type": "code",
   "execution_count": 64,
   "metadata": {},
   "outputs": [
    {
     "name": "stdout",
     "output_type": "stream",
     "text": [
      "<THEMES> Extra Turn, Creature, R Color, {R} {R} Cost <CARD_NAME> Bridgemaw <MANA_COST> {0}} less <TYPE_LINE> Creature — Beeble <ORACLE_TEXT> Ripple 4 ( When you cast this spell , you may reveal the top four cards of your library . You may cast spells with the same name as this card from among them without paying their mana costs . ) \\n When <name> enters , reveal\n"
     ]
    }
   ],
   "source": [
    "# This has some nucleus sampling and top-k sampling\n",
    "# This is likely for us a better way to generate text\n",
    "\n",
    "from transformers import GPT2LMHeadModel, GPT2TokenizerFast\n",
    "\n",
    "# Load  trained model and tokenizer\n",
    "# model = GPT2LMHeadModel.from_pretrained(\"./model/path\")\n",
    "# tokenizer = GPT2TokenizerFast.from_pretrained(\"./tokenizer/path\")\n",
    "\n",
    "# Prepare your prompt\n",
    "prompt = \"<THEMES> Extra Turn, Creature, R Color, {R} {R} Cost <CARD_NAME> Bridgemaw <MANA_COST>\"\n",
    "# inputs = tokenizer(prompt, return_tensors=\"pt\").to(device)\n",
    "inputs = tokenizer_fast(prompt, return_tensors=\"pt\").to(device)\n",
    "\n",
    "\n",
    "# TODO: change `gptmodel` to `model` and `tokenizer_fast` to `tokenizer`\n",
    "# Generate text\n",
    "outputs = gptmodel.generate(\n",
    "    inputs.input_ids.to(device),\n",
    "    max_length=100,\n",
    "    do_sample=True,\n",
    "    temperature=0.8,\n",
    "    top_k=50,\n",
    "    top_p=0.95,\n",
    "    no_repeat_ngram_size=2,\n",
    "    pad_token_id=tokenizer_fast.pad_token_id,\n",
    "    eos_token_id=tokenizer_fast.eos_token_id,\n",
    "    bos_token_id=tokenizer_fast.bos_token_id\n",
    ")\n",
    "\n",
    "# Decode the generated text\n",
    "generated_text = tokenizer_fast.decode(outputs[0], skip_special_tokens=True)\n",
    "print(generated_text)"
   ]
  },
  {
   "cell_type": "code",
   "execution_count": 61,
   "metadata": {},
   "outputs": [],
   "source": [
    "def generate_on_test_set(model, tokenizer, test_dataset, device='cuda', max_length=200, sample_size=None, random_seed=42):\n",
    "    \"\"\"\n",
    "    Generate outputs on a random subset of a test dataset.\n",
    "\n",
    "    Args:\n",
    "        model: The language model to use for generation\n",
    "        tokenizer: The tokenizer for the model\n",
    "        test_dataset: A HuggingFace dataset (typically dataset_dict['test'])\n",
    "        device: Device to run inference on ('cuda' or 'cpu')\n",
    "        max_length: Maximum length of generated text\n",
    "        sample_size: Number of random samples to select (None = use entire dataset)\n",
    "        random_seed: Seed for random sampling\n",
    "\n",
    "    Returns:\n",
    "        List of generated texts\n",
    "    \"\"\"\n",
    "    import torch\n",
    "    import random\n",
    "    from tqdm.notebook import tqdm\n",
    "\n",
    "    # Set random seed for reproducibility\n",
    "    random.seed(random_seed)\n",
    "\n",
    "    # Get indices for the entire dataset\n",
    "    all_indices = list(range(len(test_dataset)))\n",
    "\n",
    "    # Select random subset if sample_size is specified\n",
    "    if sample_size is not None and sample_size < len(test_dataset):\n",
    "        selected_indices = random.sample(all_indices, sample_size)\n",
    "    else:\n",
    "        selected_indices = all_indices\n",
    "\n",
    "    results = []\n",
    "\n",
    "    for idx in tqdm(selected_indices, desc=\"Generating\"):\n",
    "        # Get prompt from dataset\n",
    "        prompt = test_dataset[idx]['sentence']\n",
    "\n",
    "        # Tokenize prompt\n",
    "        inputs = tokenizer(prompt, return_tensors=\"pt\").to(device)\n",
    "\n",
    "        # Generate text\n",
    "        outputs = model.generate(\n",
    "            inputs.input_ids.to(device),\n",
    "            max_length=max_length,\n",
    "            do_sample=True,\n",
    "            temperature=0.8,\n",
    "            top_k=50,\n",
    "            top_p=0.95,\n",
    "            no_repeat_ngram_size=2,\n",
    "            pad_token_id=tokenizer.pad_token_id,\n",
    "            eos_token_id=tokenizer.eos_token_id,\n",
    "            bos_token_id=tokenizer.bos_token_id\n",
    "        )\n",
    "\n",
    "        # Decode the generated text\n",
    "        generated_text = tokenizer.decode(outputs[0], skip_special_tokens=True)\n",
    "        results.append({\"index\": idx, \"prompt\": prompt, \"generated_text\": generated_text})\n",
    "\n",
    "    return results\n",
    "\n",
    "# Example usage:\n",
    "# # Generate texts on a random subset of 10 examples from your test set\n",
    "# generated_results = generate_on_test_set(\n",
    "#     model=gptmodel,\n",
    "#     tokenizer=tokenizer_fast,\n",
    "#     test_dataset=dataset_dict['test'],\n",
    "#     device=device,\n",
    "#     sample_size=10\n",
    "# )"
   ]
  },
  {
   "cell_type": "code",
   "execution_count": 62,
   "metadata": {},
   "outputs": [
    {
     "data": {
      "application/vnd.jupyter.widget-view+json": {
       "model_id": "f7cd124324014216ae0ee362754c58c4",
       "version_major": 2,
       "version_minor": 0
      },
      "text/plain": [
       "Generating:   0%|          | 0/200 [00:00<?, ?it/s]"
      ]
     },
     "metadata": {},
     "output_type": "display_data"
    }
   ],
   "source": [
    "test_set_generations = generate_on_test_set(\n",
    "    model=gptmodel,\n",
    "    tokenizer=tokenizer_fast,\n",
    "    test_dataset=tokenize_dataset_dict['test'],\n",
    "    sample_size=200,\n",
    "    device=device\n",
    ")"
   ]
  },
  {
   "cell_type": "code",
   "execution_count": 60,
   "metadata": {},
   "outputs": [
    {
     "data": {
      "text/plain": [
       "'<|endoftext|> <THEMES> B Identity , {B} Cost , B Color , Combat Damage , Instant , Fog <CARD_NAME> <name> <MANA_COST> {B} <TYPE_LINE> Instant <ORACLE_TEXT> Prevent all combat damage'"
      ]
     },
     "execution_count": 60,
     "metadata": {},
     "output_type": "execute_result"
    }
   ],
   "source": [
    "tokenize_dataset_dict['test'][83810]['sentence']"
   ]
  },
  {
   "cell_type": "code",
   "execution_count": 65,
   "metadata": {},
   "outputs": [
    {
     "data": {
      "text/plain": [
       "[{'index': 83810,\n",
       "  'prompt': '<|endoftext|> <THEMES> B Identity , {B} Cost , B Color , Combat Damage , Instant , Fog <CARD_NAME> <name> <MANA_COST> {B} <TYPE_LINE> Instant <ORACLE_TEXT> Prevent all combat damage',\n",
       "  'generated_text': \" <THEMES> B Identity , {B} Cost , B Color , Combat Damage , Instant , Fog <CARD_NAME> <name> <MANA_COST> {B} <TYPE_LINE> Instant <ORACLE_TEXT> Prevent all combat damage that would be dealt this turn . If a source would deal damage to you this way , prevent all but the damage from that source's controller instead . <POWER> 1 <TOUGHNESS> 2 \"},\n",
       " {'index': 14592,\n",
       "  'prompt': '<|endoftext|> <THEMES> Aura , Flash , Enchantment , Poison Counters , First Strike , {W} Cost , W Color , Creature Based , Poison , Corrupted , W Identity <CARD_NAME> <name> <MANA_COST> {W} <TYPE_LINE> Enchantment — Aura <ORACLE_TEXT> Flash \\\\n Enchant creature \\\\n Enchanted creature gets 1 1 . \\\\n Corrupted — As long as an opponent has three or more poison',\n",
       "  'generated_text': \" <THEMES> Aura , Flash , Enchantment , Poison Counters , First Strike , {W} Cost , W Color , Creature Based , Poison , Corrupted , W Identity <CARD_NAME> <name> <MANA_COST> {W} <TYPE_LINE> Enchantment — Aura <ORACLE_TEXT> Flash \\\\n Enchant creature \\\\n Enchanted creature gets 1 1 . \\\\n Corrupted — As long as an opponent has three or more poison counters on it , it gets an additional poison counter . ( When it dies , you may put a poison Counters . ) \\\\ Corrupted counter on each opponent who doesn't , that player gets a Corrupted planeswalker they control with ten or fewer poison -1 -0 counters loses the game for each poison oil counter loses 2 life . Then if a creature with toxic 1 or less life total is less , if an enchanted creature is in your graveyard and each plague counter is removed from it has ten and you control an poison 1 0 counter can't attack or tied for the\"},\n",
       " {'index': 3278,\n",
       "  'prompt': '<|endoftext|> <THEMES> 1 1 Counters , Creature , Attacking , G Identity , G Color , Creature Based , {2} {G} Cost , Ooze <CARD_NAME> <name> <MANA_COST> {2} {G} <TYPE_LINE> Creature — Ooze <ORACLE_TEXT> When Oran-Rief Ooze enters , put a 1 1 counter on target creature you',\n",
       "  'generated_text': ' <THEMES> 1 1 Counters , Creature , Attacking , G Identity , G Color , Creature Based , {2} {G} Cost , Ooze <CARD_NAME> <name> <MANA_COST> {2} {G} <TYPE_LINE> Creature — Ooze <ORACLE_TEXT> When Oran-Rief Ooze enters , put a 1 1 counter on target creature you control . \\\\n Whenever a creature attacks , double the number of 1 counters on <POWER> 3 <TOUGHNESS> 2 '},\n",
       " {'index': 97196,\n",
       "  'prompt': '<|endoftext|> <THEMES> Cat , Creature , {R} {G} Cost , GR Color , Warrior , Creature Based , Tokens , GR Identity , Treasure Tokens <CARD_NAME> <name> <MANA_COST> {R} {G} <TYPE_LINE> Creature — Cat Warrior <ORACLE_TEXT> When <name> enters the battlefield , choose up to two creature and or planeswalker cards in your hand . They perpetually',\n",
       "  'generated_text': \" <THEMES> Cat , Creature , {R} {G} Cost , GR Color , Warrior , Creature Based , Tokens , GR Identity , Treasure Tokens <CARD_NAME> <name> <MANA_COST> {R} {G} <TYPE_LINE> Creature — Cat Warrior <ORACLE_TEXT> When <name> enters the battlefield , choose up to two creature and or planeswalker cards in your hand . They perpetually gains {T} : Add {C} , or {W} . \\\\n Create a Treasure token . ( It's an artifact with {2} or 1 1 counter on it's also an Orc . ) \\\\ token is an Treasure with Sacrifice this artifact : Target creature you control gets 1 0 until end of turn . It gets 2 until your next turn for each opponent you attacked this turn if able . <POWER> 1 <TOUGHNESS> 3 \"},\n",
       " {'index': 36048,\n",
       "  'prompt': \"<|endoftext|> <THEMES> B Identity , Creature , Lifegain , Human , Knight , {1} {B} Cost , B Color , Menace , Shadow <CARD_NAME> <name> <MANA_COST> {1} {B} <TYPE_LINE> Creature — Human Knight <ORACLE_TEXT> Menace ( This creature can't be blocked except by two or more creatures . ) \\\\n Your\",\n",
       "  'generated_text': \" <THEMES> B Identity , Creature , Lifegain , Human , Knight , {1} {B} Cost , B Color , Menace , Shadow <CARD_NAME> <name> <MANA_COST> {1} {B} <TYPE_LINE> Creature — Human Knight <ORACLE_TEXT> Menace ( This creature can't be blocked except by two or more creatures . ) \\\\n Your opponents can block or be paid with creatures with shadow . ( A creature with flying can help cast a creature spell . Each creature you tap while casting a noncreature spell pays for {2} or one mana of that creature's color . A player with menace can be sacrificed by a nonartifact spell or abilities pays {3} . Damage dealt by it's attacking that much life . {4} , that player loses that ability also causes that cost includes by the target of a source of their choice . If the player does , they gain life equal to the damage dealt to its toughness of 1 plus 1 counters\"},\n",
       " {'index': 32098,\n",
       "  'prompt': '<|endoftext|> <THEMES> Powerstone Tokens , Reanimation , Artifact Based , Enchantment Based , {3} {W} {W} Cost , W Color , Sorcery , Tokens , W Identity <CARD_NAME> <name> <MANA_COST> {3} {W} {W} <TYPE_LINE>',\n",
       "  'generated_text': \" <THEMES> Powerstone Tokens , Reanimation , Artifact Based , Enchantment Based , {3} {W} {W} Cost , W Color , Sorcery , Tokens , W Identity <CARD_NAME> <name> <MANA_COST> {3} {W} {W} <TYPE_LINE> Sorcery <ORACLE_TEXT> Return target artifact or enchantment card from your graveyard to the battlefield . Create a tapped Powerstone token . ( It's an artifact with {T} : Add {C} . This mana can't be spent to cast a nonartifact spell . ) \\\\n Create two tapped 1 1 colorless Construct artifact creature tokens . It can block . \"},\n",
       " {'index': 29256,\n",
       "  'prompt': \"<|endoftext|> <THEMES> Cycling , Lifegain , W Color , Creature Based , {1} {W} Cost , Instant , W Identity <CARD_NAME> <name> <MANA_COST> {1} {W} <TYPE_LINE> Instant <ORACLE_TEXT> Destroy target creature with power 4 or greater . If you weren't the starting player , you gain 4 life . \\\\n Cycling {W} \\\\n When you cycle <name> , if you weren't the starting player , you gain 2 life\",\n",
       "  'generated_text': \" <THEMES> Cycling , Lifegain , W Color , Creature Based , {1} {W} Cost , Instant , W Identity <CARD_NAME> <name> <MANA_COST> {1} {W} <TYPE_LINE> Instant <ORACLE_TEXT> Destroy target creature with power 4 or greater . If you weren't the starting player , you gain 4 life . \\\\n Cycling {W} \\\\n When you cycle <name> , if you weren't the starting player , you gain 2 life instead . ( {2} , add two mana of any one mana in any combination of that much life , or more than three mana costs . ) \"},\n",
       " {'index': 18289,\n",
       "  'prompt': '<|endoftext|> <THEMES> B Identity , 1 1 Counters , Vampire , Creature , Flying , Creature Based , B Color , {3} {B} {B} Cost <CARD_NAME> <name> <MANA_COST> {3} {B} {B}',\n",
       "  'generated_text': ' <THEMES> B Identity , 1 1 Counters , Vampire , Creature , Flying , Creature Based , B Color , {3} {B} {B} Cost <CARD_NAME> <name> <MANA_COST> {3} {B} {B} <TYPE_LINE> Creature — Vampire <ORACLE_TEXT> Flying \\\\n When < enters , you may put a 1 counter on another Vampire you control . <POWER> 2 <TOUGHNESS> 3 '},\n",
       " {'index': 96530,\n",
       "  'prompt': '<|endoftext|> <THEMES> Cat , Foretell , Creature , Vigilance , {5} {W} Cost , W Color , W Identity <CARD_NAME> <name> <MANA_COST> {5} {W} <TYPE_LINE> Creature — Cat <ORACLE_TEXT> Vigilance \\\\n Foretell {3} {W} ( During your turn , you may pay {2} and exile this card from your hand face down . Cast it on a later turn for its foretell cost . )',\n",
       "  'generated_text': \" <THEMES> Cat , Foretell , Creature , Vigilance , {5} {W} Cost , W Color , W Identity <CARD_NAME> <name> <MANA_COST> {5} {W} <TYPE_LINE> Creature — Cat <ORACLE_TEXT> Vigilance \\\\n Foretell {3} {W} ( During your turn , you may pay {2} and exile this card from your hand face down . Cast it on a later turn for its foretell cost . ) \\\\ \\\\ When this creature enters , return it to the battlefield face up only as a sorcery on the bottom of your library . \\\\ Foretell cost reduced by a permanent you control to its owner's foretell a Bird you own and it becomes foretold , counter that card . ( foretell . It's an foretell Counters , it and you lose this ability triggers only once each turn . If you paid its ability has foretell , put a 1 1 counter on it . Embalm only only if it's a token you have a\"},\n",
       " {'index': 13434,\n",
       "  'prompt': '<|endoftext|> <THEMES> {1} {R} Cost , R Color , Sorcery , R Identity <CARD_NAME> <name> <MANA_COST> {1}',\n",
       "  'generated_text': ' <THEMES> {1} {R} Cost , R Color , Sorcery , R Identity <CARD_NAME> <name> <MANA_COST> {1}} less {G} <TYPE_LINE> Sorcery <ORACLE_TEXT> Exile the top three cards of your library . Until the end of turn , you may play those cards . You may spend mana as though it were mana of any color to cast those spells and you spend this spell . \\\\n Exile <POWER> 1 <TOUGHNESS> 2 '},\n",
       " {'index': 88696,\n",
       "  'prompt': '<|endoftext|> <THEMES> Scout , Undergrowth , Creature , G Identity , {4} {G} Cost , Lifegain , G Color , Creature Based , Insect <CARD_NAME> <name> <MANA_COST> {4} {G} <TYPE_LINE> Creature — Insect Scout <ORACLE_TEXT> Undergrowth — When <name> enters , you gain 1 life for each creature card in your graveyard . <POWER>',\n",
       "  'generated_text': ' <THEMES> Scout , Undergrowth , Creature , G Identity , {4} {G} Cost , Lifegain , G Color , Creature Based , Insect <CARD_NAME> <name> <MANA_COST> {4} {G} <TYPE_LINE> Creature — Insect Scout <ORACLE_TEXT> Undergrowth — When <name> enters , you gain 1 life for each creature card in your graveyard . <POWER> 2 <TOUGHNESS> 3 '},\n",
       " {'index': 97080,\n",
       "  'prompt': '<|endoftext|> <THEMES> Crew , N Identity , Unearth , Artifact Based , Flying , Creature Based , Artifact , {4} Cost , Vehicle , N Color <CARD_NAME> <name> <MANA_COST> {4} <TYPE_LINE> Artifact — Vehicle <ORACLE_TEXT> Flying \\\\n Repair Barge — Whenever <name> becomes crewed , each artifact creature card in your graveyard gains unearth {3} until end of turn . \\\\n Crew 2 ( Tap',\n",
       "  'generated_text': ' <THEMES> Crew , N Identity , Unearth , Artifact Based , Flying , Creature Based , Artifact , {4} Cost , Vehicle , N Color <CARD_NAME> <name> <MANA_COST> {4} <TYPE_LINE> Artifact — Vehicle <ORACLE_TEXT> Flying \\\\n Repair Barge — Whenever <name> becomes crewed , each artifact creature card in your graveyard gains unearth {3} until end of turn . \\\\n Crew 2 ( Tap any number of creatures you control with total power 3 or more : This Vehicle becomes an artifact creatures . This artifact becomes Vehicle artifact artifact with flying until your next turn for each creature until the creature . ) \\\\ Unearth {1} : Return <POWER> 4 <TOUGHNESS> 2 '},\n",
       " {'index': 116939,\n",
       "  'prompt': '<|endoftext|> <THEMES> Creature , {2} {W} {W} Cost , Tutor , Soldier , Human , W Color , W Identity <CARD_NAME> <name> <MANA_COST> {2} {W} {W} <TYPE_LINE> Creature — Human Soldier <ORACLE_TEXT> When <name> enters , you may search your library and or graveyard for a card named Elspeth , Undaunted Hero ,',\n",
       "  'generated_text': ' <THEMES> Creature , {2} {W} {W} Cost , Tutor , Soldier , Human , W Color , W Identity <CARD_NAME> <name> <MANA_COST> {2} {W} {W} <TYPE_LINE> Creature — Human Soldier <ORACLE_TEXT> When <name> enters , you may search your library and or graveyard for a card named Elspeth , Undaunted Hero , reveal it , and put it into your hand . If you search Search your graveyard , shuffle and shuffle . \\\\n Each opponent who controls the player who cast a spell named <POWER> 4 <TOUGHNESS> 2 '},\n",
       " {'index': 71482,\n",
       "  'prompt': '<|endoftext|> <THEMES> BGR Identity , {3} {B} {R} {G} Cost , Enchantment , Sacrifice , Dies , Creature Based , Upkeep , BGR Color <CARD_NAME> <name> <MANA_COST> {3} {B} {R} {G} <TYPE_LINE> Enchantment <ORACLE_TEXT> At the beginning of your upkeep ,',\n",
       "  'generated_text': ' <THEMES> BGR Identity , {3} {B} {R} {G} Cost , Enchantment , Sacrifice , Dies , Creature Based , Upkeep , BGR Color <CARD_NAME> <name> <MANA_COST> {3} {B} {R} {G} <TYPE_LINE> Enchantment <ORACLE_TEXT> At the beginning of your upkeep , return an instant or sorcery card from your graveyard to your hand . \\\\n Whenever a creature dies , you may pay {X} . If you do , target player discards X cards . '},\n",
       " {'index': 11395,\n",
       "  'prompt': '<|endoftext|> <THEMES> BR Color , Free Spells , BR Identity , Sorcery , Rebound , {6} {B} {R} Cost <CARD_NAME> <name> <MANA_COST> {6} {B} {R} <TYPE_LINE> Sorcery <ORACLE_TEXT> Each opponent exiles cards from the top of their library until they exile a nonland card . You may cast any number of spells from among those nonland',\n",
       "  'generated_text': \" <THEMES> BR Color , Free Spells , BR Identity , Sorcery , Rebound , {6} {B} {R} Cost <CARD_NAME> <name> <MANA_COST> {6} {B} {R} <TYPE_LINE> Sorcery <ORACLE_TEXT> Each opponent exiles cards from the top of their library until they exile a nonland card . You may cast any number of spells from among those nonland cards without paying their mana costs . Then they exiled this way without foretell Counters , the rest without drafting a random order , and you may play that card without summoning sickness . If you do , exile cards that spell without Efreet that player puts the exiled cards on the bottom of your library in a later turn without its owner's library , then shuffles the other on top in any order . \\\\n Rebound ( If a permanent you own and each permanent card you cast this spell cast it without cascade , cast before it this card from exile without before its mana cost . At\"},\n",
       " {'index': 77397,\n",
       "  'prompt': '<|endoftext|> <THEMES> Aura , {2} {W} Cost , Creature , Human , Warrior , W Color , Equipment , W Identity <CARD_NAME> <name> <MANA_COST> {2} {W} <TYPE_LINE> Creature — Human Warrior <ORACLE_TEXT> When <name> enters , you may return target Aura or Equipment card',\n",
       "  'generated_text': ' <THEMES> Aura , {2} {W} Cost , Creature , Human , Warrior , W Color , Equipment , W Identity <CARD_NAME> <name> <MANA_COST> {2} {W} <TYPE_LINE> Creature — Human Warrior <ORACLE_TEXT> When <name> enters , you may return target Aura or Equipment card from your graveyard to your hand . <POWER> 2 <TOUGHNESS> 1 '},\n",
       " {'index': 55302,\n",
       "  'prompt': \"<|endoftext|> <THEMES> Citizen , Creature , Activated Abilities , UW Identity , Human , {W} {U} Cost , UW Color <CARD_NAME> <name> <MANA_COST> {W} {U} <TYPE_LINE> Creature — Human Citizen <ORACLE_TEXT> As <name> enters , you may choose a nonland permanent . \\\\n Activated abilities of the chosen permanent can't be activated . \\\\n <name> has all activated abilities of the chosen permanent except for loyalty abilities . You may spend mana as though it were mana of any color to activate those abilities . <POWER> 2 <TOUGHNESS>\",\n",
       "  'generated_text': \" <THEMES> Citizen , Creature , Activated Abilities , UW Identity , Human , {W} {U} Cost , UW Color <CARD_NAME> <name> <MANA_COST> {W} {U} <TYPE_LINE> Creature — Human Citizen <ORACLE_TEXT> As <name> enters , you may choose a nonland permanent . \\\\n Activated abilities of the chosen permanent can't be activated . \\\\n <name> has all activated abilities of the chosen permanent except for loyalty abilities . You may spend mana as though it were mana of any color to activate those abilities . <POWER> 2 <TOUGHNESS> 1 \"},\n",
       " {'index': 4165,\n",
       "  'prompt': '<|endoftext|> <THEMES> Creature , {3} {U} Cost , Artifact Based , U Identity , Human , U Color , Artificer , Card Draw <CARD_NAME> <name> <MANA_COST> {3} {U} <TYPE_LINE> Creature — Human Artificer <ORACLE_TEXT> When <name> enters , target artifact you control gains',\n",
       "  'generated_text': ' <THEMES> Creature , {3} {U} Cost , Artifact Based , U Identity , Human , U Color , Artificer , Card Draw <CARD_NAME> <name> <MANA_COST> {3} {U} <TYPE_LINE> Creature — Human Artificer <ORACLE_TEXT> When <name> enters , target artifact you control gains {1} , or {T} : Add {C} . <POWER> 2 <TOUGHNESS> 1 '},\n",
       " {'index': 3905,\n",
       "  'prompt': '<|endoftext|> <THEMES> Creature , W Identity , Human , Cleric , W Color , Creature Based , {3} {W} {W} Cost , Legendary <CARD_NAME> <name> <MANA_COST> {3} {W} {W} <TYPE_LINE> Legendary Creature — Human Cleric <ORACLE_TEXT> {X} , {T}',\n",
       "  'generated_text': ' <THEMES> Creature , W Identity , Human , Cleric , W Color , Creature Based , {3} {W} {W} Cost , Legendary <CARD_NAME> <name> <MANA_COST> {3} {W} {W} <TYPE_LINE> Legendary Creature — Human Cleric <ORACLE_TEXT> {X} , {T} : Tap X target creatures . <POWER> 3 <TOUGHNESS> 2 '},\n",
       " {'index': 12280,\n",
       "  'prompt': \"<|endoftext|> <THEMES> Aura , Enchantment , U Identity , Creature Based , {2} {U} Cost , U Color , Landwalk , Card Draw <CARD_NAME> <name> <MANA_COST> {2} {U} <TYPE_LINE> Enchantment — Aura <ORACLE_TEXT> Enchant creature \\\\n As <name> enters , choose a land type . \\\\n When <name> enters , draw a card . \\\\n Enchanted creature has landwalk of the chosen type . ( It can't be blocked as long as defending player controls a land of\",\n",
       "  'generated_text': \" <THEMES> Aura , Enchantment , U Identity , Creature Based , {2} {U} Cost , U Color , Landwalk , Card Draw <CARD_NAME> <name> <MANA_COST> {2} {U} <TYPE_LINE> Enchantment — Aura <ORACLE_TEXT> Enchant creature \\\\n As <name> enters , choose a land type . \\\\n When <name> enters , draw a card . \\\\n Enchanted creature has landwalk of the chosen type . ( It can't be blocked as long as defending player controls a land of spells or abilities . ) \\\\ When a creature with forestwalk enters tapped , that type that player may draw an additional card at the beginning of your first main phase . If a player does , they draw two cards . \"},\n",
       " {'index': 28657,\n",
       "  'prompt': '<|endoftext|> <THEMES> RW Identity , Creature , Attacking , {1} {R} {W} Cost , Human , Knight , Creature Based , Battalion , RW Color , Legendary , Card Draw <CARD_NAME> <name> <MANA_COST> {1} {R} {W} <TYPE_LINE> Legendary Creature — Human Knight <ORACLE_TEXT> Battalion — Whenever <name> and at least two other creatures attack , draw a card , then you may put a creature card with mana value X or less from your hand onto the battlefield tapped and attacking',\n",
       "  'generated_text': ' <THEMES> RW Identity , Creature , Attacking , {1} {R} {W} Cost , Human , Knight , Creature Based , Battalion , RW Color , Legendary , Card Draw <CARD_NAME> <name> <MANA_COST> {1} {R} {W} <TYPE_LINE> Legendary Creature — Human Knight <ORACLE_TEXT> Battalion — Whenever <name> and at least two other creatures attack , draw a card , then you may put a creature card with mana value X or less from your hand onto the battlefield tapped and attacking creature . If you do , <POWER> 2 <TOUGHNESS> 3 '},\n",
       " {'index': 30495,\n",
       "  'prompt': '<|endoftext|> <THEMES> Creature , Pirate , U Identity , Raid , Human , {2} {U} Cost , U Color , Card Draw <CARD_NAME> <name> <MANA_COST> {2} {U} <TYPE_LINE> Creature — Human Pirate <ORACLE_TEXT> Raid — When this creature enters , if you attacked this turn , draw a card . <POWER> 2 <TOUGHNESS> 2 <|endoftext|>',\n",
       "  'generated_text': \" <THEMES> Creature , Pirate , U Identity , Raid , Human , {2} {U} Cost , U Color , Card Draw <CARD_NAME> <name> <MANA_COST> {2} {U} <TYPE_LINE> Creature — Human Pirate <ORACLE_TEXT> Raid — When this creature enters , if you attacked this turn , draw a card . <POWER> 2 <TOUGHNESS> 2  ( You won't untap during your next untap step . ) \\\\n Raid ( When you won a creature won out before it attacks , you may have target creature connive , Pirates , Rogues , and or land . When it gets 1 1 until end of turn . If you lose the next turn if it's an Army , it can't block . A player draws a crime . ( While they sacrifice it , anything they control , then sacrifices the top card of their library , Sacrifice this artifact : Add one mana of any color . The player loses all cards in their\"},\n",
       " {'index': 66237,\n",
       "  'prompt': '<|endoftext|> <THEMES> Mill , Creature , Octopus , U Identity , {4} {U} Cost , U Color , Noble <CARD_NAME> <name> <MANA_COST> {4} {U} <TYPE_LINE> Creature — Octopus Noble <ORACLE_TEXT> Whenever <name> becomes the target of a',\n",
       "  'generated_text': ' <THEMES> Mill , Creature , Octopus , U Identity , {4} {U} Cost , U Color , Noble <CARD_NAME> <name> <MANA_COST> {4} {U} <TYPE_LINE> Creature — Octopus Noble <ORACLE_TEXT> Whenever <name> becomes the target of a spell or ability an opponent controls , that player mills four cards . ( They put the top two cards of their library into their graveyard . ) \\\\n {3} : Target player discards a card . <POWER> 3 <TOUGHNESS> 2 '},\n",
       " {'index': 78907,\n",
       "  'prompt': '<|endoftext|> <THEMES> Creature , R Color , {1} {R} Cost , Card Draw , Demon , R Identity , Berserker , Discard <CARD_NAME> <name> <MANA_COST> {1} {R} <TYPE_LINE> Creature —',\n",
       "  'generated_text': ' <THEMES> Creature , R Color , {1} {R} Cost , Card Draw , Demon , R Identity , Berserker , Discard <CARD_NAME> <name> <MANA_COST> {1} {R} <TYPE_LINE> Creature — Demon Berserker <ORACLE_TEXT> When <POWER> 2 <TOUGHNESS> 3 '},\n",
       " {'index': 3478,\n",
       "  'prompt': \"<|endoftext|> <THEMES> Faerie , Creature , Warlock , {2} {U} {B} Cost , Flying , BU Identity , Creature Based , Legendary , Goad , Combat Damage , BU Color , Faerie Rogue Tokens , Tokens <CARD_NAME> <name> <MANA_COST> {2} {U} {B} <TYPE_LINE> Legendary Creature — Faerie Warlock <ORACLE_TEXT> Flying \\\\n Whenever you cast your first spell during each opponent's turn , create a 1 1 black\",\n",
       "  'generated_text': \" <THEMES> Faerie , Creature , Warlock , {2} {U} {B} Cost , Flying , BU Identity , Creature Based , Legendary , Goad , Combat Damage , BU Color , Faerie Rogue Tokens , Tokens <CARD_NAME> <name> <MANA_COST> {2} {U} {B} <TYPE_LINE> Legendary Creature — Faerie Warlock <ORACLE_TEXT> Flying \\\\n Whenever you cast your first spell during each opponent's turn , create a 1 1 black Faerie creature token with flying . Then you may have flying and Whenever one or more Faeries you control deal combat damage to a player , exile the top card of that player's library . If you do , you create that many 1 blue Faerie Assassin creature tokens that's a 2 black Rogue creature cards , and you lose 1 life . \\\\ \\\\ Counters that entered from <POWER> 3 <TOUGHNESS> 2 \"},\n",
       " {'index': 73563,\n",
       "  'prompt': '<|endoftext|> <THEMES> Citizen , Creature , {2} {W} Cost , Rabbit , W Color , Creature Based , W Identity , Card Draw <CARD_NAME> <name> <MANA_COST> {2} {W} <TYPE_LINE> Creature — Rabbit Citizen <ORACLE_TEXT> Whenever <name> or another Rabbit you control enters , target creature you control gets 1 0 until end of turn . Then draw a card',\n",
       "  'generated_text': ' <THEMES> Citizen , Creature , {2} {W} Cost , Rabbit , W Color , Creature Based , W Identity , Card Draw <CARD_NAME> <name> <MANA_COST> {2} {W} <TYPE_LINE> Creature — Rabbit Citizen <ORACLE_TEXT> Whenever <name> or another Rabbit you control enters , target creature you control gets 1 0 until end of turn . Then draw a card . <POWER> 2 <TOUGHNESS> 1 '},\n",
       " {'index': 26062,\n",
       "  'prompt': \"<|endoftext|> <THEMES> Aura , Flash , Enchantment , Sacrifice , W Color , Creature Based , {W} {W} Cost , Protection , W Identity <CARD_NAME> <name> <MANA_COST> {W} {W} <TYPE_LINE> Enchantment — Aura <ORACLE_TEXT> You may cast <name> as though it had flash . If you cast it any time a sorcery couldn't have been cast , the controller of the permanent it becomes sacrifices it at the beginning of the next cleanup step . \\\\n Enchant creature \\\\n\",\n",
       "  'generated_text': \" <THEMES> Aura , Flash , Enchantment , Sacrifice , W Color , Creature Based , {W} {W} Cost , Protection , W Identity <CARD_NAME> <name> <MANA_COST> {W} {W} <TYPE_LINE> Enchantment — Aura <ORACLE_TEXT> You may cast <name> as though it had flash . If you cast it any time a sorcery couldn't have been cast , the controller of the permanent it becomes sacrifices it at the beginning of the next cleanup step . \\\\n Enchant creature \\\\n As <POWER> 1 <TOUGHNESS> 2 \"},\n",
       " {'index': 93850,\n",
       "  'prompt': '<|endoftext|> <THEMES> Creature , {5} {G} {W} Cost , Flying , GW Color , GW Identity , Dragon , Dies <CARD_NAME> <name> <MANA_COST> {5}',\n",
       "  'generated_text': \" <THEMES> Creature , {5} {G} {W} Cost , Flying , GW Color , GW Identity , Dragon , Dies <CARD_NAME> <name> <MANA_COST> {5}}COST>'s power and toughness are each equal to the number of lands you control . \\\\n When <POWER> 5 <TOUGHNESS> 6 \"},\n",
       " {'index': 85181,\n",
       "  'prompt': '<|endoftext|> <THEMES> Garruk , {4} {G} {G} Cost , Planeswalker , G Identity , Tutor , G Color , Creature Based , Legendary <CARD_NAME> <name> <MANA_COST> {4}',\n",
       "  'generated_text': \" <THEMES> Garruk , {4} {G} {G} Cost , Planeswalker , G Identity , Tutor , G Color , Creature Based , Legendary <CARD_NAME> <name> <MANA_COST> {4}44 {B} <TYPE_LINE> Legendary Planeswalker — <ORACLE_TEXT> 2 : You may search your library and or graveyard for a card named Garruk planeswalker card and put it onto the battlefield attached to a creature you control . If you search its owner's graveyard this way , shuffle . \\\\n −2 : Reveal the top four cards of your hand . Put all land cards from the milled this turn into your graveyard and the rest into a land types among the other into two piles . Then shuffle them into their library . Each player may put them onto your right chooses one of the chosen cards on the bottom of their libraries in a random order . That player shuffles the player's library in any order , then shuffle that player chooses a second card . <\"},\n",
       " {'index': 91924,\n",
       "  'prompt': '<|endoftext|> <THEMES> Aura , Knight Tokens , Vigilance , {2} {W} Cost , Enchantment , W Color , Creature Based , Tokens , W Identity <CARD_NAME> <name> <MANA_COST> {2} {W} <TYPE_LINE> Enchantment — Aura <ORACLE_TEXT> Enchant land \\\\n When <name> enters , create a 2 2 white Knight creature token with vigilance . \\\\n Enchanted land has {T} : Prevent the next 1 damage that would',\n",
       "  'generated_text': ' <THEMES> Aura , Knight Tokens , Vigilance , {2} {W} Cost , Enchantment , W Color , Creature Based , Tokens , W Identity <CARD_NAME> <name> <MANA_COST> {2} {W} <TYPE_LINE> Enchantment — Aura <ORACLE_TEXT> Enchant land \\\\n When <name> enters , create a 2 2 white Knight creature token with vigilance . \\\\n Enchanted land has {T} : Prevent the next 1 damage that would be dealt to any target this turn . '},\n",
       " {'index': 71426,\n",
       "  'prompt': '<|endoftext|> <THEMES> N Identity , {4} Cost , Artifact , N Color , Card Draw <CARD_NAME> <name> <MANA_COST> {4} <TYPE_LINE> Artifact <ORACLE_TEXT> At the beginning',\n",
       "  'generated_text': \" <THEMES> N Identity , {4} Cost , Artifact , N Color , Card Draw <CARD_NAME> <name> <MANA_COST> {4} <TYPE_LINE> Artifact <ORACLE_TEXT> At the beginning of each player's draw step , that player draws a card . If the player would draw a land card this turn , they draw that many cards instead they reveal the top card of their library instead . \"},\n",
       " {'index': 54987,\n",
       "  'prompt': '<|endoftext|> <THEMES> Tempting Offer , G Identity , Tutor , G Color , Sorcery , {3} {G} Cost <CARD_NAME> <name>',\n",
       "  'generated_text': ' <THEMES> Tempting Offer , G Identity , Tutor , G Color , Sorcery , {3} {G} Cost <CARD_NAME> <name> , search your library for a basic land card , put it onto the battlefield tapped , then shuffle . \\\\n search search their library and shuffle and put that card on top . Each opponent who searched their libraries for each opponent chooses a card named <POWER> 3 <TOUGHNESS> 4 '},\n",
       " {'index': 28893,\n",
       "  'prompt': '<|endoftext|> <THEMES> N Identity , Imprint , Artifact , N Color , {3} Cost <CARD_NAME> <name> <MANA_COST> {3} <TYPE_LINE> Artifact <ORACLE_TEXT> Imprint — When <name> enters , you may exile a nonland card from your hand . \\\\n Spells you cast that share a card type with the exiled card cost {2} less to',\n",
       "  'generated_text': ' <THEMES> N Identity , Imprint , Artifact , N Color , {3} Cost <CARD_NAME> <name> <MANA_COST> {3} <TYPE_LINE> Artifact <ORACLE_TEXT> Imprint — When <name> enters , you may exile a nonland card from your hand . \\\\n Spells you cast that share a card type with the exiled card cost {2} less to cast . If a spell with cards with <POWER> 1 <TOUGHNESS> 3 '},\n",
       " {'index': 58878,\n",
       "  'prompt': '<|endoftext|> <THEMES> N Identity , {5} Cost , Artifact , Upkeep , N Color , Card Draw <CARD_NAME> <name> <MANA_COST> {5} <TYPE_LINE> Artifact <ORACLE_TEXT> Whenever you draw a card , exile the top card of your library face down . \\\\n At the beginning of your upkeep , you may exile all cards from your hand face down . If you do ,',\n",
       "  'generated_text': ' <THEMES> N Identity , {5} Cost , Artifact , Upkeep , N Color , Card Draw <CARD_NAME> <name> <MANA_COST> {5} <TYPE_LINE> Artifact <ORACLE_TEXT> Whenever you draw a card , exile the top card of your library face down . \\\\n At the beginning of your upkeep , you may exile all cards from your hand face down . If you do , put all other cards exiled with <POWER> 4 <TOUGHNESS> 5 '},\n",
       " {'index': 77236,\n",
       "  'prompt': '<|endoftext|> <THEMES> BR Color , Creature , Haste , Reanimation , Flying , BR Identity , Trample , {X} {2} {B} {R} Cost , Creature Based , Demon , Legendary <CARD_NAME> <name> <MANA_COST> {X} {2} {B} {R} <TYPE_LINE> Legendary Creature — Demon <ORACLE_TEXT> Flying',\n",
       "  'generated_text': \" <THEMES> BR Color , Creature , Haste , Reanimation , Flying , BR Identity , Trample , {X} {2} {B} {R} Cost , Creature Based , Demon , Legendary <CARD_NAME> <name> <MANA_COST> {X} {2} {B} {R} <TYPE_LINE> Legendary Creature — Demon <ORACLE_TEXT> Flying \\\\n When < enters , choose one — \\\\ \\\\ each opponent reveals their hand . \\\\ that card with mana value X or less from it into their graveyard . That player discards that many cards . Each player who discarded a creature card . The player puts a card from the top of their library into a graveyard this way into your hand and loses life equal to its mana cost . It perpetually gains When a spell cast this spell , each player returns all creature cards from their graveyards with it onto the battlefield with that player's graveyard to the most life total , exile it . <POWER> 5 <TOUGHNESS>\"},\n",
       " {'index': 36463,\n",
       "  'prompt': '<|endoftext|> <THEMES> Damage , Creature , Shaman , Elemental , R Color , {1} {R} Cost , R Identity <CARD_NAME> <name> <MANA_COST> {1} {R} <TYPE_LINE> Creature — Elemental Shaman <ORACLE_TEXT> {1} {R} , {T} : <name> deals X damage to any target and X',\n",
       "  'generated_text': ' <THEMES> Damage , Creature , Shaman , Elemental , R Color , {1} {R} Cost , R Identity <CARD_NAME> <name> <MANA_COST> {1} {R} <TYPE_LINE> Creature — Elemental Shaman <ORACLE_TEXT> {1} {R} , {T} : <name> deals X damage to any target and X plus 1 damage , where X is the number of red mana spent to cast this spell . <POWER> 1 <TOUGHNESS> 2 '},\n",
       " {'index': 106093,\n",
       "  'prompt': '<|endoftext|> <THEMES> B Identity , Poison Counters , Creature Based , Instant , B Color , {1} {B} Cost , Poison , Corrupted <CARD_NAME> <name> <MANA_COST> {1} {B} <TYPE_LINE> Instant <ORACLE_TEXT> Exile target creature if it has mana value 3 or less . \\\\n Corrupted — Exile that creature instead if its controller has three or',\n",
       "  'generated_text': \" <THEMES> B Identity , Poison Counters , Creature Based , Instant , B Color , {1} {B} Cost , Poison , Corrupted <CARD_NAME> <name> <MANA_COST> {1} {B} <TYPE_LINE> Instant <ORACLE_TEXT> Exile target creature if it has mana value 3 or less . \\\\n Corrupted — Exile that creature instead if its controller has three or more poison counters on it , you may pay 3 life . ( If they do , remove a poison counter from it and it loses 3 3 poison Counters . ) \\\\ Madness {2} , return it to the battlefield under your control with three poison tokens you control to its owner's control named Eye of them to your hand . If you do and you lose the game for each poison hour counter on <POWER> 2 <TOUGHNESS> 1 \"},\n",
       " {'index': 113940,\n",
       "  'prompt': '<|endoftext|> <THEMES> Lifelink , Creature , {3} {G} {W} Cost , Gain Control , GW Color , GW Identity , Creature Based , Legendary , Tokens , Dryad , Soldier Tokens <CARD_NAME> <name> <MANA_COST> {3} {G}',\n",
       "  'generated_text': \" <THEMES> Lifelink , Creature , {3} {G} {W} Cost , Gain Control , GW Color , GW Identity , Creature Based , Legendary , Tokens , Dryad , Soldier Tokens <CARD_NAME> <name> <MANA_COST> {3} {G}}3TYPE_LINE> Legendary Creature — Dryad <ORACLE_TEXT> At the beginning of your end step , if you control a creature with power 4 or greater , you may choose a color . If you do , that hasn't been chosen creature's base power , gain control of that creature . \\\\n 1 1 until end of turn , it becomes a Rabbit Soldier creature in addition to its other types . The Ring tempts you chose a card types and gains that say destroy it . <POWER> 4 <TOUGHNESS> 3 \"},\n",
       " {'index': 851,\n",
       "  'prompt': '<|endoftext|> <THEMES> Tempting Offer , {1} {R} {R} Cost , R Color , R Identity , Instant <CARD_NAME> <name> <MANA_COST> {1}',\n",
       "  'generated_text': \" <THEMES> Tempting Offer , {1} {R} {R} Cost , R Color , R Identity , Instant <CARD_NAME> <name> <MANA_COST> {1}}1TYPE_LINE> Instant — <ORACLE_TEXT> Demonstrate ( When you cast this spell , you may copy it . If you do , choose an opponent to also copy that spell before its other than you're done activating an ability pays for {2} . ) \\\\n Exile the top card of their library , then copy each opponent exiles a card with the highest for each time they exiled with a stash counter on it , except it's a 1 1 red . Then that player may cast that card without paying its mana cost . \"},\n",
       " {'index': 99458,\n",
       "  'prompt': '<|endoftext|> <THEMES> Reanimation , Enchantment , Enchantment Based , W Color , Creature Based , {4} {W} Cost , Upkeep , W Identity <CARD_NAME> <name> <MANA_COST> {4} {W} <TYPE_LINE> Enchantment <ORACLE_TEXT> At the beginning of your upkeep , you may return target enchantment card from your graveyard to the battlefield . \\\\n As long as you control five or more enchantments , each other non-Aura enchantment you control is a creature in addition',\n",
       "  'generated_text': ' <THEMES> Reanimation , Enchantment , Enchantment Based , W Color , Creature Based , {4} {W} Cost , Upkeep , W Identity <CARD_NAME> <name> <MANA_COST> {4} {W} <TYPE_LINE> Enchantment <ORACLE_TEXT> At the beginning of your upkeep , you may return target enchantment card from your graveyard to the battlefield . \\\\n As long as you control five or more enchantments , each other non-Aura enchantment you control is a creature in addition to its other types . It perpetually gets 1 1 . '},\n",
       " {'index': 105620,\n",
       "  'prompt': '<|endoftext|> <THEMES> 1 1 Counters , Time , Creature , Lord , UW Identity , Creature Based , Doctor , UW Color , {2} {W} {U} Cost , Legendary <CARD_NAME> <name> <MANA_COST> {2} {W} {U} <TYPE_LINE> Legendary Creature — Time Lord Doctor <ORACLE_TEXT> Peaceful Coexistence — At the beginning of your end step',\n",
       "  'generated_text': ' <THEMES> 1 1 Counters , Time , Creature , Lord , UW Identity , Creature Based , Doctor , UW Color , {2} {W} {U} Cost , Legendary <CARD_NAME> <name> <MANA_COST> {2} {W} {U} <TYPE_LINE> Legendary Creature — Time Lord Doctor <ORACLE_TEXT> Peaceful Coexistence — At the beginning of your end step , if a creature you control with a number of time counters on it equal to its mana value , put a time counter on <POWER> 3 <TOUGHNESS> 2 '},\n",
       " {'index': 20926,\n",
       "  'prompt': '<|endoftext|> <THEMES> Mill , Bear Tokens , G Identity , Land , Cost , Creature Based , Tokens , N Color <CARD_NAME> <name> <MANA_COST> <TYPE_LINE> Land <ORACLE_TEXT> <name> enters tapped unless you',\n",
       "  'generated_text': \" <THEMES> Mill , Bear Tokens , G Identity , Land , Cost , Creature Based , Tokens , N Color <CARD_NAME> <name> <MANA_COST> <TYPE_LINE> Land <ORACLE_TEXT> <name> enters tapped unless you control a green Bear or a Nissa planeswalker . \\\\n {T} : Add {G} . Activate only if you don't control three or more lands . ( {1} {B} , {Q}T/P} can be paid with {P/G/W} or 2 life . ) \\\\ . If you may put a creature card with either {2} in its mana value 3 or less from your graveyard on it onto the battlefield . It's a land card in addition to its other types among the rest on the game for as long as <POWER> 1 <TOUGHNESS> 0 \"},\n",
       " {'index': 91506,\n",
       "  'prompt': '<|endoftext|> <THEMES> Creature , Attacking , {G} Cost , G Identity , Snake , G Color , Creature Based , Deathtouch , Discard <CARD_NAME> <name> <MANA_COST> {G} <TYPE_LINE> Creature — Snake <ORACLE_TEXT> Deathtouch \\\\n Bloodrush — {G} , Discard <name> : Target attacking creature gets 1 2 and gains deathtouch',\n",
       "  'generated_text': \" <THEMES> Creature , Attacking , {G} Cost , G Identity , Snake , G Color , Creature Based , Deathtouch , Discard <CARD_NAME> <name> <MANA_COST> {G} <TYPE_LINE> Creature — Snake <ORACLE_TEXT> Deathtouch \\\\n Bloodrush — {G} , Discard <name> : Target attacking creature gets 1 2 and gains deathtouch until end of turn . Activate only if you control a creature with deathtouch . ( Any amount of damage a Zombie is enough to a Phyrexian Snake and it's toughness is in the form of -1 -2 -0 counters and to destroy it . ) <POWER> 1 <TOUGHNESS> 2 \"},\n",
       " {'index': 55392,\n",
       "  'prompt': '<|endoftext|> <THEMES> Creature , Attacking , {4} {R} {R} Cost , Ogre , R Color , Warrior , Creature Based , Menace , R Identity , Tokens , Rat Tokens',\n",
       "  'generated_text': ' <THEMES> Creature , Attacking , {4} {R} {R} Cost , Ogre , R Color , Warrior , Creature Based , Menace , R Identity , Tokens , Rat Tokens <CARD_NAME> <name> {6}}4TYPE_LINE> Enchantment Creature — Ogre Warrior <ORACLE_TEXT> Whenever <POWER> 4 <TOUGHNESS> 6 '},\n",
       " {'index': 44597,\n",
       "  'prompt': '<|endoftext|> <THEMES> Storage Counters , Land , Cost , UW Identity , N Color <CARD_NAME> <name> <MANA_COST> <TYPE_LINE> Land <ORACLE_TEXT> {T} : Add {C} . \\\\n {1} , {T} : Put a storage counter on <name> . \\\\n {1} , Remove X storage counters from <name> : Add X mana in any',\n",
       "  'generated_text': ' <THEMES> Storage Counters , Land , Cost , UW Identity , N Color <CARD_NAME> <name> <MANA_COST> <TYPE_LINE> Land <ORACLE_TEXT> {T} : Add {C} . \\\\n {1} , {T} : Put a storage counter on <name> . \\\\n {1} , Remove X storage counters from <name> : Add X mana in any combination of {W} {U} and storage Counters <POWER> 0 <TOUGHNESS> 1 '},\n",
       " {'index': 36421,\n",
       "  'prompt': '<|endoftext|> <THEMES> 1 1 Counters , Creature , U Identity , Card Draw , {1} {U} Cost , U Color , Spirit , Discard <CARD_NAME> <name> <MANA_COST> {1} {U} <TYPE_LINE> Creature — Spirit <ORACLE_TEXT> When Shipwreck Sifters enters , draw a card , then discard a card . \\\\n Whenever a Spirit card or a card with disturb is put into your graveyard from anywhere , put',\n",
       "  'generated_text': \" <THEMES> 1 1 Counters , Creature , U Identity , Card Draw , {1} {U} Cost , U Color , Spirit , Discard <CARD_NAME> <name> <MANA_COST> {1} {U} <TYPE_LINE> Creature — Spirit <ORACLE_TEXT> When Shipwreck Sifters enters , draw a card , then discard a card . \\\\n Whenever a Spirit card or a card with disturb is put into your graveyard from anywhere , put a graveyard with a 1 counter on it . ( It's an Aura with enchant creature , Enchanted creature can't block . ) \\\\ When this creature dies , sacrifice it unless it has a dream counter put an exalted counter of prowess counter from it , discard it for each instance of exalted . If it was cast it this ability has resolved this turn , it becomes a spell , remove a shield counter and it gains Whenever this permanent , you may remove all instances of it from the last noted for the spell or ability stickers on this\"},\n",
       " {'index': 20379,\n",
       "  'prompt': '<|endoftext|> <THEMES> Aura , Damage , Enchantment , R Color , Creature Based , R Identity , Upkeep , {R} Cost , Fuse Counters , Dies <CARD_NAME> <name> <MANA_COST> {R} <TYPE_LINE> Enchantment — Aura <ORACLE_TEXT> Enchant creature \\\\n At the beginning of your upkeep , you may put a fuse counter on <name> . \\\\n When enchanted',\n",
       "  'generated_text': \" <THEMES> Aura , Damage , Enchantment , R Color , Creature Based , R Identity , Upkeep , {R} Cost , Fuse Counters , Dies <CARD_NAME> <name> <MANA_COST> {R} <TYPE_LINE> Enchantment — Aura <ORACLE_TEXT> Enchant creature \\\\n At the beginning of your upkeep , you may put a fuse counter on <name> . \\\\n When enchanted creature dies , <POWER> to its owner's red fuse Counters to target red or red source you control to enchanted land it to it . That land doesn't untap during your untap step if it has a paralyzation Counters . If you don't , remove a gold counter from it and remove all fuse counters from <TOUGHNESS> 0 \"},\n",
       " {'index': 28221,\n",
       "  'prompt': '<|endoftext|> <THEMES> Creature , Attacking , Copy Tokens , U Identity , Tyranid , {4} {U} Cost , Creature Based , Infection Counters , U Color , Tokens , Dies <CARD_NAME>',\n",
       "  'generated_text': \" <THEMES> Creature , Attacking , Copy Tokens , U Identity , Tyranid , {4} {U} Cost , Creature Based , Infection Counters , U Color , Tokens , Dies <CARD_NAME> <name> , you may pay {10} <MANA_LINE> Legendary Creature — Tyranid <ORACLE_TEXT> Impending 4 — {X} . If you do , it enters with X delay counters on it . \\\\n 0 : Remove a slime counter from target creature you don't control and put a net counter on <POWER> 0 <TOUGHNESS> 6 \"},\n",
       " {'index': 125463,\n",
       "  'prompt': '<|endoftext|> <THEMES> GU Color , {3} {G} {U} Cost , GU Identity , Manifest , Instant <CARD_NAME> <name> <MANA_COST> {3} {G} {U} <TYPE_LINE> Instant <ORACLE_TEXT> Manifest the top two cards of your library . ( To manifest a card , put it onto the battlefield face down as a 2 2 creature . Turn',\n",
       "  'generated_text': \" <THEMES> GU Color , {3} {G} {U} Cost , GU Identity , Manifest , Instant <CARD_NAME> <name> <MANA_COST> {3} {G} {U} <TYPE_LINE> Instant <ORACLE_TEXT> Manifest the top two cards of your library . ( To manifest a card , put it onto the battlefield face down as a 2 2 creature . Turn it face up any time for its mana cost if it's a creature card . ) \\\\n Look at the beginning of the next main phase of combat on your turn , you may put a permanent card from a graveyard . If you do , manifest dread . Activate only as an additional cost is an instant or sorcery . This ability triggers only once each turn . \\\\ Plot only if you've completed a sorcery card was promised , return <POWER> 2 <TOUGHNESS> 3 \"},\n",
       " {'index': 100072,\n",
       "  'prompt': '<|endoftext|> <THEMES> Wither , Creature , G Identity , Spider , {G} {G} Cost , G Color , Reach <CARD_NAME> <name> <MANA_COST> {G} {G} <TYPE_LINE> Creature — Spider <ORACLE_TEXT> Reach ( This creature can block creatures with flying . ) \\\\n Wither ( This deals damage to creatures in the form of -1 -1 counters . ) <POWER> 1',\n",
       "  'generated_text': ' <THEMES> Wither , Creature , G Identity , Spider , {G} {G} Cost , G Color , Reach <CARD_NAME> <name> <MANA_COST> {G} {G} <TYPE_LINE> Creature — Spider <ORACLE_TEXT> Reach ( This creature can block creatures with flying . ) \\\\n Wither ( This deals damage to creatures in the form of -1 -1 counters . ) <POWER> 1 <TOUGHNESS> 3 '},\n",
       " {'index': 44118,\n",
       "  'prompt': \"<|endoftext|> <THEMES> Creature , Attacking , {4} {R} Cost , Shaman , R Color , Choose a Background , Creature Based , Legendary , Goad , R Identity , Tokens , Elf , Treasure Tokens , Dies <CARD_NAME> <name> <MANA_COST> {4} {R} <TYPE_LINE> Legendary Creature — Elf Shaman <ORACLE_TEXT> Creatures your opponents control with power less than <name>'s power are goaded . ( They attack each combat if able and attack a player other than you if able . ) \\\\n Whenever a goaded attacking or blocking creature dies , you create a Treasure token . \\\\n Choose a Background ( You can have a\",\n",
       "  'generated_text': \" <THEMES> Creature , Attacking , {4} {R} Cost , Shaman , R Color , Choose a Background , Creature Based , Legendary , Goad , R Identity , Tokens , Elf , Treasure Tokens , Dies <CARD_NAME> <name> <MANA_COST> {4} {R} <TYPE_LINE> Legendary Creature — Elf Shaman <ORACLE_TEXT> Creatures your opponents control with power less than <name>'s power are goaded . ( They attack each combat if able and attack a player other than you if able . ) \\\\n Whenever a goaded attacking or blocking creature dies , you create a Treasure token . \\\\n Choose a Background ( You can have a crime , a card , then you may create that's an artifact token copy of a spell . If you do , they create your token before its other effects that opponent loses 1 life . A token is an attacking that player this turn if the first card is a token you control an Assassin . Otherwise , that creature\"},\n",
       " {'index': 13396,\n",
       "  'prompt': '<|endoftext|> <THEMES> Damage , Creature , R Color , Creature Based , Goblin , R Identity , {2} {R} Cost <CARD_NAME>',\n",
       "  'generated_text': ' <THEMES> Damage , Creature , R Color , Creature Based , Goblin , R Identity , {2} {R} Cost <CARD_NAME> <name> {5}} <TYPE_LINE> Creature — Goblin <ORACLE_TEXT> Whenever < blocks or becomes blocked by a creature , <POWER> 3 <TOUGHNESS> 2 '},\n",
       " {'index': 12156,\n",
       "  'prompt': '<|endoftext|> <THEMES> R Color , Raid , Sorcery , R Identity , {2} {R} Cost <CARD_NAME> <name> <MANA_COST> {2} {R} <TYPE_LINE> Sorcery <ORACLE_TEXT> When you next cast an instant or sorcery spell this turn , copy that spell . You may choose new targets for the copy . \\\\n Raid — If you attacked this turn , when you next cast an instant or sorcery spell this turn ,',\n",
       "  'generated_text': \" <THEMES> R Color , Raid , Sorcery , R Identity , {2} {R} Cost <CARD_NAME> <name> <MANA_COST> {2} {R} <TYPE_LINE> Sorcery <ORACLE_TEXT> When you next cast an instant or sorcery spell this turn , copy that spell . You may choose new targets for the copy . \\\\n Raid — If you attacked this turn , when you next cast an instant or sorcery spell this turn , choose which player to also copy it . If this spell and you may copy targets only once each turn . ( A copy of a permanent spell cast before it this way , they're bargained , except its surge cost is an artifact spell's an enchantment spell becomes a token . ) \"},\n",
       " {'index': 49797,\n",
       "  'prompt': '<|endoftext|> <THEMES> G Identity , Sacrifice , Lifegain , G Color , Creature Based , Instant , {2} {G} {G} Cost , Card Draw <CARD_NAME> <name> <MANA_COST> {2} {G} {G} <TYPE_LINE> Instant <ORACLE_TEXT> As an additional cost to cast',\n",
       "  'generated_text': \" <THEMES> G Identity , Sacrifice , Lifegain , G Color , Creature Based , Instant , {2} {G} {G} Cost , Card Draw <CARD_NAME> <name> <MANA_COST> {2} {G} {G} <TYPE_LINE> Instant <ORACLE_TEXT> As an additional cost to cast this spell , sacrifice a creature . \\\\n Draw three cards . You gain life equal to the sacrificed creature's power . \"},\n",
       " {'index': 12676,\n",
       "  'prompt': '<|endoftext|> <THEMES> B Identity , Damage , Threshold , {1} {B} {B} Cost , Creature Based , B Color , Sorcery <CARD_NAME> <name> <MANA_COST> {1} {B} {B} <TYPE_LINE> Sorcery <ORACLE_TEXT> Destroy target land . \\\\n Threshold — If seven',\n",
       "  'generated_text': \" <THEMES> B Identity , Damage , Threshold , {1} {B} {B} Cost , Creature Based , B Color , Sorcery <CARD_NAME> <name> <MANA_COST> {1} {B} {B} <TYPE_LINE> Sorcery <ORACLE_TEXT> Destroy target land . \\\\n Threshold — If seven or more cards are in your graveyard , instead destroy all lands . If there are seven , this spell's controller loses 5 life instead . Activate only during your upkeep , before attackers are five . \"},\n",
       " {'index': 47052,\n",
       "  'prompt': '<|endoftext|> <THEMES> N Identity , Treasure Tokens , {3} Cost , Creature Based , Artifact , Equipment , Combat Damage , Protection , N Color , Tokens <CARD_NAME> <name> <MANA_COST> {3} <TYPE_LINE> Artifact — Equipment <ORACLE_TEXT> Equipped creature gets 2 2 and has protection from instants and from sorceries . \\\\n Whenever equipped creature deals combat damage to a player , create a Treasure token . When you next cast an instant or sorcery spell this turn ,',\n",
       "  'generated_text': ' <THEMES> N Identity , Treasure Tokens , {3} Cost , Creature Based , Artifact , Equipment , Combat Damage , Protection , N Color , Tokens <CARD_NAME> <name> <MANA_COST> {3} <TYPE_LINE> Artifact — Equipment <ORACLE_TEXT> Equipped creature gets 2 2 and has protection from instants and from sorceries . \\\\n Whenever equipped creature deals combat damage to a player , create a Treasure token . When you next cast an instant or sorcery spell this turn , copy that spell and you may choose new targets for the copy . If you do , choose which player to also copy it . ( A copy of a permanent spell becomes a token before its controller other than you control . ) \\\\ \\\\ Equip {1} ( {T} : Attach it gets 1 1 until end of turn . Equip only as a sorcery . This card enters . '},\n",
       " {'index': 111082,\n",
       "  'prompt': \"<|endoftext|> <THEMES> Cat , Creature , {G} Cost , G Identity , Sacrifice , G Color , Shroud <CARD_NAME> <name> <MANA_COST> {G} <TYPE_LINE> Creature — Cat <ORACLE_TEXT> Shroud ( This creature can't be the target\",\n",
       "  'generated_text': \" <THEMES> Cat , Creature , {G} Cost , G Identity , Sacrifice , G Color , Shroud <CARD_NAME> <name> <MANA_COST> {G} <TYPE_LINE> Creature — Cat <ORACLE_TEXT> Shroud ( This creature can't be the target of spells or abilities . ) \\\\n {1} {S} , Discard <POWER> 1 <TOUGHNESS> 2 \"},\n",
       " {'index': 45082,\n",
       "  'prompt': '<|endoftext|> <THEMES> Orc , Damage , Creature , Artifact Based , R Color , Sacrifice , R Identity , {2} {R} Cost <CARD_NAME>',\n",
       "  'generated_text': ' <THEMES> Orc , Damage , Creature , Artifact Based , R Color , Sacrifice , R Identity , {2} {R} Cost <CARD_NAME> <name> {5}} <TYPE_LINE> Creature — Orc <ORACLE_TEXT> Sacrifice < : It deals 2 damage to any target . Activate only if you control an artifact . <POWER> 3 <TOUGHNESS> 4 '},\n",
       " {'index': 79131,\n",
       "  'prompt': '<|endoftext|> <THEMES> Mill , Damage , {4} {R} Cost , Enchantment , R Color , R Identity <CARD_NAME> <name> <MANA_COST> {4} {R} <TYPE_LINE> Enchantment <ORACLE_TEXT> {3} {R} : Choose any target , then mill three cards . <name> deals damage',\n",
       "  'generated_text': \" <THEMES> Mill , Damage , {4} {R} Cost , Enchantment , R Color , R Identity <CARD_NAME> <name> <MANA_COST> {4} {R} <TYPE_LINE> Enchantment <ORACLE_TEXT> {3} {R} : Choose any target , then mill three cards . <name> deals damage to that player equal to the number of cards in their hand . \\\\n Each player mills a land card in your library has milled this way deals 1 damage equal X is the highest mana value among cards you revealed this card's mana cost for each equal or equal equal 3 minus the milled cards milled card types among lands you control . \"},\n",
       " {'index': 34671,\n",
       "  'prompt': '<|endoftext|> <THEMES> BW Identity , Vigilance , Creature , {5} {W} {B} Cost , BW Color , Flying , Spirit Tokens , Human , Creature Based , Combat Damage , Advisor , Protection , Legendary , Tokens <CARD_NAME> <name> <MANA_COST> {5} {W} {B} <TYPE_LINE> Legendary Creature — Human Advisor <ORACLE_TEXT> Vigilance',\n",
       "  'generated_text': ' <THEMES> BW Identity , Vigilance , Creature , {5} {W} {B} Cost , BW Color , Flying , Spirit Tokens , Human , Creature Based , Combat Damage , Advisor , Protection , Legendary , Tokens <CARD_NAME> <name> <MANA_COST> {5} {W} {B} <TYPE_LINE> Legendary Creature — Human Advisor <ORACLE_TEXT> Vigilance \\\\n {1} : Permanents your opponents control lose protection from the color of your choice until end of turn . \\\\ \\\\ At the beginning of each of combat , if <POWER> 4 <TOUGHNESS> 6 '},\n",
       " {'index': 105791,\n",
       "  'prompt': '<|endoftext|> <THEMES> Creature , U Identity , Human , Wizard , U Color , {2} {U} Cost , Dies , Card Draw <CARD_NAME> <name> <MANA_COST> {2} {U} <TYPE_LINE> Creature —',\n",
       "  'generated_text': ' <THEMES> Creature , U Identity , Human , Wizard , U Color , {2} {U} Cost , Dies , Card Draw <CARD_NAME> <name> <MANA_COST> {2} {U} <TYPE_LINE> Creature — Human Wizard <ORACLE_TEXT> When <> dies , draw a card . <POWER> 1 <TOUGHNESS> 2 '},\n",
       " {'index': 5695,\n",
       "  'prompt': '<|endoftext|> <THEMES> Attacking , R Color , Sacrifice , Creature Based , R Identity , Instant , {2} {R} {R} Cost <CARD_NAME>',\n",
       "  'generated_text': \" <THEMES> Attacking , R Color , Sacrifice , Creature Based , R Identity , Instant , {2} {R} {R} Cost <CARD_NAME> <name> , Card Draw <MANA_COST> {5}}2TYPE_LINE> Instant <ORACLE_TEXT> Cast this spell only during the declare attackers step . \\\\n You may have a bid of a flip a coin . If you win the flip , gain control of target creature that's attacking or blocking creature and attacking creature . In turn , the player may flip again . The Ring Tempts , each player to block , they gain life equal to its power to the number of creatures they control , and loses all creatures with the high bid Counters , then the choices are revealed this way loses the game for each flip . Each player who chose which choices Counters . Then each opponent loses 1 life they chose money Counters <POWER> 5 <TOUGHNESS> 4 \"},\n",
       " {'index': 95647,\n",
       "  'prompt': \"<|endoftext|> <THEMES> BGR Identity , Creature , Vigilance , {3} {B} {R} {G} Cost , Raccoon , Menace , BGR Color , Rogue <CARD_NAME> <name> <MANA_COST> {3} {B} {R} {G} <TYPE_LINE> Creature — Raccoon Rogue <ORACLE_TEXT> Vigilance \\\\n Menace ( This creature can't be blocked except by two or more creatures . ) \\\\n {2} , Exile <name> from your hand : Target land gains {T} : Add {B} , {R} , or {G} until <name> is cast from exile . You may cast <name> for as long as it remains exiled . <POWER> 5\",\n",
       "  'generated_text': \" <THEMES> BGR Identity , Creature , Vigilance , {3} {B} {R} {G} Cost , Raccoon , Menace , BGR Color , Rogue <CARD_NAME> <name> <MANA_COST> {3} {B} {R} {G} <TYPE_LINE> Creature — Raccoon Rogue <ORACLE_TEXT> Vigilance \\\\n Menace ( This creature can't be blocked except by two or more creatures . ) \\\\n {2} , Exile <name> from your hand : Target land gains {T} : Add {B} , {R} , or {G} until <name> is cast from exile . You may cast <name> for as long as it remains exiled . <POWER> 5 <TOUGHNESS> 4 \"},\n",
       " {'index': 60217,\n",
       "  'prompt': \"<|endoftext|> <THEMES> 1 1 Counters , Cycling , G Identity , Enchantment , G Color , Creature Based , Upkeep , {1} {G} {G} Cost <CARD_NAME> <name> <MANA_COST> {1} {G} {G} <TYPE_LINE> Enchantment <ORACLE_TEXT> Return <name> to its owner's hand : Target creature you cast this turn has base power and toughness 0 1 until your next upkeep . At the beginning of your\",\n",
       "  'generated_text': \" <THEMES> 1 1 Counters , Cycling , G Identity , Enchantment , G Color , Creature Based , Upkeep , {1} {G} {G} Cost <CARD_NAME> <name> <MANA_COST> {1} {G} {G} <TYPE_LINE> Enchantment <ORACLE_TEXT> Return <name> to its owner's hand : Target creature you cast this turn has base power and toughness 0 1 until your next upkeep . At the beginning of your upkeep , put a 1 counter on that creature . \\\\n Cycling {2} ( {5} , Discard this card : Draw a card . ) \\\\ Cycling only if you cycle a land card , you may pay {3} . If you do , add {W} and exile it from your hand . When you draw a Treasure token . Activate only during your turn , turn . ( Do this only once each turn and only as a sorcery . While it's not a later turn with a creature ,\"},\n",
       " {'index': 70284,\n",
       "  'prompt': '<|endoftext|> <THEMES> Counterspell , Creature , U Identity , Human , Wizard , U Color , {2} {U} Cost <CARD_NAME> <name> <MANA_COST> {2} {U} <TYPE_LINE> Creature — Human Wizard <ORACLE_TEXT> {T} : Counter target spell unless its controller pays {1} . <POWER> 1 <TOUGHNESS> 1',\n",
       "  'generated_text': ' <THEMES> Counterspell , Creature , U Identity , Human , Wizard , U Color , {2} {U} Cost <CARD_NAME> <name> <MANA_COST> {2} {U} <TYPE_LINE> Creature — Human Wizard <ORACLE_TEXT> {T} : Counter target spell unless its controller pays {1} . <POWER> 1 <TOUGHNESS> 1 '},\n",
       " {'index': 16361,\n",
       "  'prompt': '<|endoftext|> <THEMES> {U} Cost , Aura , Enchantment , Artifact Based , U Identity , Creature Based , U Color <CARD_NAME> <name> <MANA_COST>',\n",
       "  'generated_text': ' <THEMES> {U} Cost , Aura , Enchantment , Artifact Based , U Identity , Creature Based , U Color <CARD_NAME> <name> <MANA_COST> Enchantment — Aura <ORACLE_TEXT> Enchant artifact or creature \\\\n Enchanted permanent is a creature with base power and toughness 0 2 . '},\n",
       " {'index': 127548,\n",
       "  'prompt': '<|endoftext|> <THEMES> BR Color , Creature , Flying , BR Identity , Trample , {B} {B} {R} {R} Cost , Creature Based , Demon , Legendary <CARD_NAME> <name> <MANA_COST> {B} {B} {R} {R} <TYPE_LINE> Legendary Creature',\n",
       "  'generated_text': \" <THEMES> BR Color , Creature , Flying , BR Identity , Trample , {B} {B} {R} {R} Cost , Creature Based , Demon , Legendary <CARD_NAME> <name> <MANA_COST> {B} {B} {R} {R} <TYPE_LINE> Legendary Creature — Demon <ORACLE_TEXT> Flying \\\\n Whenever a creature card is put into your graveyard from anywhere , you may pay {1} . If you do , it perpetually gets X 0 , where X is that card's mana value . \\\\ {2} , and gains trample , then conjure a duplicate of the duplicate into exile it into its owner's a face-down pile , rounded up . It gains You may cast that name . The same is true for as long as a sorcery . <POWER> 3 <TOUGHNESS> 2 \"},\n",
       " {'index': 120887,\n",
       "  'prompt': '<|endoftext|> <THEMES> Creature , Lizard , Convoke , R Color , {1} {R} Cost , Wizard , R Identity , Discard <CARD_NAME> <name> <MANA_COST> {1} {R} <TYPE_LINE> Creature — Lizard Wizard <ORACLE_TEXT> Noncreature spells you cast from exile have convoke . ( Each creature you tap while casting a noncreature spell from exile pays for {1} or',\n",
       "  'generated_text': \" <THEMES> Creature , Lizard , Convoke , R Color , {1} {R} Cost , Wizard , R Identity , Discard <CARD_NAME> <name> <MANA_COST> {1} {R} <TYPE_LINE> Creature — Lizard Wizard <ORACLE_TEXT> Noncreature spells you cast from exile have convoke . ( Each creature you tap while casting a noncreature spell from exile pays for {1} or one mana of that creature's color . ) \\\\n When <POWER> 2 <TOUGHNESS> 1 \"},\n",
       " {'index': 49615,\n",
       "  'prompt': \"<|endoftext|> <THEMES> B Identity , {2} {B} Cost , B Color , Sorcery <CARD_NAME> <name> <MANA_COST> {2} {B} <TYPE_LINE> Sorcery <ORACLE_TEXT> Target player exiles all cards from their hand face down . At the beginning of the end step of that player's next turn ,\",\n",
       "  'generated_text': \" <THEMES> B Identity , {2} {B} Cost , B Color , Sorcery <CARD_NAME> <name> <MANA_COST> {2} {B} <TYPE_LINE> Sorcery <ORACLE_TEXT> Target player exiles all cards from their hand face down . At the beginning of the end step of that player's next turn , that opponent chooses a card from it , then shuffles the top two cards of their library , puts all graveyards into their graveyard , and you choose one of those cards with that name , they choose a name and puts the chosen name from the other cards they exiled this way into your hand . If you do , repeat this process for each opponent who exiled card they exile the card exiled with the highest Ring Tempts , you may play the high bid of a bid Counters , the spell they chose whether any number you chose : Each player loses 1 life equal to the exiled cards you've completed a new targets for the noted for cards in a permanent\"},\n",
       " {'index': 10328,\n",
       "  'prompt': '<|endoftext|> <THEMES> B Identity , Creature , Zombie , Warrior , {1} {B} {B} Cost , Creature Based , B Color , Intimidate <CARD_NAME> <name> <MANA_COST> {1} {B} {B} <TYPE_LINE> Creature —',\n",
       "  'generated_text': \" <THEMES> B Identity , Creature , Zombie , Warrior , {1} {B} {B} Cost , Creature Based , B Color , Intimidate <CARD_NAME> <name> <MANA_COST> {1} {B} {B} <TYPE_LINE> Creature — Zombie Warrior <ORACLE_TEXT> Intimidate ( This creature can't be blocked except by artifact creatures and or creatures that share a color with it . ) \\\\n When <POWER> 2 <TOUGHNESS> 1 \"},\n",
       " {'index': 72357,\n",
       "  'prompt': '<|endoftext|> <THEMES> Goblin Tokens , {1} {R} {R} Cost , R Color , Creature Based , Sorcery , R Identity , Tokens <CARD_NAME> <name> <MANA_COST> {1} {R} {R} <TYPE_LINE> Sorcery <ORACLE_TEXT> Create three',\n",
       "  'generated_text': ' <THEMES> Goblin Tokens , {1} {R} {R} Cost , R Color , Creature Based , Sorcery , R Identity , Tokens <CARD_NAME> <name> <MANA_COST> {1} {R} {R} <TYPE_LINE> Sorcery <ORACLE_TEXT> Create three 1 1 red Goblin creature tokens . '},\n",
       " {'index': 38427,\n",
       "  'prompt': '<|endoftext|> <THEMES> B Identity , Drain , Fear , Lifegain , Creature Based , {B} Cost , B Color , Instant <CARD_NAME> <name>',\n",
       "  'generated_text': \" <THEMES> B Identity , Drain , Fear , Lifegain , Creature Based , {B} Cost , B Color , Instant <CARD_NAME> <name> , you gain 1 life and you lose 1 game for each Vampire <MANA_COST> {1} <ORACLE_TEXT> ( {2} in your party consists of up to one each of Cleric , Rogue , Warrior , and Wizard . ) \\\\n Target creature gets 1 0 and gains fear for as long as you control a creature with fear . ( A creature and it can't be blocked except by artifact with menace can block or be destroyed this creature can be the target of spells or abilities . A player with shadow can fear can attack and or block . Each of creatures with flying can only creatures and only if able . Damage dealt by a sorcery . \"},\n",
       " {'index': 108711,\n",
       "  'prompt': '<|endoftext|> <THEMES> Human Tokens , W Color , Creature Based , Sorcery , {4} {W} Cost , Tokens , W Identity , Flashback <CARD_NAME> <name> <MANA_COST> {4} {W} <TYPE_LINE> Sorcery <ORACLE_TEXT> Create a 1 1 white Human creature token for each creature you control . \\\\n Flashback {8} {W} {W} . This spell costs {X} less to cast this way , where X is the greatest mana value of a commander you own on the battlefield or in the command zone . ( You may cast this card from your graveyard for its flashback cost . Then',\n",
       "  'generated_text': ' <THEMES> Human Tokens , W Color , Creature Based , Sorcery , {4} {W} Cost , Tokens , W Identity , Flashback <CARD_NAME> <name> <MANA_COST> {4} {W} <TYPE_LINE> Sorcery <ORACLE_TEXT> Create a 1 1 white Human creature token for each creature you control . \\\\n Flashback {8} {W} {W} . This spell costs {X} less to cast this way , where X is the greatest mana value of a commander you own on the battlefield or in the command zone . ( You may cast this card from your graveyard for its flashback cost . Then exile it . ) '},\n",
       " {'index': 82397,\n",
       "  'prompt': '<|endoftext|> <THEMES> Creature , Morph , Elemental , Flying , U Identity , {4} {U} {U} Cost , Creature Based , U Color , Turned Face Up <CARD_NAME> <name> <MANA_COST> {4} {U} {U} <TYPE_LINE> Creature — Elemental <ORACLE_TEXT> Flying \\\\n Morph {5} {U} {U} ( You may cast this card',\n",
       "  'generated_text': \" <THEMES> Creature , Morph , Elemental , Flying , U Identity , {4} {U} {U} Cost , Creature Based , U Color , Turned Face Up <CARD_NAME> <name> <MANA_COST> {4} {U} {U} <TYPE_LINE> Creature — Elemental <ORACLE_TEXT> Flying \\\\n Morph {5} {U} {U} ( You may cast this card face down as a 2 2 creature for {3} . Turn it face up any time for its morph cost . ) \\\\ is face-down creature face Up , you may pair this face without paying its megamorph cost reduced by a creature on the battlefield face reduced after this . If you do , it becomes a 1 1 counter that creature gains flying . ( If this creature would be turned face creature is turned Turn that's another creature , instead . When this ability , exile it and it returns to its owner's hand . Otherwise , that card returns it into\"},\n",
       " {'index': 81070,\n",
       "  'prompt': '<|endoftext|> <THEMES> Creature , Attacking , R Color , Trample , Warrior , Creature Based , Goblin , R Identity , {2} {R} Cost <CARD_NAME> <name> <MANA_COST>',\n",
       "  'generated_text': ' <THEMES> Creature , Attacking , R Color , Trample , Warrior , Creature Based , Goblin , R Identity , {2} {R} Cost <CARD_NAME> <name> <MANA_COST> {5}}2TYPE_LINE> Snow Creature — Goblin Warrior <ORACLE_TEXT> Whenever <POWER> 2 <TOUGHNESS> 1 '},\n",
       " {'index': 116057,\n",
       "  'prompt': '<|endoftext|> <THEMES> Indestructible , Haste , G Identity , G Color , Creature Based , Sorcery , Reach , {2} {G} Cost <CARD_NAME> <name> <MANA_COST>',\n",
       "  'generated_text': \" <THEMES> Indestructible , Haste , G Identity , G Color , Creature Based , Sorcery , Reach , {2} {G} Cost <CARD_NAME> <name> <MANA_COST> {5}} 1 <TYPE_LINE> Sorcery <ORACLE_TEXT> Look at the top four cards of your library . You may reveal a creature or land card from among them and put it into your hand . Put the rest on the bottom of the library in a random order . That creature gains reach , hexproof , reach and haste until end of turn . Then if you control a land with reach counter on it's still a Cave , and it gains haste . ( It can block creatures with flying and {T} : Add {C} . ) \"},\n",
       " {'index': 112945,\n",
       "  'prompt': '<|endoftext|> <THEMES> Cascade , BRU Identity , Creature , {2} {U} {B} {R} Cost , BRU Color , Trample , Warrior , Astartes , Legendary <CARD_NAME> <name> <MANA_COST> {2} {U} {B} {R} <TYPE_LINE> Legendary Creature — Astartes Warrior <ORACLE_TEXT> Trample \\\\n Mark of Chaos Ascendant — During your turn , spells',\n",
       "  'generated_text': \" <THEMES> Cascade , BRU Identity , Creature , {2} {U} {B} {R} Cost , BRU Color , Trample , Warrior , Astartes , Legendary <CARD_NAME> <name> <MANA_COST> {2} {U} {B} {R} <TYPE_LINE> Legendary Creature — Astartes Warrior <ORACLE_TEXT> Trample \\\\n Mark of Chaos Ascendant — During your turn , spells you cast from the top of your library , you may cast an instant or sorcery spell from among the revealed . \\\\ The top each turn costs {1} less to cast with mana cost {X} more to cascade . ( When you exile a nonland card with you've cast it , exile cards from exile an additional time you own from your hand . You may play it without paying its mana value X or put it into your graveyard . Put the exiled cards on the bottom in a random order . ) \\\\ \\\\ shuffle your choice of the game , double strike ,\"},\n",
       " {'index': 47400,\n",
       "  'prompt': '<|endoftext|> <THEMES> Scout , Creature , Human , Mounts , W Color , Creature Based , {1} {W} Cost , W Identity <CARD_NAME> <name> <MANA_COST> {1} {W} <TYPE_LINE> Creature — Human Scout <ORACLE_TEXT> When <name> enters , look at the top five cards of your library . You may reveal a Mount creature card or a Plains card from among them and put it into your hand . Put',\n",
       "  'generated_text': \" <THEMES> Scout , Creature , Human , Mounts , W Color , Creature Based , {1} {W} Cost , W Identity <CARD_NAME> <name> <MANA_COST> {1} {W} <TYPE_LINE> Creature — Human Scout <ORACLE_TEXT> When <name> enters , look at the top five cards of your library . You may reveal a Mount creature card or a Plains card from among them and put it into your hand . Put the rest on the bottom of each of those cards on top of you reveal in any order . \\\\n {T} : Add {C} or {G} . If you revealed a creature you control a Rabbit creature named Mox Ruby into a Case , it perpetually gains This creature gets 1 1 . Activate only as a sorcery . ( It's an enchantment . ) <POWER> 1 <TOUGHNESS> 2 \"},\n",
       " {'index': 75674,\n",
       "  'prompt': '<|endoftext|> <THEMES> G Identity , Enchantment , G Color , Creature Based , {2} {G} {G} Cost , Dies <CARD_NAME> <name> <MANA_COST> {2} {G} {G} <TYPE_LINE> Enchantment <ORACLE_TEXT> Whenever a creature you control dies , you may pay {1} . If you do , reveal cards from the',\n",
       "  'generated_text': \" <THEMES> G Identity , Enchantment , G Color , Creature Based , {2} {G} {G} Cost , Dies <CARD_NAME> <name> <MANA_COST> {2} {G} {G} <TYPE_LINE> Enchantment <ORACLE_TEXT> Whenever a creature you control dies , you may pay {1} . If you do , reveal cards from the top of your library until you reveal a Dinosaur creature card . Put that card onto the battlefield and put that creature into your hand . Otherwise , put it into its owner's a random order . \\\\n Whenever you put a land card from your graveyard from <POWER> 3 <TOUGHNESS> 2 \"},\n",
       " {'index': 25203,\n",
       "  'prompt': \"<|endoftext|> <THEMES> Creature , Skulk , U Identity , Creature Based , {1} {U} Cost , U Color , Spirit <CARD_NAME> <name> <MANA_COST> {1} {U} <TYPE_LINE> Creature — Spirit <ORACLE_TEXT> Skulk ( This creature can't be blocked by creatures with greater\",\n",
       "  'generated_text': \" <THEMES> Creature , Skulk , U Identity , Creature Based , {1} {U} Cost , U Color , Spirit <CARD_NAME> <name> <MANA_COST> {1} {U} <TYPE_LINE> Creature — Spirit <ORACLE_TEXT> Skulk ( This creature can't be blocked by creatures with greater power . ) \\\\n Skulk \\\\ \\\\ <POWER> 1 <TOUGHNESS> 2 \"},\n",
       " {'index': 92349,\n",
       "  'prompt': \"<|endoftext|> <THEMES> N Identity , Creature , Golem , Artifact , {4} Cost , N Color <CARD_NAME> <name> <MANA_COST> {4} <TYPE_LINE> Artifact Creature — Golem <ORACLE_TEXT> At the beginning of your end step , <name> phases out . ( While it's phased out , it's treated as though it doesn't exist . It phases in before you untap during your next untap step . ) <POWER> 3 <TOUGHNESS>\",\n",
       "  'generated_text': \" <THEMES> N Identity , Creature , Golem , Artifact , {4} Cost , N Color <CARD_NAME> <name> <MANA_COST> {4} <TYPE_LINE> Artifact Creature — Golem <ORACLE_TEXT> At the beginning of your end step , <name> phases out . ( While it's phased out , it's treated as though it doesn't exist . It phases in before you untap during your next untap step . ) <POWER> 3 <TOUGHNESS> 2 \"},\n",
       " {'index': 9116,\n",
       "  'prompt': '<|endoftext|> <THEMES> B Identity , Sacrifice , Creature Based , {1} {B} Cost , B Color , Sorcery , Flashback <CARD_NAME> <name> <MANA_COST> {1} {B} <TYPE_LINE> Sorcery <ORACLE_TEXT> Target player sacrifices a creature of their choice . \\\\n Flashback {5} {B} {B} ( You may cast this card from your graveyard for its flashback cost . Then exile it . )',\n",
       "  'generated_text': \" <THEMES> B Identity , Sacrifice , Creature Based , {1} {B} Cost , B Color , Sorcery , Flashback <CARD_NAME> <name> <MANA_COST> {1} {B} <TYPE_LINE> Sorcery <ORACLE_TEXT> Target player sacrifices a creature of their choice . \\\\n Flashback {5} {B} {B} ( You may cast this card from your graveyard for its flashback cost . Then exile it . ) \\\\ \\\\ Zombie creature card . If you do , cast it for each card exiled with it , put it into your hand . ( To flashback , exile cards from the top of your library until you exile a card that costs less . You can cast that card without paying its mana cost or put the exiled cards on a random . Flashback — Put the bottom in a later turn without its escape cost on the battlefield . The flashback can't cast a permanent card on their owner's a nonland card , except it's an instant or\"},\n",
       " {'index': 6006,\n",
       "  'prompt': '<|endoftext|> <THEMES> Aura , Enchantment , W Color , Creature Based , Equipment , {1} {W} Cost , W Identity <CARD_NAME> <name> <MANA_COST> {1} {W} <TYPE_LINE> Enchantment — Aura',\n",
       "  'generated_text': ' <THEMES> Aura , Enchantment , W Color , Creature Based , Equipment , {1} {W} Cost , W Identity <CARD_NAME> <name> <MANA_COST> {1} {W} <TYPE_LINE> Enchantment — Aura <ORACLE_TEXT> Enchant creature \\\\n Enchanted creature gets 2 2 . \\\\ Equip {2} ( {3} : Attach to target creature you control . Equip only as a sorcery . ) '},\n",
       " {'index': 86673,\n",
       "  'prompt': '<|endoftext|> <THEMES> BRW Identity , {1} {R} {W} {B} Cost , Damage , Creature , Attacking , Haste , BRW Color , Soldier , Sacrifice , Human , Creature Based , Legendary , Tokens , Soldier Tokens , Card Draw <CARD_NAME> <name> <MANA_COST> {1} {R} {W} {B} <TYPE_LINE> Legendary Creature — Human Soldier <ORACLE_TEXT> Whenever you attack , you may sacrifice another creature . When you do , choose two — \\\\n Create two 1 1 red and white Soldier creature tokens with haste that are tapped and attacking . \\\\n You draw a card and you lose 1 life . \\\\n <name> deals damage equal to the number of creature tokens you control to target opponent .',\n",
       "  'generated_text': ' <THEMES> BRW Identity , {1} {R} {W} {B} Cost , Damage , Creature , Attacking , Haste , BRW Color , Soldier , Sacrifice , Human , Creature Based , Legendary , Tokens , Soldier Tokens , Card Draw <CARD_NAME> <name> <MANA_COST> {1} {R} {W} {B} <TYPE_LINE> Legendary Creature — Human Soldier <ORACLE_TEXT> Whenever you attack , you may sacrifice another creature . When you do , choose two — \\\\n Create two 1 1 red and white Soldier creature tokens with haste that are tapped and attacking . \\\\n You draw a card and you lose 1 life . \\\\n <name> deals damage equal to the number of creature tokens you control to target opponent . Each opponent sacrifices a planeswalker they control of them . It gains haste until end of turn . Sacrifice it at the beginning of the next end step . <POWER> 2 <TOUGHNESS> 3 '},\n",
       " {'index': 29871,\n",
       "  'prompt': '<|endoftext|> <THEMES> RW Identity , Aura , Creature , {1} {R} {W} Cost , Trample , Human , Knight , Equipment , RW Color <CARD_NAME> <name> <MANA_COST> {1} {R} {W} <TYPE_LINE> Creature — Human Knight <ORACLE_TEXT> Trample \\\\n Whenever you cast an Aura or Equipment spell , exile the top card of your library . You may play that card until the end of your next turn . <POWER> 3',\n",
       "  'generated_text': ' <THEMES> RW Identity , Aura , Creature , {1} {R} {W} Cost , Trample , Human , Knight , Equipment , RW Color <CARD_NAME> <name> <MANA_COST> {1} {R} {W} <TYPE_LINE> Creature — Human Knight <ORACLE_TEXT> Trample \\\\n Whenever you cast an Aura or Equipment spell , exile the top card of your library . You may play that card until the end of your next turn . <POWER> 3 <TOUGHNESS> 2 '},\n",
       " {'index': 101327,\n",
       "  'prompt': \"<|endoftext|> <THEMES> Wall , Creature , Morph , U Identity , Defender , U Color , {1} {U} Cost <CARD_NAME> <name> <MANA_COST> {1} {U} <TYPE_LINE> Creature — Wall <ORACLE_TEXT> Defender ( This creature can't attack . ) \\\\n {3} : Turn <name> face down . \\\\n Morph {U} ( You may cast this card face down as a 2 2 creature for {3} . Turn it face up any time for its morph cost . ) <POWER> 0 <TOUGHNESS> 5\",\n",
       "  'generated_text': \" <THEMES> Wall , Creature , Morph , U Identity , Defender , U Color , {1} {U} Cost <CARD_NAME> <name> <MANA_COST> {1} {U} <TYPE_LINE> Creature — Wall <ORACLE_TEXT> Defender ( This creature can't attack . ) \\\\n {3} : Turn <name> face down . \\\\n Morph {U} ( You may cast this card face down as a 2 2 creature for {3} . Turn it face up any time for its morph cost . ) <POWER> 0 <TOUGHNESS> 5 \"},\n",
       " {'index': 37930,\n",
       "  'prompt': \"<|endoftext|> <THEMES> {2} {W} Cost , Creature , Flying , UW Identity , W Color , Spirit <CARD_NAME> <name> <MANA_COST> {2} {W} <TYPE_LINE> Creature — Spirit <ORACLE_TEXT> Flying \\\\n {1} {U} : Return target Spirit you control to its owner's hand . <POWER> 2 <TOUGHNESS> 2\",\n",
       "  'generated_text': \" <THEMES> {2} {W} Cost , Creature , Flying , UW Identity , W Color , Spirit <CARD_NAME> <name> <MANA_COST> {2} {W} <TYPE_LINE> Creature — Spirit <ORACLE_TEXT> Flying \\\\n {1} {U} : Return target Spirit you control to its owner's hand . <POWER> 2 <TOUGHNESS> 2 \"},\n",
       " {'index': 129134,\n",
       "  'prompt': \"<|endoftext|> <THEMES> Landfall , Creature , {R} {G} Cost , Haste , GR Color , Elemental , Creature Based , GR Identity , Unblockable <CARD_NAME> <name> <MANA_COST> {R} {G} <TYPE_LINE> Creature — Elemental <ORACLE_TEXT> Haste \\\\n <name> can't be blocked by creatures with power 2 or less . \\\\n Landfall —\",\n",
       "  'generated_text': \" <THEMES> Landfall , Creature , {R} {G} Cost , Haste , GR Color , Elemental , Creature Based , GR Identity , Unblockable <CARD_NAME> <name> <MANA_COST> {R} {G} <TYPE_LINE> Creature — Elemental <ORACLE_TEXT> Haste \\\\n <name> can't be blocked by creatures with power 2 or less . \\\\n Landfall — Whenever a land you control enters , <POWER> 2 <TOUGHNESS> 1 \"},\n",
       " {'index': 10458,\n",
       "  'prompt': '<|endoftext|> <THEMES> Damage , Creature , R Color , Goblin , R Identity , {R} Cost <CARD_NAME>',\n",
       "  'generated_text': ' <THEMES> Damage , Creature , R Color , Goblin , R Identity , {R} Cost <CARD_NAME> <name> {0} <TYPE_LINE> Creature — Goblin <ORACLE_TEXT> Whenever <POWER> 1 <TOUGHNESS> 2 '},\n",
       " {'index': 112108,\n",
       "  'prompt': '<|endoftext|> <THEMES> {2} {U} {U} Cost , Creature , Enchantment , Soldier , U Identity , Merfolk , U Color <CARD_NAME> <name> <MANA_COST> {2} {U}',\n",
       "  'generated_text': ' <THEMES> {2} {U} {U} Cost , Creature , Enchantment , Soldier , U Identity , Merfolk , U Color <CARD_NAME> <name> <MANA_COST> {2} {U}} less Enchantment Creature — Merfolk Soldier <ORACLE_TEXT> Whenever an Island you control becomes tapped , <POWER> 2 <TOUGHNESS> 4 '},\n",
       " {'index': 30512,\n",
       "  'prompt': '<|endoftext|> <THEMES> Creature , Flash , GU Color , Flying , Snake , GU Identity , Deathtouch , {1} {G} {U} Cost <CARD_NAME> <name> <MANA_COST> {1} {G} {U} <TYPE_LINE> Creature — Snake <ORACLE_TEXT> Flash ( You may cast this spell any time you could cast an instant . ) \\\\n Flying \\\\n Deathtouch ( Any amount of damage this',\n",
       "  'generated_text': ' <THEMES> Creature , Flash , GU Color , Flying , Snake , GU Identity , Deathtouch , {1} {G} {U} Cost <CARD_NAME> <name> <MANA_COST> {1} {G} {U} <TYPE_LINE> Creature — Snake <ORACLE_TEXT> Flash ( You may cast this spell any time you could cast an instant . ) \\\\n Flying \\\\n Deathtouch ( Any amount of damage this deals to a creature is enough to destroy it . Any player with deathtouch deals both first-strike and or deathtouch . Damage dealt by this creature also causes loss of life . A creature with lifelink also triggers only destroy that creature . {2} in the targets of permanents with flying also get a poison counter . If a source with ten or more poison counters would be dealt to you , prevent all but not named <POWER> 2 <TOUGHNESS> 1 '},\n",
       " {'index': 113571,\n",
       "  'prompt': '<|endoftext|> <THEMES> Vigilance , Creature , {2} {W} {W} Cost , Flying , W Color , Creature Based , Angel , Lieutenant , W Identity <CARD_NAME> <name> <MANA_COST> {2} {W} {W} <TYPE_LINE>',\n",
       "  'generated_text': \" <THEMES> Vigilance , Creature , {2} {W} {W} Cost , Flying , W Color , Creature Based , Angel , Lieutenant , W Identity <CARD_NAME> <name> <MANA_COST> {2} {W} {W} <TYPE_LINE> Creature — Angel <ORACLE_TEXT> Flying \\\\n Lieutenant — As long as you control your commander , you may tap two untapped creatures you don't control with different powers . \\\\ \\\\ Efreet creatures with flying have vigilance . <POWER> 2 <TOUGHNESS> 4 \"},\n",
       " {'index': 13238,\n",
       "  'prompt': '<|endoftext|> <THEMES> N Identity , {1} Cost , Creature , Construct , Artifact , Upkeep , N Color <CARD_NAME> <name> <MANA_COST> {1} <TYPE_LINE> Artifact Creature — Construct <ORACLE_TEXT>',\n",
       "  'generated_text': \" <THEMES> N Identity , {1} Cost , Creature , Construct , Artifact , Upkeep , N Color <CARD_NAME> <name> <MANA_COST> {1} <TYPE_LINE> Artifact Creature — Construct <ORACLE_TEXT> At the beginning of your upkeep , if you control ten or more permanents , you may put a card from your hand onto the battlefield . If you do , put it into its owner's graveyard . <POWER> 1 <TOUGHNESS> 3 \"},\n",
       " {'index': 49823,\n",
       "  'prompt': '<|endoftext|> <THEMES> N Identity , Land , Cost , Creature Based , Unblockable , N Color <CARD_NAME> <name> <MANA_COST> <TYPE_LINE> Land <ORACLE_TEXT> {T} : Add {C} . \\\\n {4} , {T} : Target',\n",
       "  'generated_text': \" <THEMES> N Identity , Land , Cost , Creature Based , Unblockable , N Color <CARD_NAME> <name> <MANA_COST> <TYPE_LINE> Land <ORACLE_TEXT> {T} : Add {C} . \\\\n {4} , {T} : Target creature with power 2 or less can't be blocked this turn . If that creature is blue , that would be dealt damage , prevent all damage by that permanent this creature's controller instead . \"},\n",
       " {'index': 36434,\n",
       "  'prompt': '<|endoftext|> <THEMES> Damage , Creature , G Identity , Ogre , A Counters , {1} {G} {G} Cost , Samurai , G Color , Equipment , Combat Damage , Legendary , Card Draw <CARD_NAME> <name> <MANA_COST> {1} {G} {G} <TYPE_LINE> Legendary Creature — Ogre Samurai <ORACLE_TEXT> As long as <name> is enchanted , equipped , and has',\n",
       "  'generated_text': \" <THEMES> Damage , Creature , G Identity , Ogre , A Counters , {1} {G} {G} Cost , Samurai , G Color , Equipment , Combat Damage , Legendary , Card Draw <CARD_NAME> <name> <MANA_COST> {1} {G} {G} <TYPE_LINE> Legendary Creature — Ogre Samurai <ORACLE_TEXT> As long as <name> is enchanted , equipped , and has a counter on it's a permanent , it has an indestructible counter from it . \\\\n Whenever <POWER> 3 <TOUGHNESS> 1 \"},\n",
       " {'index': 59429,\n",
       "  'prompt': '<|endoftext|> <THEMES> Kicker , {W} Cost , W Color , Creature Based , Instant , W Identity <CARD_NAME> <name> <MANA_COST> {W} <TYPE_LINE> Instant <ORACLE_TEXT> Kicker {2} {W} ( You may pay an additional {2} {W} as you cast this spell . ) \\\\n Target creature phases out . If this spell was kicked , each creature target player controls',\n",
       "  'generated_text': \" <THEMES> Kicker , {W} Cost , W Color , Creature Based , Instant , W Identity <CARD_NAME> <name> <MANA_COST> {W} <TYPE_LINE> Instant <ORACLE_TEXT> Kicker {2} {W} ( You may pay an additional {2} {W} as you cast this spell . ) \\\\n Target creature phases out . If this spell was kicked , each creature target player controls can't attack or block this turn if able . ( Treat it and anything they don't exist until your next turn . They can be turned face up to one mana of spells or abilities that creature can help cast before they're done activating mana abilities pays for {1} . Each of that permanent spell becomes black and abilities can block . A creature with it's color with a stun counter on it for as long as it remains exiled . \\\\ \"},\n",
       " {'index': 83320,\n",
       "  'prompt': \"<|endoftext|> <THEMES> Creature , Attacking , Camel , {W} Cost , W Color , Creature Based , Banding , Fog , W Identity <CARD_NAME> <name> <MANA_COST> {W} <TYPE_LINE> Creature — <name> <ORACLE_TEXT> Banding ( Any creatures with banding , and up to one without , can attack in a band . Bands are blocked as a group . If any creatures with banding you control are blocking or being blocked by a creature , you divide that creature's combat damage , not its controller , among any of the creatures it's being blocked by or is blocking . ) \\\\n As long as <name> is attacking , prevent\",\n",
       "  'generated_text': \" <THEMES> Creature , Attacking , Camel , {W} Cost , W Color , Creature Based , Banding , Fog , W Identity <CARD_NAME> <name> <MANA_COST> {W} <TYPE_LINE> Creature — <name> <ORACLE_TEXT> Banding ( Any creatures with banding , and up to one without , can attack in a band . Bands are blocked as a group . If any creatures with banding you control are blocking or being blocked by a creature , you divide that creature's combat damage , not its controller , among any of the creatures it's being blocked by or is blocking . ) \\\\n As long as <name> is attacking , prevent all damage that would be dealt by the creature would deal by creatures is blocked , remove a banding . \\\\> by <POWER> 1 <TOUGHNESS> 0 \"},\n",
       " {'index': 109328,\n",
       "  'prompt': '<|endoftext|> <THEMES> Creature , {1} {U} {U} Cost , Flying , U Identity , Creature Based , U Color , Undying , Spirit <CARD_NAME> <name> <MANA_COST> {1} {U} {U} <TYPE_LINE> Creature — Spirit <ORACLE_TEXT> Flying',\n",
       "  'generated_text': ' <THEMES> Creature , {1} {U} {U} Cost , Flying , U Identity , Creature Based , U Color , Undying , Spirit <CARD_NAME> <name> <MANA_COST> {1} {U} {U} <TYPE_LINE> Creature — Spirit <ORACLE_TEXT> Flying \\\\n Shadow ( This creature can block or be blocked by only creatures with shadow . ) \\\\ only block a creature with flying . \\\\ \\\\ When <POWER> 1 <TOUGHNESS> 3 '},\n",
       " {'index': 47819,\n",
       "  'prompt': '<|endoftext|> <THEMES> 1 1 Counters , Druid , Creature , {1} {G} Cost , G Identity , Evolve , G Color , Elf <CARD_NAME> <name> <MANA_COST> {1} {G} <TYPE_LINE> Creature — Elf Druid <ORACLE_TEXT> Evolve ( Whenever a creature you control enters , if that creature has greater power or toughness than this creature , put a 1 1 counter on this creature . ) \\\\n {T} : Add {G} for each 1 1 counter on <name> . <POWER> 1',\n",
       "  'generated_text': ' <THEMES> 1 1 Counters , Druid , Creature , {1} {G} Cost , G Identity , Evolve , G Color , Elf <CARD_NAME> <name> <MANA_COST> {1} {G} <TYPE_LINE> Creature — Elf Druid <ORACLE_TEXT> Evolve ( Whenever a creature you control enters , if that creature has greater power or toughness than this creature , put a 1 1 counter on this creature . ) \\\\n {T} : Add {G} for each 1 1 counter on <name> . <POWER> 1 <TOUGHNESS> 0 '},\n",
       " {'index': 21319,\n",
       "  'prompt': '<|endoftext|> <THEMES> Creature , Attacking , Pirate , Copy Tokens , {3} {U} Cost , Flying , U Identity , Encore , Human , Creature Based , U Color <CARD_NAME> <name> <MANA_COST> {3} {U} <TYPE_LINE> Creature — Human Pirate <ORACLE_TEXT> Flying \\\\n Whenever <name> attacks , another target creature attacking the same',\n",
       "  'generated_text': ' <THEMES> Creature , Attacking , Pirate , Copy Tokens , {3} {U} Cost , Flying , U Identity , Encore , Human , Creature Based , U Color <CARD_NAME> <name> <MANA_COST> {3} {U} <TYPE_LINE> Creature — Human Pirate <ORACLE_TEXT> Flying \\\\n Whenever <name> attacks , another target creature attacking the same player or planeswalker gains flying until end of turn . \\\\ Encore {2} , where X is <POWER> 2 <TOUGHNESS> 4 '},\n",
       " {'index': 48520,\n",
       "  'prompt': \"<|endoftext|> <THEMES> Aura , Enchantment , R Color , Sacrifice , Trample , {1} {R} Cost , Creature Based , R Identity , Upkeep <CARD_NAME> <name> <MANA_COST> {1} {R} <TYPE_LINE> Enchantment — Aura <ORACLE_TEXT> Enchant creature \\\\n Enchanted creature gets 3 2 and has trample . ( It can deal excess combat damage to the player or planeswalker it's attacking . ) \\\\n At the beginning of each upkeep , if a player cast\",\n",
       "  'generated_text': \" <THEMES> Aura , Enchantment , R Color , Sacrifice , Trample , {1} {R} Cost , Creature Based , R Identity , Upkeep <CARD_NAME> <name> <MANA_COST> {1} {R} <TYPE_LINE> Enchantment — Aura <ORACLE_TEXT> Enchant creature \\\\n Enchanted creature gets 3 2 and has trample . ( It can deal excess combat damage to the player or planeswalker it's attacking . ) \\\\n At the beginning of each upkeep , if a player cast a red spell , that player sacrifices a Mountain or red creature of their choice . This effect doesn't remove a Forest onto the battlefield with the number of Plains instead . If the chosen lands than you do , sacrifice <POWER> 2 <TOUGHNESS> 1 \"},\n",
       " {'index': 46566,\n",
       "  'prompt': \"<|endoftext|> <THEMES> {3} {G} {G} {G} Cost , Indestructible , Creature , Attacking , G Identity , Artifact Based , Enchantment Based , Ape , G Color , Creature Based , Fights , Legendary <CARD_NAME> <name> <MANA_COST> {3} {G} {G} {G} <TYPE_LINE> Legendary Creature — Ape <ORACLE_TEXT> When <name> enters , it fights up to one target creature you don't control . \\\\n Whenever <name> attacks , destroy target artifact or enchantment defending player controls . \\\\n {1} {G} : Return target Human you control to its owner's hand . <name> gains\",\n",
       "  'generated_text': \" <THEMES> {3} {G} {G} {G} Cost , Indestructible , Creature , Attacking , G Identity , Artifact Based , Enchantment Based , Ape , G Color , Creature Based , Fights , Legendary <CARD_NAME> <name> <MANA_COST> {3} {G} {G} {G} <TYPE_LINE> Legendary Creature — Ape <ORACLE_TEXT> When <name> enters , it fights up to one target creature you don't control . \\\\n Whenever <name> attacks , destroy target artifact or enchantment defending player controls . \\\\n {1} {G} : Return target Human you control to its owner's hand . <name> gains indestructible until end of turn . ( Damage and effects that say destroy don' next time counter can be destroyed this creature . ) \\\\ Counters that would be dealt to enchanted creature this turn , remove all damage from <POWER> 6 <TOUGHNESS> 3 \"},\n",
       " {'index': 27460,\n",
       "  'prompt': '<|endoftext|> <THEMES> B Identity , Vampire , Creature , Attacking , {4} {B} Cost , Flying , Sacrifice , Threshold , B Color , Reach , Dies <CARD_NAME> <name> <MANA_COST> {4} {B} <TYPE_LINE> Creature — Vampire <ORACLE_TEXT> Flying \\\\n Whenever <name> attacks or blocks',\n",
       "  'generated_text': ' <THEMES> B Identity , Vampire , Creature , Attacking , {4} {B} Cost , Flying , Sacrifice , Threshold , B Color , Reach , Dies <CARD_NAME> <name> <MANA_COST> {4} {B} <TYPE_LINE> Creature — Vampire <ORACLE_TEXT> Flying \\\\n Whenever <name> attacks or blocks , you may sacrifice it . If you do , it gets 2 2 and gains flying until end of turn . \\\\ Threshold — As long as seven or more cards are in your graveyard , <POWER> 3 <TOUGHNESS> 2 '},\n",
       " {'index': 87841,\n",
       "  'prompt': '<|endoftext|> <THEMES> 1 1 Counters , Drake , {5} {U} Cost , Creature , Flying , U Identity , Creature Based , U Color <CARD_NAME> <name> <MANA_COST> {5}',\n",
       "  'generated_text': ' <THEMES> 1 1 Counters , Drake , {5} {U} Cost , Creature , Flying , U Identity , Creature Based , U Color <CARD_NAME> <name> <MANA_COST> {5}} <TYPE_LINE> Creature — Drake <ORACLE_TEXT> Flying \\\\n <POWER> 6 <TOUGHNESS> 4 '},\n",
       " {'index': 34993,\n",
       "  'prompt': '<|endoftext|> <THEMES> Creature , {1} {R} {R} Cost , R Color , Warrior , Goblin , R Identity , Intimidate',\n",
       "  'generated_text': \" <THEMES> Creature , {1} {R} {R} Cost , R Color , Warrior , Goblin , R Identity , Intimidate <CARD_NAME> <name> , mountainwalk <MANA_COST> {4}} less Warrior <ORACLE_TEXT> Intimidate ( This creature can't be blocked except by artifact creatures and or creatures that share a color with it . ) \\\\n Intimidate can block this creature each of permanents that's color . <POWER> 1 <TOUGHNESS> 2 \"},\n",
       " {'index': 91988,\n",
       "  'prompt': '<|endoftext|> <THEMES> 1 1 Counters , Kicker , G Identity , Tutor , G Color , Creature Based , Sorcery , {3} {G} Cost <CARD_NAME> <name> <MANA_COST> {3} {G} <TYPE_LINE> Sorcery <ORACLE_TEXT> Kicker {4} ( You may pay an additional {4} as you cast this spell . ) \\\\n Search your library for up to two basic land cards , put them onto the battlefield tapped , then shuffle . If this spell was kicked , put two 1 1 counters on each',\n",
       "  'generated_text': \" <THEMES> 1 1 Counters , Kicker , G Identity , Tutor , G Color , Creature Based , Sorcery , {3} {G} Cost <CARD_NAME> <name> <MANA_COST> {3} {G} <TYPE_LINE> Sorcery <ORACLE_TEXT> Kicker {4} ( You may pay an additional {4} as you cast this spell . ) \\\\n Search your library for up to two basic land cards , put them onto the battlefield tapped , then shuffle . If this spell was kicked , put two 1 1 counters on each creature you control . \\\\ \\\\ Search Search their library and or graveyard for a basic Forest card , reveal it into your hand , hand . Put two land card from the rest into their hand and the other into two cards named Nissa , the top of your graveyard . Then shuffle and put the same name as that card into its owner's graveyard , instead . \"},\n",
       " {'index': 122769,\n",
       "  'prompt': '<|endoftext|> <THEMES> RW Identity , Tutor , {1} {R} {W} Cost , Trample , Creature Based , Artifact , Equipment , RW Color <CARD_NAME> <name> <MANA_COST> {1} {R} {W} <TYPE_LINE> Artifact — Equipment <ORACLE_TEXT> When <name> enters , you may search your library and or graveyard for a card named Eivor , Battle-Ready , reveal it , and put',\n",
       "  'generated_text': ' <THEMES> RW Identity , Tutor , {1} {R} {W} Cost , Trample , Creature Based , Artifact , Equipment , RW Color <CARD_NAME> <name> <MANA_COST> {1} {R} {W} <TYPE_LINE> Artifact — Equipment <ORACLE_TEXT> When <name> enters , you may search your library and or graveyard for a card named Eivor , Battle-Ready , reveal it , and put it into your hand . If you search search outside the game , shuffle and shuffle . \\\\n Equipped creature gets 2 1 and you control get two-time boon with At the beginning of your end step , draw a legendary white Survivor — At this artifact enters tapped , then shuffle it back in your graveyard . '},\n",
       " {'index': 89593,\n",
       "  'prompt': '<|endoftext|> <THEMES> Counterspell , Processor , Creature , Flash , Devoid , {2} {U} {B} Cost , Flying , BU Identity , Eldrazi , N Color <CARD_NAME> <name> <MANA_COST> {2} {U} {B} <TYPE_LINE> Creature — Eldrazi Processor <ORACLE_TEXT> Devoid ( This card has no color . ) \\\\n Flash \\\\n Flying \\\\n When <name> enters , you may put two cards your opponents own from exile',\n",
       "  'generated_text': \" <THEMES> Counterspell , Processor , Creature , Flash , Devoid , {2} {U} {B} Cost , Flying , BU Identity , Eldrazi , N Color <CARD_NAME> <name> <MANA_COST> {2} {U} {B} <TYPE_LINE> Creature — Eldrazi Processor <ORACLE_TEXT> Devoid ( This card has no color . ) \\\\n Flash \\\\n Flying \\\\n When <name> enters , you may put two cards your opponents own from exile into that player's graveyard . If you do , that opponent exiles the top four cards of their library into their graveyard , then put a card into your graveyard with a graveyard that card from among the rest into a player' graveyards . \\\\ \\\\ If a spell or ability an opponent controls causes you to discard one or more permanents you control to trigger , counter that spell and each opponent loses 1 life loses the game . <POWER> 3 <TOUGHNESS> 4 \"},\n",
       " {'index': 84939,\n",
       "  'prompt': '<|endoftext|> <THEMES> RW Identity , Creature , {W} Cost , Human , W Color , Creature Based , Detective <CARD_NAME> <name> <MANA_COST> {W} <TYPE_LINE> Creature — Human Detective <ORACLE_TEXT> When you attack with three or more creatures , conjure a card named Mox Ruby into your hand . This ability triggers only once . \\\\n {1} {R} : Creatures you control get 1 0 until end of turn . <POWER> 1 <TOUGHNESS> 1 <|endoftext|>',\n",
       "  'generated_text': \" <THEMES> RW Identity , Creature , {W} Cost , Human , W Color , Creature Based , Detective <CARD_NAME> <name> <MANA_COST> {W} <TYPE_LINE> Creature — Human Detective <ORACLE_TEXT> When you attack with three or more creatures , conjure a card named Mox Ruby into your hand . This ability triggers only once . \\\\n {1} {R} : Creatures you control get 1 0 until end of turn . <POWER> 1 <TOUGHNESS> 1  1TOUGHNESS>'sTOUGHNESSn 2  only if you've committed a  Manifest a 2 ( To manifest dread , look at the top two cards of the first-down pile into the dungeon , reveal the looks at random from the rest of your library , then put any number of them into their hand , both of those cards on the bottom and the other into two piles . Put the card on top of their library in any order . ) <LOYALTY> 2\"},\n",
       " {'index': 9358,\n",
       "  'prompt': '<|endoftext|> <THEMES> Damage , Creature , R Color , Human , Nomad , R Identity , Echo , {2} {R} Cost <CARD_NAME> <name> <MANA_COST> {2} {R} <TYPE_LINE> Creature — Human Nomad <ORACLE_TEXT> Echo {2} {R} ( At the',\n",
       "  'generated_text': ' <THEMES> Damage , Creature , R Color , Human , Nomad , R Identity , Echo , {2} {R} Cost <CARD_NAME> <name> <MANA_COST> {2} {R} <TYPE_LINE> Creature — Human Nomad <ORACLE_TEXT> Echo {2} {R} ( At the beginning of your upkeep , if this came under your control since the last upkeep and sacrifice it unless you pay its echo cost for each age counter on it . ) \\\\n When <POWER> 2 <TOUGHNESS> 1 '},\n",
       " {'index': 79840,\n",
       "  'prompt': '<|endoftext|> <THEMES> B Identity , Creature , Shaman , Creature Based , B Color , Regenerate , Goblin , {2} {B} Cost <CARD_NAME> <name> <MANA_COST> {2} {B} <TYPE_LINE> Creature — Goblin Shaman <ORACLE_TEXT>',\n",
       "  'generated_text': ' <THEMES> B Identity , Creature , Shaman , Creature Based , B Color , Regenerate , Goblin , {2} {B} Cost <CARD_NAME> <name> <MANA_COST> {2} {B} <TYPE_LINE> Creature — Goblin Shaman <ORACLE_TEXT> Whenever you cast a creature spell that targets a red creature , destroy that creature . <POWER> 2 <TOUGHNESS> 1 '},\n",
       " {'index': 83227,\n",
       "  'prompt': '<|endoftext|> <THEMES> B Identity , Proliferate , Creature Based , B Color , {2} {B} Cost , Instant , -1 -1 Counters <CARD_NAME> <name> <MANA_COST> {2} {B} <TYPE_LINE> Instant <ORACLE_TEXT> Put a -1 -1 counter on target creature , then proliferate . ( Choose any number of permanents and or players , then give each another counter of each kind already there . ) <|endoftext|>',\n",
       "  'generated_text': ' <THEMES> B Identity , Proliferate , Creature Based , B Color , {2} {B} Cost , Instant , -1 -1 Counters <CARD_NAME> <name> <MANA_COST> {2} {B} <TYPE_LINE> Instant <ORACLE_TEXT> Put a -1 -1 counter on target creature , then proliferate . ( Choose any number of permanents and or players , then give each another counter of each kind already there . )  . If a creature with a stun counter would die , remove one or more -0 -2 -X - counters from it instead . Proliferate . Each clashing player gets an additional -3 -4 -5 until your next turn instead proliferate , proliferate again for each of those creatures gets -6 -13 - twice each one of them . A Counters , where X is the number plus the greatest power among permanents you control with another one stun counters on it this way .  Time Travel , exile this turn . Those'},\n",
       " {'index': 22431,\n",
       "  'prompt': '<|endoftext|> <THEMES> {3} {U} Cost , Enchantment , U Identity , Sacrifice , Creature Based , U Color , Upkeep <CARD_NAME> <name> <MANA_COST> {3} {U} <TYPE_LINE> Enchantment <ORACLE_TEXT> All creatures have At',\n",
       "  'generated_text': ' <THEMES> {3} {U} Cost , Enchantment , U Identity , Sacrifice , Creature Based , U Color , Upkeep <CARD_NAME> <name> <MANA_COST> {3} {U} <TYPE_LINE> Enchantment <ORACLE_TEXT> All creatures have At the beginning of your upkeep , sacrifice this permanent unless you pay its upkeep cost for each age counter on it . \\\\n All damage that would be dealt to you by a creature this turn by creatures of that shares a color with another creature type with a basic land type , remove all of the chosen type from that type instead . '},\n",
       " {'index': 70010,\n",
       "  'prompt': '<|endoftext|> <THEMES> Creature , Attacking , {1} {G} Cost , G Identity , Human , Warrior , G Color , Creature Based , Deathtouch , Ferocious <CARD_NAME> <name> <MANA_COST> {1} {G} <TYPE_LINE> Creature — Human Warrior <ORACLE_TEXT> Deathtouch \\\\n Ferocious — Whenever <name> attacks , if you control a creature with power 4 or greater , <name> gets 1 1 until end',\n",
       "  'generated_text': \" <THEMES> Creature , Attacking , {1} {G} Cost , G Identity , Human , Warrior , G Color , Creature Based , Deathtouch , Ferocious <CARD_NAME> <name> <MANA_COST> {1} {G} <TYPE_LINE> Creature — Human Warrior <ORACLE_TEXT> Deathtouch \\\\n Ferocious — Whenever <name> attacks , if you control a creature with power 4 or greater , <name> gets 1 1 until end of turn . \\\\ \\\\ Ferocious , target creature you may have deathtouch until your next turn if that creature is 4 4 . ( Any amount of damage that would be dealt to a player is enough to destroy it this turn instead if it's attacking that player or blocking it has a shield counter . ) <POWER> 1 <TOUGHNESS> 2 \"},\n",
       " {'index': 95568,\n",
       "  'prompt': '<|endoftext|> <THEMES> BRU Identity , Creature , Alien , {1} {U} {B} {R} Cost , Artifact Based , BRU Color , Scientist , Creature Based , Artifact , Menace , Dalek Tokens , Tokens , Legendary , Card Draw <CARD_NAME> <name> <MANA_COST> {1} {U} {B} {R} <TYPE_LINE> Legendary Artifact Creature — Alien Scientist <ORACLE_TEXT> Menace \\\\n At the beginning of your end step , create a 3 3 black Dalek artifact creature token with menace if an opponent lost 3 or more life this turn . Then each opponent who lost 3 or more life this turn faces a',\n",
       "  'generated_text': ' <THEMES> BRU Identity , Creature , Alien , {1} {U} {B} {R} Cost , Artifact Based , BRU Color , Scientist , Creature Based , Artifact , Menace , Dalek Tokens , Tokens , Legendary , Card Draw <CARD_NAME> <name> <MANA_COST> {1} {U} {B} {R} <TYPE_LINE> Legendary Artifact Creature — Alien Scientist <ORACLE_TEXT> Menace \\\\n At the beginning of your end step , create a 3 3 black Dalek artifact creature token with menace if an opponent lost 3 or more life this turn . Then each opponent who lost 3 or more life this turn faces a villainous choice eight or fewer artifacts , choose an artifact , a creature , then you create two 1 1 black menace . \\\\ \\\\ 1 colorless Dalek , menace , and menace that player discards a card . For each nontoken artifact card with the highest mana value among cards in their hand , you draw a crime . ( Targeting opponents ,'},\n",
       " {'index': 32087,\n",
       "  'prompt': \"<|endoftext|> <THEMES> {1} {R} {G} Cost , Creature , GR Color , Free Spells , Human , Wizard , GR Identity , Legendary <CARD_NAME> <name> <MANA_COST> {1} {R} {G} <TYPE_LINE> Legendary Creature — Human Wizard <ORACLE_TEXT> Starting intensity 1 \\\\n At the beginning of combat on your turn , you may cast a spell with mana value equal to <name>'s intensity from your\",\n",
       "  'generated_text': \" <THEMES> {1} {R} {G} Cost , Creature , GR Color , Free Spells , Human , Wizard , GR Identity , Legendary <CARD_NAME> <name> <MANA_COST> {1} {R} {G} <TYPE_LINE> Legendary Creature — Human Wizard <ORACLE_TEXT> Starting intensity 1 \\\\n At the beginning of combat on your turn , you may cast a spell with mana value equal to <name>'s intensity from your hand with an art sticker on it equal or equal X is the number of flame counters on <POWER> 3 <TOUGHNESS> 2 \"},\n",
       " {'index': 21417,\n",
       "  'prompt': '<|endoftext|> <THEMES> 1 1 Counters , Ajani , Aura , Planeswalker , Lifegain , GW Color , GW Identity , Creature Based , {3} {G} {W} Cost , Legendary <CARD_NAME> <name> <MANA_COST> {3} {G} {W} <TYPE_LINE> Legendary Planeswalker — <name> <ORACLE_TEXT> 1 : Distribute three',\n",
       "  'generated_text': ' <THEMES> 1 1 Counters , Ajani , Aura , Planeswalker , Lifegain , GW Color , GW Identity , Creature Based , {3} {G} {W} Cost , Legendary <CARD_NAME> <name> <MANA_COST> {3} {G} {W} <TYPE_LINE> Legendary Planeswalker — <name> <ORACLE_TEXT> 1 : Distribute three 1 counters among one , two , or three target creatures you control . \\\\n −1 : Reveal the top six cards of your library . Put all creature cards revealed this way into your hand and the rest on the bottom of that pile into a random order . You gain 2 life for each of those cards into two cards . Then put on top of the battlefield and you gain 1 life . '},\n",
       " {'index': 60589,\n",
       "  'prompt': '<|endoftext|> <THEMES> {3} {W} Cost , Enchantment , W Color , Energy , Fog , W Identity <CARD_NAME> <name> <MANA_COST> {3} {W} <TYPE_LINE> Enchantment <ORACLE_TEXT> When <name> enters , you get {E} {E} {E} {E} ( four energy counters ) . \\\\n Pay {E} {E} : Prevent all damage that would be dealt to you this',\n",
       "  'generated_text': ' <THEMES> {3} {W} Cost , Enchantment , W Color , Energy , Fog , W Identity <CARD_NAME> <name> <MANA_COST> {3} {W} <TYPE_LINE> Enchantment <ORACLE_TEXT> When <name> enters , you get {E} {E} {E} {E} ( four energy counters ) . \\\\n Pay {E} {E} : Prevent all damage that would be dealt to you this turn . You get that many { energy Counters . Then you may pay any amount of {TK} . If you do , put that much life for each charge counter on <POWER> 3 <TOUGHNESS> 4 '},\n",
       " {'index': 49735,\n",
       "  'prompt': '<|endoftext|> <THEMES> 1 1 Counters , Creature , Scry , Lifegain , GW Color , GW Identity , Cleric , {G} {W} Cost , Elf , Legendary <CARD_NAME> <name> <MANA_COST> {G} {W} <TYPE_LINE> Legendary Creature — Elf Cleric <ORACLE_TEXT> Whenever you gain life , put a 1 1 counter on <name> and scry 1 . ( Look at the top card of your library . You may put that card on the bottom . ) <POWER> 2',\n",
       "  'generated_text': ' <THEMES> 1 1 Counters , Creature , Scry , Lifegain , GW Color , GW Identity , Cleric , {G} {W} Cost , Elf , Legendary <CARD_NAME> <name> <MANA_COST> {G} {W} <TYPE_LINE> Legendary Creature — Elf Cleric <ORACLE_TEXT> Whenever you gain life , put a 1 1 counter on <name> and scry 1 . ( Look at the top card of your library . You may put that card on the bottom . ) <POWER> 2 <TOUGHNESS> 0 '},\n",
       " {'index': 35382,\n",
       "  'prompt': '<|endoftext|> <THEMES> Wall , Creature , U Identity , Defender , U Color , {1} {U} Cost <CARD_NAME> <name> <MANA_COST> {1} {U} <TYPE_LINE> Creature — Wall <ORACLE_TEXT> Defender \\\\n {U} , {T} : You get {TK} . \\\\n {4} {U} , {T} : You may put a sticker on a nonland permanent you own . Activate only',\n",
       "  'generated_text': \" <THEMES> Wall , Creature , U Identity , Defender , U Color , {1} {U} Cost <CARD_NAME> <name> <MANA_COST> {1} {U} <TYPE_LINE> Creature — Wall <ORACLE_TEXT> Defender \\\\n {U} , {T} : You get {TK} . \\\\n {4} {U} , {T} : You may put a sticker on a nonland permanent you own . Activate only as a sorcery . ( The creature isn't untap during your untap step . ) \\\\ \\\\ {3} is every creature type in addition to its controller's untap steps for each kind already there is tapped with a tide counter on <POWER> 0 <TOUGHNESS> 2 \"},\n",
       " {'index': 121292,\n",
       "  'prompt': '<|endoftext|> <THEMES> B Identity , Creature , {4} {B} Cost , Flying , Warrior , Creature Based , B Color , Insect , Discard <CARD_NAME> <name> <MANA_COST> {4} {B}',\n",
       "  'generated_text': ' <THEMES> B Identity , Creature , {4} {B} Cost , Flying , Warrior , Creature Based , B Color , Insect , Discard <CARD_NAME> <name> <MANA_COST> {4} {B} <TYPE_LINE> Creature — Insect Warrior <ORACLE_TEXT> Discard a creature card : <POWER> 1 <TOUGHNESS> 2 '},\n",
       " {'index': 83886,\n",
       "  'prompt': '<|endoftext|> <THEMES> W Color , {4} {W} Cost , Tokens , Instant , W Identity <CARD_NAME> <name> <MANA_COST> {4} {W} <TYPE_LINE> Instant <ORACLE_TEXT> Exile target nonland permanent . Its controller creates a Treasure token .',\n",
       "  'generated_text': \" <THEMES> W Color , {4} {W} Cost , Tokens , Instant , W Identity <CARD_NAME> <name> <MANA_COST> {4} {W} <TYPE_LINE> Instant <ORACLE_TEXT> Exile target nonland permanent . Its controller creates a Treasure token . ( It's an artifact with {T} , Sacrifice this artifact : Add one mana of any color . ) \"},\n",
       " {'index': 90198,\n",
       "  'prompt': '<|endoftext|> <THEMES> B Identity , Freerunning , {2} {B} {B} Cost , Creature Based , B Color , Instant , Card Draw <CARD_NAME>',\n",
       "  'generated_text': \" <THEMES> B Identity , Freerunning , {2} {B} {B} Cost , Creature Based , B Color , Instant , Card Draw <CARD_NAME> <name> {5}} less to cast this spell only if you've committed a crime this turn . ( Targeting opponents , anything they control , and or cards in their graveyards is a Crime , then shuffle . ) \\\\n You draw a card , each opponent loses 2 life . If the Ring Tempts , that player loses 1 life and you draw two cards . Then each player draws a nonland card . \\\\ \\\\ surveil 1 . This ability triggers only once each turn , you may exile a creature card from your graveyard . You may play a spell from among cards you own from exile this way without paying its mana cost . <POWER> 3 <TOUGHNESS> 4 \"},\n",
       " {'index': 73000,\n",
       "  'prompt': '<|endoftext|> <THEMES> {U} Cost , Creature , Artifact Based , U Identity , Sacrifice , Merfolk , U Color <CARD_NAME> <name> <MANA_COST> {U} <TYPE_LINE> Creature —',\n",
       "  'generated_text': \" <THEMES> {U} Cost , Creature , Artifact Based , U Identity , Sacrifice , Merfolk , U Color <CARD_NAME> <name> <MANA_COST> {U} <TYPE_LINE> Creature — Merfolk <ORACLE_TEXT> Sacrifice an artifact : Reveal cards from the top of your library until you reveal an Elemental card . If you do , put that card into your hand , then put it into its owner's graveyard . <POWER> 1 <TOUGHNESS> 2 \"},\n",
       " {'index': 28785,\n",
       "  'prompt': '<|endoftext|> <THEMES> Damage , Creature , Attacking , Goblin Tokens , R Color , Soldier , Creature Based , Goblin , R Identity , Tokens , Legendary , {2} {R} Cost <CARD_NAME> <name> <MANA_COST> {2} {R} <TYPE_LINE> Legendary Creature — Goblin Soldier <ORACLE_TEXT> Whenever one or more Goblins you control attack , create a 1 1 red',\n",
       "  'generated_text': \" <THEMES> Damage , Creature , Attacking , Goblin Tokens , R Color , Soldier , Creature Based , Goblin , R Identity , Tokens , Legendary , {2} {R} Cost <CARD_NAME> <name> <MANA_COST> {2} {R} <TYPE_LINE> Legendary Creature — Goblin Soldier <ORACLE_TEXT> Whenever one or more Goblins you control attack , create a 1 1 red Goblin creature token that's tapped and attacking that creature gets 1 0 until end of turn . \\\\n Whenever you attack with two or fewer creatures , <POWER> 1 <TOUGHNESS> 2 \"},\n",
       " {'index': 89733,\n",
       "  'prompt': '<|endoftext|> <THEMES> {4} {R} {R} Cost , Free Spells , R Color , Sorcery , R Identity <CARD_NAME> <name> <MANA_COST> {4} {R} {R} <TYPE_LINE> Sorcery <ORACLE_TEXT> Target opponent reveals their hand . You may copy an instant or sorcery card in it .',\n",
       "  'generated_text': \" <THEMES> {4} {R} {R} Cost , Free Spells , R Color , Sorcery , R Identity <CARD_NAME> <name> <MANA_COST> {4} {R} {R} <TYPE_LINE> Sorcery <ORACLE_TEXT> Target opponent reveals their hand . You may copy an instant or sorcery card in it . If it's an opponent cast this spell with mana value less than X , where X is 1 plus the number of cards revealed this way without paying its mana cost . Exile <POWER> 4 <TOUGHNESS> 6 \"},\n",
       " {'index': 42504,\n",
       "  'prompt': '<|endoftext|> <THEMES> Creature , Artifact Based , Flying , Lifegain , {1} {W} {W} Cost , W Color , Combat Damage , Spirit , W Identity <CARD_NAME> <name> <MANA_COST> {1}',\n",
       "  'generated_text': ' <THEMES> Creature , Artifact Based , Flying , Lifegain , {1} {W} {W} Cost , W Color , Combat Damage , Spirit , W Identity <CARD_NAME> <name> <MANA_COST> {1}}1TYPE_LINE> Artifact Creature — Spirit <ORACLE_TEXT> Flying \\\\n Whenever <> deals combat damage to a player , you may pay {2} . If you do , each opponent gains that much life . <POWER> 2 <TOUGHNESS> 1 '},\n",
       " {'index': 110474,\n",
       "  'prompt': '<|endoftext|> <THEMES> Creature , Beast , Haste , Tutor , R Color , R Identity , {3} {R} {R} Cost <CARD_NAME> <name> <MANA_COST> {3} {R} {R} <TYPE_LINE> Creature — Beast <ORACLE_TEXT> Haste \\\\n When <name> enters , you may search your library for a card named <name> , reveal it , put it into your hand , then shuffle',\n",
       "  'generated_text': ' <THEMES> Creature , Beast , Haste , Tutor , R Color , R Identity , {3} {R} {R} Cost <CARD_NAME> <name> <MANA_COST> {3} {R} {R} <TYPE_LINE> Creature — Beast <ORACLE_TEXT> Haste \\\\n When <name> enters , you may search your library for a card named <name> , reveal it , put it into your hand , then shuffle . If you search libraries for up to two cards named Flame Counters , exile them into that many egg Counters <POWER> 3 <TOUGHNESS> 4 '},\n",
       " {'index': 100704,\n",
       "  'prompt': \"<|endoftext|> <THEMES> B Identity , Creature , Assassin , Human , Creature Based , {1} {B} Cost , B Color , Turned Face Up , Megamorph <CARD_NAME> <name> <MANA_COST> {1} {B} <TYPE_LINE> Creature — Human Assassin <ORACLE_TEXT> Creatures with power greater than <name>'s power can't block it . \\\\n\",\n",
       "  'generated_text': \" <THEMES> B Identity , Creature , Assassin , Human , Creature Based , {1} {B} Cost , B Color , Turned Face Up , Megamorph <CARD_NAME> <name> <MANA_COST> {1} {B} <TYPE_LINE> Creature — Human Assassin <ORACLE_TEXT> Creatures with power greater than <name>'s power can't block it . \\\\n Megamorph {3} : Until end of turn , target creature gets -0 -1 -3 and gains Megamorph — {T} , then Megamorph , is the text of any number of Megamorph one color of X , where X is a -X is your opponents control . ( You may cast this card face down as a 2 2 counter on it face up any time for its megamorph Counters , put two 1 1 counters on that would be dealt to it and it becomes renowned , you may put a 1 -2} . ) \\\\ \\\\> is turned face-down creature card is in your\"},\n",
       " {'index': 101711,\n",
       "  'prompt': '<|endoftext|> <THEMES> 1 1 Counters , Creature , {W} Cost , W Color , Goat , W Identity , Discard <CARD_NAME> <name> <MANA_COST> {W} <TYPE_LINE> Creature — Goat <ORACLE_TEXT> {3} , Discard a card : Put three 1 1 counters on <name> and it becomes a black Demon in addition to its other colors and types . Activate only once . <POWER>',\n",
       "  'generated_text': ' <THEMES> 1 1 Counters , Creature , {W} Cost , W Color , Goat , W Identity , Discard <CARD_NAME> <name> <MANA_COST> {W} <TYPE_LINE> Creature — Goat <ORACLE_TEXT> {3} , Discard a card : Put three 1 1 counters on <name> and it becomes a black Demon in addition to its other colors and types . Activate only once . <POWER> 2 <TOUGHNESS> 0 '},\n",
       " {'index': 7331,\n",
       "  'prompt': '<|endoftext|> <THEMES> Incubator Phyrexian Tokens , Artifact Based , Enchantment Based , W Color , Incubate , Sorcery , {1} {W} Cost , Tokens , W Identity <CARD_NAME> <name> <MANA_COST> {1} {W} <TYPE_LINE> Sorcery <ORACLE_TEXT> Choose one — \\\\n Destroy target nontoken artifact or enchantment an opponent controls . Incubate 2 . ( Create an Incubator token with two 1 1',\n",
       "  'generated_text': ' <THEMES> Incubator Phyrexian Tokens , Artifact Based , Enchantment Based , W Color , Incubate , Sorcery , {1} {W} Cost , Tokens , W Identity <CARD_NAME> <name> <MANA_COST> {1} {W} <TYPE_LINE> Sorcery <ORACLE_TEXT> Choose one — \\\\n Destroy target nontoken artifact or enchantment an opponent controls . Incubate 2 . ( Create an Incubator token with two 1 1 counters on it and {2} : Transform this artifact . It transforms into a 0 0 Phyrexian artifact creature . ) \\\\ Incubate 3 and an artifact token . \\\\ Transform target creature token you control transforms onto the battlefield with a 1 0 counter on them . Transform a Phyrexian Mite artifact with three 1 counter from it . '},\n",
       " {'index': 30021,\n",
       "  'prompt': '<|endoftext|> <THEMES> G Identity , G Color , Creature Based , {2} {G} Cost , Instant <CARD_NAME> <name> <MANA_COST> {2} {G} <TYPE_LINE> Instant <ORACLE_TEXT> Reveal the top four cards of your library . You may put a creature card and or a',\n",
       "  'generated_text': ' <THEMES> G Identity , G Color , Creature Based , {2} {G} Cost , Instant <CARD_NAME> <name> <MANA_COST> {2} {G} <TYPE_LINE> Instant <ORACLE_TEXT> Reveal the top four cards of your library . You may put a creature card and or a land card from among them into your hand . Put the rest into their graveyard . '},\n",
       " {'index': 107715,\n",
       "  'prompt': '<|endoftext|> <THEMES> N Identity , Free Spells , Sacrifice , Artifact , N Color , Legendary , {3} Cost <CARD_NAME> <name> <MANA_COST> {3} <TYPE_LINE> Legendary Artifact <ORACLE_TEXT> {3} , {T} : Exile target instant or sorcery',\n",
       "  'generated_text': ' <THEMES> N Identity , Free Spells , Sacrifice , Artifact , N Color , Legendary , {3} Cost <CARD_NAME> <name> <MANA_COST> {3} <TYPE_LINE> Legendary Artifact <ORACLE_TEXT> {3} , {T} : Exile target instant or sorcery card from your graveyard . \\\\n {5} {C} . You may cast that card without paying its mana cost for as long as it remains exiled . Activate only as a sorcery . '},\n",
       " {'index': 4207,\n",
       "  'prompt': '<|endoftext|> <THEMES> B Identity , Instant , {B} Cost , B Color <CARD_NAME> <name> <MANA_COST> {B} <TYPE_LINE> Instant <ORACLE_TEXT> Choose a card name . Reveal cards from the top of your library until you reveal a card with that name ,',\n",
       "  'generated_text': \" <THEMES> B Identity , Instant , {B} Cost , B Color <CARD_NAME> <name> <MANA_COST> {B} <TYPE_LINE> Instant <ORACLE_TEXT> Choose a card name . Reveal cards from the top of your library until you reveal a card with that name , then put that card into your hand . \\\\n Choose one of the chosen card from among the revealed cards into a face up . Put the other into their hand and the rest on the bottom of that library . You lose 1 life for each card of their owners' libraries . \"},\n",
       " {'index': 105518,\n",
       "  'prompt': '<|endoftext|> <THEMES> Creature , W Color , Creature Based , Spellshaper , {4} {W} Cost , Spirit , W Identity , Discard <CARD_NAME> <name> <MANA_COST> {4} {W} <TYPE_LINE> Creature — Spirit Spellshaper <ORACLE_TEXT> {W} , {T} , Discard a card : Creatures you control get 1 0 until end of turn . <POWER> 2 <TOUGHNESS> 5 <|endoftext|>',\n",
       "  'generated_text': \" <THEMES> Creature , W Color , Creature Based , Spellshaper , {4} {W} Cost , Spirit , W Identity , Discard <CARD_NAME> <name> <MANA_COST> {4} {W} <TYPE_LINE> Creature — Spirit Spellshaper <ORACLE_TEXT> {W} , {T} , Discard a card : Creatures you control get 1 0 until end of turn . <POWER> 2 <TOUGHNESS> 5   Instant and white and red n Spellshaper Draw a 1  Arcane Nomad Wizard Nomad creature  Phyrexian Nomad with {1} : Prevent the next 1 damage that would be dealt to target of a source of the color of your choice instead . Activate only if you have a white permanent with mana value 4 or less life total is 0 or greater , it's white source's still a creature instead of 1 1 instead destroy it . ( If it would die , return it to its owner's put it into its madness cost or is in\"},\n",
       " {'index': 41347,\n",
       "  'prompt': '<|endoftext|> <THEMES> Aura , Attacking , Haste , Enchantment , Tutor , R Color , {1} {R} Cost , Creature Based , R Identity , Dies <CARD_NAME> <name> <MANA_COST> {1} {R} <TYPE_LINE> Enchantment — Aura <ORACLE_TEXT> Enchant creature \\\\n Enchanted creature gets 2 1 , has haste , and attacks each combat if able . \\\\n When enchanted',\n",
       "  'generated_text': ' <THEMES> Aura , Attacking , Haste , Enchantment , Tutor , R Color , {1} {R} Cost , Creature Based , R Identity , Dies <CARD_NAME> <name> <MANA_COST> {1} {R} <TYPE_LINE> Enchantment — Aura <ORACLE_TEXT> Enchant creature \\\\n Enchanted creature gets 2 1 , has haste , and attacks each combat if able . \\\\n When enchanted creature dies , you may search your library for a card named <POWER> 1 <TOUGHNESS> 2 '},\n",
       " {'index': 52581,\n",
       "  'prompt': '<|endoftext|> <THEMES> Serpent , Creature , Haste , {X} {R} Cost , Elemental , R Color , Sacrifice , Trample , R Identity <CARD_NAME> <name> <MANA_COST> {X} {R} <TYPE_LINE> Creature — Elemental Serpent <ORACLE_TEXT> Trample , haste \\\\n <name> enters with X 1 0 counters on it . \\\\n At the beginning of the end step , sacrifice <name> . <POWER> 2 <TOUGHNESS>',\n",
       "  'generated_text': ' <THEMES> Serpent , Creature , Haste , {X} {R} Cost , Elemental , R Color , Sacrifice , Trample , R Identity <CARD_NAME> <name> <MANA_COST> {X} {R} <TYPE_LINE> Creature — Elemental Serpent <ORACLE_TEXT> Trample , haste \\\\n <name> enters with X 1 0 counters on it . \\\\n At the beginning of the end step , sacrifice <name> . <POWER> 2 <TOUGHNESS> 5 '},\n",
       " {'index': 35093,\n",
       "  'prompt': '<|endoftext|> <THEMES> Creature , Bushido , {W} Cost , Human , Samurai , W Color , W Identity <CARD_NAME> <name> <MANA_COST> {W} <TYPE_LINE> Creature — Human Samurai <ORACLE_TEXT> Bushido 1 ( Whenever this creature blocks or becomes blocked , it gets 1 1 until end of turn . ) <POWER>',\n",
       "  'generated_text': ' <THEMES> Creature , Bushido , {W} Cost , Human , Samurai , W Color , W Identity <CARD_NAME> <name> <MANA_COST> {W} <TYPE_LINE> Creature — Human Samurai <ORACLE_TEXT> Bushido 1 ( Whenever this creature blocks or becomes blocked , it gets 1 1 until end of turn . ) <POWER> 1 <TOUGHNESS> 2 '},\n",
       " {'index': 8675,\n",
       "  'prompt': '<|endoftext|> <THEMES> Indestructible , Creature , Oil Counters , Soldier , W Color , {1} {W} Cost , W Identity , Phyrexian <CARD_NAME> <name> <MANA_COST> {1} {W} <TYPE_LINE> Creature — Phyrexian Soldier <ORACLE_TEXT> <name> enters with an oil counter on it',\n",
       "  'generated_text': ' <THEMES> Indestructible , Creature , Oil Counters , Soldier , W Color , {1} {W} Cost , W Identity , Phyrexian <CARD_NAME> <name> <MANA_COST> {1} {W} <TYPE_LINE> Creature — Phyrexian Soldier <ORACLE_TEXT> <name> enters with an oil counter on it . \\\\n {T} , Remove an charge counter from <POWER> 1 <TOUGHNESS> 0 '},\n",
       " {'index': 27653,\n",
       "  'prompt': '<|endoftext|> <THEMES> N Identity , Creature , Construct , Sacrifice , Snow , Creature Based , Artifact , Upkeep , Cumulative Upkeep , {3} Cost , N Color , Phyrexian <CARD_NAME> <name> <MANA_COST> {3} <TYPE_LINE> Snow Artifact Creature — Phyrexian Construct <ORACLE_TEXT> Cumulative upkeep — Sacrifice a creature . ( At the beginning of your upkeep , put an age counter on this permanent , then sacrifice it unless you pay its upkeep cost for each',\n",
       "  'generated_text': \" <THEMES> N Identity , Creature , Construct , Sacrifice , Snow , Creature Based , Artifact , Upkeep , Cumulative Upkeep , {3} Cost , N Color , Phyrexian <CARD_NAME> <name> <MANA_COST> {3} <TYPE_LINE> Snow Artifact Creature — Phyrexian Construct <ORACLE_TEXT> Cumulative upkeep — Sacrifice a creature . ( At the beginning of your upkeep , put an age counter on this permanent , then sacrifice it unless you pay its upkeep cost for each age counters on it . ) \\\\n Blue creature doesn't untap during your untap step for as long as it doesn' untap symbol in a snow land . \\\\ {1} , it gets 0 1 for fear counter is an Island . At end of the upkeep and doesn be regenerated Counters , Remove a Swamp . If a player controls no fade counter from <POWER> 2 <TOUGHNESS> 0 \"},\n",
       " {'index': 119686,\n",
       "  'prompt': '<|endoftext|> <THEMES> U Identity , Creature Based , U Color , Instant , {1} {U} Cost <CARD_NAME> <name> <MANA_COST> {1} {U} <TYPE_LINE>',\n",
       "  'generated_text': \" <THEMES> U Identity , Creature Based , U Color , Instant , {1} {U} Cost <CARD_NAME> <name> <MANA_COST> {1} {U} <TYPE_LINE> Instant <ORACLE_TEXT> Put target creature on top of its owner's library . That player shuffles it into their library , then sacrifices it , and all creatures they control with the same name as that creature . \"},\n",
       " {'index': 123589,\n",
       "  'prompt': '<|endoftext|> <THEMES> Instant , U Color , U Identity , {X} {U} Cost <CARD_NAME> <name> <MANA_COST> {X} {U} <TYPE_LINE> Instant <ORACLE_TEXT> Reveal the top X plus one cards of your library and separate them into two piles . An opponent chooses one of those piles . Put',\n",
       "  'generated_text': \" <THEMES> Instant , U Color , U Identity , {X} {U} Cost <CARD_NAME> <name> <MANA_COST> {X} {U} <TYPE_LINE> Instant <ORACLE_TEXT> Reveal the top X plus one cards of your library and separate them into two piles . An opponent chooses one of those piles . Put one pile into your hand and the other on the bottom of their library in a random order . \\\\n Choose a card from the chosen pile , then the card in your graveyard with that pile . It perpetually gains This spell costs {2} more to cast . ( If a creature card is in its owner controls causes loss of the vote , they're exiled cards in their graveyards is the game for each permanent they control , you may add {C} to draw a third zone . ) \"},\n",
       " {'index': 74341,\n",
       "  'prompt': '<|endoftext|> <THEMES> Creature , First Strike , Human , W Color , Knight , {1} {W} Cost , W Identity <CARD_NAME> <name> <MANA_COST> {1} {W} <TYPE_LINE> Creature — Human',\n",
       "  'generated_text': ' <THEMES> Creature , First Strike , Human , W Color , Knight , {1} {W} Cost , W Identity <CARD_NAME> <name> <MANA_COST> {1} {W} <TYPE_LINE> Creature — Human Knight <ORACLE_TEXT> First strike ( This creature deals combat damage before creatures without first strike . ) \\\\n {2} : <POWER> 1 <TOUGHNESS> 2 '},\n",
       " {'index': 114867,\n",
       "  'prompt': '<|endoftext|> <THEMES> Enchantment , U Identity , {4} {U} {U} {U} Cost , U Color , Rebound <CARD_NAME> <name> <MANA_COST> {4} {U} {U} {U} <TYPE_LINE> Enchantment <ORACLE_TEXT> Instant and sorcery spells you control have rebound . ( Exile the spell as it resolves if you cast it from your hand . At the beginning of your next upkeep , you may cast that card',\n",
       "  'generated_text': \" <THEMES> Enchantment , U Identity , {4} {U} {U} {U} Cost , U Color , Rebound <CARD_NAME> <name> <MANA_COST> {4} {U} {U} {U} <TYPE_LINE> Enchantment <ORACLE_TEXT> Instant and sorcery spells you control have rebound . ( Exile the spell as it resolves if you cast it from your hand . At the beginning of your next upkeep , you may cast that card from exile without paying its mana cost . You may play it without its foretell cost if it's exiled , cast before its name cost or put it on a later turn without summoning sickness . ) \\\\n Rebound ( If you do , exile it as this spell from the stack , they exile this card . When the battlefield , copy it into your library . The player casts it for its replicate cost is removed , it it and it gains rebound Counters , remove a time counter from it . Sacrifice it at the\"},\n",
       " {'index': 94098,\n",
       "  'prompt': '<|endoftext|> <THEMES> Damage , Enchantment , R Color , {1} {R} Cost , R Identity <CARD_NAME> <name> <MANA_COST> {1} {R} <TYPE_LINE> Enchantment <ORACLE_TEXT> Whenever a player taps an Island for mana , <name> deals 1',\n",
       "  'generated_text': ' <THEMES> Damage , Enchantment , R Color , {1} {R} Cost , R Identity <CARD_NAME> <name> <MANA_COST> {1} {R} <TYPE_LINE> Enchantment <ORACLE_TEXT> Whenever a player taps an Island for mana , <name> deals 1 damage to that player . \\\\n {2} , Remove any number of untapped lands from < from your hand : <POWER> 1 <TOUGHNESS> 2 '},\n",
       " {'index': 41245,\n",
       "  'prompt': '<|endoftext|> <THEMES> B Identity , Sacrifice , {4} {B} {B} Cost , B Color , Sorcery , Cipher <CARD_NAME> <name> <MANA_COST> {4} {B} {B} <TYPE_LINE> Sorcery <ORACLE_TEXT> Target player loses 1 life , discards a card , then sacrifices a permanent of their choice . \\\\n Cipher ( Then you may exile this spell card encoded on a creature you control . Whenever that',\n",
       "  'generated_text': \" <THEMES> B Identity , Sacrifice , {4} {B} {B} Cost , B Color , Sorcery , Cipher <CARD_NAME> <name> <MANA_COST> {4} {B} {B} <TYPE_LINE> Sorcery <ORACLE_TEXT> Target player loses 1 life , discards a card , then sacrifices a permanent of their choice . \\\\n Cipher ( Then you may exile this spell card encoded on a creature you control . Whenever that creature deals combat damage to a player , its controller may cast a copy of a spell . If you do , copy this way , they draw a token before its owner's next card . A copy becomes a colorless and the copy . ) \"},\n",
       " {'index': 27869,\n",
       "  'prompt': \"<|endoftext|> <THEMES> Creature , Haste , Elemental , R Color , Sacrifice , Trample , Cost , Spark Elemental Tokens , R Identity , Token , {R} Cost <CARD_NAME> <name> <MANA_COST> {R} <TYPE_LINE> Creature — Elemental <ORACLE_TEXT> Trample , haste ( This creature can deal excess combat damage to the player or planeswalker it's attacking . This creature can attack and {T} as soon as it comes under your control . ) \\\\n At the beginning of the\",\n",
       "  'generated_text': \" <THEMES> Creature , Haste , Elemental , R Color , Sacrifice , Trample , Cost , Spark Elemental Tokens , R Identity , Token , {R} Cost <CARD_NAME> <name> <MANA_COST> {R} <TYPE_LINE> Creature — Elemental <ORACLE_TEXT> Trample , haste ( This creature can deal excess combat damage to the player or planeswalker it's attacking . This creature can attack and {T} as soon as it comes under your control . ) \\\\n At the beginning of the end step , sacrifice <POWER> 2 <TOUGHNESS> 1 \"},\n",
       " {'index': 85909,\n",
       "  'prompt': '<|endoftext|> <THEMES> Creature , {1} {G} Cost , G Identity , Snake , G Color , Reach , Deathtouch , Phyrexian <CARD_NAME> <name> <MANA_COST> {1} {G} <TYPE_LINE> Creature — Phyrexian Snake <ORACLE_TEXT> {1} {G} : <name> gains reach until end of turn . \\\\n {1} {G} : <name> gains deathtouch until end of turn .',\n",
       "  'generated_text': ' <THEMES> Creature , {1} {G} Cost , G Identity , Snake , G Color , Reach , Deathtouch , Phyrexian <CARD_NAME> <name> <MANA_COST> {1} {G} <TYPE_LINE> Creature — Phyrexian Snake <ORACLE_TEXT> {1} {G} : <name> gains reach until end of turn . \\\\n {1} {G} : <name> gains deathtouch until end of turn . ( Any amount of damage it deals to a creature is enough to destroy it . ) <POWER> 1 <TOUGHNESS> 2 '},\n",
       " {'index': 65435,\n",
       "  'prompt': '<|endoftext|> <THEMES> B Identity , Creature , Creature Based , {B} Cost , B Color , Goblin , Zombie , Dies <CARD_NAME> <name> <MANA_COST> {B} <TYPE_LINE> Creature — Zombie Goblin <ORACLE_TEXT> When <name> dies , target creature an opponent controls gets',\n",
       "  'generated_text': ' <THEMES> B Identity , Creature , Creature Based , {B} Cost , B Color , Goblin , Zombie , Dies <CARD_NAME> <name> <MANA_COST> {B} <TYPE_LINE> Creature — Zombie Goblin <ORACLE_TEXT> When <name> dies , target creature an opponent controls gets -1 -2 until end of turn . <POWER> 1 <TOUGHNESS> 2 '},\n",
       " {'index': 51856,\n",
       "  'prompt': \"<|endoftext|> <THEMES> Damage , Planeswalker , Devil Tokens , Tibalt , R Color , Creature Based , Card Draw , Legendary , R Identity , {3} {R} {R} Cost , Tokens , Dies , Discard <CARD_NAME> <name> <MANA_COST> {3} {R} {R} <TYPE_LINE> Legendary Planeswalker — <name> <ORACLE_TEXT> 1 : Add {R} {R} . Draft a card from <name>'s spellbook , then exile it . Until end of turn , you may cast that card . \\\\n 1 : <name> deals 4 damage to target creature or planeswalker unless its controller has <name> deal 4 damage to them . If they do , you may discard a card . If you do , draw a card . \\\\n X : Create X 1 1 red Devil creature tokens with When this creature dies , it deals\",\n",
       "  'generated_text': \" <THEMES> Damage , Planeswalker , Devil Tokens , Tibalt , R Color , Creature Based , Card Draw , Legendary , R Identity , {3} {R} {R} Cost , Tokens , Dies , Discard <CARD_NAME> <name> <MANA_COST> {3} {R} {R} <TYPE_LINE> Legendary Planeswalker — <name> <ORACLE_TEXT> 1 : Add {R} {R} . Draft a card from <name>'s spellbook , then exile it . Until end of turn , you may cast that card . \\\\n 1 : <name> deals 4 damage to target creature or planeswalker unless its controller has <name> deal 4 damage to them . If they do , you may discard a card . If you do , draw a card . \\\\n X : Create X 1 1 red Devil creature tokens with When this creature dies , it deals X damage divided as you choose among any number of those cards . They may play lands and\"},\n",
       " {'index': 115957,\n",
       "  'prompt': '<|endoftext|> <THEMES> Aura , Lifelink , Vigilance , Creature , Reanimation , First Strike , Human , W Color , Legendary , Knight , {4} {W} Cost , Equipment , W Identity <CARD_NAME> <name> <MANA_COST> {4} {W} <TYPE_LINE> Legendary Creature — Human Knight <ORACLE_TEXT> First strike , vigilance , lifelink \\\\n',\n",
       "  'generated_text': ' <THEMES> Aura , Lifelink , Vigilance , Creature , Reanimation , First Strike , Human , W Color , Legendary , Knight , {4} {W} Cost , Equipment , W Identity <CARD_NAME> <name> <MANA_COST> {4} {W} <TYPE_LINE> Legendary Creature — Human Knight <ORACLE_TEXT> First strike , vigilance , lifelink \\\\n <POWER> 4 <TOUGHNESS> 3 '},\n",
       " {'index': 119871,\n",
       "  'prompt': '<|endoftext|> <THEMES> G Identity , Tutor , G Color , Sorcery , {2} {G} {G} Cost <CARD_NAME> <name> <MANA_COST> {2} {G} {G} <TYPE_LINE> Sorcery <ORACLE_TEXT> Destroy target land . Search your library for a Forest card , put that card onto the',\n",
       "  'generated_text': ' <THEMES> G Identity , Tutor , G Color , Sorcery , {2} {G} {G} Cost <CARD_NAME> <name> <MANA_COST> {2} {G} {G} <TYPE_LINE> Sorcery <ORACLE_TEXT> Destroy target land . Search your library for a Forest card , put that card onto the battlefield tapped , then shuffle . Then shuffle and library . '},\n",
       " {'index': 84259,\n",
       "  'prompt': \"<|endoftext|> <THEMES> Serpent , {5} {U} Cost , Creature , U Identity , Sacrifice , Snow , U Color <CARD_NAME> <name> <MANA_COST> {5} {U} <TYPE_LINE> Snow Creature — Serpent <ORACLE_TEXT> <name> can't attack unless defending player controls a snow land\",\n",
       "  'generated_text': \" <THEMES> Serpent , {5} {U} Cost , Creature , U Identity , Sacrifice , Snow , U Color <CARD_NAME> <name> <MANA_COST> {5} {U} <TYPE_LINE> Snow Creature — Serpent <ORACLE_TEXT> <name> can't attack unless defending player controls a snow land . \\\\n {T} : Put target player puts a land on the top of their library . That player's library and all snow lands they control into their graveyard that player who controls into a graveyard . <POWER> 5 <TOUGHNESS> 4 \"},\n",
       " {'index': 60142,\n",
       "  'prompt': '<|endoftext|> <THEMES> Scout , Creature , Attacking , {2} {R} {G} Cost , GR Color , Human , Creature Based , GR Identity , Legendary <CARD_NAME> <name> <MANA_COST> {2} {R} {G} <TYPE_LINE> Legendary Creature — Human Scout <ORACLE_TEXT> Whenever <name> attacks ,',\n",
       "  'generated_text': \" <THEMES> Scout , Creature , Attacking , {2} {R} {G} Cost , GR Color , Human , Creature Based , GR Identity , Legendary <CARD_NAME> <name> <MANA_COST> {2} {R} {G} <TYPE_LINE> Legendary Creature — Human Scout <ORACLE_TEXT> Whenever <name> attacks , exile the top card of your library . If it's a creature card , put it onto the battlefield . Until end of turn , you may play that card . \\\\n {T} : Exile the exiled card from your graveyard . You may cast that exiled with <POWER> 3 <TOUGHNESS> 4 \"},\n",
       " {'index': 18726,\n",
       "  'prompt': '<|endoftext|> <THEMES> {G} Cost , G Identity , G Color , Creature Based , Reach , Instant <CARD_NAME> <name> <MANA_COST> {G} <TYPE_LINE> Instant <ORACLE_TEXT> Target creature gets 1 2 and gains reach until end of turn . Untap it . ( A creature with reach can',\n",
       "  'generated_text': \" <THEMES> {G} Cost , G Identity , G Color , Creature Based , Reach , Instant <CARD_NAME> <name> <MANA_COST> {G} <TYPE_LINE> Instant <ORACLE_TEXT> Target creature gets 1 2 and gains reach until end of turn . Untap it . ( A creature with reach can block creatures with flying can't block or be blocked by creatures that creature is blocked except by it also causes its controller to gain that much life . ) \"},\n",
       " {'index': 34718,\n",
       "  'prompt': '<|endoftext|> <THEMES> {3} {G} {G} {G} Cost , Creature , G Identity , Elemental , Sacrifice , Trample , G Color , Regenerate , Upkeep <CARD_NAME> <name> <MANA_COST> {3} {G} {G} {G} <TYPE_LINE> Creature — Elemental <ORACLE_TEXT> Trample \\\\n',\n",
       "  'generated_text': \" <THEMES> {3} {G} {G} {G} Cost , Creature , G Identity , Elemental , Sacrifice , Trample , G Color , Regenerate , Upkeep <CARD_NAME> <name> <MANA_COST> {3} {G} {G} {G} <TYPE_LINE> Creature — Elemental <ORACLE_TEXT> Trample \\\\n At the beginning of your upkeep , sacrifice < unless you sacrifice a land . \\\\ \\\\ At end of each land for mana , tap enchanted land you control and doesn't untap during your untap step , that land is tapped for as long as <POWER> 7 <TOUGHNESS> 6 \"},\n",
       " {'index': 18301,\n",
       "  'prompt': '<|endoftext|> <THEMES> B Identity , Creature , Sacrifice , Knight , B Color , Zombie , Flanking , {2} {B} Cost <CARD_NAME> <name> <MANA_COST> {2} {B} <TYPE_LINE> Creature — Zombie Knight <ORACLE_TEXT> Flanking ( Whenever a creature without flanking blocks this creature ,',\n",
       "  'generated_text': ' <THEMES> B Identity , Creature , Sacrifice , Knight , B Color , Zombie , Flanking , {2} {B} Cost <CARD_NAME> <name> <MANA_COST> {2} {B} <TYPE_LINE> Creature — Zombie Knight <ORACLE_TEXT> Flanking ( Whenever a creature without flanking blocks this creature , the blocking creature gets -1 -0 until end of turn . ) \\\\n {1} , Discard a card : <POWER> 2 <TOUGHNESS> 1 '},\n",
       " {'index': 32325,\n",
       "  'prompt': \"<|endoftext|> <THEMES> {2} {W} Cost , Planeswalker , W Identity , Teyo , Defender , Creature Based , W Color , Legendary , Hexproof , Tokens , Wall Tokens <CARD_NAME> <name> <MANA_COST> {2} {W} <TYPE_LINE> Legendary Planeswalker — <name> <ORACLE_TEXT> You have hexproof . ( You can't be the target of spells or abilities your opponents control . ) \\\\n −2 : Create a 0 3 white Wall creature token with\",\n",
       "  'generated_text': \" <THEMES> {2} {W} Cost , Planeswalker , W Identity , Teyo , Defender , Creature Based , W Color , Legendary , Hexproof , Tokens , Wall Tokens <CARD_NAME> <name> <MANA_COST> {2} {W} <TYPE_LINE> Legendary Planeswalker — <name> <ORACLE_TEXT> You have hexproof . ( You can't be the target of spells or abilities your opponents control . ) \\\\n −2 : Create a 0 3 white Wall creature token with hexproof until end of turn . \\\\ −1 : Until end step , <LOYALTY> becomes a 5 \"},\n",
       " {'index': 97647,\n",
       "  'prompt': '<|endoftext|> <THEMES> Storage Counters , Land , Cost , BU Identity , N Color <CARD_NAME> <name> <MANA_COST> <TYPE_LINE> Land <ORACLE_TEXT> {T} : Add {C} . \\\\n {1} , {T}',\n",
       "  'generated_text': ' <THEMES> Storage Counters , Land , Cost , BU Identity , N Color <CARD_NAME> <name> <MANA_COST> <TYPE_LINE> Land <ORACLE_TEXT> {T} : Add {C} . \\\\n {1} , {T} and Put a storage counter on <POWER> 0 <TOUGHNESS> 1 '},\n",
       " {'index': 73579,\n",
       "  'prompt': '<|endoftext|> <THEMES> {5} {U} Cost , Creature , Elemental , U Identity , U Color , Evoke <CARD_NAME> <name>',\n",
       "  'generated_text': \" <THEMES> {5} {U} Cost , Creature , Elemental , U Identity , U Color , Evoke <CARD_NAME> <name> , Sphinx <MANA_COST>COST>'s power and toughness are each equal to the number of cards in your hand . \\\\n Evoke {3} ( You may cast this spell for its evoke cost . If you do , it's sacrificed when it enters . ) \\\\ \\\\ Elemental enters , sacrifice it unless you draw a card . <POWER> 6 <TOUGHNESS> 4 \"},\n",
       " {'index': 70644,\n",
       "  'prompt': '<|endoftext|> <THEMES> B Identity , Indestructible , Creature Based , {1} {B} Cost , B Color , Deathtouch , Instant <CARD_NAME> <name> <MANA_COST> {1} {B} <TYPE_LINE> Instant <ORACLE_TEXT> Target',\n",
       "  'generated_text': \" <THEMES> B Identity , Indestructible , Creature Based , {1} {B} Cost , B Color , Deathtouch , Instant <CARD_NAME> <name> <MANA_COST> {1} {B} <TYPE_LINE> Instant <ORACLE_TEXT> Target creature gains deathtouch and indestructible until end of turn . ( Damage and effects that say destroy don't destroy it . If its toughness is 0 or less , it's still put into its owner's graveyard . ) \\\\n Destroy target creature . That creature with a creature that's toughness was 4 or greater and toughness becomes an indestructible counter on it gains indestructible . \"},\n",
       " {'index': 34438,\n",
       "  'prompt': '<|endoftext|> <THEMES> N Identity , Land , Cost , Creature Based , Upkeep , Cumulative Upkeep , N Color <CARD_NAME> <name>',\n",
       "  'generated_text': \" <THEMES> N Identity , Land , Cost , Creature Based , Upkeep , Cumulative Upkeep , N Color <CARD_NAME> <name> , <MANA_COST> Land <TYPE_TEXT> Cumulative upkeep {1} ( At the beginning of your upkeep , put an age counter on this permanent , then sacrifice it unless you pay its upkeep cost for each age} Cost <ORACLE_LINE> is upkeep costs for its echo cost . ) \\\\n Blue creature enters with one or more age counters on it . \\\\ \\\\ At end of each upkeep of turn , choose a land type . If tapped for mana , remove all basic land types among lands you control of the chosen type with the noted color for basic lands on the battlefield , the bottom of that land . It has Cumulative choice of tapped . Otherwise , all creature types . ( As long as this land is tapped , it's treated as it doesn't , players can't exist . Each one mana of any type can be paid , that\"},\n",
       " {'index': 97912,\n",
       "  'prompt': '<|endoftext|> <THEMES> Enchantment , U Identity , Creature Based , {2} {U} Cost , U Color <CARD_NAME> <name> <MANA_COST> {2} {U} <TYPE_LINE> Enchantment <ORACLE_TEXT> {U} : Tap target creature unless its controller pays {1}',\n",
       "  'generated_text': ' <THEMES> Enchantment , U Identity , Creature Based , {2} {U} Cost , U Color <CARD_NAME> <name> <MANA_COST> {2} {U} <TYPE_LINE> Enchantment <ORACLE_TEXT> {U} : Tap target creature unless its controller pays {1} for each creature they control . '},\n",
       " {'index': 76622,\n",
       "  'prompt': '<|endoftext|> <THEMES> {U} Cost , U Identity , Surveil , U Color , Instant , Flashback <CARD_NAME> <name> <MANA_COST> {U} <TYPE_LINE> Instant <ORACLE_TEXT> Surveil 3 . ( Look at the top three cards of your library , then put any number of them into your graveyard and the rest on top of your library in any order . ) \\\\n',\n",
       "  'generated_text': \" <THEMES> {U} Cost , U Identity , Surveil , U Color , Instant , Flashback <CARD_NAME> <name> <MANA_COST> {U} <TYPE_LINE> Instant <ORACLE_TEXT> Surveil 3 . ( Look at the top three cards of your library , then put any number of them into your graveyard and the rest on top of your library in any order . ) \\\\n Flashback {1} {B} ( You may cast this card from your hand . You get a card into exile . When you do , copy it for its flashback cost or put it into its blitz cost . Then exile it . It gains haste . Exile it if it's a permanent card with a finality counter on it would leave the battlefield . Flashback only as a sorcery . While it , return it to its owner's exiled card to the encoded on the bottom of their owner shuffles . Plot only if that card's cast it at random . \"},\n",
       " {'index': 56155,\n",
       "  'prompt': '<|endoftext|> <THEMES> Goblin Construct Tokens , Damage , Creature , Haste , Artifact Based , R Color , {2} {R} Cost , Creature Based , Goblin , R Identity , Upkeep , Combat Damage , Rogue , Tokens <CARD_NAME> <name> <MANA_COST> {2} {R} <TYPE_LINE> Creature — Goblin Rogue <ORACLE_TEXT> Haste \\\\n Whenever <name> deals combat damage to a player , that player creates a 0 1 colorless Goblin Construct artifact creature',\n",
       "  'generated_text': ' <THEMES> Goblin Construct Tokens , Damage , Creature , Haste , Artifact Based , R Color , {2} {R} Cost , Creature Based , Goblin , R Identity , Upkeep , Combat Damage , Rogue , Tokens <CARD_NAME> <name> <MANA_COST> {2} {R} <TYPE_LINE> Creature — Goblin Rogue <ORACLE_TEXT> Haste \\\\n Whenever <name> deals combat damage to a player , that player creates a 0 1 colorless Goblin Construct artifact creature token with haste . \\\\ At the beginning of your upkeep , if that creature is red Goblin or Vehicle , it deals 1 damage instead if you control an artifact . <POWER> 1 <TOUGHNESS> 3 '},\n",
       " {'index': 117679,\n",
       "  'prompt': '<|endoftext|> <THEMES> R Color , {3} {R} Cost , Sorcery , R Identity , Flashback <CARD_NAME> <name> <MANA_COST> {3} {R} <TYPE_LINE> Sorcery <ORACLE_TEXT>',\n",
       "  'generated_text': ' <THEMES> R Color , {3} {R} Cost , Sorcery , R Identity , Flashback <CARD_NAME> <name> <MANA_COST> {3} {R} <TYPE_LINE> Sorcery <ORACLE_TEXT> Return target instant or sorcery card from your graveyard to your hand . \\\\n Flashback {1} ( You may cast this card face down for {2} as a 2 2 creature with ward {T} . Turn it face up any time for its flashback cost . Then exile it . ) '},\n",
       " {'index': 76484,\n",
       "  'prompt': '<|endoftext|> <THEMES> RU Identity , Creature , Attacking , {U} {U/R} {R} Cost , Flying , RU Color , Wizard , Djinn <CARD_NAME> <name> <MANA_COST> {U} {U/R} {R} <TYPE_LINE> Creature — Djinn Wizard <ORACLE_TEXT> Flying \\\\n Whenever Maelstrom',\n",
       "  'generated_text': \" <THEMES> RU Identity , Creature , Attacking , {U} {U/R} {R} Cost , Flying , RU Color , Wizard , Djinn <CARD_NAME> <name> <MANA_COST> {U} {U/R} {R} <TYPE_LINE> Creature — Djinn Wizard <ORACLE_TEXT> Flying \\\\n Whenever Maelstrom Muse attacks , each player may cast an instant or sorcery spell from their hand without paying its mana cost . If that player does , that spell's mana value is equal to that card's power is 3 plus 1 plus the number of instant and sorcery cards in that opponent . <POWER> 1 <TOUGHNESS> 2 \"},\n",
       " {'index': 52350,\n",
       "  'prompt': '<|endoftext|> <THEMES> 1 1 Counters , {1} {G} Cost , G Identity , Awaken , G Color , Sorcery <CARD_NAME> <name> <MANA_COST> {1} {G} <TYPE_LINE> Sorcery <ORACLE_TEXT> Put two 1 1 counters on target permanent',\n",
       "  'generated_text': ' <THEMES> 1 1 Counters , {1} {G} Cost , G Identity , Awaken , G Color , Sorcery <CARD_NAME> <name> <MANA_COST> {1} {G} <TYPE_LINE> Sorcery <ORACLE_TEXT> Put two 1 1 counters on target permanent . \\\\n Awaken 4 — {4} , also put four 1 0 counters from <POWER> 3 <TOUGHNESS> 2 '},\n",
       " {'index': 47447,\n",
       "  'prompt': '<|endoftext|> <THEMES> 1 1 Counters , Bird , Creature , {3} {U} Cost , Flying , U Identity , Wizard , U Color , Card Draw <CARD_NAME> <name> <MANA_COST> {3} {U} <TYPE_LINE> Creature — Bird Wizard <ORACLE_TEXT> Flying \\\\n Whenever you draw a card , put a 1 1 counter on this',\n",
       "  'generated_text': ' <THEMES> 1 1 Counters , Bird , Creature , {3} {U} Cost , Flying , U Identity , Wizard , U Color , Card Draw <CARD_NAME> <name> <MANA_COST> {3} {U} <TYPE_LINE> Creature — Bird Wizard <ORACLE_TEXT> Flying \\\\n Whenever you draw a card , put a 1 1 counter on this creature . \\\\ \\\\ If an opponent would draw two cards , instead you and that player each draw that many cards instead they lose the game instead . <POWER> 3 <TOUGHNESS> 2 '},\n",
       " {'index': 28746,\n",
       "  'prompt': '<|endoftext|> <THEMES> Creature , Cleric , W Color , Fox , {1} {W} Cost , W Identity <CARD_NAME> <name> <MANA_COST> {1} {W} <TYPE_LINE> Creature — Fox Cleric <ORACLE_TEXT> {W} , {T} : Prevent the next 2 damage that would be dealt to any target this turn . <POWER> 1',\n",
       "  'generated_text': ' <THEMES> Creature , Cleric , W Color , Fox , {1} {W} Cost , W Identity <CARD_NAME> <name> <MANA_COST> {1} {W} <TYPE_LINE> Creature — Fox Cleric <ORACLE_TEXT> {W} , {T} : Prevent the next 2 damage that would be dealt to any target this turn . <POWER> 1 <TOUGHNESS> 2 '},\n",
       " {'index': 18131,\n",
       "  'prompt': '<|endoftext|> <THEMES> Aura , Scry , Enchantment , U Identity , Creature Based , {2} {U} Cost , U Color , Tokens <CARD_NAME> <name> <MANA_COST> {2} {U} <TYPE_LINE> Enchantment — Aura <ORACLE_TEXT> Enchant creature \\\\n When <name> enters , if',\n",
       "  'generated_text': \" <THEMES> Aura , Scry , Enchantment , U Identity , Creature Based , {2} {U} Cost , U Color , Tokens <CARD_NAME> <name> <MANA_COST> {2} {U} <TYPE_LINE> Enchantment — Aura <ORACLE_TEXT> Enchant creature \\\\n When <name> enters , if you control another creature , scry 1 . ( Look at the top card of your library . You may put that card on the bottom . ) \\\\ \\\\ Enchanted creature gets 1 1 as long as you've committed a creature has a higher counter on it , it's an Army , instead . \\\\> gets an additional time counter is a Hamster , each creature you may planeswalk . If you do , create a 1 2 blue Hamster creature token that's blessing for each quest counter removed from <POWER> 2 <TOUGHNESS> 1 \"},\n",
       " {'index': 66784,\n",
       "  'prompt': '<|endoftext|> <THEMES> Indestructible , Creature , Annihilator , Creature Based , Experience Counters , N Color , Legendary , Eldrazi , {3} Cost , Dies , BGRUW Identity <CARD_NAME> <name> <MANA_COST> {3} <TYPE_LINE> Legendary Creature — Eldrazi <ORACLE_TEXT> Whenever <name> or another colorless creature',\n",
       "  'generated_text': ' <THEMES> Indestructible , Creature , Annihilator , Creature Based , Experience Counters , N Color , Legendary , Eldrazi , {3} Cost , Dies , BGRUW Identity <CARD_NAME> <name> <MANA_COST> {3} <TYPE_LINE> Legendary Creature — Eldrazi <ORACLE_TEXT> Whenever <name> or another colorless creature you control dies , you get an experience counter . \\\\n {W} {U} , Remove an oil counter from <POWER> 4 <TOUGHNESS> 3 '},\n",
       " {'index': 64686,\n",
       "  'prompt': \"<|endoftext|> <THEMES> Planeswalker , Elk Tokens , Copy Tokens , GU Color , {2} {G} {U} Cost , Creature Based , Card Draw , GU Identity , Hexproof , Tokens , Oko , Legendary , Discard <CARD_NAME> <name> <MANA_COST> {2} {G} {U} <TYPE_LINE> Legendary Planeswalker — <name> <ORACLE_TEXT> At the beginning of combat on your turn , <name> becomes a copy of up to one target creature you control until end of turn , except he has hexproof . \\\\n 1 : Draw two cards . If you've committed a crime this turn , discard\",\n",
       "  'generated_text': \" <THEMES> Planeswalker , Elk Tokens , Copy Tokens , GU Color , {2} {G} {U} Cost , Creature Based , Card Draw , GU Identity , Hexproof , Tokens , Oko , Legendary , Discard <CARD_NAME> <name> <MANA_COST> {2} {G} {U} <TYPE_LINE> Legendary Planeswalker — <name> <ORACLE_TEXT> At the beginning of combat on your turn , <name> becomes a copy of up to one target creature you control until end of turn , except he has hexproof . \\\\n 1 : Draw two cards . If you've committed a crime this turn , discard a card . Otherwise , you may discard two commanders if a creature card with hexproof , draw a nonland card , then discard cards equal to its mana value . ( Targeting opponents , anything they control , and or cards in their graveyards is a Crime , a 1 1 counter . ) \\\\ \\\\ −1 : Until your next turn and red Elk\"},\n",
       " {'index': 11915,\n",
       "  'prompt': '<|endoftext|> <THEMES> Creature , Attacking , Beast , R Color , Trample , R Identity , {6} {R} Cost <CARD_NAME> <name> <MANA_COST> {6} {R} <TYPE_LINE> Creature — Beast <ORACLE_TEXT> Trample \\\\n Whenever <name> attacks , it gets 3 0 until end of turn for each other attacking Beast . <POWER> 4 <TOUGHNESS> 4 <|endoftext|>',\n",
       "  'generated_text': \" <THEMES> Creature , Attacking , Beast , R Color , Trample , R Identity , {6} {R} Cost <CARD_NAME> <name> <MANA_COST> {6} {R} <TYPE_LINE> Creature — Beast <ORACLE_TEXT> Trample \\\\n Whenever <name> attacks , it gets 3 0 until end of turn for each other attacking Beast . <POWER> 4 <TOUGHNESS> 4   it's still a land as you cast this spell during your turn . ( Damage and effects that say destroy don't destroy it at least one other creatures with haste . If its toughness is 0 can't be put into its owner's not a graveyard . ) <LOYALTY> 6  Energy , destroy all lands you control and permanents you lose all permanents with indestructible counter on them . Activate only during combat . \\\\\"},\n",
       " {'index': 99061,\n",
       "  'prompt': \"<|endoftext|> <THEMES> Creature , {3} {U} Cost , Flying , U Identity , U Color , Dog <CARD_NAME> <name> <MANA_COST> {3} {U} <TYPE_LINE> Creature — Dog <ORACLE_TEXT> As long as you control a Yanling planeswalker , <name> has flying . ( It can't be blocked except by creatures\",\n",
       "  'generated_text': \" <THEMES> Creature , {3} {U} Cost , Flying , U Identity , U Color , Dog <CARD_NAME> <name> <MANA_COST> {3} {U} <TYPE_LINE> Creature — Dog <ORACLE_TEXT> As long as you control a Yanling planeswalker , <name> has flying . ( It can't be blocked except by creatures with flying or reach . ) <POWER> 4 <TOUGHNESS> 2 \"},\n",
       " {'index': 6175,\n",
       "  'prompt': '<|endoftext|> <THEMES> Damage , Enchantment , R Color , Sacrifice , Creature Based , R Identity , {3} {R} {R} Cost <CARD_NAME> <name> <MANA_COST> {3} {R} {R} <TYPE_LINE> Enchantment <ORACLE_TEXT> {1} {R} , Sacrifice a creature : <name> deals 2 damage to any target .',\n",
       "  'generated_text': ' <THEMES> Damage , Enchantment , R Color , Sacrifice , Creature Based , R Identity , {3} {R} {R} Cost <CARD_NAME> <name> <MANA_COST> {3} {R} {R} <TYPE_LINE> Enchantment <ORACLE_TEXT> {1} {R} , Sacrifice a creature : <name> deals 2 damage to any target . '},\n",
       " {'index': 112866,\n",
       "  'prompt': '<|endoftext|> <THEMES> Planeswalker , Scry , {3} {W} {U} Cost , Flying , UW Identity , Creature Based , Tokens , UW Color , Elminster , Faerie Dragon Tokens , Legendary , Card Draw <CARD_NAME> <name> <MANA_COST> {3} {W} {U} <TYPE_LINE> Legendary Planeswalker — <name> <ORACLE_TEXT> Whenever you scry , the next instant or sorcery spell you cast this turn costs {X} less to cast , where X is the',\n",
       "  'generated_text': \" <THEMES> Planeswalker , Scry , {3} {W} {U} Cost , Flying , UW Identity , Creature Based , Tokens , UW Color , Elminster , Faerie Dragon Tokens , Legendary , Card Draw <CARD_NAME> <name> <MANA_COST> {3} {W} {U} <TYPE_LINE> Legendary Planeswalker — <name> <ORACLE_TEXT> Whenever you scry , the next instant or sorcery spell you cast this turn costs {X} less to cast , where X is the number of instant and sorcery spells you've cast from the command zone this game with mana value of cards in your hand . \\\\n 1 : Scry 1 . ( You may pay {2} and you draw a card , then you may cast a nonland card you discarded this card for each turn with a creature on the battlefield with flying in its mana cost . ) \\\\ \\\\ −3 : Create two 1 1 blue and black Dragon creature tokens with When this creature enters , scry\"},\n",
       " {'index': 14371,\n",
       "  'prompt': '<|endoftext|> <THEMES> N Identity , Charge Counters , Artifact , N Color , {3} Cost <CARD_NAME> <name> <MANA_COST> {3} <TYPE_LINE> Artifact <ORACLE_TEXT> {4} , {T}',\n",
       "  'generated_text': ' <THEMES> N Identity , Charge Counters , Artifact , N Color , {3} Cost <CARD_NAME> <name> <MANA_COST> {3} <TYPE_LINE> Artifact <ORACLE_TEXT> {4} , {T} : Put a charge counter on <POWER> 0 <TOUGHNESS> 1 '},\n",
       " {'index': 20033,\n",
       "  'prompt': '<|endoftext|> <THEMES> Creature , {G} Cost , G Identity , G Color , Creature Based , Reach , Elf , Rogue <CARD_NAME> <name> <MANA_COST> {G} <TYPE_LINE> Creature — Elf Rogue',\n",
       "  'generated_text': ' <THEMES> Creature , {G} Cost , G Identity , G Color , Creature Based , Reach , Elf , Rogue <CARD_NAME> <name> <MANA_COST> {G} <TYPE_LINE> Creature — Elf Rogue Rogue Wizard <ORACLE_TEXT> Reach ( This creature can block creatures with flying . ) \\\\n {1} {B} , Exile <POWER> 1 <TOUGHNESS> 2 '},\n",
       " {'index': 82240,\n",
       "  'prompt': '<|endoftext|> <THEMES> RW Identity , Escape , Damage , Creature , Attacking , Drain , Giant , {1} {R} {W} Cost , Lifegain , Sacrifice , Elder , RW Color , Legendary <CARD_NAME> <name> <MANA_COST> {1} {R} {W} <TYPE_LINE> Legendary',\n",
       "  'generated_text': \" <THEMES> RW Identity , Escape , Damage , Creature , Attacking , Drain , Giant , {1} {R} {W} Cost , Lifegain , Sacrifice , Elder , RW Color , Legendary <CARD_NAME> <name> <MANA_COST> {1} {R} {W} <TYPE_LINE> Legendary Creature — Elder Giant <ORACLE_TEXT> When < enters , sacrifice it unless it escaped . \\\\n Whenever <POWER> enters and it doesn't on the battlefield , it deals 3 damage to any target . It deals that much damage plus 1 damage instead . Then if an opponent has no maximum hand , you gain 3 life . Otherwise , draw a card . If <LOYALTY> 3 \"},\n",
       " {'index': 20969,\n",
       "  'prompt': '<|endoftext|> <THEMES> Creature , G Identity , G Color , {6} {G} {G} Cost , Regenerate , Wurm , Discard <CARD_NAME> <name> <MANA_COST> {6} {G} {G} <TYPE_LINE> Creature — Wurm <ORACLE_TEXT> Discard a card : Regenerate <name> . <POWER> 6',\n",
       "  'generated_text': ' <THEMES> Creature , G Identity , G Color , {6} {G} {G} Cost , Regenerate , Wurm , Discard <CARD_NAME> <name> <MANA_COST> {6} {G} {G} <TYPE_LINE> Creature — Wurm <ORACLE_TEXT> Discard a card : Regenerate <name> . <POWER> 6 <TOUGHNESS> 5 '},\n",
       " {'index': 103819,\n",
       "  'prompt': '<|endoftext|> <THEMES> Creature , Lifegain , Human , Cleric , W Color , Creature Based , {1} {W} Cost , W Identity <CARD_NAME> <name> <MANA_COST> {1} {W} <TYPE_LINE> Creature — Human Cleric <ORACLE_TEXT> When <name> enters , you gain 2 life for each creature you control named <name> .',\n",
       "  'generated_text': ' <THEMES> Creature , Lifegain , Human , Cleric , W Color , Creature Based , {1} {W} Cost , W Identity <CARD_NAME> <name> <MANA_COST> {1} {W} <TYPE_LINE> Creature — Human Cleric <ORACLE_TEXT> When <name> enters , you gain 2 life for each creature you control named <name> . <POWER> 1 <TOUGHNESS> 2 '},\n",
       " {'index': 89192,\n",
       "  'prompt': '<|endoftext|> <THEMES> B Identity , {B} {B} Cost , Aura , Damage , Enchantment , Creature Based , B Color <CARD_NAME> <name> <MANA_COST> {B} {B} <TYPE_LINE> Enchantment — Aura <ORACLE_TEXT> Enchant planeswalker \\\\n Enchanted planeswalker has −8 : Put all creature cards from all graveyards onto the battlefield under your control . \\\\n Whenever a creature deals damage to enchanted planeswalker , destroy',\n",
       "  'generated_text': \" <THEMES> B Identity , {B} {B} Cost , Aura , Damage , Enchantment , Creature Based , B Color <CARD_NAME> <name> <MANA_COST> {B} {B} <TYPE_LINE> Enchantment — Aura <ORACLE_TEXT> Enchant planeswalker \\\\n Enchanted planeswalker has −8 : Put all creature cards from all graveyards onto the battlefield under your control . \\\\n Whenever a creature deals damage to enchanted planeswalker , destroy that creature . They can't be regenerated . That creature's controller loses half their life , rounded down and has At the beginning of the next end step , that player loses 4 life . \"},\n",
       " {'index': 55333,\n",
       "  'prompt': '<|endoftext|> <THEMES> N Identity , {2} Cost , Creature Based , Artifact , N Color <CARD_NAME> <name> <MANA_COST> {2} <TYPE_LINE> Artifact <ORACLE_TEXT> As <name> enters , choose a creature type . \\\\n Each creature card in your graveyard has the chosen creature type in addition to',\n",
       "  'generated_text': \" <THEMES> N Identity , {2} Cost , Creature Based , Artifact , N Color <CARD_NAME> <name> <MANA_COST> {2} <TYPE_LINE> Artifact <ORACLE_TEXT> As <name> enters , choose a creature type . \\\\n Each creature card in your graveyard has the chosen creature type in addition to its other types . ( A deck can't in the mana costs of that aren't be in or abilities can be paid with {1} . ) \\\\ Each of creature with the same name as the most life or ability of the last chosen type among creatures you control . \"},\n",
       " {'index': 78172,\n",
       "  'prompt': '<|endoftext|> <THEMES> N Identity , Enchantment Based , Artifact , N Color , {3} Cost <CARD_NAME> <name> <MANA_COST> {3} <TYPE_LINE> Artifact <ORACLE_TEXT> {5} , {T} : Return target enchantment card from your graveyard to your hand . <|endoftext|>',\n",
       "  'generated_text': \" <THEMES> N Identity , Enchantment Based , Artifact , N Color , {3} Cost <CARD_NAME> <name> <MANA_COST> {3} <TYPE_LINE> Artifact <ORACLE_TEXT> {5} , {T} : Return target enchantment card from your graveyard to your hand .  that card perpetually gets 1 1 . ( It loses all other card types , color , creature types and abilities and types . Damage and effects that say destroy don't destroy it . )  Phyrexian . Activate only if its toughness is 0 or less , its power is 5 or greater . \\\\n {1} {2} in your life total can't be 0 . Any amount of mana in the mana cost is equal to X is greater than 1 plus 1 counters on <POWER> 1 <TOUGHNESS> 2  Time travel . This ability costs {X} less than three times if there are no more than seven , you may pay the damage dealt to the number of\"},\n",
       " {'index': 8326,\n",
       "  'prompt': '<|endoftext|> <THEMES> Creature , GR Color , Sacrifice , Human , Warrior , Stangg Twin Tokens , Creature Based , {4} {R} {G} Cost , Tokens , GR Identity , Legendary <CARD_NAME> <name> <MANA_COST>',\n",
       "  'generated_text': ' <THEMES> Creature , GR Color , Sacrifice , Human , Warrior , Stangg Twin Tokens , Creature Based , {4} {R} {G} Cost , Tokens , GR Identity , Legendary <CARD_NAME> <name> <MANA_COST> {10}}4TYPE_LINE> Legendary Creature — Human Warrior <ORACLE_TEXT> When < enters , create two Twin , a legendary 4 4 red Dragon creature tokens with When this creature enters the battlefield , sacrifice it . Exile them at the beginning of the next end step . \\\\n {T} , Exile the top X cards of your library , where X is the number of nontoken creatures you control . Choose a creature card with mana value among them exiled with <POWER> 5 <TOUGHNESS> 4 '},\n",
       " {'index': 50432,\n",
       "  'prompt': '<|endoftext|> <THEMES> Enchantment , {2} {U} Cost , U Color , U Identity <CARD_NAME> <name> <MANA_COST> {2} {U} <TYPE_LINE> Enchantment <ORACLE_TEXT> Whenever a player casts a spell , that player',\n",
       "  'generated_text': \" <THEMES> Enchantment , {2} {U} Cost , U Color , U Identity <CARD_NAME> <name> <MANA_COST> {2} {U} <TYPE_LINE> Enchantment <ORACLE_TEXT> Whenever a player casts a spell , that player reveals the top card of their library . If it's a land card , the player puts it onto the battlefield . Otherwise , they may pay {1} to end of turn . \\\\n Whenever you play a card with the highest mana value , you may put a name sticker on it . Then that land becomes a copy of the exiled card . \"},\n",
       " {'index': 50019,\n",
       "  'prompt': \"<|endoftext|> <THEMES> Druid , Creature , Attacking , G Identity , G Color , Creature Based , Combat Damage , Bear , {2} {G} {G} Cost , Legendary <CARD_NAME> <name> <MANA_COST> {2} {G} {G} <TYPE_LINE> Legendary Creature — Bear Druid <ORACLE_TEXT> Whenever <name> enters or attacks , return target creature card with no abilities from your graveyard to your hand . \\\\n Creatures you control with no abilities get 1 1 . \\\\n For each creature you control with no abilities , you may have that creature assign its combat damage as though it weren't blocked . <POWER> 4 <TOUGHNESS> 4 <|endoftext|>\",\n",
       "  'generated_text': \" <THEMES> Druid , Creature , Attacking , G Identity , G Color , Creature Based , Combat Damage , Bear , {2} {G} {G} Cost , Legendary <CARD_NAME> <name> <MANA_COST> {2} {G} {G} <TYPE_LINE> Legendary Creature — Bear Druid <ORACLE_TEXT> Whenever <name> enters or attacks , return target creature card with no abilities from your graveyard to your hand . \\\\n Creatures you control with no abilities get 1 1 . \\\\n For each creature you control with no abilities , you may have that creature assign its combat damage as though it weren't blocked . <POWER> 4 <TOUGHNESS> 4  1  Elf Druid creature  Counters  {1}  Each creature that would reduce the number of <LOYALTY> 2  Partner with < advance to its owner's power and its toughness is equal to that card's toughness . ( You may cast spells from the command zone this\"},\n",
       " {'index': 78104,\n",
       "  'prompt': '<|endoftext|> <THEMES> Double Strike , Trample , Deathtouch , Legendary , Lifelink , Creature , Haste , Flying , Creature Based , Menace , Partner , W Color , {5} {W} {W} Cost , Indestructible , Vigilance , First Strike , Hexproof , Angel , Reach , W Identity <CARD_NAME> <name> <MANA_COST> {5} {W} {W} <TYPE_LINE> Legendary Creature — Angel <ORACLE_TEXT> Flying , first strike , vigilance , trample \\\\n At the beginning of each combat , until end of turn , each other creature you control gets 1 1 if it has flying , 1 1 if it has first strike , and so on for double strike , deathtouch , haste , hexproof , indestructible , lifelink , menace , protection , reach , trample , vigilance , and partner .',\n",
       "  'generated_text': ' <THEMES> Double Strike , Trample , Deathtouch , Legendary , Lifelink , Creature , Haste , Flying , Creature Based , Menace , Partner , W Color , {5} {W} {W} Cost , Indestructible , Vigilance , First Strike , Hexproof , Angel , Reach , W Identity <CARD_NAME> <name> <MANA_COST> {5} {W} {W} <TYPE_LINE> Legendary Creature — Angel <ORACLE_TEXT> Flying , first strike , vigilance , trample \\\\n At the beginning of each combat , until end of turn , each other creature you control gets 1 1 if it has flying , 1 1 if it has first strike , and so on for double strike , deathtouch , haste , hexproof , indestructible , lifelink , menace , protection , reach , trample , vigilance , and partner . \\\\ \\\\> also get 1 0 as long as you have flying . The same is true for first time a creature card you own in your graveyard has escape cost reduced by'},\n",
       " {'index': 61348,\n",
       "  'prompt': '<|endoftext|> <THEMES> 1 1 Counters , {1} {G} Cost , GW Identity , G Color , Creature Based , Sorcery , Flashback <CARD_NAME> <name> <MANA_COST> {1} {G} <TYPE_LINE> Sorcery <ORACLE_TEXT> Put a 1 1 counter on each of up to two target creatures . \\\\n Flashback {1} {W} ( You may cast this card from your graveyard',\n",
       "  'generated_text': \" <THEMES> 1 1 Counters , {1} {G} Cost , GW Identity , G Color , Creature Based , Sorcery , Flashback <CARD_NAME> <name> <MANA_COST> {1} {G} <TYPE_LINE> Sorcery <ORACLE_TEXT> Put a 1 1 counter on each of up to two target creatures . \\\\n Flashback {1} {W} ( You may cast this card from your graveyard for its flashback cost . Then exile it . ) \\\\ Exile cards from the top of your library until you exile a nonland card that costs less . You can be cast it without paying its mana cost or put it into your hand . ( If you do , cast the exiled card on the bottom in a random order . At the beginning of its owner's library in exile without drafting a later turn , that player puts it on a copy of their library . They may play that card without summoning sickness again if it's a creature card would leave the card exiled\"},\n",
       " {'index': 69352,\n",
       "  'prompt': '<|endoftext|> <THEMES> 1 1 Counters , G Identity , G Color , Creature Based , {3} {G} Cost , Instant , Delirium <CARD_NAME> <name> <MANA_COST> {3} {G} <TYPE_LINE> Instant <ORACLE_TEXT> Put two 1 1 counters on target creature . \\\\n Delirium — Put three 1 1',\n",
       "  'generated_text': ' <THEMES> 1 1 Counters , G Identity , G Color , Creature Based , {3} {G} Cost , Instant , Delirium <CARD_NAME> <name> <MANA_COST> {3} {G} <TYPE_LINE> Instant <ORACLE_TEXT> Put two 1 1 counters on target creature . \\\\n Delirium — Put three 1 1 counter on each of up to two target lands you control . If there are four or more card types among cards in your graveyard , those creatures get an additional 1 0 until end of turn instead if there is four plus one or fewer than two or two , put two -1 -0 counters from among one of those lands instead . ( They each deal damage to them into your opponents , remove all permanents and or players , then give each another counter of each poison counter from it . ) '},\n",
       " {'index': 32953,\n",
       "  'prompt': '<|endoftext|> <THEMES> B Identity , Drain , {3} {B} Cost , Lifegain , Creature Based , B Color , Instant <CARD_NAME> <name> <MANA_COST> {3} {B} <TYPE_LINE> Instant <ORACLE_TEXT> Return up to two target creature cards from your graveyard to',\n",
       "  'generated_text': \" <THEMES> B Identity , Drain , {3} {B} Cost , Lifegain , Creature Based , B Color , Instant <CARD_NAME> <name> <MANA_COST> {3} {B} <TYPE_LINE> Instant <ORACLE_TEXT> Return up to two target creature cards from your graveyard to your hand . If you control a Vampire , you gain 2 life and you may gain 1 life . ( Damage causes loss of life equal to the life lost this way to that much life in the damage to you to gain that creature's toughness . ) \"},\n",
       " {'index': 127281,\n",
       "  'prompt': '<|endoftext|> <THEMES> Creature , Proliferate , {3} {U} Cost , U Identity , Wizard , U Color , Phyrexian <CARD_NAME> <name> <MANA_COST> {3} {U} <TYPE_LINE> Creature — Phyrexian Wizard <ORACLE_TEXT> When <name> enters , you may tap it . If you do , proliferate . ( Choose any number of permanents and or players , then give each',\n",
       "  'generated_text': \" <THEMES> Creature , Proliferate , {3} {U} Cost , U Identity , Wizard , U Color , Phyrexian <CARD_NAME> <name> <MANA_COST> {3} {U} <TYPE_LINE> Creature — Phyrexian Wizard <ORACLE_TEXT> When <name> enters , you may tap it . If you do , proliferate . ( Choose any number of permanents and or players , then give each another counter of each kind already there . ) \\\\n Proliferate . \\\\ \\\\ Proliferate twice . Each clashing player reveals the top card of their library , Sacrifice any time . You may put that card on a nonland card they own . A player wins if it's a permanent card had a higher counter on it , and they guessed wrong counter put a stun counter into their hand . Then each of the card returns it on top or bottom . <POWER> 2 <TOUGHNESS> 3 \"},\n",
       " {'index': 72512,\n",
       "  'prompt': '<|endoftext|> <THEMES> B Identity , Creature , Card Draw , B Color , {2} {B} Cost , Horror , Phyrexian <CARD_NAME> <name>',\n",
       "  'generated_text': ' <THEMES> B Identity , Creature , Card Draw , B Color , {2} {B} Cost , Horror , Phyrexian <CARD_NAME> <name> {5}}2/P} <TYPE_LINE> Creature — Phyrexian Horror <ORACLE_TEXT> ( {U/B/R} can be paid with either {C} or 2 life . ) \\\\n At the beginning of your end step , draw a card . \\\\ \\\\ {1} , if you lost life this turn , each opponent discards a nonland card and you draw that many cards . <POWER> 4 <TOUGHNESS> 3 '},\n",
       " {'index': 112824,\n",
       "  'prompt': \"<|endoftext|> <THEMES> Creature , Attacking , GU Color , Hippo , GU Identity , {G} {U} Cost , Combat Damage <CARD_NAME> <name> <MANA_COST> {G} {U} <TYPE_LINE> Creature — Hippo <ORACLE_TEXT> Whenever <name> attacks and isn't blocked , you may have defending player activate a mana ability of each land they control and lose all unspent mana . If you do , <name> assigns no combat damage this turn and at the beginning of your next main phase this turn , you add an amount of {C} equal to the amount of mana that\",\n",
       "  'generated_text': \" <THEMES> Creature , Attacking , GU Color , Hippo , GU Identity , {G} {U} Cost , Combat Damage <CARD_NAME> <name> <MANA_COST> {G} {U} <TYPE_LINE> Creature — Hippo <ORACLE_TEXT> Whenever <name> attacks and isn't blocked , you may have defending player activate a mana ability of each land they control and lose all unspent mana . If you do , <name> assigns no combat damage this turn and at the beginning of your next main phase this turn , you add an amount of {C} equal to the amount of mana that player's mana instead . <POWER> 3 <TOUGHNESS> 4 \"},\n",
       " {'index': 123526,\n",
       "  'prompt': '<|endoftext|> <THEMES> G Identity , Land , Cost , Sacrifice , Creature Based , Pay Life , Desert , N Color <CARD_NAME> <name> <MANA_COST> <TYPE_LINE> Land — Desert',\n",
       "  'generated_text': \" <THEMES> G Identity , Land , Cost , Sacrifice , Creature Based , Pay Life , Desert , N Color <CARD_NAME> <name> <MANA_COST> <TYPE_LINE> Land — Desert <ORACLE_TEXT> {T} : Add {C} . \\\\n {1} {G} , {2}} — {B} or {W} ( {3} a Desert card in addition to its other costs {R} less to cast this card's mana cost , Rogue , or Raccoon you may pay 2 life . If you do , it enters with two 1 1 counters on it . ) \\\\ \\\\ . Activate only if you control three or more Desert cards in your graveyard . <POWER> 1 <TOUGHNESS> 2 \"},\n",
       " {'index': 1504,\n",
       "  'prompt': \"<|endoftext|> <THEMES> Creature , Beast , BU Identity , B Color , {2} {B} Cost , Landwalk <CARD_NAME> <name> <MANA_COST> {2} {B} <TYPE_LINE> Creature — Beast <ORACLE_TEXT> {U} : <name> gains islandwalk until end of turn . ( It can't be blocked as\",\n",
       "  'generated_text': \" <THEMES> Creature , Beast , BU Identity , B Color , {2} {B} Cost , Landwalk <CARD_NAME> <name> <MANA_COST> {2} {B} <TYPE_LINE> Creature — Beast <ORACLE_TEXT> {U} : <name> gains islandwalk until end of turn . ( It can't be blocked as long as defending player controls a Island . ) <POWER> 1 <TOUGHNESS> 3 \"},\n",
       " {'index': 89166,\n",
       "  'prompt': '<|endoftext|> <THEMES> BGR Identity , Damage , Creature , {4} {B} {R} {G} Cost , Trample , Wurm , BGR Color',\n",
       "  'generated_text': \" <THEMES> BGR Identity , Damage , Creature , {4} {B} {R} {G} Cost , Trample , Wurm , BGR Color , Combat Damage <CARD_NAME> <name> {10}} less to cast this spell costs {1} Upkeep <TYPE_LINE> Creature — Wurm <ORACLE_TEXT> This spell can't be countered . \\\\n Trample \\\\ \\\\ Counters would deal excess combat damage to the player or planeswalker it's attacking equal to its power to that player equal or that much damage divided as you choose among one , or more , two targets . <POWER> 7 <TOUGHNESS> 6 \"},\n",
       " {'index': 94466,\n",
       "  'prompt': '<|endoftext|> <THEMES> Creature , Praetor , {5} {U} {U} Cost , Copy Tokens , Artifact Based , U Identity , U Color , Legendary , Phyrexian <CARD_NAME> <name> <MANA_COST> {5} {U} {U} <TYPE_LINE> Legendary Creature — Phyrexian Praetor <ORACLE_TEXT> Whenever you cast an artifact , instant , or sorcery',\n",
       "  'generated_text': \" <THEMES> Creature , Praetor , {5} {U} {U} Cost , Copy Tokens , Artifact Based , U Identity , U Color , Legendary , Phyrexian <CARD_NAME> <name> <MANA_COST> {5} {U} {U} <TYPE_LINE> Legendary Creature — Phyrexian Praetor <ORACLE_TEXT> Whenever you cast an artifact , instant , or sorcery spell , copy it . You may choose new targets for the copy . This ability triggers only once each turn . \\\\n {2} : You have target of an instant or triggered ability . If you control that spell or ability an opponent would become untapped , you may copy that ability for each permanent or player to trigger , except it's not a permanent spell's an additional time for mana cost . <POWER> 6 <TOUGHNESS> 5 \"},\n",
       " {'index': 15014,\n",
       "  'prompt': '<|endoftext|> <THEMES> 1 1 Counters , G Identity , Lifegain , G Color , Creature Based , Artifact , {7} {G} {G} Cost , Legendary , Card Draw <CARD_NAME> <name> <MANA_COST> {7} {G} {G} <TYPE_LINE> Legendary Artifact <ORACLE_TEXT> This spell costs {X} less to cast , where X is the greatest power among creatures you control . \\\\n {T} : Add {G} {G} . You gain 2 life . \\\\n Whenever a nontoken creature you control enters , put a 1 1 counter on it and',\n",
       "  'generated_text': ' <THEMES> 1 1 Counters , G Identity , Lifegain , G Color , Creature Based , Artifact , {7} {G} {G} Cost , Legendary , Card Draw <CARD_NAME> <name> <MANA_COST> {7} {G} {G} <TYPE_LINE> Legendary Artifact <ORACLE_TEXT> This spell costs {X} less to cast , where X is the greatest power among creatures you control . \\\\n {T} : Add {G} {G} . You gain 2 life . \\\\n Whenever a nontoken creature you control enters , put a 1 1 counter on it and draw a card . '}]"
      ]
     },
     "execution_count": 65,
     "metadata": {},
     "output_type": "execute_result"
    }
   ],
   "source": [
    "test_set_generations"
   ]
  },
  {
   "cell_type": "code",
   "execution_count": 66,
   "metadata": {},
   "outputs": [],
   "source": [
    "with open('./generated_test_set_endoftext_testing.txt', 'w') as f:\n",
    "    for item in test_set_generations:\n",
    "        f.write(\"%s\\n\" % item)"
   ]
  },
  {
   "cell_type": "code",
   "execution_count": null,
   "metadata": {},
   "outputs": [],
   "source": []
  },
  {
   "cell_type": "code",
   "execution_count": null,
   "metadata": {},
   "outputs": [],
   "source": []
  },
  {
   "cell_type": "code",
   "execution_count": null,
   "metadata": {},
   "outputs": [],
   "source": []
  },
  {
   "cell_type": "code",
   "execution_count": null,
   "metadata": {},
   "outputs": [],
   "source": []
  },
  {
   "cell_type": "code",
   "execution_count": 110,
   "metadata": {},
   "outputs": [
    {
     "data": {
      "text/plain": [
       "'[start] <THEMES> Druid , Creature , Vigilance , GW Color , GW Identity , Human , Knight , {G} {W} Cost <CARD_NAME> <name> <MANA_COST> {G} {W} <TYPE_LINE> Creature — Human Druid Knight <ORACLE_TEXT>'"
      ]
     },
     "execution_count": 110,
     "metadata": {},
     "output_type": "execute_result"
    }
   ],
   "source": [
    "tokenize_dataset_dict['test']['sentence'][0]"
   ]
  },
  {
   "cell_type": "code",
   "execution_count": 111,
   "metadata": {},
   "outputs": [],
   "source": [
    "def generate_cards(model, tokenizer, dataset, prompt_template, device='cuda', \n",
    "                  max_length=100, temperature=0.8, top_k=50, top_p=0.95, \n",
    "                  no_repeat_ngram_size=2, batch_size=8, num_samples=None):\n",
    "    \"\"\"\n",
    "    Generate Magic card text from prompts in a dataset.\n",
    "    \n",
    "    Args:\n",
    "        model: The language model to use for generation\n",
    "        tokenizer: The tokenizer for the model\n",
    "        dataset: A HuggingFace dataset (or subset) containing prompts\n",
    "        prompt_template: Template string with placeholders for dataset fields\n",
    "        device: Device to run inference on ('cuda' or 'cpu')\n",
    "        max_length: Maximum length of generated text\n",
    "        temperature: Controls randomness (higher = more random)\n",
    "        top_k: Number of highest probability tokens to consider\n",
    "        top_p: Cumulative probability threshold for nucleus sampling\n",
    "        no_repeat_ngram_size: Size of n-grams to avoid repeating\n",
    "        batch_size: Number of examples to process at once\n",
    "        num_samples: Optional limit on number of samples to process\n",
    "        \n",
    "    Returns:\n",
    "        List of dictionaries containing original inputs and generated outputs\n",
    "    \"\"\"\n",
    "    import torch\n",
    "    from tqdm.notebook import tqdm\n",
    "    \n",
    "    results = []\n",
    "    \n",
    "    # Limit samples if specified\n",
    "    if num_samples is not None:\n",
    "        dataset = dataset.select(range(min(num_samples, len(dataset))))\n",
    "    \n",
    "    # Process in batches for efficiency\n",
    "    for i in range(0, len(dataset), batch_size):\n",
    "        batch = dataset[i:i+batch_size]\n",
    "        batch_prompts = []\n",
    "        \n",
    "        # Create prompts for each example in batch\n",
    "        for example in batch:\n",
    "            # Format the prompt using the template and fields from the dataset\n",
    "            # This assumes the prompt template has placeholders matching dataset fields\n",
    "            # Example: \"<THEMES> {themes} <CARD_NAME> {name} <MANA_COST>\"\n",
    "            formatted_prompt = prompt_template\n",
    "            \n",
    "            # Replace each placeholder with corresponding dataset value\n",
    "            for key, value in example.items():\n",
    "                placeholder = \"{\" + key + \"}\"\n",
    "                if placeholder in formatted_prompt:\n",
    "                    formatted_prompt = formatted_prompt.replace(placeholder, str(value))\n",
    "            \n",
    "            batch_prompts.append(formatted_prompt)\n",
    "        \n",
    "        # Tokenize all prompts in batch\n",
    "        inputs = tokenizer(batch_prompts, return_tensors=\"pt\", padding=True).to(device)\n",
    "        \n",
    "        # Generate text for all prompts in batch\n",
    "        with torch.no_grad():\n",
    "            outputs = model.generate(\n",
    "                inputs.input_ids,\n",
    "                max_length=max_length,\n",
    "                do_sample=True,\n",
    "                temperature=temperature,\n",
    "                top_k=top_k,\n",
    "                top_p=top_p,\n",
    "                no_repeat_ngram_size=no_repeat_ngram_size,\n",
    "                pad_token_id=tokenizer.pad_token_id,\n",
    "                eos_token_id=tokenizer.eos_token_id,\n",
    "            )\n",
    "        \n",
    "        # Decode all generated outputs\n",
    "        generated_texts = [tokenizer.decode(output, skip_special_tokens=True) \n",
    "                          for output in outputs]\n",
    "        \n",
    "        # Store results\n",
    "        for j, text in enumerate(generated_texts):\n",
    "            result = {**batch[j], 'generated_text': text, 'prompt': batch_prompts[j]}\n",
    "            results.append(result)\n",
    "            \n",
    "    return results"
   ]
  },
  {
   "cell_type": "code",
   "execution_count": 112,
   "metadata": {},
   "outputs": [],
   "source": [
    "prompt_template = \"<THEMES> {themes} <CARD_NAME> {name} <MANA_COST>\""
   ]
  },
  {
   "cell_type": "code",
   "execution_count": 113,
   "metadata": {},
   "outputs": [
    {
     "ename": "AttributeError",
     "evalue": "'str' object has no attribute 'items'",
     "output_type": "error",
     "traceback": [
      "\u001b[1;31m---------------------------------------------------------------------------\u001b[0m",
      "\u001b[1;31mAttributeError\u001b[0m                            Traceback (most recent call last)",
      "Cell \u001b[1;32mIn[113], line 1\u001b[0m\n\u001b[1;32m----> 1\u001b[0m test_outputs \u001b[38;5;241m=\u001b[39m \u001b[43mgenerate_cards\u001b[49m\u001b[43m(\u001b[49m\u001b[43mgptmodel\u001b[49m\u001b[43m,\u001b[49m\u001b[43m \u001b[49m\u001b[43mtokenizer_fast\u001b[49m\u001b[43m,\u001b[49m\u001b[43m \u001b[49m\u001b[43mtokenize_dataset_dict\u001b[49m\u001b[43m[\u001b[49m\u001b[38;5;124;43m'\u001b[39;49m\u001b[38;5;124;43mtest\u001b[39;49m\u001b[38;5;124;43m'\u001b[39;49m\u001b[43m]\u001b[49m\u001b[43m,\u001b[49m\u001b[43m \u001b[49m\u001b[43mprompt_template\u001b[49m\u001b[43m,\u001b[49m\u001b[43m \u001b[49m\u001b[43mdevice\u001b[49m\u001b[38;5;241;43m=\u001b[39;49m\u001b[43mdevice\u001b[49m\u001b[43m,\u001b[49m\u001b[43m \u001b[49m\u001b[43mnum_samples\u001b[49m\u001b[38;5;241;43m=\u001b[39;49m\u001b[38;5;241;43m10\u001b[39;49m\u001b[43m)\u001b[49m\n",
      "Cell \u001b[1;32mIn[111], line 46\u001b[0m, in \u001b[0;36mgenerate_cards\u001b[1;34m(model, tokenizer, dataset, prompt_template, device, max_length, temperature, top_k, top_p, no_repeat_ngram_size, batch_size, num_samples)\u001b[0m\n\u001b[0;32m     43\u001b[0m formatted_prompt \u001b[38;5;241m=\u001b[39m prompt_template\n\u001b[0;32m     45\u001b[0m \u001b[38;5;66;03m# Replace each placeholder with corresponding dataset value\u001b[39;00m\n\u001b[1;32m---> 46\u001b[0m \u001b[38;5;28;01mfor\u001b[39;00m key, value \u001b[38;5;129;01min\u001b[39;00m \u001b[43mexample\u001b[49m\u001b[38;5;241;43m.\u001b[39;49m\u001b[43mitems\u001b[49m():\n\u001b[0;32m     47\u001b[0m     placeholder \u001b[38;5;241m=\u001b[39m \u001b[38;5;124m\"\u001b[39m\u001b[38;5;124m{\u001b[39m\u001b[38;5;124m\"\u001b[39m \u001b[38;5;241m+\u001b[39m key \u001b[38;5;241m+\u001b[39m \u001b[38;5;124m\"\u001b[39m\u001b[38;5;124m}\u001b[39m\u001b[38;5;124m\"\u001b[39m\n\u001b[0;32m     48\u001b[0m     \u001b[38;5;28;01mif\u001b[39;00m placeholder \u001b[38;5;129;01min\u001b[39;00m formatted_prompt:\n",
      "\u001b[1;31mAttributeError\u001b[0m: 'str' object has no attribute 'items'"
     ]
    }
   ],
   "source": [
    "test_outputs = generate_cards(gptmodel, tokenizer_fast, tokenize_dataset_dict['test'], prompt_template, device=device, num_samples=10)"
   ]
  },
  {
   "cell_type": "code",
   "execution_count": null,
   "metadata": {},
   "outputs": [],
   "source": []
  },
  {
   "cell_type": "code",
   "execution_count": null,
   "metadata": {},
   "outputs": [],
   "source": []
  },
  {
   "cell_type": "code",
   "execution_count": null,
   "metadata": {},
   "outputs": [],
   "source": []
  }
 ],
 "metadata": {
  "kernelspec": {
   "display_name": "tcg_generator",
   "language": "python",
   "name": "python3"
  },
  "language_info": {
   "codemirror_mode": {
    "name": "ipython",
    "version": 3
   },
   "file_extension": ".py",
   "mimetype": "text/x-python",
   "name": "python",
   "nbconvert_exporter": "python",
   "pygments_lexer": "ipython3",
   "version": "3.12.9"
  }
 },
 "nbformat": 4,
 "nbformat_minor": 4
}
