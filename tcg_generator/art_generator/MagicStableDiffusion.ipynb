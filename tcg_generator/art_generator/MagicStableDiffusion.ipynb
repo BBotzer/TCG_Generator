{
 "cells": [
  {
   "cell_type": "code",
   "execution_count": 1,
   "id": "61596fae-b2b2-4a7a-b7ff-253694f1f0fd",
   "metadata": {},
   "outputs": [
    {
     "name": "stderr",
     "output_type": "stream",
     "text": [
      "C:\\Users\\jakec\\anaconda3\\envs\\Capstone\\Lib\\site-packages\\tqdm\\auto.py:21: TqdmWarning: IProgress not found. Please update jupyter and ipywidgets. See https://ipywidgets.readthedocs.io/en/stable/user_install.html\n",
      "  from .autonotebook import tqdm as notebook_tqdm\n",
      "Loading pipeline components...:  33%|███▎      | 3/9 [00:01<00:02,  2.15it/s]\n",
      "Loading checkpoint shards:   0%|          | 0/2 [00:00<?, ?it/s]\u001b[A\n",
      "Loading checkpoint shards:  50%|█████     | 1/2 [00:05<00:05,  5.04s/it]\u001b[A\n",
      "Loading checkpoint shards: 100%|██████████| 2/2 [00:09<00:00,  4.79s/it]\u001b[A\n",
      "Loading pipeline components...:  44%|████▍     | 4/9 [00:11<00:18,  3.65s/it]You set `add_prefix_space`. The tokenizer needs to be converted from the slow tokenizers\n",
      "Loading pipeline components...: 100%|██████████| 9/9 [00:13<00:00,  1.53s/it]\n"
     ]
    }
   ],
   "source": [
    "# Also install huggingface_hub, pytorch, and sentencepiece\n",
    "\n",
    "# to run, first run \"huggingface-cli login\" in a command prompt\n",
    "# also \"pip install git+https://github.com/huggingface/diffusers.git\"\n",
    "\n",
    "import torch\n",
    "from diffusers import StableDiffusion3Pipeline\n",
    "\n",
    "pipe = StableDiffusion3Pipeline.from_pretrained(\"stabilityai/stable-diffusion-3.5-medium\", torch_dtype=torch.bfloat16)"
   ]
  },
  {
   "cell_type": "code",
   "execution_count": 2,
   "id": "7d61feba-345b-4211-bad1-4829c8af59e7",
   "metadata": {},
   "outputs": [],
   "source": [
    "# If not using cuda, remove this line\n",
    "pipe = pipe.to(\"cuda\")"
   ]
  },
  {
   "cell_type": "code",
   "execution_count": null,
   "id": "c784ce8c-d5a1-44bf-999e-f5c7a76b1f5e",
   "metadata": {},
   "outputs": [],
   "source": [
    "image = pipe(\n",
    "    \"['llanowar elves] <THEMES> Creature , Flying , UW Identity , Human , Creature Based , Wizard , {W} {U} Cost , UW Color <CARD_NAME> <name> <MANA_COST> {W} {U} <TYPE_LINE> Creature — Human Wizard <ORACLE_TEXT> First team ( When this creature attacks , conjure a duplicate into your hand , then discard a card . ) \\\\n Psychic come up to one or more permanents you control with']\",\n",
    "    num_inference_steps=40,\n",
    "    guidance_scale=4.5, \n",
    ").images[0]\n",
    "image.save(\"llanowar elves.png\")\n",
    "\n",
    "image = pipe(\n",
    "    \"<THEMES> Extra Turn, Creature, R Color, {R} {R} Cost <CARD_NAME> Bridgemaw <MANA_COST> {R} {R} <TYPE_LINE> Creature — Beeble <ORACLE_TEXT> Chroma — When <name> enters , target player reveals their hand . You choose a nonland card from it and a nonland card from it . That player discards that card . Activate only during each player's next turn . If this spell would be put\",\n",
    "    num_inference_steps=40,\n",
    "    guidance_scale=4.5, \n",
    ").images[0]\n",
    "image.save(\"Bridgemaw.png\")\n",
    "\n",
    "image = pipe(\n",
    "    \"[start] <THEMES> B Identity , Damage , Drain , Lifegain , Creature Based , {B} Cost , B Color , Instant <CARD_NAME> <name> <MANA_COST> {B} <TYPE_LINE> Instant <ORACLE_TEXT> <name> deals 1 damage to target creature and you gain 1 life . You gain 1 life . <name> deals 1 damage to each opponent . You gain life equal to the damage prevented this way . You gain life equal to\",\n",
    "    num_inference_steps=40,\n",
    "    guidance_scale=4.5, \n",
    ").images[0]\n",
    "image.save(\"name.png\")"
   ]
  },
  {
   "cell_type": "code",
   "execution_count": 4,
   "id": "075b9978-6fb0-4262-ac93-8edca394afe8",
   "metadata": {},
   "outputs": [
    {
     "name": "stderr",
     "output_type": "stream",
     "text": [
      "100%|██████████| 40/40 [20:24<00:00, 30.62s/it]\n",
      "100%|██████████| 40/40 [20:22<00:00, 30.56s/it]\n",
      "100%|██████████| 40/40 [20:23<00:00, 30.58s/it]\n"
     ]
    }
   ],
   "source": [
    "image = pipe(\n",
    "    \"[llanowar elves] Creature, Flying, White Identity, Human, Creature Based, Wizard, White Color, Creature — Human Wizard. First team (When this creature attacks, conjure a duplicate into your hand, then discard a card.\",\n",
    "    num_inference_steps=40,\n",
    "    guidance_scale=4.5, \n",
    ").images[0]\n",
    "image.save(\"llanowar elves_2.png\")\n",
    "\n",
    "image = pipe(\n",
    "    \"Extra Turn, Creature, Red Color, Cost <CARD_NAME> Bridgemaw <MANA_COST> Red Red <TYPE_LINE> Creature — Beeble <ORACLE_TEXT> Chroma — When Bridgemaw enters, target player reveals their hand. That player discards that card.\",\n",
    "    num_inference_steps=40,\n",
    "    guidance_scale=4.5, \n",
    ").images[0]\n",
    "image.save(\"Bridgemaw_2.png\")\n",
    "\n",
    "image = pipe(\n",
    "    \"Blue Identity, Damage, Drain, Lifegain, Creature Based, Blue Cost, Blue Color, Instant <MANA_COST> Blue <TYPE_LINE> Instant <ORACLE_TEXT> deals 1 damage to target creature and you gain 1 life. deals 1 damage to each opponent.\",\n",
    "    num_inference_steps=40,\n",
    "    guidance_scale=4.5, \n",
    ").images[0]\n",
    "image.save(\"name_2.png\")"
   ]
  }
 ],
 "metadata": {
  "kernelspec": {
   "display_name": "Python 3 (ipykernel)",
   "language": "python",
   "name": "python3"
  },
  "language_info": {
   "codemirror_mode": {
    "name": "ipython",
    "version": 3
   },
   "file_extension": ".py",
   "mimetype": "text/x-python",
   "name": "python",
   "nbconvert_exporter": "python",
   "pygments_lexer": "ipython3",
   "version": "3.11.11"
  }
 },
 "nbformat": 4,
 "nbformat_minor": 5
}
