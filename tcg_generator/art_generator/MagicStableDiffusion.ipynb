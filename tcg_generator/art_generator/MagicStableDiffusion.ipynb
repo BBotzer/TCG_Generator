{
 "cells": [
  {
   "cell_type": "code",
   "execution_count": 2,
   "id": "61596fae-b2b2-4a7a-b7ff-253694f1f0fd",
   "metadata": {},
   "outputs": [
    {
     "name": "stderr",
     "output_type": "stream",
     "text": [
      "C:\\Users\\jakec\\anaconda3\\envs\\Capstone\\Lib\\site-packages\\tqdm\\auto.py:21: TqdmWarning: IProgress not found. Please update jupyter and ipywidgets. See https://ipywidgets.readthedocs.io/en/stable/user_install.html\n",
      "  from .autonotebook import tqdm as notebook_tqdm\n",
      "Loading pipeline components...:   0%|          | 0/9 [00:00<?, ?it/s]\n",
      "Loading checkpoint shards:   0%|          | 0/2 [00:00<?, ?it/s]\u001b[A\n",
      "Loading checkpoint shards:  50%|█████     | 1/2 [00:04<00:04,  4.95s/it]\u001b[A\n",
      "Loading checkpoint shards: 100%|██████████| 2/2 [00:09<00:00,  4.69s/it]\u001b[A\n",
      "Loading pipeline components...:  33%|███▎      | 3/9 [00:11<00:18,  3.00s/it]You set `add_prefix_space`. The tokenizer needs to be converted from the slow tokenizers\n",
      "Loading pipeline components...: 100%|██████████| 9/9 [00:13<00:00,  1.51s/it]\n"
     ]
    }
   ],
   "source": [
    "# Also install huggingface_hub, pytorch, and sentencepiece\n",
    "\n",
    "import torch\n",
    "from diffusers import StableDiffusion3Pipeline\n",
    "\n",
    "pipe = StableDiffusion3Pipeline.from_pretrained(\"stabilityai/stable-diffusion-3.5-medium\", torch_dtype=torch.bfloat16)"
   ]
  },
  {
   "cell_type": "code",
   "execution_count": 4,
   "id": "7d61feba-345b-4211-bad1-4829c8af59e7",
   "metadata": {},
   "outputs": [
    {
     "name": "stderr",
     "output_type": "stream",
     "text": [
      "100%|██████████| 40/40 [24:04<00:00, 36.11s/it]\n"
     ]
    }
   ],
   "source": [
    "# If not using cuda, remove this line\n",
    "pipe = pipe.to(\"cuda\")\n",
    "\n",
    "image = pipe(\n",
    "    \"Magic the Gathering Card Black Lotus\",\n",
    "    num_inference_steps=40,\n",
    "    guidance_scale=4.5, \n",
    ").images[0]\n",
    "image.save(\"BlackLotus.png\")"
   ]
  },
  {
   "cell_type": "code",
   "execution_count": null,
   "id": "075b9978-6fb0-4262-ac93-8edca394afe8",
   "metadata": {},
   "outputs": [],
   "source": []
  }
 ],
 "metadata": {
  "kernelspec": {
   "display_name": "Python 3 (ipykernel)",
   "language": "python",
   "name": "python3"
  },
  "language_info": {
   "codemirror_mode": {
    "name": "ipython",
    "version": 3
   },
   "file_extension": ".py",
   "mimetype": "text/x-python",
   "name": "python",
   "nbconvert_exporter": "python",
   "pygments_lexer": "ipython3",
   "version": "3.11.11"
  }
 },
 "nbformat": 4,
 "nbformat_minor": 5
}
